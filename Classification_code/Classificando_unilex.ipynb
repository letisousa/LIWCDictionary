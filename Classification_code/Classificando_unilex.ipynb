{
 "cells": [
  {
   "cell_type": "code",
   "execution_count": 1,
   "metadata": {},
   "outputs": [
    {
     "name": "stderr",
     "output_type": "stream",
     "text": [
      "[nltk_data] Downloading package stopwords to\n",
      "[nltk_data]     C:\\Users\\ddayv\\AppData\\Roaming\\nltk_data...\n",
      "[nltk_data]   Package stopwords is already up-to-date!\n",
      "[nltk_data] Downloading package wordnet to\n",
      "[nltk_data]     C:\\Users\\ddayv\\AppData\\Roaming\\nltk_data...\n",
      "[nltk_data]   Package wordnet is already up-to-date!\n"
     ]
    },
    {
     "data": {
      "text/plain": [
       "True"
      ]
     },
     "execution_count": 1,
     "metadata": {},
     "output_type": "execute_result"
    }
   ],
   "source": [
    "import pandas as pd\n",
    "import numpy as np\n",
    "from sklearn.feature_extraction.text import CountVectorizer\n",
    "from sklearn.feature_extraction.text import TfidfTransformer\n",
    "from sklearn.naive_bayes import MultinomialNB\n",
    "from sklearn.model_selection import train_test_split\n",
    "from sklearn import metrics\n",
    "import seaborn as sns\n",
    "import re\n",
    "\n",
    "import tensorflow as tf\n",
    "from tensorflow.keras.layers.experimental.preprocessing import TextVectorization\n",
    "from nltk import word_tokenize, RegexpTokenizer\n",
    "from nltk.corpus import stopwords, wordnet\n",
    "from sklearn.preprocessing import OneHotEncoder\n",
    "import matplotlib.pyplot as plt\n",
    "import autokeras as ak\n",
    "\n",
    "import nltk\n",
    "nltk.download('stopwords')\n",
    "nltk.download('wordnet')"
   ]
  },
  {
   "cell_type": "code",
   "execution_count": 2,
   "metadata": {},
   "outputs": [
    {
     "data": {
      "text/plain": [
       "(12670, 2)"
      ]
     },
     "execution_count": 2,
     "metadata": {},
     "output_type": "execute_result"
    }
   ],
   "source": [
    "df = pd.read_excel('./rotulação/TweetsPolitical01 OK OK.xlsx')\n",
    "df2 = pd.read_excel('./rotulação/TweetsPolitical02 OK OK.xlsx')\n",
    "df3 = pd.read_excel('./rotulação/TweetsPolitical03 OK OK.xlsx')\n",
    "df4 = pd.read_excel('./rotulação/TweetsPolitical04 OK OK.xlsx')\n",
    "df5 = pd.read_excel('./rotulação/TweetsPolitical05 OK OK.xlsx')\n",
    "df6 = pd.read_excel('./rotulação/TweetsPolitical06 OK OK.xlsx')\n",
    "df7 = pd.read_excel('./rotulação/TweetsPolitical07 OK OK.xlsx')\n",
    "df8 = pd.read_excel('./rotulação/TweetsPolitical08 OK OK.xlsx')\n",
    "df9 = pd.read_excel('./rotulação/TweetsPolitical09 OK OK.xlsx')\n",
    "df10 = pd.read_excel('./rotulação/TweetsPolitical10 OK OK.xlsx')\n",
    "df11 = pd.read_excel('./rotulação/TweetsPolitical11 OK OK.xlsx')\n",
    "df12 = pd.read_excel('./rotulação/TweetsPolitical12 OK OK.xlsx')\n",
    "df13 = pd.read_excel('./rotulação/TweetsPolitical13 OK OK.xlsx')\n",
    "df14 = pd.read_excel('./rotulação/TweetsPolitical14 OK OK.xlsx')\n",
    "df15 = pd.read_excel('./rotulação/TweetsPolitical15 OK OK.xlsx')\n",
    "\n",
    "lista = [df,df2,df3,df4,df5,df6,df7,df8,df9,df10,df11,df12,df13,df14,df15]\n",
    "\n",
    "df_all = pd.concat(lista)\n",
    "df_all.shape"
   ]
  },
  {
   "cell_type": "code",
   "execution_count": 3,
   "metadata": {},
   "outputs": [
    {
     "data": {
      "text/html": [
       "<div>\n",
       "<style scoped>\n",
       "    .dataframe tbody tr th:only-of-type {\n",
       "        vertical-align: middle;\n",
       "    }\n",
       "\n",
       "    .dataframe tbody tr th {\n",
       "        vertical-align: top;\n",
       "    }\n",
       "\n",
       "    .dataframe thead th {\n",
       "        text-align: right;\n",
       "    }\n",
       "</style>\n",
       "<table border=\"1\" class=\"dataframe\">\n",
       "  <thead>\n",
       "    <tr style=\"text-align: right;\">\n",
       "      <th></th>\n",
       "      <th>Tweet</th>\n",
       "      <th>Polaridade</th>\n",
       "    </tr>\n",
       "  </thead>\n",
       "  <tbody>\n",
       "    <tr>\n",
       "      <th>0</th>\n",
       "      <td>- #CaoNossoDeCadaDia #Novo - Vanessa Mandotti ...</td>\n",
       "      <td>0.0</td>\n",
       "    </tr>\n",
       "    <tr>\n",
       "      <th>1</th>\n",
       "      <td>- Bola pra frente que amanhã é outro dia, outr...</td>\n",
       "      <td>1.0</td>\n",
       "    </tr>\n",
       "    <tr>\n",
       "      <th>2</th>\n",
       "      <td>- Cara de mal? Acho que não... Apenas um corte...</td>\n",
       "      <td>1.0</td>\n",
       "    </tr>\n",
       "    <tr>\n",
       "      <th>3</th>\n",
       "      <td>\" #PCdoB O PARTIDO QUE FAZ A DIFERENÇA: LEAL E...</td>\n",
       "      <td>1.0</td>\n",
       "    </tr>\n",
       "    <tr>\n",
       "      <th>4</th>\n",
       "      <td>\"@camaradamae: #PCdoB o Partido da coragem !  ...</td>\n",
       "      <td>1.0</td>\n",
       "    </tr>\n",
       "  </tbody>\n",
       "</table>\n",
       "</div>"
      ],
      "text/plain": [
       "                                               Tweet  Polaridade\n",
       "0  - #CaoNossoDeCadaDia #Novo - Vanessa Mandotti ...         0.0\n",
       "1  - Bola pra frente que amanhã é outro dia, outr...         1.0\n",
       "2  - Cara de mal? Acho que não... Apenas um corte...         1.0\n",
       "3  \" #PCdoB O PARTIDO QUE FAZ A DIFERENÇA: LEAL E...         1.0\n",
       "4  \"@camaradamae: #PCdoB o Partido da coragem !  ...         1.0"
      ]
     },
     "execution_count": 3,
     "metadata": {},
     "output_type": "execute_result"
    }
   ],
   "source": [
    "df_all.head()"
   ]
  },
  {
   "cell_type": "code",
   "execution_count": 4,
   "metadata": {},
   "outputs": [
    {
     "data": {
      "text/plain": [
       "Tweet         2\n",
       "Polaridade    2\n",
       "dtype: int64"
      ]
     },
     "execution_count": 4,
     "metadata": {},
     "output_type": "execute_result"
    }
   ],
   "source": [
    "df_all.isnull().sum()"
   ]
  },
  {
   "cell_type": "code",
   "execution_count": 5,
   "metadata": {},
   "outputs": [
    {
     "data": {
      "image/png": "[encoded data removed]",
      "text/plain": [
       "<Figure size 432x288 with 1 Axes>"
      ]
     },
     "metadata": {
      "needs_background": "light"
     },
     "output_type": "display_data"
    }
   ],
   "source": [
    "df_all = df_all.dropna()\n",
    "\n",
    "sns.countplot(data=df_all, x='Polaridade')\n",
    "plt.grid()"
   ]
  },
  {
   "cell_type": "code",
   "execution_count": 6,
   "metadata": {},
   "outputs": [
    {
     "data": {
      "text/html": [
       "<div>\n",
       "<style scoped>\n",
       "    .dataframe tbody tr th:only-of-type {\n",
       "        vertical-align: middle;\n",
       "    }\n",
       "\n",
       "    .dataframe tbody tr th {\n",
       "        vertical-align: top;\n",
       "    }\n",
       "\n",
       "    .dataframe thead th {\n",
       "        text-align: right;\n",
       "    }\n",
       "</style>\n",
       "<table border=\"1\" class=\"dataframe\">\n",
       "  <thead>\n",
       "    <tr style=\"text-align: right;\">\n",
       "      <th></th>\n",
       "      <th>index</th>\n",
       "      <th>Tweet</th>\n",
       "      <th>Polaridade</th>\n",
       "    </tr>\n",
       "  </thead>\n",
       "  <tbody>\n",
       "    <tr>\n",
       "      <th>0</th>\n",
       "      <td>0</td>\n",
       "      <td>- #CaoNossoDeCadaDia #Novo - Vanessa Mandotti ...</td>\n",
       "      <td>0.0</td>\n",
       "    </tr>\n",
       "    <tr>\n",
       "      <th>1</th>\n",
       "      <td>1</td>\n",
       "      <td>- Bola pra frente que amanhã é outro dia, outr...</td>\n",
       "      <td>1.0</td>\n",
       "    </tr>\n",
       "    <tr>\n",
       "      <th>2</th>\n",
       "      <td>2</td>\n",
       "      <td>- Cara de mal? Acho que não... Apenas um corte...</td>\n",
       "      <td>1.0</td>\n",
       "    </tr>\n",
       "    <tr>\n",
       "      <th>3</th>\n",
       "      <td>3</td>\n",
       "      <td>\" #PCdoB O PARTIDO QUE FAZ A DIFERENÇA: LEAL E...</td>\n",
       "      <td>1.0</td>\n",
       "    </tr>\n",
       "    <tr>\n",
       "      <th>4</th>\n",
       "      <td>4</td>\n",
       "      <td>\"@camaradamae: #PCdoB o Partido da coragem !  ...</td>\n",
       "      <td>1.0</td>\n",
       "    </tr>\n",
       "    <tr>\n",
       "      <th>...</th>\n",
       "      <td>...</td>\n",
       "      <td>...</td>\n",
       "      <td>...</td>\n",
       "    </tr>\n",
       "    <tr>\n",
       "      <th>12663</th>\n",
       "      <td>78</td>\n",
       "      <td>Bom diaa  #SD Moisés Sou Boina Preta e Não Tem...</td>\n",
       "      <td>1.0</td>\n",
       "    </tr>\n",
       "    <tr>\n",
       "      <th>12664</th>\n",
       "      <td>79</td>\n",
       "      <td>Sei que leve por divisa esse \"V\" que simboliza...</td>\n",
       "      <td>1.0</td>\n",
       "    </tr>\n",
       "    <tr>\n",
       "      <th>12665</th>\n",
       "      <td>80</td>\n",
       "      <td>L'ambiance d'hier au stade c'est grace ao Maca...</td>\n",
       "      <td>1.0</td>\n",
       "    </tr>\n",
       "    <tr>\n",
       "      <th>12666</th>\n",
       "      <td>81</td>\n",
       "      <td>Mais tarde tem mais SD no Chopp E Cia...hoje é...</td>\n",
       "      <td>1.0</td>\n",
       "    </tr>\n",
       "    <tr>\n",
       "      <th>12667</th>\n",
       "      <td>82</td>\n",
       "      <td>Obrigado por tudo Mister Luis Castro,boa sorte...</td>\n",
       "      <td>1.0</td>\n",
       "    </tr>\n",
       "  </tbody>\n",
       "</table>\n",
       "<p>12668 rows × 3 columns</p>\n",
       "</div>"
      ],
      "text/plain": [
       "       index                                              Tweet  Polaridade\n",
       "0          0  - #CaoNossoDeCadaDia #Novo - Vanessa Mandotti ...         0.0\n",
       "1          1  - Bola pra frente que amanhã é outro dia, outr...         1.0\n",
       "2          2  - Cara de mal? Acho que não... Apenas um corte...         1.0\n",
       "3          3  \" #PCdoB O PARTIDO QUE FAZ A DIFERENÇA: LEAL E...         1.0\n",
       "4          4  \"@camaradamae: #PCdoB o Partido da coragem !  ...         1.0\n",
       "...      ...                                                ...         ...\n",
       "12663     78  Bom diaa  #SD Moisés Sou Boina Preta e Não Tem...         1.0\n",
       "12664     79  Sei que leve por divisa esse \"V\" que simboliza...         1.0\n",
       "12665     80  L'ambiance d'hier au stade c'est grace ao Maca...         1.0\n",
       "12666     81  Mais tarde tem mais SD no Chopp E Cia...hoje é...         1.0\n",
       "12667     82  Obrigado por tudo Mister Luis Castro,boa sorte...         1.0\n",
       "\n",
       "[12668 rows x 3 columns]"
      ]
     },
     "execution_count": 6,
     "metadata": {},
     "output_type": "execute_result"
    }
   ],
   "source": [
    "df_all = df_all.reset_index()\n",
    "df_all"
   ]
  },
  {
   "cell_type": "code",
   "execution_count": 7,
   "metadata": {},
   "outputs": [
    {
     "data": {
      "text/plain": [
       "array([ 0.,  1., -1.])"
      ]
     },
     "execution_count": 7,
     "metadata": {},
     "output_type": "execute_result"
    }
   ],
   "source": [
    "df_all = df_all.drop(columns=['index'])\n",
    "df_all.drop(df_all[df_all['Polaridade'] == 11].index, inplace=True)\n",
    "df_all.drop(df_all[df_all['Polaridade'] == -2].index, inplace=True)\n",
    "df_all.drop(df_all[df_all['Polaridade'] == 10].index, inplace=True)\n",
    "\n",
    "df_all['Polaridade'].unique()"
   ]
  },
  {
   "cell_type": "code",
   "execution_count": 8,
   "metadata": {},
   "outputs": [
    {
     "data": {
      "text/plain": [
       "array([-1.,  0.,  1.])"
      ]
     },
     "execution_count": 8,
     "metadata": {},
     "output_type": "execute_result"
    }
   ],
   "source": [
    "Tweet = df_all['Tweet']\n",
    "polarity = np.asarray(df_all['Polaridade'])\n",
    "\n",
    "np.unique(polarity)"
   ]
  },
  {
   "cell_type": "code",
   "execution_count": 9,
   "metadata": {},
   "outputs": [
    {
     "data": {
      "text/plain": [
       "(12665, 24464)"
      ]
     },
     "execution_count": 9,
     "metadata": {},
     "output_type": "execute_result"
    }
   ],
   "source": [
    "count_vect = CountVectorizer()\n",
    "X_train = count_vect.fit_transform(Tweet)\n",
    "\n",
    "tfidf_transformer = TfidfTransformer()\n",
    "X_train_transform = tfidf_transformer.fit_transform(X_train) # Aplicando o TF-IDF\n",
    "X_train_transform.shape"
   ]
  },
  {
   "cell_type": "code",
   "execution_count": 10,
   "metadata": {},
   "outputs": [
    {
     "name": "stdout",
     "output_type": "stream",
     "text": [
      "              precision    recall  f1-score   support\n",
      "\n",
      "        -1.0       0.54      0.85      0.66      1224\n",
      "         0.0       0.69      0.64      0.67      1422\n",
      "         1.0       0.70      0.33      0.45      1154\n",
      "\n",
      "    accuracy                           0.62      3800\n",
      "   macro avg       0.64      0.61      0.59      3800\n",
      "weighted avg       0.64      0.62      0.60      3800\n",
      "\n"
     ]
    }
   ],
   "source": [
    "X_train, X_test, Y_train, Y_test = train_test_split(X_train_transform, polarity, test_size=0.3)\n",
    "\n",
    "clf = MultinomialNB().fit(X_train, Y_train) # Aplicando naive bayes\n",
    "predicted = clf.predict(X_test)\n",
    "\n",
    "print(metrics.classification_report(Y_test, predicted))"
   ]
  },
  {
   "cell_type": "code",
   "execution_count": 9,
   "metadata": {},
   "outputs": [],
   "source": [
    "def pre_X(frases):\n",
    "    lista = []\n",
    "    \n",
    "    for frase in frases:\n",
    "        lista.append(frase)\n",
    "        \n",
    "    return lista\n",
    "\n",
    "def pre_Y(number):\n",
    "    lista = []\n",
    "    \n",
    "    for numb in number:\n",
    "        lista.append(numb)\n",
    "    \n",
    "    return lista\n"
   ]
  },
  {
   "cell_type": "code",
   "execution_count": 10,
   "metadata": {},
   "outputs": [],
   "source": [
    "def set_array(frases):\n",
    "    \n",
    "    vocab = []\n",
    "    palavras = []\n",
    "    for frase in frases:\n",
    "        \n",
    "        text_array = remove_user(frase)\n",
    "        text_array = Tokenize(text_array)\n",
    "        text_array = text_array.split(' ')\n",
    "        for i in range(len(text_array)):\n",
    "            vocab.append(text_array[i])\n",
    "    \n",
    "    \n",
    "        \n",
    "    return vocab\n",
    "\n",
    "def Tokenize(f):     ## Pre-processando a frase\n",
    "    \n",
    "    ## Colocando em minusculo\n",
    "    ## Retirando a pontuaçao\n",
    "    ## Retirando as StopWords\n",
    "    \n",
    "    f = f.lower().replace('\\n', '').replace('-','').replace('#','').replace('.','').replace(',','').replace('!','').replace('r\\n','').replace('  ','')\n",
    "    token = RegexpTokenizer(r\"\\w+\")\n",
    "    f = token.tokenize(f)\n",
    "    \n",
    "    stop_words = set(stopwords.words('portuguese'))\n",
    "    \n",
    "    new_word = [word for word in f if not word in stop_words]\n",
    "    \n",
    "    return ' '.join(new_word)\n",
    "\n",
    "def remove_user(frase):\n",
    "\n",
    "    return re.sub('@\\w+','',frase)"
   ]
  },
  {
   "cell_type": "code",
   "execution_count": 46,
   "metadata": {},
   "outputs": [],
   "source": [
    "model = tf.keras.Sequential([\n",
    "    tf.keras.layers.Dense(50, activation='relu'),\n",
    "    tf.keras.layers.Dropout(0.3),\n",
    "    tf.keras.layers.Dense(25, activation='relu'),\n",
    "    tf.keras.layers.Dropout(0.3),\n",
    "    tf.keras.layers.Dense(10, activation='tanh'),\n",
    "    tf.keras.layers.Dropout(0.2),\n",
    "    tf.keras.layers.Dense(3 , activation='softmax')\n",
    "])\n",
    "\n",
    "model.compile(\n",
    "    optimizer='adam',\n",
    "    loss=tf.keras.losses.categorical_crossentropy,\n",
    "    metrics=['accuracy']\n",
    ")"
   ]
  },
  {
   "cell_type": "code",
   "execution_count": 16,
   "metadata": {},
   "outputs": [],
   "source": [
    "Tweet = Tweet.apply(remove_user)\n",
    "Tweet_preprocessed = Tweet.apply(Tokenize)\n"
   ]
  },
  {
   "cell_type": "code",
   "execution_count": 47,
   "metadata": {},
   "outputs": [
    {
     "data": {
      "text/plain": [
       "<8865x25943 sparse matrix of type '<class 'numpy.float64'>'\n",
       "\twith 78721 stored elements in Compressed Sparse Row format>"
      ]
     },
     "execution_count": 47,
     "metadata": {},
     "output_type": "execute_result"
    }
   ],
   "source": [
    "count_vect = CountVectorizer()\n",
    "X_train = count_vect.fit_transform(Tweet_preprocessed)\n",
    "\n",
    "tfidf_transformer = TfidfTransformer()\n",
    "X_train_transform = tfidf_transformer.fit_transform(X_train) # Aplicando o TF-IDF\n",
    "\n",
    "\n",
    "X_train, X_test, Y_train, Y_test = train_test_split(X_train_transform, polarity, test_size=0.3)\n",
    "\n",
    "X_train"
   ]
  },
  {
   "cell_type": "code",
   "execution_count": 48,
   "metadata": {},
   "outputs": [
    {
     "data": {
      "text/plain": [
       "<3800x25943 sparse matrix of type '<class 'numpy.float64'>'\n",
       "\twith 33075 stored elements in Compressed Sparse Row format>"
      ]
     },
     "execution_count": 48,
     "metadata": {},
     "output_type": "execute_result"
    }
   ],
   "source": [
    "X_test"
   ]
  },
  {
   "cell_type": "code",
   "execution_count": 11,
   "metadata": {},
   "outputs": [],
   "source": [
    "one = OneHotEncoder(sparse=False)"
   ]
  },
  {
   "cell_type": "code",
   "execution_count": 49,
   "metadata": {},
   "outputs": [],
   "source": [
    "y_one = one.fit_transform(Y_train.reshape(-1,1))"
   ]
  },
  {
   "cell_type": "code",
   "execution_count": 50,
   "metadata": {},
   "outputs": [
    {
     "name": "stdout",
     "output_type": "stream",
     "text": [
      "Epoch 1/25\n",
      "278/278 [==============================] - 3s 11ms/step - loss: 1.0208 - accuracy: 0.4858 - val_loss: 0.8872 - val_accuracy: 0.5950\n",
      "Epoch 2/25\n",
      "278/278 [==============================] - 3s 9ms/step - loss: 0.6639 - accuracy: 0.7446 - val_loss: 0.8543 - val_accuracy: 0.6261\n",
      "Epoch 3/25\n",
      "278/278 [==============================] - 2s 9ms/step - loss: 0.3162 - accuracy: 0.8981 - val_loss: 1.0395 - val_accuracy: 0.6176\n",
      "Epoch 4/25\n",
      "278/278 [==============================] - 2s 9ms/step - loss: 0.1622 - accuracy: 0.9543 - val_loss: 1.2079 - val_accuracy: 0.6155\n",
      "Epoch 5/25\n",
      "278/278 [==============================] - 2s 9ms/step - loss: 0.1072 - accuracy: 0.9699 - val_loss: 1.3915 - val_accuracy: 0.6105\n",
      "Epoch 6/25\n",
      "278/278 [==============================] - 3s 9ms/step - loss: 0.0737 - accuracy: 0.9821 - val_loss: 1.5257 - val_accuracy: 0.6100\n",
      "Epoch 7/25\n",
      "278/278 [==============================] - 2s 9ms/step - loss: 0.0536 - accuracy: 0.9859 - val_loss: 1.6626 - val_accuracy: 0.6068\n",
      "Epoch 8/25\n",
      "278/278 [==============================] - 3s 9ms/step - loss: 0.0462 - accuracy: 0.9879 - val_loss: 1.7810 - val_accuracy: 0.6047\n",
      "Epoch 9/25\n",
      "278/278 [==============================] - 2s 9ms/step - loss: 0.0413 - accuracy: 0.9874 - val_loss: 1.8082 - val_accuracy: 0.6034\n",
      "Epoch 10/25\n",
      "278/278 [==============================] - 3s 9ms/step - loss: 0.0382 - accuracy: 0.9892 - val_loss: 1.8453 - val_accuracy: 0.6039\n",
      "Epoch 11/25\n",
      "278/278 [==============================] - 3s 9ms/step - loss: 0.0385 - accuracy: 0.9902 - val_loss: 1.8735 - val_accuracy: 0.6026\n",
      "Epoch 12/25\n",
      "278/278 [==============================] - 2s 9ms/step - loss: 0.0353 - accuracy: 0.9909 - val_loss: 1.9473 - val_accuracy: 0.6061\n",
      "Epoch 13/25\n",
      "278/278 [==============================] - 2s 9ms/step - loss: 0.0338 - accuracy: 0.9912 - val_loss: 2.0129 - val_accuracy: 0.5961\n",
      "Epoch 14/25\n",
      "278/278 [==============================] - 3s 10ms/step - loss: 0.0281 - accuracy: 0.9923 - val_loss: 2.1282 - val_accuracy: 0.6026\n",
      "Epoch 15/25\n",
      "278/278 [==============================] - 3s 9ms/step - loss: 0.0278 - accuracy: 0.9924 - val_loss: 2.1218 - val_accuracy: 0.5950\n",
      "Epoch 16/25\n",
      "278/278 [==============================] - 2s 9ms/step - loss: 0.0221 - accuracy: 0.9936 - val_loss: 2.1615 - val_accuracy: 0.5974\n",
      "Epoch 17/25\n",
      "278/278 [==============================] - 3s 9ms/step - loss: 0.0225 - accuracy: 0.9939 - val_loss: 2.2141 - val_accuracy: 0.6058\n",
      "Epoch 18/25\n",
      "278/278 [==============================] - 3s 9ms/step - loss: 0.0212 - accuracy: 0.9937 - val_loss: 2.2362 - val_accuracy: 0.5958\n",
      "Epoch 19/25\n",
      "278/278 [==============================] - 3s 9ms/step - loss: 0.0236 - accuracy: 0.9939 - val_loss: 2.2218 - val_accuracy: 0.5992\n",
      "Epoch 20/25\n",
      "278/278 [==============================] - 3s 9ms/step - loss: 0.0220 - accuracy: 0.9938 - val_loss: 2.2016 - val_accuracy: 0.5997\n",
      "Epoch 21/25\n",
      "278/278 [==============================] - 3s 10ms/step - loss: 0.0228 - accuracy: 0.9930 - val_loss: 2.2174 - val_accuracy: 0.5966\n",
      "Epoch 22/25\n",
      "278/278 [==============================] - 4s 13ms/step - loss: 0.0213 - accuracy: 0.9944 - val_loss: 2.2112 - val_accuracy: 0.5987\n",
      "Epoch 23/25\n",
      "278/278 [==============================] - 3s 12ms/step - loss: 0.0193 - accuracy: 0.9941 - val_loss: 2.2889 - val_accuracy: 0.5926\n",
      "Epoch 24/25\n",
      "278/278 [==============================] - 3s 9ms/step - loss: 0.0186 - accuracy: 0.9945 - val_loss: 2.3669 - val_accuracy: 0.5976\n",
      "Epoch 25/25\n",
      "278/278 [==============================] - 3s 9ms/step - loss: 0.0188 - accuracy: 0.9946 - val_loss: 2.3288 - val_accuracy: 0.5987\n"
     ]
    }
   ],
   "source": [
    "fit = model.fit(X_train.todense(), y_one, epochs=25, validation_data=(X_test.todense(), one.transform(Y_test.reshape(-1,1))))"
   ]
  },
  {
   "cell_type": "code",
   "execution_count": 51,
   "metadata": {
    "scrolled": false
   },
   "outputs": [
    {
     "data": {
      "image/png": "[encoded data removed]",
      "text/plain": [
       "<Figure size 864x432 with 1 Axes>"
      ]
     },
     "metadata": {
      "needs_background": "light"
     },
     "output_type": "display_data"
    }
   ],
   "source": [
    "plt.figure(figsize=(12,6))\n",
    "plt.plot(fit.history['loss'], label='Loss', color='darkred')\n",
    "plt.plot(fit.history['val_loss'], label='Val Loss', color='green')\n",
    "plt.legend()\n",
    "plt.grid()\n",
    "plt.ylabel('Loss')\n",
    "plt.show()"
   ]
  },
  {
   "cell_type": "code",
   "execution_count": 52,
   "metadata": {},
   "outputs": [
    {
     "data": {
      "image/png": "[encoded data removed]",
      "text/plain": [
       "<Figure size 864x432 with 1 Axes>"
      ]
     },
     "metadata": {
      "needs_background": "light"
     },
     "output_type": "display_data"
    }
   ],
   "source": [
    "plt.figure(figsize=(12,6))\n",
    "plt.plot(fit.history['accuracy'], label='accuracy', color='darkred')\n",
    "plt.plot(fit.history['val_accuracy'], label='Val accuracy', color='green')\n",
    "plt.legend()\n",
    "plt.grid()\n",
    "plt.ylabel('Accuracy')\n",
    "plt.show()"
   ]
  },
  {
   "cell_type": "code",
   "execution_count": 53,
   "metadata": {},
   "outputs": [
    {
     "name": "stdout",
     "output_type": "stream",
     "text": [
      "119/119 [==============================] - 1s 5ms/step - loss: 2.3288 - accuracy: 0.5987\n"
     ]
    }
   ],
   "source": [
    "acc = model.evaluate(X_test.todense(), one.transform(Y_test.reshape(-1,1)))"
   ]
  },
  {
   "cell_type": "code",
   "execution_count": 12,
   "metadata": {},
   "outputs": [
    {
     "data": {
      "text/plain": [
       "15000"
      ]
     },
     "execution_count": 12,
     "metadata": {},
     "output_type": "execute_result"
    }
   ],
   "source": [
    "vectorize_layer = TextVectorization(\n",
    " max_tokens=15000,\n",
    " output_mode='int',\n",
    " output_sequence_length=len(max(df_all['Tweet'])))\n",
    "\n",
    "vocab = set_array(df_all['Tweet'])\n",
    "\n",
    "vectorize_layer.adapt(np.unique(vocab))\n",
    "len(vectorize_layer.get_vocabulary())\n"
   ]
  },
  {
   "cell_type": "code",
   "execution_count": 13,
   "metadata": {},
   "outputs": [],
   "source": [
    "model = tf.keras.Sequential([\n",
    "    vectorize_layer,\n",
    "    tf.keras.layers.Embedding(\n",
    "        input_dim=len(vectorize_layer.get_vocabulary()),\n",
    "        output_dim=64,mask_zero=True),\n",
    "    \n",
    "    tf.keras.layers.LSTM(50, activation='relu' ,return_sequences=True),\n",
    "    tf.keras.layers.Dropout(0.3),\n",
    "    \n",
    "    tf.keras.layers.LSTM(20 , activation='relu', return_sequences=True),\n",
    "    tf.keras.layers.Dropout(0.2),\n",
    "    \n",
    "    tf.keras.layers.LSTM(20 , activation='relu', return_sequences=True),\n",
    "    tf.keras.layers.Dropout(0.2),\n",
    "    \n",
    "    tf.keras.layers.LSTM(10 , activation='tanh', return_sequences=True),\n",
    "    \n",
    "    tf.keras.layers.LSTM(10 , activation='tanh', return_sequences=True),\n",
    "    \n",
    "    tf.keras.layers.LSTM(10 , activation='tanh'),\n",
    "    \n",
    "    tf.keras.layers.Dense(3, activation='softmax')\n",
    "])\n",
    "\n",
    "\n",
    "model.compile(\n",
    "    optimizer= tf.keras.optimizers.Adam(),\n",
    "    loss=tf.keras.losses.categorical_crossentropy,\n",
    "    metrics=['accuracy']\n",
    ")"
   ]
  },
  {
   "cell_type": "code",
   "execution_count": 17,
   "metadata": {},
   "outputs": [],
   "source": [
    "X_train, X_test, Y_train, Y_test = train_test_split(Tweet_preprocessed, polarity, test_size=0.3)"
   ]
  },
  {
   "cell_type": "code",
   "execution_count": 18,
   "metadata": {},
   "outputs": [
    {
     "data": {
      "text/plain": [
       "(8865,)"
      ]
     },
     "execution_count": 18,
     "metadata": {},
     "output_type": "execute_result"
    }
   ],
   "source": [
    "X_train.shape"
   ]
  },
  {
   "cell_type": "code",
   "execution_count": 19,
   "metadata": {},
   "outputs": [],
   "source": [
    "y_one = one.fit_transform(Y_train.reshape(-1,1))"
   ]
  },
  {
   "cell_type": "code",
   "execution_count": 20,
   "metadata": {},
   "outputs": [
    {
     "name": "stdout",
     "output_type": "stream",
     "text": [
      "Epoch 1/20\n",
      "70/70 [==============================] - 31s 447ms/step - loss: 1.0953 - accuracy: 0.3834 - val_loss: 1.0923 - val_accuracy: 0.4121\n",
      "Epoch 2/20\n",
      "70/70 [==============================] - 24s 345ms/step - loss: 1.0518 - accuracy: 0.4642 - val_loss: 1.0377 - val_accuracy: 0.4839\n",
      "Epoch 3/20\n",
      "70/70 [==============================] - 24s 344ms/step - loss: 0.9332 - accuracy: 0.5612 - val_loss: 1.0429 - val_accuracy: 0.4942\n",
      "Epoch 4/20\n",
      "70/70 [==============================] - 24s 344ms/step - loss: 0.8219 - accuracy: 0.6340 - val_loss: 1.0706 - val_accuracy: 0.4916\n",
      "Epoch 5/20\n",
      "70/70 [==============================] - 25s 356ms/step - loss: 0.7320 - accuracy: 0.6924 - val_loss: 1.1721 - val_accuracy: 0.4813\n",
      "Epoch 6/20\n",
      "70/70 [==============================] - 24s 348ms/step - loss: 0.6489 - accuracy: 0.7440 - val_loss: 1.2048 - val_accuracy: 0.4947\n",
      "Epoch 7/20\n",
      "70/70 [==============================] - 23s 322ms/step - loss: 0.5848 - accuracy: 0.7765 - val_loss: 1.2556 - val_accuracy: 0.5145\n",
      "Epoch 8/20\n",
      "70/70 [==============================] - 23s 323ms/step - loss: 0.5323 - accuracy: 0.8083 - val_loss: 1.3049 - val_accuracy: 0.5126\n",
      "Epoch 9/20\n",
      "70/70 [==============================] - 22s 308ms/step - loss: 0.5009 - accuracy: 0.8209 - val_loss: 1.3085 - val_accuracy: 0.5232\n",
      "Epoch 10/20\n",
      "70/70 [==============================] - 21s 307ms/step - loss: 0.4696 - accuracy: 0.8349 - val_loss: 1.3305 - val_accuracy: 0.5179\n",
      "Epoch 11/20\n",
      "70/70 [==============================] - 21s 302ms/step - loss: 0.4301 - accuracy: 0.8537 - val_loss: 1.3710 - val_accuracy: 0.5232\n",
      "Epoch 12/20\n",
      "70/70 [==============================] - 21s 305ms/step - loss: 0.3933 - accuracy: 0.8653 - val_loss: 1.4164 - val_accuracy: 0.5263\n",
      "Epoch 13/20\n",
      "70/70 [==============================] - 29s 411ms/step - loss: 0.3697 - accuracy: 0.8755 - val_loss: 1.4125 - val_accuracy: 0.5268\n",
      "Epoch 14/20\n",
      "70/70 [==============================] - 30s 422ms/step - loss: 0.3460 - accuracy: 0.8827 - val_loss: 1.4292 - val_accuracy: 0.5284\n",
      "Epoch 15/20\n",
      "70/70 [==============================] - 37s 532ms/step - loss: 0.3280 - accuracy: 0.8864 - val_loss: 1.4627 - val_accuracy: 0.5218\n",
      "Epoch 16/20\n",
      "70/70 [==============================] - 22s 308ms/step - loss: 0.3228 - accuracy: 0.8907 - val_loss: 1.5034 - val_accuracy: 0.5289\n",
      "Epoch 17/20\n",
      "70/70 [==============================] - 21s 304ms/step - loss: 0.3031 - accuracy: 0.8948 - val_loss: 1.4881 - val_accuracy: 0.5311\n",
      "Epoch 18/20\n",
      "70/70 [==============================] - 21s 298ms/step - loss: 0.2933 - accuracy: 0.8966 - val_loss: 1.5423 - val_accuracy: 0.5361\n",
      "Epoch 19/20\n",
      "70/70 [==============================] - 23s 329ms/step - loss: 0.2972 - accuracy: 0.8937 - val_loss: 1.5804 - val_accuracy: 0.5324\n",
      "Epoch 20/20\n",
      "70/70 [==============================] - 21s 305ms/step - loss: 0.2888 - accuracy: 0.8994 - val_loss: 1.5708 - val_accuracy: 0.5303\n"
     ]
    }
   ],
   "source": [
    "fit = model.fit(np.asarray(pre_X(X_train)), y_one, epochs=20, batch_size=128 ,validation_data=(np.asarray(pre_X(X_test)), one.transform(Y_test.reshape(-1,1))))"
   ]
  },
  {
   "cell_type": "code",
   "execution_count": 21,
   "metadata": {},
   "outputs": [
    {
     "data": {
      "image/png": "[encoded data removed]",
      "text/plain": [
       "<Figure size 864x432 with 1 Axes>"
      ]
     },
     "metadata": {
      "needs_background": "light"
     },
     "output_type": "display_data"
    }
   ],
   "source": [
    "plt.figure(figsize=(12,6))\n",
    "plt.plot(fit.history['loss'], label='Loss', color='darkred')\n",
    "plt.plot(fit.history['val_loss'], label='Val Loss', color='green')\n",
    "plt.legend()\n",
    "plt.grid()\n",
    "plt.ylabel('Loss')\n",
    "plt.show()"
   ]
  },
  {
   "cell_type": "code",
   "execution_count": 22,
   "metadata": {},
   "outputs": [
    {
     "data": {
      "image/png": "[encoded data removed]",
      "text/plain": [
       "<Figure size 864x432 with 1 Axes>"
      ]
     },
     "metadata": {
      "needs_background": "light"
     },
     "output_type": "display_data"
    }
   ],
   "source": [
    "plt.figure(figsize=(12,6))\n",
    "plt.plot(fit.history['accuracy'], label='accuracy', color='darkred')\n",
    "plt.plot(fit.history['val_accuracy'], label='Val accuracy', color='green')\n",
    "plt.legend()\n",
    "plt.grid()\n",
    "plt.ylabel('Accuracy')\n",
    "plt.show()"
   ]
  },
  {
   "cell_type": "code",
   "execution_count": 23,
   "metadata": {},
   "outputs": [
    {
     "name": "stdout",
     "output_type": "stream",
     "text": [
      "119/119 [==============================] - 5s 39ms/step - loss: 1.5708 - accuracy: 0.5303\n"
     ]
    }
   ],
   "source": [
    "acc = model.evaluate(np.asarray(pre_X(X_test)), one.transform(Y_test.reshape(-1,1)))"
   ]
  },
  {
   "cell_type": "markdown",
   "metadata": {},
   "source": [
    "## BDR"
   ]
  },
  {
   "cell_type": "code",
   "execution_count": 25,
   "metadata": {},
   "outputs": [],
   "source": [
    "model = tf.keras.Sequential([\n",
    "    vectorize_layer,\n",
    "    tf.keras.layers.Embedding(\n",
    "        input_dim=len(vectorize_layer.get_vocabulary()),\n",
    "        output_dim=64,\n",
    "        mask_zero=True),\n",
    "    \n",
    "    tf.keras.layers.Bidirectional(tf.keras.layers.LSTM(64)),\n",
    "    \n",
    "    tf.keras.layers.Dense(16, activation='relu'),\n",
    "    tf.keras.layers.Dense(3, activation='softmax')\n",
    "])\n",
    "\n",
    "model.compile(\n",
    "    optimizer= tf.keras.optimizers.Adam(),\n",
    "    loss=tf.keras.losses.categorical_crossentropy,\n",
    "    metrics=['accuracy']\n",
    ")\n",
    "\n",
    "X_train, X_test, Y_train, Y_test = train_test_split(Tweet_preprocessed, polarity, test_size=0.3)\n",
    "y_one = one.fit_transform(Y_train.reshape(-1,1))"
   ]
  },
  {
   "cell_type": "code",
   "execution_count": 26,
   "metadata": {},
   "outputs": [
    {
     "name": "stdout",
     "output_type": "stream",
     "text": [
      "Epoch 1/10\n",
      "70/70 [==============================] - 17s 243ms/step - loss: 1.0589 - accuracy: 0.4538 - val_loss: 0.9810 - val_accuracy: 0.5229\n",
      "Epoch 2/10\n",
      "70/70 [==============================] - 16s 223ms/step - loss: 0.8266 - accuracy: 0.6259 - val_loss: 0.9349 - val_accuracy: 0.5779\n",
      "Epoch 3/10\n",
      "70/70 [==============================] - 16s 226ms/step - loss: 0.5535 - accuracy: 0.7894 - val_loss: 1.0263 - val_accuracy: 0.5671\n",
      "Epoch 4/10\n",
      "70/70 [==============================] - 16s 231ms/step - loss: 0.3464 - accuracy: 0.8769 - val_loss: 1.2646 - val_accuracy: 0.5582\n",
      "Epoch 5/10\n",
      "70/70 [==============================] - 17s 236ms/step - loss: 0.2443 - accuracy: 0.9144 - val_loss: 1.3851 - val_accuracy: 0.5566\n",
      "Epoch 6/10\n",
      "70/70 [==============================] - 15s 220ms/step - loss: 0.1885 - accuracy: 0.9311 - val_loss: 1.5831 - val_accuracy: 0.5500\n",
      "Epoch 7/10\n",
      "70/70 [==============================] - 16s 235ms/step - loss: 0.1598 - accuracy: 0.9442 - val_loss: 1.6876 - val_accuracy: 0.5445\n",
      "Epoch 8/10\n",
      "70/70 [==============================] - 15s 216ms/step - loss: 0.1383 - accuracy: 0.9497 - val_loss: 1.8215 - val_accuracy: 0.5434\n",
      "Epoch 9/10\n",
      "70/70 [==============================] - 17s 242ms/step - loss: 0.1217 - accuracy: 0.9561 - val_loss: 2.0182 - val_accuracy: 0.5405\n",
      "Epoch 10/10\n",
      "70/70 [==============================] - 17s 246ms/step - loss: 0.1209 - accuracy: 0.9559 - val_loss: 2.0000 - val_accuracy: 0.5345\n"
     ]
    }
   ],
   "source": [
    "fit = model.fit(np.asarray(pre_X(X_train)), y_one, epochs=10, batch_size=128 ,validation_data=(np.asarray(pre_X(X_test)), one.transform(Y_test.reshape(-1,1))))"
   ]
  },
  {
   "cell_type": "code",
   "execution_count": 27,
   "metadata": {},
   "outputs": [
    {
     "data": {
      "image/png": "[encoded data removed]",
      "text/plain": [
       "<Figure size 864x432 with 1 Axes>"
      ]
     },
     "metadata": {
      "needs_background": "light"
     },
     "output_type": "display_data"
    }
   ],
   "source": [
    "plt.figure(figsize=(12,6))\n",
    "plt.plot(fit.history['loss'], label='Loss', color='darkred')\n",
    "plt.plot(fit.history['val_loss'], label='Val Loss', color='green')\n",
    "plt.legend()\n",
    "plt.grid()\n",
    "plt.ylabel('Loss')\n",
    "plt.show()"
   ]
  },
  {
   "cell_type": "code",
   "execution_count": 28,
   "metadata": {},
   "outputs": [
    {
     "data": {
      "image/png": "[encoded data removed]",
      "text/plain": [
       "<Figure size 864x432 with 1 Axes>"
      ]
     },
     "metadata": {
      "needs_background": "light"
     },
     "output_type": "display_data"
    }
   ],
   "source": [
    "plt.figure(figsize=(12,6))\n",
    "plt.plot(fit.history['accuracy'], label='accuracy', color='darkred')\n",
    "plt.plot(fit.history['val_accuracy'], label='Val accuracy', color='green')\n",
    "plt.legend()\n",
    "plt.grid()\n",
    "plt.ylabel('Accuracy')\n",
    "plt.show()"
   ]
  },
  {
   "cell_type": "markdown",
   "metadata": {},
   "source": [
    "## Conv 1D"
   ]
  },
  {
   "cell_type": "code",
   "execution_count": 22,
   "metadata": {},
   "outputs": [],
   "source": [
    "model = tf.keras.Sequential([\n",
    "    vectorize_layer,\n",
    "    tf.keras.layers.Embedding(\n",
    "        input_dim=len(vectorize_layer.get_vocabulary()),\n",
    "        output_dim=64,\n",
    "        mask_zero=True),\n",
    "    \n",
    "    tf.keras.layers.Conv1D(24,6, activation='relu'),\n",
    "    tf.keras.layers.MaxPooling1D(2),\n",
    "    tf.keras.layers.Flatten(),\n",
    "    \n",
    "    tf.keras.layers.Dense(20, activation='relu'),\n",
    "    tf.keras.layers.Dense(3, activation='softmax')   \n",
    "])\n",
    "\n",
    "model.compile(\n",
    "    optimizer= tf.keras.optimizers.Adam(),\n",
    "    loss=tf.keras.losses.categorical_crossentropy,\n",
    "    metrics=['accuracy']\n",
    ")\n",
    "\n",
    "X_train, X_test, Y_train, Y_test = train_test_split(Tweet_preprocessed, polarity, test_size=0.3)\n",
    "y_one = one.fit_transform(Y_train.reshape(-1,1))"
   ]
  },
  {
   "cell_type": "code",
   "execution_count": 23,
   "metadata": {},
   "outputs": [
    {
     "name": "stdout",
     "output_type": "stream",
     "text": [
      "Epoch 1/15\n",
      "35/35 [==============================] - 2s 48ms/step - loss: 1.0881 - accuracy: 0.3968 - val_loss: 1.0676 - val_accuracy: 0.4358\n",
      "Epoch 2/15\n",
      "35/35 [==============================] - 2s 46ms/step - loss: 1.0188 - accuracy: 0.4929 - val_loss: 0.9864 - val_accuracy: 0.5171\n",
      "Epoch 3/15\n",
      "35/35 [==============================] - 2s 46ms/step - loss: 0.8680 - accuracy: 0.5752 - val_loss: 0.9650 - val_accuracy: 0.5184\n",
      "Epoch 4/15\n",
      "35/35 [==============================] - 2s 44ms/step - loss: 0.7182 - accuracy: 0.6437 - val_loss: 1.0253 - val_accuracy: 0.5224\n",
      "Epoch 5/15\n",
      "35/35 [==============================] - 2s 47ms/step - loss: 0.6088 - accuracy: 0.7089 - val_loss: 1.1373 - val_accuracy: 0.5079\n",
      "Epoch 6/15\n",
      "35/35 [==============================] - 2s 45ms/step - loss: 0.5137 - accuracy: 0.7849 - val_loss: 1.2374 - val_accuracy: 0.5132\n",
      "Epoch 7/15\n",
      "35/35 [==============================] - 2s 45ms/step - loss: 0.4397 - accuracy: 0.8303 - val_loss: 1.3466 - val_accuracy: 0.5129\n",
      "Epoch 8/15\n",
      "35/35 [==============================] - 2s 44ms/step - loss: 0.3794 - accuracy: 0.8592 - val_loss: 1.4985 - val_accuracy: 0.4974\n",
      "Epoch 9/15\n",
      "35/35 [==============================] - 2s 44ms/step - loss: 0.3313 - accuracy: 0.8832 - val_loss: 1.6493 - val_accuracy: 0.4850\n",
      "Epoch 10/15\n",
      "35/35 [==============================] - 2s 44ms/step - loss: 0.2930 - accuracy: 0.9006 - val_loss: 1.7394 - val_accuracy: 0.5013\n",
      "Epoch 11/15\n",
      "35/35 [==============================] - 2s 44ms/step - loss: 0.2583 - accuracy: 0.9147 - val_loss: 1.8662 - val_accuracy: 0.4824\n",
      "Epoch 12/15\n",
      "35/35 [==============================] - 2s 44ms/step - loss: 0.2272 - accuracy: 0.9269 - val_loss: 1.9602 - val_accuracy: 0.5068\n",
      "Epoch 13/15\n",
      "35/35 [==============================] - 2s 46ms/step - loss: 0.2039 - accuracy: 0.9359 - val_loss: 2.0778 - val_accuracy: 0.5087\n",
      "Epoch 14/15\n",
      "35/35 [==============================] - 2s 46ms/step - loss: 0.1915 - accuracy: 0.9377 - val_loss: 2.1760 - val_accuracy: 0.5003\n",
      "Epoch 15/15\n",
      "35/35 [==============================] - 2s 44ms/step - loss: 0.1702 - accuracy: 0.9463 - val_loss: 2.2613 - val_accuracy: 0.4942\n"
     ]
    }
   ],
   "source": [
    "fit = model.fit(np.asarray(pre_X(X_train)), y_one, epochs=15, batch_size=256 ,validation_data=(np.asarray(pre_X(X_test)), one.transform(Y_test.reshape(-1,1))))"
   ]
  },
  {
   "cell_type": "code",
   "execution_count": 24,
   "metadata": {},
   "outputs": [
    {
     "name": "stdout",
     "output_type": "stream",
     "text": [
      "Model: \"sequential_3\"\n",
      "_________________________________________________________________\n",
      "Layer (type)                 Output Shape              Param #   \n",
      "=================================================================\n",
      "text_vectorization (TextVect (None, 116)               0         \n",
      "_________________________________________________________________\n",
      "embedding_3 (Embedding)      (None, 116, 64)           960000    \n",
      "_________________________________________________________________\n",
      "conv1d_3 (Conv1D)            (None, 111, 24)           9240      \n",
      "_________________________________________________________________\n",
      "max_pooling1d_3 (MaxPooling1 (None, 55, 24)            0         \n",
      "_________________________________________________________________\n",
      "flatten_3 (Flatten)          (None, 1320)              0         \n",
      "_________________________________________________________________\n",
      "dense_6 (Dense)              (None, 20)                26420     \n",
      "_________________________________________________________________\n",
      "dense_7 (Dense)              (None, 3)                 63        \n",
      "=================================================================\n",
      "Total params: 995,723\n",
      "Trainable params: 995,723\n",
      "Non-trainable params: 0\n",
      "_________________________________________________________________\n"
     ]
    }
   ],
   "source": [
    "model.summary()"
   ]
  },
  {
   "cell_type": "code",
   "execution_count": 31,
   "metadata": {},
   "outputs": [
    {
     "data": {
      "image/png": "[encoded data removed]",
      "text/plain": [
       "<Figure size 864x432 with 1 Axes>"
      ]
     },
     "metadata": {
      "needs_background": "light"
     },
     "output_type": "display_data"
    }
   ],
   "source": [
    "plt.figure(figsize=(12,6))\n",
    "plt.plot(fit.history['loss'], label='Loss', color='darkred')\n",
    "plt.plot(fit.history['val_loss'], label='Val Loss', color='green')\n",
    "plt.legend()\n",
    "plt.grid()\n",
    "plt.ylabel('Loss')\n",
    "plt.show()"
   ]
  },
  {
   "cell_type": "code",
   "execution_count": 32,
   "metadata": {},
   "outputs": [
    {
     "data": {
      "image/png": "[encoded data removed]",
      "text/plain": [
       "<Figure size 864x432 with 1 Axes>"
      ]
     },
     "metadata": {
      "needs_background": "light"
     },
     "output_type": "display_data"
    }
   ],
   "source": [
    "plt.figure(figsize=(12,6))\n",
    "plt.plot(fit.history['accuracy'], label='accuracy', color='darkred')\n",
    "plt.plot(fit.history['val_accuracy'], label='Val accuracy', color='green')\n",
    "plt.legend()\n",
    "plt.grid()\n",
    "plt.ylabel('Accuracy')\n",
    "plt.show()"
   ]
  },
  {
   "cell_type": "markdown",
   "metadata": {},
   "source": [
    "## AutoKeras"
   ]
  },
  {
   "cell_type": "code",
   "execution_count": 15,
   "metadata": {},
   "outputs": [
    {
     "name": "stdout",
     "output_type": "stream",
     "text": [
      "INFO:tensorflow:Reloading Oracle from existing project .\\text_classifier\\oracle.json\n",
      "INFO:tensorflow:Reloading Tuner from .\\text_classifier\\tuner0.json\n",
      "INFO:tensorflow:Oracle triggered exit\n",
      "Epoch 1/10\n",
      "278/278 [==============================] - 6s 20ms/step - loss: 0.6092 - accuracy: 0.4496 - val_loss: 0.5793 - val_accuracy: 0.5189\n",
      "Epoch 2/10\n",
      "278/278 [==============================] - 6s 21ms/step - loss: 0.5132 - accuracy: 0.5849 - val_loss: 0.5466 - val_accuracy: 0.5658\n",
      "Epoch 3/10\n",
      "278/278 [==============================] - 6s 21ms/step - loss: 0.4419 - accuracy: 0.6738 - val_loss: 0.6021 - val_accuracy: 0.5750\n",
      "Epoch 4/10\n",
      "278/278 [==============================] - 6s 20ms/step - loss: 0.3842 - accuracy: 0.7354 - val_loss: 0.6887 - val_accuracy: 0.5684\n",
      "Epoch 5/10\n",
      "278/278 [==============================] - 6s 20ms/step - loss: 0.3391 - accuracy: 0.7754 - val_loss: 0.7049 - val_accuracy: 0.5711\n",
      "Epoch 6/10\n",
      "278/278 [==============================] - 6s 20ms/step - loss: 0.2867 - accuracy: 0.8197 - val_loss: 0.7719 - val_accuracy: 0.5758\n",
      "Epoch 7/10\n",
      "278/278 [==============================] - 6s 21ms/step - loss: 0.2496 - accuracy: 0.8472 - val_loss: 0.8457 - val_accuracy: 0.5592\n",
      "Epoch 8/10\n",
      "278/278 [==============================] - 6s 21ms/step - loss: 0.2199 - accuracy: 0.8686 - val_loss: 0.8145 - val_accuracy: 0.5637\n",
      "Epoch 9/10\n",
      "278/278 [==============================] - 6s 20ms/step - loss: 0.1945 - accuracy: 0.8835 - val_loss: 0.9439 - val_accuracy: 0.5653\n",
      "Epoch 10/10\n",
      "278/278 [==============================] - 6s 21ms/step - loss: 0.1643 - accuracy: 0.9046 - val_loss: 1.1188 - val_accuracy: 0.5689\n",
      "WARNING:tensorflow:From c:\\users\\ddayv\\appdata\\local\\programs\\python\\python37\\lib\\site-packages\\tensorflow\\python\\training\\tracking\\tracking.py:111: Model.state_updates (from tensorflow.python.keras.engine.training) is deprecated and will be removed in a future version.\n",
      "Instructions for updating:\n",
      "This property should not be used in TensorFlow 2.0, as updates are applied automatically.\n",
      "WARNING:tensorflow:From c:\\users\\ddayv\\appdata\\local\\programs\\python\\python37\\lib\\site-packages\\tensorflow\\python\\training\\tracking\\tracking.py:111: Layer.updates (from tensorflow.python.keras.engine.base_layer) is deprecated and will be removed in a future version.\n",
      "Instructions for updating:\n",
      "This property should not be used in TensorFlow 2.0, as updates are applied automatically.\n",
      "INFO:tensorflow:Assets written to: .\\text_classifier\\best_model\\assets\n"
     ]
    }
   ],
   "source": [
    "TextClassifier = ak.TextClassifier(\n",
    "    num_classes=3, \n",
    "    multi_label=True, \n",
    "    loss=tf.keras.losses.categorical_crossentropy, \n",
    "    metrics=['accuracy'],\n",
    "    project_name=\"text_classifier\",\n",
    "    max_trials=1,\n",
    "    objective=\"val_loss\"\n",
    ")\n",
    "\n",
    "fit = TextClassifier.fit(\n",
    "    x=np.asarray(pre_X(X_train)), y=one.fit_transform(Y_train.reshape(-1,1)), epochs=10, validation_split=0.2, validation_data=(np.asarray(pre_X(X_test)),one.fit_transform(Y_test.reshape(-1,1)) )\n",
    ")\n"
   ]
  },
  {
   "cell_type": "code",
   "execution_count": null,
   "metadata": {},
   "outputs": [],
   "source": []
  }
 ],
 "metadata": {
  "kernelspec": {
   "display_name": "Python 3",
   "language": "python",
   "name": "python3"
  },
  "language_info": {
   "codemirror_mode": {
    "name": "ipython",
    "version": 3
   },
   "file_extension": ".py",
   "mimetype": "text/x-python",
   "name": "python",
   "nbconvert_exporter": "python",
   "pygments_lexer": "ipython3",
   "version": "3.7.9"
  }
 },
 "nbformat": 4,
 "nbformat_minor": 2
}
