{
 "cells": [
  {
   "cell_type": "code",
   "execution_count": 1,
   "metadata": {},
   "outputs": [
    {
     "name": "stderr",
     "output_type": "stream",
     "text": [
      "[nltk_data] Downloading package stopwords to\n",
      "[nltk_data]     C:\\Users\\ddayv\\AppData\\Roaming\\nltk_data...\n",
      "[nltk_data]   Package stopwords is already up-to-date!\n",
      "[nltk_data] Downloading package wordnet to\n",
      "[nltk_data]     C:\\Users\\ddayv\\AppData\\Roaming\\nltk_data...\n",
      "[nltk_data]   Package wordnet is already up-to-date!\n"
     ]
    },
    {
     "data": {
      "text/plain": [
       "True"
      ]
     },
     "execution_count": 1,
     "metadata": {},
     "output_type": "execute_result"
    }
   ],
   "source": [
    "import pandas as pd\n",
    "import numpy as np\n",
    "from sklearn.feature_extraction.text import CountVectorizer\n",
    "from sklearn.feature_extraction.text import TfidfTransformer\n",
    "from sklearn.naive_bayes import MultinomialNB\n",
    "from sklearn.model_selection import train_test_split\n",
    "from sklearn import metrics\n",
    "import seaborn as sns\n",
    "import re\n",
    "import random as rd\n",
    "import tensorflow as tf\n",
    "from tensorflow.keras.layers.experimental.preprocessing import TextVectorization\n",
    "from nltk import word_tokenize, RegexpTokenizer\n",
    "from nltk.corpus import stopwords, wordnet\n",
    "from sklearn.preprocessing import OneHotEncoder\n",
    "import matplotlib.pyplot as plt\n",
    "import autokeras as ak\n",
    "from sklearn.model_selection import KFold\n",
    "\n",
    "import nltk\n",
    "nltk.download('stopwords')\n",
    "nltk.download('wordnet')"
   ]
  },
  {
   "cell_type": "code",
   "execution_count": 2,
   "metadata": {},
   "outputs": [
    {
     "data": {
      "text/plain": [
       "(12670, 2)"
      ]
     },
     "execution_count": 2,
     "metadata": {},
     "output_type": "execute_result"
    }
   ],
   "source": [
    "df = pd.read_excel('./rotulação/TweetsPolitical01 OK OK.xlsx')\n",
    "df2 = pd.read_excel('./rotulação/TweetsPolitical02 OK OK.xlsx')\n",
    "df3 = pd.read_excel('./rotulação/TweetsPolitical03 OK OK.xlsx')\n",
    "df4 = pd.read_excel('./rotulação/TweetsPolitical04 OK OK.xlsx')\n",
    "df5 = pd.read_excel('./rotulação/TweetsPolitical05 OK OK.xlsx')\n",
    "df6 = pd.read_excel('./rotulação/TweetsPolitical06 OK OK.xlsx')\n",
    "df7 = pd.read_excel('./rotulação/TweetsPolitical07 OK OK.xlsx')\n",
    "df8 = pd.read_excel('./rotulação/TweetsPolitical08 OK OK.xlsx')\n",
    "df9 = pd.read_excel('./rotulação/TweetsPolitical09 OK OK.xlsx')\n",
    "df10 = pd.read_excel('./rotulação/TweetsPolitical10 OK OK.xlsx')\n",
    "df11 = pd.read_excel('./rotulação/TweetsPolitical11 OK OK.xlsx')\n",
    "df12 = pd.read_excel('./rotulação/TweetsPolitical12 OK OK.xlsx')\n",
    "df13 = pd.read_excel('./rotulação/TweetsPolitical13 OK OK.xlsx')\n",
    "df14 = pd.read_excel('./rotulação/TweetsPolitical14 OK OK.xlsx')\n",
    "df15 = pd.read_excel('./rotulação/TweetsPolitical15 OK OK.xlsx')\n",
    "\n",
    "lista = [df,df2,df3,df4,df5,df6,df7,df8,df9,df10,df11,df12,df13,df14,df15]\n",
    "\n",
    "df_all = pd.concat(lista)\n",
    "df_all.shape"
   ]
  },
  {
   "cell_type": "code",
   "execution_count": 3,
   "metadata": {},
   "outputs": [
    {
     "data": {
      "text/html": [
       "<div>\n",
       "<style scoped>\n",
       "    .dataframe tbody tr th:only-of-type {\n",
       "        vertical-align: middle;\n",
       "    }\n",
       "\n",
       "    .dataframe tbody tr th {\n",
       "        vertical-align: top;\n",
       "    }\n",
       "\n",
       "    .dataframe thead th {\n",
       "        text-align: right;\n",
       "    }\n",
       "</style>\n",
       "<table border=\"1\" class=\"dataframe\">\n",
       "  <thead>\n",
       "    <tr style=\"text-align: right;\">\n",
       "      <th></th>\n",
       "      <th>Tweet</th>\n",
       "      <th>Polaridade</th>\n",
       "    </tr>\n",
       "  </thead>\n",
       "  <tbody>\n",
       "    <tr>\n",
       "      <th>0</th>\n",
       "      <td>- #CaoNossoDeCadaDia #Novo - Vanessa Mandotti ...</td>\n",
       "      <td>0.0</td>\n",
       "    </tr>\n",
       "    <tr>\n",
       "      <th>1</th>\n",
       "      <td>- Bola pra frente que amanhã é outro dia, outr...</td>\n",
       "      <td>1.0</td>\n",
       "    </tr>\n",
       "    <tr>\n",
       "      <th>2</th>\n",
       "      <td>- Cara de mal? Acho que não... Apenas um corte...</td>\n",
       "      <td>1.0</td>\n",
       "    </tr>\n",
       "    <tr>\n",
       "      <th>3</th>\n",
       "      <td>\" #PCdoB O PARTIDO QUE FAZ A DIFERENÇA: LEAL E...</td>\n",
       "      <td>1.0</td>\n",
       "    </tr>\n",
       "    <tr>\n",
       "      <th>4</th>\n",
       "      <td>\"@camaradamae: #PCdoB o Partido da coragem !  ...</td>\n",
       "      <td>1.0</td>\n",
       "    </tr>\n",
       "  </tbody>\n",
       "</table>\n",
       "</div>"
      ],
      "text/plain": [
       "                                               Tweet  Polaridade\n",
       "0  - #CaoNossoDeCadaDia #Novo - Vanessa Mandotti ...         0.0\n",
       "1  - Bola pra frente que amanhã é outro dia, outr...         1.0\n",
       "2  - Cara de mal? Acho que não... Apenas um corte...         1.0\n",
       "3  \" #PCdoB O PARTIDO QUE FAZ A DIFERENÇA: LEAL E...         1.0\n",
       "4  \"@camaradamae: #PCdoB o Partido da coragem !  ...         1.0"
      ]
     },
     "execution_count": 3,
     "metadata": {},
     "output_type": "execute_result"
    }
   ],
   "source": [
    "df_all.head()"
   ]
  },
  {
   "cell_type": "code",
   "execution_count": 4,
   "metadata": {},
   "outputs": [
    {
     "data": {
      "text/plain": [
       "Tweet         2\n",
       "Polaridade    2\n",
       "dtype: int64"
      ]
     },
     "execution_count": 4,
     "metadata": {},
     "output_type": "execute_result"
    }
   ],
   "source": [
    "df_all.isnull().sum()"
   ]
  },
  {
   "cell_type": "code",
   "execution_count": 5,
   "metadata": {},
   "outputs": [
    {
     "data": {
      "image/png": "[encoded data removed]",
      "text/plain": [
       "<Figure size 432x288 with 1 Axes>"
      ]
     },
     "metadata": {
      "needs_background": "light"
     },
     "output_type": "display_data"
    }
   ],
   "source": [
    "df_all = df_all.dropna()\n",
    "\n",
    "sns.countplot(data=df_all, x='Polaridade')\n",
    "plt.grid()"
   ]
  },
  {
   "cell_type": "code",
   "execution_count": 6,
   "metadata": {},
   "outputs": [
    {
     "data": {
      "text/html": [
       "<div>\n",
       "<style scoped>\n",
       "    .dataframe tbody tr th:only-of-type {\n",
       "        vertical-align: middle;\n",
       "    }\n",
       "\n",
       "    .dataframe tbody tr th {\n",
       "        vertical-align: top;\n",
       "    }\n",
       "\n",
       "    .dataframe thead th {\n",
       "        text-align: right;\n",
       "    }\n",
       "</style>\n",
       "<table border=\"1\" class=\"dataframe\">\n",
       "  <thead>\n",
       "    <tr style=\"text-align: right;\">\n",
       "      <th></th>\n",
       "      <th>index</th>\n",
       "      <th>Tweet</th>\n",
       "      <th>Polaridade</th>\n",
       "    </tr>\n",
       "  </thead>\n",
       "  <tbody>\n",
       "    <tr>\n",
       "      <th>0</th>\n",
       "      <td>0</td>\n",
       "      <td>- #CaoNossoDeCadaDia #Novo - Vanessa Mandotti ...</td>\n",
       "      <td>0.0</td>\n",
       "    </tr>\n",
       "    <tr>\n",
       "      <th>1</th>\n",
       "      <td>1</td>\n",
       "      <td>- Bola pra frente que amanhã é outro dia, outr...</td>\n",
       "      <td>1.0</td>\n",
       "    </tr>\n",
       "    <tr>\n",
       "      <th>2</th>\n",
       "      <td>2</td>\n",
       "      <td>- Cara de mal? Acho que não... Apenas um corte...</td>\n",
       "      <td>1.0</td>\n",
       "    </tr>\n",
       "    <tr>\n",
       "      <th>3</th>\n",
       "      <td>3</td>\n",
       "      <td>\" #PCdoB O PARTIDO QUE FAZ A DIFERENÇA: LEAL E...</td>\n",
       "      <td>1.0</td>\n",
       "    </tr>\n",
       "    <tr>\n",
       "      <th>4</th>\n",
       "      <td>4</td>\n",
       "      <td>\"@camaradamae: #PCdoB o Partido da coragem !  ...</td>\n",
       "      <td>1.0</td>\n",
       "    </tr>\n",
       "    <tr>\n",
       "      <th>...</th>\n",
       "      <td>...</td>\n",
       "      <td>...</td>\n",
       "      <td>...</td>\n",
       "    </tr>\n",
       "    <tr>\n",
       "      <th>12663</th>\n",
       "      <td>78</td>\n",
       "      <td>Bom diaa  #SD Moisés Sou Boina Preta e Não Tem...</td>\n",
       "      <td>1.0</td>\n",
       "    </tr>\n",
       "    <tr>\n",
       "      <th>12664</th>\n",
       "      <td>79</td>\n",
       "      <td>Sei que leve por divisa esse \"V\" que simboliza...</td>\n",
       "      <td>1.0</td>\n",
       "    </tr>\n",
       "    <tr>\n",
       "      <th>12665</th>\n",
       "      <td>80</td>\n",
       "      <td>L'ambiance d'hier au stade c'est grace ao Maca...</td>\n",
       "      <td>1.0</td>\n",
       "    </tr>\n",
       "    <tr>\n",
       "      <th>12666</th>\n",
       "      <td>81</td>\n",
       "      <td>Mais tarde tem mais SD no Chopp E Cia...hoje é...</td>\n",
       "      <td>1.0</td>\n",
       "    </tr>\n",
       "    <tr>\n",
       "      <th>12667</th>\n",
       "      <td>82</td>\n",
       "      <td>Obrigado por tudo Mister Luis Castro,boa sorte...</td>\n",
       "      <td>1.0</td>\n",
       "    </tr>\n",
       "  </tbody>\n",
       "</table>\n",
       "<p>12668 rows × 3 columns</p>\n",
       "</div>"
      ],
      "text/plain": [
       "       index                                              Tweet  Polaridade\n",
       "0          0  - #CaoNossoDeCadaDia #Novo - Vanessa Mandotti ...         0.0\n",
       "1          1  - Bola pra frente que amanhã é outro dia, outr...         1.0\n",
       "2          2  - Cara de mal? Acho que não... Apenas um corte...         1.0\n",
       "3          3  \" #PCdoB O PARTIDO QUE FAZ A DIFERENÇA: LEAL E...         1.0\n",
       "4          4  \"@camaradamae: #PCdoB o Partido da coragem !  ...         1.0\n",
       "...      ...                                                ...         ...\n",
       "12663     78  Bom diaa  #SD Moisés Sou Boina Preta e Não Tem...         1.0\n",
       "12664     79  Sei que leve por divisa esse \"V\" que simboliza...         1.0\n",
       "12665     80  L'ambiance d'hier au stade c'est grace ao Maca...         1.0\n",
       "12666     81  Mais tarde tem mais SD no Chopp E Cia...hoje é...         1.0\n",
       "12667     82  Obrigado por tudo Mister Luis Castro,boa sorte...         1.0\n",
       "\n",
       "[12668 rows x 3 columns]"
      ]
     },
     "execution_count": 6,
     "metadata": {},
     "output_type": "execute_result"
    }
   ],
   "source": [
    "df_all = df_all.reset_index()\n",
    "df_all"
   ]
  },
  {
   "cell_type": "code",
   "execution_count": 7,
   "metadata": {},
   "outputs": [
    {
     "data": {
      "text/plain": [
       "array([ 0.,  1., -1.])"
      ]
     },
     "execution_count": 7,
     "metadata": {},
     "output_type": "execute_result"
    }
   ],
   "source": [
    "df_all = df_all.drop(columns=['index'])\n",
    "df_all.drop(df_all[df_all['Polaridade'] == 11].index, inplace=True)\n",
    "df_all.drop(df_all[df_all['Polaridade'] == -2].index, inplace=True)\n",
    "df_all.drop(df_all[df_all['Polaridade'] == 10].index, inplace=True)\n",
    "\n",
    "df_all['Polaridade'].unique()"
   ]
  },
  {
   "cell_type": "code",
   "execution_count": 8,
   "metadata": {},
   "outputs": [
    {
     "data": {
      "text/plain": [
       "array([-1.,  0.,  1.])"
      ]
     },
     "execution_count": 8,
     "metadata": {},
     "output_type": "execute_result"
    }
   ],
   "source": [
    "Tweet = df_all['Tweet']\n",
    "polarity = np.asarray(df_all['Polaridade'])\n",
    "\n",
    "np.unique(polarity)"
   ]
  },
  {
   "cell_type": "code",
   "execution_count": 9,
   "metadata": {},
   "outputs": [
    {
     "data": {
      "text/plain": [
       "(12665, 24464)"
      ]
     },
     "execution_count": 9,
     "metadata": {},
     "output_type": "execute_result"
    }
   ],
   "source": [
    "count_vect = CountVectorizer()\n",
    "X_train = count_vect.fit_transform(Tweet)\n",
    "\n",
    "tfidf_transformer = TfidfTransformer()\n",
    "X_train_transform = tfidf_transformer.fit_transform(X_train) # Aplicando o TF-IDF\n",
    "X_train_transform.shape"
   ]
  },
  {
   "cell_type": "code",
   "execution_count": 10,
   "metadata": {},
   "outputs": [
    {
     "name": "stdout",
     "output_type": "stream",
     "text": [
      "0.5445935280189423\n",
      "0.5698500394632992\n",
      "0.6479873717442778\n",
      "0.6535122336227308\n",
      "0.430939226519337\n",
      "0.5742496050552922\n",
      "0.5876777251184834\n",
      "0.5932069510268563\n",
      "0.5789889415481833\n",
      "0.6058451816745656\n"
     ]
    }
   ],
   "source": [
    "#X_train, X_test, Y_train, Y_test = train_test_split(X_train_transform, polarity, test_size=0.3)\n",
    "\n",
    "kf = KFold(n_splits=10)\n",
    "clf = MultinomialNB()\n",
    "\n",
    "for train_index, test_index in kf.split(X_train_transform):\n",
    "    X_train, X_test = X_train_transform[train_index], X_train_transform[test_index]\n",
    "    y_train, y_test = polarity[train_index], polarity[test_index]\n",
    "    clf.fit(X_train, y_train)\n",
    "    y_pred = clf.predict(X_test)\n",
    "    \n",
    "    print(clf.score(X_test, y_test))\n"
   ]
  },
  {
   "cell_type": "code",
   "execution_count": 11,
   "metadata": {},
   "outputs": [],
   "source": [
    "X_train, X_test, Y_train, Y_test = train_test_split(X_train_transform, polarity, test_size=0.3)"
   ]
  },
  {
   "cell_type": "code",
   "execution_count": 12,
   "metadata": {},
   "outputs": [
    {
     "name": "stdout",
     "output_type": "stream",
     "text": [
      "              precision    recall  f1-score   support\n",
      "\n",
      "        -1.0       0.55      0.83      0.66      1258\n",
      "         0.0       0.69      0.65      0.67      1427\n",
      "         1.0       0.68      0.35      0.47      1115\n",
      "\n",
      "    accuracy                           0.62      3800\n",
      "   macro avg       0.64      0.61      0.60      3800\n",
      "weighted avg       0.64      0.62      0.61      3800\n",
      "\n"
     ]
    }
   ],
   "source": [
    "clf = MultinomialNB()\n",
    "clf.fit(X_train, Y_train)\n",
    "y_pred = clf.predict(X_test)\n",
    "\n",
    "print(metrics.classification_report(Y_test,y_pred))"
   ]
  },
  {
   "cell_type": "code",
   "execution_count": 13,
   "metadata": {},
   "outputs": [
    {
     "data": {
      "text/plain": [
       "0.5786850803791969"
      ]
     },
     "execution_count": 13,
     "metadata": {},
     "output_type": "execute_result"
    }
   ],
   "source": [
    "5.786850803791968/10"
   ]
  },
  {
   "cell_type": "code",
   "execution_count": 14,
   "metadata": {},
   "outputs": [],
   "source": [
    "def pre_X(frases):\n",
    "    lista = []\n",
    "    \n",
    "    for frase in frases:\n",
    "        lista.append(frase)\n",
    "        \n",
    "    return lista\n",
    "\n",
    "def pre_Y(number):\n",
    "    lista = []\n",
    "    \n",
    "    for numb in number:\n",
    "        lista.append(numb)\n",
    "    \n",
    "    return lista\n"
   ]
  },
  {
   "cell_type": "code",
   "execution_count": 15,
   "metadata": {},
   "outputs": [],
   "source": [
    "def set_array(frases):\n",
    "    \n",
    "    vocab = []\n",
    "    palavras = []\n",
    "    for frase in frases:\n",
    "        \n",
    "        text_array = remove_user(frase)\n",
    "        text_array = Tokenize(text_array)\n",
    "        text_array = text_array.split(' ')\n",
    "        for i in range(len(text_array)):\n",
    "            vocab.append(text_array[i])\n",
    "    \n",
    "    \n",
    "        \n",
    "    return vocab\n",
    "\n",
    "def Tokenize(f):     ## Pre-processando a frase\n",
    "    \n",
    "    ## Colocando em minusculo\n",
    "    ## Retirando a pontuaçao\n",
    "    ## Retirando as StopWords\n",
    "    \n",
    "    f = f.lower().replace('\\n', '').replace('-','').replace('#','').replace('.','').replace(',','').replace('!','').replace('r\\n','').replace('  ','')\n",
    "    token = RegexpTokenizer(r\"\\w+\")\n",
    "    f = token.tokenize(f)\n",
    "    \n",
    "    stop_words = set(stopwords.words('portuguese'))\n",
    "    \n",
    "    new_word = [word for word in f if not word in stop_words]\n",
    "    \n",
    "    return ' '.join(new_word)\n",
    "\n",
    "def remove_user(frase):\n",
    "\n",
    "    return re.sub('@\\w+','',frase)"
   ]
  },
  {
   "cell_type": "code",
   "execution_count": 16,
   "metadata": {},
   "outputs": [],
   "source": [
    "model = tf.keras.Sequential([\n",
    "    tf.keras.layers.Dense(50, activation='relu'),\n",
    "    tf.keras.layers.Dropout(0.3),\n",
    "    \n",
    "    tf.keras.layers.Dense(25, activation='relu'),\n",
    "    tf.keras.layers.Dropout(0.3),\n",
    "    \n",
    "    tf.keras.layers.Dense(10, activation='tanh'),\n",
    "    tf.keras.layers.Dropout(0.3),\n",
    "    \n",
    "    tf.keras.layers.Dense(3 , activation='softmax')\n",
    "])\n",
    "\n",
    "model.compile(\n",
    "    optimizer='adam',\n",
    "    loss=tf.keras.losses.categorical_crossentropy,\n",
    "    metrics=['accuracy']\n",
    ")"
   ]
  },
  {
   "cell_type": "code",
   "execution_count": 17,
   "metadata": {},
   "outputs": [],
   "source": [
    "Tweet = Tweet.apply(remove_user)\n",
    "Tweet_preprocessed = Tweet.apply(Tokenize)\n"
   ]
  },
  {
   "cell_type": "code",
   "execution_count": 38,
   "metadata": {},
   "outputs": [
    {
     "data": {
      "text/plain": [
       "<8865x25943 sparse matrix of type '<class 'numpy.float64'>'\n",
       "\twith 78166 stored elements in Compressed Sparse Row format>"
      ]
     },
     "execution_count": 38,
     "metadata": {},
     "output_type": "execute_result"
    }
   ],
   "source": [
    "count_vect = CountVectorizer()\n",
    "X_train = count_vect.fit_transform(Tweet_preprocessed)\n",
    "\n",
    "tfidf_transformer = TfidfTransformer()\n",
    "X_train_transform = tfidf_transformer.fit_transform(X_train) # Aplicando o TF-IDF\n",
    "\n",
    "\n",
    "X_train_, X_test_, Y_train, Y_test = train_test_split(X_train_transform, polarity, test_size=0.3)\n",
    "\n",
    "X_train_"
   ]
  },
  {
   "cell_type": "code",
   "execution_count": 39,
   "metadata": {},
   "outputs": [
    {
     "data": {
      "text/plain": [
       "<3800x25943 sparse matrix of type '<class 'numpy.float64'>'\n",
       "\twith 33630 stored elements in Compressed Sparse Row format>"
      ]
     },
     "execution_count": 39,
     "metadata": {},
     "output_type": "execute_result"
    }
   ],
   "source": [
    "X_test_"
   ]
  },
  {
   "cell_type": "code",
   "execution_count": 28,
   "metadata": {},
   "outputs": [],
   "source": [
    "one = OneHotEncoder(sparse=False)"
   ]
  },
  {
   "cell_type": "code",
   "execution_count": 29,
   "metadata": {},
   "outputs": [],
   "source": [
    "y_one = one.fit_transform(Y_train.reshape(-1,1))\n",
    "y_one_ = one.fit_transform(Y_test.reshape(-1,1))"
   ]
  },
  {
   "cell_type": "code",
   "execution_count": 129,
   "metadata": {},
   "outputs": [
    {
     "name": "stdout",
     "output_type": "stream",
     "text": [
      "Epoch 1/5\n",
      "278/278 [==============================] - 4s 13ms/step - loss: 1.0296 - accuracy: 0.4772 - val_loss: 0.8967 - val_accuracy: 0.5945\n",
      "Epoch 2/5\n",
      "278/278 [==============================] - 3s 11ms/step - loss: 0.6861 - accuracy: 0.7365 - val_loss: 0.8655 - val_accuracy: 0.6168\n",
      "Epoch 3/5\n",
      "278/278 [==============================] - 3s 11ms/step - loss: 0.3486 - accuracy: 0.8858 - val_loss: 1.0505 - val_accuracy: 0.6108\n",
      "Epoch 4/5\n",
      "278/278 [==============================] - 3s 11ms/step - loss: 0.1759 - accuracy: 0.9482 - val_loss: 1.2550 - val_accuracy: 0.6024\n",
      "Epoch 5/5\n",
      "278/278 [==============================] - 3s 11ms/step - loss: 0.1070 - accuracy: 0.9719 - val_loss: 1.4776 - val_accuracy: 0.5979\n"
     ]
    }
   ],
   "source": [
    "fit = model.fit(X_train.todense(), y_one, epochs=5, validation_data=(X_test.todense(), y_one_))"
   ]
  },
  {
   "cell_type": "code",
   "execution_count": null,
   "metadata": {},
   "outputs": [],
   "source": [
    "predicted = model.predict(X_test.todense())\n",
    "\n",
    "print(classification_report(np.argmax(y_one_, axis=1), np.argmax(predicted, axis=1)))"
   ]
  },
  {
   "cell_type": "code",
   "execution_count": 30,
   "metadata": {
    "scrolled": true
   },
   "outputs": [
    {
     "name": "stdout",
     "output_type": "stream",
     "text": [
      "Iter:  1\n",
      " \n",
      "Epoch 1/5\n",
      "357/357 [==============================] - 3s 9ms/step - loss: 1.0193 - accuracy: 0.4798 - val_loss: 0.8828 - val_accuracy: 0.6527\n",
      "Epoch 2/5\n",
      "357/357 [==============================] - 3s 9ms/step - loss: 0.7399 - accuracy: 0.6910 - val_loss: 0.9535 - val_accuracy: 0.5351\n",
      "Epoch 3/5\n",
      "357/357 [==============================] - 3s 9ms/step - loss: 0.4218 - accuracy: 0.8565 - val_loss: 1.1046 - val_accuracy: 0.5328\n",
      "Epoch 4/5\n",
      "357/357 [==============================] - 3s 9ms/step - loss: 0.2367 - accuracy: 0.9283 - val_loss: 1.3747 - val_accuracy: 0.5233\n",
      "Epoch 5/5\n",
      "357/357 [==============================] - 3s 8ms/step - loss: 0.1387 - accuracy: 0.9628 - val_loss: 1.5627 - val_accuracy: 0.5257\n",
      " \n",
      "Iter:  2\n",
      " \n",
      "Epoch 1/5\n",
      "357/357 [==============================] - 3s 9ms/step - loss: 1.0085 - accuracy: 0.4864 - val_loss: 0.8625 - val_accuracy: 0.6354\n",
      "Epoch 2/5\n",
      "357/357 [==============================] - 3s 9ms/step - loss: 0.6612 - accuracy: 0.7426 - val_loss: 0.8674 - val_accuracy: 0.6133\n",
      "Epoch 3/5\n",
      "357/357 [==============================] - 3s 9ms/step - loss: 0.3467 - accuracy: 0.8861 - val_loss: 1.0372 - val_accuracy: 0.6180\n",
      "Epoch 4/5\n",
      "357/357 [==============================] - 3s 9ms/step - loss: 0.1965 - accuracy: 0.9424 - val_loss: 1.1938 - val_accuracy: 0.6219\n",
      "Epoch 5/5\n",
      "357/357 [==============================] - 3s 8ms/step - loss: 0.1296 - accuracy: 0.9639 - val_loss: 1.3824 - val_accuracy: 0.6227\n",
      " \n",
      "Iter:  3\n",
      " \n",
      "Epoch 1/5\n",
      "357/357 [==============================] - 3s 9ms/step - loss: 1.0215 - accuracy: 0.4789 - val_loss: 0.8972 - val_accuracy: 0.5998\n",
      "Epoch 2/5\n",
      "357/357 [==============================] - 3s 9ms/step - loss: 0.6848 - accuracy: 0.7321 - val_loss: 0.8601 - val_accuracy: 0.6062\n",
      "Epoch 3/5\n",
      "357/357 [==============================] - 3s 9ms/step - loss: 0.3846 - accuracy: 0.8730 - val_loss: 0.9946 - val_accuracy: 0.6148\n",
      "Epoch 4/5\n",
      "357/357 [==============================] - 3s 8ms/step - loss: 0.2180 - accuracy: 0.9364 - val_loss: 1.1824 - val_accuracy: 0.5817\n",
      "Epoch 5/5\n",
      "357/357 [==============================] - 3s 8ms/step - loss: 0.1479 - accuracy: 0.9615 - val_loss: 1.3618 - val_accuracy: 0.5825\n",
      " \n",
      "Iter:  4\n",
      " \n",
      "Epoch 1/5\n",
      "357/357 [==============================] - 3s 9ms/step - loss: 0.9955 - accuracy: 0.5096 - val_loss: 0.8264 - val_accuracy: 0.6661\n",
      "Epoch 2/5\n",
      "357/357 [==============================] - 3s 8ms/step - loss: 0.6370 - accuracy: 0.7608 - val_loss: 0.8171 - val_accuracy: 0.6654\n",
      "Epoch 3/5\n",
      "357/357 [==============================] - 3s 8ms/step - loss: 0.3236 - accuracy: 0.8964 - val_loss: 0.9865 - val_accuracy: 0.6448\n",
      "Epoch 4/5\n",
      "357/357 [==============================] - 3s 8ms/step - loss: 0.1804 - accuracy: 0.9489 - val_loss: 1.2708 - val_accuracy: 0.6140\n",
      "Epoch 5/5\n",
      "357/357 [==============================] - 3s 8ms/step - loss: 0.1149 - accuracy: 0.9687 - val_loss: 1.4425 - val_accuracy: 0.5848\n",
      " \n",
      "Iter:  5\n",
      " \n",
      "Epoch 1/5\n",
      "357/357 [==============================] - 3s 9ms/step - loss: 0.9960 - accuracy: 0.5061 - val_loss: 1.0514 - val_accuracy: 0.4522\n",
      "Epoch 2/5\n",
      "357/357 [==============================] - 3s 8ms/step - loss: 0.6329 - accuracy: 0.7648 - val_loss: 1.1135 - val_accuracy: 0.5122\n",
      "Epoch 3/5\n",
      "357/357 [==============================] - 3s 8ms/step - loss: 0.3315 - accuracy: 0.8966 - val_loss: 1.3148 - val_accuracy: 0.5288\n",
      "Epoch 4/5\n",
      "357/357 [==============================] - 3s 8ms/step - loss: 0.1805 - accuracy: 0.9488 - val_loss: 1.6072 - val_accuracy: 0.4941\n",
      "Epoch 5/5\n",
      "357/357 [==============================] - 3s 8ms/step - loss: 0.1275 - accuracy: 0.9639 - val_loss: 1.7978 - val_accuracy: 0.4917\n",
      " \n",
      "Iter:  6\n",
      " \n",
      "Epoch 1/5\n",
      "357/357 [==============================] - 3s 9ms/step - loss: 0.9985 - accuracy: 0.4933 - val_loss: 0.9701 - val_accuracy: 0.5276\n",
      "Epoch 2/5\n",
      "357/357 [==============================] - 3s 8ms/step - loss: 0.6712 - accuracy: 0.7406 - val_loss: 0.9577 - val_accuracy: 0.5569\n",
      "Epoch 3/5\n",
      "357/357 [==============================] - 3s 8ms/step - loss: 0.3557 - accuracy: 0.8838 - val_loss: 1.1630 - val_accuracy: 0.5648\n",
      "Epoch 4/5\n",
      "357/357 [==============================] - 3s 8ms/step - loss: 0.1938 - accuracy: 0.9423 - val_loss: 1.4267 - val_accuracy: 0.5498\n",
      "Epoch 5/5\n",
      "357/357 [==============================] - 3s 8ms/step - loss: 0.1263 - accuracy: 0.9646 - val_loss: 1.6384 - val_accuracy: 0.5466\n",
      " \n",
      "Iter:  7\n",
      " \n",
      "Epoch 1/5\n",
      "357/357 [==============================] - 4s 12ms/step - loss: 0.9965 - accuracy: 0.5019 - val_loss: 0.9186 - val_accuracy: 0.5742\n",
      "Epoch 2/5\n",
      "357/357 [==============================] - 3s 9ms/step - loss: 0.6329 - accuracy: 0.7647 - val_loss: 0.9591 - val_accuracy: 0.5545\n",
      "Epoch 3/5\n",
      "357/357 [==============================] - 3s 8ms/step - loss: 0.3271 - accuracy: 0.8980 - val_loss: 1.2608 - val_accuracy: 0.5403\n",
      "Epoch 4/5\n",
      "357/357 [==============================] - 3s 8ms/step - loss: 0.1813 - accuracy: 0.9478 - val_loss: 1.4186 - val_accuracy: 0.5537\n",
      "Epoch 5/5\n",
      "357/357 [==============================] - 3s 9ms/step - loss: 0.1172 - accuracy: 0.9686 - val_loss: 1.7294 - val_accuracy: 0.5411\n",
      " \n",
      "Iter:  8\n",
      " \n",
      "Epoch 1/5\n",
      "357/357 [==============================] - 3s 9ms/step - loss: 0.9932 - accuracy: 0.5114 - val_loss: 0.9399 - val_accuracy: 0.5632\n",
      "Epoch 2/5\n",
      "357/357 [==============================] - 3s 8ms/step - loss: 0.6357 - accuracy: 0.7580 - val_loss: 0.9468 - val_accuracy: 0.5664\n",
      "Epoch 3/5\n",
      "357/357 [==============================] - 3s 8ms/step - loss: 0.3218 - accuracy: 0.9004 - val_loss: 1.1231 - val_accuracy: 0.5829\n",
      "Epoch 4/5\n",
      "357/357 [==============================] - 3s 9ms/step - loss: 0.1767 - accuracy: 0.9501 - val_loss: 1.4135 - val_accuracy: 0.5664\n",
      "Epoch 5/5\n",
      "357/357 [==============================] - 3s 9ms/step - loss: 0.1120 - accuracy: 0.9690 - val_loss: 1.6380 - val_accuracy: 0.5671\n",
      " \n",
      "Iter:  9\n",
      " \n",
      "Epoch 1/5\n",
      "357/357 [==============================] - 3s 9ms/step - loss: 1.0089 - accuracy: 0.4821 - val_loss: 0.9935 - val_accuracy: 0.5553\n",
      "Epoch 2/5\n",
      "357/357 [==============================] - 3s 8ms/step - loss: 0.6968 - accuracy: 0.7195 - val_loss: 0.9665 - val_accuracy: 0.5648\n",
      "Epoch 3/5\n",
      "357/357 [==============================] - 3s 9ms/step - loss: 0.3888 - accuracy: 0.8745 - val_loss: 1.0737 - val_accuracy: 0.5750\n",
      "Epoch 4/5\n",
      "357/357 [==============================] - 3s 8ms/step - loss: 0.2128 - accuracy: 0.9389 - val_loss: 1.3087 - val_accuracy: 0.5624\n",
      "Epoch 5/5\n",
      "357/357 [==============================] - 3s 9ms/step - loss: 0.1319 - accuracy: 0.9644 - val_loss: 1.5557 - val_accuracy: 0.5490\n",
      " \n",
      "Iter:  10\n",
      " \n",
      "Epoch 1/5\n",
      "357/357 [==============================] - 3s 8ms/step - loss: 0.9921 - accuracy: 0.5078 - val_loss: 0.9589 - val_accuracy: 0.5608\n",
      "Epoch 2/5\n",
      "357/357 [==============================] - 3s 9ms/step - loss: 0.6831 - accuracy: 0.7333 - val_loss: 0.9892 - val_accuracy: 0.5719\n",
      "Epoch 3/5\n",
      "357/357 [==============================] - 3s 8ms/step - loss: 0.3713 - accuracy: 0.8772 - val_loss: 1.1682 - val_accuracy: 0.5664\n",
      "Epoch 4/5\n",
      "357/357 [==============================] - 3s 9ms/step - loss: 0.2092 - accuracy: 0.9384 - val_loss: 1.4284 - val_accuracy: 0.5466\n",
      "Epoch 5/5\n",
      "357/357 [==============================] - 3s 8ms/step - loss: 0.1368 - accuracy: 0.9601 - val_loss: 1.6565 - val_accuracy: 0.5387\n",
      " \n"
     ]
    }
   ],
   "source": [
    "kf = KFold(n_splits=10)\n",
    "val_accuracy = []\n",
    "index = []\n",
    "cont = 0\n",
    "\n",
    "for train_index, test_index in kf.split(X_train_transform):\n",
    "    cont += 1\n",
    "    \n",
    "    model = tf.keras.Sequential([\n",
    "    tf.keras.layers.Dense(50, activation='relu'),\n",
    "    tf.keras.layers.Dropout(0.3),\n",
    "    \n",
    "    tf.keras.layers.Dense(25, activation='relu'),\n",
    "    tf.keras.layers.Dropout(0.3),\n",
    "    \n",
    "    tf.keras.layers.Dense(10, activation='tanh'),\n",
    "    tf.keras.layers.Dropout(0.3),\n",
    "    \n",
    "    tf.keras.layers.Dense(3 , activation='softmax')\n",
    "    \n",
    "    ])\n",
    "    \n",
    "    model.compile(\n",
    "        optimizer='adam',\n",
    "        loss=tf.keras.losses.categorical_crossentropy,\n",
    "        metrics=['accuracy']\n",
    "    )\n",
    "    \n",
    "    X_train, X_test = X_train_transform[train_index], X_train_transform[test_index]\n",
    "    y_train, y_test = polarity[train_index], polarity[test_index]\n",
    "    y_train_one = one.fit_transform(y_train.reshape(-1,1))\n",
    "    y_teste_one = one.fit_transform(y_test.reshape(-1,1))\n",
    "    \n",
    "    print(\"Iter: \",cont)\n",
    "    print(\" \")\n",
    "    \n",
    "    fit = model.fit(X_train.todense(), y_train_one, epochs=5, validation_data=(X_test.todense(), y_teste_one))\n",
    "    print(\" \")\n",
    "    val_accuracy.append(fit.history['val_accuracy'])\n",
    "    \n",
    "    index.append((train_index,test_index))\n"
   ]
  },
  {
   "cell_type": "code",
   "execution_count": 31,
   "metadata": {},
   "outputs": [
    {
     "name": "stdout",
     "output_type": "stream",
     "text": [
      " Fold: 0\tMédia: 0.5539068698883056\tStd: 0.049600570458135006 \n",
      " Fold: 1\tMédia: 0.6222572922706604\tStd: 0.007363471724017882 \n",
      " Fold: 2\tMédia: 0.597000777721405\tStd: 0.013079931526220214 \n",
      " Fold: 3\tMédia: 0.6350434064865113\tStd: 0.0314385548171895 \n",
      " Fold: 4\tMédia: 0.4958168983459473\tStd: 0.025596572054295278 \n",
      " Fold: 5\tMédia: 0.5491311192512512\tStd: 0.012433168983839189 \n",
      " Fold: 6\tMédia: 0.552764618396759\tStd: 0.012312150997220004 \n",
      " Fold: 7\tMédia: 0.5691943049430848\tStd: 0.007004669266169217 \n",
      " Fold: 8\tMédia: 0.5612954139709473\tStd: 0.00883264985594135 \n",
      " Fold: 9\tMédia: 0.556872034072876\tStd: 0.012378847021972639 \n"
     ]
    }
   ],
   "source": [
    "def media_std(val_accuracy):\n",
    "    matrix_acc = np.array(val_accuracy)\n",
    "    \n",
    "    for i in range(len(matrix_acc)):\n",
    "        print(f' Fold: {i}\\tMédia: {matrix_acc[i].mean()}\\tStd: {matrix_acc[i].std()} ')\n",
    "        \n",
    "media_std(val_accuracy) #arquitetura de cima"
   ]
  },
  {
   "cell_type": "code",
   "execution_count": 5,
   "metadata": {},
   "outputs": [
    {
     "data": {
      "text/plain": [
       "0.018004058670500027"
      ]
     },
     "execution_count": 5,
     "metadata": {},
     "output_type": "execute_result"
    }
   ],
   "source": [
    "np.array([0.049600570458135006, \n",
    "0.007363471724017882, \n",
    "0.013079931526220214, \n",
    "0.0314385548171895, \n",
    "0.025596572054295278, \n",
    "0.012433168983839189, \n",
    "0.012312150997220004, \n",
    "0.007004669266169217, \n",
    "0.00883264985594135, \n",
    "0.012378847021972639]).mean()"
   ]
  },
  {
   "cell_type": "code",
   "execution_count": 4,
   "metadata": {},
   "outputs": [
    {
     "data": {
      "text/plain": [
       "0.5693282735347749"
      ]
     },
     "execution_count": 4,
     "metadata": {},
     "output_type": "execute_result"
    }
   ],
   "source": [
    "np.array([0.5539068698883056, 0.6222572922706604,0.597000777721405,0.6350434064865113,0.4958168983459473,0.5491311192512512,0.552764618396759,0.5691943049430848,0.5612954139709473,0.556872034072876]).mean()"
   ]
  },
  {
   "cell_type": "code",
   "execution_count": 32,
   "metadata": {},
   "outputs": [
    {
     "data": {
      "text/plain": [
       "[0.652722954750061,\n",
       " 0.6353591084480286,\n",
       " 0.614838182926178,\n",
       " 0.6661404967308044,\n",
       " 0.5288082361221313,\n",
       " 0.5647709369659424,\n",
       " 0.5742496252059937,\n",
       " 0.5829383730888367,\n",
       " 0.5750395059585571,\n",
       " 0.5718799233436584]"
      ]
     },
     "execution_count": 32,
     "metadata": {},
     "output_type": "execute_result"
    }
   ],
   "source": [
    "best_ = []\n",
    "for i in range(len(val_accuracy)):\n",
    "    best_acc = 0\n",
    "    for j in range(5):\n",
    "        if val_accuracy[i][j] > best_acc:\n",
    "            best_acc = val_accuracy[i][j]\n",
    "    best_.append(best_acc)\n",
    "\n",
    "best_"
   ]
  },
  {
   "cell_type": "code",
   "execution_count": 33,
   "metadata": {
    "scrolled": false
   },
   "outputs": [
    {
     "data": {
      "image/png": "[encoded data removed]",
      "text/plain": [
       "<Figure size 864x432 with 1 Axes>"
      ]
     },
     "metadata": {
      "needs_background": "light"
     },
     "output_type": "display_data"
    }
   ],
   "source": [
    "plt.figure(figsize=(12,6))\n",
    "plt.plot(fit.history['loss'], label='Loss', color='darkred')\n",
    "plt.plot(fit.history['val_loss'], label='Val Loss', color='green')\n",
    "plt.legend()\n",
    "plt.grid()\n",
    "plt.ylabel('Loss')\n",
    "plt.show()"
   ]
  },
  {
   "cell_type": "code",
   "execution_count": 34,
   "metadata": {},
   "outputs": [
    {
     "data": {
      "image/png": "[encoded data removed]",
      "text/plain": [
       "<Figure size 864x432 with 1 Axes>"
      ]
     },
     "metadata": {
      "needs_background": "light"
     },
     "output_type": "display_data"
    }
   ],
   "source": [
    "plt.figure(figsize=(12,6))\n",
    "plt.plot(fit.history['accuracy'], label='accuracy', color='darkred')\n",
    "plt.plot(fit.history['val_accuracy'], label='Val accuracy', color='green')\n",
    "plt.legend()\n",
    "plt.grid()\n",
    "plt.ylabel('Accuracy')\n",
    "plt.show()"
   ]
  },
  {
   "cell_type": "code",
   "execution_count": 43,
   "metadata": {},
   "outputs": [
    {
     "data": {
      "text/plain": [
       "15000"
      ]
     },
     "execution_count": 43,
     "metadata": {},
     "output_type": "execute_result"
    }
   ],
   "source": [
    "vectorize_layer = TextVectorization(\n",
    " max_tokens=15000,\n",
    " output_mode='int',\n",
    " output_sequence_length=len(max(df_all['Tweet'])))\n",
    "\n",
    "vocab = set_array(df_all['Tweet'])\n",
    "\n",
    "vectorize_layer.adapt(np.unique(vocab))\n",
    "len(vectorize_layer.get_vocabulary())\n"
   ]
  },
  {
   "cell_type": "code",
   "execution_count": 44,
   "metadata": {},
   "outputs": [],
   "source": [
    "model = tf.keras.Sequential([\n",
    "    vectorize_layer,\n",
    "    tf.keras.layers.Embedding(\n",
    "        input_dim=len(vectorize_layer.get_vocabulary()),\n",
    "        output_dim=64,mask_zero=True),\n",
    "    \n",
    "    tf.keras.layers.LSTM(50, activation='relu' ,return_sequences=True),\n",
    "    tf.keras.layers.Dropout(0.2),\n",
    "    \n",
    "    tf.keras.layers.LSTM(20 , activation='relu', return_sequences=True),\n",
    "    tf.keras.layers.Dropout(0.2),\n",
    "    \n",
    "    tf.keras.layers.LSTM(20 , activation='relu', return_sequences=True),\n",
    "    tf.keras.layers.Dropout(0.2),\n",
    "    \n",
    "    tf.keras.layers.LSTM(10 , activation='tanh', return_sequences=True),\n",
    "    \n",
    "    tf.keras.layers.LSTM(10 , activation='tanh'),\n",
    "    \n",
    "    tf.keras.layers.Dense(3, activation='softmax')\n",
    "])\n",
    "\n",
    "\n",
    "model.compile(\n",
    "    optimizer= tf.keras.optimizers.Adam(),\n",
    "    loss=tf.keras.losses.categorical_crossentropy,\n",
    "    metrics=['accuracy']\n",
    ")"
   ]
  },
  {
   "cell_type": "code",
   "execution_count": 45,
   "metadata": {},
   "outputs": [],
   "source": [
    "X_train, X_test, Y_train, Y_test = train_test_split(Tweet_preprocessed, polarity, test_size=0.3)"
   ]
  },
  {
   "cell_type": "code",
   "execution_count": 46,
   "metadata": {},
   "outputs": [
    {
     "data": {
      "text/plain": [
       "(8865,)"
      ]
     },
     "execution_count": 46,
     "metadata": {},
     "output_type": "execute_result"
    }
   ],
   "source": [
    "X_train.shape"
   ]
  },
  {
   "cell_type": "code",
   "execution_count": 2,
   "metadata": {},
   "outputs": [
    {
     "ename": "NameError",
     "evalue": "name 'one' is not defined",
     "output_type": "error",
     "traceback": [
      "\u001b[1;31m---------------------------------------------------------------------------\u001b[0m",
      "\u001b[1;31mNameError\u001b[0m                                 Traceback (most recent call last)",
      "\u001b[1;32m<ipython-input-2-19d0f85cb54c>\u001b[0m in \u001b[0;36m<module>\u001b[1;34m\u001b[0m\n\u001b[1;32m----> 1\u001b[1;33m \u001b[0my_one\u001b[0m \u001b[1;33m=\u001b[0m \u001b[0mone\u001b[0m\u001b[1;33m.\u001b[0m\u001b[0mfit_transform\u001b[0m\u001b[1;33m(\u001b[0m\u001b[0mY_train\u001b[0m\u001b[1;33m.\u001b[0m\u001b[0mreshape\u001b[0m\u001b[1;33m(\u001b[0m\u001b[1;33m-\u001b[0m\u001b[1;36m1\u001b[0m\u001b[1;33m,\u001b[0m\u001b[1;36m1\u001b[0m\u001b[1;33m)\u001b[0m\u001b[1;33m)\u001b[0m\u001b[1;33m\u001b[0m\u001b[1;33m\u001b[0m\u001b[0m\n\u001b[0m\u001b[0;32m      2\u001b[0m \u001b[0my_one_\u001b[0m \u001b[1;33m=\u001b[0m \u001b[0mone\u001b[0m\u001b[1;33m.\u001b[0m\u001b[0mfit_transform\u001b[0m\u001b[1;33m(\u001b[0m\u001b[0mY_test\u001b[0m\u001b[1;33m.\u001b[0m\u001b[0mreshape\u001b[0m\u001b[1;33m(\u001b[0m\u001b[1;33m-\u001b[0m\u001b[1;36m1\u001b[0m\u001b[1;33m,\u001b[0m\u001b[1;36m1\u001b[0m\u001b[1;33m)\u001b[0m\u001b[1;33m)\u001b[0m\u001b[1;33m\u001b[0m\u001b[1;33m\u001b[0m\u001b[0m\n",
      "\u001b[1;31mNameError\u001b[0m: name 'one' is not defined"
     ]
    }
   ],
   "source": [
    "y_one = one.fit_transform(Y_train.reshape(-1,1))\n",
    "y_one_ = one.fit_transform(Y_test.reshape(-1,1))"
   ]
  },
  {
   "cell_type": "code",
   "execution_count": null,
   "metadata": {},
   "outputs": [],
   "source": [
    "fit = model.fit(X_train, y_one, epochs=5, validation_data=(X_test, y_one_))"
   ]
  },
  {
   "cell_type": "code",
   "execution_count": null,
   "metadata": {},
   "outputs": [],
   "source": [
    "predicted = model.predict(X_test)\n",
    "\n",
    "print(classification_report(np.argmax(y_one_, axis=1), np.argmax(predicted, axis=1)))"
   ]
  },
  {
   "cell_type": "code",
   "execution_count": 48,
   "metadata": {
    "scrolled": true
   },
   "outputs": [
    {
     "name": "stdout",
     "output_type": "stream",
     "text": [
      "Iter:  1\n",
      " \n",
      "Epoch 1/5\n",
      "90/90 [==============================] - 29s 319ms/step - loss: 1.0925 - accuracy: 0.3875 - val_loss: 1.0913 - val_accuracy: 0.4270\n",
      "Epoch 2/5\n",
      "90/90 [==============================] - 26s 284ms/step - loss: 1.0217 - accuracy: 0.5033 - val_loss: 1.1017 - val_accuracy: 0.5249\n",
      "Epoch 3/5\n",
      "90/90 [==============================] - 27s 300ms/step - loss: 0.8997 - accuracy: 0.5946 - val_loss: 1.0977 - val_accuracy: 0.5217\n",
      "Epoch 4/5\n",
      "90/90 [==============================] - 28s 308ms/step - loss: 0.7982 - accuracy: 0.6556 - val_loss: 1.2285 - val_accuracy: 0.4672\n",
      "Epoch 5/5\n",
      "90/90 [==============================] - 27s 301ms/step - loss: 0.7038 - accuracy: 0.7193 - val_loss: 1.2632 - val_accuracy: 0.4657\n",
      " \n",
      "Iter:  2\n",
      " \n",
      "Epoch 1/5\n",
      "90/90 [==============================] - 31s 343ms/step - loss: 1.0910 - accuracy: 0.4009 - val_loss: 1.0929 - val_accuracy: 0.4822\n",
      "Epoch 2/5\n",
      "90/90 [==============================] - 29s 325ms/step - loss: 1.0104 - accuracy: 0.5126 - val_loss: 1.0596 - val_accuracy: 0.5643\n",
      "Epoch 3/5\n",
      "90/90 [==============================] - 28s 315ms/step - loss: 0.8923 - accuracy: 0.5957 - val_loss: 1.0839 - val_accuracy: 0.5138\n",
      "Epoch 4/5\n",
      "90/90 [==============================] - 30s 334ms/step - loss: 0.7934 - accuracy: 0.6643 - val_loss: 1.1276 - val_accuracy: 0.5099\n",
      "Epoch 5/5\n",
      "90/90 [==============================] - 30s 337ms/step - loss: 0.6819 - accuracy: 0.7246 - val_loss: 1.1959 - val_accuracy: 0.4767\n",
      " \n",
      "Iter:  3\n",
      " \n",
      "Epoch 1/5\n",
      "90/90 [==============================] - 46s 507ms/step - loss: 1.0896 - accuracy: 0.3804 - val_loss: 1.1081 - val_accuracy: 0.4183\n",
      "Epoch 2/5\n",
      "90/90 [==============================] - 42s 463ms/step - loss: 1.0182 - accuracy: 0.5157 - val_loss: 1.0281 - val_accuracy: 0.4964\n",
      "Epoch 3/5\n",
      "90/90 [==============================] - 42s 468ms/step - loss: 0.9106 - accuracy: 0.5812 - val_loss: 1.0442 - val_accuracy: 0.4791\n",
      "Epoch 4/5\n",
      "90/90 [==============================] - 42s 462ms/step - loss: 0.7935 - accuracy: 0.6528 - val_loss: 1.2006 - val_accuracy: 0.4554\n",
      "Epoch 5/5\n",
      "90/90 [==============================] - 41s 460ms/step - loss: 0.7065 - accuracy: 0.7073 - val_loss: 1.2154 - val_accuracy: 0.4720\n",
      " \n",
      "Iter:  4\n",
      " \n",
      "Epoch 1/5\n",
      "90/90 [==============================] - 49s 541ms/step - loss: 1.0916 - accuracy: 0.3888 - val_loss: 1.0775 - val_accuracy: 0.5225\n",
      "Epoch 2/5\n",
      "90/90 [==============================] - 48s 535ms/step - loss: 1.0153 - accuracy: 0.5082 - val_loss: 0.9953 - val_accuracy: 0.5635\n",
      "Epoch 3/5\n",
      "90/90 [==============================] - 49s 546ms/step - loss: 0.8962 - accuracy: 0.5768 - val_loss: 0.9866 - val_accuracy: 0.5746\n",
      "Epoch 4/5\n",
      "90/90 [==============================] - 49s 543ms/step - loss: 0.8101 - accuracy: 0.6281 - val_loss: 0.9602 - val_accuracy: 0.5967\n",
      "Epoch 5/5\n",
      "90/90 [==============================] - 46s 515ms/step - loss: 0.7348 - accuracy: 0.6831 - val_loss: 0.9891 - val_accuracy: 0.5888\n",
      " \n",
      "Iter:  5\n",
      " \n",
      "Epoch 1/5\n",
      "90/90 [==============================] - 51s 566ms/step - loss: 1.0895 - accuracy: 0.4046 - val_loss: 1.1576 - val_accuracy: 0.1563\n",
      "Epoch 2/5\n",
      "90/90 [==============================] - 47s 525ms/step - loss: 1.0319 - accuracy: 0.4916 - val_loss: 1.0854 - val_accuracy: 0.3899\n",
      "Epoch 3/5\n",
      "90/90 [==============================] - 46s 512ms/step - loss: 0.8803 - accuracy: 0.6260 - val_loss: 1.1102 - val_accuracy: 0.4317\n",
      "Epoch 4/5\n",
      "90/90 [==============================] - 47s 523ms/step - loss: 0.7328 - accuracy: 0.7126 - val_loss: 1.2728 - val_accuracy: 0.4262\n",
      "Epoch 5/5\n",
      "90/90 [==============================] - 46s 516ms/step - loss: 0.6237 - accuracy: 0.7727 - val_loss: 1.3126 - val_accuracy: 0.4436\n",
      " \n",
      "Iter:  6\n",
      " \n",
      "Epoch 1/5\n",
      "90/90 [==============================] - 50s 550ms/step - loss: 1.0910 - accuracy: 0.4061 - val_loss: 1.0784 - val_accuracy: 0.3981\n",
      "Epoch 2/5\n",
      "90/90 [==============================] - 47s 518ms/step - loss: 1.0072 - accuracy: 0.5172 - val_loss: 1.0328 - val_accuracy: 0.4803\n",
      "Epoch 3/5\n",
      "90/90 [==============================] - 48s 537ms/step - loss: 0.8860 - accuracy: 0.6006 - val_loss: 1.0598 - val_accuracy: 0.5016\n",
      "Epoch 4/5\n",
      "90/90 [==============================] - 47s 519ms/step - loss: 0.7700 - accuracy: 0.6678 - val_loss: 1.0894 - val_accuracy: 0.4826\n",
      "Epoch 5/5\n",
      "90/90 [==============================] - 48s 530ms/step - loss: 0.6645 - accuracy: 0.7370 - val_loss: 1.1483 - val_accuracy: 0.5024\n",
      " \n",
      "Iter:  7\n",
      " \n",
      "Epoch 1/5\n",
      "90/90 [==============================] - 50s 559ms/step - loss: 1.0923 - accuracy: 0.3978 - val_loss: 1.0909 - val_accuracy: 0.3918\n",
      "Epoch 2/5\n",
      "90/90 [==============================] - 49s 543ms/step - loss: 1.0267 - accuracy: 0.4993 - val_loss: 1.0068 - val_accuracy: 0.4937\n",
      "Epoch 3/5\n",
      "90/90 [==============================] - 45s 499ms/step - loss: 0.9034 - accuracy: 0.5866 - val_loss: 1.0489 - val_accuracy: 0.4684\n",
      "Epoch 4/5\n",
      "90/90 [==============================] - 46s 506ms/step - loss: 0.7892 - accuracy: 0.6632 - val_loss: 1.0177 - val_accuracy: 0.5047\n",
      "Epoch 5/5\n",
      "90/90 [==============================] - 46s 510ms/step - loss: 0.6857 - accuracy: 0.7285 - val_loss: 1.1071 - val_accuracy: 0.5039\n",
      " \n",
      "Iter:  8\n",
      " \n",
      "Epoch 1/5\n",
      "90/90 [==============================] - 48s 532ms/step - loss: 1.0874 - accuracy: 0.4102 - val_loss: 1.0475 - val_accuracy: 0.4518\n",
      "Epoch 2/5\n",
      "90/90 [==============================] - 45s 502ms/step - loss: 0.9921 - accuracy: 0.5328 - val_loss: 1.0292 - val_accuracy: 0.5000\n",
      "Epoch 3/5\n",
      "90/90 [==============================] - 45s 502ms/step - loss: 0.8802 - accuracy: 0.6079 - val_loss: 1.0632 - val_accuracy: 0.4826\n",
      "Epoch 4/5\n",
      "90/90 [==============================] - 44s 493ms/step - loss: 0.7765 - accuracy: 0.6727 - val_loss: 1.0775 - val_accuracy: 0.5000\n",
      "Epoch 5/5\n",
      "90/90 [==============================] - 48s 534ms/step - loss: 0.6956 - accuracy: 0.7189 - val_loss: 1.1453 - val_accuracy: 0.4708\n",
      " \n",
      "Iter:  9\n",
      " \n",
      "Epoch 1/5\n",
      "90/90 [==============================] - 51s 564ms/step - loss: 1.0910 - accuracy: 0.4220 - val_loss: 1.1292 - val_accuracy: 0.3863\n",
      "Epoch 2/5\n",
      "90/90 [==============================] - 49s 541ms/step - loss: 1.0005 - accuracy: 0.5224 - val_loss: 1.2402 - val_accuracy: 0.4171\n",
      "Epoch 3/5\n",
      "90/90 [==============================] - 48s 528ms/step - loss: 0.8726 - accuracy: 0.6079 - val_loss: 1.2250 - val_accuracy: 0.4013\n",
      "Epoch 4/5\n",
      "90/90 [==============================] - 50s 552ms/step - loss: 0.7659 - accuracy: 0.6778 - val_loss: 1.3089 - val_accuracy: 0.3886\n",
      "Epoch 5/5\n",
      "90/90 [==============================] - 48s 536ms/step - loss: 0.6804 - accuracy: 0.7323 - val_loss: 1.2955 - val_accuracy: 0.4044\n",
      " \n",
      "Iter:  10\n",
      " \n",
      "Epoch 1/5\n",
      "90/90 [==============================] - 51s 569ms/step - loss: 1.0916 - accuracy: 0.3970 - val_loss: 1.0800 - val_accuracy: 0.4463\n",
      "Epoch 2/5\n",
      "90/90 [==============================] - 49s 549ms/step - loss: 1.0117 - accuracy: 0.5121 - val_loss: 1.0639 - val_accuracy: 0.4660\n",
      "Epoch 3/5\n",
      "90/90 [==============================] - 49s 546ms/step - loss: 0.9022 - accuracy: 0.5749 - val_loss: 1.0909 - val_accuracy: 0.4779\n",
      "Epoch 4/5\n",
      "90/90 [==============================] - 48s 537ms/step - loss: 0.8297 - accuracy: 0.6184 - val_loss: 1.1814 - val_accuracy: 0.4550\n",
      "Epoch 5/5\n",
      "90/90 [==============================] - 49s 544ms/step - loss: 0.7850 - accuracy: 0.6422 - val_loss: 1.2400 - val_accuracy: 0.4613\n",
      " \n"
     ]
    }
   ],
   "source": [
    "kf = KFold(n_splits=10)\n",
    "val_accuracy = []\n",
    "index = []\n",
    "cont = 0\n",
    "\n",
    "for train_index, test_index in kf.split(Tweet_preprocessed):\n",
    "    cont += 1\n",
    "    \n",
    "    model = tf.keras.Sequential([\n",
    "    vectorize_layer,\n",
    "    tf.keras.layers.Embedding(\n",
    "        input_dim=len(vectorize_layer.get_vocabulary()),\n",
    "        output_dim=64,mask_zero=True),\n",
    "    \n",
    "    tf.keras.layers.LSTM(50, activation='relu' ,return_sequences=True),\n",
    "    tf.keras.layers.Dropout(0.2),\n",
    "    \n",
    "    tf.keras.layers.LSTM(20 , activation='relu', return_sequences=True),\n",
    "    tf.keras.layers.Dropout(0.2),\n",
    "    \n",
    "    tf.keras.layers.LSTM(20 , activation='relu', return_sequences=True),\n",
    "    tf.keras.layers.Dropout(0.2),\n",
    "    \n",
    "    tf.keras.layers.LSTM(10 , activation='tanh', return_sequences=True),\n",
    "    \n",
    "    tf.keras.layers.LSTM(10 , activation='tanh', return_sequences=True),\n",
    "    \n",
    "    tf.keras.layers.LSTM(10 , activation='tanh'),\n",
    "    \n",
    "    tf.keras.layers.Dense(3, activation='softmax')\n",
    "    \n",
    "    ])\n",
    "\n",
    "\n",
    "    model.compile(\n",
    "        optimizer= tf.keras.optimizers.Adam(),\n",
    "        loss=tf.keras.losses.categorical_crossentropy,\n",
    "        metrics=['accuracy']\n",
    "    )\n",
    "    Tweet_preprocessed = np.asarray(pre_X(Tweet_preprocessed))\n",
    "    \n",
    "    X_train, X_test = Tweet_preprocessed[train_index], Tweet_preprocessed[test_index]\n",
    "    y_train, y_test = polarity[train_index], polarity[test_index]\n",
    "    y_train_one = one.fit_transform(y_train.reshape(-1,1))\n",
    "    y_teste_one = one.fit_transform(y_test.reshape(-1,1))\n",
    "    \n",
    "    print(\"Iter: \",cont)\n",
    "    print(\" \")\n",
    "    \n",
    "    fit = model.fit( X_train, y_train_one, epochs=5, batch_size=128 ,validation_data=(X_test, y_teste_one)) \n",
    "    print(\" \")\n",
    "    val_accuracy.append(fit.history['val_accuracy'])\n",
    "    \n",
    "    index.append((train_index,test_index))\n"
   ]
  },
  {
   "cell_type": "code",
   "execution_count": 49,
   "metadata": {},
   "outputs": [
    {
     "name": "stdout",
     "output_type": "stream",
     "text": [
      " Fold: 0\tMédia: 0.48129438757896426\tStd: 0.037205830169904 \n",
      " Fold: 1\tMédia: 0.5093922674655914\tStd: 0.031119898194740002 \n",
      " Fold: 2\tMédia: 0.46424624919891355\tStd: 0.02647702428892829 \n",
      " Fold: 3\tMédia: 0.569218635559082\tStd: 0.026007011367929954 \n",
      " Fold: 4\tMédia: 0.3695343345403671\tStd: 0.10812471703690046 \n",
      " Fold: 5\tMédia: 0.4729857802391052\tStd: 0.038558891667122536 \n",
      " Fold: 6\tMédia: 0.47251185178756716\tStd: 0.04244699124189028 \n",
      " Fold: 7\tMédia: 0.48104265332221985\tStd: 0.01833496868078754 \n",
      " Fold: 8\tMédia: 0.3995260655879974\tStd: 0.011219764147013542 \n",
      " Fold: 9\tMédia: 0.46129541993141177\tStd: 0.010609253135448311 \n"
     ]
    }
   ],
   "source": [
    "media_std(val_accuracy)"
   ]
  },
  {
   "cell_type": "code",
   "execution_count": 6,
   "metadata": {},
   "outputs": [
    {
     "data": {
      "text/plain": [
       "0.468104764521122"
      ]
     },
     "execution_count": 6,
     "metadata": {},
     "output_type": "execute_result"
    }
   ],
   "source": [
    "np.array([0.48129438757896426,\n",
    "0.5093922674655914,  \n",
    "0.46424624919891355,\n",
    "0.569218635559082,  \n",
    "0.3695343345403671,  \n",
    "0.4729857802391052,   \n",
    "0.47251185178756716,   \n",
    "0.48104265332221985,  \n",
    "0.3995260655879974,   \n",
    "0.46129541993141177]).mean()"
   ]
  },
  {
   "cell_type": "code",
   "execution_count": 7,
   "metadata": {},
   "outputs": [
    {
     "data": {
      "text/plain": [
       "0.03501043499306649"
      ]
     },
     "execution_count": 7,
     "metadata": {},
     "output_type": "execute_result"
    }
   ],
   "source": [
    "np.array([0.037205830169904, 0.031119898194740002,  0.02647702428892829, 0.026007011367929954,0.10812471703690046, 0.038558891667122536,0.04244699124189028, 0.01833496868078754,0.011219764147013542,0.010609253135448311 ]).mean()   "
   ]
  },
  {
   "cell_type": "code",
   "execution_count": 50,
   "metadata": {},
   "outputs": [
    {
     "data": {
      "text/plain": [
       "[0.5248618721961975,\n",
       " 0.5643251538276672,\n",
       " 0.4964483082294464,\n",
       " 0.5966851115226746,\n",
       " 0.4435674846172333,\n",
       " 0.5023696422576904,\n",
       " 0.5047393441200256,\n",
       " 0.5,\n",
       " 0.41706159710884094,\n",
       " 0.47788310050964355]"
      ]
     },
     "execution_count": 50,
     "metadata": {},
     "output_type": "execute_result"
    }
   ],
   "source": [
    "best_ = []\n",
    "for i in range(len(val_accuracy)):\n",
    "    best_acc = 0\n",
    "    for j in range(5):\n",
    "        if val_accuracy[i][j] > best_acc:\n",
    "            best_acc = val_accuracy[i][j]\n",
    "    best_.append(best_acc)\n",
    "\n",
    "best_"
   ]
  },
  {
   "cell_type": "code",
   "execution_count": 51,
   "metadata": {},
   "outputs": [
    {
     "data": {
      "image/png": "[encoded data removed]",
      "text/plain": [
       "<Figure size 864x432 with 1 Axes>"
      ]
     },
     "metadata": {
      "needs_background": "light"
     },
     "output_type": "display_data"
    }
   ],
   "source": [
    "plt.figure(figsize=(12,6))\n",
    "plt.plot(fit.history['loss'], label='Loss', color='darkred')\n",
    "plt.plot(fit.history['val_loss'], label='Val Loss', color='green')\n",
    "plt.legend()\n",
    "plt.grid()\n",
    "plt.ylabel('Loss')\n",
    "plt.show()"
   ]
  },
  {
   "cell_type": "code",
   "execution_count": 52,
   "metadata": {},
   "outputs": [
    {
     "data": {
      "image/png": "[encoded data removed]",
      "text/plain": [
       "<Figure size 864x432 with 1 Axes>"
      ]
     },
     "metadata": {
      "needs_background": "light"
     },
     "output_type": "display_data"
    }
   ],
   "source": [
    "plt.figure(figsize=(12,6))\n",
    "plt.plot(fit.history['accuracy'], label='accuracy', color='darkred')\n",
    "plt.plot(fit.history['val_accuracy'], label='Val accuracy', color='green')\n",
    "plt.legend()\n",
    "plt.grid()\n",
    "plt.ylabel('Accuracy')\n",
    "plt.show()"
   ]
  },
  {
   "cell_type": "markdown",
   "metadata": {},
   "source": [
    "## BDR"
   ]
  },
  {
   "cell_type": "code",
   "execution_count": 25,
   "metadata": {},
   "outputs": [],
   "source": [
    "model = tf.keras.Sequential([\n",
    "    vectorize_layer,\n",
    "    tf.keras.layers.Embedding(\n",
    "        input_dim=len(vectorize_layer.get_vocabulary()),\n",
    "        output_dim=64,\n",
    "        mask_zero=True),\n",
    "    \n",
    "    tf.keras.layers.Bidirectional(tf.keras.layers.LSTM(64)),\n",
    "    \n",
    "    tf.keras.layers.Dense(16, activation='relu'),\n",
    "    tf.keras.layers.Dense(3, activation='softmax')\n",
    "])\n",
    "\n",
    "model.compile(\n",
    "    optimizer= tf.keras.optimizers.Adam(),\n",
    "    loss=tf.keras.losses.categorical_crossentropy,\n",
    "    metrics=['accuracy']\n",
    ")\n",
    "\n",
    "X_train, X_test, Y_train, Y_test = train_test_split(Tweet_preprocessed, polarity, test_size=0.3)\n",
    "y_one = one.fit_transform(Y_train.reshape(-1,1))\n",
    "y_one_ = one.transform(Y_test.reshape(-1,1))"
   ]
  },
  {
   "cell_type": "code",
   "execution_count": 26,
   "metadata": {},
   "outputs": [
    {
     "name": "stdout",
     "output_type": "stream",
     "text": [
      "Epoch 1/10\n",
      "70/70 [==============================] - 17s 243ms/step - loss: 1.0589 - accuracy: 0.4538 - val_loss: 0.9810 - val_accuracy: 0.5229\n",
      "Epoch 2/10\n",
      "70/70 [==============================] - 16s 223ms/step - loss: 0.8266 - accuracy: 0.6259 - val_loss: 0.9349 - val_accuracy: 0.5779\n",
      "Epoch 3/10\n",
      "70/70 [==============================] - 16s 226ms/step - loss: 0.5535 - accuracy: 0.7894 - val_loss: 1.0263 - val_accuracy: 0.5671\n",
      "Epoch 4/10\n",
      "70/70 [==============================] - 16s 231ms/step - loss: 0.3464 - accuracy: 0.8769 - val_loss: 1.2646 - val_accuracy: 0.5582\n",
      "Epoch 5/10\n",
      "70/70 [==============================] - 17s 236ms/step - loss: 0.2443 - accuracy: 0.9144 - val_loss: 1.3851 - val_accuracy: 0.5566\n",
      "Epoch 6/10\n",
      "70/70 [==============================] - 15s 220ms/step - loss: 0.1885 - accuracy: 0.9311 - val_loss: 1.5831 - val_accuracy: 0.5500\n",
      "Epoch 7/10\n",
      "70/70 [==============================] - 16s 235ms/step - loss: 0.1598 - accuracy: 0.9442 - val_loss: 1.6876 - val_accuracy: 0.5445\n",
      "Epoch 8/10\n",
      "70/70 [==============================] - 15s 216ms/step - loss: 0.1383 - accuracy: 0.9497 - val_loss: 1.8215 - val_accuracy: 0.5434\n",
      "Epoch 9/10\n",
      "70/70 [==============================] - 17s 242ms/step - loss: 0.1217 - accuracy: 0.9561 - val_loss: 2.0182 - val_accuracy: 0.5405\n",
      "Epoch 10/10\n",
      "70/70 [==============================] - 17s 246ms/step - loss: 0.1209 - accuracy: 0.9559 - val_loss: 2.0000 - val_accuracy: 0.5345\n"
     ]
    }
   ],
   "source": [
    "fit = model.fit(np.asarray(pre_X(X_train)), y_one, epochs=10, batch_size=128 ,validation_data=(np.asarray(pre_X(X_test)), y_one_))"
   ]
  },
  {
   "cell_type": "code",
   "execution_count": null,
   "metadata": {},
   "outputs": [],
   "source": [
    "predicted = model.predict(X_test)\n",
    "\n",
    "print(classification_report(np.argmax(y_one_, axis=1), np.argmax(predicted, axis=1)))"
   ]
  },
  {
   "cell_type": "code",
   "execution_count": 54,
   "metadata": {},
   "outputs": [
    {
     "name": "stdout",
     "output_type": "stream",
     "text": [
      "Iter:  1\n",
      " \n",
      "Epoch 1/5\n",
      "90/90 [==============================] - 67s 740ms/step - loss: 1.0317 - accuracy: 0.4763 - val_loss: 0.9671 - val_accuracy: 0.5927\n",
      "Epoch 2/5\n",
      "90/90 [==============================] - 65s 720ms/step - loss: 0.7994 - accuracy: 0.6538 - val_loss: 0.9698 - val_accuracy: 0.5896\n",
      "Epoch 3/5\n",
      "90/90 [==============================] - 64s 708ms/step - loss: 0.5489 - accuracy: 0.7862 - val_loss: 1.2317 - val_accuracy: 0.4680\n",
      "Epoch 4/5\n",
      "90/90 [==============================] - 63s 697ms/step - loss: 0.3772 - accuracy: 0.8602 - val_loss: 1.5132 - val_accuracy: 0.4428\n",
      "Epoch 5/5\n",
      "90/90 [==============================] - 64s 708ms/step - loss: 0.2819 - accuracy: 0.8930 - val_loss: 1.5460 - val_accuracy: 0.4901\n",
      " \n",
      "Iter:  2\n",
      " \n",
      "Epoch 1/5\n",
      "90/90 [==============================] - 67s 744ms/step - loss: 1.0254 - accuracy: 0.4695 - val_loss: 0.9779 - val_accuracy: 0.5785\n",
      "Epoch 2/5\n",
      "90/90 [==============================] - 63s 703ms/step - loss: 0.8185 - accuracy: 0.6342 - val_loss: 0.9806 - val_accuracy: 0.5762\n",
      "Epoch 3/5\n",
      "90/90 [==============================] - 65s 721ms/step - loss: 0.5785 - accuracy: 0.7706 - val_loss: 1.0682 - val_accuracy: 0.5564\n",
      "Epoch 4/5\n",
      "90/90 [==============================] - 66s 737ms/step - loss: 0.4013 - accuracy: 0.8487 - val_loss: 1.2530 - val_accuracy: 0.5706\n",
      "Epoch 5/5\n",
      "90/90 [==============================] - 70s 774ms/step - loss: 0.2970 - accuracy: 0.8896 - val_loss: 1.2816 - val_accuracy: 0.5848\n",
      " \n",
      "Iter:  3\n",
      " \n",
      "Epoch 1/5\n",
      "90/90 [==============================] - 62s 691ms/step - loss: 1.0357 - accuracy: 0.4702 - val_loss: 1.0148 - val_accuracy: 0.4846\n",
      "Epoch 2/5\n",
      "90/90 [==============================] - 59s 653ms/step - loss: 0.8029 - accuracy: 0.6418 - val_loss: 1.0775 - val_accuracy: 0.4980\n",
      "Epoch 3/5\n",
      "90/90 [==============================] - 59s 655ms/step - loss: 0.5566 - accuracy: 0.7839 - val_loss: 1.1488 - val_accuracy: 0.5162\n",
      "Epoch 4/5\n",
      "90/90 [==============================] - 59s 650ms/step - loss: 0.3784 - accuracy: 0.8608 - val_loss: 1.4405 - val_accuracy: 0.4751\n",
      "Epoch 5/5\n",
      "90/90 [==============================] - 60s 664ms/step - loss: 0.2930 - accuracy: 0.8916 - val_loss: 1.7496 - val_accuracy: 0.4373\n",
      " \n",
      "Iter:  4\n",
      " \n",
      "Epoch 1/5\n",
      "90/90 [==============================] - 67s 748ms/step - loss: 1.0315 - accuracy: 0.4715 - val_loss: 0.9252 - val_accuracy: 0.5912\n",
      "Epoch 2/5\n",
      "90/90 [==============================] - 65s 717ms/step - loss: 0.7745 - accuracy: 0.6669 - val_loss: 0.8194 - val_accuracy: 0.6559\n",
      "Epoch 3/5\n",
      "90/90 [==============================] - 63s 700ms/step - loss: 0.5087 - accuracy: 0.8045 - val_loss: 0.9089 - val_accuracy: 0.6346\n",
      "Epoch 4/5\n",
      "90/90 [==============================] - 62s 688ms/step - loss: 0.3550 - accuracy: 0.8632 - val_loss: 1.0236 - val_accuracy: 0.6133\n",
      "Epoch 5/5\n",
      "90/90 [==============================] - 62s 684ms/step - loss: 0.2752 - accuracy: 0.8972 - val_loss: 1.2710 - val_accuracy: 0.5667\n",
      " \n",
      "Iter:  5\n",
      " \n",
      "Epoch 1/5\n",
      "90/90 [==============================] - 64s 709ms/step - loss: 1.0292 - accuracy: 0.4792 - val_loss: 1.0884 - val_accuracy: 0.3607\n",
      "Epoch 2/5\n",
      "90/90 [==============================] - 60s 664ms/step - loss: 0.8370 - accuracy: 0.6103 - val_loss: 1.2467 - val_accuracy: 0.3828\n",
      "Epoch 3/5\n",
      "90/90 [==============================] - 59s 657ms/step - loss: 0.6122 - accuracy: 0.7540 - val_loss: 1.2021 - val_accuracy: 0.4688\n",
      "Epoch 4/5\n",
      "90/90 [==============================] - 59s 660ms/step - loss: 0.4156 - accuracy: 0.8435 - val_loss: 1.4172 - val_accuracy: 0.4451\n",
      "Epoch 5/5\n",
      "90/90 [==============================] - 59s 653ms/step - loss: 0.2973 - accuracy: 0.8918 - val_loss: 1.6330 - val_accuracy: 0.4609\n",
      " \n",
      "Iter:  6\n",
      " \n",
      "Epoch 1/5\n",
      "90/90 [==============================] - 68s 752ms/step - loss: 1.0356 - accuracy: 0.4559 - val_loss: 1.0061 - val_accuracy: 0.4889\n",
      "Epoch 2/5\n",
      "90/90 [==============================] - 64s 708ms/step - loss: 0.7854 - accuracy: 0.6615 - val_loss: 0.9876 - val_accuracy: 0.5276\n",
      "Epoch 3/5\n",
      "90/90 [==============================] - 64s 715ms/step - loss: 0.5132 - accuracy: 0.8002 - val_loss: 1.0998 - val_accuracy: 0.5395\n",
      "Epoch 4/5\n",
      "90/90 [==============================] - 64s 710ms/step - loss: 0.3471 - accuracy: 0.8728 - val_loss: 1.2523 - val_accuracy: 0.5332\n",
      "Epoch 5/5\n",
      "90/90 [==============================] - 64s 709ms/step - loss: 0.2669 - accuracy: 0.8996 - val_loss: 1.4710 - val_accuracy: 0.5284\n",
      " \n",
      "Iter:  7\n",
      " \n",
      "Epoch 1/5\n",
      "90/90 [==============================] - 65s 726ms/step - loss: 1.0317 - accuracy: 0.4749 - val_loss: 0.9961 - val_accuracy: 0.5039\n",
      "Epoch 2/5\n",
      "90/90 [==============================] - 62s 688ms/step - loss: 0.7721 - accuracy: 0.6727 - val_loss: 0.9878 - val_accuracy: 0.5316\n",
      "Epoch 3/5\n",
      "90/90 [==============================] - 62s 686ms/step - loss: 0.5126 - accuracy: 0.8038 - val_loss: 1.1059 - val_accuracy: 0.5261\n",
      "Epoch 4/5\n",
      "90/90 [==============================] - 64s 708ms/step - loss: 0.3549 - accuracy: 0.8714 - val_loss: 1.3413 - val_accuracy: 0.4953\n",
      "Epoch 5/5\n",
      "90/90 [==============================] - 63s 701ms/step - loss: 0.2721 - accuracy: 0.9016 - val_loss: 1.6666 - val_accuracy: 0.4771\n",
      " \n",
      "Iter:  8\n",
      " \n",
      "Epoch 1/5\n",
      "90/90 [==============================] - 71s 792ms/step - loss: 1.0336 - accuracy: 0.4639 - val_loss: 1.0212 - val_accuracy: 0.4803\n",
      "Epoch 2/5\n",
      "90/90 [==============================] - 69s 772ms/step - loss: 0.7955 - accuracy: 0.6494 - val_loss: 0.9618 - val_accuracy: 0.5600\n",
      "Epoch 3/5\n",
      "90/90 [==============================] - 67s 744ms/step - loss: 0.5302 - accuracy: 0.7897 - val_loss: 1.0453 - val_accuracy: 0.5466\n",
      "Epoch 4/5\n",
      "90/90 [==============================] - 67s 741ms/step - loss: 0.3504 - accuracy: 0.8694 - val_loss: 1.2743 - val_accuracy: 0.5237\n",
      "Epoch 5/5\n",
      "90/90 [==============================] - 67s 742ms/step - loss: 0.2595 - accuracy: 0.9050 - val_loss: 1.5381 - val_accuracy: 0.5111\n",
      " \n",
      "Iter:  9\n",
      " \n",
      "Epoch 1/5\n",
      "90/90 [==============================] - 69s 768ms/step - loss: 1.0343 - accuracy: 0.4817 - val_loss: 1.0727 - val_accuracy: 0.4566\n",
      "Epoch 2/5\n",
      "90/90 [==============================] - 66s 735ms/step - loss: 0.7841 - accuracy: 0.6634 - val_loss: 0.9819 - val_accuracy: 0.5411\n",
      "Epoch 3/5\n",
      "90/90 [==============================] - 66s 735ms/step - loss: 0.5177 - accuracy: 0.8009 - val_loss: 1.1662 - val_accuracy: 0.5174\n",
      "Epoch 4/5\n",
      "90/90 [==============================] - 66s 734ms/step - loss: 0.3485 - accuracy: 0.8705 - val_loss: 1.3726 - val_accuracy: 0.4897\n",
      "Epoch 5/5\n",
      "90/90 [==============================] - 66s 734ms/step - loss: 0.2641 - accuracy: 0.9003 - val_loss: 1.5697 - val_accuracy: 0.4850\n",
      " \n",
      "Iter:  10\n",
      " \n",
      "Epoch 1/5\n",
      "90/90 [==============================] - 73s 810ms/step - loss: 1.0292 - accuracy: 0.4814 - val_loss: 1.0158 - val_accuracy: 0.5024\n",
      "Epoch 2/5\n",
      "90/90 [==============================] - 74s 822ms/step - loss: 0.7688 - accuracy: 0.6808 - val_loss: 1.0216 - val_accuracy: 0.5276\n",
      "Epoch 3/5\n",
      "90/90 [==============================] - 74s 824ms/step - loss: 0.5087 - accuracy: 0.8061 - val_loss: 1.2248 - val_accuracy: 0.4897\n",
      "Epoch 4/5\n",
      "90/90 [==============================] - 74s 823ms/step - loss: 0.3514 - accuracy: 0.8695 - val_loss: 1.4840 - val_accuracy: 0.4487\n",
      "Epoch 5/5\n",
      "90/90 [==============================] - 74s 826ms/step - loss: 0.2705 - accuracy: 0.9011 - val_loss: 1.6341 - val_accuracy: 0.4558\n",
      " \n"
     ]
    }
   ],
   "source": [
    "kf = KFold(n_splits=10)\n",
    "val_accuracy = []\n",
    "index = []\n",
    "cont = 0\n",
    "\n",
    "for train_index, test_index in kf.split(Tweet_preprocessed):\n",
    "    cont += 1\n",
    "    \n",
    "    model = tf.keras.Sequential([\n",
    "    vectorize_layer,\n",
    "    tf.keras.layers.Embedding(\n",
    "        input_dim=len(vectorize_layer.get_vocabulary()),\n",
    "        output_dim=64,\n",
    "        mask_zero=True),\n",
    "    \n",
    "    tf.keras.layers.Bidirectional(tf.keras.layers.LSTM(64)),\n",
    "    \n",
    "    tf.keras.layers.Dense(16, activation='relu'),\n",
    "    tf.keras.layers.Dense(3, activation='softmax')\n",
    "    \n",
    "    ])\n",
    "\n",
    "    model.compile(\n",
    "        optimizer= tf.keras.optimizers.Adam(),\n",
    "        loss=tf.keras.losses.categorical_crossentropy,\n",
    "        metrics=['accuracy']\n",
    "    )\n",
    "    \n",
    "    Tweet_preprocessed = np.asarray(pre_X(Tweet_preprocessed))\n",
    "    \n",
    "    X_train, X_test = Tweet_preprocessed[train_index], Tweet_preprocessed[test_index]\n",
    "    y_train, y_test = polarity[train_index], polarity[test_index]\n",
    "    y_train_one = one.fit_transform(y_train.reshape(-1,1))\n",
    "    y_teste_one = one.fit_transform(y_test.reshape(-1,1))\n",
    "    \n",
    "    print(\"Iter: \",cont)\n",
    "    print(\" \")\n",
    "    \n",
    "    fit = model.fit( X_train, y_train_one, epochs=5, batch_size=128 ,validation_data=(X_test, y_teste_one)) \n",
    "    print(\" \")\n",
    "    val_accuracy.append(fit.history['val_accuracy'])\n",
    "    \n",
    "    index.append((train_index,test_index))\n"
   ]
  },
  {
   "cell_type": "code",
   "execution_count": 55,
   "metadata": {},
   "outputs": [
    {
     "name": "stdout",
     "output_type": "stream",
     "text": [
      " Fold: 0\tMédia: 0.5166535079479218\tStd: 0.0626611504312289 \n",
      " Fold: 1\tMédia: 0.5733228206634522\tStd: 0.009596632921266102 \n",
      " Fold: 2\tMédia: 0.48224152326583863\tStd: 0.026385583398524627 \n",
      " Fold: 3\tMédia: 0.6123125433921814\tStd: 0.031378264143979935 \n",
      " Fold: 4\tMédia: 0.4236779808998108\tStd: 0.04364691067164279 \n",
      " Fold: 5\tMédia: 0.5235386967658997\tStd: 0.01780600137282382 \n",
      " Fold: 6\tMédia: 0.5067930579185486\tStd: 0.020048882671699943 \n",
      " Fold: 7\tMédia: 0.5243285953998565\tStd: 0.02789282955916631 \n",
      " Fold: 8\tMédia: 0.4979462862014771\tStd: 0.028934553293534372 \n",
      " Fold: 9\tMédia: 0.4848341166973114\tStd: 0.029387277740615322 \n"
     ]
    }
   ],
   "source": [
    "media_std(val_accuracy)"
   ]
  },
  {
   "cell_type": "code",
   "execution_count": 9,
   "metadata": {},
   "outputs": [
    {
     "data": {
      "text/plain": [
       "0.5145649129152299"
      ]
     },
     "execution_count": 9,
     "metadata": {},
     "output_type": "execute_result"
    }
   ],
   "source": [
    "np.array([0.5166535079479218,\n",
    "0.5733228206634522, \n",
    "0.48224152326583863,\n",
    "0.6123125433921814, \n",
    "0.4236779808998108,  \n",
    "0.5235386967658997, \n",
    "0.5067930579185486,\n",
    "0.5243285953998565,\n",
    "0.4979462862014771, \n",
    "0.4848341166973114]).mean()"
   ]
  },
  {
   "cell_type": "code",
   "execution_count": 11,
   "metadata": {},
   "outputs": [
    {
     "data": {
      "text/plain": [
       "0.029773808620448216"
      ]
     },
     "execution_count": 11,
     "metadata": {},
     "output_type": "execute_result"
    }
   ],
   "source": [
    "np.array([0.0626611504312289, \n",
    "0.009596632921266102, \n",
    "0.026385583398524627, \n",
    "0.031378264143979935, \n",
    "0.04364691067164279,\n",
    "0.01780600137282382, \n",
    "0.020048882671699943, \n",
    "0.02789282955916631, \n",
    "0.028934553293534372, \n",
    "0.029387277740615322]).mean() "
   ]
  },
  {
   "cell_type": "code",
   "execution_count": 56,
   "metadata": {},
   "outputs": [
    {
     "data": {
      "image/png": "[encoded data removed]",
      "text/plain": [
       "<Figure size 864x432 with 1 Axes>"
      ]
     },
     "metadata": {
      "needs_background": "light"
     },
     "output_type": "display_data"
    }
   ],
   "source": [
    "plt.figure(figsize=(12,6))\n",
    "plt.plot(fit.history['loss'], label='Loss', color='darkred')\n",
    "plt.plot(fit.history['val_loss'], label='Val Loss', color='green')\n",
    "plt.legend()\n",
    "plt.grid()\n",
    "plt.ylabel('Loss')\n",
    "plt.show()"
   ]
  },
  {
   "cell_type": "code",
   "execution_count": 57,
   "metadata": {},
   "outputs": [
    {
     "data": {
      "image/png": "[encoded data removed]",
      "text/plain": [
       "<Figure size 864x432 with 1 Axes>"
      ]
     },
     "metadata": {
      "needs_background": "light"
     },
     "output_type": "display_data"
    }
   ],
   "source": [
    "plt.figure(figsize=(12,6))\n",
    "plt.plot(fit.history['accuracy'], label='accuracy', color='darkred')\n",
    "plt.plot(fit.history['val_accuracy'], label='Val accuracy', color='green')\n",
    "plt.legend()\n",
    "plt.grid()\n",
    "plt.ylabel('Accuracy')\n",
    "plt.show()"
   ]
  },
  {
   "cell_type": "markdown",
   "metadata": {},
   "source": [
    "## Conv 1D"
   ]
  },
  {
   "cell_type": "code",
   "execution_count": 22,
   "metadata": {},
   "outputs": [],
   "source": [
    "model = tf.keras.Sequential([\n",
    "    vectorize_layer,\n",
    "    tf.keras.layers.Embedding(\n",
    "        input_dim=len(vectorize_layer.get_vocabulary()),\n",
    "        output_dim=64,\n",
    "        mask_zero=True),\n",
    "    \n",
    "    tf.keras.layers.Conv1D(24,6, activation='relu'),\n",
    "    tf.keras.layers.MaxPooling1D(2),\n",
    "    tf.keras.layers.Flatten(),\n",
    "    \n",
    "    tf.keras.layers.Dense(20, activation='relu'),\n",
    "    tf.keras.layers.Dense(3, activation='softmax')   \n",
    "])\n",
    "\n",
    "model.compile(\n",
    "    optimizer= tf.keras.optimizers.Adam(),\n",
    "    loss=tf.keras.losses.categorical_crossentropy,\n",
    "    metrics=['accuracy']\n",
    ")\n",
    "\n",
    "X_train, X_test, Y_train, Y_test = train_test_split(Tweet_preprocessed, polarity, test_size=0.3)\n",
    "y_one = one.fit_transform(Y_train.reshape(-1,1))\n",
    "y_one_ = one.transform(Y_test.reshape(-1,1))"
   ]
  },
  {
   "cell_type": "code",
   "execution_count": 23,
   "metadata": {},
   "outputs": [
    {
     "name": "stdout",
     "output_type": "stream",
     "text": [
      "Epoch 1/15\n",
      "35/35 [==============================] - 2s 48ms/step - loss: 1.0881 - accuracy: 0.3968 - val_loss: 1.0676 - val_accuracy: 0.4358\n",
      "Epoch 2/15\n",
      "35/35 [==============================] - 2s 46ms/step - loss: 1.0188 - accuracy: 0.4929 - val_loss: 0.9864 - val_accuracy: 0.5171\n",
      "Epoch 3/15\n",
      "35/35 [==============================] - 2s 46ms/step - loss: 0.8680 - accuracy: 0.5752 - val_loss: 0.9650 - val_accuracy: 0.5184\n",
      "Epoch 4/15\n",
      "35/35 [==============================] - 2s 44ms/step - loss: 0.7182 - accuracy: 0.6437 - val_loss: 1.0253 - val_accuracy: 0.5224\n",
      "Epoch 5/15\n",
      "35/35 [==============================] - 2s 47ms/step - loss: 0.6088 - accuracy: 0.7089 - val_loss: 1.1373 - val_accuracy: 0.5079\n",
      "Epoch 6/15\n",
      "35/35 [==============================] - 2s 45ms/step - loss: 0.5137 - accuracy: 0.7849 - val_loss: 1.2374 - val_accuracy: 0.5132\n",
      "Epoch 7/15\n",
      "35/35 [==============================] - 2s 45ms/step - loss: 0.4397 - accuracy: 0.8303 - val_loss: 1.3466 - val_accuracy: 0.5129\n",
      "Epoch 8/15\n",
      "35/35 [==============================] - 2s 44ms/step - loss: 0.3794 - accuracy: 0.8592 - val_loss: 1.4985 - val_accuracy: 0.4974\n",
      "Epoch 9/15\n",
      "35/35 [==============================] - 2s 44ms/step - loss: 0.3313 - accuracy: 0.8832 - val_loss: 1.6493 - val_accuracy: 0.4850\n",
      "Epoch 10/15\n",
      "35/35 [==============================] - 2s 44ms/step - loss: 0.2930 - accuracy: 0.9006 - val_loss: 1.7394 - val_accuracy: 0.5013\n",
      "Epoch 11/15\n",
      "35/35 [==============================] - 2s 44ms/step - loss: 0.2583 - accuracy: 0.9147 - val_loss: 1.8662 - val_accuracy: 0.4824\n",
      "Epoch 12/15\n",
      "35/35 [==============================] - 2s 44ms/step - loss: 0.2272 - accuracy: 0.9269 - val_loss: 1.9602 - val_accuracy: 0.5068\n",
      "Epoch 13/15\n",
      "35/35 [==============================] - 2s 46ms/step - loss: 0.2039 - accuracy: 0.9359 - val_loss: 2.0778 - val_accuracy: 0.5087\n",
      "Epoch 14/15\n",
      "35/35 [==============================] - 2s 46ms/step - loss: 0.1915 - accuracy: 0.9377 - val_loss: 2.1760 - val_accuracy: 0.5003\n",
      "Epoch 15/15\n",
      "35/35 [==============================] - 2s 44ms/step - loss: 0.1702 - accuracy: 0.9463 - val_loss: 2.2613 - val_accuracy: 0.4942\n"
     ]
    }
   ],
   "source": [
    "fit = model.fit(np.asarray(pre_X(X_train)), y_one, epochs=15, batch_size=256 ,validation_data=(np.asarray(pre_X(X_test)), y_one_))"
   ]
  },
  {
   "cell_type": "code",
   "execution_count": null,
   "metadata": {},
   "outputs": [],
   "source": [
    "predicted = model.predict(X_test)\n",
    "\n",
    "print(classification_report(np.argmax(y_one_, axis=1), np.argmax(predicted, axis=1)))"
   ]
  },
  {
   "cell_type": "code",
   "execution_count": 58,
   "metadata": {},
   "outputs": [
    {
     "name": "stdout",
     "output_type": "stream",
     "text": [
      "Iter:  1\n",
      " \n",
      "Epoch 1/5\n",
      "90/90 [==============================] - 4s 43ms/step - loss: 1.0706 - accuracy: 0.4267 - val_loss: 0.9806 - val_accuracy: 0.5833\n",
      "Epoch 2/5\n",
      "90/90 [==============================] - 4s 42ms/step - loss: 0.9136 - accuracy: 0.5562 - val_loss: 0.9866 - val_accuracy: 0.5493\n",
      "Epoch 3/5\n",
      "90/90 [==============================] - 4s 46ms/step - loss: 0.7159 - accuracy: 0.6864 - val_loss: 1.2072 - val_accuracy: 0.4688\n",
      "Epoch 4/5\n",
      "90/90 [==============================] - 4s 49ms/step - loss: 0.5065 - accuracy: 0.8085 - val_loss: 1.2990 - val_accuracy: 0.4925\n",
      "Epoch 5/5\n",
      "90/90 [==============================] - 5s 51ms/step - loss: 0.3438 - accuracy: 0.8731 - val_loss: 1.6258 - val_accuracy: 0.4499\n",
      " \n",
      "Iter:  2\n",
      " \n",
      "Epoch 1/5\n",
      "90/90 [==============================] - 4s 42ms/step - loss: 1.0700 - accuracy: 0.4361 - val_loss: 1.0436 - val_accuracy: 0.5383\n",
      "Epoch 2/5\n",
      "90/90 [==============================] - 3s 39ms/step - loss: 0.8945 - accuracy: 0.5828 - val_loss: 1.0138 - val_accuracy: 0.5438\n",
      "Epoch 3/5\n",
      "90/90 [==============================] - 4s 39ms/step - loss: 0.6559 - accuracy: 0.7258 - val_loss: 1.0462 - val_accuracy: 0.5738\n",
      "Epoch 4/5\n",
      "90/90 [==============================] - 4s 40ms/step - loss: 0.4300 - accuracy: 0.8391 - val_loss: 1.3208 - val_accuracy: 0.5280\n",
      "Epoch 5/5\n",
      "90/90 [==============================] - 4s 39ms/step - loss: 0.2792 - accuracy: 0.9020 - val_loss: 1.3763 - val_accuracy: 0.5675\n",
      " \n",
      "Iter:  3\n",
      " \n",
      "Epoch 1/5\n",
      "90/90 [==============================] - 4s 43ms/step - loss: 1.0537 - accuracy: 0.4520 - val_loss: 1.0433 - val_accuracy: 0.4436\n",
      "Epoch 2/5\n",
      "90/90 [==============================] - 4s 40ms/step - loss: 0.8899 - accuracy: 0.5733 - val_loss: 1.0150 - val_accuracy: 0.4625\n",
      "Epoch 3/5\n",
      "90/90 [==============================] - 4s 40ms/step - loss: 0.7044 - accuracy: 0.6849 - val_loss: 1.0128 - val_accuracy: 0.5430\n",
      "Epoch 4/5\n",
      "90/90 [==============================] - 3s 39ms/step - loss: 0.5760 - accuracy: 0.7557 - val_loss: 1.1577 - val_accuracy: 0.5107\n",
      "Epoch 5/5\n",
      "90/90 [==============================] - 4s 39ms/step - loss: 0.4544 - accuracy: 0.8246 - val_loss: 1.2725 - val_accuracy: 0.4893\n",
      " \n",
      "Iter:  4\n",
      " \n",
      "Epoch 1/5\n",
      "90/90 [==============================] - 4s 41ms/step - loss: 1.0709 - accuracy: 0.4279 - val_loss: 0.9452 - val_accuracy: 0.5493\n",
      "Epoch 2/5\n",
      "90/90 [==============================] - 3s 38ms/step - loss: 0.9091 - accuracy: 0.5633 - val_loss: 0.9023 - val_accuracy: 0.5785\n",
      "Epoch 3/5\n",
      "90/90 [==============================] - 4s 40ms/step - loss: 0.7126 - accuracy: 0.6861 - val_loss: 0.9542 - val_accuracy: 0.5777\n",
      "Epoch 4/5\n",
      "90/90 [==============================] - 4s 39ms/step - loss: 0.5356 - accuracy: 0.7937 - val_loss: 0.9488 - val_accuracy: 0.6101\n",
      "Epoch 5/5\n",
      "90/90 [==============================] - 3s 39ms/step - loss: 0.3893 - accuracy: 0.8627 - val_loss: 1.0905 - val_accuracy: 0.5896\n",
      " \n",
      "Iter:  5\n",
      " \n",
      "Epoch 1/5\n",
      "90/90 [==============================] - 4s 42ms/step - loss: 1.0748 - accuracy: 0.4246 - val_loss: 1.1628 - val_accuracy: 0.2376\n",
      "Epoch 2/5\n",
      "90/90 [==============================] - 4s 40ms/step - loss: 0.9220 - accuracy: 0.5709 - val_loss: 1.0591 - val_accuracy: 0.4112\n",
      "Epoch 3/5\n",
      "90/90 [==============================] - 3s 39ms/step - loss: 0.6729 - accuracy: 0.7320 - val_loss: 1.2008 - val_accuracy: 0.4262\n",
      "Epoch 4/5\n",
      "90/90 [==============================] - 4s 39ms/step - loss: 0.4552 - accuracy: 0.8273 - val_loss: 1.2661 - val_accuracy: 0.4625\n",
      "Epoch 5/5\n",
      "90/90 [==============================] - 4s 39ms/step - loss: 0.3028 - accuracy: 0.8900 - val_loss: 1.4069 - val_accuracy: 0.4522\n",
      " \n",
      "Iter:  6\n",
      " \n",
      "Epoch 1/5\n",
      "90/90 [==============================] - 4s 42ms/step - loss: 1.0815 - accuracy: 0.3962 - val_loss: 1.1149 - val_accuracy: 0.3381\n",
      "Epoch 2/5\n",
      "90/90 [==============================] - 4s 39ms/step - loss: 0.9691 - accuracy: 0.5343 - val_loss: 1.0418 - val_accuracy: 0.4787\n",
      "Epoch 3/5\n",
      "90/90 [==============================] - 4s 40ms/step - loss: 0.7313 - accuracy: 0.7128 - val_loss: 1.0043 - val_accuracy: 0.5316\n",
      "Epoch 4/5\n",
      "90/90 [==============================] - 4s 40ms/step - loss: 0.4902 - accuracy: 0.8168 - val_loss: 1.0953 - val_accuracy: 0.5308\n",
      "Epoch 5/5\n",
      "90/90 [==============================] - 4s 40ms/step - loss: 0.3266 - accuracy: 0.8824 - val_loss: 1.2407 - val_accuracy: 0.5166\n",
      " \n",
      "Iter:  7\n",
      " \n",
      "Epoch 1/5\n",
      "90/90 [==============================] - 4s 42ms/step - loss: 1.0615 - accuracy: 0.4360 - val_loss: 1.0396 - val_accuracy: 0.4629\n",
      "Epoch 2/5\n",
      "90/90 [==============================] - 4s 39ms/step - loss: 0.9001 - accuracy: 0.5691 - val_loss: 0.9765 - val_accuracy: 0.4992\n",
      "Epoch 3/5\n",
      "90/90 [==============================] - 4s 40ms/step - loss: 0.7109 - accuracy: 0.6816 - val_loss: 1.0264 - val_accuracy: 0.4731\n",
      "Epoch 4/5\n",
      "90/90 [==============================] - 4s 40ms/step - loss: 0.5454 - accuracy: 0.7822 - val_loss: 1.1763 - val_accuracy: 0.4795\n",
      "Epoch 5/5\n",
      "90/90 [==============================] - 4s 40ms/step - loss: 0.4079 - accuracy: 0.8508 - val_loss: 1.2870 - val_accuracy: 0.5008\n",
      " \n",
      "Iter:  8\n",
      " \n",
      "Epoch 1/5\n",
      "90/90 [==============================] - 4s 45ms/step - loss: 1.0696 - accuracy: 0.4212 - val_loss: 1.0338 - val_accuracy: 0.5039\n",
      "Epoch 2/5\n",
      "90/90 [==============================] - 4s 45ms/step - loss: 0.9023 - accuracy: 0.5793 - val_loss: 0.9915 - val_accuracy: 0.5253\n",
      "Epoch 3/5\n",
      "90/90 [==============================] - 4s 47ms/step - loss: 0.6802 - accuracy: 0.7257 - val_loss: 1.0117 - val_accuracy: 0.5292\n",
      "Epoch 4/5\n",
      "90/90 [==============================] - 4s 45ms/step - loss: 0.4624 - accuracy: 0.8302 - val_loss: 1.1016 - val_accuracy: 0.5545\n",
      "Epoch 5/5\n",
      "90/90 [==============================] - 4s 49ms/step - loss: 0.3114 - accuracy: 0.8866 - val_loss: 1.2798 - val_accuracy: 0.5134\n",
      " \n",
      "Iter:  9\n",
      " \n",
      "Epoch 1/5\n",
      "90/90 [==============================] - 5s 51ms/step - loss: 1.0880 - accuracy: 0.3928 - val_loss: 1.0872 - val_accuracy: 0.3926\n",
      "Epoch 2/5\n",
      "90/90 [==============================] - 4s 41ms/step - loss: 0.9746 - accuracy: 0.5200 - val_loss: 0.9940 - val_accuracy: 0.5332\n",
      "Epoch 3/5\n",
      "90/90 [==============================] - 4s 40ms/step - loss: 0.7892 - accuracy: 0.6274 - val_loss: 1.1208 - val_accuracy: 0.4747\n",
      "Epoch 4/5\n",
      "90/90 [==============================] - 4s 40ms/step - loss: 0.6309 - accuracy: 0.7270 - val_loss: 1.3053 - val_accuracy: 0.4115\n",
      "Epoch 5/5\n",
      "90/90 [==============================] - 4s 39ms/step - loss: 0.5158 - accuracy: 0.7949 - val_loss: 1.5566 - val_accuracy: 0.4131\n",
      " \n",
      "Iter:  10\n",
      " \n",
      "Epoch 1/5\n",
      "90/90 [==============================] - 4s 42ms/step - loss: 1.0597 - accuracy: 0.4357 - val_loss: 1.0511 - val_accuracy: 0.4494\n",
      "Epoch 2/5\n",
      "90/90 [==============================] - 4s 41ms/step - loss: 0.8837 - accuracy: 0.5866 - val_loss: 1.0252 - val_accuracy: 0.5158\n",
      "Epoch 3/5\n",
      "90/90 [==============================] - 4s 41ms/step - loss: 0.6713 - accuracy: 0.7266 - val_loss: 1.0958 - val_accuracy: 0.4984\n",
      "Epoch 4/5\n",
      "90/90 [==============================] - 4s 42ms/step - loss: 0.4592 - accuracy: 0.8282 - val_loss: 1.2598 - val_accuracy: 0.4953\n",
      "Epoch 5/5\n",
      "90/90 [==============================] - 4s 40ms/step - loss: 0.3132 - accuracy: 0.8857 - val_loss: 1.4065 - val_accuracy: 0.4755\n",
      " \n"
     ]
    }
   ],
   "source": [
    "kf = KFold(n_splits=10)\n",
    "val_accuracy = []\n",
    "index = []\n",
    "cont = 0\n",
    "\n",
    "for train_index, test_index in kf.split(Tweet_preprocessed):\n",
    "    cont += 1\n",
    "    \n",
    "    model = tf.keras.Sequential([\n",
    "    vectorize_layer,\n",
    "    tf.keras.layers.Embedding(\n",
    "        input_dim=len(vectorize_layer.get_vocabulary()),\n",
    "        output_dim=64,\n",
    "        mask_zero=True),\n",
    "    \n",
    "    tf.keras.layers.Conv1D(24,6, activation='relu'),\n",
    "    tf.keras.layers.MaxPooling1D(2),\n",
    "    tf.keras.layers.Flatten(),\n",
    "    \n",
    "    tf.keras.layers.Dense(20, activation='relu'),\n",
    "    tf.keras.layers.Dense(3, activation='softmax')   \n",
    "    \n",
    "    ])\n",
    "\n",
    "    model.compile(\n",
    "        optimizer= tf.keras.optimizers.Adam(),\n",
    "        loss=tf.keras.losses.categorical_crossentropy,\n",
    "        metrics=['accuracy']\n",
    "    )\n",
    "    \n",
    "    Tweet_preprocessed = np.asarray(pre_X(Tweet_preprocessed))\n",
    "    \n",
    "    X_train, X_test = Tweet_preprocessed[train_index], Tweet_preprocessed[test_index]\n",
    "    y_train, y_test = polarity[train_index], polarity[test_index]\n",
    "    y_train_one = one.fit_transform(y_train.reshape(-1,1))\n",
    "    y_teste_one = one.fit_transform(y_test.reshape(-1,1))\n",
    "    \n",
    "    print(\"Iter: \",cont)\n",
    "    print(\" \")\n",
    "    \n",
    "    fit = model.fit( X_train, y_train_one, epochs=5, batch_size=128 ,validation_data=(X_test, y_teste_one)) \n",
    "    print(\" \")\n",
    "    val_accuracy.append(fit.history['val_accuracy'])\n",
    "    \n",
    "    index.append((train_index,test_index))\n"
   ]
  },
  {
   "cell_type": "code",
   "execution_count": 59,
   "metadata": {},
   "outputs": [
    {
     "name": "stdout",
     "output_type": "stream",
     "text": [
      " Fold: 0\tMédia: 0.5087608516216278\tStd: 0.050046182571689204 \n",
      " Fold: 1\tMédia: 0.550276255607605\tStd: 0.01749537431159965 \n",
      " Fold: 2\tMédia: 0.48981847167015075\tStd: 0.03506900065629974 \n",
      " Fold: 3\tMédia: 0.581057608127594\tStd: 0.019699423030629607 \n",
      " Fold: 4\tMédia: 0.3979479134082794\tStd: 0.0822343953430962 \n",
      " Fold: 5\tMédia: 0.4791469216346741\tStd: 0.07310742131806822 \n",
      " Fold: 6\tMédia: 0.4830963611602783\tStd: 0.014790986183348157 \n",
      " Fold: 7\tMédia: 0.5252764582633972\tStd: 0.01711710414242442 \n",
      " Fold: 8\tMédia: 0.4450236916542053\tStd: 0.052045504822659384 \n",
      " Fold: 9\tMédia: 0.48688783049583434\tStd: 0.022671893755531875 \n"
     ]
    }
   ],
   "source": [
    "media_std(val_accuracy)"
   ]
  },
  {
   "cell_type": "code",
   "execution_count": 13,
   "metadata": {},
   "outputs": [
    {
     "data": {
      "text/plain": [
       "0.4947292363643645"
      ]
     },
     "execution_count": 13,
     "metadata": {},
     "output_type": "execute_result"
    }
   ],
   "source": [
    "np.array([0.5087608516216278, \n",
    "0.550276255607605, \n",
    "0.48981847167015075, \n",
    "0.581057608127594,\n",
    "0.3979479134082794, \n",
    "0.4791469216346741,\n",
    "0.4830963611602783,\n",
    "0.5252764582633972,\n",
    "0.4450236916542053,\n",
    "0.48688783049583434]).mean()"
   ]
  },
  {
   "cell_type": "code",
   "execution_count": 12,
   "metadata": {},
   "outputs": [
    {
     "data": {
      "text/plain": [
       "0.03842772861353465"
      ]
     },
     "execution_count": 12,
     "metadata": {},
     "output_type": "execute_result"
    }
   ],
   "source": [
    "np.array([0.050046182571689204,\n",
    "0.01749537431159965,\n",
    "0.03506900065629974,\n",
    "0.019699423030629607,\n",
    "0.0822343953430962,\n",
    "0.07310742131806822, \n",
    "0.014790986183348157,\n",
    "0.01711710414242442,\n",
    "0.052045504822659384,\n",
    "0.022671893755531875]).mean() \n"
   ]
  },
  {
   "cell_type": "code",
   "execution_count": 60,
   "metadata": {},
   "outputs": [
    {
     "data": {
      "image/png": "[encoded data removed]",
      "text/plain": [
       "<Figure size 864x432 with 1 Axes>"
      ]
     },
     "metadata": {
      "needs_background": "light"
     },
     "output_type": "display_data"
    }
   ],
   "source": [
    "plt.figure(figsize=(12,6))\n",
    "plt.plot(fit.history['loss'], label='Loss', color='darkred')\n",
    "plt.plot(fit.history['val_loss'], label='Val Loss', color='green')\n",
    "plt.legend()\n",
    "plt.grid()\n",
    "plt.ylabel('Loss')\n",
    "plt.show()"
   ]
  },
  {
   "cell_type": "code",
   "execution_count": 61,
   "metadata": {},
   "outputs": [
    {
     "data": {
      "image/png": "[encoded data removed]",
      "text/plain": [
       "<Figure size 864x432 with 1 Axes>"
      ]
     },
     "metadata": {
      "needs_background": "light"
     },
     "output_type": "display_data"
    }
   ],
   "source": [
    "plt.figure(figsize=(12,6))\n",
    "plt.plot(fit.history['accuracy'], label='accuracy', color='darkred')\n",
    "plt.plot(fit.history['val_accuracy'], label='Val accuracy', color='green')\n",
    "plt.legend()\n",
    "plt.grid()\n",
    "plt.ylabel('Accuracy')\n",
    "plt.show()"
   ]
  },
  {
   "cell_type": "markdown",
   "metadata": {},
   "source": [
    "## AutoKeras"
   ]
  },
  {
   "cell_type": "code",
   "execution_count": 63,
   "metadata": {},
   "outputs": [
    {
     "name": "stdout",
     "output_type": "stream",
     "text": [
      "INFO:tensorflow:Reloading Oracle from existing project .\\text_classifier\\oracle.json\n",
      "INFO:tensorflow:Reloading Tuner from .\\text_classifier\\tuner0.json\n",
      "Iter:  1\n",
      " \n",
      "INFO:tensorflow:Oracle triggered exit\n",
      "Epoch 1/5\n",
      "357/357 [==============================] - 56s 158ms/step - loss: 0.6022 - accuracy: 0.4936 - val_loss: 0.5733 - val_accuracy: 0.6440\n",
      "Epoch 2/5\n",
      "357/357 [==============================] - 58s 162ms/step - loss: 0.5144 - accuracy: 0.6151 - val_loss: 0.5251 - val_accuracy: 0.6109\n",
      "Epoch 3/5\n",
      "357/357 [==============================] - 59s 165ms/step - loss: 0.3968 - accuracy: 0.7347 - val_loss: 0.5824 - val_accuracy: 0.5722\n",
      "Epoch 4/5\n",
      "357/357 [==============================] - 57s 160ms/step - loss: 0.3109 - accuracy: 0.8081 - val_loss: 0.6632 - val_accuracy: 0.5667\n",
      "Epoch 5/5\n",
      "357/357 [==============================] - 59s 166ms/step - loss: 0.2403 - accuracy: 0.8579 - val_loss: 0.7955 - val_accuracy: 0.5509\n",
      "WARNING:tensorflow:From c:\\users\\ddayv\\appdata\\local\\programs\\python\\python37\\lib\\site-packages\\tensorflow\\python\\training\\tracking\\tracking.py:111: Model.state_updates (from tensorflow.python.keras.engine.training) is deprecated and will be removed in a future version.\n",
      "Instructions for updating:\n",
      "This property should not be used in TensorFlow 2.0, as updates are applied automatically.\n",
      "WARNING:tensorflow:From c:\\users\\ddayv\\appdata\\local\\programs\\python\\python37\\lib\\site-packages\\tensorflow\\python\\training\\tracking\\tracking.py:111: Layer.updates (from tensorflow.python.keras.engine.base_layer) is deprecated and will be removed in a future version.\n",
      "Instructions for updating:\n",
      "This property should not be used in TensorFlow 2.0, as updates are applied automatically.\n",
      "INFO:tensorflow:Assets written to: .\\text_classifier\\best_model\\assets\n",
      " \n"
     ]
    },
    {
     "ename": "AttributeError",
     "evalue": "'NoneType' object has no attribute 'history'",
     "output_type": "error",
     "traceback": [
      "\u001b[1;31m---------------------------------------------------------------------------\u001b[0m",
      "\u001b[1;31mAttributeError\u001b[0m                            Traceback (most recent call last)",
      "\u001b[1;32m<ipython-input-63-0c78ff343462>\u001b[0m in \u001b[0;36m<module>\u001b[1;34m\u001b[0m\n\u001b[0;32m     58\u001b[0m \u001b[1;33m\u001b[0m\u001b[0m\n\u001b[0;32m     59\u001b[0m     \u001b[0mprint\u001b[0m\u001b[1;33m(\u001b[0m\u001b[1;34m\" \"\u001b[0m\u001b[1;33m)\u001b[0m\u001b[1;33m\u001b[0m\u001b[1;33m\u001b[0m\u001b[0m\n\u001b[1;32m---> 60\u001b[1;33m     \u001b[0mval_accuracy\u001b[0m\u001b[1;33m.\u001b[0m\u001b[0mappend\u001b[0m\u001b[1;33m(\u001b[0m\u001b[0mfit\u001b[0m\u001b[1;33m.\u001b[0m\u001b[0mhistory\u001b[0m\u001b[1;33m[\u001b[0m\u001b[1;34m'val_accuracy'\u001b[0m\u001b[1;33m]\u001b[0m\u001b[1;33m)\u001b[0m\u001b[1;33m\u001b[0m\u001b[1;33m\u001b[0m\u001b[0m\n\u001b[0m\u001b[0;32m     61\u001b[0m \u001b[1;33m\u001b[0m\u001b[0m\n\u001b[0;32m     62\u001b[0m     \u001b[0mindex\u001b[0m\u001b[1;33m.\u001b[0m\u001b[0mappend\u001b[0m\u001b[1;33m(\u001b[0m\u001b[1;33m(\u001b[0m\u001b[0mtrain_index\u001b[0m\u001b[1;33m,\u001b[0m\u001b[0mtest_index\u001b[0m\u001b[1;33m)\u001b[0m\u001b[1;33m)\u001b[0m\u001b[1;33m\u001b[0m\u001b[1;33m\u001b[0m\u001b[0m\n",
      "\u001b[1;31mAttributeError\u001b[0m: 'NoneType' object has no attribute 'history'"
     ]
    }
   ],
   "source": [
    "TextClassifier = ak.TextClassifier(\n",
    "    num_classes=3, \n",
    "    multi_label=True, \n",
    "    loss=tf.keras.losses.categorical_crossentropy, \n",
    "    metrics=['accuracy'],\n",
    "    project_name=\"text_classifier\",\n",
    "    max_trials=1,\n",
    "    objective=\"val_loss\"\n",
    ")\n",
    "\n",
    "# fit = TextClassifier.fit(\n",
    "#     x=np.asarray(pre_X(X_train)), y=one.fit_transform(Y_train.reshape(-1,1)), epochs=10, validation_split=0.2, validation_data=(np.asarray(pre_X(X_test)),one.fit_transform(Y_test.reshape(-1,1)) )\n",
    "# )\n",
    "\n",
    "kf = KFold(n_splits=10)\n",
    "val_accuracy = []\n",
    "index = []\n",
    "cont = 0\n",
    "\n",
    "for train_index, test_index in kf.split(Tweet_preprocessed):\n",
    "    cont += 1\n",
    "    \n",
    "    model = tf.keras.Sequential([\n",
    "    vectorize_layer,\n",
    "    tf.keras.layers.Embedding(\n",
    "        input_dim=len(vectorize_layer.get_vocabulary()),\n",
    "        output_dim=64,\n",
    "        mask_zero=True),\n",
    "    \n",
    "    tf.keras.layers.Conv1D(24,6, activation='relu'),\n",
    "    tf.keras.layers.MaxPooling1D(2),\n",
    "    tf.keras.layers.Flatten(),\n",
    "    \n",
    "    tf.keras.layers.Dense(20, activation='relu'),\n",
    "    tf.keras.layers.Dense(3, activation='softmax')   \n",
    "    \n",
    "    ])\n",
    "\n",
    "    model.compile(\n",
    "        optimizer= tf.keras.optimizers.Adam(),\n",
    "        loss=tf.keras.losses.categorical_crossentropy,\n",
    "        metrics=['accuracy']\n",
    "    )\n",
    "    \n",
    "    Tweet_preprocessed = np.asarray(pre_X(Tweet_preprocessed))\n",
    "    \n",
    "    X_train, X_test = Tweet_preprocessed[train_index], Tweet_preprocessed[test_index]\n",
    "    y_train, y_test = polarity[train_index], polarity[test_index]\n",
    "    y_train_one = one.fit_transform(y_train.reshape(-1,1))\n",
    "    y_teste_one = one.fit_transform(y_test.reshape(-1,1))\n",
    "    \n",
    "    print(\"Iter: \",cont)\n",
    "    print(\" \")\n",
    "    \n",
    "    fit = TextClassifier.fit(\n",
    "    x= X_train, y=y_train_one, epochs=5, validation_split=0.2, validation_data=(X_test, y_teste_one )\n",
    "    )\n",
    "    \n",
    "    print(\" \")\n",
    "    val_accuracy.append(fit.history['val_accuracy'])\n",
    "    \n",
    "    index.append((train_index,test_index))"
   ]
  },
  {
   "cell_type": "code",
   "execution_count": null,
   "metadata": {},
   "outputs": [],
   "source": [
    "media_std(val_accuracy)"
   ]
  }
 ],
 "metadata": {
  "kernelspec": {
   "display_name": "Python 3",
   "language": "python",
   "name": "python3"
  },
  "language_info": {
   "codemirror_mode": {
    "name": "ipython",
    "version": 3
   },
   "file_extension": ".py",
   "mimetype": "text/x-python",
   "name": "python",
   "nbconvert_exporter": "python",
   "pygments_lexer": "ipython3",
   "version": "3.7.9"
  }
 },
 "nbformat": 4,
 "nbformat_minor": 2
}
