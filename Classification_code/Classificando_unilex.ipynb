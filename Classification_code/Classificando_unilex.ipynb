{
 "cells": [
  {
   "cell_type": "code",
   "execution_count": 73,
   "metadata": {},
   "outputs": [
    {
     "name": "stderr",
     "output_type": "stream",
     "text": [
      "[nltk_data] Downloading package stopwords to\n",
      "[nltk_data]     C:\\Users\\ddayv\\AppData\\Roaming\\nltk_data...\n",
      "[nltk_data]   Package stopwords is already up-to-date!\n",
      "[nltk_data] Downloading package wordnet to\n",
      "[nltk_data]     C:\\Users\\ddayv\\AppData\\Roaming\\nltk_data...\n",
      "[nltk_data]   Package wordnet is already up-to-date!\n"
     ]
    },
    {
     "data": {
      "text/plain": [
       "True"
      ]
     },
     "execution_count": 73,
     "metadata": {},
     "output_type": "execute_result"
    }
   ],
   "source": [
    "import pandas as pd\n",
    "import numpy as np\n",
    "from sklearn.feature_extraction.text import CountVectorizer\n",
    "from sklearn.feature_extraction.text import TfidfTransformer\n",
    "from sklearn.naive_bayes import MultinomialNB\n",
    "from sklearn.pipeline import Pipeline\n",
    "from sklearn.model_selection import train_test_split\n",
    "from sklearn import metrics\n",
    "import seaborn as sns\n",
    "import re\n",
    "\n",
    "import tensorflow as tf\n",
    "from tensorflow.keras.layers.experimental.preprocessing import TextVectorization\n",
    "from nltk import word_tokenize, RegexpTokenizer\n",
    "from nltk.corpus import stopwords, wordnet\n",
    "from sklearn.preprocessing import OneHotEncoder\n",
    "import matplotlib.pyplot as plt\n",
    "\n",
    "import nltk\n",
    "nltk.download('stopwords')\n",
    "nltk.download('wordnet')"
   ]
  },
  {
   "cell_type": "code",
   "execution_count": 2,
   "metadata": {},
   "outputs": [
    {
     "data": {
      "text/plain": [
       "(12670, 2)"
      ]
     },
     "execution_count": 2,
     "metadata": {},
     "output_type": "execute_result"
    }
   ],
   "source": [
    "df = pd.read_excel('./rotulação/TweetsPolitical01 OK OK.xlsx')\n",
    "df2 = pd.read_excel('./rotulação/TweetsPolitical02 OK OK.xlsx')\n",
    "df3 = pd.read_excel('./rotulação/TweetsPolitical03 OK OK.xlsx')\n",
    "df4 = pd.read_excel('./rotulação/TweetsPolitical04 OK OK.xlsx')\n",
    "df5 = pd.read_excel('./rotulação/TweetsPolitical05 OK OK.xlsx')\n",
    "df6 = pd.read_excel('./rotulação/TweetsPolitical06 OK OK.xlsx')\n",
    "df7 = pd.read_excel('./rotulação/TweetsPolitical07 OK OK.xlsx')\n",
    "df8 = pd.read_excel('./rotulação/TweetsPolitical08 OK OK.xlsx')\n",
    "df9 = pd.read_excel('./rotulação/TweetsPolitical09 OK OK.xlsx')\n",
    "df10 = pd.read_excel('./rotulação/TweetsPolitical10 OK OK.xlsx')\n",
    "df11 = pd.read_excel('./rotulação/TweetsPolitical11 OK OK.xlsx')\n",
    "df12 = pd.read_excel('./rotulação/TweetsPolitical12 OK OK.xlsx')\n",
    "df13 = pd.read_excel('./rotulação/TweetsPolitical13 OK OK.xlsx')\n",
    "df14 = pd.read_excel('./rotulação/TweetsPolitical14 OK OK.xlsx')\n",
    "df15 = pd.read_excel('./rotulação/TweetsPolitical15 OK OK.xlsx')\n",
    "\n",
    "lista = [df,df2,df3,df4,df5,df6,df7,df8,df9,df10,df11,df12,df13,df14,df15]\n",
    "\n",
    "df_all = pd.concat(lista)\n",
    "df_all.shape"
   ]
  },
  {
   "cell_type": "code",
   "execution_count": 3,
   "metadata": {},
   "outputs": [
    {
     "data": {
      "text/plain": [
       "'Governo do #PSDB golpista &gt; Falta merenda - surrupiada - sobra polícia armada pra oprimir adolescentes que lutam por suas escolas públicas.\\n'"
      ]
     },
     "execution_count": 3,
     "metadata": {},
     "output_type": "execute_result"
    }
   ],
   "source": [
    "df_all[df_all['Polaridade'] == -2]['Tweet'][488]\n",
    "#df_all[df_all['Polaridade']\n",
    "# df_remove = df_all[df_all['Polaridade'] == -2]\n",
    "# ultimo_df = df_all.drop(df_remove.index)\n",
    "# df_remove = df_all[df_all['Polaridade'] == 11]\n",
    "# ultimo_df = df_all.drop(df_remove.index)"
   ]
  },
  {
   "cell_type": "code",
   "execution_count": 4,
   "metadata": {},
   "outputs": [
    {
     "data": {
      "text/plain": [
       "<AxesSubplot:xlabel='Polaridade', ylabel='count'>"
      ]
     },
     "execution_count": 4,
     "metadata": {},
     "output_type": "execute_result"
    },
    {
     "data": {
      "image/png": "[encoded data removed]",
      "text/plain": [
       "<Figure size 432x288 with 1 Axes>"
      ]
     },
     "metadata": {
      "needs_background": "light"
     },
     "output_type": "display_data"
    }
   ],
   "source": [
    "df_all.isnull().sum()\n",
    "df_all = df_all.dropna()\n",
    "df_all.isnull().sum()\n",
    "\n",
    "sns.countplot(data=df_all, x='Polaridade')"
   ]
  },
  {
   "cell_type": "code",
   "execution_count": 5,
   "metadata": {},
   "outputs": [
    {
     "data": {
      "text/html": [
       "<div>\n",
       "<style scoped>\n",
       "    .dataframe tbody tr th:only-of-type {\n",
       "        vertical-align: middle;\n",
       "    }\n",
       "\n",
       "    .dataframe tbody tr th {\n",
       "        vertical-align: top;\n",
       "    }\n",
       "\n",
       "    .dataframe thead th {\n",
       "        text-align: right;\n",
       "    }\n",
       "</style>\n",
       "<table border=\"1\" class=\"dataframe\">\n",
       "  <thead>\n",
       "    <tr style=\"text-align: right;\">\n",
       "      <th></th>\n",
       "      <th>index</th>\n",
       "      <th>Tweet</th>\n",
       "      <th>Polaridade</th>\n",
       "    </tr>\n",
       "  </thead>\n",
       "  <tbody>\n",
       "    <tr>\n",
       "      <th>0</th>\n",
       "      <td>0</td>\n",
       "      <td>- #CaoNossoDeCadaDia #Novo - Vanessa Mandotti ...</td>\n",
       "      <td>0.0</td>\n",
       "    </tr>\n",
       "    <tr>\n",
       "      <th>1</th>\n",
       "      <td>1</td>\n",
       "      <td>- Bola pra frente que amanhã é outro dia, outr...</td>\n",
       "      <td>1.0</td>\n",
       "    </tr>\n",
       "    <tr>\n",
       "      <th>2</th>\n",
       "      <td>2</td>\n",
       "      <td>- Cara de mal? Acho que não... Apenas um corte...</td>\n",
       "      <td>1.0</td>\n",
       "    </tr>\n",
       "    <tr>\n",
       "      <th>3</th>\n",
       "      <td>3</td>\n",
       "      <td>\" #PCdoB O PARTIDO QUE FAZ A DIFERENÇA: LEAL E...</td>\n",
       "      <td>1.0</td>\n",
       "    </tr>\n",
       "    <tr>\n",
       "      <th>4</th>\n",
       "      <td>4</td>\n",
       "      <td>\"@camaradamae: #PCdoB o Partido da coragem !  ...</td>\n",
       "      <td>1.0</td>\n",
       "    </tr>\n",
       "    <tr>\n",
       "      <th>...</th>\n",
       "      <td>...</td>\n",
       "      <td>...</td>\n",
       "      <td>...</td>\n",
       "    </tr>\n",
       "    <tr>\n",
       "      <th>12663</th>\n",
       "      <td>78</td>\n",
       "      <td>Bom diaa  #SD Moisés Sou Boina Preta e Não Tem...</td>\n",
       "      <td>1.0</td>\n",
       "    </tr>\n",
       "    <tr>\n",
       "      <th>12664</th>\n",
       "      <td>79</td>\n",
       "      <td>Sei que leve por divisa esse \"V\" que simboliza...</td>\n",
       "      <td>1.0</td>\n",
       "    </tr>\n",
       "    <tr>\n",
       "      <th>12665</th>\n",
       "      <td>80</td>\n",
       "      <td>L'ambiance d'hier au stade c'est grace ao Maca...</td>\n",
       "      <td>1.0</td>\n",
       "    </tr>\n",
       "    <tr>\n",
       "      <th>12666</th>\n",
       "      <td>81</td>\n",
       "      <td>Mais tarde tem mais SD no Chopp E Cia...hoje é...</td>\n",
       "      <td>1.0</td>\n",
       "    </tr>\n",
       "    <tr>\n",
       "      <th>12667</th>\n",
       "      <td>82</td>\n",
       "      <td>Obrigado por tudo Mister Luis Castro,boa sorte...</td>\n",
       "      <td>1.0</td>\n",
       "    </tr>\n",
       "  </tbody>\n",
       "</table>\n",
       "<p>12668 rows × 3 columns</p>\n",
       "</div>"
      ],
      "text/plain": [
       "       index                                              Tweet  Polaridade\n",
       "0          0  - #CaoNossoDeCadaDia #Novo - Vanessa Mandotti ...         0.0\n",
       "1          1  - Bola pra frente que amanhã é outro dia, outr...         1.0\n",
       "2          2  - Cara de mal? Acho que não... Apenas um corte...         1.0\n",
       "3          3  \" #PCdoB O PARTIDO QUE FAZ A DIFERENÇA: LEAL E...         1.0\n",
       "4          4  \"@camaradamae: #PCdoB o Partido da coragem !  ...         1.0\n",
       "...      ...                                                ...         ...\n",
       "12663     78  Bom diaa  #SD Moisés Sou Boina Preta e Não Tem...         1.0\n",
       "12664     79  Sei que leve por divisa esse \"V\" que simboliza...         1.0\n",
       "12665     80  L'ambiance d'hier au stade c'est grace ao Maca...         1.0\n",
       "12666     81  Mais tarde tem mais SD no Chopp E Cia...hoje é...         1.0\n",
       "12667     82  Obrigado por tudo Mister Luis Castro,boa sorte...         1.0\n",
       "\n",
       "[12668 rows x 3 columns]"
      ]
     },
     "execution_count": 5,
     "metadata": {},
     "output_type": "execute_result"
    }
   ],
   "source": [
    "df_all = df_all.reset_index()\n",
    "df_all"
   ]
  },
  {
   "cell_type": "code",
   "execution_count": 6,
   "metadata": {},
   "outputs": [
    {
     "data": {
      "text/html": [
       "<div>\n",
       "<style scoped>\n",
       "    .dataframe tbody tr th:only-of-type {\n",
       "        vertical-align: middle;\n",
       "    }\n",
       "\n",
       "    .dataframe tbody tr th {\n",
       "        vertical-align: top;\n",
       "    }\n",
       "\n",
       "    .dataframe thead th {\n",
       "        text-align: right;\n",
       "    }\n",
       "</style>\n",
       "<table border=\"1\" class=\"dataframe\">\n",
       "  <thead>\n",
       "    <tr style=\"text-align: right;\">\n",
       "      <th></th>\n",
       "      <th>Tweet</th>\n",
       "      <th>Polaridade</th>\n",
       "    </tr>\n",
       "  </thead>\n",
       "  <tbody>\n",
       "    <tr>\n",
       "      <th>0</th>\n",
       "      <td>- #CaoNossoDeCadaDia #Novo - Vanessa Mandotti ...</td>\n",
       "      <td>0.0</td>\n",
       "    </tr>\n",
       "    <tr>\n",
       "      <th>1</th>\n",
       "      <td>- Bola pra frente que amanhã é outro dia, outr...</td>\n",
       "      <td>1.0</td>\n",
       "    </tr>\n",
       "    <tr>\n",
       "      <th>2</th>\n",
       "      <td>- Cara de mal? Acho que não... Apenas um corte...</td>\n",
       "      <td>1.0</td>\n",
       "    </tr>\n",
       "    <tr>\n",
       "      <th>3</th>\n",
       "      <td>\" #PCdoB O PARTIDO QUE FAZ A DIFERENÇA: LEAL E...</td>\n",
       "      <td>1.0</td>\n",
       "    </tr>\n",
       "    <tr>\n",
       "      <th>4</th>\n",
       "      <td>\"@camaradamae: #PCdoB o Partido da coragem !  ...</td>\n",
       "      <td>1.0</td>\n",
       "    </tr>\n",
       "    <tr>\n",
       "      <th>...</th>\n",
       "      <td>...</td>\n",
       "      <td>...</td>\n",
       "    </tr>\n",
       "    <tr>\n",
       "      <th>12663</th>\n",
       "      <td>Bom diaa  #SD Moisés Sou Boina Preta e Não Tem...</td>\n",
       "      <td>1.0</td>\n",
       "    </tr>\n",
       "    <tr>\n",
       "      <th>12664</th>\n",
       "      <td>Sei que leve por divisa esse \"V\" que simboliza...</td>\n",
       "      <td>1.0</td>\n",
       "    </tr>\n",
       "    <tr>\n",
       "      <th>12665</th>\n",
       "      <td>L'ambiance d'hier au stade c'est grace ao Maca...</td>\n",
       "      <td>1.0</td>\n",
       "    </tr>\n",
       "    <tr>\n",
       "      <th>12666</th>\n",
       "      <td>Mais tarde tem mais SD no Chopp E Cia...hoje é...</td>\n",
       "      <td>1.0</td>\n",
       "    </tr>\n",
       "    <tr>\n",
       "      <th>12667</th>\n",
       "      <td>Obrigado por tudo Mister Luis Castro,boa sorte...</td>\n",
       "      <td>1.0</td>\n",
       "    </tr>\n",
       "  </tbody>\n",
       "</table>\n",
       "<p>12665 rows × 2 columns</p>\n",
       "</div>"
      ],
      "text/plain": [
       "                                                   Tweet  Polaridade\n",
       "0      - #CaoNossoDeCadaDia #Novo - Vanessa Mandotti ...         0.0\n",
       "1      - Bola pra frente que amanhã é outro dia, outr...         1.0\n",
       "2      - Cara de mal? Acho que não... Apenas um corte...         1.0\n",
       "3      \" #PCdoB O PARTIDO QUE FAZ A DIFERENÇA: LEAL E...         1.0\n",
       "4      \"@camaradamae: #PCdoB o Partido da coragem !  ...         1.0\n",
       "...                                                  ...         ...\n",
       "12663  Bom diaa  #SD Moisés Sou Boina Preta e Não Tem...         1.0\n",
       "12664  Sei que leve por divisa esse \"V\" que simboliza...         1.0\n",
       "12665  L'ambiance d'hier au stade c'est grace ao Maca...         1.0\n",
       "12666  Mais tarde tem mais SD no Chopp E Cia...hoje é...         1.0\n",
       "12667  Obrigado por tudo Mister Luis Castro,boa sorte...         1.0\n",
       "\n",
       "[12665 rows x 2 columns]"
      ]
     },
     "execution_count": 6,
     "metadata": {},
     "output_type": "execute_result"
    }
   ],
   "source": [
    "#df_all = df_all.drop(df_all[df_all['Polaridade'] == 0.0].index).reset_index()\n",
    "df_all = df_all.drop(columns=['index'])\n",
    "df_all.drop(df_all[df_all['Polaridade'] == 11].index, inplace=True)\n",
    "df_all.drop(df_all[df_all['Polaridade'] == -2].index, inplace=True)\n",
    "df_all.drop(df_all[df_all['Polaridade'] == 10].index, inplace=True)\n",
    "\n",
    "df_all"
   ]
  },
  {
   "cell_type": "code",
   "execution_count": 7,
   "metadata": {},
   "outputs": [
    {
     "data": {
      "text/plain": [
       "array([0., 1., 1., ..., 1., 1., 1.])"
      ]
     },
     "execution_count": 7,
     "metadata": {},
     "output_type": "execute_result"
    }
   ],
   "source": [
    "Tweet = df_all['Tweet']\n",
    "polarity = np.asarray(df_all['Polaridade'])\n",
    "\n",
    "polarity"
   ]
  },
  {
   "cell_type": "code",
   "execution_count": 8,
   "metadata": {},
   "outputs": [
    {
     "data": {
      "text/plain": [
       "(12665, 24464)"
      ]
     },
     "execution_count": 8,
     "metadata": {},
     "output_type": "execute_result"
    }
   ],
   "source": [
    "count_vect = CountVectorizer()\n",
    "X_train = count_vect.fit_transform(Tweet)\n",
    "\n",
    "tfidf_transformer = TfidfTransformer()\n",
    "X_train_transform = tfidf_transformer.fit_transform(X_train) # Aplicando o TF-IDF\n",
    "X_train_transform.shape"
   ]
  },
  {
   "cell_type": "code",
   "execution_count": 119,
   "metadata": {},
   "outputs": [
    {
     "name": "stdout",
     "output_type": "stream",
     "text": [
      "              precision    recall  f1-score   support\n",
      "\n",
      "        -1.0       0.57      0.80      0.66      1257\n",
      "         0.0       0.67      0.66      0.67      1442\n",
      "         1.0       0.62      0.35      0.45      1101\n",
      "\n",
      "    accuracy                           0.62      3800\n",
      "   macro avg       0.62      0.60      0.59      3800\n",
      "weighted avg       0.62      0.62      0.60      3800\n",
      "\n"
     ]
    }
   ],
   "source": [
    "#X_train, X_test, Y_train, Y_test = train_test_split(X_train_transform, polarity, test_size=0.3)\n",
    "\n",
    "clf = MultinomialNB().fit(X_train, Y_train) # Aplicando naive bayes\n",
    "predicted = clf.predict(X_test)\n",
    "\n",
    "print(metrics.classification_report(Y_test, predicted))"
   ]
  },
  {
   "cell_type": "code",
   "execution_count": 174,
   "metadata": {},
   "outputs": [],
   "source": [
    "def pre_X(frases):\n",
    "    lista = []\n",
    "    \n",
    "    for frase in frases:\n",
    "        lista.append(frase)\n",
    "        \n",
    "    return lista\n",
    "\n",
    "def pre_Y(number):\n",
    "    lista = []\n",
    "    \n",
    "    for numb in number:\n",
    "        lista.append(numb)\n",
    "    \n",
    "    return lista\n"
   ]
  },
  {
   "cell_type": "code",
   "execution_count": 175,
   "metadata": {},
   "outputs": [],
   "source": [
    "def set_array(frases):\n",
    "    \n",
    "    vocab = []\n",
    "    palavras = []\n",
    "    for frase in frases:\n",
    "        \n",
    "        text_array = remove_user(frase)\n",
    "        text_array = Tokenize(text_array)\n",
    "        text_array = text_array.split(' ')\n",
    "        for i in range(len(text_array)):\n",
    "            vocab.append(text_array[i])\n",
    "    \n",
    "    \n",
    "        \n",
    "    return vocab\n",
    "\n",
    "def Tokenize(f):     ## Pre-processando a frase\n",
    "    \n",
    "    ## Colocando em minusculo\n",
    "    ## Retirando a pontuaçao\n",
    "    ## Retirando as StopWords\n",
    "    \n",
    "    f = f.lower().replace('\\n', '').replace('-','').replace('#','').replace('.','').replace(',','').replace('!','').replace('r\\n','').replace('  ','')\n",
    "    token = RegexpTokenizer(r\"\\w+\")\n",
    "    f = token.tokenize(f)\n",
    "    \n",
    "    stop_words = set(stopwords.words('portuguese'))\n",
    "    \n",
    "    new_word = [word for word in f if not word in stop_words]\n",
    "    \n",
    "    return ' '.join(new_word)\n",
    "\n",
    "def remove_user(frase):\n",
    "\n",
    "    return re.sub('@\\w+','',frase)"
   ]
  },
  {
   "cell_type": "code",
   "execution_count": 192,
   "metadata": {},
   "outputs": [],
   "source": [
    "model = tf.keras.Sequential([\n",
    "    tf.keras.layers.Dense(50, activation='relu'),\n",
    "    tf.keras.layers.Dropout(0.3),\n",
    "    tf.keras.layers.Dense(25, activation='relu'),\n",
    "    tf.keras.layers.Dropout(0.3),\n",
    "    tf.keras.layers.Dense(10, activation='tanh'),\n",
    "    tf.keras.layers.Dropout(0.2),\n",
    "    tf.keras.layers.Dense(3 , activation='softmax')\n",
    "])\n",
    "\n",
    "model.compile(\n",
    "    optimizer='adam',\n",
    "    loss=tf.keras.losses.categorical_crossentropy,\n",
    "    metrics=['accuracy']\n",
    ")"
   ]
  },
  {
   "cell_type": "code",
   "execution_count": 193,
   "metadata": {},
   "outputs": [
    {
     "data": {
      "text/plain": [
       "<8865x26007 sparse matrix of type '<class 'numpy.float64'>'\n",
       "\twith 78373 stored elements in Compressed Sparse Row format>"
      ]
     },
     "execution_count": 193,
     "metadata": {},
     "output_type": "execute_result"
    }
   ],
   "source": [
    "Tweet = Tweet.apply(remove_user)\n",
    "Tweet_preprocessed = Tweet.apply(Tokenize)\n",
    "\n",
    "count_vect = CountVectorizer()\n",
    "X_train = count_vect.fit_transform(Tweet_preprocessed)\n",
    "\n",
    "tfidf_transformer = TfidfTransformer()\n",
    "X_train_transform = tfidf_transformer.fit_transform(X_train) # Aplicando o TF-IDF\n",
    "\n",
    "\n",
    "X_train, X_test, Y_train, Y_test = train_test_split(X_train_transform, polarity, test_size=0.3)\n",
    "\n",
    "X_train"
   ]
  },
  {
   "cell_type": "code",
   "execution_count": 194,
   "metadata": {},
   "outputs": [
    {
     "data": {
      "text/plain": [
       "<3800x26007 sparse matrix of type '<class 'numpy.float64'>'\n",
       "\twith 33250 stored elements in Compressed Sparse Row format>"
      ]
     },
     "execution_count": 194,
     "metadata": {},
     "output_type": "execute_result"
    }
   ],
   "source": [
    "X_test"
   ]
  },
  {
   "cell_type": "code",
   "execution_count": 195,
   "metadata": {},
   "outputs": [],
   "source": [
    "one = OneHotEncoder(sparse=False)\n",
    "\n",
    "y_one = one.fit_transform(Y_train.reshape(-1,1))"
   ]
  },
  {
   "cell_type": "code",
   "execution_count": 196,
   "metadata": {},
   "outputs": [
    {
     "name": "stdout",
     "output_type": "stream",
     "text": [
      "Epoch 1/25\n",
      "278/278 [==============================] - 5s 19ms/step - loss: 1.0209 - accuracy: 0.4819 - val_loss: 0.8783 - val_accuracy: 0.6011\n",
      "Epoch 2/25\n",
      "278/278 [==============================] - 5s 17ms/step - loss: 0.6452 - accuracy: 0.7658 - val_loss: 0.8588 - val_accuracy: 0.6258\n",
      "Epoch 3/25\n",
      "278/278 [==============================] - 5s 17ms/step - loss: 0.3128 - accuracy: 0.9029 - val_loss: 1.0439 - val_accuracy: 0.6100\n",
      "Epoch 4/25\n",
      "278/278 [==============================] - 5s 17ms/step - loss: 0.1667 - accuracy: 0.9542 - val_loss: 1.2364 - val_accuracy: 0.6061\n",
      "Epoch 5/25\n",
      "278/278 [==============================] - 5s 17ms/step - loss: 0.1044 - accuracy: 0.9725 - val_loss: 1.4337 - val_accuracy: 0.6013\n",
      "Epoch 6/25\n",
      "278/278 [==============================] - 5s 17ms/step - loss: 0.0739 - accuracy: 0.9794 - val_loss: 1.6003 - val_accuracy: 0.5984\n",
      "Epoch 7/25\n",
      "278/278 [==============================] - 5s 17ms/step - loss: 0.0594 - accuracy: 0.9844 - val_loss: 1.6687 - val_accuracy: 0.6039\n",
      "Epoch 8/25\n",
      "278/278 [==============================] - 5s 18ms/step - loss: 0.0443 - accuracy: 0.9876 - val_loss: 1.8150 - val_accuracy: 0.5932\n",
      "Epoch 9/25\n",
      "278/278 [==============================] - 5s 18ms/step - loss: 0.0448 - accuracy: 0.9878 - val_loss: 1.8901 - val_accuracy: 0.5982\n",
      "Epoch 10/25\n",
      "278/278 [==============================] - 5s 18ms/step - loss: 0.0367 - accuracy: 0.9905 - val_loss: 2.0235 - val_accuracy: 0.5905\n",
      "Epoch 11/25\n",
      "278/278 [==============================] - 5s 17ms/step - loss: 0.0389 - accuracy: 0.9904 - val_loss: 1.9889 - val_accuracy: 0.5889\n",
      "Epoch 12/25\n",
      "278/278 [==============================] - 5s 17ms/step - loss: 0.0368 - accuracy: 0.9898 - val_loss: 2.0666 - val_accuracy: 0.5924\n",
      "Epoch 13/25\n",
      "278/278 [==============================] - 5s 18ms/step - loss: 0.0337 - accuracy: 0.9913 - val_loss: 2.1384 - val_accuracy: 0.5918\n",
      "Epoch 14/25\n",
      "278/278 [==============================] - 5s 17ms/step - loss: 0.0275 - accuracy: 0.9928 - val_loss: 2.1377 - val_accuracy: 0.5918\n",
      "Epoch 15/25\n",
      "278/278 [==============================] - 5s 17ms/step - loss: 0.0290 - accuracy: 0.9921 - val_loss: 2.1885 - val_accuracy: 0.5903\n",
      "Epoch 16/25\n",
      "278/278 [==============================] - 5s 17ms/step - loss: 0.0240 - accuracy: 0.9941 - val_loss: 2.2114 - val_accuracy: 0.5961\n",
      "Epoch 17/25\n",
      "278/278 [==============================] - 5s 17ms/step - loss: 0.0254 - accuracy: 0.9933 - val_loss: 2.2776 - val_accuracy: 0.5834\n",
      "Epoch 18/25\n",
      "278/278 [==============================] - 5s 17ms/step - loss: 0.0243 - accuracy: 0.9941 - val_loss: 2.2336 - val_accuracy: 0.5905\n",
      "Epoch 19/25\n",
      "278/278 [==============================] - 5s 17ms/step - loss: 0.0260 - accuracy: 0.9926 - val_loss: 2.2153 - val_accuracy: 0.5924\n",
      "Epoch 20/25\n",
      "278/278 [==============================] - 5s 17ms/step - loss: 0.0224 - accuracy: 0.9936 - val_loss: 2.2799 - val_accuracy: 0.5887\n",
      "Epoch 21/25\n",
      "278/278 [==============================] - 5s 17ms/step - loss: 0.0203 - accuracy: 0.9941 - val_loss: 2.3786 - val_accuracy: 0.5887\n",
      "Epoch 22/25\n",
      "278/278 [==============================] - 5s 17ms/step - loss: 0.0216 - accuracy: 0.9935 - val_loss: 2.3068 - val_accuracy: 0.5892\n",
      "Epoch 23/25\n",
      "278/278 [==============================] - 5s 17ms/step - loss: 0.0214 - accuracy: 0.9942 - val_loss: 2.3182 - val_accuracy: 0.5911\n",
      "Epoch 24/25\n",
      "278/278 [==============================] - 5s 17ms/step - loss: 0.0149 - accuracy: 0.9949 - val_loss: 2.4777 - val_accuracy: 0.5913\n",
      "Epoch 25/25\n",
      "278/278 [==============================] - 5s 17ms/step - loss: 0.0179 - accuracy: 0.9944 - val_loss: 2.4313 - val_accuracy: 0.5879\n"
     ]
    }
   ],
   "source": [
    "fit = model.fit(X_train.todense(), y_one, epochs=25, validation_data=(X_test.todense(), one.transform(Y_test.reshape(-1,1))))"
   ]
  },
  {
   "cell_type": "code",
   "execution_count": 197,
   "metadata": {
    "scrolled": true
   },
   "outputs": [
    {
     "data": {
      "image/png": "[encoded data removed]",
      "text/plain": [
       "<Figure size 864x432 with 1 Axes>"
      ]
     },
     "metadata": {
      "needs_background": "light"
     },
     "output_type": "display_data"
    }
   ],
   "source": [
    "plt.figure(figsize=(12,6))\n",
    "plt.plot(fit.history['loss'], label='Loss', color='darkred')\n",
    "plt.plot(fit.history['val_loss'], label='Val Loss', color='green')\n",
    "plt.legend()\n",
    "plt.ylabel('Loss')\n",
    "plt.show()"
   ]
  },
  {
   "cell_type": "code",
   "execution_count": 198,
   "metadata": {},
   "outputs": [
    {
     "data": {
      "image/png": "[encoded data removed]",
      "text/plain": [
       "<Figure size 864x432 with 1 Axes>"
      ]
     },
     "metadata": {
      "needs_background": "light"
     },
     "output_type": "display_data"
    }
   ],
   "source": [
    "plt.figure(figsize=(12,6))\n",
    "plt.plot(fit.history['accuracy'], label='accuracy', color='darkred')\n",
    "plt.plot(fit.history['val_accuracy'], label='Val accuracy', color='green')\n",
    "plt.legend()\n",
    "plt.ylabel('Accuracy')\n",
    "plt.show()"
   ]
  },
  {
   "cell_type": "code",
   "execution_count": 199,
   "metadata": {},
   "outputs": [
    {
     "name": "stdout",
     "output_type": "stream",
     "text": [
      "119/119 [==============================] - 1s 9ms/step - loss: 2.4313 - accuracy: 0.5879\n"
     ]
    }
   ],
   "source": [
    "acc = model.evaluate(X_test.todense(), one.transform(Y_test.reshape(-1,1)))"
   ]
  },
  {
   "cell_type": "code",
   "execution_count": 180,
   "metadata": {},
   "outputs": [
    {
     "data": {
      "text/plain": [
       "15000"
      ]
     },
     "execution_count": 180,
     "metadata": {},
     "output_type": "execute_result"
    }
   ],
   "source": [
    "vectorize_layer = TextVectorization(\n",
    " max_tokens=15000,\n",
    " output_mode='int',\n",
    " output_sequence_length=len(max(df_all['Tweet'])))\n",
    "\n",
    "vocab = set_array(df_all['Tweet'])\n",
    "\n",
    "vectorize_layer.adapt(np.unique(vocab))\n",
    "len(vectorize_layer.get_vocabulary())\n"
   ]
  },
  {
   "cell_type": "code",
   "execution_count": 185,
   "metadata": {},
   "outputs": [],
   "source": [
    "model = tf.keras.Sequential([\n",
    "    vectorize_layer,\n",
    "    tf.keras.layers.Embedding(\n",
    "        input_dim=len(vectorize_layer.get_vocabulary()),\n",
    "        output_dim=64,mask_zero=True),\n",
    "    \n",
    "    tf.keras.layers.LSTM(50, activation='relu' ,return_sequences=True),\n",
    "    tf.keras.layers.Dropout(0.3),\n",
    "    \n",
    "    tf.keras.layers.LSTM(25 , activation='tanh'),\n",
    "    tf.keras.layers.Dropout(0.3),\n",
    "    \n",
    "    tf.keras.layers.LSTM(10 , activation='tanh'),\n",
    "    tf.keras.layers.Dropout(0.2),\n",
    "    \n",
    "    tf.keras.layers.Dense(3, activation='softmax')\n",
    "])\n",
    "\n",
    "\n",
    "model.compile(\n",
    "    optimizer= tf.keras.optimizers.Adam(),\n",
    "    loss=tf.keras.losses.categorical_crossentropy,\n",
    "    metrics=['accuracy']\n",
    ")"
   ]
  },
  {
   "cell_type": "code",
   "execution_count": 186,
   "metadata": {},
   "outputs": [
    {
     "data": {
      "text/plain": [
       "(8865,)"
      ]
     },
     "execution_count": 186,
     "metadata": {},
     "output_type": "execute_result"
    }
   ],
   "source": [
    "X_train, X_test, Y_train, Y_test = train_test_split(Tweet_preprocessed, polarity, test_size=0.3)\n",
    "X_train.shape"
   ]
  },
  {
   "cell_type": "code",
   "execution_count": 187,
   "metadata": {},
   "outputs": [],
   "source": [
    "y_one = one.fit_transform(Y_train.reshape(-1,1))"
   ]
  },
  {
   "cell_type": "code",
   "execution_count": 188,
   "metadata": {},
   "outputs": [
    {
     "name": "stdout",
     "output_type": "stream",
     "text": [
      "Epoch 1/50\n",
      "70/70 [==============================] - 33s 468ms/step - loss: 1.0880 - accuracy: 0.4221 - val_loss: 1.0464 - val_accuracy: 0.5024\n",
      "Epoch 2/50\n",
      "70/70 [==============================] - 31s 441ms/step - loss: 0.9469 - accuracy: 0.5748 - val_loss: 0.9517 - val_accuracy: 0.5632\n",
      "Epoch 3/50\n",
      "70/70 [==============================] - 35s 495ms/step - loss: 0.7274 - accuracy: 0.7266 - val_loss: 0.9917 - val_accuracy: 0.5618\n",
      "Epoch 4/50\n",
      "70/70 [==============================] - 32s 459ms/step - loss: 0.5453 - accuracy: 0.8092 - val_loss: 1.0366 - val_accuracy: 0.5716\n",
      "Epoch 5/50\n",
      "70/70 [==============================] - 33s 474ms/step - loss: 0.4273 - accuracy: 0.8566 - val_loss: 1.1542 - val_accuracy: 0.5745\n",
      "Epoch 6/50\n",
      "70/70 [==============================] - 31s 445ms/step - loss: 0.3518 - accuracy: 0.8804 - val_loss: 1.2726 - val_accuracy: 0.5642\n",
      "Epoch 7/50\n",
      "70/70 [==============================] - 30s 431ms/step - loss: 0.2995 - accuracy: 0.9033 - val_loss: 1.3514 - val_accuracy: 0.5695\n",
      "Epoch 8/50\n",
      "70/70 [==============================] - 30s 429ms/step - loss: 0.2649 - accuracy: 0.9111 - val_loss: 1.4032 - val_accuracy: 0.5645\n",
      "Epoch 9/50\n",
      "70/70 [==============================] - 30s 432ms/step - loss: 0.2419 - accuracy: 0.9163 - val_loss: 1.4869 - val_accuracy: 0.5700\n",
      "Epoch 10/50\n",
      "70/70 [==============================] - 30s 433ms/step - loss: 0.2174 - accuracy: 0.9255 - val_loss: 1.5655 - val_accuracy: 0.5616\n",
      "Epoch 11/50\n",
      "70/70 [==============================] - 31s 450ms/step - loss: 0.2047 - accuracy: 0.9311 - val_loss: 1.6918 - val_accuracy: 0.5584\n",
      "Epoch 12/50\n",
      "70/70 [==============================] - 32s 451ms/step - loss: 0.1974 - accuracy: 0.9314 - val_loss: 1.6694 - val_accuracy: 0.5600\n",
      "Epoch 13/50\n",
      "70/70 [==============================] - 31s 437ms/step - loss: 0.1854 - accuracy: 0.9357 - val_loss: 1.7110 - val_accuracy: 0.5529\n",
      "Epoch 14/50\n",
      "70/70 [==============================] - 31s 438ms/step - loss: 0.1762 - accuracy: 0.9359 - val_loss: 1.8124 - val_accuracy: 0.5492\n",
      "Epoch 15/50\n",
      "70/70 [==============================] - 30s 434ms/step - loss: 0.1626 - accuracy: 0.9408 - val_loss: 1.8528 - val_accuracy: 0.5511\n",
      "Epoch 16/50\n",
      "70/70 [==============================] - 31s 442ms/step - loss: 0.1615 - accuracy: 0.9427 - val_loss: 1.8701 - val_accuracy: 0.5482\n",
      "Epoch 17/50\n",
      "70/70 [==============================] - 31s 447ms/step - loss: 0.1515 - accuracy: 0.9440 - val_loss: 1.9429 - val_accuracy: 0.5505\n",
      "Epoch 18/50\n",
      "70/70 [==============================] - 32s 462ms/step - loss: 0.1462 - accuracy: 0.9462 - val_loss: 2.0119 - val_accuracy: 0.5495\n",
      "Epoch 19/50\n",
      "70/70 [==============================] - 31s 449ms/step - loss: 0.1406 - accuracy: 0.9465 - val_loss: 2.0330 - val_accuracy: 0.5563\n",
      "Epoch 20/50\n",
      "70/70 [==============================] - 31s 445ms/step - loss: 0.1374 - accuracy: 0.9499 - val_loss: 2.0978 - val_accuracy: 0.5442\n",
      "Epoch 21/50\n",
      "70/70 [==============================] - 36s 520ms/step - loss: 0.1290 - accuracy: 0.9525 - val_loss: 2.1337 - val_accuracy: 0.5500\n",
      "Epoch 22/50\n",
      "70/70 [==============================] - 33s 466ms/step - loss: 0.1267 - accuracy: 0.9523 - val_loss: 2.1127 - val_accuracy: 0.5466\n",
      "Epoch 23/50\n",
      "70/70 [==============================] - 32s 452ms/step - loss: 0.1282 - accuracy: 0.9510 - val_loss: 2.1582 - val_accuracy: 0.5463\n",
      "Epoch 24/50\n",
      "70/70 [==============================] - 33s 476ms/step - loss: 0.1267 - accuracy: 0.9545 - val_loss: 2.2506 - val_accuracy: 0.5476\n",
      "Epoch 25/50\n",
      "70/70 [==============================] - 33s 465ms/step - loss: 0.1275 - accuracy: 0.9519 - val_loss: 2.1938 - val_accuracy: 0.5476\n",
      "Epoch 26/50\n",
      "70/70 [==============================] - 34s 489ms/step - loss: 0.1206 - accuracy: 0.9534 - val_loss: 2.2517 - val_accuracy: 0.5513\n",
      "Epoch 27/50\n",
      "70/70 [==============================] - 33s 474ms/step - loss: 0.1184 - accuracy: 0.9557 - val_loss: 2.3673 - val_accuracy: 0.5379\n",
      "Epoch 28/50\n",
      "70/70 [==============================] - 31s 438ms/step - loss: 0.1155 - accuracy: 0.9567 - val_loss: 2.3381 - val_accuracy: 0.5453\n",
      "Epoch 29/50\n",
      "70/70 [==============================] - 30s 432ms/step - loss: 0.1120 - accuracy: 0.9562 - val_loss: 2.3990 - val_accuracy: 0.5455\n",
      "Epoch 30/50\n",
      "70/70 [==============================] - 33s 464ms/step - loss: 0.1096 - accuracy: 0.9559 - val_loss: 2.4247 - val_accuracy: 0.5434\n",
      "Epoch 31/50\n",
      "70/70 [==============================] - 36s 517ms/step - loss: 0.1059 - accuracy: 0.9569 - val_loss: 2.4603 - val_accuracy: 0.5439\n",
      "Epoch 32/50\n",
      "70/70 [==============================] - 33s 476ms/step - loss: 0.1060 - accuracy: 0.9588 - val_loss: 2.4919 - val_accuracy: 0.5453\n",
      "Epoch 33/50\n",
      "70/70 [==============================] - 33s 471ms/step - loss: 0.1037 - accuracy: 0.9586 - val_loss: 2.4849 - val_accuracy: 0.5439\n",
      "Epoch 34/50\n",
      "70/70 [==============================] - 37s 524ms/step - loss: 0.1078 - accuracy: 0.9572 - val_loss: 2.4123 - val_accuracy: 0.5492\n",
      "Epoch 35/50\n",
      "70/70 [==============================] - 35s 506ms/step - loss: 0.1012 - accuracy: 0.9612 - val_loss: 2.5446 - val_accuracy: 0.5447\n",
      "Epoch 36/50\n",
      "70/70 [==============================] - 34s 484ms/step - loss: 0.1024 - accuracy: 0.9589 - val_loss: 2.5560 - val_accuracy: 0.5416\n",
      "Epoch 37/50\n",
      "70/70 [==============================] - 32s 464ms/step - loss: 0.0979 - accuracy: 0.9605 - val_loss: 2.6528 - val_accuracy: 0.5347\n",
      "Epoch 38/50\n",
      "70/70 [==============================] - 33s 471ms/step - loss: 0.0983 - accuracy: 0.9603 - val_loss: 2.5849 - val_accuracy: 0.5400\n",
      "Epoch 39/50\n",
      "70/70 [==============================] - 33s 471ms/step - loss: 0.0971 - accuracy: 0.9616 - val_loss: 2.7078 - val_accuracy: 0.5342\n",
      "Epoch 40/50\n",
      "70/70 [==============================] - 31s 443ms/step - loss: 0.0966 - accuracy: 0.9623 - val_loss: 2.6487 - val_accuracy: 0.5442\n",
      "Epoch 41/50\n",
      "70/70 [==============================] - 31s 442ms/step - loss: 0.0936 - accuracy: 0.9628 - val_loss: 2.6861 - val_accuracy: 0.5366\n",
      "Epoch 42/50\n",
      "70/70 [==============================] - 32s 458ms/step - loss: 0.0934 - accuracy: 0.9622 - val_loss: 2.7371 - val_accuracy: 0.5337\n",
      "Epoch 43/50\n",
      "70/70 [==============================] - 33s 466ms/step - loss: 0.0965 - accuracy: 0.9611 - val_loss: 2.8266 - val_accuracy: 0.5363\n",
      "Epoch 44/50\n",
      "70/70 [==============================] - 31s 449ms/step - loss: 0.0920 - accuracy: 0.9614 - val_loss: 2.7477 - val_accuracy: 0.5403\n",
      "Epoch 45/50\n",
      "70/70 [==============================] - 31s 448ms/step - loss: 0.0923 - accuracy: 0.9632 - val_loss: 2.8243 - val_accuracy: 0.5358\n",
      "Epoch 46/50\n",
      "70/70 [==============================] - 31s 442ms/step - loss: 0.0853 - accuracy: 0.9649 - val_loss: 2.8503 - val_accuracy: 0.5358\n",
      "Epoch 47/50\n",
      "70/70 [==============================] - 33s 466ms/step - loss: 0.0918 - accuracy: 0.9635 - val_loss: 2.7958 - val_accuracy: 0.5363\n",
      "Epoch 48/50\n",
      "70/70 [==============================] - 34s 479ms/step - loss: 0.0880 - accuracy: 0.9645 - val_loss: 2.8583 - val_accuracy: 0.5447\n",
      "Epoch 49/50\n",
      "70/70 [==============================] - 34s 490ms/step - loss: 0.0847 - accuracy: 0.9676 - val_loss: 2.8715 - val_accuracy: 0.5403\n",
      "Epoch 50/50\n",
      "70/70 [==============================] - 32s 461ms/step - loss: 0.0813 - accuracy: 0.9671 - val_loss: 2.9453 - val_accuracy: 0.5332\n"
     ]
    }
   ],
   "source": [
    "fit = model.fit(np.asarray(pre_X(X_train)), y_one, epochs=50, batch_size=128 ,validation_data=(np.asarray(pre_X(X_test)), one.transform(Y_test.reshape(-1,1))))"
   ]
  },
  {
   "cell_type": "code",
   "execution_count": 189,
   "metadata": {},
   "outputs": [
    {
     "data": {
      "image/png": "[encoded data removed]",
      "text/plain": [
       "<Figure size 864x432 with 1 Axes>"
      ]
     },
     "metadata": {
      "needs_background": "light"
     },
     "output_type": "display_data"
    }
   ],
   "source": [
    "plt.figure(figsize=(12,6))\n",
    "plt.plot(fit.history['loss'], label='Loss', color='darkred')\n",
    "plt.plot(fit.history['val_loss'], label='Val Loss', color='green')\n",
    "plt.legend()\n",
    "plt.grid()\n",
    "plt.ylabel('Loss')\n",
    "plt.show()"
   ]
  },
  {
   "cell_type": "code",
   "execution_count": 190,
   "metadata": {},
   "outputs": [
    {
     "data": {
      "image/png": "[encoded data removed]",
      "text/plain": [
       "<Figure size 864x432 with 1 Axes>"
      ]
     },
     "metadata": {
      "needs_background": "light"
     },
     "output_type": "display_data"
    }
   ],
   "source": [
    "plt.figure(figsize=(12,6))\n",
    "plt.plot(fit.history['accuracy'], label='accuracy', color='darkred')\n",
    "plt.plot(fit.history['val_accuracy'], label='Val accuracy', color='green')\n",
    "plt.legend()\n",
    "plt.grid()\n",
    "plt.ylabel('Accuracy')\n",
    "plt.show()"
   ]
  },
  {
   "cell_type": "code",
   "execution_count": 191,
   "metadata": {},
   "outputs": [
    {
     "name": "stdout",
     "output_type": "stream",
     "text": [
      "119/119 [==============================] - 4s 37ms/step - loss: 2.9453 - accuracy: 0.5332\n"
     ]
    }
   ],
   "source": [
    "acc = model.evaluate(np.asarray(pre_X(X_test)), one.transform(Y_test.reshape(-1,1)))"
   ]
  },
  {
   "cell_type": "code",
   "execution_count": null,
   "metadata": {},
   "outputs": [],
   "source": []
  }
 ],
 "metadata": {
  "kernelspec": {
   "display_name": "Python 3",
   "language": "python",
   "name": "python3"
  },
  "language_info": {
   "codemirror_mode": {
    "name": "ipython",
    "version": 3
   },
   "file_extension": ".py",
   "mimetype": "text/x-python",
   "name": "python",
   "nbconvert_exporter": "python",
   "pygments_lexer": "ipython3",
   "version": "3.7.9"
  }
 },
 "nbformat": 4,
 "nbformat_minor": 2
}
