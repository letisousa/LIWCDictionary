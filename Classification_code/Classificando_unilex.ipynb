{
 "cells": [
  {
   "cell_type": "code",
   "execution_count": 135,
   "metadata": {},
   "outputs": [
    {
     "name": "stderr",
     "output_type": "stream",
     "text": [
      "[nltk_data] Downloading package stopwords to\n",
      "[nltk_data]     C:\\Users\\ddayv\\AppData\\Roaming\\nltk_data...\n",
      "[nltk_data]   Package stopwords is already up-to-date!\n",
      "[nltk_data] Downloading package wordnet to\n",
      "[nltk_data]     C:\\Users\\ddayv\\AppData\\Roaming\\nltk_data...\n",
      "[nltk_data]   Package wordnet is already up-to-date!\n"
     ]
    },
    {
     "data": {
      "text/plain": [
       "True"
      ]
     },
     "execution_count": 135,
     "metadata": {},
     "output_type": "execute_result"
    }
   ],
   "source": [
    "import pandas as pd\n",
    "import numpy as np\n",
    "from sklearn.feature_extraction.text import CountVectorizer\n",
    "from sklearn.feature_extraction.text import TfidfTransformer\n",
    "from sklearn.naive_bayes import MultinomialNB\n",
    "from sklearn.pipeline import Pipeline\n",
    "from sklearn.model_selection import train_test_split\n",
    "from sklearn import metrics\n",
    "import seaborn as sns\n",
    "\n",
    "import tensorflow as tf\n",
    "from tensorflow.keras.layers.experimental.preprocessing import TextVectorization\n",
    "from nltk import word_tokenize, RegexpTokenizer\n",
    "from nltk.corpus import stopwords, wordnet\n",
    "from sklearn.preprocessing import OneHotEncoder\n",
    "import matplotlib.pyplot as plt\n",
    "\n",
    "import nltk\n",
    "nltk.download('stopwords')\n",
    "nltk.download('wordnet')"
   ]
  },
  {
   "cell_type": "code",
   "execution_count": 136,
   "metadata": {},
   "outputs": [
    {
     "data": {
      "text/plain": [
       "(12670, 2)"
      ]
     },
     "execution_count": 136,
     "metadata": {},
     "output_type": "execute_result"
    }
   ],
   "source": [
    "df = pd.read_excel('./rotulação/TweetsPolitical01 OK OK.xlsx')\n",
    "df2 = pd.read_excel('./rotulação/TweetsPolitical02 OK OK.xlsx')\n",
    "df3 = pd.read_excel('./rotulação/TweetsPolitical03 OK OK.xlsx')\n",
    "df4 = pd.read_excel('./rotulação/TweetsPolitical04 OK OK.xlsx')\n",
    "df5 = pd.read_excel('./rotulação/TweetsPolitical05 OK OK.xlsx')\n",
    "df6 = pd.read_excel('./rotulação/TweetsPolitical06 OK OK.xlsx')\n",
    "df7 = pd.read_excel('./rotulação/TweetsPolitical07 OK OK.xlsx')\n",
    "df8 = pd.read_excel('./rotulação/TweetsPolitical08 OK OK.xlsx')\n",
    "df9 = pd.read_excel('./rotulação/TweetsPolitical09 OK OK.xlsx')\n",
    "df10 = pd.read_excel('./rotulação/TweetsPolitical10 OK OK.xlsx')\n",
    "df11 = pd.read_excel('./rotulação/TweetsPolitical11 OK OK.xlsx')\n",
    "df12 = pd.read_excel('./rotulação/TweetsPolitical12 OK OK.xlsx')\n",
    "df13 = pd.read_excel('./rotulação/TweetsPolitical13 OK OK.xlsx')\n",
    "df14 = pd.read_excel('./rotulação/TweetsPolitical14 OK OK.xlsx')\n",
    "df15 = pd.read_excel('./rotulação/TweetsPolitical15 OK OK.xlsx')\n",
    "\n",
    "lista = [df,df2,df3,df4,df5,df6,df7,df8,df9,df10,df11,df12,df13,df14,df15]\n",
    "\n",
    "df_all = pd.concat(lista)\n",
    "df_all.shape"
   ]
  },
  {
   "cell_type": "code",
   "execution_count": 137,
   "metadata": {},
   "outputs": [
    {
     "data": {
      "text/plain": [
       "'Governo do #PSDB golpista &gt; Falta merenda - surrupiada - sobra polícia armada pra oprimir adolescentes que lutam por suas escolas públicas.\\n'"
      ]
     },
     "execution_count": 137,
     "metadata": {},
     "output_type": "execute_result"
    }
   ],
   "source": [
    "df_all[df_all['Polaridade'] == -2]['Tweet'][488]\n",
    "#df_all[df_all['Polaridade']\n",
    "# df_remove = df_all[df_all['Polaridade'] == -2]\n",
    "# ultimo_df = df_all.drop(df_remove.index)\n",
    "# df_remove = df_all[df_all['Polaridade'] == 11]\n",
    "# ultimo_df = df_all.drop(df_remove.index)"
   ]
  },
  {
   "cell_type": "code",
   "execution_count": 138,
   "metadata": {},
   "outputs": [
    {
     "data": {
      "text/plain": [
       "<AxesSubplot:xlabel='Polaridade', ylabel='count'>"
      ]
     },
     "execution_count": 138,
     "metadata": {},
     "output_type": "execute_result"
    },
    {
     "data": {
      "image/png": "[encoded data removed]",
      "text/plain": [
       "<Figure size 432x288 with 1 Axes>"
      ]
     },
     "metadata": {
      "needs_background": "light"
     },
     "output_type": "display_data"
    }
   ],
   "source": [
    "df_all.isnull().sum()\n",
    "df_all = df_all.dropna()\n",
    "df_all.isnull().sum()\n",
    "\n",
    "sns.countplot(data=df_all, x='Polaridade')"
   ]
  },
  {
   "cell_type": "code",
   "execution_count": 139,
   "metadata": {},
   "outputs": [
    {
     "data": {
      "text/html": [
       "<div>\n",
       "<style scoped>\n",
       "    .dataframe tbody tr th:only-of-type {\n",
       "        vertical-align: middle;\n",
       "    }\n",
       "\n",
       "    .dataframe tbody tr th {\n",
       "        vertical-align: top;\n",
       "    }\n",
       "\n",
       "    .dataframe thead th {\n",
       "        text-align: right;\n",
       "    }\n",
       "</style>\n",
       "<table border=\"1\" class=\"dataframe\">\n",
       "  <thead>\n",
       "    <tr style=\"text-align: right;\">\n",
       "      <th></th>\n",
       "      <th>index</th>\n",
       "      <th>Tweet</th>\n",
       "      <th>Polaridade</th>\n",
       "    </tr>\n",
       "  </thead>\n",
       "  <tbody>\n",
       "    <tr>\n",
       "      <th>0</th>\n",
       "      <td>0</td>\n",
       "      <td>- #CaoNossoDeCadaDia #Novo - Vanessa Mandotti ...</td>\n",
       "      <td>0.0</td>\n",
       "    </tr>\n",
       "    <tr>\n",
       "      <th>1</th>\n",
       "      <td>1</td>\n",
       "      <td>- Bola pra frente que amanhã é outro dia, outr...</td>\n",
       "      <td>1.0</td>\n",
       "    </tr>\n",
       "    <tr>\n",
       "      <th>2</th>\n",
       "      <td>2</td>\n",
       "      <td>- Cara de mal? Acho que não... Apenas um corte...</td>\n",
       "      <td>1.0</td>\n",
       "    </tr>\n",
       "    <tr>\n",
       "      <th>3</th>\n",
       "      <td>3</td>\n",
       "      <td>\" #PCdoB O PARTIDO QUE FAZ A DIFERENÇA: LEAL E...</td>\n",
       "      <td>1.0</td>\n",
       "    </tr>\n",
       "    <tr>\n",
       "      <th>4</th>\n",
       "      <td>4</td>\n",
       "      <td>\"@camaradamae: #PCdoB o Partido da coragem !  ...</td>\n",
       "      <td>1.0</td>\n",
       "    </tr>\n",
       "    <tr>\n",
       "      <th>...</th>\n",
       "      <td>...</td>\n",
       "      <td>...</td>\n",
       "      <td>...</td>\n",
       "    </tr>\n",
       "    <tr>\n",
       "      <th>12663</th>\n",
       "      <td>78</td>\n",
       "      <td>Bom diaa  #SD Moisés Sou Boina Preta e Não Tem...</td>\n",
       "      <td>1.0</td>\n",
       "    </tr>\n",
       "    <tr>\n",
       "      <th>12664</th>\n",
       "      <td>79</td>\n",
       "      <td>Sei que leve por divisa esse \"V\" que simboliza...</td>\n",
       "      <td>1.0</td>\n",
       "    </tr>\n",
       "    <tr>\n",
       "      <th>12665</th>\n",
       "      <td>80</td>\n",
       "      <td>L'ambiance d'hier au stade c'est grace ao Maca...</td>\n",
       "      <td>1.0</td>\n",
       "    </tr>\n",
       "    <tr>\n",
       "      <th>12666</th>\n",
       "      <td>81</td>\n",
       "      <td>Mais tarde tem mais SD no Chopp E Cia...hoje é...</td>\n",
       "      <td>1.0</td>\n",
       "    </tr>\n",
       "    <tr>\n",
       "      <th>12667</th>\n",
       "      <td>82</td>\n",
       "      <td>Obrigado por tudo Mister Luis Castro,boa sorte...</td>\n",
       "      <td>1.0</td>\n",
       "    </tr>\n",
       "  </tbody>\n",
       "</table>\n",
       "<p>12668 rows × 3 columns</p>\n",
       "</div>"
      ],
      "text/plain": [
       "       index                                              Tweet  Polaridade\n",
       "0          0  - #CaoNossoDeCadaDia #Novo - Vanessa Mandotti ...         0.0\n",
       "1          1  - Bola pra frente que amanhã é outro dia, outr...         1.0\n",
       "2          2  - Cara de mal? Acho que não... Apenas um corte...         1.0\n",
       "3          3  \" #PCdoB O PARTIDO QUE FAZ A DIFERENÇA: LEAL E...         1.0\n",
       "4          4  \"@camaradamae: #PCdoB o Partido da coragem !  ...         1.0\n",
       "...      ...                                                ...         ...\n",
       "12663     78  Bom diaa  #SD Moisés Sou Boina Preta e Não Tem...         1.0\n",
       "12664     79  Sei que leve por divisa esse \"V\" que simboliza...         1.0\n",
       "12665     80  L'ambiance d'hier au stade c'est grace ao Maca...         1.0\n",
       "12666     81  Mais tarde tem mais SD no Chopp E Cia...hoje é...         1.0\n",
       "12667     82  Obrigado por tudo Mister Luis Castro,boa sorte...         1.0\n",
       "\n",
       "[12668 rows x 3 columns]"
      ]
     },
     "execution_count": 139,
     "metadata": {},
     "output_type": "execute_result"
    }
   ],
   "source": [
    "df_all = df_all.reset_index()\n",
    "df_all"
   ]
  },
  {
   "cell_type": "code",
   "execution_count": 140,
   "metadata": {},
   "outputs": [
    {
     "data": {
      "text/html": [
       "<div>\n",
       "<style scoped>\n",
       "    .dataframe tbody tr th:only-of-type {\n",
       "        vertical-align: middle;\n",
       "    }\n",
       "\n",
       "    .dataframe tbody tr th {\n",
       "        vertical-align: top;\n",
       "    }\n",
       "\n",
       "    .dataframe thead th {\n",
       "        text-align: right;\n",
       "    }\n",
       "</style>\n",
       "<table border=\"1\" class=\"dataframe\">\n",
       "  <thead>\n",
       "    <tr style=\"text-align: right;\">\n",
       "      <th></th>\n",
       "      <th>Tweet</th>\n",
       "      <th>Polaridade</th>\n",
       "    </tr>\n",
       "  </thead>\n",
       "  <tbody>\n",
       "    <tr>\n",
       "      <th>0</th>\n",
       "      <td>- #CaoNossoDeCadaDia #Novo - Vanessa Mandotti ...</td>\n",
       "      <td>0.0</td>\n",
       "    </tr>\n",
       "    <tr>\n",
       "      <th>1</th>\n",
       "      <td>- Bola pra frente que amanhã é outro dia, outr...</td>\n",
       "      <td>1.0</td>\n",
       "    </tr>\n",
       "    <tr>\n",
       "      <th>2</th>\n",
       "      <td>- Cara de mal? Acho que não... Apenas um corte...</td>\n",
       "      <td>1.0</td>\n",
       "    </tr>\n",
       "    <tr>\n",
       "      <th>3</th>\n",
       "      <td>\" #PCdoB O PARTIDO QUE FAZ A DIFERENÇA: LEAL E...</td>\n",
       "      <td>1.0</td>\n",
       "    </tr>\n",
       "    <tr>\n",
       "      <th>4</th>\n",
       "      <td>\"@camaradamae: #PCdoB o Partido da coragem !  ...</td>\n",
       "      <td>1.0</td>\n",
       "    </tr>\n",
       "    <tr>\n",
       "      <th>...</th>\n",
       "      <td>...</td>\n",
       "      <td>...</td>\n",
       "    </tr>\n",
       "    <tr>\n",
       "      <th>12663</th>\n",
       "      <td>Bom diaa  #SD Moisés Sou Boina Preta e Não Tem...</td>\n",
       "      <td>1.0</td>\n",
       "    </tr>\n",
       "    <tr>\n",
       "      <th>12664</th>\n",
       "      <td>Sei que leve por divisa esse \"V\" que simboliza...</td>\n",
       "      <td>1.0</td>\n",
       "    </tr>\n",
       "    <tr>\n",
       "      <th>12665</th>\n",
       "      <td>L'ambiance d'hier au stade c'est grace ao Maca...</td>\n",
       "      <td>1.0</td>\n",
       "    </tr>\n",
       "    <tr>\n",
       "      <th>12666</th>\n",
       "      <td>Mais tarde tem mais SD no Chopp E Cia...hoje é...</td>\n",
       "      <td>1.0</td>\n",
       "    </tr>\n",
       "    <tr>\n",
       "      <th>12667</th>\n",
       "      <td>Obrigado por tudo Mister Luis Castro,boa sorte...</td>\n",
       "      <td>1.0</td>\n",
       "    </tr>\n",
       "  </tbody>\n",
       "</table>\n",
       "<p>12665 rows × 2 columns</p>\n",
       "</div>"
      ],
      "text/plain": [
       "                                                   Tweet  Polaridade\n",
       "0      - #CaoNossoDeCadaDia #Novo - Vanessa Mandotti ...         0.0\n",
       "1      - Bola pra frente que amanhã é outro dia, outr...         1.0\n",
       "2      - Cara de mal? Acho que não... Apenas um corte...         1.0\n",
       "3      \" #PCdoB O PARTIDO QUE FAZ A DIFERENÇA: LEAL E...         1.0\n",
       "4      \"@camaradamae: #PCdoB o Partido da coragem !  ...         1.0\n",
       "...                                                  ...         ...\n",
       "12663  Bom diaa  #SD Moisés Sou Boina Preta e Não Tem...         1.0\n",
       "12664  Sei que leve por divisa esse \"V\" que simboliza...         1.0\n",
       "12665  L'ambiance d'hier au stade c'est grace ao Maca...         1.0\n",
       "12666  Mais tarde tem mais SD no Chopp E Cia...hoje é...         1.0\n",
       "12667  Obrigado por tudo Mister Luis Castro,boa sorte...         1.0\n",
       "\n",
       "[12665 rows x 2 columns]"
      ]
     },
     "execution_count": 140,
     "metadata": {},
     "output_type": "execute_result"
    }
   ],
   "source": [
    "#df_all = df_all.drop(df_all[df_all['Polaridade'] == 0.0].index).reset_index()\n",
    "df_all = df_all.drop(columns=['index'])\n",
    "df_all.drop(df_all[df_all['Polaridade'] == 11].index, inplace=True)\n",
    "df_all.drop(df_all[df_all['Polaridade'] == -2].index, inplace=True)\n",
    "df_all.drop(df_all[df_all['Polaridade'] == 10].index, inplace=True)\n",
    "\n",
    "df_all"
   ]
  },
  {
   "cell_type": "code",
   "execution_count": 141,
   "metadata": {},
   "outputs": [
    {
     "data": {
      "text/plain": [
       "array([0., 1., 1., ..., 1., 1., 1.])"
      ]
     },
     "execution_count": 141,
     "metadata": {},
     "output_type": "execute_result"
    }
   ],
   "source": [
    "Tweet = df_all['Tweet']\n",
    "polarity = np.asarray(df_all['Polaridade'])\n",
    "\n",
    "polarity"
   ]
  },
  {
   "cell_type": "code",
   "execution_count": 142,
   "metadata": {},
   "outputs": [
    {
     "data": {
      "text/plain": [
       "(12665, 24464)"
      ]
     },
     "execution_count": 142,
     "metadata": {},
     "output_type": "execute_result"
    }
   ],
   "source": [
    "count_vect = CountVectorizer()\n",
    "X_train = count_vect.fit_transform(Tweet)\n",
    "\n",
    "tfidf_transformer = TfidfTransformer()\n",
    "X_train_transform = tfidf_transformer.fit_transform(X_train) # Aplicando o TF-IDF\n",
    "X_train_transform.shape"
   ]
  },
  {
   "cell_type": "code",
   "execution_count": 143,
   "metadata": {},
   "outputs": [
    {
     "name": "stdout",
     "output_type": "stream",
     "text": [
      "              precision    recall  f1-score   support\n",
      "\n",
      "        -1.0       0.53      0.86      0.66      1217\n",
      "         0.0       0.70      0.64      0.67      1434\n",
      "         1.0       0.67      0.29      0.41      1149\n",
      "\n",
      "    accuracy                           0.61      3800\n",
      "   macro avg       0.63      0.60      0.58      3800\n",
      "weighted avg       0.64      0.61      0.59      3800\n",
      "\n"
     ]
    }
   ],
   "source": [
    "X_train, X_test, Y_train, Y_test = train_test_split(X_train_transform, polarity, test_size=0.3)\n",
    "\n",
    "clf = MultinomialNB().fit(X_train, Y_train) # Aplicando naive bayes\n",
    "predicted = clf.predict(X_test)\n",
    "\n",
    "print(metrics.classification_report(Y_test, predicted))"
   ]
  },
  {
   "cell_type": "code",
   "execution_count": 144,
   "metadata": {},
   "outputs": [],
   "source": [
    "def pre_X(frases):\n",
    "    lista = []\n",
    "    \n",
    "    for frase in frases:\n",
    "        lista.append(frase)\n",
    "        \n",
    "    return lista\n",
    "\n",
    "def pre_Y(number):\n",
    "    lista = []\n",
    "    \n",
    "    for numb in number:\n",
    "        lista.append(numb)\n",
    "    \n",
    "    return lista\n"
   ]
  },
  {
   "cell_type": "code",
   "execution_count": 145,
   "metadata": {},
   "outputs": [],
   "source": [
    "def set_array(frases):\n",
    "    \n",
    "    vocab = []\n",
    "    \n",
    "    for frase in frases:\n",
    "        \n",
    "        text_array = Tokenize(frase)\n",
    "        vocab.extend(text_array)\n",
    "    \n",
    "    return vocab\n",
    "\n",
    "def Tokenize(f):     ## Pre-processando a frase\n",
    "    \n",
    "    ## Colocando em minusculo\n",
    "    ## Retirando a pontuaçao\n",
    "    ## Retirando as StopWords\n",
    "    \n",
    "    f = f.lower().replace('\\n', '').replace('-','').replace('#','').replace('.','').replace(',','').replace('!','').replace('r\\n','').replace('  ','')\n",
    "    token = RegexpTokenizer(r\"\\w+\")\n",
    "    f = token.tokenize(f)\n",
    "    \n",
    "    stop_words = set(stopwords.words('portuguese'))\n",
    "    \n",
    "    new_word = [word for word in f if not word in stop_words]\n",
    "    \n",
    "    return ' '.join(new_word)\n",
    "\n",
    "def remove_user(frase):\n",
    "\n",
    "    frase = frase.split(' ')\n",
    "\n",
    "    for palavra in frase:\n",
    "        if '@' in palavra:\n",
    "            frase = ' '.join(frase).replace(palavra, '').split(' ')\n",
    "    return ' '.join(frase)"
   ]
  },
  {
   "cell_type": "code",
   "execution_count": 180,
   "metadata": {},
   "outputs": [],
   "source": [
    "model = tf.keras.Sequential([\n",
    "    tf.keras.layers.Dense(100, activation='relu'),\n",
    "    tf.keras.layers.Dropout(0.4),\n",
    "    tf.keras.layers.Dense(50, activation='relu'),\n",
    "    tf.keras.layers.Dropout(0.4),\n",
    "    tf.keras.layers.Dense(3 , activation='softmax')\n",
    "])\n",
    "\n",
    "model.compile(\n",
    "    optimizer='adam',\n",
    "    loss=tf.keras.losses.categorical_crossentropy,\n",
    "    metrics=['accuracy']\n",
    ")"
   ]
  },
  {
   "cell_type": "code",
   "execution_count": 181,
   "metadata": {},
   "outputs": [
    {
     "data": {
      "text/plain": [
       "<8865x26007 sparse matrix of type '<class 'numpy.float64'>'\n",
       "\twith 78050 stored elements in Compressed Sparse Row format>"
      ]
     },
     "execution_count": 181,
     "metadata": {},
     "output_type": "execute_result"
    }
   ],
   "source": [
    "Tweet = Tweet.apply(remove_user)\n",
    "Tweet_preprocessed = Tweet.apply(Tokenize)\n",
    "\n",
    "count_vect = CountVectorizer()\n",
    "X_train = count_vect.fit_transform(Tweet_preprocessed)\n",
    "\n",
    "tfidf_transformer = TfidfTransformer()\n",
    "X_train_transform = tfidf_transformer.fit_transform(X_train) # Aplicando o TF-IDF\n",
    "\n",
    "\n",
    "X_train, X_test, Y_train, Y_test = train_test_split(X_train_transform, polarity, test_size=0.3)\n",
    "\n",
    "X_train_"
   ]
  },
  {
   "cell_type": "code",
   "execution_count": 182,
   "metadata": {},
   "outputs": [
    {
     "data": {
      "text/plain": [
       "<3800x26007 sparse matrix of type '<class 'numpy.float64'>'\n",
       "\twith 33573 stored elements in Compressed Sparse Row format>"
      ]
     },
     "execution_count": 182,
     "metadata": {},
     "output_type": "execute_result"
    }
   ],
   "source": [
    "X_test_"
   ]
  },
  {
   "cell_type": "code",
   "execution_count": 183,
   "metadata": {},
   "outputs": [],
   "source": [
    "one = OneHotEncoder(sparse=False)\n",
    "\n",
    "y_one = one.fit_transform(Y_train.reshape(-1,1))"
   ]
  },
  {
   "cell_type": "code",
   "execution_count": 184,
   "metadata": {},
   "outputs": [
    {
     "name": "stdout",
     "output_type": "stream",
     "text": [
      "Epoch 1/5\n",
      "278/278 [==============================] - 8s 28ms/step - loss: 1.0016 - accuracy: 0.5032 - val_loss: 0.8807 - val_accuracy: 0.5979\n",
      "Epoch 2/5\n",
      "278/278 [==============================] - 7s 26ms/step - loss: 0.6254 - accuracy: 0.7618 - val_loss: 0.8562 - val_accuracy: 0.6287\n",
      "Epoch 3/5\n",
      "278/278 [==============================] - 7s 26ms/step - loss: 0.2888 - accuracy: 0.9050 - val_loss: 1.0230 - val_accuracy: 0.6189\n",
      "Epoch 4/5\n",
      "278/278 [==============================] - 7s 26ms/step - loss: 0.1388 - accuracy: 0.9584 - val_loss: 1.2002 - val_accuracy: 0.6050\n",
      "Epoch 5/5\n",
      "278/278 [==============================] - 7s 26ms/step - loss: 0.0867 - accuracy: 0.9769 - val_loss: 1.3240 - val_accuracy: 0.6042\n"
     ]
    }
   ],
   "source": [
    "fit = model.fit(X_train.todense(), y_one, epochs=5, validation_data=(X_test.todense(), one.transform(Y_test.reshape(-1,1))))"
   ]
  },
  {
   "cell_type": "code",
   "execution_count": 185,
   "metadata": {
    "scrolled": true
   },
   "outputs": [
    {
     "data": {
      "image/png": "[encoded data removed]",
      "text/plain": [
       "<Figure size 864x432 with 1 Axes>"
      ]
     },
     "metadata": {
      "needs_background": "light"
     },
     "output_type": "display_data"
    }
   ],
   "source": [
    "plt.figure(figsize=(12,6))\n",
    "plt.plot(fit.history['loss'], label='Loss', color='darkred')\n",
    "plt.plot(fit.history['val_loss'], label='Val Loss', color='green')\n",
    "plt.legend()\n",
    "plt.ylabel('Loss')\n",
    "plt.show()"
   ]
  },
  {
   "cell_type": "code",
   "execution_count": 186,
   "metadata": {},
   "outputs": [
    {
     "data": {
      "image/png": "[encoded data removed]",
      "text/plain": [
       "<Figure size 864x432 with 1 Axes>"
      ]
     },
     "metadata": {
      "needs_background": "light"
     },
     "output_type": "display_data"
    }
   ],
   "source": [
    "plt.figure(figsize=(12,6))\n",
    "plt.plot(fit.history['accuracy'], label='accuracy', color='darkred')\n",
    "plt.plot(fit.history['val_accuracy'], label='Val accuracy', color='green')\n",
    "plt.legend()\n",
    "plt.ylabel('Accuracy')\n",
    "plt.show()"
   ]
  },
  {
   "cell_type": "code",
   "execution_count": 187,
   "metadata": {},
   "outputs": [
    {
     "name": "stdout",
     "output_type": "stream",
     "text": [
      "119/119 [==============================] - 1s 12ms/step - loss: 1.3240 - accuracy: 0.6042\n"
     ]
    }
   ],
   "source": [
    "acc = model.evaluate(X_test.todense(), one.transform(Y_test.reshape(-1,1)))"
   ]
  },
  {
   "cell_type": "code",
   "execution_count": 188,
   "metadata": {},
   "outputs": [
    {
     "data": {
      "text/plain": [
       "134"
      ]
     },
     "execution_count": 188,
     "metadata": {},
     "output_type": "execute_result"
    }
   ],
   "source": [
    "vectorize_layer = TextVectorization(\n",
    " max_tokens=10000,\n",
    " output_mode='int',\n",
    " output_sequence_length=len(max(df_all['Tweet'])))\n",
    "\n",
    "vocab = set_array(df_all['Tweet'])\n",
    "vectorize_layer.adapt(np.unique(vocab))\n",
    "len(vectorize_layer.get_vocabulary())"
   ]
  },
  {
   "cell_type": "code",
   "execution_count": 189,
   "metadata": {},
   "outputs": [],
   "source": [
    "model = tf.keras.Sequential([\n",
    "    vectorize_layer,\n",
    "    tf.keras.layers.Embedding(\n",
    "        input_dim=len(vectorize_layer.get_vocabulary()),\n",
    "        output_dim=128,mask_zero=True),\n",
    "    \n",
    "    tf.keras.layers.LSTM(150, activation='relu' ,return_sequences=True),\n",
    "    tf.keras.layers.Dropout(0.3),\n",
    "    \n",
    "    tf.keras.layers.LSTM(50, activation='relu' ,return_sequences=True),\n",
    "    tf.keras.layers.Dropout(0.3),\n",
    "    \n",
    "    tf.keras.layers.LSTM(50 , activation='relu'),\n",
    "    tf.keras.layers.Dropout(0.3),\n",
    "    \n",
    "    tf.keras.layers.Dense(3, activation='softmax')\n",
    "])\n",
    "\n",
    "\n",
    "model.compile(\n",
    "    optimizer='adam',\n",
    "    loss=tf.keras.losses.categorical_crossentropy,\n",
    "    metrics=['accuracy']\n",
    ")"
   ]
  },
  {
   "cell_type": "code",
   "execution_count": 190,
   "metadata": {},
   "outputs": [
    {
     "data": {
      "text/plain": [
       "(8865,)"
      ]
     },
     "execution_count": 190,
     "metadata": {},
     "output_type": "execute_result"
    }
   ],
   "source": [
    "X_train, X_test, Y_train, Y_test = train_test_split(Tweet_preprocessed, polarity, test_size=0.3)\n",
    "X_train.shape"
   ]
  },
  {
   "cell_type": "code",
   "execution_count": 192,
   "metadata": {},
   "outputs": [
    {
     "name": "stdout",
     "output_type": "stream",
     "text": [
      "Epoch 1/10\n",
      "18/18 [==============================] - 60s 3s/step - loss: 1.0957 - accuracy: 0.3760 - val_loss: 1.0986 - val_accuracy: 0.3779\n",
      "Epoch 2/10\n",
      "18/18 [==============================] - 62s 3s/step - loss: 1.0933 - accuracy: 0.3808 - val_loss: 1.0960 - val_accuracy: 0.3779\n",
      "Epoch 3/10\n",
      "18/18 [==============================] - 65s 4s/step - loss: 1.0933 - accuracy: 0.3809 - val_loss: 1.0962 - val_accuracy: 0.3779\n",
      "Epoch 4/10\n",
      "18/18 [==============================] - 62s 3s/step - loss: 1.0930 - accuracy: 0.3809 - val_loss: 1.0961 - val_accuracy: 0.3779\n",
      "Epoch 5/10\n",
      "18/18 [==============================] - 65s 4s/step - loss: 1.0932 - accuracy: 0.3809 - val_loss: 1.0954 - val_accuracy: 0.3779\n",
      "Epoch 6/10\n",
      "18/18 [==============================] - 62s 3s/step - loss: 1.0928 - accuracy: 0.3809 - val_loss: 1.0954 - val_accuracy: 0.3779\n",
      "Epoch 7/10\n",
      "18/18 [==============================] - 65s 4s/step - loss: 1.0928 - accuracy: 0.3809 - val_loss: 1.0958 - val_accuracy: 0.3779\n",
      "Epoch 8/10\n",
      "18/18 [==============================] - 66s 4s/step - loss: 1.0931 - accuracy: 0.3809 - val_loss: 1.0953 - val_accuracy: 0.3779\n",
      "Epoch 9/10\n",
      "18/18 [==============================] - 67s 4s/step - loss: 1.0928 - accuracy: 0.3809 - val_loss: 1.0957 - val_accuracy: 0.3779\n",
      "Epoch 10/10\n",
      "18/18 [==============================] - 66s 4s/step - loss: 1.0926 - accuracy: 0.3812 - val_loss: 1.0948 - val_accuracy: 0.3774\n"
     ]
    }
   ],
   "source": [
    "fit = model.fit(np.asarray(pre_X(X_train)), y_one, epochs=10, batch_size=512 ,validation_data=(np.asarray(pre_X(X_test)), one.transform(Y_test.reshape(-1,1))))"
   ]
  },
  {
   "cell_type": "code",
   "execution_count": 193,
   "metadata": {},
   "outputs": [
    {
     "data": {
      "image/png": "[encoded data removed]",
      "text/plain": [
       "<Figure size 864x432 with 1 Axes>"
      ]
     },
     "metadata": {
      "needs_background": "light"
     },
     "output_type": "display_data"
    }
   ],
   "source": [
    "plt.figure(figsize=(12,6))\n",
    "plt.plot(fit.history['loss'], label='Loss', color='darkred')\n",
    "plt.plot(fit.history['val_loss'], label='Val Loss', color='green')\n",
    "plt.legend()\n",
    "plt.grid()\n",
    "plt.ylabel('Loss')\n",
    "plt.show()"
   ]
  },
  {
   "cell_type": "code",
   "execution_count": 194,
   "metadata": {},
   "outputs": [
    {
     "data": {
      "image/png": "[encoded data removed]",
      "text/plain": [
       "<Figure size 864x432 with 1 Axes>"
      ]
     },
     "metadata": {
      "needs_background": "light"
     },
     "output_type": "display_data"
    }
   ],
   "source": [
    "plt.figure(figsize=(12,6))\n",
    "plt.plot(fit.history['accuracy'], label='accuracy', color='darkred')\n",
    "plt.plot(fit.history['val_accuracy'], label='Val accuracy', color='green')\n",
    "plt.legend()\n",
    "plt.grid()\n",
    "plt.ylabel('Accuracy')\n",
    "plt.show()"
   ]
  },
  {
   "cell_type": "code",
   "execution_count": 195,
   "metadata": {},
   "outputs": [
    {
     "name": "stdout",
     "output_type": "stream",
     "text": [
      "119/119 [==============================] - 10s 86ms/step - loss: 1.0948 - accuracy: 0.3774\n"
     ]
    }
   ],
   "source": [
    "acc = model.evaluate(np.asarray(pre_X(X_test)), one.transform(Y_test.reshape(-1,1)))"
   ]
  },
  {
   "cell_type": "code",
   "execution_count": null,
   "metadata": {},
   "outputs": [],
   "source": []
  }
 ],
 "metadata": {
  "kernelspec": {
   "display_name": "Python 3",
   "language": "python",
   "name": "python3"
  },
  "language_info": {
   "codemirror_mode": {
    "name": "ipython",
    "version": 3
   },
   "file_extension": ".py",
   "mimetype": "text/x-python",
   "name": "python",
   "nbconvert_exporter": "python",
   "pygments_lexer": "ipython3",
   "version": "3.7.9"
  }
 },
 "nbformat": 4,
 "nbformat_minor": 2
}
