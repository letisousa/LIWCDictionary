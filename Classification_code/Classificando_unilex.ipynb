{
 "cells": [
  {
   "cell_type": "code",
   "execution_count": 68,
   "metadata": {},
   "outputs": [
    {
     "name": "stderr",
     "output_type": "stream",
     "text": [
      "[nltk_data] Downloading package stopwords to\n",
      "[nltk_data]     C:\\Users\\ddayv\\AppData\\Roaming\\nltk_data...\n",
      "[nltk_data]   Package stopwords is already up-to-date!\n",
      "[nltk_data] Downloading package wordnet to\n",
      "[nltk_data]     C:\\Users\\ddayv\\AppData\\Roaming\\nltk_data...\n",
      "[nltk_data]   Package wordnet is already up-to-date!\n"
     ]
    },
    {
     "data": {
      "text/plain": [
       "True"
      ]
     },
     "execution_count": 68,
     "metadata": {},
     "output_type": "execute_result"
    }
   ],
   "source": [
    "import pandas as pd\n",
    "import numpy as np\n",
    "from sklearn.feature_extraction.text import CountVectorizer\n",
    "from sklearn.feature_extraction.text import TfidfTransformer\n",
    "from sklearn.naive_bayes import MultinomialNB\n",
    "from sklearn.model_selection import train_test_split\n",
    "from sklearn.metrics import classification_report\n",
    "import seaborn as sns\n",
    "import re\n",
    "import random as rd\n",
    "import tensorflow as tf\n",
    "from tensorflow.keras.layers.experimental.preprocessing import TextVectorization\n",
    "from nltk import word_tokenize, RegexpTokenizer\n",
    "from nltk.corpus import stopwords, wordnet\n",
    "from sklearn.preprocessing import OneHotEncoder\n",
    "import matplotlib.pyplot as plt\n",
    "import autokeras as ak\n",
    "from sklearn.model_selection import KFold\n",
    "\n",
    "import nltk\n",
    "nltk.download('stopwords')\n",
    "nltk.download('wordnet')"
   ]
  },
  {
   "cell_type": "code",
   "execution_count": 69,
   "metadata": {},
   "outputs": [
    {
     "data": {
      "text/plain": [
       "(12670, 2)"
      ]
     },
     "execution_count": 69,
     "metadata": {},
     "output_type": "execute_result"
    }
   ],
   "source": [
    "df = pd.read_excel('./rotulação/TweetsPolitical01 OK OK.xlsx')\n",
    "df2 = pd.read_excel('./rotulação/TweetsPolitical02 OK OK.xlsx')\n",
    "df3 = pd.read_excel('./rotulação/TweetsPolitical03 OK OK.xlsx')\n",
    "df4 = pd.read_excel('./rotulação/TweetsPolitical04 OK OK.xlsx')\n",
    "df5 = pd.read_excel('./rotulação/TweetsPolitical05 OK OK.xlsx')\n",
    "df6 = pd.read_excel('./rotulação/TweetsPolitical06 OK OK.xlsx')\n",
    "df7 = pd.read_excel('./rotulação/TweetsPolitical07 OK OK.xlsx')\n",
    "df8 = pd.read_excel('./rotulação/TweetsPolitical08 OK OK.xlsx')\n",
    "df9 = pd.read_excel('./rotulação/TweetsPolitical09 OK OK.xlsx')\n",
    "df10 = pd.read_excel('./rotulação/TweetsPolitical10 OK OK.xlsx')\n",
    "df11 = pd.read_excel('./rotulação/TweetsPolitical11 OK OK.xlsx')\n",
    "df12 = pd.read_excel('./rotulação/TweetsPolitical12 OK OK.xlsx')\n",
    "df13 = pd.read_excel('./rotulação/TweetsPolitical13 OK OK.xlsx')\n",
    "df14 = pd.read_excel('./rotulação/TweetsPolitical14 OK OK.xlsx')\n",
    "df15 = pd.read_excel('./rotulação/TweetsPolitical15 OK OK.xlsx')\n",
    "\n",
    "lista = [df,df2,df3,df4,df5,df6,df7,df8,df9,df10,df11,df12,df13,df14,df15]\n",
    "\n",
    "df_all = pd.concat(lista)\n",
    "df_all.shape"
   ]
  },
  {
   "cell_type": "code",
   "execution_count": 3,
   "metadata": {},
   "outputs": [
    {
     "data": {
      "text/html": [
       "<div>\n",
       "<style scoped>\n",
       "    .dataframe tbody tr th:only-of-type {\n",
       "        vertical-align: middle;\n",
       "    }\n",
       "\n",
       "    .dataframe tbody tr th {\n",
       "        vertical-align: top;\n",
       "    }\n",
       "\n",
       "    .dataframe thead th {\n",
       "        text-align: right;\n",
       "    }\n",
       "</style>\n",
       "<table border=\"1\" class=\"dataframe\">\n",
       "  <thead>\n",
       "    <tr style=\"text-align: right;\">\n",
       "      <th></th>\n",
       "      <th>Tweet</th>\n",
       "      <th>Polaridade</th>\n",
       "    </tr>\n",
       "  </thead>\n",
       "  <tbody>\n",
       "    <tr>\n",
       "      <th>0</th>\n",
       "      <td>- #CaoNossoDeCadaDia #Novo - Vanessa Mandotti ...</td>\n",
       "      <td>0.0</td>\n",
       "    </tr>\n",
       "    <tr>\n",
       "      <th>1</th>\n",
       "      <td>- Bola pra frente que amanhã é outro dia, outr...</td>\n",
       "      <td>1.0</td>\n",
       "    </tr>\n",
       "    <tr>\n",
       "      <th>2</th>\n",
       "      <td>- Cara de mal? Acho que não... Apenas um corte...</td>\n",
       "      <td>1.0</td>\n",
       "    </tr>\n",
       "    <tr>\n",
       "      <th>3</th>\n",
       "      <td>\" #PCdoB O PARTIDO QUE FAZ A DIFERENÇA: LEAL E...</td>\n",
       "      <td>1.0</td>\n",
       "    </tr>\n",
       "    <tr>\n",
       "      <th>4</th>\n",
       "      <td>\"@camaradamae: #PCdoB o Partido da coragem !  ...</td>\n",
       "      <td>1.0</td>\n",
       "    </tr>\n",
       "  </tbody>\n",
       "</table>\n",
       "</div>"
      ],
      "text/plain": [
       "                                               Tweet  Polaridade\n",
       "0  - #CaoNossoDeCadaDia #Novo - Vanessa Mandotti ...         0.0\n",
       "1  - Bola pra frente que amanhã é outro dia, outr...         1.0\n",
       "2  - Cara de mal? Acho que não... Apenas um corte...         1.0\n",
       "3  \" #PCdoB O PARTIDO QUE FAZ A DIFERENÇA: LEAL E...         1.0\n",
       "4  \"@camaradamae: #PCdoB o Partido da coragem !  ...         1.0"
      ]
     },
     "execution_count": 3,
     "metadata": {},
     "output_type": "execute_result"
    }
   ],
   "source": [
    "df_all.head()"
   ]
  },
  {
   "cell_type": "code",
   "execution_count": 4,
   "metadata": {},
   "outputs": [
    {
     "data": {
      "text/plain": [
       "Tweet         2\n",
       "Polaridade    2\n",
       "dtype: int64"
      ]
     },
     "execution_count": 4,
     "metadata": {},
     "output_type": "execute_result"
    }
   ],
   "source": [
    "df_all.isnull().sum()"
   ]
  },
  {
   "cell_type": "code",
   "execution_count": 5,
   "metadata": {},
   "outputs": [
    {
     "data": {
      "image/png": "[encoded data removed]",
      "text/plain": [
       "<Figure size 432x288 with 1 Axes>"
      ]
     },
     "metadata": {
      "needs_background": "light"
     },
     "output_type": "display_data"
    }
   ],
   "source": [
    "df_all = df_all.dropna()\n",
    "\n",
    "sns.countplot(data=df_all, x='Polaridade')\n",
    "plt.grid()"
   ]
  },
  {
   "cell_type": "code",
   "execution_count": 6,
   "metadata": {},
   "outputs": [
    {
     "data": {
      "text/html": [
       "<div>\n",
       "<style scoped>\n",
       "    .dataframe tbody tr th:only-of-type {\n",
       "        vertical-align: middle;\n",
       "    }\n",
       "\n",
       "    .dataframe tbody tr th {\n",
       "        vertical-align: top;\n",
       "    }\n",
       "\n",
       "    .dataframe thead th {\n",
       "        text-align: right;\n",
       "    }\n",
       "</style>\n",
       "<table border=\"1\" class=\"dataframe\">\n",
       "  <thead>\n",
       "    <tr style=\"text-align: right;\">\n",
       "      <th></th>\n",
       "      <th>index</th>\n",
       "      <th>Tweet</th>\n",
       "      <th>Polaridade</th>\n",
       "    </tr>\n",
       "  </thead>\n",
       "  <tbody>\n",
       "    <tr>\n",
       "      <th>0</th>\n",
       "      <td>0</td>\n",
       "      <td>- #CaoNossoDeCadaDia #Novo - Vanessa Mandotti ...</td>\n",
       "      <td>0.0</td>\n",
       "    </tr>\n",
       "    <tr>\n",
       "      <th>1</th>\n",
       "      <td>1</td>\n",
       "      <td>- Bola pra frente que amanhã é outro dia, outr...</td>\n",
       "      <td>1.0</td>\n",
       "    </tr>\n",
       "    <tr>\n",
       "      <th>2</th>\n",
       "      <td>2</td>\n",
       "      <td>- Cara de mal? Acho que não... Apenas um corte...</td>\n",
       "      <td>1.0</td>\n",
       "    </tr>\n",
       "    <tr>\n",
       "      <th>3</th>\n",
       "      <td>3</td>\n",
       "      <td>\" #PCdoB O PARTIDO QUE FAZ A DIFERENÇA: LEAL E...</td>\n",
       "      <td>1.0</td>\n",
       "    </tr>\n",
       "    <tr>\n",
       "      <th>4</th>\n",
       "      <td>4</td>\n",
       "      <td>\"@camaradamae: #PCdoB o Partido da coragem !  ...</td>\n",
       "      <td>1.0</td>\n",
       "    </tr>\n",
       "    <tr>\n",
       "      <th>...</th>\n",
       "      <td>...</td>\n",
       "      <td>...</td>\n",
       "      <td>...</td>\n",
       "    </tr>\n",
       "    <tr>\n",
       "      <th>12663</th>\n",
       "      <td>78</td>\n",
       "      <td>Bom diaa  #SD Moisés Sou Boina Preta e Não Tem...</td>\n",
       "      <td>1.0</td>\n",
       "    </tr>\n",
       "    <tr>\n",
       "      <th>12664</th>\n",
       "      <td>79</td>\n",
       "      <td>Sei que leve por divisa esse \"V\" que simboliza...</td>\n",
       "      <td>1.0</td>\n",
       "    </tr>\n",
       "    <tr>\n",
       "      <th>12665</th>\n",
       "      <td>80</td>\n",
       "      <td>L'ambiance d'hier au stade c'est grace ao Maca...</td>\n",
       "      <td>1.0</td>\n",
       "    </tr>\n",
       "    <tr>\n",
       "      <th>12666</th>\n",
       "      <td>81</td>\n",
       "      <td>Mais tarde tem mais SD no Chopp E Cia...hoje é...</td>\n",
       "      <td>1.0</td>\n",
       "    </tr>\n",
       "    <tr>\n",
       "      <th>12667</th>\n",
       "      <td>82</td>\n",
       "      <td>Obrigado por tudo Mister Luis Castro,boa sorte...</td>\n",
       "      <td>1.0</td>\n",
       "    </tr>\n",
       "  </tbody>\n",
       "</table>\n",
       "<p>12668 rows × 3 columns</p>\n",
       "</div>"
      ],
      "text/plain": [
       "       index                                              Tweet  Polaridade\n",
       "0          0  - #CaoNossoDeCadaDia #Novo - Vanessa Mandotti ...         0.0\n",
       "1          1  - Bola pra frente que amanhã é outro dia, outr...         1.0\n",
       "2          2  - Cara de mal? Acho que não... Apenas um corte...         1.0\n",
       "3          3  \" #PCdoB O PARTIDO QUE FAZ A DIFERENÇA: LEAL E...         1.0\n",
       "4          4  \"@camaradamae: #PCdoB o Partido da coragem !  ...         1.0\n",
       "...      ...                                                ...         ...\n",
       "12663     78  Bom diaa  #SD Moisés Sou Boina Preta e Não Tem...         1.0\n",
       "12664     79  Sei que leve por divisa esse \"V\" que simboliza...         1.0\n",
       "12665     80  L'ambiance d'hier au stade c'est grace ao Maca...         1.0\n",
       "12666     81  Mais tarde tem mais SD no Chopp E Cia...hoje é...         1.0\n",
       "12667     82  Obrigado por tudo Mister Luis Castro,boa sorte...         1.0\n",
       "\n",
       "[12668 rows x 3 columns]"
      ]
     },
     "execution_count": 6,
     "metadata": {},
     "output_type": "execute_result"
    }
   ],
   "source": [
    "df_all = df_all.reset_index()\n",
    "df_all"
   ]
  },
  {
   "cell_type": "code",
   "execution_count": 7,
   "metadata": {},
   "outputs": [
    {
     "data": {
      "text/plain": [
       "array([ 0.,  1., -1.])"
      ]
     },
     "execution_count": 7,
     "metadata": {},
     "output_type": "execute_result"
    }
   ],
   "source": [
    "df_all = df_all.drop(columns=['index'])\n",
    "df_all.drop(df_all[df_all['Polaridade'] == 11].index, inplace=True)\n",
    "df_all.drop(df_all[df_all['Polaridade'] == -2].index, inplace=True)\n",
    "df_all.drop(df_all[df_all['Polaridade'] == 10].index, inplace=True)\n",
    "\n",
    "df_all['Polaridade'].unique()"
   ]
  },
  {
   "cell_type": "code",
   "execution_count": 8,
   "metadata": {},
   "outputs": [
    {
     "data": {
      "text/plain": [
       "array([-1.,  0.,  1.])"
      ]
     },
     "execution_count": 8,
     "metadata": {},
     "output_type": "execute_result"
    }
   ],
   "source": [
    "Tweet = df_all['Tweet']\n",
    "polarity = np.asarray(df_all['Polaridade'])\n",
    "\n",
    "np.unique(polarity)"
   ]
  },
  {
   "cell_type": "code",
   "execution_count": 9,
   "metadata": {},
   "outputs": [
    {
     "data": {
      "text/plain": [
       "(12665, 24464)"
      ]
     },
     "execution_count": 9,
     "metadata": {},
     "output_type": "execute_result"
    }
   ],
   "source": [
    "count_vect = CountVectorizer()\n",
    "X_train = count_vect.fit_transform(Tweet)\n",
    "\n",
    "tfidf_transformer = TfidfTransformer()\n",
    "X_train_transform = tfidf_transformer.fit_transform(X_train) # Aplicando o TF-IDF\n",
    "X_train_transform.shape"
   ]
  },
  {
   "cell_type": "code",
   "execution_count": 15,
   "metadata": {},
   "outputs": [
    {
     "name": "stdout",
     "output_type": "stream",
     "text": [
      "0.5445935280189423\n",
      "0.5698500394632992\n",
      "0.6479873717442778\n",
      "0.6535122336227308\n",
      "0.430939226519337\n",
      "0.5742496050552922\n",
      "0.5876777251184834\n",
      "0.5932069510268563\n",
      "0.5789889415481833\n",
      "0.6058451816745656\n",
      " Média: 0.5786850803791967 \t Std: 0.05875391811268977  \n"
     ]
    }
   ],
   "source": [
    "#X_train, X_test, Y_train, Y_test = train_test_split(X_train_transform, polarity, test_size=0.3)\n",
    "\n",
    "kf = KFold(n_splits=10)\n",
    "clf = MultinomialNB()\n",
    "lista = []\n",
    "for train_index, test_index in kf.split(X_train_transform):\n",
    "    X_train, X_test = X_train_transform[train_index], X_train_transform[test_index]\n",
    "    y_train, y_test = polarity[train_index], polarity[test_index]\n",
    "    clf.fit(X_train, y_train)\n",
    "    y_pred = clf.predict(X_test)\n",
    "    lista.append(clf.score(X_test, y_test))\n",
    "    \n",
    "    print(clf.score(X_test, y_test))\n",
    "    \n",
    "print(f' Média: {np.array(lista).mean()} \\t Std: {np.array(lista).std()}  ')"
   ]
  },
  {
   "cell_type": "code",
   "execution_count": 16,
   "metadata": {},
   "outputs": [],
   "source": [
    "X_train, X_test, Y_train, Y_test = train_test_split(X_train_transform, polarity, test_size=0.3)"
   ]
  },
  {
   "cell_type": "code",
   "execution_count": 17,
   "metadata": {},
   "outputs": [
    {
     "name": "stdout",
     "output_type": "stream",
     "text": [
      "              precision    recall  f1-score   support\n",
      "\n",
      "        -1.0       0.54      0.84      0.66      1233\n",
      "         0.0       0.68      0.64      0.66      1422\n",
      "         1.0       0.69      0.33      0.45      1145\n",
      "\n",
      "    accuracy                           0.61      3800\n",
      "   macro avg       0.64      0.60      0.59      3800\n",
      "weighted avg       0.64      0.61      0.59      3800\n",
      "\n"
     ]
    }
   ],
   "source": [
    "clf = MultinomialNB()\n",
    "clf.fit(X_train, Y_train)\n",
    "y_pred = clf.predict(X_test)\n",
    "\n",
    "print(classification_report(Y_test,y_pred))"
   ]
  },
  {
   "cell_type": "code",
   "execution_count": 18,
   "metadata": {},
   "outputs": [
    {
     "data": {
      "text/plain": [
       "0.5786850803791969"
      ]
     },
     "execution_count": 18,
     "metadata": {},
     "output_type": "execute_result"
    }
   ],
   "source": [
    "5.786850803791968/10"
   ]
  },
  {
   "cell_type": "code",
   "execution_count": 19,
   "metadata": {},
   "outputs": [],
   "source": [
    "def pre_X(frases):\n",
    "    lista = []\n",
    "    \n",
    "    for frase in frases:\n",
    "        lista.append(frase)\n",
    "        \n",
    "    return lista\n",
    "\n",
    "def pre_Y(number):\n",
    "    lista = []\n",
    "    \n",
    "    for numb in number:\n",
    "        lista.append(numb)\n",
    "    \n",
    "    return lista\n"
   ]
  },
  {
   "cell_type": "code",
   "execution_count": 20,
   "metadata": {},
   "outputs": [],
   "source": [
    "def set_array(frases):\n",
    "    \n",
    "    vocab = []\n",
    "    palavras = []\n",
    "    for frase in frases:\n",
    "        \n",
    "        text_array = remove_user(frase)\n",
    "        text_array = Tokenize(text_array)\n",
    "        text_array = text_array.split(' ')\n",
    "        for i in range(len(text_array)):\n",
    "            vocab.append(text_array[i])\n",
    "    \n",
    "    \n",
    "        \n",
    "    return vocab\n",
    "\n",
    "def Tokenize(f):     ## Pre-processando a frase\n",
    "    \n",
    "    ## Colocando em minusculo\n",
    "    ## Retirando a pontuaçao\n",
    "    ## Retirando as StopWords\n",
    "    \n",
    "    f = f.lower().replace('\\n', '').replace('-','').replace('#','').replace('.','').replace(',','').replace('!','').replace('r\\n','').replace('  ','')\n",
    "    token = RegexpTokenizer(r\"\\w+\")\n",
    "    f = token.tokenize(f)\n",
    "    \n",
    "    stop_words = set(stopwords.words('portuguese'))\n",
    "    \n",
    "    new_word = [word for word in f if not word in stop_words]\n",
    "    \n",
    "    return ' '.join(new_word)\n",
    "\n",
    "def remove_user(frase):\n",
    "\n",
    "    return re.sub('@\\w+','',frase)"
   ]
  },
  {
   "cell_type": "code",
   "execution_count": 38,
   "metadata": {},
   "outputs": [],
   "source": [
    "model = tf.keras.Sequential([\n",
    "    tf.keras.layers.Dense(50, activation='relu'),\n",
    "    tf.keras.layers.Dropout(0.3),\n",
    "    \n",
    "    tf.keras.layers.Dense(25, activation='relu'),\n",
    "    tf.keras.layers.Dropout(0.3),\n",
    "    \n",
    "    tf.keras.layers.Dense(10, activation='tanh'),\n",
    "    tf.keras.layers.Dropout(0.3),\n",
    "    \n",
    "    tf.keras.layers.Dense(3 , activation='softmax')\n",
    "])\n",
    "\n",
    "model.compile(\n",
    "    optimizer='adam',\n",
    "    loss=tf.keras.losses.categorical_crossentropy,\n",
    "    metrics=['accuracy']\n",
    ")"
   ]
  },
  {
   "cell_type": "code",
   "execution_count": 39,
   "metadata": {},
   "outputs": [],
   "source": [
    "Tweet = Tweet.apply(remove_user)\n",
    "Tweet_preprocessed = Tweet.apply(Tokenize)\n"
   ]
  },
  {
   "cell_type": "code",
   "execution_count": 40,
   "metadata": {},
   "outputs": [
    {
     "data": {
      "text/plain": [
       "<8865x25943 sparse matrix of type '<class 'numpy.float64'>'\n",
       "\twith 78082 stored elements in Compressed Sparse Row format>"
      ]
     },
     "execution_count": 40,
     "metadata": {},
     "output_type": "execute_result"
    }
   ],
   "source": [
    "count_vect = CountVectorizer()\n",
    "X_train = count_vect.fit_transform(Tweet_preprocessed)\n",
    "\n",
    "tfidf_transformer = TfidfTransformer()\n",
    "X_train_transform = tfidf_transformer.fit_transform(X_train) # Aplicando o TF-IDF\n",
    "\n",
    "\n",
    "X_train_, X_test_, Y_train, Y_test = train_test_split(X_train_transform, polarity, test_size=0.3)\n",
    "\n",
    "X_train_"
   ]
  },
  {
   "cell_type": "code",
   "execution_count": 49,
   "metadata": {},
   "outputs": [],
   "source": [
    "one = OneHotEncoder(sparse=False)"
   ]
  },
  {
   "cell_type": "code",
   "execution_count": 50,
   "metadata": {},
   "outputs": [],
   "source": [
    "y_one = one.fit_transform(Y_train.reshape(-1,1))\n",
    "y_one_ = one.fit_transform(Y_test.reshape(-1,1))"
   ]
  },
  {
   "cell_type": "code",
   "execution_count": 51,
   "metadata": {},
   "outputs": [
    {
     "data": {
      "text/plain": [
       "(3800, 3)"
      ]
     },
     "execution_count": 51,
     "metadata": {},
     "output_type": "execute_result"
    }
   ],
   "source": [
    "y_one_.shape"
   ]
  },
  {
   "cell_type": "code",
   "execution_count": 52,
   "metadata": {},
   "outputs": [
    {
     "name": "stdout",
     "output_type": "stream",
     "text": [
      "Epoch 1/5\n",
      "278/278 [==============================] - 3s 12ms/step - loss: 1.0342 - accuracy: 0.4522 - val_loss: 0.9388 - val_accuracy: 0.5763\n",
      "Epoch 2/5\n",
      "278/278 [==============================] - 2s 9ms/step - loss: 0.7494 - accuracy: 0.7016 - val_loss: 0.8624 - val_accuracy: 0.6250\n",
      "Epoch 3/5\n",
      "278/278 [==============================] - 2s 9ms/step - loss: 0.4134 - accuracy: 0.8660 - val_loss: 0.9684 - val_accuracy: 0.6276\n",
      "Epoch 4/5\n",
      "278/278 [==============================] - 2s 8ms/step - loss: 0.2156 - accuracy: 0.9362 - val_loss: 1.1681 - val_accuracy: 0.6221\n",
      "Epoch 5/5\n",
      "278/278 [==============================] - 2s 8ms/step - loss: 0.1341 - accuracy: 0.9644 - val_loss: 1.3782 - val_accuracy: 0.6208\n"
     ]
    }
   ],
   "source": [
    "fit = model.fit(X_train_.todense(), y_one, epochs=5, validation_data=(X_test_.todense(), y_one_))"
   ]
  },
  {
   "cell_type": "code",
   "execution_count": 55,
   "metadata": {},
   "outputs": [
    {
     "name": "stdout",
     "output_type": "stream",
     "text": [
      "              precision    recall  f1-score   support\n",
      "\n",
      "           0       0.67      0.64      0.65      1269\n",
      "           1       0.62      0.69      0.66      1434\n",
      "           2       0.56      0.51      0.53      1097\n",
      "\n",
      "    accuracy                           0.62      3800\n",
      "   macro avg       0.62      0.61      0.61      3800\n",
      "weighted avg       0.62      0.62      0.62      3800\n",
      "\n"
     ]
    }
   ],
   "source": [
    "predicted = model.predict(X_test_.todense())\n",
    "\n",
    "print(classification_report(np.argmax(y_one_, axis=1), np.argmax(predicted, axis=1)))"
   ]
  },
  {
   "cell_type": "code",
   "execution_count": 56,
   "metadata": {
    "scrolled": true
   },
   "outputs": [
    {
     "name": "stdout",
     "output_type": "stream",
     "text": [
      "Iter:  1\n",
      " \n",
      "Epoch 1/5\n",
      "357/357 [==============================] - 5s 13ms/step - loss: 1.0087 - accuracy: 0.4873 - val_loss: 0.9124 - val_accuracy: 0.5730\n",
      "Epoch 2/5\n",
      "357/357 [==============================] - 20s 57ms/step - loss: 0.6542 - accuracy: 0.7466 - val_loss: 0.9505 - val_accuracy: 0.5359\n",
      "Epoch 3/5\n",
      "357/357 [==============================] - 3s 8ms/step - loss: 0.3400 - accuracy: 0.8879 - val_loss: 1.1491 - val_accuracy: 0.5446\n",
      "Epoch 4/5\n",
      "357/357 [==============================] - 3s 8ms/step - loss: 0.1980 - accuracy: 0.9406 - val_loss: 1.3391 - val_accuracy: 0.5399\n",
      "Epoch 5/5\n",
      "357/357 [==============================] - 3s 9ms/step - loss: 0.1224 - accuracy: 0.9667 - val_loss: 1.5609 - val_accuracy: 0.5438\n",
      " \n",
      "Iter:  2\n",
      " \n",
      "Epoch 1/5\n",
      "357/357 [==============================] - 3s 9ms/step - loss: 1.0136 - accuracy: 0.4825 - val_loss: 0.9070 - val_accuracy: 0.6101\n",
      "Epoch 2/5\n",
      "357/357 [==============================] - 3s 7ms/step - loss: 0.6985 - accuracy: 0.7208 - val_loss: 0.9118 - val_accuracy: 0.6196\n",
      "Epoch 3/5\n",
      "357/357 [==============================] - 3s 8ms/step - loss: 0.3760 - accuracy: 0.8749 - val_loss: 1.0361 - val_accuracy: 0.6361\n",
      "Epoch 4/5\n",
      "357/357 [==============================] - 3s 9ms/step - loss: 0.2121 - accuracy: 0.9375 - val_loss: 1.2222 - val_accuracy: 0.6243\n",
      "Epoch 5/5\n",
      "357/357 [==============================] - 3s 8ms/step - loss: 0.1285 - accuracy: 0.9647 - val_loss: 1.4484 - val_accuracy: 0.6062\n",
      " \n",
      "Iter:  3\n",
      " \n",
      "Epoch 1/5\n",
      "357/357 [==============================] - 6s 18ms/step - loss: 1.0033 - accuracy: 0.4963 - val_loss: 0.8981 - val_accuracy: 0.5975\n",
      "Epoch 2/5\n",
      "357/357 [==============================] - 3s 9ms/step - loss: 0.6753 - accuracy: 0.7362 - val_loss: 0.8692 - val_accuracy: 0.6204\n",
      "Epoch 3/5\n",
      "357/357 [==============================] - 3s 8ms/step - loss: 0.3723 - accuracy: 0.8772 - val_loss: 0.9830 - val_accuracy: 0.6188\n",
      "Epoch 4/5\n",
      "357/357 [==============================] - 3s 8ms/step - loss: 0.2074 - accuracy: 0.9400 - val_loss: 1.2412 - val_accuracy: 0.5801\n",
      "Epoch 5/5\n",
      "357/357 [==============================] - 3s 8ms/step - loss: 0.1362 - accuracy: 0.9646 - val_loss: 1.3433 - val_accuracy: 0.6038\n",
      " \n",
      "Iter:  4\n",
      " \n",
      "Epoch 1/5\n",
      "357/357 [==============================] - 11s 30ms/step - loss: 1.0190 - accuracy: 0.4771 - val_loss: 0.8192 - val_accuracy: 0.6456\n",
      "Epoch 2/5\n",
      "357/357 [==============================] - 3s 7ms/step - loss: 0.6857 - accuracy: 0.7317 - val_loss: 0.8139 - val_accuracy: 0.6614\n",
      "Epoch 3/5\n",
      "357/357 [==============================] - 3s 7ms/step - loss: 0.3571 - accuracy: 0.8836 - val_loss: 1.0328 - val_accuracy: 0.6172\n",
      "Epoch 4/5\n",
      "357/357 [==============================] - 3s 7ms/step - loss: 0.1955 - accuracy: 0.9417 - val_loss: 1.2675 - val_accuracy: 0.5927\n",
      "Epoch 5/5\n",
      "357/357 [==============================] - 3s 8ms/step - loss: 0.1289 - accuracy: 0.9655 - val_loss: 1.4905 - val_accuracy: 0.5501\n",
      " \n",
      "Iter:  5\n",
      " \n",
      "Epoch 1/5\n",
      "357/357 [==============================] - 4s 11ms/step - loss: 0.9898 - accuracy: 0.5083 - val_loss: 1.0999 - val_accuracy: 0.3639\n",
      "Epoch 2/5\n",
      "357/357 [==============================] - 3s 7ms/step - loss: 0.6976 - accuracy: 0.7058 - val_loss: 1.0976 - val_accuracy: 0.4830\n",
      "Epoch 3/5\n",
      "357/357 [==============================] - 3s 8ms/step - loss: 0.4057 - accuracy: 0.8599 - val_loss: 1.2206 - val_accuracy: 0.5012\n",
      "Epoch 4/5\n",
      "357/357 [==============================] - 3s 9ms/step - loss: 0.2315 - accuracy: 0.9297 - val_loss: 1.5164 - val_accuracy: 0.4957\n",
      "Epoch 5/5\n",
      "357/357 [==============================] - 3s 8ms/step - loss: 0.1455 - accuracy: 0.9622 - val_loss: 1.7027 - val_accuracy: 0.5091\n",
      " \n",
      "Iter:  6\n",
      " \n",
      "Epoch 1/5\n",
      "357/357 [==============================] - 3s 8ms/step - loss: 0.9969 - accuracy: 0.5043 - val_loss: 0.9481 - val_accuracy: 0.5482\n",
      "Epoch 2/5\n",
      "357/357 [==============================] - 3s 7ms/step - loss: 0.6234 - accuracy: 0.7707 - val_loss: 1.0057 - val_accuracy: 0.5458\n",
      "Epoch 3/5\n",
      "357/357 [==============================] - 2s 7ms/step - loss: 0.3120 - accuracy: 0.9021 - val_loss: 1.2631 - val_accuracy: 0.5482\n",
      "Epoch 4/5\n",
      "357/357 [==============================] - 2s 7ms/step - loss: 0.1740 - accuracy: 0.9503 - val_loss: 1.5145 - val_accuracy: 0.5348\n",
      "Epoch 5/5\n",
      "357/357 [==============================] - 2s 7ms/step - loss: 0.1185 - accuracy: 0.9676 - val_loss: 1.7085 - val_accuracy: 0.5197\n",
      " \n",
      "Iter:  7\n",
      " \n",
      "Epoch 1/5\n",
      "357/357 [==============================] - 3s 7ms/step - loss: 1.0011 - accuracy: 0.4946 - val_loss: 0.9814 - val_accuracy: 0.5332\n",
      "Epoch 2/5\n",
      "357/357 [==============================] - 3s 7ms/step - loss: 0.6523 - accuracy: 0.7540 - val_loss: 0.9750 - val_accuracy: 0.5600\n",
      "Epoch 3/5\n",
      "357/357 [==============================] - 3s 7ms/step - loss: 0.3395 - accuracy: 0.8883 - val_loss: 1.1557 - val_accuracy: 0.5553\n",
      "Epoch 4/5\n",
      "357/357 [==============================] - 3s 7ms/step - loss: 0.1905 - accuracy: 0.9460 - val_loss: 1.4134 - val_accuracy: 0.5671\n",
      "Epoch 5/5\n",
      "357/357 [==============================] - 3s 7ms/step - loss: 0.1215 - accuracy: 0.9686 - val_loss: 1.6125 - val_accuracy: 0.5577\n",
      " \n",
      "Iter:  8\n",
      " \n",
      "Epoch 1/5\n",
      "357/357 [==============================] - 3s 8ms/step - loss: 1.0035 - accuracy: 0.4967 - val_loss: 0.9543 - val_accuracy: 0.5561\n",
      "Epoch 2/5\n",
      "357/357 [==============================] - 3s 7ms/step - loss: 0.6581 - accuracy: 0.7471 - val_loss: 0.9367 - val_accuracy: 0.5624\n",
      "Epoch 3/5\n",
      "357/357 [==============================] - 3s 7ms/step - loss: 0.3401 - accuracy: 0.8904 - val_loss: 1.1460 - val_accuracy: 0.5695\n",
      "Epoch 4/5\n",
      "357/357 [==============================] - 3s 7ms/step - loss: 0.1791 - accuracy: 0.9480 - val_loss: 1.3544 - val_accuracy: 0.5782\n",
      "Epoch 5/5\n",
      "357/357 [==============================] - 3s 7ms/step - loss: 0.1102 - accuracy: 0.9689 - val_loss: 1.6027 - val_accuracy: 0.5592\n",
      " \n",
      "Iter:  9\n",
      " \n",
      "Epoch 1/5\n",
      "357/357 [==============================] - 3s 8ms/step - loss: 1.0167 - accuracy: 0.4929 - val_loss: 0.9910 - val_accuracy: 0.5103\n",
      "Epoch 2/5\n",
      "357/357 [==============================] - 3s 7ms/step - loss: 0.6481 - accuracy: 0.7527 - val_loss: 0.9090 - val_accuracy: 0.5940\n",
      "Epoch 3/5\n",
      "357/357 [==============================] - 3s 7ms/step - loss: 0.3386 - accuracy: 0.8953 - val_loss: 1.0878 - val_accuracy: 0.5987\n",
      "Epoch 4/5\n",
      "357/357 [==============================] - 3s 7ms/step - loss: 0.1831 - accuracy: 0.9453 - val_loss: 1.3560 - val_accuracy: 0.5592\n",
      "Epoch 5/5\n",
      "357/357 [==============================] - 3s 7ms/step - loss: 0.1207 - accuracy: 0.9689 - val_loss: 1.5090 - val_accuracy: 0.5845\n",
      " \n",
      "Iter:  10\n",
      " \n",
      "Epoch 1/5\n",
      "357/357 [==============================] - 3s 8ms/step - loss: 0.9946 - accuracy: 0.5034 - val_loss: 0.9539 - val_accuracy: 0.5513\n",
      "Epoch 2/5\n",
      "357/357 [==============================] - 3s 7ms/step - loss: 0.6847 - accuracy: 0.7223 - val_loss: 0.9372 - val_accuracy: 0.5679\n",
      "Epoch 3/5\n",
      "357/357 [==============================] - 3s 7ms/step - loss: 0.3834 - accuracy: 0.8750 - val_loss: 1.1065 - val_accuracy: 0.5490\n",
      "Epoch 4/5\n",
      "357/357 [==============================] - 3s 7ms/step - loss: 0.2108 - accuracy: 0.9402 - val_loss: 1.3727 - val_accuracy: 0.5521\n",
      "Epoch 5/5\n",
      "357/357 [==============================] - 3s 7ms/step - loss: 0.1365 - accuracy: 0.9632 - val_loss: 1.6147 - val_accuracy: 0.5442\n",
      " \n"
     ]
    }
   ],
   "source": [
    "kf = KFold(n_splits=10)\n",
    "val_accuracy = []\n",
    "index = []\n",
    "cont = 0\n",
    "\n",
    "for train_index, test_index in kf.split(X_train_transform):\n",
    "    cont += 1\n",
    "    \n",
    "    model = tf.keras.Sequential([\n",
    "    tf.keras.layers.Dense(50, activation='relu'),\n",
    "    tf.keras.layers.Dropout(0.3),\n",
    "    \n",
    "    tf.keras.layers.Dense(25, activation='relu'),\n",
    "    tf.keras.layers.Dropout(0.3),\n",
    "    \n",
    "    tf.keras.layers.Dense(10, activation='tanh'),\n",
    "    tf.keras.layers.Dropout(0.3),\n",
    "    \n",
    "    tf.keras.layers.Dense(3 , activation='softmax')\n",
    "    \n",
    "    ])\n",
    "    \n",
    "    model.compile(\n",
    "        optimizer='adam',\n",
    "        loss=tf.keras.losses.categorical_crossentropy,\n",
    "        metrics=['accuracy']\n",
    "    )\n",
    "    \n",
    "    X_train, X_test = X_train_transform[train_index], X_train_transform[test_index]\n",
    "    y_train, y_test = polarity[train_index], polarity[test_index]\n",
    "    y_train_one = one.fit_transform(y_train.reshape(-1,1))\n",
    "    y_teste_one = one.fit_transform(y_test.reshape(-1,1))\n",
    "    \n",
    "    print(\"Iter: \",cont)\n",
    "    print(\" \")\n",
    "    \n",
    "    fit = model.fit(X_train.todense(), y_train_one, epochs=5, validation_data=(X_test.todense(), y_teste_one))\n",
    "    print(\" \")\n",
    "    val_accuracy.append(fit.history['val_accuracy'])\n",
    "    \n",
    "    index.append((train_index,test_index))\n"
   ]
  },
  {
   "cell_type": "code",
   "execution_count": 57,
   "metadata": {},
   "outputs": [
    {
     "name": "stdout",
     "output_type": "stream",
     "text": [
      " Fold: 0\t Ultimo valor acc: 0.5438042879104614\n",
      " Fold: 1\t Ultimo valor acc: 0.6061562895774841\n",
      " Fold: 2\t Ultimo valor acc: 0.6037884950637817\n",
      " Fold: 3\t Ultimo valor acc: 0.5501183867454529\n",
      " Fold: 4\t Ultimo valor acc: 0.5090765357017517\n",
      " Fold: 5\t Ultimo valor acc: 0.519747257232666\n",
      " Fold: 6\t Ultimo valor acc: 0.5576619505882263\n",
      " Fold: 7\t Ultimo valor acc: 0.5592417120933533\n",
      " Fold: 8\t Ultimo valor acc: 0.5845181941986084\n",
      " Fold: 9\t Ultimo valor acc: 0.5442337989807129\n",
      "\n",
      " Média: 0.5578346908092499 \t Std: 0.0307085265562616\n"
     ]
    }
   ],
   "source": [
    "def media_std(val_accuracy):\n",
    "    matrix_acc = np.array(val_accuracy)\n",
    "    lista = []\n",
    "    for i in range(len(matrix_acc)):\n",
    "        lista.append(matrix_acc[i][-1])\n",
    "        print(f' Fold: {i}\\t Ultimo valor acc: {lista[i]}')\n",
    "    print(\"\")\n",
    "    print(f' Média: {np.array(lista).mean()} \\t Std: {np.array(lista).std()}')\n",
    "        \n",
    "media_std(val_accuracy) #arquitetura de cima"
   ]
  },
  {
   "cell_type": "code",
   "execution_count": 58,
   "metadata": {
    "scrolled": false
   },
   "outputs": [
    {
     "data": {
      "image/png": "[encoded data removed]",
      "text/plain": [
       "<Figure size 864x432 with 1 Axes>"
      ]
     },
     "metadata": {
      "needs_background": "light"
     },
     "output_type": "display_data"
    }
   ],
   "source": [
    "plt.figure(figsize=(12,6))\n",
    "plt.plot(fit.history['loss'], label='Loss', color='darkred')\n",
    "plt.plot(fit.history['val_loss'], label='Val Loss', color='green')\n",
    "plt.legend()\n",
    "plt.grid()\n",
    "plt.ylabel('Loss')\n",
    "plt.show()"
   ]
  },
  {
   "cell_type": "code",
   "execution_count": 59,
   "metadata": {},
   "outputs": [
    {
     "data": {
      "image/png": "[encoded data removed]",
      "text/plain": [
       "<Figure size 864x432 with 1 Axes>"
      ]
     },
     "metadata": {
      "needs_background": "light"
     },
     "output_type": "display_data"
    }
   ],
   "source": [
    "plt.figure(figsize=(12,6))\n",
    "plt.plot(fit.history['accuracy'], label='accuracy', color='darkred')\n",
    "plt.plot(fit.history['val_accuracy'], label='Val accuracy', color='green')\n",
    "plt.legend()\n",
    "plt.grid()\n",
    "plt.ylabel('Accuracy')\n",
    "plt.show()"
   ]
  },
  {
   "cell_type": "code",
   "execution_count": 60,
   "metadata": {},
   "outputs": [
    {
     "data": {
      "text/plain": [
       "15000"
      ]
     },
     "execution_count": 60,
     "metadata": {},
     "output_type": "execute_result"
    }
   ],
   "source": [
    "vectorize_layer = TextVectorization(\n",
    " max_tokens=15000,\n",
    " output_mode='int',\n",
    " output_sequence_length=len(max(df_all['Tweet'])))\n",
    "\n",
    "vocab = set_array(df_all['Tweet'])\n",
    "\n",
    "vectorize_layer.adapt(np.unique(vocab))\n",
    "len(vectorize_layer.get_vocabulary())\n"
   ]
  },
  {
   "cell_type": "code",
   "execution_count": 61,
   "metadata": {},
   "outputs": [],
   "source": [
    "model = tf.keras.Sequential([\n",
    "    vectorize_layer,\n",
    "    tf.keras.layers.Embedding(\n",
    "        input_dim=len(vectorize_layer.get_vocabulary()),\n",
    "        output_dim=64,mask_zero=True),\n",
    "    \n",
    "    tf.keras.layers.LSTM(50, activation='relu' ,return_sequences=True),\n",
    "    tf.keras.layers.Dropout(0.2),\n",
    "    \n",
    "    tf.keras.layers.LSTM(20 , activation='relu', return_sequences=True),\n",
    "    tf.keras.layers.Dropout(0.2),\n",
    "    \n",
    "    tf.keras.layers.LSTM(20 , activation='relu', return_sequences=True),\n",
    "    tf.keras.layers.Dropout(0.2),\n",
    "    \n",
    "    tf.keras.layers.LSTM(10 , activation='tanh', return_sequences=True),\n",
    "    \n",
    "    tf.keras.layers.LSTM(10 , activation='tanh'),\n",
    "    \n",
    "    tf.keras.layers.Dense(3, activation='softmax')\n",
    "])\n",
    "\n",
    "\n",
    "model.compile(\n",
    "    optimizer= tf.keras.optimizers.Adam(),\n",
    "    loss=tf.keras.losses.categorical_crossentropy,\n",
    "    metrics=['accuracy']\n",
    ")"
   ]
  },
  {
   "cell_type": "code",
   "execution_count": 62,
   "metadata": {},
   "outputs": [],
   "source": [
    "X_train, X_test, Y_train, Y_test = train_test_split(Tweet_preprocessed, polarity, test_size=0.3)"
   ]
  },
  {
   "cell_type": "code",
   "execution_count": 63,
   "metadata": {},
   "outputs": [
    {
     "data": {
      "text/plain": [
       "(8865,)"
      ]
     },
     "execution_count": 63,
     "metadata": {},
     "output_type": "execute_result"
    }
   ],
   "source": [
    "X_train.shape"
   ]
  },
  {
   "cell_type": "code",
   "execution_count": 64,
   "metadata": {},
   "outputs": [],
   "source": [
    "y_one = one.fit_transform(Y_train.reshape(-1,1))\n",
    "y_one_ = one.fit_transform(Y_test.reshape(-1,1))"
   ]
  },
  {
   "cell_type": "code",
   "execution_count": 65,
   "metadata": {},
   "outputs": [
    {
     "name": "stdout",
     "output_type": "stream",
     "text": [
      "Epoch 1/5\n",
      "278/278 [==============================] - 47s 171ms/step - loss: 1.0670 - accuracy: 0.4500 - val_loss: 1.0100 - val_accuracy: 0.5121\n",
      "Epoch 2/5\n",
      "278/278 [==============================] - 52s 187ms/step - loss: 0.9404 - accuracy: 0.5625 - val_loss: 0.9920 - val_accuracy: 0.5232\n",
      "Epoch 3/5\n",
      "278/278 [==============================] - 52s 187ms/step - loss: 0.8084 - accuracy: 0.6567 - val_loss: 1.0228 - val_accuracy: 0.5326\n",
      "Epoch 4/5\n",
      "278/278 [==============================] - 52s 186ms/step - loss: 0.7072 - accuracy: 0.7191 - val_loss: 1.0589 - val_accuracy: 0.5421\n",
      "Epoch 5/5\n",
      "278/278 [==============================] - 52s 186ms/step - loss: 0.6170 - accuracy: 0.7676 - val_loss: 1.1469 - val_accuracy: 0.5239\n"
     ]
    }
   ],
   "source": [
    "fit = model.fit(X_train, y_one, epochs=5, validation_data=(X_test, y_one_))"
   ]
  },
  {
   "cell_type": "code",
   "execution_count": 70,
   "metadata": {},
   "outputs": [
    {
     "name": "stdout",
     "output_type": "stream",
     "text": [
      "              precision    recall  f1-score   support\n",
      "\n",
      "           0       0.61      0.47      0.53      1278\n",
      "           1       0.64      0.57      0.60      1413\n",
      "           2       0.38      0.52      0.44      1109\n",
      "\n",
      "    accuracy                           0.52      3800\n",
      "   macro avg       0.54      0.52      0.52      3800\n",
      "weighted avg       0.55      0.52      0.53      3800\n",
      "\n"
     ]
    }
   ],
   "source": [
    "predicted = model.predict(X_test)\n",
    "\n",
    "print(classification_report(np.argmax(y_one_, axis=1), np.argmax(predicted, axis=1)))"
   ]
  },
  {
   "cell_type": "code",
   "execution_count": 71,
   "metadata": {
    "scrolled": true
   },
   "outputs": [
    {
     "name": "stdout",
     "output_type": "stream",
     "text": [
      "Iter:  1\n",
      " \n",
      "Epoch 1/5\n",
      "90/90 [==============================] - 27s 302ms/step - loss: 1.0936 - accuracy: 0.3834 - val_loss: 1.0937 - val_accuracy: 0.4475\n",
      "Epoch 2/5\n",
      "90/90 [==============================] - 26s 284ms/step - loss: 1.0231 - accuracy: 0.5029 - val_loss: 1.0571 - val_accuracy: 0.5478\n",
      "Epoch 3/5\n",
      "90/90 [==============================] - 26s 286ms/step - loss: 0.9327 - accuracy: 0.5695 - val_loss: 1.0984 - val_accuracy: 0.5257\n",
      "Epoch 4/5\n",
      "90/90 [==============================] - 26s 288ms/step - loss: 0.8303 - accuracy: 0.6466 - val_loss: 1.1694 - val_accuracy: 0.4838\n",
      "Epoch 5/5\n",
      "90/90 [==============================] - 26s 288ms/step - loss: 0.7197 - accuracy: 0.7131 - val_loss: 1.2250 - val_accuracy: 0.4767\n",
      " \n",
      "Iter:  2\n",
      " \n",
      "Epoch 1/5\n",
      "90/90 [==============================] - 36s 397ms/step - loss: 1.0894 - accuracy: 0.3867 - val_loss: 1.0843 - val_accuracy: 0.5462\n",
      "Epoch 2/5\n",
      "90/90 [==============================] - 31s 346ms/step - loss: 0.9978 - accuracy: 0.5240 - val_loss: 1.0509 - val_accuracy: 0.5406\n",
      "Epoch 3/5\n",
      "90/90 [==============================] - 32s 352ms/step - loss: 0.8992 - accuracy: 0.5948 - val_loss: 1.1001 - val_accuracy: 0.5107\n",
      "Epoch 4/5\n",
      "90/90 [==============================] - 32s 352ms/step - loss: 0.7966 - accuracy: 0.6678 - val_loss: 1.1347 - val_accuracy: 0.4830\n",
      "Epoch 5/5\n",
      "90/90 [==============================] - 33s 369ms/step - loss: 0.7014 - accuracy: 0.7214 - val_loss: 1.1570 - val_accuracy: 0.5075\n",
      " \n",
      "Iter:  3\n",
      " \n",
      "Epoch 1/5\n",
      "90/90 [==============================] - 33s 363ms/step - loss: 1.0823 - accuracy: 0.4110 - val_loss: 1.1028 - val_accuracy: 0.4373\n",
      "Epoch 2/5\n",
      "90/90 [==============================] - 30s 334ms/step - loss: 0.9800 - accuracy: 0.5383 - val_loss: 1.0545 - val_accuracy: 0.4720\n",
      "Epoch 3/5\n",
      "90/90 [==============================] - 30s 336ms/step - loss: 0.8838 - accuracy: 0.5905 - val_loss: 1.0347 - val_accuracy: 0.4838\n",
      "Epoch 4/5\n",
      "90/90 [==============================] - 30s 335ms/step - loss: 0.7859 - accuracy: 0.6413 - val_loss: 1.0409 - val_accuracy: 0.5241\n",
      "Epoch 5/5\n",
      "90/90 [==============================] - 32s 352ms/step - loss: 0.6885 - accuracy: 0.7085 - val_loss: 1.1708 - val_accuracy: 0.5099\n",
      " \n",
      "Iter:  4\n",
      " \n",
      "Epoch 1/5\n",
      "90/90 [==============================] - 35s 389ms/step - loss: 1.0889 - accuracy: 0.3921 - val_loss: 1.0731 - val_accuracy: 0.5335\n",
      "Epoch 2/5\n",
      "90/90 [==============================] - 32s 360ms/step - loss: 1.0015 - accuracy: 0.5205 - val_loss: 0.9967 - val_accuracy: 0.5627\n",
      "Epoch 3/5\n",
      "90/90 [==============================] - 32s 355ms/step - loss: 0.9009 - accuracy: 0.5804 - val_loss: 1.0018 - val_accuracy: 0.5651\n",
      "Epoch 4/5\n",
      "90/90 [==============================] - 32s 353ms/step - loss: 0.8045 - accuracy: 0.6348 - val_loss: 0.9599 - val_accuracy: 0.6054\n",
      "Epoch 5/5\n",
      "90/90 [==============================] - 32s 355ms/step - loss: 0.7136 - accuracy: 0.6934 - val_loss: 0.9543 - val_accuracy: 0.6164\n",
      " \n",
      "Iter:  5\n",
      " \n",
      "Epoch 1/5\n",
      "90/90 [==============================] - 41s 451ms/step - loss: 1.0901 - accuracy: 0.3988 - val_loss: 1.1502 - val_accuracy: 0.1752\n",
      "Epoch 2/5\n",
      "90/90 [==============================] - 38s 422ms/step - loss: 1.0506 - accuracy: 0.4546 - val_loss: 1.1907 - val_accuracy: 0.3804\n",
      "Epoch 3/5\n",
      "90/90 [==============================] - 40s 444ms/step - loss: 0.9489 - accuracy: 0.5491 - val_loss: 1.1850 - val_accuracy: 0.4088\n",
      "Epoch 4/5\n",
      "90/90 [==============================] - 41s 452ms/step - loss: 0.8613 - accuracy: 0.6014 - val_loss: 1.3710 - val_accuracy: 0.3615\n",
      "Epoch 5/5\n",
      "90/90 [==============================] - 40s 447ms/step - loss: 0.7838 - accuracy: 0.6476 - val_loss: 1.3746 - val_accuracy: 0.3923\n",
      " \n",
      "Iter:  6\n",
      " \n",
      "Epoch 1/5\n",
      "90/90 [==============================] - 42s 466ms/step - loss: 1.0913 - accuracy: 0.4047 - val_loss: 1.0724 - val_accuracy: 0.4068\n",
      "Epoch 2/5\n",
      "90/90 [==============================] - 38s 424ms/step - loss: 1.0088 - accuracy: 0.5165 - val_loss: 1.0469 - val_accuracy: 0.4684\n",
      "Epoch 3/5\n",
      "90/90 [==============================] - 38s 425ms/step - loss: 0.8632 - accuracy: 0.6121 - val_loss: 1.0982 - val_accuracy: 0.4605\n",
      "Epoch 4/5\n",
      "90/90 [==============================] - 38s 424ms/step - loss: 0.7479 - accuracy: 0.6858 - val_loss: 1.2449 - val_accuracy: 0.4344\n",
      "Epoch 5/5\n",
      "90/90 [==============================] - 38s 425ms/step - loss: 0.6586 - accuracy: 0.7351 - val_loss: 1.1775 - val_accuracy: 0.4676\n",
      " \n",
      "Iter:  7\n",
      " \n",
      "Epoch 1/5\n",
      "90/90 [==============================] - 41s 454ms/step - loss: 1.0909 - accuracy: 0.4061 - val_loss: 1.0723 - val_accuracy: 0.4060\n",
      "Epoch 2/5\n",
      "90/90 [==============================] - 38s 425ms/step - loss: 1.0048 - accuracy: 0.5234 - val_loss: 1.0217 - val_accuracy: 0.4850\n",
      "Epoch 3/5\n",
      "90/90 [==============================] - 38s 427ms/step - loss: 0.9078 - accuracy: 0.5839 - val_loss: 1.0339 - val_accuracy: 0.4787\n",
      "Epoch 4/5\n",
      "90/90 [==============================] - 38s 425ms/step - loss: 0.8135 - accuracy: 0.6448 - val_loss: 1.0460 - val_accuracy: 0.4708\n",
      "Epoch 5/5\n",
      "90/90 [==============================] - 38s 426ms/step - loss: 0.7219 - accuracy: 0.7002 - val_loss: 1.0668 - val_accuracy: 0.4810\n",
      " \n",
      "Iter:  8\n",
      " \n",
      "Epoch 1/5\n",
      "90/90 [==============================] - 41s 453ms/step - loss: 1.0880 - accuracy: 0.4098 - val_loss: 1.0404 - val_accuracy: 0.4787\n",
      "Epoch 2/5\n",
      "90/90 [==============================] - 38s 422ms/step - loss: 0.9871 - accuracy: 0.5323 - val_loss: 1.0259 - val_accuracy: 0.4992\n",
      "Epoch 3/5\n",
      "90/90 [==============================] - 38s 424ms/step - loss: 0.8728 - accuracy: 0.6051 - val_loss: 1.0399 - val_accuracy: 0.5047\n",
      "Epoch 4/5\n",
      "90/90 [==============================] - 39s 428ms/step - loss: 0.7668 - accuracy: 0.6722 - val_loss: 1.1084 - val_accuracy: 0.4818\n",
      "Epoch 5/5\n",
      "90/90 [==============================] - 38s 426ms/step - loss: 0.6710 - accuracy: 0.7366 - val_loss: 1.1486 - val_accuracy: 0.4795\n",
      " \n",
      "Iter:  9\n",
      " \n",
      "Epoch 1/5\n",
      "90/90 [==============================] - 41s 456ms/step - loss: 1.0863 - accuracy: 0.4116 - val_loss: 1.2142 - val_accuracy: 0.3934\n",
      "Epoch 2/5\n",
      "90/90 [==============================] - 39s 428ms/step - loss: 0.9942 - accuracy: 0.5240 - val_loss: 1.2117 - val_accuracy: 0.4242\n",
      "Epoch 3/5\n",
      "90/90 [==============================] - 38s 427ms/step - loss: 0.8971 - accuracy: 0.5936 - val_loss: 1.1632 - val_accuracy: 0.4463\n",
      "Epoch 4/5\n",
      "90/90 [==============================] - 38s 428ms/step - loss: 0.8061 - accuracy: 0.6558 - val_loss: 1.3111 - val_accuracy: 0.3965\n",
      "Epoch 5/5\n",
      "90/90 [==============================] - 38s 427ms/step - loss: 0.7126 - accuracy: 0.7123 - val_loss: 1.2789 - val_accuracy: 0.4044\n",
      " \n",
      "Iter:  10\n",
      " \n",
      "Epoch 1/5\n",
      "90/90 [==============================] - 41s 454ms/step - loss: 1.0924 - accuracy: 0.3977 - val_loss: 1.0841 - val_accuracy: 0.4281\n",
      "Epoch 2/5\n",
      "90/90 [==============================] - 36s 403ms/step - loss: 1.0015 - accuracy: 0.5285 - val_loss: 1.0088 - val_accuracy: 0.5087\n",
      "Epoch 3/5\n",
      "90/90 [==============================] - 36s 399ms/step - loss: 0.8336 - accuracy: 0.6508 - val_loss: 1.0693 - val_accuracy: 0.5024\n",
      "Epoch 4/5\n",
      "90/90 [==============================] - 36s 400ms/step - loss: 0.7010 - accuracy: 0.7290 - val_loss: 1.1910 - val_accuracy: 0.4992\n",
      "Epoch 5/5\n",
      "90/90 [==============================] - 36s 400ms/step - loss: 0.6022 - accuracy: 0.7807 - val_loss: 1.2587 - val_accuracy: 0.5024\n",
      " \n"
     ]
    }
   ],
   "source": [
    "kf = KFold(n_splits=10)\n",
    "val_accuracy = []\n",
    "index = []\n",
    "cont = 0\n",
    "\n",
    "for train_index, test_index in kf.split(Tweet_preprocessed):\n",
    "    cont += 1\n",
    "    \n",
    "    model = tf.keras.Sequential([\n",
    "    vectorize_layer,\n",
    "    tf.keras.layers.Embedding(\n",
    "        input_dim=len(vectorize_layer.get_vocabulary()),\n",
    "        output_dim=64,mask_zero=True),\n",
    "    \n",
    "    tf.keras.layers.LSTM(50, activation='relu' ,return_sequences=True),\n",
    "    tf.keras.layers.Dropout(0.2),\n",
    "    \n",
    "    tf.keras.layers.LSTM(20 , activation='relu', return_sequences=True),\n",
    "    tf.keras.layers.Dropout(0.2),\n",
    "    \n",
    "    tf.keras.layers.LSTM(20 , activation='relu', return_sequences=True),\n",
    "    tf.keras.layers.Dropout(0.2),\n",
    "    \n",
    "    tf.keras.layers.LSTM(10 , activation='tanh', return_sequences=True),\n",
    "    \n",
    "    tf.keras.layers.LSTM(10 , activation='tanh', return_sequences=True),\n",
    "    \n",
    "    tf.keras.layers.LSTM(10 , activation='tanh'),\n",
    "    \n",
    "    tf.keras.layers.Dense(3, activation='softmax')\n",
    "    \n",
    "    ])\n",
    "\n",
    "\n",
    "    model.compile(\n",
    "        optimizer= tf.keras.optimizers.Adam(),\n",
    "        loss=tf.keras.losses.categorical_crossentropy,\n",
    "        metrics=['accuracy']\n",
    "    )\n",
    "    Tweet_preprocessed = np.asarray(pre_X(Tweet_preprocessed))\n",
    "    \n",
    "    X_train, X_test = Tweet_preprocessed[train_index], Tweet_preprocessed[test_index]\n",
    "    y_train, y_test = polarity[train_index], polarity[test_index]\n",
    "    y_train_one = one.fit_transform(y_train.reshape(-1,1))\n",
    "    y_teste_one = one.fit_transform(y_test.reshape(-1,1))\n",
    "    \n",
    "    print(\"Iter: \",cont)\n",
    "    print(\" \")\n",
    "    \n",
    "    fit = model.fit( X_train, y_train_one, epochs=5, batch_size=128 ,validation_data=(X_test, y_teste_one)) \n",
    "    print(\" \")\n",
    "    val_accuracy.append(fit.history['val_accuracy'])\n",
    "    \n",
    "    index.append((train_index,test_index))\n"
   ]
  },
  {
   "cell_type": "code",
   "execution_count": 72,
   "metadata": {},
   "outputs": [
    {
     "name": "stdout",
     "output_type": "stream",
     "text": [
      " Fold: 0\t Ultimo valor acc: 0.47671666741371155\n",
      " Fold: 1\t Ultimo valor acc: 0.507498025894165\n",
      " Fold: 2\t Ultimo valor acc: 0.5098658204078674\n",
      " Fold: 3\t Ultimo valor acc: 0.6164167523384094\n",
      " Fold: 4\t Ultimo valor acc: 0.3922652006149292\n",
      " Fold: 5\t Ultimo valor acc: 0.4676145315170288\n",
      " Fold: 6\t Ultimo valor acc: 0.48104265332221985\n",
      " Fold: 7\t Ultimo valor acc: 0.4794628620147705\n",
      " Fold: 8\t Ultimo valor acc: 0.40442338585853577\n",
      " Fold: 9\t Ultimo valor acc: 0.5023696422576904\n",
      "\n",
      " Média: 0.4837675541639328 \t Std: 0.058472960075604374\n"
     ]
    }
   ],
   "source": [
    "media_std(val_accuracy)"
   ]
  },
  {
   "cell_type": "code",
   "execution_count": 73,
   "metadata": {},
   "outputs": [
    {
     "data": {
      "image/png": "[encoded data removed]",
      "text/plain": [
       "<Figure size 864x432 with 1 Axes>"
      ]
     },
     "metadata": {
      "needs_background": "light"
     },
     "output_type": "display_data"
    }
   ],
   "source": [
    "plt.figure(figsize=(12,6))\n",
    "plt.plot(fit.history['loss'], label='Loss', color='darkred')\n",
    "plt.plot(fit.history['val_loss'], label='Val Loss', color='green')\n",
    "plt.legend()\n",
    "plt.grid()\n",
    "plt.ylabel('Loss')\n",
    "plt.show()"
   ]
  },
  {
   "cell_type": "code",
   "execution_count": 74,
   "metadata": {},
   "outputs": [
    {
     "data": {
      "image/png": "[encoded data removed]",
      "text/plain": [
       "<Figure size 864x432 with 1 Axes>"
      ]
     },
     "metadata": {
      "needs_background": "light"
     },
     "output_type": "display_data"
    }
   ],
   "source": [
    "plt.figure(figsize=(12,6))\n",
    "plt.plot(fit.history['accuracy'], label='accuracy', color='darkred')\n",
    "plt.plot(fit.history['val_accuracy'], label='Val accuracy', color='green')\n",
    "plt.legend()\n",
    "plt.grid()\n",
    "plt.ylabel('Accuracy')\n",
    "plt.show()"
   ]
  },
  {
   "cell_type": "markdown",
   "metadata": {},
   "source": [
    "## BDR"
   ]
  },
  {
   "cell_type": "code",
   "execution_count": 75,
   "metadata": {},
   "outputs": [],
   "source": [
    "model = tf.keras.Sequential([\n",
    "    vectorize_layer,\n",
    "    tf.keras.layers.Embedding(\n",
    "        input_dim=len(vectorize_layer.get_vocabulary()),\n",
    "        output_dim=64,\n",
    "        mask_zero=True),\n",
    "    \n",
    "    tf.keras.layers.Bidirectional(tf.keras.layers.LSTM(64)),\n",
    "    \n",
    "    tf.keras.layers.Dense(16, activation='relu'),\n",
    "    tf.keras.layers.Dense(3, activation='softmax')\n",
    "])\n",
    "\n",
    "model.compile(\n",
    "    optimizer= tf.keras.optimizers.Adam(),\n",
    "    loss=tf.keras.losses.categorical_crossentropy,\n",
    "    metrics=['accuracy']\n",
    ")\n",
    "\n",
    "X_train, X_test, Y_train, Y_test = train_test_split(Tweet_preprocessed, polarity, test_size=0.3)\n",
    "y_one = one.fit_transform(Y_train.reshape(-1,1))\n",
    "y_one_ = one.transform(Y_test.reshape(-1,1))"
   ]
  },
  {
   "cell_type": "code",
   "execution_count": 76,
   "metadata": {},
   "outputs": [
    {
     "name": "stdout",
     "output_type": "stream",
     "text": [
      "Epoch 1/10\n",
      "70/70 [==============================] - 44s 628ms/step - loss: 1.0433 - accuracy: 0.4554 - val_loss: 0.9585 - val_accuracy: 0.5397\n",
      "Epoch 2/10\n",
      "70/70 [==============================] - 43s 620ms/step - loss: 0.8225 - accuracy: 0.6487 - val_loss: 0.9098 - val_accuracy: 0.6000\n",
      "Epoch 3/10\n",
      "70/70 [==============================] - 44s 634ms/step - loss: 0.5493 - accuracy: 0.7901 - val_loss: 0.9940 - val_accuracy: 0.5953\n",
      "Epoch 4/10\n",
      "70/70 [==============================] - 44s 634ms/step - loss: 0.3524 - accuracy: 0.8766 - val_loss: 1.1754 - val_accuracy: 0.5789\n",
      "Epoch 5/10\n",
      "70/70 [==============================] - 44s 635ms/step - loss: 0.2571 - accuracy: 0.9090 - val_loss: 1.3351 - val_accuracy: 0.5758\n",
      "Epoch 6/10\n",
      "70/70 [==============================] - 44s 635ms/step - loss: 0.2030 - accuracy: 0.9258 - val_loss: 1.5086 - val_accuracy: 0.5721\n",
      "Epoch 7/10\n",
      "70/70 [==============================] - 44s 636ms/step - loss: 0.1778 - accuracy: 0.9369 - val_loss: 1.5602 - val_accuracy: 0.5687\n",
      "Epoch 8/10\n",
      "70/70 [==============================] - 45s 636ms/step - loss: 0.1521 - accuracy: 0.9468 - val_loss: 1.6329 - val_accuracy: 0.5705\n",
      "Epoch 9/10\n",
      "70/70 [==============================] - 44s 634ms/step - loss: 0.1406 - accuracy: 0.9506 - val_loss: 1.8025 - val_accuracy: 0.5566\n",
      "Epoch 10/10\n",
      "70/70 [==============================] - 44s 634ms/step - loss: 0.1283 - accuracy: 0.9530 - val_loss: 1.8409 - val_accuracy: 0.5634\n"
     ]
    }
   ],
   "source": [
    "fit = model.fit(np.asarray(pre_X(X_train)), y_one, epochs=10, batch_size=128 ,validation_data=(np.asarray(pre_X(X_test)), y_one_))"
   ]
  },
  {
   "cell_type": "code",
   "execution_count": 77,
   "metadata": {},
   "outputs": [
    {
     "name": "stdout",
     "output_type": "stream",
     "text": [
      "              precision    recall  f1-score   support\n",
      "\n",
      "           0       0.57      0.63      0.60      1274\n",
      "           1       0.62      0.59      0.61      1446\n",
      "           2       0.47      0.44      0.46      1080\n",
      "\n",
      "    accuracy                           0.56      3800\n",
      "   macro avg       0.55      0.56      0.55      3800\n",
      "weighted avg       0.56      0.56      0.56      3800\n",
      "\n"
     ]
    }
   ],
   "source": [
    "predicted = model.predict(X_test)\n",
    "\n",
    "print(classification_report(np.argmax(y_one_, axis=1), np.argmax(predicted, axis=1)))"
   ]
  },
  {
   "cell_type": "code",
   "execution_count": 78,
   "metadata": {},
   "outputs": [
    {
     "name": "stdout",
     "output_type": "stream",
     "text": [
      "Iter:  1\n",
      " \n",
      "Epoch 1/5\n",
      "90/90 [==============================] - 53s 584ms/step - loss: 1.0314 - accuracy: 0.4779 - val_loss: 0.9949 - val_accuracy: 0.5422\n",
      "Epoch 2/5\n",
      "90/90 [==============================] - 50s 558ms/step - loss: 0.7988 - accuracy: 0.6515 - val_loss: 1.0149 - val_accuracy: 0.5201\n",
      "Epoch 3/5\n",
      "90/90 [==============================] - 52s 580ms/step - loss: 0.5472 - accuracy: 0.7925 - val_loss: 1.2356 - val_accuracy: 0.4317\n",
      "Epoch 4/5\n",
      "90/90 [==============================] - 51s 570ms/step - loss: 0.3785 - accuracy: 0.8604 - val_loss: 1.4580 - val_accuracy: 0.4396\n",
      "Epoch 5/5\n",
      "90/90 [==============================] - 52s 582ms/step - loss: 0.2842 - accuracy: 0.8954 - val_loss: 1.5712 - val_accuracy: 0.4625\n",
      " \n",
      "Iter:  2\n",
      " \n",
      "Epoch 1/5\n",
      "90/90 [==============================] - 55s 616ms/step - loss: 1.0238 - accuracy: 0.4866 - val_loss: 0.9986 - val_accuracy: 0.5580\n",
      "Epoch 2/5\n",
      "90/90 [==============================] - 60s 668ms/step - loss: 0.7771 - accuracy: 0.6723 - val_loss: 0.9665 - val_accuracy: 0.6022\n",
      "Epoch 3/5\n",
      "90/90 [==============================] - 63s 702ms/step - loss: 0.5242 - accuracy: 0.7993 - val_loss: 1.0448 - val_accuracy: 0.6148\n",
      "Epoch 4/5\n",
      "90/90 [==============================] - 63s 702ms/step - loss: 0.3698 - accuracy: 0.8637 - val_loss: 1.2301 - val_accuracy: 0.5872\n",
      "Epoch 5/5\n",
      "90/90 [==============================] - 55s 615ms/step - loss: 0.2895 - accuracy: 0.8918 - val_loss: 1.4214 - val_accuracy: 0.5777\n",
      " \n",
      "Iter:  3\n",
      " \n",
      "Epoch 1/5\n",
      "90/90 [==============================] - 57s 629ms/step - loss: 1.0313 - accuracy: 0.4727 - val_loss: 1.0505 - val_accuracy: 0.4688\n",
      "Epoch 2/5\n",
      "90/90 [==============================] - 50s 558ms/step - loss: 0.7916 - accuracy: 0.6605 - val_loss: 1.0179 - val_accuracy: 0.5328\n",
      "Epoch 3/5\n",
      "90/90 [==============================] - 49s 549ms/step - loss: 0.5362 - accuracy: 0.7943 - val_loss: 1.1767 - val_accuracy: 0.5154\n",
      "Epoch 4/5\n",
      "90/90 [==============================] - 47s 525ms/step - loss: 0.3805 - accuracy: 0.8612 - val_loss: 1.2719 - val_accuracy: 0.5620\n",
      "Epoch 5/5\n",
      "90/90 [==============================] - 49s 550ms/step - loss: 0.3137 - accuracy: 0.8842 - val_loss: 1.5617 - val_accuracy: 0.5020\n",
      " \n",
      "Iter:  4\n",
      " \n",
      "Epoch 1/5\n",
      "90/90 [==============================] - 58s 643ms/step - loss: 1.0284 - accuracy: 0.4890 - val_loss: 0.9212 - val_accuracy: 0.5864\n",
      "Epoch 2/5\n",
      "90/90 [==============================] - 58s 650ms/step - loss: 0.8111 - accuracy: 0.6385 - val_loss: 0.8763 - val_accuracy: 0.6251\n",
      "Epoch 3/5\n",
      "90/90 [==============================] - 54s 601ms/step - loss: 0.5556 - accuracy: 0.7802 - val_loss: 0.9420 - val_accuracy: 0.5872\n",
      "Epoch 4/5\n",
      "90/90 [==============================] - 66s 731ms/step - loss: 0.3730 - accuracy: 0.8595 - val_loss: 1.1349 - val_accuracy: 0.5312\n",
      "Epoch 5/5\n",
      "90/90 [==============================] - 61s 676ms/step - loss: 0.2808 - accuracy: 0.8946 - val_loss: 1.2673 - val_accuracy: 0.5746\n",
      " \n",
      "Iter:  5\n",
      " \n",
      "Epoch 1/5\n",
      "90/90 [==============================] - 60s 669ms/step - loss: 1.0245 - accuracy: 0.4713 - val_loss: 1.0722 - val_accuracy: 0.3970\n",
      "Epoch 2/5\n",
      "90/90 [==============================] - 52s 578ms/step - loss: 0.7832 - accuracy: 0.6580 - val_loss: 1.0969 - val_accuracy: 0.4712\n",
      "Epoch 3/5\n",
      "90/90 [==============================] - 52s 574ms/step - loss: 0.5167 - accuracy: 0.7984 - val_loss: 1.2511 - val_accuracy: 0.4680\n",
      "Epoch 4/5\n",
      "90/90 [==============================] - 58s 642ms/step - loss: 0.3582 - accuracy: 0.8681 - val_loss: 1.3556 - val_accuracy: 0.4878\n",
      "Epoch 5/5\n",
      "90/90 [==============================] - 54s 605ms/step - loss: 0.2644 - accuracy: 0.9032 - val_loss: 1.7052 - val_accuracy: 0.4483\n",
      " \n",
      "Iter:  6\n",
      " \n",
      "Epoch 1/5\n",
      "90/90 [==============================] - 63s 700ms/step - loss: 1.0366 - accuracy: 0.4627 - val_loss: 1.0046 - val_accuracy: 0.4850\n",
      "Epoch 2/5\n",
      "90/90 [==============================] - 67s 745ms/step - loss: 0.7791 - accuracy: 0.6669 - val_loss: 0.9995 - val_accuracy: 0.5427\n",
      "Epoch 3/5\n",
      "90/90 [==============================] - 68s 757ms/step - loss: 0.5101 - accuracy: 0.8045 - val_loss: 1.0885 - val_accuracy: 0.5466\n",
      "Epoch 4/5\n",
      "90/90 [==============================] - 69s 763ms/step - loss: 0.3429 - accuracy: 0.8724 - val_loss: 1.2839 - val_accuracy: 0.5166\n",
      "Epoch 5/5\n",
      "90/90 [==============================] - 65s 724ms/step - loss: 0.2586 - accuracy: 0.9049 - val_loss: 1.4804 - val_accuracy: 0.5221\n",
      " \n",
      "Iter:  7\n",
      " \n",
      "Epoch 1/5\n",
      "90/90 [==============================] - 80s 887ms/step - loss: 1.0239 - accuracy: 0.4835 - val_loss: 0.9854 - val_accuracy: 0.5134\n",
      "Epoch 2/5\n",
      "90/90 [==============================] - 84s 929ms/step - loss: 0.7940 - accuracy: 0.6493 - val_loss: 0.9848 - val_accuracy: 0.5434\n",
      "Epoch 3/5\n",
      "90/90 [==============================] - 82s 916ms/step - loss: 0.5367 - accuracy: 0.7927 - val_loss: 1.1292 - val_accuracy: 0.5474\n",
      "Epoch 4/5\n",
      "90/90 [==============================] - 84s 928ms/step - loss: 0.3698 - accuracy: 0.8622 - val_loss: 1.3143 - val_accuracy: 0.5213\n",
      "Epoch 5/5\n",
      "90/90 [==============================] - 79s 883ms/step - loss: 0.2701 - accuracy: 0.9013 - val_loss: 1.4728 - val_accuracy: 0.5237\n",
      " \n",
      "Iter:  8\n",
      " \n",
      "Epoch 1/5\n",
      "90/90 [==============================] - 84s 931ms/step - loss: 1.0221 - accuracy: 0.4825 - val_loss: 1.0095 - val_accuracy: 0.4984\n",
      "Epoch 2/5\n",
      "90/90 [==============================] - 79s 879ms/step - loss: 0.7967 - accuracy: 0.6523 - val_loss: 0.9784 - val_accuracy: 0.5292\n",
      "Epoch 3/5\n",
      "90/90 [==============================] - 82s 914ms/step - loss: 0.5334 - accuracy: 0.7926 - val_loss: 1.0352 - val_accuracy: 0.5498\n",
      "Epoch 4/5\n",
      "90/90 [==============================] - 81s 905ms/step - loss: 0.3562 - accuracy: 0.8694 - val_loss: 1.3197 - val_accuracy: 0.5292\n",
      "Epoch 5/5\n",
      "90/90 [==============================] - 80s 887ms/step - loss: 0.2630 - accuracy: 0.9010 - val_loss: 1.5006 - val_accuracy: 0.5308\n",
      " \n",
      "Iter:  9\n",
      " \n",
      "Epoch 1/5\n",
      "90/90 [==============================] - 90s 999ms/step - loss: 1.0433 - accuracy: 0.4740 - val_loss: 1.0846 - val_accuracy: 0.4605\n",
      "Epoch 2/5\n",
      "90/90 [==============================] - 85s 940ms/step - loss: 0.7786 - accuracy: 0.6730 - val_loss: 0.9558 - val_accuracy: 0.5427\n",
      "Epoch 3/5\n",
      "90/90 [==============================] - 84s 929ms/step - loss: 0.5193 - accuracy: 0.8008 - val_loss: 1.1253 - val_accuracy: 0.5300\n",
      "Epoch 4/5\n",
      "90/90 [==============================] - 83s 920ms/step - loss: 0.3733 - accuracy: 0.8615 - val_loss: 1.2576 - val_accuracy: 0.5221\n",
      "Epoch 5/5\n",
      "90/90 [==============================] - 84s 935ms/step - loss: 0.2750 - accuracy: 0.9010 - val_loss: 1.3911 - val_accuracy: 0.5182\n",
      " \n",
      "Iter:  10\n",
      " \n",
      "Epoch 1/5\n",
      "90/90 [==============================] - 85s 947ms/step - loss: 1.0193 - accuracy: 0.4808 - val_loss: 1.0232 - val_accuracy: 0.4858\n",
      "Epoch 2/5\n",
      "90/90 [==============================] - 82s 906ms/step - loss: 0.7580 - accuracy: 0.6794 - val_loss: 1.0459 - val_accuracy: 0.4992\n",
      "Epoch 3/5\n",
      "90/90 [==============================] - 82s 910ms/step - loss: 0.4997 - accuracy: 0.8099 - val_loss: 1.2511 - val_accuracy: 0.4637\n",
      "Epoch 4/5\n",
      "90/90 [==============================] - 81s 897ms/step - loss: 0.3446 - accuracy: 0.8738 - val_loss: 1.5144 - val_accuracy: 0.4384\n",
      "Epoch 5/5\n",
      "90/90 [==============================] - 81s 898ms/step - loss: 0.2600 - accuracy: 0.9022 - val_loss: 1.6912 - val_accuracy: 0.4589\n",
      " \n"
     ]
    }
   ],
   "source": [
    "kf = KFold(n_splits=10)\n",
    "val_accuracy = []\n",
    "index = []\n",
    "cont = 0\n",
    "\n",
    "for train_index, test_index in kf.split(Tweet_preprocessed):\n",
    "    cont += 1\n",
    "    \n",
    "    model = tf.keras.Sequential([\n",
    "    vectorize_layer,\n",
    "    tf.keras.layers.Embedding(\n",
    "        input_dim=len(vectorize_layer.get_vocabulary()),\n",
    "        output_dim=64,\n",
    "        mask_zero=True),\n",
    "    \n",
    "    tf.keras.layers.Bidirectional(tf.keras.layers.LSTM(64)),\n",
    "    \n",
    "    tf.keras.layers.Dense(16, activation='relu'),\n",
    "    tf.keras.layers.Dense(3, activation='softmax')\n",
    "    \n",
    "    ])\n",
    "\n",
    "    model.compile(\n",
    "        optimizer= tf.keras.optimizers.Adam(),\n",
    "        loss=tf.keras.losses.categorical_crossentropy,\n",
    "        metrics=['accuracy']\n",
    "    )\n",
    "    \n",
    "    Tweet_preprocessed = np.asarray(pre_X(Tweet_preprocessed))\n",
    "    \n",
    "    X_train, X_test = Tweet_preprocessed[train_index], Tweet_preprocessed[test_index]\n",
    "    y_train, y_test = polarity[train_index], polarity[test_index]\n",
    "    y_train_one = one.fit_transform(y_train.reshape(-1,1))\n",
    "    y_teste_one = one.fit_transform(y_test.reshape(-1,1))\n",
    "    \n",
    "    print(\"Iter: \",cont)\n",
    "    print(\" \")\n",
    "    \n",
    "    fit = model.fit( X_train, y_train_one, epochs=5, batch_size=128 ,validation_data=(X_test, y_teste_one)) \n",
    "    print(\" \")\n",
    "    val_accuracy.append(fit.history['val_accuracy'])\n",
    "    \n",
    "    index.append((train_index,test_index))\n"
   ]
  },
  {
   "cell_type": "code",
   "execution_count": 79,
   "metadata": {},
   "outputs": [
    {
     "name": "stdout",
     "output_type": "stream",
     "text": [
      " Fold: 0\t Ultimo valor acc: 0.4625098705291748\n",
      " Fold: 1\t Ultimo valor acc: 0.5777426958084106\n",
      " Fold: 2\t Ultimo valor acc: 0.5019731521606445\n",
      " Fold: 3\t Ultimo valor acc: 0.5745856165885925\n",
      " Fold: 4\t Ultimo valor acc: 0.44830307364463806\n",
      " Fold: 5\t Ultimo valor acc: 0.5221168994903564\n",
      " Fold: 6\t Ultimo valor acc: 0.5236966609954834\n",
      " Fold: 7\t Ultimo valor acc: 0.5308057069778442\n",
      " Fold: 8\t Ultimo valor acc: 0.5181674361228943\n",
      " Fold: 9\t Ultimo valor acc: 0.4589257538318634\n",
      "\n",
      " Média: 0.5118826866149903 \t Std: 0.04277120979666725\n"
     ]
    }
   ],
   "source": [
    "media_std(val_accuracy)"
   ]
  },
  {
   "cell_type": "code",
   "execution_count": 80,
   "metadata": {},
   "outputs": [
    {
     "data": {
      "image/png": "[encoded data removed]",
      "text/plain": [
       "<Figure size 864x432 with 1 Axes>"
      ]
     },
     "metadata": {
      "needs_background": "light"
     },
     "output_type": "display_data"
    }
   ],
   "source": [
    "plt.figure(figsize=(12,6))\n",
    "plt.plot(fit.history['loss'], label='Loss', color='darkred')\n",
    "plt.plot(fit.history['val_loss'], label='Val Loss', color='green')\n",
    "plt.legend()\n",
    "plt.grid()\n",
    "plt.ylabel('Loss')\n",
    "plt.show()"
   ]
  },
  {
   "cell_type": "code",
   "execution_count": 81,
   "metadata": {},
   "outputs": [
    {
     "data": {
      "image/png": "[encoded data removed]",
      "text/plain": [
       "<Figure size 864x432 with 1 Axes>"
      ]
     },
     "metadata": {
      "needs_background": "light"
     },
     "output_type": "display_data"
    }
   ],
   "source": [
    "plt.figure(figsize=(12,6))\n",
    "plt.plot(fit.history['accuracy'], label='accuracy', color='darkred')\n",
    "plt.plot(fit.history['val_accuracy'], label='Val accuracy', color='green')\n",
    "plt.legend()\n",
    "plt.grid()\n",
    "plt.ylabel('Accuracy')\n",
    "plt.show()"
   ]
  },
  {
   "cell_type": "markdown",
   "metadata": {},
   "source": [
    "## Conv 1D"
   ]
  },
  {
   "cell_type": "code",
   "execution_count": 82,
   "metadata": {},
   "outputs": [],
   "source": [
    "model = tf.keras.Sequential([\n",
    "    vectorize_layer,\n",
    "    tf.keras.layers.Embedding(\n",
    "        input_dim=len(vectorize_layer.get_vocabulary()),\n",
    "        output_dim=64,\n",
    "        mask_zero=True),\n",
    "    \n",
    "    tf.keras.layers.Conv1D(24,6, activation='relu'),\n",
    "    tf.keras.layers.MaxPooling1D(2),\n",
    "    tf.keras.layers.Flatten(),\n",
    "    \n",
    "    tf.keras.layers.Dense(20, activation='relu'),\n",
    "    tf.keras.layers.Dense(3, activation='softmax')   \n",
    "])\n",
    "\n",
    "model.compile(\n",
    "    optimizer= tf.keras.optimizers.Adam(),\n",
    "    loss=tf.keras.losses.categorical_crossentropy,\n",
    "    metrics=['accuracy']\n",
    ")\n",
    "\n",
    "X_train, X_test, Y_train, Y_test = train_test_split(Tweet_preprocessed, polarity, test_size=0.3)\n",
    "y_one = one.fit_transform(Y_train.reshape(-1,1))\n",
    "y_one_ = one.transform(Y_test.reshape(-1,1))"
   ]
  },
  {
   "cell_type": "code",
   "execution_count": 83,
   "metadata": {},
   "outputs": [
    {
     "name": "stdout",
     "output_type": "stream",
     "text": [
      "Epoch 1/15\n",
      "35/35 [==============================] - 2s 65ms/step - loss: 1.0894 - accuracy: 0.3955 - val_loss: 1.0776 - val_accuracy: 0.3853\n",
      "Epoch 2/15\n",
      "35/35 [==============================] - 2s 64ms/step - loss: 1.0480 - accuracy: 0.4678 - val_loss: 1.0067 - val_accuracy: 0.5100\n",
      "Epoch 3/15\n",
      "35/35 [==============================] - 2s 66ms/step - loss: 0.9131 - accuracy: 0.5702 - val_loss: 0.9487 - val_accuracy: 0.5405\n",
      "Epoch 4/15\n",
      "35/35 [==============================] - 2s 66ms/step - loss: 0.7410 - accuracy: 0.6776 - val_loss: 0.9628 - val_accuracy: 0.5484\n",
      "Epoch 5/15\n",
      "35/35 [==============================] - 2s 63ms/step - loss: 0.5812 - accuracy: 0.7768 - val_loss: 1.0342 - val_accuracy: 0.5434\n",
      "Epoch 6/15\n",
      "35/35 [==============================] - 2s 61ms/step - loss: 0.4347 - accuracy: 0.8501 - val_loss: 1.1190 - val_accuracy: 0.5503\n",
      "Epoch 7/15\n",
      "35/35 [==============================] - 2s 62ms/step - loss: 0.3271 - accuracy: 0.8882 - val_loss: 1.2483 - val_accuracy: 0.5437\n",
      "Epoch 8/15\n",
      "35/35 [==============================] - 2s 59ms/step - loss: 0.2545 - accuracy: 0.9137 - val_loss: 1.3521 - val_accuracy: 0.5524\n",
      "Epoch 9/15\n",
      "35/35 [==============================] - 2s 59ms/step - loss: 0.2020 - accuracy: 0.9325 - val_loss: 1.4503 - val_accuracy: 0.5387\n",
      "Epoch 10/15\n",
      "35/35 [==============================] - 2s 59ms/step - loss: 0.1652 - accuracy: 0.9462 - val_loss: 1.5028 - val_accuracy: 0.5487\n",
      "Epoch 11/15\n",
      "35/35 [==============================] - 2s 59ms/step - loss: 0.1345 - accuracy: 0.9560 - val_loss: 1.6069 - val_accuracy: 0.5487\n",
      "Epoch 12/15\n",
      "35/35 [==============================] - 2s 59ms/step - loss: 0.1165 - accuracy: 0.9615 - val_loss: 1.6598 - val_accuracy: 0.5511\n",
      "Epoch 13/15\n",
      "35/35 [==============================] - 2s 60ms/step - loss: 0.1008 - accuracy: 0.9646 - val_loss: 1.7805 - val_accuracy: 0.5461\n",
      "Epoch 14/15\n",
      "35/35 [==============================] - 2s 60ms/step - loss: 0.0902 - accuracy: 0.9682 - val_loss: 1.8267 - val_accuracy: 0.5418\n",
      "Epoch 15/15\n",
      "35/35 [==============================] - 2s 59ms/step - loss: 0.0815 - accuracy: 0.9718 - val_loss: 1.8706 - val_accuracy: 0.5468\n"
     ]
    }
   ],
   "source": [
    "fit = model.fit(np.asarray(pre_X(X_train)), y_one, epochs=15, batch_size=256 ,validation_data=(np.asarray(pre_X(X_test)), y_one_))"
   ]
  },
  {
   "cell_type": "code",
   "execution_count": 84,
   "metadata": {},
   "outputs": [
    {
     "name": "stdout",
     "output_type": "stream",
     "text": [
      "              precision    recall  f1-score   support\n",
      "\n",
      "           0       0.60      0.54      0.57      1262\n",
      "           1       0.59      0.61      0.60      1440\n",
      "           2       0.44      0.47      0.46      1098\n",
      "\n",
      "    accuracy                           0.55      3800\n",
      "   macro avg       0.54      0.54      0.54      3800\n",
      "weighted avg       0.55      0.55      0.55      3800\n",
      "\n"
     ]
    }
   ],
   "source": [
    "predicted = model.predict(X_test)\n",
    "\n",
    "print(classification_report(np.argmax(y_one_, axis=1), np.argmax(predicted, axis=1)))"
   ]
  },
  {
   "cell_type": "code",
   "execution_count": 85,
   "metadata": {},
   "outputs": [
    {
     "name": "stdout",
     "output_type": "stream",
     "text": [
      "Iter:  1\n",
      " \n",
      "Epoch 1/5\n",
      "90/90 [==============================] - 4s 39ms/step - loss: 1.0704 - accuracy: 0.4278 - val_loss: 0.9794 - val_accuracy: 0.5635\n",
      "Epoch 2/5\n",
      "90/90 [==============================] - 3s 36ms/step - loss: 0.9052 - accuracy: 0.5808 - val_loss: 1.0190 - val_accuracy: 0.5099\n",
      "Epoch 3/5\n",
      "90/90 [==============================] - 3s 36ms/step - loss: 0.6498 - accuracy: 0.7448 - val_loss: 1.1159 - val_accuracy: 0.4941\n",
      "Epoch 4/5\n",
      "90/90 [==============================] - 3s 37ms/step - loss: 0.4094 - accuracy: 0.8494 - val_loss: 1.3871 - val_accuracy: 0.4878\n",
      "Epoch 5/5\n",
      "90/90 [==============================] - 3s 36ms/step - loss: 0.2701 - accuracy: 0.9022 - val_loss: 1.4284 - val_accuracy: 0.5209\n",
      " \n",
      "Iter:  2\n",
      " \n",
      "Epoch 1/5\n",
      "90/90 [==============================] - 3s 36ms/step - loss: 1.0560 - accuracy: 0.4401 - val_loss: 1.0525 - val_accuracy: 0.5335\n",
      "Epoch 2/5\n",
      "90/90 [==============================] - 3s 35ms/step - loss: 0.8838 - accuracy: 0.5824 - val_loss: 0.9714 - val_accuracy: 0.5888\n",
      "Epoch 3/5\n",
      "90/90 [==============================] - 3s 34ms/step - loss: 0.6750 - accuracy: 0.7123 - val_loss: 1.0717 - val_accuracy: 0.5320\n",
      "Epoch 4/5\n",
      "90/90 [==============================] - 3s 34ms/step - loss: 0.4833 - accuracy: 0.8165 - val_loss: 1.2090 - val_accuracy: 0.5667\n",
      "Epoch 5/5\n",
      "90/90 [==============================] - 3s 36ms/step - loss: 0.3121 - accuracy: 0.8913 - val_loss: 1.3458 - val_accuracy: 0.5951\n",
      " \n",
      "Iter:  3\n",
      " \n",
      "Epoch 1/5\n",
      "90/90 [==============================] - 4s 41ms/step - loss: 1.0691 - accuracy: 0.4196 - val_loss: 1.0230 - val_accuracy: 0.4759\n",
      "Epoch 2/5\n",
      "90/90 [==============================] - 3s 35ms/step - loss: 0.9129 - accuracy: 0.5662 - val_loss: 0.9754 - val_accuracy: 0.5320\n",
      "Epoch 3/5\n",
      "90/90 [==============================] - 3s 34ms/step - loss: 0.7323 - accuracy: 0.6713 - val_loss: 0.9991 - val_accuracy: 0.5146\n",
      "Epoch 4/5\n",
      "90/90 [==============================] - 3s 35ms/step - loss: 0.5672 - accuracy: 0.7700 - val_loss: 1.1280 - val_accuracy: 0.5028\n",
      "Epoch 5/5\n",
      "90/90 [==============================] - 3s 38ms/step - loss: 0.4275 - accuracy: 0.8449 - val_loss: 1.2753 - val_accuracy: 0.5107\n",
      " \n",
      "Iter:  4\n",
      " \n",
      "Epoch 1/5\n",
      "90/90 [==============================] - 4s 39ms/step - loss: 1.0695 - accuracy: 0.4318 - val_loss: 0.9498 - val_accuracy: 0.5572\n",
      "Epoch 2/5\n",
      "90/90 [==============================] - 3s 36ms/step - loss: 0.9087 - accuracy: 0.5726 - val_loss: 0.8759 - val_accuracy: 0.5935\n",
      "Epoch 3/5\n",
      "90/90 [==============================] - 3s 36ms/step - loss: 0.6906 - accuracy: 0.7133 - val_loss: 0.8476 - val_accuracy: 0.6259\n",
      "Epoch 4/5\n",
      "90/90 [==============================] - 3s 36ms/step - loss: 0.4718 - accuracy: 0.8237 - val_loss: 0.9610 - val_accuracy: 0.6006\n",
      "Epoch 5/5\n",
      "90/90 [==============================] - 3s 34ms/step - loss: 0.3135 - accuracy: 0.8887 - val_loss: 1.0529 - val_accuracy: 0.6093\n",
      " \n",
      "Iter:  5\n",
      " \n",
      "Epoch 1/5\n",
      "90/90 [==============================] - 3s 37ms/step - loss: 1.0753 - accuracy: 0.4161 - val_loss: 1.1533 - val_accuracy: 0.2912\n",
      "Epoch 2/5\n",
      "90/90 [==============================] - 3s 37ms/step - loss: 0.9325 - accuracy: 0.5547 - val_loss: 1.1020 - val_accuracy: 0.3599\n",
      "Epoch 3/5\n",
      "90/90 [==============================] - 3s 36ms/step - loss: 0.7422 - accuracy: 0.6322 - val_loss: 1.0952 - val_accuracy: 0.4009\n",
      "Epoch 4/5\n",
      "90/90 [==============================] - 3s 35ms/step - loss: 0.5833 - accuracy: 0.7324 - val_loss: 1.2132 - val_accuracy: 0.4301\n",
      "Epoch 5/5\n",
      "90/90 [==============================] - 3s 34ms/step - loss: 0.4404 - accuracy: 0.8301 - val_loss: 1.4354 - val_accuracy: 0.4333\n",
      " \n",
      "Iter:  6\n",
      " \n",
      "Epoch 1/5\n",
      "90/90 [==============================] - 3s 39ms/step - loss: 1.0702 - accuracy: 0.4182 - val_loss: 1.1016 - val_accuracy: 0.4139\n",
      "Epoch 2/5\n",
      "90/90 [==============================] - 3s 35ms/step - loss: 0.9510 - accuracy: 0.5488 - val_loss: 1.0026 - val_accuracy: 0.5087\n",
      "Epoch 3/5\n",
      "90/90 [==============================] - 3s 35ms/step - loss: 0.7843 - accuracy: 0.6273 - val_loss: 0.9979 - val_accuracy: 0.5118\n",
      "Epoch 4/5\n",
      "90/90 [==============================] - 3s 36ms/step - loss: 0.6240 - accuracy: 0.7345 - val_loss: 1.1253 - val_accuracy: 0.4621\n",
      "Epoch 5/5\n",
      "90/90 [==============================] - 3s 35ms/step - loss: 0.5009 - accuracy: 0.8042 - val_loss: 1.1525 - val_accuracy: 0.4961\n",
      " \n",
      "Iter:  7\n",
      " \n",
      "Epoch 1/5\n",
      "90/90 [==============================] - 3s 37ms/step - loss: 1.0680 - accuracy: 0.4312 - val_loss: 1.0867 - val_accuracy: 0.4550\n",
      "Epoch 2/5\n",
      "90/90 [==============================] - 4s 40ms/step - loss: 0.9357 - accuracy: 0.5502 - val_loss: 1.0000 - val_accuracy: 0.5118\n",
      "Epoch 3/5\n",
      "90/90 [==============================] - 3s 35ms/step - loss: 0.7579 - accuracy: 0.6294 - val_loss: 1.0538 - val_accuracy: 0.5158\n",
      "Epoch 4/5\n",
      "90/90 [==============================] - 3s 34ms/step - loss: 0.5950 - accuracy: 0.7529 - val_loss: 1.1209 - val_accuracy: 0.5205\n",
      "Epoch 5/5\n",
      "90/90 [==============================] - 3s 34ms/step - loss: 0.4520 - accuracy: 0.8298 - val_loss: 1.2580 - val_accuracy: 0.5182\n",
      " \n",
      "Iter:  8\n",
      " \n",
      "Epoch 1/5\n",
      "90/90 [==============================] - 3s 33ms/step - loss: 1.0802 - accuracy: 0.3977 - val_loss: 1.0997 - val_accuracy: 0.3373\n",
      "Epoch 2/5\n",
      "90/90 [==============================] - 3s 31ms/step - loss: 0.9590 - accuracy: 0.5281 - val_loss: 1.0057 - val_accuracy: 0.5055\n",
      "Epoch 3/5\n",
      "90/90 [==============================] - 3s 33ms/step - loss: 0.7599 - accuracy: 0.6548 - val_loss: 1.0390 - val_accuracy: 0.5229\n",
      "Epoch 4/5\n",
      "90/90 [==============================] - 3s 32ms/step - loss: 0.6053 - accuracy: 0.7429 - val_loss: 1.0934 - val_accuracy: 0.5008\n",
      "Epoch 5/5\n",
      "90/90 [==============================] - 3s 33ms/step - loss: 0.4639 - accuracy: 0.8232 - val_loss: 1.2281 - val_accuracy: 0.5095\n",
      " \n",
      "Iter:  9\n",
      " \n",
      "Epoch 1/5\n",
      "90/90 [==============================] - 3s 37ms/step - loss: 1.0553 - accuracy: 0.4435 - val_loss: 1.0324 - val_accuracy: 0.5276\n",
      "Epoch 2/5\n",
      "90/90 [==============================] - 3s 36ms/step - loss: 0.8809 - accuracy: 0.5865 - val_loss: 1.0133 - val_accuracy: 0.5087\n",
      "Epoch 3/5\n",
      "90/90 [==============================] - 3s 35ms/step - loss: 0.6857 - accuracy: 0.7046 - val_loss: 1.0958 - val_accuracy: 0.4897\n",
      "Epoch 4/5\n",
      "90/90 [==============================] - 3s 36ms/step - loss: 0.5079 - accuracy: 0.8092 - val_loss: 1.2627 - val_accuracy: 0.4803\n",
      "Epoch 5/5\n",
      "90/90 [==============================] - 3s 38ms/step - loss: 0.3596 - accuracy: 0.8709 - val_loss: 1.4153 - val_accuracy: 0.4652\n",
      " \n",
      "Iter:  10\n",
      " \n",
      "Epoch 1/5\n",
      "90/90 [==============================] - 3s 38ms/step - loss: 1.0625 - accuracy: 0.4329 - val_loss: 1.0412 - val_accuracy: 0.4897\n",
      "Epoch 2/5\n",
      "90/90 [==============================] - 3s 36ms/step - loss: 0.8791 - accuracy: 0.5936 - val_loss: 1.0201 - val_accuracy: 0.5024\n",
      "Epoch 3/5\n",
      "90/90 [==============================] - 4s 39ms/step - loss: 0.6309 - accuracy: 0.7509 - val_loss: 1.0918 - val_accuracy: 0.4834\n",
      "Epoch 4/5\n",
      "90/90 [==============================] - ETA: 0s - loss: 0.3999 - accuracy: 0.85 - 4s 41ms/step - loss: 0.3999 - accuracy: 0.8533 - val_loss: 1.3086 - val_accuracy: 0.4747\n",
      "Epoch 5/5\n",
      "90/90 [==============================] - 4s 44ms/step - loss: 0.2658 - accuracy: 0.9042 - val_loss: 1.5061 - val_accuracy: 0.4724\n",
      " \n"
     ]
    }
   ],
   "source": [
    "kf = KFold(n_splits=10)\n",
    "val_accuracy = []\n",
    "index = []\n",
    "cont = 0\n",
    "\n",
    "for train_index, test_index in kf.split(Tweet_preprocessed):\n",
    "    cont += 1\n",
    "    \n",
    "    model = tf.keras.Sequential([\n",
    "    vectorize_layer,\n",
    "    tf.keras.layers.Embedding(\n",
    "        input_dim=len(vectorize_layer.get_vocabulary()),\n",
    "        output_dim=64,\n",
    "        mask_zero=True),\n",
    "    \n",
    "    tf.keras.layers.Conv1D(24,6, activation='relu'),\n",
    "    tf.keras.layers.MaxPooling1D(2),\n",
    "    tf.keras.layers.Flatten(),\n",
    "    \n",
    "    tf.keras.layers.Dense(20, activation='relu'),\n",
    "    tf.keras.layers.Dense(3, activation='softmax')   \n",
    "    \n",
    "    ])\n",
    "\n",
    "    model.compile(\n",
    "        optimizer= tf.keras.optimizers.Adam(),\n",
    "        loss=tf.keras.losses.categorical_crossentropy,\n",
    "        metrics=['accuracy']\n",
    "    )\n",
    "    \n",
    "    Tweet_preprocessed = np.asarray(pre_X(Tweet_preprocessed))\n",
    "    \n",
    "    X_train, X_test = Tweet_preprocessed[train_index], Tweet_preprocessed[test_index]\n",
    "    y_train, y_test = polarity[train_index], polarity[test_index]\n",
    "    y_train_one = one.fit_transform(y_train.reshape(-1,1))\n",
    "    y_teste_one = one.fit_transform(y_test.reshape(-1,1))\n",
    "    \n",
    "    print(\"Iter: \",cont)\n",
    "    print(\" \")\n",
    "    \n",
    "    fit = model.fit( X_train, y_train_one, epochs=5, batch_size=128 ,validation_data=(X_test, y_teste_one)) \n",
    "    print(\" \")\n",
    "    val_accuracy.append(fit.history['val_accuracy'])\n",
    "    \n",
    "    index.append((train_index,test_index))\n"
   ]
  },
  {
   "cell_type": "code",
   "execution_count": 86,
   "metadata": {},
   "outputs": [
    {
     "name": "stdout",
     "output_type": "stream",
     "text": [
      " Fold: 0\t Ultimo valor acc: 0.5209155678749084\n",
      " Fold: 1\t Ultimo valor acc: 0.5951065421104431\n",
      " Fold: 2\t Ultimo valor acc: 0.5106551051139832\n",
      " Fold: 3\t Ultimo valor acc: 0.6093133091926575\n",
      " Fold: 4\t Ultimo valor acc: 0.433307021856308\n",
      " Fold: 5\t Ultimo valor acc: 0.49605056643486023\n",
      " Fold: 6\t Ultimo valor acc: 0.5181674361228943\n",
      " Fold: 7\t Ultimo valor acc: 0.5094786882400513\n",
      " Fold: 8\t Ultimo valor acc: 0.465244859457016\n",
      " Fold: 9\t Ultimo valor acc: 0.47235387563705444\n",
      "\n",
      " Média: 0.5130592972040177 \t Std: 0.05166805041840878\n"
     ]
    }
   ],
   "source": [
    "media_std(val_accuracy)"
   ]
  },
  {
   "cell_type": "code",
   "execution_count": 87,
   "metadata": {},
   "outputs": [
    {
     "data": {
      "image/png": "[encoded data removed]",
      "text/plain": [
       "<Figure size 864x432 with 1 Axes>"
      ]
     },
     "metadata": {
      "needs_background": "light"
     },
     "output_type": "display_data"
    }
   ],
   "source": [
    "plt.figure(figsize=(12,6))\n",
    "plt.plot(fit.history['loss'], label='Loss', color='darkred')\n",
    "plt.plot(fit.history['val_loss'], label='Val Loss', color='green')\n",
    "plt.legend()\n",
    "plt.grid()\n",
    "plt.ylabel('Loss')\n",
    "plt.show()"
   ]
  },
  {
   "cell_type": "code",
   "execution_count": 88,
   "metadata": {},
   "outputs": [
    {
     "data": {
      "image/png": "[encoded data removed]",
      "text/plain": [
       "<Figure size 864x432 with 1 Axes>"
      ]
     },
     "metadata": {
      "needs_background": "light"
     },
     "output_type": "display_data"
    }
   ],
   "source": [
    "plt.figure(figsize=(12,6))\n",
    "plt.plot(fit.history['accuracy'], label='accuracy', color='darkred')\n",
    "plt.plot(fit.history['val_accuracy'], label='Val accuracy', color='green')\n",
    "plt.legend()\n",
    "plt.grid()\n",
    "plt.ylabel('Accuracy')\n",
    "plt.show()"
   ]
  },
  {
   "cell_type": "markdown",
   "metadata": {},
   "source": [
    "## AutoKeras"
   ]
  },
  {
   "cell_type": "code",
   "execution_count": 63,
   "metadata": {},
   "outputs": [
    {
     "name": "stdout",
     "output_type": "stream",
     "text": [
      "INFO:tensorflow:Reloading Oracle from existing project .\\text_classifier\\oracle.json\n",
      "INFO:tensorflow:Reloading Tuner from .\\text_classifier\\tuner0.json\n",
      "Iter:  1\n",
      " \n",
      "INFO:tensorflow:Oracle triggered exit\n",
      "Epoch 1/5\n",
      "357/357 [==============================] - 56s 158ms/step - loss: 0.6022 - accuracy: 0.4936 - val_loss: 0.5733 - val_accuracy: 0.6440\n",
      "Epoch 2/5\n",
      "357/357 [==============================] - 58s 162ms/step - loss: 0.5144 - accuracy: 0.6151 - val_loss: 0.5251 - val_accuracy: 0.6109\n",
      "Epoch 3/5\n",
      "357/357 [==============================] - 59s 165ms/step - loss: 0.3968 - accuracy: 0.7347 - val_loss: 0.5824 - val_accuracy: 0.5722\n",
      "Epoch 4/5\n",
      "357/357 [==============================] - 57s 160ms/step - loss: 0.3109 - accuracy: 0.8081 - val_loss: 0.6632 - val_accuracy: 0.5667\n",
      "Epoch 5/5\n",
      "357/357 [==============================] - 59s 166ms/step - loss: 0.2403 - accuracy: 0.8579 - val_loss: 0.7955 - val_accuracy: 0.5509\n",
      "WARNING:tensorflow:From c:\\users\\ddayv\\appdata\\local\\programs\\python\\python37\\lib\\site-packages\\tensorflow\\python\\training\\tracking\\tracking.py:111: Model.state_updates (from tensorflow.python.keras.engine.training) is deprecated and will be removed in a future version.\n",
      "Instructions for updating:\n",
      "This property should not be used in TensorFlow 2.0, as updates are applied automatically.\n",
      "WARNING:tensorflow:From c:\\users\\ddayv\\appdata\\local\\programs\\python\\python37\\lib\\site-packages\\tensorflow\\python\\training\\tracking\\tracking.py:111: Layer.updates (from tensorflow.python.keras.engine.base_layer) is deprecated and will be removed in a future version.\n",
      "Instructions for updating:\n",
      "This property should not be used in TensorFlow 2.0, as updates are applied automatically.\n",
      "INFO:tensorflow:Assets written to: .\\text_classifier\\best_model\\assets\n",
      " \n"
     ]
    },
    {
     "ename": "AttributeError",
     "evalue": "'NoneType' object has no attribute 'history'",
     "output_type": "error",
     "traceback": [
      "\u001b[1;31m---------------------------------------------------------------------------\u001b[0m",
      "\u001b[1;31mAttributeError\u001b[0m                            Traceback (most recent call last)",
      "\u001b[1;32m<ipython-input-63-0c78ff343462>\u001b[0m in \u001b[0;36m<module>\u001b[1;34m\u001b[0m\n\u001b[0;32m     58\u001b[0m \u001b[1;33m\u001b[0m\u001b[0m\n\u001b[0;32m     59\u001b[0m     \u001b[0mprint\u001b[0m\u001b[1;33m(\u001b[0m\u001b[1;34m\" \"\u001b[0m\u001b[1;33m)\u001b[0m\u001b[1;33m\u001b[0m\u001b[1;33m\u001b[0m\u001b[0m\n\u001b[1;32m---> 60\u001b[1;33m     \u001b[0mval_accuracy\u001b[0m\u001b[1;33m.\u001b[0m\u001b[0mappend\u001b[0m\u001b[1;33m(\u001b[0m\u001b[0mfit\u001b[0m\u001b[1;33m.\u001b[0m\u001b[0mhistory\u001b[0m\u001b[1;33m[\u001b[0m\u001b[1;34m'val_accuracy'\u001b[0m\u001b[1;33m]\u001b[0m\u001b[1;33m)\u001b[0m\u001b[1;33m\u001b[0m\u001b[1;33m\u001b[0m\u001b[0m\n\u001b[0m\u001b[0;32m     61\u001b[0m \u001b[1;33m\u001b[0m\u001b[0m\n\u001b[0;32m     62\u001b[0m     \u001b[0mindex\u001b[0m\u001b[1;33m.\u001b[0m\u001b[0mappend\u001b[0m\u001b[1;33m(\u001b[0m\u001b[1;33m(\u001b[0m\u001b[0mtrain_index\u001b[0m\u001b[1;33m,\u001b[0m\u001b[0mtest_index\u001b[0m\u001b[1;33m)\u001b[0m\u001b[1;33m)\u001b[0m\u001b[1;33m\u001b[0m\u001b[1;33m\u001b[0m\u001b[0m\n",
      "\u001b[1;31mAttributeError\u001b[0m: 'NoneType' object has no attribute 'history'"
     ]
    }
   ],
   "source": [
    "TextClassifier = ak.TextClassifier(\n",
    "    num_classes=3, \n",
    "    multi_label=True, \n",
    "    loss=tf.keras.losses.categorical_crossentropy, \n",
    "    metrics=['accuracy'],\n",
    "    project_name=\"text_classifier\",\n",
    "    max_trials=1,\n",
    "    objective=\"val_loss\"\n",
    ")\n",
    "\n",
    "# fit = TextClassifier.fit(\n",
    "#     x=np.asarray(pre_X(X_train)), y=one.fit_transform(Y_train.reshape(-1,1)), epochs=10, validation_split=0.2, validation_data=(np.asarray(pre_X(X_test)),one.fit_transform(Y_test.reshape(-1,1)) )\n",
    "# )\n",
    "\n",
    "kf = KFold(n_splits=10)\n",
    "val_accuracy = []\n",
    "index = []\n",
    "cont = 0\n",
    "\n",
    "for train_index, test_index in kf.split(Tweet_preprocessed):\n",
    "    cont += 1\n",
    "    \n",
    "    model = tf.keras.Sequential([\n",
    "    vectorize_layer,\n",
    "    tf.keras.layers.Embedding(\n",
    "        input_dim=len(vectorize_layer.get_vocabulary()),\n",
    "        output_dim=64,\n",
    "        mask_zero=True),\n",
    "    \n",
    "    tf.keras.layers.Conv1D(24,6, activation='relu'),\n",
    "    tf.keras.layers.MaxPooling1D(2),\n",
    "    tf.keras.layers.Flatten(),\n",
    "    \n",
    "    tf.keras.layers.Dense(20, activation='relu'),\n",
    "    tf.keras.layers.Dense(3, activation='softmax')   \n",
    "    \n",
    "    ])\n",
    "\n",
    "    model.compile(\n",
    "        optimizer= tf.keras.optimizers.Adam(),\n",
    "        loss=tf.keras.losses.categorical_crossentropy,\n",
    "        metrics=['accuracy']\n",
    "    )\n",
    "    \n",
    "    Tweet_preprocessed = np.asarray(pre_X(Tweet_preprocessed))\n",
    "    \n",
    "    X_train, X_test = Tweet_preprocessed[train_index], Tweet_preprocessed[test_index]\n",
    "    y_train, y_test = polarity[train_index], polarity[test_index]\n",
    "    y_train_one = one.fit_transform(y_train.reshape(-1,1))\n",
    "    y_teste_one = one.fit_transform(y_test.reshape(-1,1))\n",
    "    \n",
    "    print(\"Iter: \",cont)\n",
    "    print(\" \")\n",
    "    \n",
    "    fit = TextClassifier.fit(\n",
    "    x= X_train, y=y_train_one, epochs=5, validation_split=0.2, validation_data=(X_test, y_teste_one )\n",
    "    )\n",
    "    \n",
    "    print(\" \")\n",
    "    val_accuracy.append(fit.history['val_accuracy'])\n",
    "    \n",
    "    index.append((train_index,test_index))"
   ]
  },
  {
   "cell_type": "code",
   "execution_count": null,
   "metadata": {},
   "outputs": [],
   "source": [
    "media_std(val_accuracy)"
   ]
  }
 ],
 "metadata": {
  "kernelspec": {
   "display_name": "Python 3",
   "language": "python",
   "name": "python3"
  },
  "language_info": {
   "codemirror_mode": {
    "name": "ipython",
    "version": 3
   },
   "file_extension": ".py",
   "mimetype": "text/x-python",
   "name": "python",
   "nbconvert_exporter": "python",
   "pygments_lexer": "ipython3",
   "version": "3.7.9"
  }
 },
 "nbformat": 4,
 "nbformat_minor": 2
}
