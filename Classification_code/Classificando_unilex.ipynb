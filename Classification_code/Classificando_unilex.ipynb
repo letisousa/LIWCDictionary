{
 "cells": [
  {
   "cell_type": "code",
   "execution_count": 1,
   "metadata": {},
   "outputs": [
    {
     "name": "stderr",
     "output_type": "stream",
     "text": [
      "[nltk_data] Downloading package stopwords to\n",
      "[nltk_data]     C:\\Users\\ddayv\\AppData\\Roaming\\nltk_data...\n",
      "[nltk_data]   Package stopwords is already up-to-date!\n",
      "[nltk_data] Downloading package wordnet to\n",
      "[nltk_data]     C:\\Users\\ddayv\\AppData\\Roaming\\nltk_data...\n",
      "[nltk_data]   Package wordnet is already up-to-date!\n"
     ]
    },
    {
     "data": {
      "text/plain": [
       "True"
      ]
     },
     "execution_count": 1,
     "metadata": {},
     "output_type": "execute_result"
    }
   ],
   "source": [
    "import pandas as pd\n",
    "import numpy as np\n",
    "from sklearn.feature_extraction.text import CountVectorizer\n",
    "from sklearn.feature_extraction.text import TfidfTransformer\n",
    "from sklearn.naive_bayes import MultinomialNB\n",
    "from sklearn.model_selection import train_test_split\n",
    "from sklearn import metrics\n",
    "import seaborn as sns\n",
    "import re\n",
    "\n",
    "import tensorflow as tf\n",
    "from tensorflow.keras.layers.experimental.preprocessing import TextVectorization\n",
    "from nltk import word_tokenize, RegexpTokenizer\n",
    "from nltk.corpus import stopwords, wordnet\n",
    "from sklearn.preprocessing import OneHotEncoder\n",
    "import matplotlib.pyplot as plt\n",
    "\n",
    "import nltk\n",
    "nltk.download('stopwords')\n",
    "nltk.download('wordnet')"
   ]
  },
  {
   "cell_type": "code",
   "execution_count": 2,
   "metadata": {},
   "outputs": [
    {
     "data": {
      "text/plain": [
       "(12670, 2)"
      ]
     },
     "execution_count": 2,
     "metadata": {},
     "output_type": "execute_result"
    }
   ],
   "source": [
    "df = pd.read_excel('./rotulação/TweetsPolitical01 OK OK.xlsx')\n",
    "df2 = pd.read_excel('./rotulação/TweetsPolitical02 OK OK.xlsx')\n",
    "df3 = pd.read_excel('./rotulação/TweetsPolitical03 OK OK.xlsx')\n",
    "df4 = pd.read_excel('./rotulação/TweetsPolitical04 OK OK.xlsx')\n",
    "df5 = pd.read_excel('./rotulação/TweetsPolitical05 OK OK.xlsx')\n",
    "df6 = pd.read_excel('./rotulação/TweetsPolitical06 OK OK.xlsx')\n",
    "df7 = pd.read_excel('./rotulação/TweetsPolitical07 OK OK.xlsx')\n",
    "df8 = pd.read_excel('./rotulação/TweetsPolitical08 OK OK.xlsx')\n",
    "df9 = pd.read_excel('./rotulação/TweetsPolitical09 OK OK.xlsx')\n",
    "df10 = pd.read_excel('./rotulação/TweetsPolitical10 OK OK.xlsx')\n",
    "df11 = pd.read_excel('./rotulação/TweetsPolitical11 OK OK.xlsx')\n",
    "df12 = pd.read_excel('./rotulação/TweetsPolitical12 OK OK.xlsx')\n",
    "df13 = pd.read_excel('./rotulação/TweetsPolitical13 OK OK.xlsx')\n",
    "df14 = pd.read_excel('./rotulação/TweetsPolitical14 OK OK.xlsx')\n",
    "df15 = pd.read_excel('./rotulação/TweetsPolitical15 OK OK.xlsx')\n",
    "\n",
    "lista = [df,df2,df3,df4,df5,df6,df7,df8,df9,df10,df11,df12,df13,df14,df15]\n",
    "\n",
    "df_all = pd.concat(lista)\n",
    "df_all.shape"
   ]
  },
  {
   "cell_type": "code",
   "execution_count": 3,
   "metadata": {},
   "outputs": [
    {
     "data": {
      "text/html": [
       "<div>\n",
       "<style scoped>\n",
       "    .dataframe tbody tr th:only-of-type {\n",
       "        vertical-align: middle;\n",
       "    }\n",
       "\n",
       "    .dataframe tbody tr th {\n",
       "        vertical-align: top;\n",
       "    }\n",
       "\n",
       "    .dataframe thead th {\n",
       "        text-align: right;\n",
       "    }\n",
       "</style>\n",
       "<table border=\"1\" class=\"dataframe\">\n",
       "  <thead>\n",
       "    <tr style=\"text-align: right;\">\n",
       "      <th></th>\n",
       "      <th>Tweet</th>\n",
       "      <th>Polaridade</th>\n",
       "    </tr>\n",
       "  </thead>\n",
       "  <tbody>\n",
       "    <tr>\n",
       "      <th>0</th>\n",
       "      <td>- #CaoNossoDeCadaDia #Novo - Vanessa Mandotti ...</td>\n",
       "      <td>0.0</td>\n",
       "    </tr>\n",
       "    <tr>\n",
       "      <th>1</th>\n",
       "      <td>- Bola pra frente que amanhã é outro dia, outr...</td>\n",
       "      <td>1.0</td>\n",
       "    </tr>\n",
       "    <tr>\n",
       "      <th>2</th>\n",
       "      <td>- Cara de mal? Acho que não... Apenas um corte...</td>\n",
       "      <td>1.0</td>\n",
       "    </tr>\n",
       "    <tr>\n",
       "      <th>3</th>\n",
       "      <td>\" #PCdoB O PARTIDO QUE FAZ A DIFERENÇA: LEAL E...</td>\n",
       "      <td>1.0</td>\n",
       "    </tr>\n",
       "    <tr>\n",
       "      <th>4</th>\n",
       "      <td>\"@camaradamae: #PCdoB o Partido da coragem !  ...</td>\n",
       "      <td>1.0</td>\n",
       "    </tr>\n",
       "  </tbody>\n",
       "</table>\n",
       "</div>"
      ],
      "text/plain": [
       "                                               Tweet  Polaridade\n",
       "0  - #CaoNossoDeCadaDia #Novo - Vanessa Mandotti ...         0.0\n",
       "1  - Bola pra frente que amanhã é outro dia, outr...         1.0\n",
       "2  - Cara de mal? Acho que não... Apenas um corte...         1.0\n",
       "3  \" #PCdoB O PARTIDO QUE FAZ A DIFERENÇA: LEAL E...         1.0\n",
       "4  \"@camaradamae: #PCdoB o Partido da coragem !  ...         1.0"
      ]
     },
     "execution_count": 3,
     "metadata": {},
     "output_type": "execute_result"
    }
   ],
   "source": [
    "df_all.head()"
   ]
  },
  {
   "cell_type": "code",
   "execution_count": 4,
   "metadata": {},
   "outputs": [
    {
     "data": {
      "text/plain": [
       "Tweet         2\n",
       "Polaridade    2\n",
       "dtype: int64"
      ]
     },
     "execution_count": 4,
     "metadata": {},
     "output_type": "execute_result"
    }
   ],
   "source": [
    "df_all.isnull().sum()"
   ]
  },
  {
   "cell_type": "code",
   "execution_count": 5,
   "metadata": {},
   "outputs": [
    {
     "data": {
      "image/png": "[encoded data removed]",
      "text/plain": [
       "<Figure size 432x288 with 1 Axes>"
      ]
     },
     "metadata": {
      "needs_background": "light"
     },
     "output_type": "display_data"
    }
   ],
   "source": [
    "df_all = df_all.dropna()\n",
    "\n",
    "sns.countplot(data=df_all, x='Polaridade')\n",
    "plt.grid()"
   ]
  },
  {
   "cell_type": "code",
   "execution_count": 6,
   "metadata": {},
   "outputs": [
    {
     "data": {
      "text/html": [
       "<div>\n",
       "<style scoped>\n",
       "    .dataframe tbody tr th:only-of-type {\n",
       "        vertical-align: middle;\n",
       "    }\n",
       "\n",
       "    .dataframe tbody tr th {\n",
       "        vertical-align: top;\n",
       "    }\n",
       "\n",
       "    .dataframe thead th {\n",
       "        text-align: right;\n",
       "    }\n",
       "</style>\n",
       "<table border=\"1\" class=\"dataframe\">\n",
       "  <thead>\n",
       "    <tr style=\"text-align: right;\">\n",
       "      <th></th>\n",
       "      <th>index</th>\n",
       "      <th>Tweet</th>\n",
       "      <th>Polaridade</th>\n",
       "    </tr>\n",
       "  </thead>\n",
       "  <tbody>\n",
       "    <tr>\n",
       "      <th>0</th>\n",
       "      <td>0</td>\n",
       "      <td>- #CaoNossoDeCadaDia #Novo - Vanessa Mandotti ...</td>\n",
       "      <td>0.0</td>\n",
       "    </tr>\n",
       "    <tr>\n",
       "      <th>1</th>\n",
       "      <td>1</td>\n",
       "      <td>- Bola pra frente que amanhã é outro dia, outr...</td>\n",
       "      <td>1.0</td>\n",
       "    </tr>\n",
       "    <tr>\n",
       "      <th>2</th>\n",
       "      <td>2</td>\n",
       "      <td>- Cara de mal? Acho que não... Apenas um corte...</td>\n",
       "      <td>1.0</td>\n",
       "    </tr>\n",
       "    <tr>\n",
       "      <th>3</th>\n",
       "      <td>3</td>\n",
       "      <td>\" #PCdoB O PARTIDO QUE FAZ A DIFERENÇA: LEAL E...</td>\n",
       "      <td>1.0</td>\n",
       "    </tr>\n",
       "    <tr>\n",
       "      <th>4</th>\n",
       "      <td>4</td>\n",
       "      <td>\"@camaradamae: #PCdoB o Partido da coragem !  ...</td>\n",
       "      <td>1.0</td>\n",
       "    </tr>\n",
       "    <tr>\n",
       "      <th>...</th>\n",
       "      <td>...</td>\n",
       "      <td>...</td>\n",
       "      <td>...</td>\n",
       "    </tr>\n",
       "    <tr>\n",
       "      <th>12663</th>\n",
       "      <td>78</td>\n",
       "      <td>Bom diaa  #SD Moisés Sou Boina Preta e Não Tem...</td>\n",
       "      <td>1.0</td>\n",
       "    </tr>\n",
       "    <tr>\n",
       "      <th>12664</th>\n",
       "      <td>79</td>\n",
       "      <td>Sei que leve por divisa esse \"V\" que simboliza...</td>\n",
       "      <td>1.0</td>\n",
       "    </tr>\n",
       "    <tr>\n",
       "      <th>12665</th>\n",
       "      <td>80</td>\n",
       "      <td>L'ambiance d'hier au stade c'est grace ao Maca...</td>\n",
       "      <td>1.0</td>\n",
       "    </tr>\n",
       "    <tr>\n",
       "      <th>12666</th>\n",
       "      <td>81</td>\n",
       "      <td>Mais tarde tem mais SD no Chopp E Cia...hoje é...</td>\n",
       "      <td>1.0</td>\n",
       "    </tr>\n",
       "    <tr>\n",
       "      <th>12667</th>\n",
       "      <td>82</td>\n",
       "      <td>Obrigado por tudo Mister Luis Castro,boa sorte...</td>\n",
       "      <td>1.0</td>\n",
       "    </tr>\n",
       "  </tbody>\n",
       "</table>\n",
       "<p>12668 rows × 3 columns</p>\n",
       "</div>"
      ],
      "text/plain": [
       "       index                                              Tweet  Polaridade\n",
       "0          0  - #CaoNossoDeCadaDia #Novo - Vanessa Mandotti ...         0.0\n",
       "1          1  - Bola pra frente que amanhã é outro dia, outr...         1.0\n",
       "2          2  - Cara de mal? Acho que não... Apenas um corte...         1.0\n",
       "3          3  \" #PCdoB O PARTIDO QUE FAZ A DIFERENÇA: LEAL E...         1.0\n",
       "4          4  \"@camaradamae: #PCdoB o Partido da coragem !  ...         1.0\n",
       "...      ...                                                ...         ...\n",
       "12663     78  Bom diaa  #SD Moisés Sou Boina Preta e Não Tem...         1.0\n",
       "12664     79  Sei que leve por divisa esse \"V\" que simboliza...         1.0\n",
       "12665     80  L'ambiance d'hier au stade c'est grace ao Maca...         1.0\n",
       "12666     81  Mais tarde tem mais SD no Chopp E Cia...hoje é...         1.0\n",
       "12667     82  Obrigado por tudo Mister Luis Castro,boa sorte...         1.0\n",
       "\n",
       "[12668 rows x 3 columns]"
      ]
     },
     "execution_count": 6,
     "metadata": {},
     "output_type": "execute_result"
    }
   ],
   "source": [
    "df_all = df_all.reset_index()\n",
    "df_all"
   ]
  },
  {
   "cell_type": "code",
   "execution_count": 7,
   "metadata": {},
   "outputs": [
    {
     "data": {
      "text/plain": [
       "array([ 0.,  1., -1.])"
      ]
     },
     "execution_count": 7,
     "metadata": {},
     "output_type": "execute_result"
    }
   ],
   "source": [
    "df_all = df_all.drop(columns=['index'])\n",
    "df_all.drop(df_all[df_all['Polaridade'] == 11].index, inplace=True)\n",
    "df_all.drop(df_all[df_all['Polaridade'] == -2].index, inplace=True)\n",
    "df_all.drop(df_all[df_all['Polaridade'] == 10].index, inplace=True)\n",
    "\n",
    "df_all['Polaridade'].unique()"
   ]
  },
  {
   "cell_type": "code",
   "execution_count": 8,
   "metadata": {},
   "outputs": [
    {
     "data": {
      "text/plain": [
       "array([-1.,  0.,  1.])"
      ]
     },
     "execution_count": 8,
     "metadata": {},
     "output_type": "execute_result"
    }
   ],
   "source": [
    "Tweet = df_all['Tweet']\n",
    "polarity = np.asarray(df_all['Polaridade'])\n",
    "\n",
    "np.unique(polarity)"
   ]
  },
  {
   "cell_type": "code",
   "execution_count": 9,
   "metadata": {},
   "outputs": [
    {
     "data": {
      "text/plain": [
       "(12665, 24464)"
      ]
     },
     "execution_count": 9,
     "metadata": {},
     "output_type": "execute_result"
    }
   ],
   "source": [
    "count_vect = CountVectorizer()\n",
    "X_train = count_vect.fit_transform(Tweet)\n",
    "\n",
    "tfidf_transformer = TfidfTransformer()\n",
    "X_train_transform = tfidf_transformer.fit_transform(X_train) # Aplicando o TF-IDF\n",
    "X_train_transform.shape"
   ]
  },
  {
   "cell_type": "code",
   "execution_count": 10,
   "metadata": {},
   "outputs": [
    {
     "name": "stdout",
     "output_type": "stream",
     "text": [
      "              precision    recall  f1-score   support\n",
      "\n",
      "        -1.0       0.54      0.85      0.66      1224\n",
      "         0.0       0.69      0.64      0.67      1422\n",
      "         1.0       0.70      0.33      0.45      1154\n",
      "\n",
      "    accuracy                           0.62      3800\n",
      "   macro avg       0.64      0.61      0.59      3800\n",
      "weighted avg       0.64      0.62      0.60      3800\n",
      "\n"
     ]
    }
   ],
   "source": [
    "X_train, X_test, Y_train, Y_test = train_test_split(X_train_transform, polarity, test_size=0.3)\n",
    "\n",
    "clf = MultinomialNB().fit(X_train, Y_train) # Aplicando naive bayes\n",
    "predicted = clf.predict(X_test)\n",
    "\n",
    "print(metrics.classification_report(Y_test, predicted))"
   ]
  },
  {
   "cell_type": "code",
   "execution_count": 11,
   "metadata": {},
   "outputs": [],
   "source": [
    "def pre_X(frases):\n",
    "    lista = []\n",
    "    \n",
    "    for frase in frases:\n",
    "        lista.append(frase)\n",
    "        \n",
    "    return lista\n",
    "\n",
    "def pre_Y(number):\n",
    "    lista = []\n",
    "    \n",
    "    for numb in number:\n",
    "        lista.append(numb)\n",
    "    \n",
    "    return lista\n"
   ]
  },
  {
   "cell_type": "code",
   "execution_count": 12,
   "metadata": {},
   "outputs": [],
   "source": [
    "def set_array(frases):\n",
    "    \n",
    "    vocab = []\n",
    "    palavras = []\n",
    "    for frase in frases:\n",
    "        \n",
    "        text_array = remove_user(frase)\n",
    "        text_array = Tokenize(text_array)\n",
    "        text_array = text_array.split(' ')\n",
    "        for i in range(len(text_array)):\n",
    "            vocab.append(text_array[i])\n",
    "    \n",
    "    \n",
    "        \n",
    "    return vocab\n",
    "\n",
    "def Tokenize(f):     ## Pre-processando a frase\n",
    "    \n",
    "    ## Colocando em minusculo\n",
    "    ## Retirando a pontuaçao\n",
    "    ## Retirando as StopWords\n",
    "    \n",
    "    f = f.lower().replace('\\n', '').replace('-','').replace('#','').replace('.','').replace(',','').replace('!','').replace('r\\n','').replace('  ','')\n",
    "    token = RegexpTokenizer(r\"\\w+\")\n",
    "    f = token.tokenize(f)\n",
    "    \n",
    "    stop_words = set(stopwords.words('portuguese'))\n",
    "    \n",
    "    new_word = [word for word in f if not word in stop_words]\n",
    "    \n",
    "    return ' '.join(new_word)\n",
    "\n",
    "def remove_user(frase):\n",
    "\n",
    "    return re.sub('@\\w+','',frase)"
   ]
  },
  {
   "cell_type": "code",
   "execution_count": 46,
   "metadata": {},
   "outputs": [],
   "source": [
    "model = tf.keras.Sequential([\n",
    "    tf.keras.layers.Dense(50, activation='relu'),\n",
    "    tf.keras.layers.Dropout(0.3),\n",
    "    tf.keras.layers.Dense(25, activation='relu'),\n",
    "    tf.keras.layers.Dropout(0.3),\n",
    "    tf.keras.layers.Dense(10, activation='tanh'),\n",
    "    tf.keras.layers.Dropout(0.2),\n",
    "    tf.keras.layers.Dense(3 , activation='softmax')\n",
    "])\n",
    "\n",
    "model.compile(\n",
    "    optimizer='adam',\n",
    "    loss=tf.keras.losses.categorical_crossentropy,\n",
    "    metrics=['accuracy']\n",
    ")"
   ]
  },
  {
   "cell_type": "code",
   "execution_count": 13,
   "metadata": {},
   "outputs": [],
   "source": [
    "Tweet = Tweet.apply(remove_user)\n",
    "Tweet_preprocessed = Tweet.apply(Tokenize)\n"
   ]
  },
  {
   "cell_type": "code",
   "execution_count": 47,
   "metadata": {},
   "outputs": [
    {
     "data": {
      "text/plain": [
       "<8865x25943 sparse matrix of type '<class 'numpy.float64'>'\n",
       "\twith 78721 stored elements in Compressed Sparse Row format>"
      ]
     },
     "execution_count": 47,
     "metadata": {},
     "output_type": "execute_result"
    }
   ],
   "source": [
    "count_vect = CountVectorizer()\n",
    "X_train = count_vect.fit_transform(Tweet_preprocessed)\n",
    "\n",
    "tfidf_transformer = TfidfTransformer()\n",
    "X_train_transform = tfidf_transformer.fit_transform(X_train) # Aplicando o TF-IDF\n",
    "\n",
    "\n",
    "X_train, X_test, Y_train, Y_test = train_test_split(X_train_transform, polarity, test_size=0.3)\n",
    "\n",
    "X_train"
   ]
  },
  {
   "cell_type": "code",
   "execution_count": 48,
   "metadata": {},
   "outputs": [
    {
     "data": {
      "text/plain": [
       "<3800x25943 sparse matrix of type '<class 'numpy.float64'>'\n",
       "\twith 33075 stored elements in Compressed Sparse Row format>"
      ]
     },
     "execution_count": 48,
     "metadata": {},
     "output_type": "execute_result"
    }
   ],
   "source": [
    "X_test"
   ]
  },
  {
   "cell_type": "code",
   "execution_count": 14,
   "metadata": {},
   "outputs": [],
   "source": [
    "one = OneHotEncoder(sparse=False)"
   ]
  },
  {
   "cell_type": "code",
   "execution_count": 49,
   "metadata": {},
   "outputs": [],
   "source": [
    "y_one = one.fit_transform(Y_train.reshape(-1,1))"
   ]
  },
  {
   "cell_type": "code",
   "execution_count": 50,
   "metadata": {},
   "outputs": [
    {
     "name": "stdout",
     "output_type": "stream",
     "text": [
      "Epoch 1/25\n",
      "278/278 [==============================] - 3s 11ms/step - loss: 1.0208 - accuracy: 0.4858 - val_loss: 0.8872 - val_accuracy: 0.5950\n",
      "Epoch 2/25\n",
      "278/278 [==============================] - 3s 9ms/step - loss: 0.6639 - accuracy: 0.7446 - val_loss: 0.8543 - val_accuracy: 0.6261\n",
      "Epoch 3/25\n",
      "278/278 [==============================] - 2s 9ms/step - loss: 0.3162 - accuracy: 0.8981 - val_loss: 1.0395 - val_accuracy: 0.6176\n",
      "Epoch 4/25\n",
      "278/278 [==============================] - 2s 9ms/step - loss: 0.1622 - accuracy: 0.9543 - val_loss: 1.2079 - val_accuracy: 0.6155\n",
      "Epoch 5/25\n",
      "278/278 [==============================] - 2s 9ms/step - loss: 0.1072 - accuracy: 0.9699 - val_loss: 1.3915 - val_accuracy: 0.6105\n",
      "Epoch 6/25\n",
      "278/278 [==============================] - 3s 9ms/step - loss: 0.0737 - accuracy: 0.9821 - val_loss: 1.5257 - val_accuracy: 0.6100\n",
      "Epoch 7/25\n",
      "278/278 [==============================] - 2s 9ms/step - loss: 0.0536 - accuracy: 0.9859 - val_loss: 1.6626 - val_accuracy: 0.6068\n",
      "Epoch 8/25\n",
      "278/278 [==============================] - 3s 9ms/step - loss: 0.0462 - accuracy: 0.9879 - val_loss: 1.7810 - val_accuracy: 0.6047\n",
      "Epoch 9/25\n",
      "278/278 [==============================] - 2s 9ms/step - loss: 0.0413 - accuracy: 0.9874 - val_loss: 1.8082 - val_accuracy: 0.6034\n",
      "Epoch 10/25\n",
      "278/278 [==============================] - 3s 9ms/step - loss: 0.0382 - accuracy: 0.9892 - val_loss: 1.8453 - val_accuracy: 0.6039\n",
      "Epoch 11/25\n",
      "278/278 [==============================] - 3s 9ms/step - loss: 0.0385 - accuracy: 0.9902 - val_loss: 1.8735 - val_accuracy: 0.6026\n",
      "Epoch 12/25\n",
      "278/278 [==============================] - 2s 9ms/step - loss: 0.0353 - accuracy: 0.9909 - val_loss: 1.9473 - val_accuracy: 0.6061\n",
      "Epoch 13/25\n",
      "278/278 [==============================] - 2s 9ms/step - loss: 0.0338 - accuracy: 0.9912 - val_loss: 2.0129 - val_accuracy: 0.5961\n",
      "Epoch 14/25\n",
      "278/278 [==============================] - 3s 10ms/step - loss: 0.0281 - accuracy: 0.9923 - val_loss: 2.1282 - val_accuracy: 0.6026\n",
      "Epoch 15/25\n",
      "278/278 [==============================] - 3s 9ms/step - loss: 0.0278 - accuracy: 0.9924 - val_loss: 2.1218 - val_accuracy: 0.5950\n",
      "Epoch 16/25\n",
      "278/278 [==============================] - 2s 9ms/step - loss: 0.0221 - accuracy: 0.9936 - val_loss: 2.1615 - val_accuracy: 0.5974\n",
      "Epoch 17/25\n",
      "278/278 [==============================] - 3s 9ms/step - loss: 0.0225 - accuracy: 0.9939 - val_loss: 2.2141 - val_accuracy: 0.6058\n",
      "Epoch 18/25\n",
      "278/278 [==============================] - 3s 9ms/step - loss: 0.0212 - accuracy: 0.9937 - val_loss: 2.2362 - val_accuracy: 0.5958\n",
      "Epoch 19/25\n",
      "278/278 [==============================] - 3s 9ms/step - loss: 0.0236 - accuracy: 0.9939 - val_loss: 2.2218 - val_accuracy: 0.5992\n",
      "Epoch 20/25\n",
      "278/278 [==============================] - 3s 9ms/step - loss: 0.0220 - accuracy: 0.9938 - val_loss: 2.2016 - val_accuracy: 0.5997\n",
      "Epoch 21/25\n",
      "278/278 [==============================] - 3s 10ms/step - loss: 0.0228 - accuracy: 0.9930 - val_loss: 2.2174 - val_accuracy: 0.5966\n",
      "Epoch 22/25\n",
      "278/278 [==============================] - 4s 13ms/step - loss: 0.0213 - accuracy: 0.9944 - val_loss: 2.2112 - val_accuracy: 0.5987\n",
      "Epoch 23/25\n",
      "278/278 [==============================] - 3s 12ms/step - loss: 0.0193 - accuracy: 0.9941 - val_loss: 2.2889 - val_accuracy: 0.5926\n",
      "Epoch 24/25\n",
      "278/278 [==============================] - 3s 9ms/step - loss: 0.0186 - accuracy: 0.9945 - val_loss: 2.3669 - val_accuracy: 0.5976\n",
      "Epoch 25/25\n",
      "278/278 [==============================] - 3s 9ms/step - loss: 0.0188 - accuracy: 0.9946 - val_loss: 2.3288 - val_accuracy: 0.5987\n"
     ]
    }
   ],
   "source": [
    "fit = model.fit(X_train.todense(), y_one, epochs=25, validation_data=(X_test.todense(), one.transform(Y_test.reshape(-1,1))))"
   ]
  },
  {
   "cell_type": "code",
   "execution_count": 51,
   "metadata": {
    "scrolled": true
   },
   "outputs": [
    {
     "data": {
      "image/png": "[encoded data removed]",
      "text/plain": [
       "<Figure size 864x432 with 1 Axes>"
      ]
     },
     "metadata": {
      "needs_background": "light"
     },
     "output_type": "display_data"
    }
   ],
   "source": [
    "plt.figure(figsize=(12,6))\n",
    "plt.plot(fit.history['loss'], label='Loss', color='darkred')\n",
    "plt.plot(fit.history['val_loss'], label='Val Loss', color='green')\n",
    "plt.legend()\n",
    "plt.grid()\n",
    "plt.ylabel('Loss')\n",
    "plt.show()"
   ]
  },
  {
   "cell_type": "code",
   "execution_count": 52,
   "metadata": {},
   "outputs": [
    {
     "data": {
      "image/png": "[encoded data removed]",
      "text/plain": [
       "<Figure size 864x432 with 1 Axes>"
      ]
     },
     "metadata": {
      "needs_background": "light"
     },
     "output_type": "display_data"
    }
   ],
   "source": [
    "plt.figure(figsize=(12,6))\n",
    "plt.plot(fit.history['accuracy'], label='accuracy', color='darkred')\n",
    "plt.plot(fit.history['val_accuracy'], label='Val accuracy', color='green')\n",
    "plt.legend()\n",
    "plt.grid()\n",
    "plt.ylabel('Accuracy')\n",
    "plt.show()"
   ]
  },
  {
   "cell_type": "code",
   "execution_count": 53,
   "metadata": {},
   "outputs": [
    {
     "name": "stdout",
     "output_type": "stream",
     "text": [
      "119/119 [==============================] - 1s 5ms/step - loss: 2.3288 - accuracy: 0.5987\n"
     ]
    }
   ],
   "source": [
    "acc = model.evaluate(X_test.todense(), one.transform(Y_test.reshape(-1,1)))"
   ]
  },
  {
   "cell_type": "code",
   "execution_count": 17,
   "metadata": {},
   "outputs": [
    {
     "data": {
      "text/plain": [
       "15000"
      ]
     },
     "execution_count": 17,
     "metadata": {},
     "output_type": "execute_result"
    }
   ],
   "source": [
    "vectorize_layer = TextVectorization(\n",
    " max_tokens=15000,\n",
    " output_mode='int',\n",
    " output_sequence_length=len(max(df_all['Tweet'])))\n",
    "\n",
    "vocab = set_array(df_all['Tweet'])\n",
    "\n",
    "vectorize_layer.adapt(np.unique(vocab))\n",
    "len(vectorize_layer.get_vocabulary())\n"
   ]
  },
  {
   "cell_type": "code",
   "execution_count": 18,
   "metadata": {},
   "outputs": [],
   "source": [
    "model = tf.keras.Sequential([\n",
    "    vectorize_layer,\n",
    "    tf.keras.layers.Embedding(\n",
    "        input_dim=len(vectorize_layer.get_vocabulary()),\n",
    "        output_dim=64,mask_zero=True),\n",
    "    \n",
    "    tf.keras.layers.LSTM(50, activation='relu' ,return_sequences=True),\n",
    "    tf.keras.layers.Dropout(0.3),\n",
    "    \n",
    "    #tf.keras.layers.LSTM(25 , activation='tanh', return_sequences=True),\n",
    "    #tf.keras.layers.Dropout(0.3),\n",
    "    \n",
    "    tf.keras.layers.LSTM(10 , activation='tanh'),\n",
    "    tf.keras.layers.Dropout(0.2),\n",
    "    \n",
    "    tf.keras.layers.Dense(3, activation='softmax')\n",
    "])\n",
    "\n",
    "\n",
    "model.compile(\n",
    "    optimizer= tf.keras.optimizers.Adam(),\n",
    "    loss=tf.keras.losses.categorical_crossentropy,\n",
    "    metrics=['accuracy']\n",
    ")"
   ]
  },
  {
   "cell_type": "code",
   "execution_count": 19,
   "metadata": {},
   "outputs": [],
   "source": [
    "X_train, X_test, Y_train, Y_test = train_test_split(Tweet_preprocessed, polarity, test_size=0.3)"
   ]
  },
  {
   "cell_type": "code",
   "execution_count": 33,
   "metadata": {},
   "outputs": [
    {
     "data": {
      "text/plain": [
       "(8865,)"
      ]
     },
     "execution_count": 33,
     "metadata": {},
     "output_type": "execute_result"
    }
   ],
   "source": [
    "X_train.shape"
   ]
  },
  {
   "cell_type": "code",
   "execution_count": 20,
   "metadata": {},
   "outputs": [],
   "source": [
    "y_one = one.fit_transform(Y_train.reshape(-1,1))"
   ]
  },
  {
   "cell_type": "code",
   "execution_count": 21,
   "metadata": {},
   "outputs": [
    {
     "name": "stdout",
     "output_type": "stream",
     "text": [
      "Epoch 1/20\n",
      "70/70 [==============================] - 12s 178ms/step - loss: 1.0860 - accuracy: 0.4393 - val_loss: 1.0457 - val_accuracy: 0.5024\n",
      "Epoch 2/20\n",
      "70/70 [==============================] - 12s 165ms/step - loss: 0.9001 - accuracy: 0.6196 - val_loss: 0.9333 - val_accuracy: 0.5739\n",
      "Epoch 3/20\n",
      "70/70 [==============================] - 11s 156ms/step - loss: 0.6452 - accuracy: 0.7644 - val_loss: 1.0023 - val_accuracy: 0.5747\n",
      "Epoch 4/20\n",
      "70/70 [==============================] - 11s 158ms/step - loss: 0.4750 - accuracy: 0.8350 - val_loss: 1.1004 - val_accuracy: 0.5766\n",
      "Epoch 5/20\n",
      "70/70 [==============================] - 11s 158ms/step - loss: 0.3749 - accuracy: 0.8708 - val_loss: 1.1675 - val_accuracy: 0.5713\n",
      "Epoch 6/20\n",
      "70/70 [==============================] - 10s 142ms/step - loss: 0.3064 - accuracy: 0.8967 - val_loss: 1.2214 - val_accuracy: 0.5655\n",
      "Epoch 7/20\n",
      "70/70 [==============================] - 12s 166ms/step - loss: 0.2547 - accuracy: 0.9145 - val_loss: 1.3981 - val_accuracy: 0.5589\n",
      "Epoch 8/20\n",
      "70/70 [==============================] - 11s 161ms/step - loss: 0.2289 - accuracy: 0.9208 - val_loss: 1.4475 - val_accuracy: 0.5539\n",
      "Epoch 9/20\n",
      "70/70 [==============================] - 11s 161ms/step - loss: 0.2001 - accuracy: 0.9270 - val_loss: 1.5648 - val_accuracy: 0.5545\n",
      "Epoch 10/20\n",
      "70/70 [==============================] - 11s 161ms/step - loss: 0.1861 - accuracy: 0.9340 - val_loss: 1.6467 - val_accuracy: 0.5537\n",
      "Epoch 11/20\n",
      "70/70 [==============================] - 11s 164ms/step - loss: 0.1655 - accuracy: 0.9377 - val_loss: 1.7938 - val_accuracy: 0.5508\n",
      "Epoch 12/20\n",
      "70/70 [==============================] - 12s 177ms/step - loss: 0.1638 - accuracy: 0.9385 - val_loss: 1.7686 - val_accuracy: 0.5534\n",
      "Epoch 13/20\n",
      "70/70 [==============================] - 12s 166ms/step - loss: 0.1502 - accuracy: 0.9429 - val_loss: 1.8771 - val_accuracy: 0.5461\n",
      "Epoch 14/20\n",
      "70/70 [==============================] - 11s 159ms/step - loss: 0.1424 - accuracy: 0.9447 - val_loss: 1.8042 - val_accuracy: 0.5529\n",
      "Epoch 15/20\n",
      "70/70 [==============================] - 11s 159ms/step - loss: 0.1349 - accuracy: 0.9490 - val_loss: 1.9524 - val_accuracy: 0.5511\n",
      "Epoch 16/20\n",
      "70/70 [==============================] - 11s 157ms/step - loss: 0.1304 - accuracy: 0.9512 - val_loss: 2.0771 - val_accuracy: 0.5437\n",
      "Epoch 17/20\n",
      "70/70 [==============================] - 11s 157ms/step - loss: 0.1305 - accuracy: 0.9522 - val_loss: 2.0936 - val_accuracy: 0.5432\n",
      "Epoch 18/20\n",
      "70/70 [==============================] - 11s 158ms/step - loss: 0.1256 - accuracy: 0.9516 - val_loss: 2.1131 - val_accuracy: 0.5547\n",
      "Epoch 19/20\n",
      "70/70 [==============================] - 11s 158ms/step - loss: 0.1140 - accuracy: 0.9549 - val_loss: 2.1628 - val_accuracy: 0.5529\n",
      "Epoch 20/20\n",
      "70/70 [==============================] - 11s 156ms/step - loss: 0.1148 - accuracy: 0.9567 - val_loss: 2.2007 - val_accuracy: 0.5539\n"
     ]
    }
   ],
   "source": [
    "fit = model.fit(np.asarray(pre_X(X_train)), y_one, epochs=20, batch_size=128 ,validation_data=(np.asarray(pre_X(X_test)), one.transform(Y_test.reshape(-1,1))))"
   ]
  },
  {
   "cell_type": "code",
   "execution_count": 22,
   "metadata": {},
   "outputs": [
    {
     "data": {
      "image/png": "[encoded data removed]",
      "text/plain": [
       "<Figure size 864x432 with 1 Axes>"
      ]
     },
     "metadata": {
      "needs_background": "light"
     },
     "output_type": "display_data"
    }
   ],
   "source": [
    "plt.figure(figsize=(12,6))\n",
    "plt.plot(fit.history['loss'], label='Loss', color='darkred')\n",
    "plt.plot(fit.history['val_loss'], label='Val Loss', color='green')\n",
    "plt.legend()\n",
    "plt.grid()\n",
    "plt.ylabel('Loss')\n",
    "plt.show()"
   ]
  },
  {
   "cell_type": "code",
   "execution_count": 23,
   "metadata": {},
   "outputs": [
    {
     "data": {
      "image/png": "[encoded data removed]",
      "text/plain": [
       "<Figure size 864x432 with 1 Axes>"
      ]
     },
     "metadata": {
      "needs_background": "light"
     },
     "output_type": "display_data"
    }
   ],
   "source": [
    "plt.figure(figsize=(12,6))\n",
    "plt.plot(fit.history['accuracy'], label='accuracy', color='darkred')\n",
    "plt.plot(fit.history['val_accuracy'], label='Val accuracy', color='green')\n",
    "plt.legend()\n",
    "plt.grid()\n",
    "plt.ylabel('Accuracy')\n",
    "plt.show()"
   ]
  },
  {
   "cell_type": "code",
   "execution_count": 24,
   "metadata": {},
   "outputs": [
    {
     "name": "stdout",
     "output_type": "stream",
     "text": [
      "119/119 [==============================] - 2s 17ms/step - loss: 2.2007 - accuracy: 0.5539 0s - loss: 2.2187 - accuracy: \n"
     ]
    }
   ],
   "source": [
    "acc = model.evaluate(np.asarray(pre_X(X_test)), one.transform(Y_test.reshape(-1,1)))"
   ]
  },
  {
   "cell_type": "markdown",
   "metadata": {},
   "source": [
    "## BDR"
   ]
  },
  {
   "cell_type": "code",
   "execution_count": 25,
   "metadata": {},
   "outputs": [],
   "source": [
    "model = tf.keras.Sequential([\n",
    "    vectorize_layer,\n",
    "    tf.keras.layers.Embedding(\n",
    "        input_dim=len(vectorize_layer.get_vocabulary()),\n",
    "        output_dim=64,\n",
    "        mask_zero=True),\n",
    "    \n",
    "    tf.keras.layers.Bidirectional(tf.keras.layers.LSTM(64)),\n",
    "    \n",
    "    tf.keras.layers.Dense(16, activation='relu'),\n",
    "    tf.keras.layers.Dense(3, activation='softmax')\n",
    "])\n",
    "\n",
    "model.compile(\n",
    "    optimizer= tf.keras.optimizers.Adam(),\n",
    "    loss=tf.keras.losses.categorical_crossentropy,\n",
    "    metrics=['accuracy']\n",
    ")\n",
    "\n",
    "X_train, X_test, Y_train, Y_test = train_test_split(Tweet_preprocessed, polarity, test_size=0.3)\n",
    "y_one = one.fit_transform(Y_train.reshape(-1,1))"
   ]
  },
  {
   "cell_type": "code",
   "execution_count": 26,
   "metadata": {},
   "outputs": [
    {
     "name": "stdout",
     "output_type": "stream",
     "text": [
      "Epoch 1/10\n",
      "70/70 [==============================] - 17s 243ms/step - loss: 1.0589 - accuracy: 0.4538 - val_loss: 0.9810 - val_accuracy: 0.5229\n",
      "Epoch 2/10\n",
      "70/70 [==============================] - 16s 223ms/step - loss: 0.8266 - accuracy: 0.6259 - val_loss: 0.9349 - val_accuracy: 0.5779\n",
      "Epoch 3/10\n",
      "70/70 [==============================] - 16s 226ms/step - loss: 0.5535 - accuracy: 0.7894 - val_loss: 1.0263 - val_accuracy: 0.5671\n",
      "Epoch 4/10\n",
      "70/70 [==============================] - 16s 231ms/step - loss: 0.3464 - accuracy: 0.8769 - val_loss: 1.2646 - val_accuracy: 0.5582\n",
      "Epoch 5/10\n",
      "70/70 [==============================] - 17s 236ms/step - loss: 0.2443 - accuracy: 0.9144 - val_loss: 1.3851 - val_accuracy: 0.5566\n",
      "Epoch 6/10\n",
      "70/70 [==============================] - 15s 220ms/step - loss: 0.1885 - accuracy: 0.9311 - val_loss: 1.5831 - val_accuracy: 0.5500\n",
      "Epoch 7/10\n",
      "70/70 [==============================] - 16s 235ms/step - loss: 0.1598 - accuracy: 0.9442 - val_loss: 1.6876 - val_accuracy: 0.5445\n",
      "Epoch 8/10\n",
      "70/70 [==============================] - 15s 216ms/step - loss: 0.1383 - accuracy: 0.9497 - val_loss: 1.8215 - val_accuracy: 0.5434\n",
      "Epoch 9/10\n",
      "70/70 [==============================] - 17s 242ms/step - loss: 0.1217 - accuracy: 0.9561 - val_loss: 2.0182 - val_accuracy: 0.5405\n",
      "Epoch 10/10\n",
      "70/70 [==============================] - 17s 246ms/step - loss: 0.1209 - accuracy: 0.9559 - val_loss: 2.0000 - val_accuracy: 0.5345\n"
     ]
    }
   ],
   "source": [
    "fit = model.fit(np.asarray(pre_X(X_train)), y_one, epochs=10, batch_size=128 ,validation_data=(np.asarray(pre_X(X_test)), one.transform(Y_test.reshape(-1,1))))"
   ]
  },
  {
   "cell_type": "code",
   "execution_count": 27,
   "metadata": {},
   "outputs": [
    {
     "data": {
      "image/png": "[encoded data removed]",
      "text/plain": [
       "<Figure size 864x432 with 1 Axes>"
      ]
     },
     "metadata": {
      "needs_background": "light"
     },
     "output_type": "display_data"
    }
   ],
   "source": [
    "plt.figure(figsize=(12,6))\n",
    "plt.plot(fit.history['loss'], label='Loss', color='darkred')\n",
    "plt.plot(fit.history['val_loss'], label='Val Loss', color='green')\n",
    "plt.legend()\n",
    "plt.grid()\n",
    "plt.ylabel('Loss')\n",
    "plt.show()"
   ]
  },
  {
   "cell_type": "code",
   "execution_count": 28,
   "metadata": {},
   "outputs": [
    {
     "data": {
      "image/png": "[encoded data removed]",
      "text/plain": [
       "<Figure size 864x432 with 1 Axes>"
      ]
     },
     "metadata": {
      "needs_background": "light"
     },
     "output_type": "display_data"
    }
   ],
   "source": [
    "plt.figure(figsize=(12,6))\n",
    "plt.plot(fit.history['accuracy'], label='accuracy', color='darkred')\n",
    "plt.plot(fit.history['val_accuracy'], label='Val accuracy', color='green')\n",
    "plt.legend()\n",
    "plt.grid()\n",
    "plt.ylabel('Accuracy')\n",
    "plt.show()"
   ]
  },
  {
   "cell_type": "markdown",
   "metadata": {},
   "source": [
    "## Conv 1D"
   ]
  },
  {
   "cell_type": "code",
   "execution_count": 29,
   "metadata": {},
   "outputs": [],
   "source": [
    "model = tf.keras.Sequential([\n",
    "    vectorize_layer,\n",
    "    tf.keras.layers.Embedding(\n",
    "        input_dim=len(vectorize_layer.get_vocabulary()),\n",
    "        output_dim=64,\n",
    "        mask_zero=True),\n",
    "    \n",
    "    tf.keras.layers.Conv1D(32,6, activation='relu'),\n",
    "    tf.keras.layers.MaxPooling1D(2),\n",
    "    tf.keras.layers.Flatten(),\n",
    "    \n",
    "    tf.keras.layers.Dense(20, activation='relu'),\n",
    "    tf.keras.layers.Dense(3, activation='softmax')   \n",
    "])\n",
    "\n",
    "model.compile(\n",
    "    optimizer= tf.keras.optimizers.Adam(),\n",
    "    loss=tf.keras.losses.categorical_crossentropy,\n",
    "    metrics=['accuracy']\n",
    ")\n",
    "\n",
    "X_train, X_test, Y_train, Y_test = train_test_split(Tweet_preprocessed, polarity, test_size=0.3)\n",
    "y_one = one.fit_transform(Y_train.reshape(-1,1))"
   ]
  },
  {
   "cell_type": "code",
   "execution_count": 30,
   "metadata": {},
   "outputs": [
    {
     "name": "stdout",
     "output_type": "stream",
     "text": [
      "Epoch 1/15\n",
      "35/35 [==============================] - 2s 70ms/step - loss: 1.0926 - accuracy: 0.3693 - val_loss: 1.0818 - val_accuracy: 0.4216\n",
      "Epoch 2/15\n",
      "35/35 [==============================] - 2s 59ms/step - loss: 1.0624 - accuracy: 0.4439 - val_loss: 1.0329 - val_accuracy: 0.4918\n",
      "Epoch 3/15\n",
      "35/35 [==============================] - 2s 60ms/step - loss: 0.9752 - accuracy: 0.5454 - val_loss: 0.9795 - val_accuracy: 0.5316\n",
      "Epoch 4/15\n",
      "35/35 [==============================] - 2s 58ms/step - loss: 0.8540 - accuracy: 0.5997 - val_loss: 0.9532 - val_accuracy: 0.5384\n",
      "Epoch 5/15\n",
      "35/35 [==============================] - 2s 58ms/step - loss: 0.7055 - accuracy: 0.6726 - val_loss: 0.9878 - val_accuracy: 0.5413\n",
      "Epoch 6/15\n",
      "35/35 [==============================] - 2s 58ms/step - loss: 0.5624 - accuracy: 0.7814 - val_loss: 1.0688 - val_accuracy: 0.5332\n",
      "Epoch 7/15\n",
      "35/35 [==============================] - 2s 59ms/step - loss: 0.4451 - accuracy: 0.8404 - val_loss: 1.1622 - val_accuracy: 0.5397\n",
      "Epoch 8/15\n",
      "35/35 [==============================] - 2s 57ms/step - loss: 0.3564 - accuracy: 0.8821 - val_loss: 1.2884 - val_accuracy: 0.5300\n",
      "Epoch 9/15\n",
      "35/35 [==============================] - 2s 58ms/step - loss: 0.3020 - accuracy: 0.8999 - val_loss: 1.3642 - val_accuracy: 0.5382\n",
      "Epoch 10/15\n",
      "35/35 [==============================] - 2s 59ms/step - loss: 0.2491 - accuracy: 0.9181 - val_loss: 1.4439 - val_accuracy: 0.5492\n",
      "Epoch 11/15\n",
      "35/35 [==============================] - 2s 64ms/step - loss: 0.2037 - accuracy: 0.9324 - val_loss: 1.5860 - val_accuracy: 0.5511\n",
      "Epoch 12/15\n",
      "35/35 [==============================] - 2s 70ms/step - loss: 0.1776 - accuracy: 0.9421 - val_loss: 1.6447 - val_accuracy: 0.5424\n",
      "Epoch 13/15\n",
      "35/35 [==============================] - 2s 66ms/step - loss: 0.1491 - accuracy: 0.9519 - val_loss: 1.7065 - val_accuracy: 0.5421\n",
      "Epoch 14/15\n",
      "35/35 [==============================] - 2s 64ms/step - loss: 0.1285 - accuracy: 0.9595 - val_loss: 1.7692 - val_accuracy: 0.5379\n",
      "Epoch 15/15\n",
      "35/35 [==============================] - 2s 59ms/step - loss: 0.1173 - accuracy: 0.9606 - val_loss: 1.8269 - val_accuracy: 0.5389\n"
     ]
    }
   ],
   "source": [
    "fit = model.fit(np.asarray(pre_X(X_train)), y_one, epochs=15, batch_size=256 ,validation_data=(np.asarray(pre_X(X_test)), one.transform(Y_test.reshape(-1,1))))"
   ]
  },
  {
   "cell_type": "code",
   "execution_count": 31,
   "metadata": {},
   "outputs": [
    {
     "data": {
      "image/png": "[encoded data removed]",
      "text/plain": [
       "<Figure size 864x432 with 1 Axes>"
      ]
     },
     "metadata": {
      "needs_background": "light"
     },
     "output_type": "display_data"
    }
   ],
   "source": [
    "plt.figure(figsize=(12,6))\n",
    "plt.plot(fit.history['loss'], label='Loss', color='darkred')\n",
    "plt.plot(fit.history['val_loss'], label='Val Loss', color='green')\n",
    "plt.legend()\n",
    "plt.grid()\n",
    "plt.ylabel('Loss')\n",
    "plt.show()"
   ]
  },
  {
   "cell_type": "code",
   "execution_count": 32,
   "metadata": {},
   "outputs": [
    {
     "data": {
      "image/png": "[encoded data removed]",
      "text/plain": [
       "<Figure size 864x432 with 1 Axes>"
      ]
     },
     "metadata": {
      "needs_background": "light"
     },
     "output_type": "display_data"
    }
   ],
   "source": [
    "plt.figure(figsize=(12,6))\n",
    "plt.plot(fit.history['accuracy'], label='accuracy', color='darkred')\n",
    "plt.plot(fit.history['val_accuracy'], label='Val accuracy', color='green')\n",
    "plt.legend()\n",
    "plt.grid()\n",
    "plt.ylabel('Accuracy')\n",
    "plt.show()"
   ]
  },
  {
   "cell_type": "code",
   "execution_count": null,
   "metadata": {},
   "outputs": [],
   "source": []
  }
 ],
 "metadata": {
  "kernelspec": {
   "display_name": "Python 3",
   "language": "python",
   "name": "python3"
  },
  "language_info": {
   "codemirror_mode": {
    "name": "ipython",
    "version": 3
   },
   "file_extension": ".py",
   "mimetype": "text/x-python",
   "name": "python",
   "nbconvert_exporter": "python",
   "pygments_lexer": "ipython3",
   "version": "3.7.9"
  }
 },
 "nbformat": 4,
 "nbformat_minor": 2
}
