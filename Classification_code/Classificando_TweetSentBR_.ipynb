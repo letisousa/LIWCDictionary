{
 "cells": [
  {
   "cell_type": "code",
   "execution_count": 1,
   "metadata": {},
   "outputs": [
    {
     "name": "stderr",
     "output_type": "stream",
     "text": [
      "[nltk_data] Downloading package stopwords to\n",
      "[nltk_data]     C:\\Users\\ddayv\\AppData\\Roaming\\nltk_data...\n",
      "[nltk_data]   Package stopwords is already up-to-date!\n",
      "[nltk_data] Downloading package wordnet to\n",
      "[nltk_data]     C:\\Users\\ddayv\\AppData\\Roaming\\nltk_data...\n",
      "[nltk_data]   Package wordnet is already up-to-date!\n"
     ]
    },
    {
     "data": {
      "text/plain": [
       "True"
      ]
     },
     "execution_count": 1,
     "metadata": {},
     "output_type": "execute_result"
    }
   ],
   "source": [
    "import pandas as pd\n",
    "import numpy as np\n",
    "from sklearn.feature_extraction.text import CountVectorizer\n",
    "from sklearn.feature_extraction.text import TfidfTransformer\n",
    "from sklearn.naive_bayes import MultinomialNB\n",
    "from sklearn.model_selection import train_test_split\n",
    "from sklearn import metrics\n",
    "import seaborn as sns\n",
    "import re\n",
    "\n",
    "import tensorflow as tf\n",
    "from tensorflow.keras.layers.experimental.preprocessing import TextVectorization\n",
    "from nltk import word_tokenize, RegexpTokenizer\n",
    "from nltk.corpus import stopwords, wordnet\n",
    "from sklearn.preprocessing import OneHotEncoder\n",
    "import matplotlib.pyplot as plt\n",
    "\n",
    "import nltk\n",
    "nltk.download('stopwords')\n",
    "nltk.download('wordnet')"
   ]
  },
  {
   "cell_type": "code",
   "execution_count": 77,
   "metadata": {},
   "outputs": [
    {
     "data": {
      "text/plain": [
       "(11570, 4)"
      ]
     },
     "execution_count": 77,
     "metadata": {},
     "output_type": "execute_result"
    }
   ],
   "source": [
    "df_all = pd.read_csv(\"export_TweetSentBR.csv\")\n",
    "df_all.shape"
   ]
  },
  {
   "cell_type": "code",
   "execution_count": 78,
   "metadata": {},
   "outputs": [
    {
     "data": {
      "text/html": [
       "<div>\n",
       "<style scoped>\n",
       "    .dataframe tbody tr th:only-of-type {\n",
       "        vertical-align: middle;\n",
       "    }\n",
       "\n",
       "    .dataframe tbody tr th {\n",
       "        vertical-align: top;\n",
       "    }\n",
       "\n",
       "    .dataframe thead th {\n",
       "        text-align: right;\n",
       "    }\n",
       "</style>\n",
       "<table border=\"1\" class=\"dataframe\">\n",
       "  <thead>\n",
       "    <tr style=\"text-align: right;\">\n",
       "      <th></th>\n",
       "      <th>id</th>\n",
       "      <th>id_twitter</th>\n",
       "      <th>text</th>\n",
       "      <th>sentiment</th>\n",
       "    </tr>\n",
       "  </thead>\n",
       "  <tbody>\n",
       "    <tr>\n",
       "      <th>0</th>\n",
       "      <td>1343</td>\n",
       "      <td>863044774588272640</td>\n",
       "      <td>Que coisa linda! O Programa #encontro estava m...</td>\n",
       "      <td>1</td>\n",
       "    </tr>\n",
       "    <tr>\n",
       "      <th>1</th>\n",
       "      <td>1344</td>\n",
       "      <td>865583716088766467</td>\n",
       "      <td>Por mais #Encontro com as Irmãs Galvão, adorei...</td>\n",
       "      <td>1</td>\n",
       "    </tr>\n",
       "    <tr>\n",
       "      <th>2</th>\n",
       "      <td>1345</td>\n",
       "      <td>865063232201011201</td>\n",
       "      <td>Mr. CATRA @OficialMrCatra lançando sua nova mú...</td>\n",
       "      <td>1</td>\n",
       "    </tr>\n",
       "    <tr>\n",
       "      <th>3</th>\n",
       "      <td>1346</td>\n",
       "      <td>864668391008763905</td>\n",
       "      <td>quem viu aquela lutadora modela barbuda tatuad...</td>\n",
       "      <td>0</td>\n",
       "    </tr>\n",
       "    <tr>\n",
       "      <th>4</th>\n",
       "      <td>1347</td>\n",
       "      <td>865572794016378882</td>\n",
       "      <td>Tô passada com esse cara.... quanta merda pode...</td>\n",
       "      <td>-1</td>\n",
       "    </tr>\n",
       "  </tbody>\n",
       "</table>\n",
       "</div>"
      ],
      "text/plain": [
       "     id          id_twitter  \\\n",
       "0  1343  863044774588272640   \n",
       "1  1344  865583716088766467   \n",
       "2  1345  865063232201011201   \n",
       "3  1346  864668391008763905   \n",
       "4  1347  865572794016378882   \n",
       "\n",
       "                                                text sentiment  \n",
       "0  Que coisa linda! O Programa #encontro estava m...         1  \n",
       "1  Por mais #Encontro com as Irmãs Galvão, adorei...         1  \n",
       "2  Mr. CATRA @OficialMrCatra lançando sua nova mú...         1  \n",
       "3  quem viu aquela lutadora modela barbuda tatuad...         0  \n",
       "4  Tô passada com esse cara.... quanta merda pode...        -1  "
      ]
     },
     "execution_count": 78,
     "metadata": {},
     "output_type": "execute_result"
    }
   ],
   "source": [
    "df_all.head()"
   ]
  },
  {
   "cell_type": "code",
   "execution_count": 79,
   "metadata": {},
   "outputs": [
    {
     "data": {
      "text/plain": [
       "37"
      ]
     },
     "execution_count": 79,
     "metadata": {},
     "output_type": "execute_result"
    }
   ],
   "source": [
    "len(df_all[df_all[\"sentiment\"] == \"-\"]['text'])"
   ]
  },
  {
   "cell_type": "code",
   "execution_count": 80,
   "metadata": {},
   "outputs": [],
   "source": [
    "df_remove = df_all[df_all['sentiment'] == '-']\n",
    "df_all = df_all.drop(df_remove.index)"
   ]
  },
  {
   "cell_type": "code",
   "execution_count": 82,
   "metadata": {},
   "outputs": [
    {
     "data": {
      "text/plain": [
       "<AxesSubplot:xlabel='sentiment', ylabel='count'>"
      ]
     },
     "execution_count": 82,
     "metadata": {},
     "output_type": "execute_result"
    },
    {
     "data": {
      "image/png": "[encoded data removed]",
      "text/plain": [
       "<Figure size 432x288 with 1 Axes>"
      ]
     },
     "metadata": {
      "needs_background": "light"
     },
     "output_type": "display_data"
    }
   ],
   "source": [
    "df_all.isnull().sum()\n",
    "df_all = df_all.dropna()\n",
    "\n",
    "sns.countplot(data=df_all, x='sentiment')"
   ]
  },
  {
   "cell_type": "code",
   "execution_count": 83,
   "metadata": {},
   "outputs": [
    {
     "data": {
      "text/html": [
       "<div>\n",
       "<style scoped>\n",
       "    .dataframe tbody tr th:only-of-type {\n",
       "        vertical-align: middle;\n",
       "    }\n",
       "\n",
       "    .dataframe tbody tr th {\n",
       "        vertical-align: top;\n",
       "    }\n",
       "\n",
       "    .dataframe thead th {\n",
       "        text-align: right;\n",
       "    }\n",
       "</style>\n",
       "<table border=\"1\" class=\"dataframe\">\n",
       "  <thead>\n",
       "    <tr style=\"text-align: right;\">\n",
       "      <th></th>\n",
       "      <th>index</th>\n",
       "      <th>id</th>\n",
       "      <th>id_twitter</th>\n",
       "      <th>text</th>\n",
       "      <th>sentiment</th>\n",
       "    </tr>\n",
       "  </thead>\n",
       "  <tbody>\n",
       "    <tr>\n",
       "      <th>0</th>\n",
       "      <td>0</td>\n",
       "      <td>1343</td>\n",
       "      <td>863044774588272640</td>\n",
       "      <td>Que coisa linda! O Programa #encontro estava m...</td>\n",
       "      <td>1</td>\n",
       "    </tr>\n",
       "    <tr>\n",
       "      <th>1</th>\n",
       "      <td>1</td>\n",
       "      <td>1344</td>\n",
       "      <td>865583716088766467</td>\n",
       "      <td>Por mais #Encontro com as Irmãs Galvão, adorei...</td>\n",
       "      <td>1</td>\n",
       "    </tr>\n",
       "    <tr>\n",
       "      <th>2</th>\n",
       "      <td>2</td>\n",
       "      <td>1345</td>\n",
       "      <td>865063232201011201</td>\n",
       "      <td>Mr. CATRA @OficialMrCatra lançando sua nova mú...</td>\n",
       "      <td>1</td>\n",
       "    </tr>\n",
       "    <tr>\n",
       "      <th>3</th>\n",
       "      <td>3</td>\n",
       "      <td>1346</td>\n",
       "      <td>864668391008763905</td>\n",
       "      <td>quem viu aquela lutadora modela barbuda tatuad...</td>\n",
       "      <td>0</td>\n",
       "    </tr>\n",
       "    <tr>\n",
       "      <th>4</th>\n",
       "      <td>4</td>\n",
       "      <td>1347</td>\n",
       "      <td>865572794016378882</td>\n",
       "      <td>Tô passada com esse cara.... quanta merda pode...</td>\n",
       "      <td>-1</td>\n",
       "    </tr>\n",
       "    <tr>\n",
       "      <th>...</th>\n",
       "      <td>...</td>\n",
       "      <td>...</td>\n",
       "      <td>...</td>\n",
       "      <td>...</td>\n",
       "      <td>...</td>\n",
       "    </tr>\n",
       "    <tr>\n",
       "      <th>11528</th>\n",
       "      <td>11565</td>\n",
       "      <td>12908</td>\n",
       "      <td>864636619000877056</td>\n",
       "      <td>eu ja to aqui pronto pro #MasterChefBR mas ain...</td>\n",
       "      <td>-1</td>\n",
       "    </tr>\n",
       "    <tr>\n",
       "      <th>11529</th>\n",
       "      <td>11566</td>\n",
       "      <td>12909</td>\n",
       "      <td>863581588713603072</td>\n",
       "      <td>MALUCO! Uma coisa que eu não tenho coragem é e...</td>\n",
       "      <td>-1</td>\n",
       "    </tr>\n",
       "    <tr>\n",
       "      <th>11530</th>\n",
       "      <td>11567</td>\n",
       "      <td>12910</td>\n",
       "      <td>864831041349054464</td>\n",
       "      <td>#MaisVoce @ANAMARIABRAGA  está linda @RedeGlobo</td>\n",
       "      <td>1</td>\n",
       "    </tr>\n",
       "    <tr>\n",
       "      <th>11531</th>\n",
       "      <td>11568</td>\n",
       "      <td>12911</td>\n",
       "      <td>863042798575951872</td>\n",
       "      <td>Que orgulho de ti, @sportrecife! #Encontro</td>\n",
       "      <td>1</td>\n",
       "    </tr>\n",
       "    <tr>\n",
       "      <th>11532</th>\n",
       "      <td>11569</td>\n",
       "      <td>12912</td>\n",
       "      <td>864681041541386240</td>\n",
       "      <td>Gente olha o bíceps desse padre #ConversaComBial</td>\n",
       "      <td>1</td>\n",
       "    </tr>\n",
       "  </tbody>\n",
       "</table>\n",
       "<p>11533 rows × 5 columns</p>\n",
       "</div>"
      ],
      "text/plain": [
       "       index     id          id_twitter  \\\n",
       "0          0   1343  863044774588272640   \n",
       "1          1   1344  865583716088766467   \n",
       "2          2   1345  865063232201011201   \n",
       "3          3   1346  864668391008763905   \n",
       "4          4   1347  865572794016378882   \n",
       "...      ...    ...                 ...   \n",
       "11528  11565  12908  864636619000877056   \n",
       "11529  11566  12909  863581588713603072   \n",
       "11530  11567  12910  864831041349054464   \n",
       "11531  11568  12911  863042798575951872   \n",
       "11532  11569  12912  864681041541386240   \n",
       "\n",
       "                                                    text sentiment  \n",
       "0      Que coisa linda! O Programa #encontro estava m...         1  \n",
       "1      Por mais #Encontro com as Irmãs Galvão, adorei...         1  \n",
       "2      Mr. CATRA @OficialMrCatra lançando sua nova mú...         1  \n",
       "3      quem viu aquela lutadora modela barbuda tatuad...         0  \n",
       "4      Tô passada com esse cara.... quanta merda pode...        -1  \n",
       "...                                                  ...       ...  \n",
       "11528  eu ja to aqui pronto pro #MasterChefBR mas ain...        -1  \n",
       "11529  MALUCO! Uma coisa que eu não tenho coragem é e...        -1  \n",
       "11530    #MaisVoce @ANAMARIABRAGA  está linda @RedeGlobo         1  \n",
       "11531         Que orgulho de ti, @sportrecife! #Encontro         1  \n",
       "11532   Gente olha o bíceps desse padre #ConversaComBial         1  \n",
       "\n",
       "[11533 rows x 5 columns]"
      ]
     },
     "execution_count": 83,
     "metadata": {},
     "output_type": "execute_result"
    }
   ],
   "source": [
    "df_all = df_all.reset_index()\n",
    "df_all"
   ]
  },
  {
   "cell_type": "code",
   "execution_count": 84,
   "metadata": {},
   "outputs": [
    {
     "data": {
      "text/plain": [
       "array(['1', '0', '-1'], dtype=object)"
      ]
     },
     "execution_count": 84,
     "metadata": {},
     "output_type": "execute_result"
    }
   ],
   "source": [
    "df_all = df_all.drop(columns=['index'])\n",
    "df_all['sentiment'].unique()"
   ]
  },
  {
   "cell_type": "code",
   "execution_count": 85,
   "metadata": {},
   "outputs": [],
   "source": [
    "df_all['sentiment'] = df_all['sentiment'].apply(lambda x: int(x))"
   ]
  },
  {
   "cell_type": "code",
   "execution_count": 86,
   "metadata": {},
   "outputs": [
    {
     "data": {
      "text/plain": [
       "array([-1,  0,  1], dtype=int64)"
      ]
     },
     "execution_count": 86,
     "metadata": {},
     "output_type": "execute_result"
    }
   ],
   "source": [
    "Tweet = df_all['text']\n",
    "polarity = np.asarray(df_all['sentiment'])\n",
    "\n",
    "np.unique(polarity)"
   ]
  },
  {
   "cell_type": "code",
   "execution_count": 39,
   "metadata": {},
   "outputs": [
    {
     "data": {
      "text/plain": [
       "(11533, 13064)"
      ]
     },
     "execution_count": 39,
     "metadata": {},
     "output_type": "execute_result"
    }
   ],
   "source": [
    "count_vect = CountVectorizer()\n",
    "X_train = count_vect.fit_transform(Tweet)\n",
    "\n",
    "tfidf_transformer = TfidfTransformer()\n",
    "X_train_transform = tfidf_transformer.fit_transform(X_train) # Aplicando o TF-IDF\n",
    "X_train_transform.shape"
   ]
  },
  {
   "cell_type": "code",
   "execution_count": 41,
   "metadata": {},
   "outputs": [
    {
     "name": "stdout",
     "output_type": "stream",
     "text": [
      "              precision    recall  f1-score   support\n",
      "\n",
      "          -1       0.67      0.48      0.56       992\n",
      "           0       0.75      0.12      0.21       896\n",
      "           1       0.57      0.94      0.71      1572\n",
      "\n",
      "    accuracy                           0.60      3460\n",
      "   macro avg       0.67      0.52      0.49      3460\n",
      "weighted avg       0.65      0.60      0.54      3460\n",
      "\n"
     ]
    }
   ],
   "source": [
    "X_train, X_test, Y_train, Y_test = train_test_split(X_train_transform, polarity, test_size=0.3)\n",
    "\n",
    "clf = MultinomialNB().fit(X_train, Y_train) # Aplicando naive bayes\n",
    "predicted = clf.predict(X_test)\n",
    "\n",
    "print(metrics.classification_report(Y_test, predicted))"
   ]
  },
  {
   "cell_type": "code",
   "execution_count": 87,
   "metadata": {},
   "outputs": [],
   "source": [
    "def pre_X(frases):\n",
    "    lista = []\n",
    "    \n",
    "    for frase in frases:\n",
    "        lista.append(frase)\n",
    "        \n",
    "    return lista\n",
    "\n",
    "def pre_Y(number):\n",
    "    lista = []\n",
    "    \n",
    "    for numb in number:\n",
    "        lista.append(numb)\n",
    "    \n",
    "    return lista\n"
   ]
  },
  {
   "cell_type": "code",
   "execution_count": 88,
   "metadata": {},
   "outputs": [],
   "source": [
    "def set_array(frases):\n",
    "    \n",
    "    vocab = []\n",
    "    palavras = []\n",
    "    for frase in frases:\n",
    "        \n",
    "        text_array = remove_user(frase)\n",
    "        text_array = Tokenize(text_array)\n",
    "        text_array = text_array.split(' ')\n",
    "        for i in range(len(text_array)):\n",
    "            vocab.append(text_array[i])\n",
    "    \n",
    "    \n",
    "        \n",
    "    return vocab\n",
    "\n",
    "def Tokenize(f):     ## Pre-processando a frase\n",
    "    \n",
    "    ## Colocando em minusculo\n",
    "    ## Retirando a pontuaçao\n",
    "    ## Retirando as StopWords\n",
    "    \n",
    "    f = f.lower().replace('\\n', '').replace('-','').replace('#','').replace('.','').replace(',','').replace('!','').replace('r\\n','').replace('  ','')\n",
    "    token = RegexpTokenizer(r\"\\w+\")\n",
    "    f = token.tokenize(f)\n",
    "    \n",
    "    stop_words = set(stopwords.words('portuguese'))\n",
    "    \n",
    "    new_word = [word for word in f if not word in stop_words]\n",
    "    \n",
    "    return ' '.join(new_word)\n",
    "\n",
    "def remove_user(frase):\n",
    "\n",
    "    return re.sub('@\\w+','',frase)"
   ]
  },
  {
   "cell_type": "code",
   "execution_count": 44,
   "metadata": {},
   "outputs": [],
   "source": [
    "model = tf.keras.Sequential([\n",
    "    tf.keras.layers.Dense(50, activation='relu'),\n",
    "    tf.keras.layers.Dropout(0.3),\n",
    "    tf.keras.layers.Dense(25, activation='relu'),\n",
    "    tf.keras.layers.Dropout(0.3),\n",
    "    tf.keras.layers.Dense(10, activation='tanh'),\n",
    "    tf.keras.layers.Dropout(0.2),\n",
    "    tf.keras.layers.Dense(3 , activation='softmax')\n",
    "])\n",
    "\n",
    "model.compile(\n",
    "    optimizer='adam',\n",
    "    loss=tf.keras.losses.categorical_crossentropy,\n",
    "    metrics=['accuracy']\n",
    ")"
   ]
  },
  {
   "cell_type": "code",
   "execution_count": 45,
   "metadata": {},
   "outputs": [
    {
     "data": {
      "text/plain": [
       "<8073x15346 sparse matrix of type '<class 'numpy.float64'>'\n",
       "\twith 56277 stored elements in Compressed Sparse Row format>"
      ]
     },
     "execution_count": 45,
     "metadata": {},
     "output_type": "execute_result"
    }
   ],
   "source": [
    "Tweet = Tweet.apply(remove_user)\n",
    "Tweet_preprocessed = Tweet.apply(Tokenize)\n",
    "\n",
    "count_vect = CountVectorizer()\n",
    "X_train = count_vect.fit_transform(Tweet_preprocessed)\n",
    "\n",
    "tfidf_transformer = TfidfTransformer()\n",
    "X_train_transform = tfidf_transformer.fit_transform(X_train) # Aplicando o TF-IDF\n",
    "\n",
    "\n",
    "X_train, X_test, Y_train, Y_test = train_test_split(X_train_transform, polarity, test_size=0.3)\n",
    "\n",
    "X_train"
   ]
  },
  {
   "cell_type": "code",
   "execution_count": 46,
   "metadata": {},
   "outputs": [
    {
     "data": {
      "text/plain": [
       "<3460x15346 sparse matrix of type '<class 'numpy.float64'>'\n",
       "\twith 24096 stored elements in Compressed Sparse Row format>"
      ]
     },
     "execution_count": 46,
     "metadata": {},
     "output_type": "execute_result"
    }
   ],
   "source": [
    "X_test"
   ]
  },
  {
   "cell_type": "code",
   "execution_count": 47,
   "metadata": {},
   "outputs": [],
   "source": [
    "one = OneHotEncoder(sparse=False)\n",
    "\n",
    "y_one = one.fit_transform(Y_train.reshape(-1,1))"
   ]
  },
  {
   "cell_type": "code",
   "execution_count": 48,
   "metadata": {},
   "outputs": [
    {
     "name": "stdout",
     "output_type": "stream",
     "text": [
      "Epoch 1/25\n",
      "253/253 [==============================] - 2s 8ms/step - loss: 1.0224 - accuracy: 0.4841 - val_loss: 0.8953 - val_accuracy: 0.5821\n",
      "Epoch 2/25\n",
      "253/253 [==============================] - 1s 6ms/step - loss: 0.7742 - accuracy: 0.6654 - val_loss: 0.8357 - val_accuracy: 0.6179\n",
      "Epoch 3/25\n",
      "253/253 [==============================] - 1s 6ms/step - loss: 0.4939 - accuracy: 0.8218 - val_loss: 0.9281 - val_accuracy: 0.6061\n",
      "Epoch 4/25\n",
      "253/253 [==============================] - 2s 6ms/step - loss: 0.3079 - accuracy: 0.9012 - val_loss: 1.0864 - val_accuracy: 0.5988\n",
      "Epoch 5/25\n",
      "253/253 [==============================] - 1s 6ms/step - loss: 0.2002 - accuracy: 0.9377 - val_loss: 1.2443 - val_accuracy: 0.5971\n",
      "Epoch 6/25\n",
      "253/253 [==============================] - 1s 6ms/step - loss: 0.1335 - accuracy: 0.9592 - val_loss: 1.3988 - val_accuracy: 0.5890\n",
      "Epoch 7/25\n",
      "253/253 [==============================] - 1s 6ms/step - loss: 0.1026 - accuracy: 0.9703 - val_loss: 1.5027 - val_accuracy: 0.5879\n",
      "Epoch 8/25\n",
      "253/253 [==============================] - 1s 6ms/step - loss: 0.0822 - accuracy: 0.9763 - val_loss: 1.6231 - val_accuracy: 0.5853\n",
      "Epoch 9/25\n",
      "253/253 [==============================] - 1s 6ms/step - loss: 0.0651 - accuracy: 0.9802 - val_loss: 1.7283 - val_accuracy: 0.5772\n",
      "Epoch 10/25\n",
      "253/253 [==============================] - 1s 6ms/step - loss: 0.0611 - accuracy: 0.9814 - val_loss: 1.7826 - val_accuracy: 0.5838\n",
      "Epoch 11/25\n",
      "253/253 [==============================] - 1s 6ms/step - loss: 0.0511 - accuracy: 0.9845 - val_loss: 1.8637 - val_accuracy: 0.5731\n",
      "Epoch 12/25\n",
      "253/253 [==============================] - 2s 7ms/step - loss: 0.0477 - accuracy: 0.9854 - val_loss: 1.8797 - val_accuracy: 0.5775\n",
      "Epoch 13/25\n",
      "253/253 [==============================] - 2s 6ms/step - loss: 0.0447 - accuracy: 0.9872 - val_loss: 1.9841 - val_accuracy: 0.5751\n",
      "Epoch 14/25\n",
      "253/253 [==============================] - 2s 6ms/step - loss: 0.0424 - accuracy: 0.9880 - val_loss: 2.0377 - val_accuracy: 0.5688\n",
      "Epoch 15/25\n",
      "253/253 [==============================] - 2s 7ms/step - loss: 0.0459 - accuracy: 0.9859 - val_loss: 2.0922 - val_accuracy: 0.5795\n",
      "Epoch 16/25\n",
      "253/253 [==============================] - 2s 6ms/step - loss: 0.0343 - accuracy: 0.9885 - val_loss: 2.1487 - val_accuracy: 0.5679\n",
      "Epoch 17/25\n",
      "253/253 [==============================] - 2s 6ms/step - loss: 0.0342 - accuracy: 0.9893 - val_loss: 2.1472 - val_accuracy: 0.5665\n",
      "Epoch 18/25\n",
      "253/253 [==============================] - 2s 6ms/step - loss: 0.0327 - accuracy: 0.9895 - val_loss: 2.2578 - val_accuracy: 0.5685\n",
      "Epoch 19/25\n",
      "253/253 [==============================] - 2s 6ms/step - loss: 0.0299 - accuracy: 0.9912 - val_loss: 2.3872 - val_accuracy: 0.5711\n",
      "Epoch 20/25\n",
      "253/253 [==============================] - 2s 7ms/step - loss: 0.0311 - accuracy: 0.9902 - val_loss: 2.2668 - val_accuracy: 0.5714\n",
      "Epoch 21/25\n",
      "253/253 [==============================] - 2s 7ms/step - loss: 0.0309 - accuracy: 0.9895 - val_loss: 2.2764 - val_accuracy: 0.5694\n",
      "Epoch 22/25\n",
      "253/253 [==============================] - 2s 6ms/step - loss: 0.0277 - accuracy: 0.9905 - val_loss: 2.4116 - val_accuracy: 0.5714\n",
      "Epoch 23/25\n",
      "253/253 [==============================] - 1s 6ms/step - loss: 0.0251 - accuracy: 0.9907 - val_loss: 2.4338 - val_accuracy: 0.5725\n",
      "Epoch 24/25\n",
      "253/253 [==============================] - 2s 7ms/step - loss: 0.0266 - accuracy: 0.9907 - val_loss: 2.4343 - val_accuracy: 0.5746\n",
      "Epoch 25/25\n",
      "253/253 [==============================] - 2s 6ms/step - loss: 0.0257 - accuracy: 0.9910 - val_loss: 2.5297 - val_accuracy: 0.5723\n"
     ]
    }
   ],
   "source": [
    "fit = model.fit(X_train.todense(), y_one, epochs=25, validation_data=(X_test.todense(), one.transform(Y_test.reshape(-1,1))))"
   ]
  },
  {
   "cell_type": "code",
   "execution_count": 49,
   "metadata": {
    "scrolled": true
   },
   "outputs": [
    {
     "data": {
      "image/png": "[encoded data removed]",
      "text/plain": [
       "<Figure size 864x432 with 1 Axes>"
      ]
     },
     "metadata": {
      "needs_background": "light"
     },
     "output_type": "display_data"
    }
   ],
   "source": [
    "plt.figure(figsize=(12,6))\n",
    "plt.plot(fit.history['loss'], label='Loss', color='darkred')\n",
    "plt.plot(fit.history['val_loss'], label='Val Loss', color='green')\n",
    "plt.legend()\n",
    "plt.ylabel('Loss')\n",
    "plt.show()"
   ]
  },
  {
   "cell_type": "code",
   "execution_count": 50,
   "metadata": {},
   "outputs": [
    {
     "data": {
      "image/png": "[encoded data removed]",
      "text/plain": [
       "<Figure size 864x432 with 1 Axes>"
      ]
     },
     "metadata": {
      "needs_background": "light"
     },
     "output_type": "display_data"
    }
   ],
   "source": [
    "plt.figure(figsize=(12,6))\n",
    "plt.plot(fit.history['accuracy'], label='accuracy', color='darkred')\n",
    "plt.plot(fit.history['val_accuracy'], label='Val accuracy', color='green')\n",
    "plt.legend()\n",
    "plt.ylabel('Accuracy')\n",
    "plt.show()"
   ]
  },
  {
   "cell_type": "code",
   "execution_count": 51,
   "metadata": {},
   "outputs": [
    {
     "name": "stdout",
     "output_type": "stream",
     "text": [
      "109/109 [==============================] - 0s 2ms/step - loss: 2.5297 - accuracy: 0.5723\n"
     ]
    }
   ],
   "source": [
    "acc = model.evaluate(X_test.todense(), one.transform(Y_test.reshape(-1,1)))"
   ]
  },
  {
   "cell_type": "code",
   "execution_count": 89,
   "metadata": {},
   "outputs": [
    {
     "data": {
      "text/plain": [
       "15000"
      ]
     },
     "execution_count": 89,
     "metadata": {},
     "output_type": "execute_result"
    }
   ],
   "source": [
    "vectorize_layer = TextVectorization(\n",
    " max_tokens=15000,\n",
    " output_mode='int',\n",
    " output_sequence_length=len(max(df_all['text'])))\n",
    "\n",
    "vocab = set_array(df_all['text'])\n",
    "\n",
    "vectorize_layer.adapt(np.unique(vocab))\n",
    "len(vectorize_layer.get_vocabulary())\n"
   ]
  },
  {
   "cell_type": "code",
   "execution_count": 106,
   "metadata": {},
   "outputs": [],
   "source": [
    "model = tf.keras.Sequential([\n",
    "    vectorize_layer,\n",
    "    tf.keras.layers.Embedding(\n",
    "        input_dim=len(vectorize_layer.get_vocabulary()),\n",
    "        output_dim=64,mask_zero=True),\n",
    "    \n",
    "    tf.keras.layers.LSTM(50, activation='relu' ,return_sequences=True),\n",
    "    tf.keras.layers.Dropout(0.3),\n",
    "    \n",
    "    tf.keras.layers.LSTM(25 , activation='tanh', return_sequences=True),\n",
    "    tf.keras.layers.Dropout(0.3),\n",
    "    \n",
    "    tf.keras.layers.LSTM(10 , activation='tanh'),\n",
    "    tf.keras.layers.Dropout(0.2),\n",
    "    \n",
    "    tf.keras.layers.Dense(3, activation='softmax')\n",
    "])\n",
    "\n",
    "\n",
    "model.compile(\n",
    "    optimizer= tf.keras.optimizers.Adam(),\n",
    "    loss=tf.keras.losses.categorical_crossentropy,\n",
    "    metrics=['accuracy']\n",
    ")"
   ]
  },
  {
   "cell_type": "code",
   "execution_count": 107,
   "metadata": {},
   "outputs": [],
   "source": [
    "X_train, X_test, Y_train, Y_test = train_test_split(Tweet_preprocessed, polarity, test_size=0.3)"
   ]
  },
  {
   "cell_type": "code",
   "execution_count": 108,
   "metadata": {},
   "outputs": [],
   "source": [
    "y_one = one.fit_transform(Y_train.reshape(-1,1))"
   ]
  },
  {
   "cell_type": "code",
   "execution_count": 109,
   "metadata": {},
   "outputs": [
    {
     "name": "stdout",
     "output_type": "stream",
     "text": [
      "Epoch 1/20\n",
      "64/64 [==============================] - 6s 92ms/step - loss: 1.0744 - accuracy: 0.4555 - val_loss: 1.0398 - val_accuracy: 0.4578\n",
      "Epoch 2/20\n",
      "64/64 [==============================] - 4s 64ms/step - loss: 0.9157 - accuracy: 0.5705 - val_loss: 0.9280 - val_accuracy: 0.5705\n",
      "Epoch 3/20\n",
      "64/64 [==============================] - 4s 62ms/step - loss: 0.6832 - accuracy: 0.7437 - val_loss: 0.9670 - val_accuracy: 0.5873\n",
      "Epoch 4/20\n",
      "64/64 [==============================] - 4s 62ms/step - loss: 0.4938 - accuracy: 0.8354 - val_loss: 1.0623 - val_accuracy: 0.5873\n",
      "Epoch 5/20\n",
      "64/64 [==============================] - 4s 62ms/step - loss: 0.3717 - accuracy: 0.8844 - val_loss: 1.1573 - val_accuracy: 0.5876\n",
      "Epoch 6/20\n",
      "64/64 [==============================] - 4s 63ms/step - loss: 0.2883 - accuracy: 0.9168 - val_loss: 1.2975 - val_accuracy: 0.5821\n",
      "Epoch 7/20\n",
      "64/64 [==============================] - 4s 63ms/step - loss: 0.2356 - accuracy: 0.9334 - val_loss: 1.4108 - val_accuracy: 0.5801\n",
      "Epoch 8/20\n",
      "64/64 [==============================] - 4s 63ms/step - loss: 0.2092 - accuracy: 0.9404 - val_loss: 1.4097 - val_accuracy: 0.5821\n",
      "Epoch 9/20\n",
      "64/64 [==============================] - 4s 63ms/step - loss: 0.1886 - accuracy: 0.9485 - val_loss: 1.5325 - val_accuracy: 0.5682\n",
      "Epoch 10/20\n",
      "64/64 [==============================] - 4s 64ms/step - loss: 0.1679 - accuracy: 0.9524 - val_loss: 1.6187 - val_accuracy: 0.5616\n",
      "Epoch 11/20\n",
      "64/64 [==============================] - 4s 66ms/step - loss: 0.1449 - accuracy: 0.9597 - val_loss: 1.6556 - val_accuracy: 0.5618\n",
      "Epoch 12/20\n",
      "64/64 [==============================] - 4s 63ms/step - loss: 0.1411 - accuracy: 0.9610 - val_loss: 1.6967 - val_accuracy: 0.5775\n",
      "Epoch 13/20\n",
      "64/64 [==============================] - 4s 64ms/step - loss: 0.1207 - accuracy: 0.9657 - val_loss: 1.7421 - val_accuracy: 0.5749\n",
      "Epoch 14/20\n",
      "64/64 [==============================] - 4s 64ms/step - loss: 0.1123 - accuracy: 0.9697 - val_loss: 1.8284 - val_accuracy: 0.5798\n",
      "Epoch 15/20\n",
      "64/64 [==============================] - 4s 65ms/step - loss: 0.1076 - accuracy: 0.9700 - val_loss: 1.8637 - val_accuracy: 0.5685\n",
      "Epoch 16/20\n",
      "64/64 [==============================] - 4s 65ms/step - loss: 0.0999 - accuracy: 0.9716 - val_loss: 1.9561 - val_accuracy: 0.5642\n",
      "Epoch 17/20\n",
      "64/64 [==============================] - 4s 65ms/step - loss: 0.0967 - accuracy: 0.9741 - val_loss: 1.9363 - val_accuracy: 0.5737\n",
      "Epoch 18/20\n",
      "64/64 [==============================] - 4s 65ms/step - loss: 0.0973 - accuracy: 0.9731 - val_loss: 2.0187 - val_accuracy: 0.5691\n",
      "Epoch 19/20\n",
      "64/64 [==============================] - 4s 67ms/step - loss: 0.0949 - accuracy: 0.9740 - val_loss: 2.0165 - val_accuracy: 0.5665\n",
      "Epoch 20/20\n",
      "64/64 [==============================] - 4s 65ms/step - loss: 0.0992 - accuracy: 0.9735 - val_loss: 2.0269 - val_accuracy: 0.5702\n"
     ]
    }
   ],
   "source": [
    "fit = model.fit(np.asarray(pre_X(X_train)), y_one, epochs=20, batch_size=128 ,validation_data=(np.asarray(pre_X(X_test)), one.transform(Y_test.reshape(-1,1))))"
   ]
  },
  {
   "cell_type": "code",
   "execution_count": 110,
   "metadata": {},
   "outputs": [
    {
     "data": {
      "image/png": "[encoded data removed]",
      "text/plain": [
       "<Figure size 864x432 with 1 Axes>"
      ]
     },
     "metadata": {
      "needs_background": "light"
     },
     "output_type": "display_data"
    }
   ],
   "source": [
    "plt.figure(figsize=(12,6))\n",
    "plt.plot(fit.history['loss'], label='Loss', color='darkred')\n",
    "plt.plot(fit.history['val_loss'], label='Val Loss', color='green')\n",
    "plt.legend()\n",
    "plt.grid()\n",
    "plt.ylabel('Loss')\n",
    "plt.show()"
   ]
  },
  {
   "cell_type": "code",
   "execution_count": 111,
   "metadata": {},
   "outputs": [
    {
     "data": {
      "image/png": "[encoded data removed]",
      "text/plain": [
       "<Figure size 864x432 with 1 Axes>"
      ]
     },
     "metadata": {
      "needs_background": "light"
     },
     "output_type": "display_data"
    }
   ],
   "source": [
    "plt.figure(figsize=(12,6))\n",
    "plt.plot(fit.history['accuracy'], label='accuracy', color='darkred')\n",
    "plt.plot(fit.history['val_accuracy'], label='Val accuracy', color='green')\n",
    "plt.legend()\n",
    "plt.grid()\n",
    "plt.ylabel('Accuracy')\n",
    "plt.show()"
   ]
  },
  {
   "cell_type": "code",
   "execution_count": 112,
   "metadata": {},
   "outputs": [
    {
     "name": "stdout",
     "output_type": "stream",
     "text": [
      "109/109 [==============================] - 1s 8ms/step - loss: 2.0269 - accuracy: 0.5702\n"
     ]
    }
   ],
   "source": [
    "acc = model.evaluate(np.asarray(pre_X(X_test)), one.transform(Y_test.reshape(-1,1)))"
   ]
  },
  {
   "cell_type": "code",
   "execution_count": null,
   "metadata": {},
   "outputs": [],
   "source": []
  }
 ],
 "metadata": {
  "kernelspec": {
   "display_name": "Python 3",
   "language": "python",
   "name": "python3"
  },
  "language_info": {
   "codemirror_mode": {
    "name": "ipython",
    "version": 3
   },
   "file_extension": ".py",
   "mimetype": "text/x-python",
   "name": "python",
   "nbconvert_exporter": "python",
   "pygments_lexer": "ipython3",
   "version": "3.7.9"
  }
 },
 "nbformat": 4,
 "nbformat_minor": 2
}
