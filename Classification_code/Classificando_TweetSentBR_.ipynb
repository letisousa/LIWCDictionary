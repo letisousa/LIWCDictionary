{
 "cells": [
  {
   "cell_type": "code",
   "execution_count": 5,
   "metadata": {},
   "outputs": [
    {
     "name": "stderr",
     "output_type": "stream",
     "text": [
      "[nltk_data] Downloading package stopwords to\n",
      "[nltk_data]     C:\\Users\\ddayv\\AppData\\Roaming\\nltk_data...\n",
      "[nltk_data]   Package stopwords is already up-to-date!\n",
      "[nltk_data] Downloading package wordnet to\n",
      "[nltk_data]     C:\\Users\\ddayv\\AppData\\Roaming\\nltk_data...\n",
      "[nltk_data]   Package wordnet is already up-to-date!\n"
     ]
    },
    {
     "data": {
      "text/plain": [
       "True"
      ]
     },
     "execution_count": 5,
     "metadata": {},
     "output_type": "execute_result"
    }
   ],
   "source": [
    "import pandas as pd\n",
    "import numpy as np\n",
    "from sklearn.feature_extraction.text import CountVectorizer\n",
    "from sklearn.feature_extraction.text import TfidfTransformer\n",
    "from sklearn.naive_bayes import MultinomialNB\n",
    "from sklearn.model_selection import train_test_split\n",
    "from sklearn import metrics\n",
    "import seaborn as sns\n",
    "import re\n",
    "\n",
    "import tensorflow as tf\n",
    "from tensorflow.keras.layers.experimental.preprocessing import TextVectorization\n",
    "from nltk import word_tokenize, RegexpTokenizer\n",
    "from nltk.corpus import stopwords, wordnet\n",
    "from sklearn.preprocessing import OneHotEncoder\n",
    "import matplotlib.pyplot as plt\n",
    "import autokeras as ak\n",
    "from sklearn.model_selection import KFold\n",
    "import pydot\n",
    "import nltk\n",
    "import graphviz\n",
    "nltk.download('stopwords')\n",
    "nltk.download('wordnet')"
   ]
  },
  {
   "cell_type": "code",
   "execution_count": 3,
   "metadata": {},
   "outputs": [
    {
     "data": {
      "text/plain": [
       "(11570, 4)"
      ]
     },
     "execution_count": 3,
     "metadata": {},
     "output_type": "execute_result"
    }
   ],
   "source": [
    "df_all = pd.read_csv(\"export_TweetSentBR.csv\")\n",
    "df_all.shape"
   ]
  },
  {
   "cell_type": "code",
   "execution_count": 4,
   "metadata": {},
   "outputs": [
    {
     "data": {
      "text/html": [
       "<div>\n",
       "<style scoped>\n",
       "    .dataframe tbody tr th:only-of-type {\n",
       "        vertical-align: middle;\n",
       "    }\n",
       "\n",
       "    .dataframe tbody tr th {\n",
       "        vertical-align: top;\n",
       "    }\n",
       "\n",
       "    .dataframe thead th {\n",
       "        text-align: right;\n",
       "    }\n",
       "</style>\n",
       "<table border=\"1\" class=\"dataframe\">\n",
       "  <thead>\n",
       "    <tr style=\"text-align: right;\">\n",
       "      <th></th>\n",
       "      <th>id</th>\n",
       "      <th>id_twitter</th>\n",
       "      <th>text</th>\n",
       "      <th>sentiment</th>\n",
       "    </tr>\n",
       "  </thead>\n",
       "  <tbody>\n",
       "    <tr>\n",
       "      <th>0</th>\n",
       "      <td>1343</td>\n",
       "      <td>863044774588272640</td>\n",
       "      <td>Que coisa linda! O Programa #encontro estava m...</td>\n",
       "      <td>1</td>\n",
       "    </tr>\n",
       "    <tr>\n",
       "      <th>1</th>\n",
       "      <td>1344</td>\n",
       "      <td>865583716088766467</td>\n",
       "      <td>Por mais #Encontro com as Irmãs Galvão, adorei...</td>\n",
       "      <td>1</td>\n",
       "    </tr>\n",
       "    <tr>\n",
       "      <th>2</th>\n",
       "      <td>1345</td>\n",
       "      <td>865063232201011201</td>\n",
       "      <td>Mr. CATRA @OficialMrCatra lançando sua nova mú...</td>\n",
       "      <td>1</td>\n",
       "    </tr>\n",
       "    <tr>\n",
       "      <th>3</th>\n",
       "      <td>1346</td>\n",
       "      <td>864668391008763905</td>\n",
       "      <td>quem viu aquela lutadora modela barbuda tatuad...</td>\n",
       "      <td>0</td>\n",
       "    </tr>\n",
       "    <tr>\n",
       "      <th>4</th>\n",
       "      <td>1347</td>\n",
       "      <td>865572794016378882</td>\n",
       "      <td>Tô passada com esse cara.... quanta merda pode...</td>\n",
       "      <td>-1</td>\n",
       "    </tr>\n",
       "  </tbody>\n",
       "</table>\n",
       "</div>"
      ],
      "text/plain": [
       "     id          id_twitter  \\\n",
       "0  1343  863044774588272640   \n",
       "1  1344  865583716088766467   \n",
       "2  1345  865063232201011201   \n",
       "3  1346  864668391008763905   \n",
       "4  1347  865572794016378882   \n",
       "\n",
       "                                                text sentiment  \n",
       "0  Que coisa linda! O Programa #encontro estava m...         1  \n",
       "1  Por mais #Encontro com as Irmãs Galvão, adorei...         1  \n",
       "2  Mr. CATRA @OficialMrCatra lançando sua nova mú...         1  \n",
       "3  quem viu aquela lutadora modela barbuda tatuad...         0  \n",
       "4  Tô passada com esse cara.... quanta merda pode...        -1  "
      ]
     },
     "execution_count": 4,
     "metadata": {},
     "output_type": "execute_result"
    }
   ],
   "source": [
    "df_all.head()"
   ]
  },
  {
   "cell_type": "code",
   "execution_count": 5,
   "metadata": {},
   "outputs": [
    {
     "data": {
      "text/plain": [
       "37"
      ]
     },
     "execution_count": 5,
     "metadata": {},
     "output_type": "execute_result"
    }
   ],
   "source": [
    "len(df_all[df_all[\"sentiment\"] == \"-\"]['text'])"
   ]
  },
  {
   "cell_type": "code",
   "execution_count": 6,
   "metadata": {},
   "outputs": [],
   "source": [
    "df_remove = df_all[df_all['sentiment'] == '-']\n",
    "df_all = df_all.drop(df_remove.index)"
   ]
  },
  {
   "cell_type": "code",
   "execution_count": 7,
   "metadata": {},
   "outputs": [
    {
     "data": {
      "text/plain": [
       "id            0\n",
       "id_twitter    0\n",
       "text          0\n",
       "sentiment     0\n",
       "dtype: int64"
      ]
     },
     "execution_count": 7,
     "metadata": {},
     "output_type": "execute_result"
    }
   ],
   "source": [
    "df_all.isnull().sum()"
   ]
  },
  {
   "cell_type": "code",
   "execution_count": 8,
   "metadata": {},
   "outputs": [
    {
     "data": {
      "image/png": "[encoded data removed]",
      "text/plain": [
       "<Figure size 432x288 with 1 Axes>"
      ]
     },
     "metadata": {
      "needs_background": "light"
     },
     "output_type": "display_data"
    }
   ],
   "source": [
    "df_all = df_all.dropna()\n",
    "sns.countplot(data=df_all, x='sentiment')\n",
    "plt.grid()"
   ]
  },
  {
   "cell_type": "code",
   "execution_count": 9,
   "metadata": {},
   "outputs": [
    {
     "data": {
      "text/html": [
       "<div>\n",
       "<style scoped>\n",
       "    .dataframe tbody tr th:only-of-type {\n",
       "        vertical-align: middle;\n",
       "    }\n",
       "\n",
       "    .dataframe tbody tr th {\n",
       "        vertical-align: top;\n",
       "    }\n",
       "\n",
       "    .dataframe thead th {\n",
       "        text-align: right;\n",
       "    }\n",
       "</style>\n",
       "<table border=\"1\" class=\"dataframe\">\n",
       "  <thead>\n",
       "    <tr style=\"text-align: right;\">\n",
       "      <th></th>\n",
       "      <th>index</th>\n",
       "      <th>id</th>\n",
       "      <th>id_twitter</th>\n",
       "      <th>text</th>\n",
       "      <th>sentiment</th>\n",
       "    </tr>\n",
       "  </thead>\n",
       "  <tbody>\n",
       "    <tr>\n",
       "      <th>0</th>\n",
       "      <td>0</td>\n",
       "      <td>1343</td>\n",
       "      <td>863044774588272640</td>\n",
       "      <td>Que coisa linda! O Programa #encontro estava m...</td>\n",
       "      <td>1</td>\n",
       "    </tr>\n",
       "    <tr>\n",
       "      <th>1</th>\n",
       "      <td>1</td>\n",
       "      <td>1344</td>\n",
       "      <td>865583716088766467</td>\n",
       "      <td>Por mais #Encontro com as Irmãs Galvão, adorei...</td>\n",
       "      <td>1</td>\n",
       "    </tr>\n",
       "    <tr>\n",
       "      <th>2</th>\n",
       "      <td>2</td>\n",
       "      <td>1345</td>\n",
       "      <td>865063232201011201</td>\n",
       "      <td>Mr. CATRA @OficialMrCatra lançando sua nova mú...</td>\n",
       "      <td>1</td>\n",
       "    </tr>\n",
       "    <tr>\n",
       "      <th>3</th>\n",
       "      <td>3</td>\n",
       "      <td>1346</td>\n",
       "      <td>864668391008763905</td>\n",
       "      <td>quem viu aquela lutadora modela barbuda tatuad...</td>\n",
       "      <td>0</td>\n",
       "    </tr>\n",
       "    <tr>\n",
       "      <th>4</th>\n",
       "      <td>4</td>\n",
       "      <td>1347</td>\n",
       "      <td>865572794016378882</td>\n",
       "      <td>Tô passada com esse cara.... quanta merda pode...</td>\n",
       "      <td>-1</td>\n",
       "    </tr>\n",
       "    <tr>\n",
       "      <th>...</th>\n",
       "      <td>...</td>\n",
       "      <td>...</td>\n",
       "      <td>...</td>\n",
       "      <td>...</td>\n",
       "      <td>...</td>\n",
       "    </tr>\n",
       "    <tr>\n",
       "      <th>11528</th>\n",
       "      <td>11565</td>\n",
       "      <td>12908</td>\n",
       "      <td>864636619000877056</td>\n",
       "      <td>eu ja to aqui pronto pro #MasterChefBR mas ain...</td>\n",
       "      <td>-1</td>\n",
       "    </tr>\n",
       "    <tr>\n",
       "      <th>11529</th>\n",
       "      <td>11566</td>\n",
       "      <td>12909</td>\n",
       "      <td>863581588713603072</td>\n",
       "      <td>MALUCO! Uma coisa que eu não tenho coragem é e...</td>\n",
       "      <td>-1</td>\n",
       "    </tr>\n",
       "    <tr>\n",
       "      <th>11530</th>\n",
       "      <td>11567</td>\n",
       "      <td>12910</td>\n",
       "      <td>864831041349054464</td>\n",
       "      <td>#MaisVoce @ANAMARIABRAGA  está linda @RedeGlobo</td>\n",
       "      <td>1</td>\n",
       "    </tr>\n",
       "    <tr>\n",
       "      <th>11531</th>\n",
       "      <td>11568</td>\n",
       "      <td>12911</td>\n",
       "      <td>863042798575951872</td>\n",
       "      <td>Que orgulho de ti, @sportrecife! #Encontro</td>\n",
       "      <td>1</td>\n",
       "    </tr>\n",
       "    <tr>\n",
       "      <th>11532</th>\n",
       "      <td>11569</td>\n",
       "      <td>12912</td>\n",
       "      <td>864681041541386240</td>\n",
       "      <td>Gente olha o bíceps desse padre #ConversaComBial</td>\n",
       "      <td>1</td>\n",
       "    </tr>\n",
       "  </tbody>\n",
       "</table>\n",
       "<p>11533 rows × 5 columns</p>\n",
       "</div>"
      ],
      "text/plain": [
       "       index     id          id_twitter  \\\n",
       "0          0   1343  863044774588272640   \n",
       "1          1   1344  865583716088766467   \n",
       "2          2   1345  865063232201011201   \n",
       "3          3   1346  864668391008763905   \n",
       "4          4   1347  865572794016378882   \n",
       "...      ...    ...                 ...   \n",
       "11528  11565  12908  864636619000877056   \n",
       "11529  11566  12909  863581588713603072   \n",
       "11530  11567  12910  864831041349054464   \n",
       "11531  11568  12911  863042798575951872   \n",
       "11532  11569  12912  864681041541386240   \n",
       "\n",
       "                                                    text sentiment  \n",
       "0      Que coisa linda! O Programa #encontro estava m...         1  \n",
       "1      Por mais #Encontro com as Irmãs Galvão, adorei...         1  \n",
       "2      Mr. CATRA @OficialMrCatra lançando sua nova mú...         1  \n",
       "3      quem viu aquela lutadora modela barbuda tatuad...         0  \n",
       "4      Tô passada com esse cara.... quanta merda pode...        -1  \n",
       "...                                                  ...       ...  \n",
       "11528  eu ja to aqui pronto pro #MasterChefBR mas ain...        -1  \n",
       "11529  MALUCO! Uma coisa que eu não tenho coragem é e...        -1  \n",
       "11530    #MaisVoce @ANAMARIABRAGA  está linda @RedeGlobo         1  \n",
       "11531         Que orgulho de ti, @sportrecife! #Encontro         1  \n",
       "11532   Gente olha o bíceps desse padre #ConversaComBial         1  \n",
       "\n",
       "[11533 rows x 5 columns]"
      ]
     },
     "execution_count": 9,
     "metadata": {},
     "output_type": "execute_result"
    }
   ],
   "source": [
    "df_all = df_all.reset_index()\n",
    "df_all"
   ]
  },
  {
   "cell_type": "code",
   "execution_count": 10,
   "metadata": {},
   "outputs": [
    {
     "data": {
      "text/plain": [
       "array(['1', '0', '-1'], dtype=object)"
      ]
     },
     "execution_count": 10,
     "metadata": {},
     "output_type": "execute_result"
    }
   ],
   "source": [
    "df_all = df_all.drop(columns=['index'])\n",
    "df_all['sentiment'].unique()"
   ]
  },
  {
   "cell_type": "code",
   "execution_count": 11,
   "metadata": {},
   "outputs": [],
   "source": [
    "df_all['sentiment'] = df_all['sentiment'].apply(lambda x: int(x))"
   ]
  },
  {
   "cell_type": "code",
   "execution_count": 12,
   "metadata": {},
   "outputs": [
    {
     "data": {
      "text/plain": [
       "array([-1,  0,  1], dtype=int64)"
      ]
     },
     "execution_count": 12,
     "metadata": {},
     "output_type": "execute_result"
    }
   ],
   "source": [
    "Tweet = df_all['text']\n",
    "polarity = np.asarray(df_all['sentiment'])\n",
    "\n",
    "np.unique(polarity)"
   ]
  },
  {
   "cell_type": "code",
   "execution_count": 13,
   "metadata": {},
   "outputs": [
    {
     "data": {
      "text/plain": [
       "(11533, 13064)"
      ]
     },
     "execution_count": 13,
     "metadata": {},
     "output_type": "execute_result"
    }
   ],
   "source": [
    "count_vect = CountVectorizer()\n",
    "X_train = count_vect.fit_transform(Tweet)\n",
    "\n",
    "tfidf_transformer = TfidfTransformer()\n",
    "X_train_transform = tfidf_transformer.fit_transform(X_train) # Aplicando o TF-IDF\n",
    "X_train_transform.shape"
   ]
  },
  {
   "cell_type": "code",
   "execution_count": 14,
   "metadata": {},
   "outputs": [
    {
     "name": "stdout",
     "output_type": "stream",
     "text": [
      "              precision    recall  f1-score   support\n",
      "\n",
      "          -1       0.66      0.49      0.56      1017\n",
      "           0       0.79      0.12      0.21       908\n",
      "           1       0.56      0.94      0.70      1535\n",
      "\n",
      "    accuracy                           0.59      3460\n",
      "   macro avg       0.67      0.52      0.49      3460\n",
      "weighted avg       0.65      0.59      0.53      3460\n",
      "\n"
     ]
    }
   ],
   "source": [
    "X_train, X_test, Y_train, Y_test = train_test_split(X_train_transform, polarity, test_size=0.3)\n",
    "\n",
    "clf = MultinomialNB().fit(X_train, Y_train) # Aplicando naive bayes\n",
    "predicted = clf.predict(X_test)\n",
    "\n",
    "print(metrics.classification_report(Y_test, predicted))"
   ]
  },
  {
   "cell_type": "code",
   "execution_count": 15,
   "metadata": {},
   "outputs": [],
   "source": [
    "def pre_X(frases):\n",
    "    lista = []\n",
    "    \n",
    "    for frase in frases:\n",
    "        lista.append(frase)\n",
    "        \n",
    "    return lista\n",
    "\n",
    "def pre_Y(number):\n",
    "    lista = []\n",
    "    \n",
    "    for numb in number:\n",
    "        lista.append(numb)\n",
    "    \n",
    "    return lista\n"
   ]
  },
  {
   "cell_type": "code",
   "execution_count": 16,
   "metadata": {},
   "outputs": [],
   "source": [
    "def set_array(frases):\n",
    "    \n",
    "    vocab = []\n",
    "    palavras = []\n",
    "    for frase in frases:\n",
    "        \n",
    "        text_array = remove_user(frase)\n",
    "        text_array = Tokenize(text_array)\n",
    "        text_array = text_array.split(' ')\n",
    "        for i in range(len(text_array)):\n",
    "            vocab.append(text_array[i])\n",
    "    \n",
    "    \n",
    "        \n",
    "    return vocab\n",
    "\n",
    "def Tokenize(f):     ## Pre-processando a frase\n",
    "    \n",
    "    ## Colocando em minusculo\n",
    "    ## Retirando a pontuaçao\n",
    "    ## Retirando as StopWords\n",
    "    \n",
    "    f = f.lower().replace('\\n', '').replace('-','').replace('#','').replace('.','').replace(',','').replace('!','').replace('r\\n','').replace('  ','')\n",
    "    token = RegexpTokenizer(r\"\\w+\")\n",
    "    f = token.tokenize(f)\n",
    "    \n",
    "    stop_words = set(stopwords.words('portuguese'))\n",
    "    \n",
    "    new_word = [word for word in f if not word in stop_words]\n",
    "    \n",
    "    return ' '.join(new_word)\n",
    "\n",
    "def remove_user(frase):\n",
    "\n",
    "    return re.sub('@\\w+','',frase)"
   ]
  },
  {
   "cell_type": "code",
   "execution_count": 6,
   "metadata": {},
   "outputs": [],
   "source": [
    "model = tf.keras.Sequential([\n",
    "    tf.keras.layers.Dense(50, activation='relu'),\n",
    "    tf.keras.layers.Dropout(0.3),\n",
    "    tf.keras.layers.Dense(25, activation='relu'),\n",
    "    tf.keras.layers.Dropout(0.3),\n",
    "    tf.keras.layers.Dense(10, activation='tanh'),\n",
    "    tf.keras.layers.Dropout(0.2),\n",
    "    tf.keras.layers.Dense(3 , activation='softmax')\n",
    "])\n",
    "\n",
    "model.compile(\n",
    "    optimizer='adam',\n",
    "    loss=tf.keras.losses.categorical_crossentropy,\n",
    "    metrics=['accuracy']\n",
    ")"
   ]
  },
  {
   "cell_type": "code",
   "execution_count": 7,
   "metadata": {},
   "outputs": [
    {
     "name": "stdout",
     "output_type": "stream",
     "text": [
      "('Failed to import pydot. You must `pip install pydot` and install graphviz (https://graphviz.gitlab.io/download/), ', 'for `pydotprint` to work.')\n"
     ]
    }
   ],
   "source": [
    "from keras.utils import plot_model\n",
    "plot_model(model, to_file='model.png')"
   ]
  },
  {
   "cell_type": "code",
   "execution_count": 17,
   "metadata": {},
   "outputs": [],
   "source": [
    "Tweet = Tweet.apply(remove_user)\n",
    "Tweet_preprocessed = Tweet.apply(Tokenize)"
   ]
  },
  {
   "cell_type": "code",
   "execution_count": 18,
   "metadata": {},
   "outputs": [
    {
     "data": {
      "text/plain": [
       "<8073x15346 sparse matrix of type '<class 'numpy.float64'>'\n",
       "\twith 56302 stored elements in Compressed Sparse Row format>"
      ]
     },
     "execution_count": 18,
     "metadata": {},
     "output_type": "execute_result"
    }
   ],
   "source": [
    "count_vect = CountVectorizer()\n",
    "X_train = count_vect.fit_transform(Tweet_preprocessed)\n",
    "\n",
    "tfidf_transformer = TfidfTransformer()\n",
    "X_train_transform = tfidf_transformer.fit_transform(X_train) # Aplicando o TF-IDF\n",
    "\n",
    "\n",
    "X_train, X_test, Y_train, Y_test = train_test_split(X_train_transform, polarity, test_size=0.3)\n",
    "\n",
    "X_train"
   ]
  },
  {
   "cell_type": "code",
   "execution_count": 19,
   "metadata": {},
   "outputs": [
    {
     "data": {
      "text/plain": [
       "<3460x15346 sparse matrix of type '<class 'numpy.float64'>'\n",
       "\twith 24071 stored elements in Compressed Sparse Row format>"
      ]
     },
     "execution_count": 19,
     "metadata": {},
     "output_type": "execute_result"
    }
   ],
   "source": [
    "X_test"
   ]
  },
  {
   "cell_type": "code",
   "execution_count": 20,
   "metadata": {},
   "outputs": [],
   "source": [
    "one = OneHotEncoder(sparse=False)"
   ]
  },
  {
   "cell_type": "code",
   "execution_count": 21,
   "metadata": {},
   "outputs": [],
   "source": [
    "y_one = one.fit_transform(Y_train.reshape(-1,1))"
   ]
  },
  {
   "cell_type": "code",
   "execution_count": 61,
   "metadata": {},
   "outputs": [
    {
     "name": "stdout",
     "output_type": "stream",
     "text": [
      "Epoch 1/25\n",
      "253/253 [==============================] - 2s 7ms/step - loss: 1.0062 - accuracy: 0.4968 - val_loss: 0.8816 - val_accuracy: 0.5908\n",
      "Epoch 2/25\n",
      "253/253 [==============================] - 1s 6ms/step - loss: 0.7231 - accuracy: 0.6986 - val_loss: 0.8610 - val_accuracy: 0.6104\n",
      "Epoch 3/25\n",
      "253/253 [==============================] - 2s 6ms/step - loss: 0.4383 - accuracy: 0.8462 - val_loss: 0.9735 - val_accuracy: 0.6061\n",
      "Epoch 4/25\n",
      "253/253 [==============================] - 1s 6ms/step - loss: 0.2621 - accuracy: 0.9184 - val_loss: 1.1817 - val_accuracy: 0.6040\n",
      "Epoch 5/25\n",
      "253/253 [==============================] - 1s 6ms/step - loss: 0.1778 - accuracy: 0.9462 - val_loss: 1.3092 - val_accuracy: 0.5960\n",
      "Epoch 6/25\n",
      "253/253 [==============================] - 1s 6ms/step - loss: 0.1212 - accuracy: 0.9641 - val_loss: 1.4796 - val_accuracy: 0.5960\n",
      "Epoch 7/25\n",
      "253/253 [==============================] - 1s 6ms/step - loss: 0.0960 - accuracy: 0.9729 - val_loss: 1.5960 - val_accuracy: 0.5832\n",
      "Epoch 8/25\n",
      "253/253 [==============================] - 1s 6ms/step - loss: 0.0703 - accuracy: 0.9797 - val_loss: 1.7441 - val_accuracy: 0.5853\n",
      "Epoch 9/25\n",
      "253/253 [==============================] - 1s 6ms/step - loss: 0.0657 - accuracy: 0.9801 - val_loss: 1.8046 - val_accuracy: 0.5835\n",
      "Epoch 10/25\n",
      "253/253 [==============================] - 1s 5ms/step - loss: 0.0579 - accuracy: 0.9849 - val_loss: 1.8940 - val_accuracy: 0.5861\n",
      "Epoch 11/25\n",
      "253/253 [==============================] - 1s 6ms/step - loss: 0.0534 - accuracy: 0.9859 - val_loss: 1.9733 - val_accuracy: 0.5876\n",
      "Epoch 12/25\n",
      "253/253 [==============================] - 1s 6ms/step - loss: 0.0535 - accuracy: 0.9844 - val_loss: 1.9613 - val_accuracy: 0.5780\n",
      "Epoch 13/25\n",
      "253/253 [==============================] - 2s 6ms/step - loss: 0.0481 - accuracy: 0.9867 - val_loss: 1.9858 - val_accuracy: 0.5775\n",
      "Epoch 14/25\n",
      "253/253 [==============================] - 2s 6ms/step - loss: 0.0407 - accuracy: 0.9885 - val_loss: 2.0955 - val_accuracy: 0.5754\n",
      "Epoch 15/25\n",
      "253/253 [==============================] - 1s 6ms/step - loss: 0.0412 - accuracy: 0.9882 - val_loss: 2.1003 - val_accuracy: 0.5763\n",
      "Epoch 16/25\n",
      "253/253 [==============================] - 2s 6ms/step - loss: 0.0376 - accuracy: 0.9882 - val_loss: 2.1596 - val_accuracy: 0.5740\n",
      "Epoch 17/25\n",
      "253/253 [==============================] - 1s 6ms/step - loss: 0.0337 - accuracy: 0.9895 - val_loss: 2.2534 - val_accuracy: 0.5743\n",
      "Epoch 18/25\n",
      "253/253 [==============================] - 1s 6ms/step - loss: 0.0331 - accuracy: 0.9889 - val_loss: 2.2680 - val_accuracy: 0.5775\n",
      "Epoch 19/25\n",
      "253/253 [==============================] - 1s 6ms/step - loss: 0.0346 - accuracy: 0.9884 - val_loss: 2.3453 - val_accuracy: 0.5809\n",
      "Epoch 20/25\n",
      "253/253 [==============================] - 1s 6ms/step - loss: 0.0312 - accuracy: 0.9905 - val_loss: 2.3504 - val_accuracy: 0.5772\n",
      "Epoch 21/25\n",
      "253/253 [==============================] - 1s 6ms/step - loss: 0.0303 - accuracy: 0.9886 - val_loss: 2.3794 - val_accuracy: 0.5757\n",
      "Epoch 22/25\n",
      "253/253 [==============================] - 1s 6ms/step - loss: 0.0296 - accuracy: 0.9907 - val_loss: 2.4670 - val_accuracy: 0.5734\n",
      "Epoch 23/25\n",
      "253/253 [==============================] - 1s 6ms/step - loss: 0.0277 - accuracy: 0.9911 - val_loss: 2.4285 - val_accuracy: 0.5728\n",
      "Epoch 24/25\n",
      "253/253 [==============================] - 1s 6ms/step - loss: 0.0234 - accuracy: 0.9927 - val_loss: 2.5620 - val_accuracy: 0.5749\n",
      "Epoch 25/25\n",
      "253/253 [==============================] - 1s 6ms/step - loss: 0.0246 - accuracy: 0.9915 - val_loss: 2.5528 - val_accuracy: 0.5780\n"
     ]
    }
   ],
   "source": [
    "fit = model.fit(X_train.todense(), y_one, epochs=25, validation_data=(X_test.todense(), one.transform(Y_test.reshape(-1,1))))"
   ]
  },
  {
   "cell_type": "code",
   "execution_count": 22,
   "metadata": {},
   "outputs": [
    {
     "name": "stdout",
     "output_type": "stream",
     "text": [
      "Iter:  1\n",
      " \n",
      "Epoch 1/5\n",
      "325/325 [==============================] - 2s 6ms/step - loss: 0.9917 - accuracy: 0.5049 - val_loss: 0.8321 - val_accuracy: 0.6213\n",
      "Epoch 2/5\n",
      "325/325 [==============================] - 2s 6ms/step - loss: 0.7064 - accuracy: 0.7009 - val_loss: 0.8157 - val_accuracy: 0.6187\n",
      "Epoch 3/5\n",
      "325/325 [==============================] - 2s 6ms/step - loss: 0.4408 - accuracy: 0.8429 - val_loss: 0.9405 - val_accuracy: 0.6092\n",
      "Epoch 4/5\n",
      "325/325 [==============================] - 2s 5ms/step - loss: 0.2783 - accuracy: 0.9125 - val_loss: 1.1053 - val_accuracy: 0.6014\n",
      "Epoch 5/5\n",
      "325/325 [==============================] - 2s 5ms/step - loss: 0.1870 - accuracy: 0.9412 - val_loss: 1.2545 - val_accuracy: 0.5893\n",
      " \n",
      "Iter:  2\n",
      " \n",
      "Epoch 1/5\n",
      "325/325 [==============================] - 2s 5ms/step - loss: 0.9803 - accuracy: 0.5199 - val_loss: 0.8220 - val_accuracy: 0.6334\n",
      "Epoch 2/5\n",
      "325/325 [==============================] - 2s 5ms/step - loss: 0.6769 - accuracy: 0.7332 - val_loss: 0.8382 - val_accuracy: 0.6326\n",
      "Epoch 3/5\n",
      "325/325 [==============================] - 2s 5ms/step - loss: 0.4218 - accuracy: 0.8563 - val_loss: 0.9959 - val_accuracy: 0.5919\n",
      "Epoch 4/5\n",
      "325/325 [==============================] - 2s 5ms/step - loss: 0.2639 - accuracy: 0.9140 - val_loss: 1.1369 - val_accuracy: 0.6005\n",
      "Epoch 5/5\n",
      "325/325 [==============================] - 2s 5ms/step - loss: 0.1803 - accuracy: 0.9434 - val_loss: 1.3266 - val_accuracy: 0.5919\n",
      " \n",
      "Iter:  3\n",
      " \n",
      "Epoch 1/5\n",
      "325/325 [==============================] - 2s 6ms/step - loss: 0.9810 - accuracy: 0.5108 - val_loss: 0.8446 - val_accuracy: 0.6118\n",
      "Epoch 2/5\n",
      "325/325 [==============================] - 2s 5ms/step - loss: 0.7005 - accuracy: 0.7164 - val_loss: 0.8097 - val_accuracy: 0.6274\n",
      "Epoch 3/5\n",
      "325/325 [==============================] - 2s 5ms/step - loss: 0.4466 - accuracy: 0.8439 - val_loss: 0.9108 - val_accuracy: 0.6291\n",
      "Epoch 4/5\n",
      "325/325 [==============================] - 2s 5ms/step - loss: 0.2774 - accuracy: 0.9149 - val_loss: 1.0515 - val_accuracy: 0.6127\n",
      "Epoch 5/5\n",
      "325/325 [==============================] - 2s 5ms/step - loss: 0.1930 - accuracy: 0.9401 - val_loss: 1.1666 - val_accuracy: 0.6135\n",
      " \n",
      "Iter:  4\n",
      " \n",
      "Epoch 1/5\n",
      "325/325 [==============================] - 2s 6ms/step - loss: 0.9809 - accuracy: 0.5214 - val_loss: 0.8610 - val_accuracy: 0.6184\n",
      "Epoch 2/5\n",
      "325/325 [==============================] - 2s 5ms/step - loss: 0.7089 - accuracy: 0.7066 - val_loss: 0.8267 - val_accuracy: 0.6383\n",
      "Epoch 3/5\n",
      "325/325 [==============================] - 2s 5ms/step - loss: 0.4369 - accuracy: 0.8446 - val_loss: 0.9537 - val_accuracy: 0.6193\n",
      "Epoch 4/5\n",
      "325/325 [==============================] - 2s 5ms/step - loss: 0.2653 - accuracy: 0.9151 - val_loss: 1.1076 - val_accuracy: 0.6219\n",
      "Epoch 5/5\n",
      "325/325 [==============================] - 2s 5ms/step - loss: 0.1888 - accuracy: 0.9427 - val_loss: 1.2279 - val_accuracy: 0.6036\n",
      " \n",
      "Iter:  5\n",
      " \n",
      "Epoch 1/5\n",
      "325/325 [==============================] - 2s 6ms/step - loss: 0.9828 - accuracy: 0.5149 - val_loss: 0.8983 - val_accuracy: 0.5429\n",
      "Epoch 2/5\n",
      "325/325 [==============================] - 2s 5ms/step - loss: 0.6938 - accuracy: 0.7160 - val_loss: 0.8645 - val_accuracy: 0.6010\n",
      "Epoch 3/5\n",
      "325/325 [==============================] - 2s 5ms/step - loss: 0.4221 - accuracy: 0.8494 - val_loss: 1.0258 - val_accuracy: 0.6036\n",
      "Epoch 4/5\n",
      "325/325 [==============================] - 2s 5ms/step - loss: 0.2671 - accuracy: 0.9133 - val_loss: 1.2044 - val_accuracy: 0.5768\n",
      "Epoch 5/5\n",
      "325/325 [==============================] - 2s 5ms/step - loss: 0.1863 - accuracy: 0.9416 - val_loss: 1.3432 - val_accuracy: 0.5742\n",
      " \n",
      "Iter:  6\n",
      " \n",
      "Epoch 1/5\n",
      "325/325 [==============================] - 2s 5ms/step - loss: 0.9823 - accuracy: 0.5127 - val_loss: 0.9152 - val_accuracy: 0.5386\n",
      "Epoch 2/5\n",
      "325/325 [==============================] - 2s 5ms/step - loss: 0.7027 - accuracy: 0.7082 - val_loss: 0.9275 - val_accuracy: 0.5915\n",
      "Epoch 3/5\n",
      "325/325 [==============================] - 2s 5ms/step - loss: 0.4376 - accuracy: 0.8466 - val_loss: 1.0180 - val_accuracy: 0.6028\n",
      "Epoch 4/5\n",
      "325/325 [==============================] - 2s 5ms/step - loss: 0.2829 - accuracy: 0.9123 - val_loss: 1.1348 - val_accuracy: 0.6036\n",
      "Epoch 5/5\n",
      "325/325 [==============================] - 2s 5ms/step - loss: 0.1968 - accuracy: 0.9405 - val_loss: 1.2864 - val_accuracy: 0.6062\n",
      " \n",
      "Iter:  7\n",
      " \n",
      "Epoch 1/5\n",
      "325/325 [==============================] - 2s 6ms/step - loss: 0.9753 - accuracy: 0.5133 - val_loss: 0.8785 - val_accuracy: 0.5724\n",
      "Epoch 2/5\n",
      "325/325 [==============================] - 2s 5ms/step - loss: 0.7192 - accuracy: 0.6867 - val_loss: 0.8464 - val_accuracy: 0.6132\n",
      "Epoch 3/5\n",
      "325/325 [==============================] - 2s 5ms/step - loss: 0.4777 - accuracy: 0.8166 - val_loss: 0.9581 - val_accuracy: 0.6141\n",
      "Epoch 4/5\n",
      "325/325 [==============================] - 2s 5ms/step - loss: 0.3040 - accuracy: 0.8969 - val_loss: 1.0725 - val_accuracy: 0.6045\n",
      "Epoch 5/5\n",
      "325/325 [==============================] - 2s 5ms/step - loss: 0.2126 - accuracy: 0.9331 - val_loss: 1.2340 - val_accuracy: 0.6010\n",
      " \n",
      "Iter:  8\n",
      " \n",
      "Epoch 1/5\n",
      "325/325 [==============================] - 2s 6ms/step - loss: 0.9813 - accuracy: 0.5106 - val_loss: 0.8279 - val_accuracy: 0.6609\n",
      "Epoch 2/5\n",
      "325/325 [==============================] - 2s 5ms/step - loss: 0.7013 - accuracy: 0.7119 - val_loss: 0.7956 - val_accuracy: 0.6548\n",
      "Epoch 3/5\n",
      "325/325 [==============================] - 2s 5ms/step - loss: 0.4471 - accuracy: 0.8449 - val_loss: 0.9567 - val_accuracy: 0.6219\n",
      "Epoch 4/5\n",
      "325/325 [==============================] - 2s 5ms/step - loss: 0.2718 - accuracy: 0.9100 - val_loss: 1.1424 - val_accuracy: 0.6088\n",
      "Epoch 5/5\n",
      "325/325 [==============================] - 2s 5ms/step - loss: 0.1883 - accuracy: 0.9407 - val_loss: 1.2198 - val_accuracy: 0.6184\n",
      " \n",
      "Iter:  9\n",
      " \n",
      "Epoch 1/5\n",
      "325/325 [==============================] - 2s 6ms/step - loss: 0.9864 - accuracy: 0.5091 - val_loss: 0.8900 - val_accuracy: 0.5820\n",
      "Epoch 2/5\n",
      "325/325 [==============================] - 2s 6ms/step - loss: 0.7056 - accuracy: 0.7051 - val_loss: 0.8487 - val_accuracy: 0.6175\n",
      "Epoch 3/5\n",
      "325/325 [==============================] - 2s 5ms/step - loss: 0.4506 - accuracy: 0.8426 - val_loss: 0.9968 - val_accuracy: 0.5924\n",
      "Epoch 4/5\n",
      "325/325 [==============================] - 2s 5ms/step - loss: 0.2856 - accuracy: 0.9080 - val_loss: 1.1354 - val_accuracy: 0.5906\n",
      "Epoch 5/5\n",
      "325/325 [==============================] - 2s 5ms/step - loss: 0.1948 - accuracy: 0.9402 - val_loss: 1.2875 - val_accuracy: 0.5950\n",
      " \n",
      "Iter:  10\n",
      " \n",
      "Epoch 1/5\n",
      "325/325 [==============================] - 2s 6ms/step - loss: 0.9902 - accuracy: 0.5041 - val_loss: 0.8674 - val_accuracy: 0.5768\n",
      "Epoch 2/5\n",
      "325/325 [==============================] - 2s 5ms/step - loss: 0.7348 - accuracy: 0.6817 - val_loss: 0.8628 - val_accuracy: 0.5941\n",
      "Epoch 3/5\n",
      "325/325 [==============================] - 2s 5ms/step - loss: 0.4969 - accuracy: 0.8142 - val_loss: 0.9335 - val_accuracy: 0.6210\n",
      "Epoch 4/5\n",
      "325/325 [==============================] - 2s 5ms/step - loss: 0.3149 - accuracy: 0.8986 - val_loss: 1.0919 - val_accuracy: 0.6062\n",
      "Epoch 5/5\n",
      "325/325 [==============================] - 2s 5ms/step - loss: 0.2103 - accuracy: 0.9345 - val_loss: 1.2832 - val_accuracy: 0.5984\n",
      " \n"
     ]
    }
   ],
   "source": [
    "kf = KFold(n_splits=10)\n",
    "val_accuracy = []\n",
    "index = []\n",
    "cont = 0\n",
    "\n",
    "for train_index, test_index in kf.split(X_train_transform):\n",
    "    cont += 1\n",
    "    \n",
    "    model = tf.keras.Sequential([\n",
    "    tf.keras.layers.Dense(50, activation='relu'),\n",
    "    tf.keras.layers.Dropout(0.3),\n",
    "    tf.keras.layers.Dense(25, activation='relu'),\n",
    "    tf.keras.layers.Dropout(0.3),\n",
    "    tf.keras.layers.Dense(10, activation='tanh'),\n",
    "    tf.keras.layers.Dropout(0.2),\n",
    "    tf.keras.layers.Dense(3 , activation='softmax')\n",
    "    ])\n",
    "\n",
    "    model.compile(\n",
    "        optimizer='adam',\n",
    "        loss=tf.keras.losses.categorical_crossentropy,\n",
    "        metrics=['accuracy']\n",
    "    )\n",
    "    \n",
    "    X_train, X_test = X_train_transform[train_index], X_train_transform[test_index]\n",
    "    y_train, y_test = polarity[train_index], polarity[test_index]\n",
    "    y_train_one = one.fit_transform(y_train.reshape(-1,1))\n",
    "    y_teste_one = one.fit_transform(y_test.reshape(-1,1))\n",
    "    \n",
    "    print(\"Iter: \",cont)\n",
    "    print(\" \")\n",
    "    \n",
    "    fit = model.fit(X_train.todense(), y_train_one, epochs=5, validation_data=(X_test.todense(), y_teste_one))\n",
    "    print(\" \")\n",
    "    val_accuracy.append(fit.history['val_accuracy'])\n",
    "    \n",
    "    index.append((train_index,test_index))"
   ]
  },
  {
   "cell_type": "code",
   "execution_count": 23,
   "metadata": {},
   "outputs": [
    {
     "name": "stdout",
     "output_type": "stream",
     "text": [
      " Fold: 0\tMédia: 0.607972264289856\tStd: 0.011736574987193948 \n",
      " Fold: 1\tMédia: 0.6100519895553589\tStd: 0.019016809644120603 \n",
      " Fold: 2\tMédia: 0.6188908100128174\tStd: 0.007680590607294125 \n",
      " Fold: 3\tMédia: 0.6202948689460754\tStd: 0.011044411373002775 \n",
      " Fold: 4\tMédia: 0.5797051191329956\tStd: 0.02200009559815324 \n",
      " Fold: 5\tMédia: 0.5885516047477722\tStd: 0.02548512675249659 \n",
      " Fold: 6\tMédia: 0.6010407686233521\tStd: 0.015151766646838325 \n",
      " Fold: 7\tMédia: 0.6329575061798096\tStd: 0.020854265614010215 \n",
      " Fold: 8\tMédia: 0.59549001455307\tStd: 0.011848762785454908 \n",
      " Fold: 9\tMédia: 0.5993061542510987\tStd: 0.014523109361794647 \n"
     ]
    }
   ],
   "source": [
    "def media_std(val_accuracy):\n",
    "    matrix_acc = np.array(val_accuracy)\n",
    "    \n",
    "    for i in range(len(matrix_acc)):\n",
    "        print(f' Fold: {i}\\tMédia: {matrix_acc[i].mean()}\\tStd: {matrix_acc[i].std()} ')\n",
    "        \n",
    "media_std(val_accuracy)"
   ]
  },
  {
   "cell_type": "code",
   "execution_count": 25,
   "metadata": {},
   "outputs": [
    {
     "data": {
      "text/plain": [
       "0.6054261100292205"
      ]
     },
     "execution_count": 25,
     "metadata": {},
     "output_type": "execute_result"
    }
   ],
   "source": [
    "np.array([0.607972264289856,\n",
    "0.6100519895553589,\n",
    "0.6188908100128174, \n",
    "0.6202948689460754,\n",
    "0.5797051191329956,\n",
    "0.5885516047477722, \n",
    "0.6010407686233521, \n",
    "0.6329575061798096, \n",
    "0.59549001455307,\n",
    "0.5993061542510987]).mean()"
   ]
  },
  {
   "cell_type": "code",
   "execution_count": 24,
   "metadata": {},
   "outputs": [
    {
     "data": {
      "text/plain": [
       "0.01593415133703594"
      ]
     },
     "execution_count": 24,
     "metadata": {},
     "output_type": "execute_result"
    }
   ],
   "source": [
    "np.array([0.011736574987193948,\n",
    "0.019016809644120603,\n",
    "0.007680590607294125,\n",
    "0.011044411373002775,\n",
    "0.02200009559815324,\n",
    "0.02548512675249659,\n",
    "0.015151766646838325,\n",
    "0.020854265614010215, \n",
    "0.011848762785454908,\n",
    "0.014523109361794647]).mean()"
   ]
  },
  {
   "cell_type": "code",
   "execution_count": 62,
   "metadata": {
    "scrolled": false
   },
   "outputs": [
    {
     "data": {
      "image/png": "[encoded data removed]",
      "text/plain": [
       "<Figure size 864x432 with 1 Axes>"
      ]
     },
     "metadata": {
      "needs_background": "light"
     },
     "output_type": "display_data"
    }
   ],
   "source": [
    "plt.figure(figsize=(12,6))\n",
    "plt.plot(fit.history['loss'], label='Loss', color='darkred')\n",
    "plt.plot(fit.history['val_loss'], label='Val Loss', color='green')\n",
    "plt.legend()\n",
    "plt.grid()\n",
    "plt.ylabel('Loss')\n",
    "plt.show()"
   ]
  },
  {
   "cell_type": "code",
   "execution_count": 63,
   "metadata": {},
   "outputs": [
    {
     "data": {
      "image/png": "[encoded data removed]",
      "text/plain": [
       "<Figure size 864x432 with 1 Axes>"
      ]
     },
     "metadata": {
      "needs_background": "light"
     },
     "output_type": "display_data"
    }
   ],
   "source": [
    "plt.figure(figsize=(12,6))\n",
    "plt.plot(fit.history['accuracy'], label='accuracy', color='darkred')\n",
    "plt.plot(fit.history['val_accuracy'], label='Val accuracy', color='green')\n",
    "plt.legend()\n",
    "plt.grid()\n",
    "plt.ylabel('Accuracy')\n",
    "plt.show()"
   ]
  },
  {
   "cell_type": "code",
   "execution_count": 64,
   "metadata": {},
   "outputs": [
    {
     "name": "stdout",
     "output_type": "stream",
     "text": [
      "109/109 [==============================] - 0s 2ms/step - loss: 2.5528 - accuracy: 0.5780\n"
     ]
    }
   ],
   "source": [
    "acc = model.evaluate(X_test.todense(), one.transform(Y_test.reshape(-1,1)))"
   ]
  },
  {
   "cell_type": "code",
   "execution_count": 27,
   "metadata": {},
   "outputs": [
    {
     "data": {
      "text/plain": [
       "15000"
      ]
     },
     "execution_count": 27,
     "metadata": {},
     "output_type": "execute_result"
    }
   ],
   "source": [
    "vectorize_layer = TextVectorization(\n",
    " max_tokens=15000,\n",
    " output_mode='int',\n",
    " output_sequence_length=len(max(df_all['text'])))\n",
    "\n",
    "vocab = set_array(df_all['text'])\n",
    "\n",
    "vectorize_layer.adapt(np.unique(vocab))\n",
    "len(vectorize_layer.get_vocabulary())\n"
   ]
  },
  {
   "cell_type": "code",
   "execution_count": 20,
   "metadata": {},
   "outputs": [],
   "source": [
    "model = tf.keras.Sequential([\n",
    "    vectorize_layer,\n",
    "    tf.keras.layers.Embedding(\n",
    "        input_dim=len(vectorize_layer.get_vocabulary()),\n",
    "        output_dim=64,mask_zero=True),\n",
    "    \n",
    "    tf.keras.layers.LSTM(50, activation='relu' ,return_sequences=True),\n",
    "    tf.keras.layers.Dropout(0.3),\n",
    "    \n",
    "    #tf.keras.layers.LSTM(25 , activation='tanh', return_sequences=True),\n",
    "    #tf.keras.layers.Dropout(0.3),\n",
    "    \n",
    "    tf.keras.layers.LSTM(10 , activation='tanh'),\n",
    "    tf.keras.layers.Dropout(0.2),\n",
    "    \n",
    "    tf.keras.layers.Dense(3, activation='softmax')\n",
    "])\n",
    "\n",
    "\n",
    "model.compile(\n",
    "    optimizer= tf.keras.optimizers.Adam(),\n",
    "    loss=tf.keras.losses.categorical_crossentropy,\n",
    "    metrics=['accuracy']\n",
    ")"
   ]
  },
  {
   "cell_type": "code",
   "execution_count": 16,
   "metadata": {},
   "outputs": [],
   "source": [
    "X_train, X_test, Y_train, Y_test = train_test_split(Tweet_preprocessed, polarity, test_size=0.3)"
   ]
  },
  {
   "cell_type": "code",
   "execution_count": 17,
   "metadata": {},
   "outputs": [],
   "source": [
    "y_one = one.fit_transform(Y_train.reshape(-1,1))"
   ]
  },
  {
   "cell_type": "code",
   "execution_count": 23,
   "metadata": {},
   "outputs": [
    {
     "name": "stdout",
     "output_type": "stream",
     "text": [
      "Epoch 1/20\n",
      "64/64 [==============================] - 5s 73ms/step - loss: 1.0650 - accuracy: 0.4550 - val_loss: 1.0215 - val_accuracy: 0.4376\n",
      "Epoch 2/20\n",
      "64/64 [==============================] - 3s 47ms/step - loss: 0.8622 - accuracy: 0.5876 - val_loss: 0.9027 - val_accuracy: 0.5795\n",
      "Epoch 3/20\n",
      "64/64 [==============================] - 3s 47ms/step - loss: 0.6202 - accuracy: 0.7459 - val_loss: 1.0122 - val_accuracy: 0.5948\n",
      "Epoch 4/20\n",
      "64/64 [==============================] - 3s 44ms/step - loss: 0.4216 - accuracy: 0.8535 - val_loss: 1.1188 - val_accuracy: 0.5931\n",
      "Epoch 5/20\n",
      "64/64 [==============================] - 3s 47ms/step - loss: 0.3130 - accuracy: 0.8972 - val_loss: 1.2687 - val_accuracy: 0.5867\n",
      "Epoch 6/20\n",
      "64/64 [==============================] - 3s 44ms/step - loss: 0.2268 - accuracy: 0.9282 - val_loss: 1.4072 - val_accuracy: 0.5838\n",
      "Epoch 7/20\n",
      "64/64 [==============================] - 3s 44ms/step - loss: 0.1820 - accuracy: 0.9423 - val_loss: 1.4957 - val_accuracy: 0.5884\n",
      "Epoch 8/20\n",
      "64/64 [==============================] - 3s 53ms/step - loss: 0.1502 - accuracy: 0.9542 - val_loss: 1.6411 - val_accuracy: 0.5798\n",
      "Epoch 9/20\n",
      "64/64 [==============================] - 3s 52ms/step - loss: 0.1281 - accuracy: 0.9615 - val_loss: 1.7582 - val_accuracy: 0.5835\n",
      "Epoch 10/20\n",
      "64/64 [==============================] - 3s 47ms/step - loss: 0.1128 - accuracy: 0.9638 - val_loss: 1.7757 - val_accuracy: 0.5772\n",
      "Epoch 11/20\n",
      "64/64 [==============================] - 3s 49ms/step - loss: 0.1009 - accuracy: 0.9679 - val_loss: 1.9201 - val_accuracy: 0.5749\n",
      "Epoch 12/20\n",
      "64/64 [==============================] - 3s 51ms/step - loss: 0.0978 - accuracy: 0.9663 - val_loss: 1.9080 - val_accuracy: 0.5656\n",
      "Epoch 13/20\n",
      "64/64 [==============================] - 3s 50ms/step - loss: 0.0933 - accuracy: 0.9692 - val_loss: 1.9373 - val_accuracy: 0.5792\n",
      "Epoch 14/20\n",
      "64/64 [==============================] - 3s 49ms/step - loss: 0.0874 - accuracy: 0.9706 - val_loss: 2.0417 - val_accuracy: 0.5720\n",
      "Epoch 15/20\n",
      "64/64 [==============================] - 3s 50ms/step - loss: 0.0779 - accuracy: 0.9742 - val_loss: 2.1138 - val_accuracy: 0.5723\n",
      "Epoch 16/20\n",
      "64/64 [==============================] - 3s 50ms/step - loss: 0.0751 - accuracy: 0.9736 - val_loss: 2.0962 - val_accuracy: 0.5714\n",
      "Epoch 17/20\n",
      "64/64 [==============================] - 3s 52ms/step - loss: 0.0718 - accuracy: 0.9760 - val_loss: 2.1678 - val_accuracy: 0.5731\n",
      "Epoch 18/20\n",
      "64/64 [==============================] - 3s 50ms/step - loss: 0.0692 - accuracy: 0.9770 - val_loss: 2.2522 - val_accuracy: 0.5691\n",
      "Epoch 19/20\n",
      "64/64 [==============================] - 3s 49ms/step - loss: 0.0645 - accuracy: 0.9796 - val_loss: 2.2730 - val_accuracy: 0.5697\n",
      "Epoch 20/20\n",
      "64/64 [==============================] - 3s 49ms/step - loss: 0.0622 - accuracy: 0.9781 - val_loss: 2.2898 - val_accuracy: 0.5665\n"
     ]
    }
   ],
   "source": [
    "fit = model.fit(np.asarray(pre_X(X_train)), y_one, epochs=20, batch_size=128 ,validation_data=(np.asarray(pre_X(X_test)), one.transform(Y_test.reshape(-1,1))))"
   ]
  },
  {
   "cell_type": "code",
   "execution_count": 28,
   "metadata": {},
   "outputs": [
    {
     "name": "stdout",
     "output_type": "stream",
     "text": [
      "Iter:  1\n",
      " \n",
      "Epoch 1/5\n",
      "325/325 [==============================] - 10s 32ms/step - loss: 0.9638 - accuracy: 0.5297 - val_loss: 0.8146 - val_accuracy: 0.6421\n",
      "Epoch 2/5\n",
      "325/325 [==============================] - 9s 29ms/step - loss: 0.6791 - accuracy: 0.7199 - val_loss: 0.8346 - val_accuracy: 0.6057\n",
      "Epoch 3/5\n",
      "325/325 [==============================] - 9s 28ms/step - loss: 0.4275 - accuracy: 0.8459 - val_loss: 1.0143 - val_accuracy: 0.6023\n",
      "Epoch 4/5\n",
      "325/325 [==============================] - 9s 28ms/step - loss: 0.2858 - accuracy: 0.9002 - val_loss: 1.2257 - val_accuracy: 0.5893\n",
      "Epoch 5/5\n",
      "325/325 [==============================] - 9s 28ms/step - loss: 0.2059 - accuracy: 0.9298 - val_loss: 1.3995 - val_accuracy: 0.5867\n",
      " \n",
      "Iter:  2\n",
      " \n",
      "Epoch 1/5\n",
      "325/325 [==============================] - 10s 31ms/step - loss: 0.9658 - accuracy: 0.5281 - val_loss: 0.8500 - val_accuracy: 0.6300\n",
      "Epoch 2/5\n",
      "325/325 [==============================] - 9s 28ms/step - loss: 0.6789 - accuracy: 0.7233 - val_loss: 0.8954 - val_accuracy: 0.6083\n",
      "Epoch 3/5\n",
      "325/325 [==============================] - 9s 28ms/step - loss: 0.4357 - accuracy: 0.8439 - val_loss: 1.0498 - val_accuracy: 0.6040\n",
      "Epoch 4/5\n",
      "325/325 [==============================] - 9s 28ms/step - loss: 0.2914 - accuracy: 0.9028 - val_loss: 1.2207 - val_accuracy: 0.5823\n",
      "Epoch 5/5\n",
      "325/325 [==============================] - 9s 29ms/step - loss: 0.2102 - accuracy: 0.9305 - val_loss: 1.3497 - val_accuracy: 0.5979\n",
      " \n",
      "Iter:  3\n",
      " \n",
      "Epoch 1/5\n",
      "325/325 [==============================] - 11s 35ms/step - loss: 0.9544 - accuracy: 0.5449 - val_loss: 0.8457 - val_accuracy: 0.6127\n",
      "Epoch 2/5\n",
      "325/325 [==============================] - 11s 33ms/step - loss: 0.6620 - accuracy: 0.7330 - val_loss: 0.8502 - val_accuracy: 0.6326\n",
      "Epoch 3/5\n",
      "325/325 [==============================] - 10s 32ms/step - loss: 0.4154 - accuracy: 0.8505 - val_loss: 0.9822 - val_accuracy: 0.6179\n",
      "Epoch 4/5\n",
      "325/325 [==============================] - 10s 31ms/step - loss: 0.2691 - accuracy: 0.9096 - val_loss: 1.1442 - val_accuracy: 0.6153\n",
      "Epoch 5/5\n",
      "325/325 [==============================] - 10s 30ms/step - loss: 0.1956 - accuracy: 0.9351 - val_loss: 1.3443 - val_accuracy: 0.6057\n",
      " \n",
      "Iter:  4\n",
      " \n",
      "Epoch 1/5\n",
      "325/325 [==============================] - 11s 33ms/step - loss: 0.9661 - accuracy: 0.5278 - val_loss: 0.8508 - val_accuracy: 0.6184\n",
      "Epoch 2/5\n",
      "325/325 [==============================] - 10s 30ms/step - loss: 0.7042 - accuracy: 0.7044 - val_loss: 0.8498 - val_accuracy: 0.6123\n",
      "Epoch 3/5\n",
      "325/325 [==============================] - 10s 31ms/step - loss: 0.4656 - accuracy: 0.8326 - val_loss: 0.9745 - val_accuracy: 0.5984\n",
      "Epoch 4/5\n",
      "325/325 [==============================] - 10s 32ms/step - loss: 0.3120 - accuracy: 0.8939 - val_loss: 1.0985 - val_accuracy: 0.5958\n",
      "Epoch 5/5\n",
      "325/325 [==============================] - 11s 34ms/step - loss: 0.2226 - accuracy: 0.9244 - val_loss: 1.2728 - val_accuracy: 0.6010\n",
      " \n",
      "Iter:  5\n",
      " \n",
      "Epoch 1/5\n",
      "325/325 [==============================] - 13s 39ms/step - loss: 0.9489 - accuracy: 0.5472 - val_loss: 0.8858 - val_accuracy: 0.5724\n",
      "Epoch 2/5\n",
      "325/325 [==============================] - 13s 39ms/step - loss: 0.6592 - accuracy: 0.7350 - val_loss: 0.8852 - val_accuracy: 0.6071\n",
      "Epoch 3/5\n",
      "325/325 [==============================] - 12s 36ms/step - loss: 0.4142 - accuracy: 0.8557 - val_loss: 1.0799 - val_accuracy: 0.5785\n",
      "Epoch 4/5\n",
      "325/325 [==============================] - 11s 34ms/step - loss: 0.2751 - accuracy: 0.9062 - val_loss: 1.2731 - val_accuracy: 0.5776\n",
      "Epoch 5/5\n",
      "325/325 [==============================] - 10s 31ms/step - loss: 0.1981 - accuracy: 0.9324 - val_loss: 1.4249 - val_accuracy: 0.5655\n",
      " \n",
      "Iter:  6\n",
      " \n",
      "Epoch 1/5\n",
      "325/325 [==============================] - 11s 35ms/step - loss: 0.9547 - accuracy: 0.5374 - val_loss: 0.8937 - val_accuracy: 0.5343\n",
      "Epoch 2/5\n",
      "325/325 [==============================] - 11s 33ms/step - loss: 0.6759 - accuracy: 0.7226 - val_loss: 0.8636 - val_accuracy: 0.6080\n",
      "Epoch 3/5\n",
      "325/325 [==============================] - 11s 33ms/step - loss: 0.4241 - accuracy: 0.8466 - val_loss: 1.0703 - val_accuracy: 0.5950\n",
      "Epoch 4/5\n",
      "325/325 [==============================] - 10s 31ms/step - loss: 0.2786 - accuracy: 0.9053 - val_loss: 1.1561 - val_accuracy: 0.6028\n",
      "Epoch 5/5\n",
      "325/325 [==============================] - 10s 30ms/step - loss: 0.2050 - accuracy: 0.9290 - val_loss: 1.4332 - val_accuracy: 0.6036\n",
      " \n",
      "Iter:  7\n",
      " \n",
      "Epoch 1/5\n",
      "325/325 [==============================] - 12s 36ms/step - loss: 0.9676 - accuracy: 0.5281 - val_loss: 0.8609 - val_accuracy: 0.5958\n",
      "Epoch 2/5\n",
      "325/325 [==============================] - 12s 35ms/step - loss: 0.6815 - accuracy: 0.7199 - val_loss: 0.8635 - val_accuracy: 0.6245\n",
      "Epoch 3/5\n",
      "325/325 [==============================] - 11s 33ms/step - loss: 0.4288 - accuracy: 0.8467 - val_loss: 1.0250 - val_accuracy: 0.6271\n",
      "Epoch 4/5\n",
      "325/325 [==============================] - 11s 34ms/step - loss: 0.2770 - accuracy: 0.9057 - val_loss: 1.2285 - val_accuracy: 0.6071\n",
      "Epoch 5/5\n",
      "325/325 [==============================] - 10s 32ms/step - loss: 0.2037 - accuracy: 0.9306 - val_loss: 1.3885 - val_accuracy: 0.6158\n",
      " \n",
      "Iter:  8\n",
      " \n",
      "Epoch 1/5\n",
      "325/325 [==============================] - 11s 35ms/step - loss: 0.9753 - accuracy: 0.5158 - val_loss: 0.8541 - val_accuracy: 0.6444\n",
      "Epoch 2/5\n",
      "325/325 [==============================] - 10s 32ms/step - loss: 0.7151 - accuracy: 0.6952 - val_loss: 0.8663 - val_accuracy: 0.6435\n",
      "Epoch 3/5\n",
      "325/325 [==============================] - 10s 32ms/step - loss: 0.4836 - accuracy: 0.8160 - val_loss: 1.0115 - val_accuracy: 0.6323\n",
      "Epoch 4/5\n",
      "325/325 [==============================] - 10s 32ms/step - loss: 0.3187 - accuracy: 0.8877 - val_loss: 1.1439 - val_accuracy: 0.6045\n",
      "Epoch 5/5\n",
      "325/325 [==============================] - 10s 32ms/step - loss: 0.2288 - accuracy: 0.9243 - val_loss: 1.2892 - val_accuracy: 0.6236\n",
      " \n",
      "Iter:  9\n",
      " \n",
      "Epoch 1/5\n",
      "325/325 [==============================] - 12s 35ms/step - loss: 0.9680 - accuracy: 0.5247 - val_loss: 0.8971 - val_accuracy: 0.5889\n",
      "Epoch 2/5\n",
      "325/325 [==============================] - 10s 32ms/step - loss: 0.6856 - accuracy: 0.7224 - val_loss: 0.8818 - val_accuracy: 0.5950\n",
      "Epoch 3/5\n",
      "325/325 [==============================] - 10s 32ms/step - loss: 0.4372 - accuracy: 0.8471 - val_loss: 1.0328 - val_accuracy: 0.5932\n",
      "Epoch 4/5\n",
      "325/325 [==============================] - 10s 32ms/step - loss: 0.2931 - accuracy: 0.9010 - val_loss: 1.1469 - val_accuracy: 0.6097\n",
      "Epoch 5/5\n",
      "325/325 [==============================] - 10s 32ms/step - loss: 0.2110 - accuracy: 0.9289 - val_loss: 1.3541 - val_accuracy: 0.5863\n",
      " \n",
      "Iter:  10\n",
      " \n",
      "Epoch 1/5\n",
      "325/325 [==============================] - 12s 36ms/step - loss: 0.9667 - accuracy: 0.5295 - val_loss: 0.8499 - val_accuracy: 0.6071\n",
      "Epoch 2/5\n",
      "325/325 [==============================] - 11s 33ms/step - loss: 0.6677 - accuracy: 0.7378 - val_loss: 0.8780 - val_accuracy: 0.5993\n",
      "Epoch 3/5\n",
      "325/325 [==============================] - 11s 33ms/step - loss: 0.4145 - accuracy: 0.8518 - val_loss: 1.0418 - val_accuracy: 0.5872\n",
      "Epoch 4/5\n",
      "325/325 [==============================] - 11s 33ms/step - loss: 0.2751 - accuracy: 0.9072 - val_loss: 1.1578 - val_accuracy: 0.5846\n",
      "Epoch 5/5\n",
      "325/325 [==============================] - 11s 33ms/step - loss: 0.1949 - accuracy: 0.9356 - val_loss: 1.3389 - val_accuracy: 0.5898\n",
      " \n"
     ]
    }
   ],
   "source": [
    "kf = KFold(n_splits=10)\n",
    "val_accuracy = []\n",
    "index = []\n",
    "cont = 0\n",
    "\n",
    "for train_index, test_index in kf.split(Tweet_preprocessed):\n",
    "    cont += 1\n",
    "    \n",
    "    model = tf.keras.Sequential([\n",
    "    vectorize_layer,\n",
    "    tf.keras.layers.Embedding(\n",
    "        input_dim=len(vectorize_layer.get_vocabulary()),\n",
    "        output_dim=64,mask_zero=True),\n",
    "    \n",
    "    tf.keras.layers.LSTM(50, activation='relu' ,return_sequences=True),\n",
    "    tf.keras.layers.Dropout(0.3),\n",
    "    \n",
    "    #tf.keras.layers.LSTM(25 , activation='tanh', return_sequences=True),\n",
    "    #tf.keras.layers.Dropout(0.3),\n",
    "    \n",
    "    tf.keras.layers.LSTM(10 , activation='tanh'),\n",
    "    tf.keras.layers.Dropout(0.2),\n",
    "    \n",
    "    tf.keras.layers.Dense(3, activation='softmax')\n",
    "    ])\n",
    "\n",
    "    model.compile(\n",
    "        optimizer= tf.keras.optimizers.Adam(),\n",
    "        loss=tf.keras.losses.categorical_crossentropy,\n",
    "        metrics=['accuracy']\n",
    "    )\n",
    "    X_train, X_test = Tweet_preprocessed[train_index], Tweet_preprocessed[test_index]\n",
    "    y_train, y_test = polarity[train_index], polarity[test_index]\n",
    "    y_train_one = one.fit_transform(y_train.reshape(-1,1))\n",
    "    y_teste_one = one.fit_transform(y_test.reshape(-1,1))\n",
    "    \n",
    "    print(\"Iter: \",cont)\n",
    "    print(\" \")\n",
    "    \n",
    "    fit = model.fit(X_train, y_train_one, epochs=5, validation_data=(X_test, y_teste_one))\n",
    "    print(\" \")\n",
    "    val_accuracy.append(fit.history['val_accuracy'])\n",
    "    \n",
    "    index.append((train_index,test_index))"
   ]
  },
  {
   "cell_type": "code",
   "execution_count": 29,
   "metadata": {},
   "outputs": [
    {
     "name": "stdout",
     "output_type": "stream",
     "text": [
      " Fold: 0\tMédia: 0.6051993012428284\tStd: 0.01984837781383895 \n",
      " Fold: 1\tMédia: 0.6045060634613038\tStd: 0.015487758320266371 \n",
      " Fold: 2\tMédia: 0.6168110847473145\tStd: 0.008860884261347124 \n",
      " Fold: 3\tMédia: 0.6052038192749023\tStd: 0.008662611852822667 \n",
      " Fold: 4\tMédia: 0.5802255034446716\tStd: 0.014219526475086645 \n",
      " Fold: 5\tMédia: 0.5887250661849975\tStd: 0.027554563042926337 \n",
      " Fold: 6\tMédia: 0.61405029296875\tStd: 0.011492988998364786 \n",
      " Fold: 7\tMédia: 0.629661750793457\tStd: 0.014739050729768919 \n",
      " Fold: 8\tMédia: 0.5946227192878724\tStd: 0.00814710702547966 \n",
      " Fold: 9\tMédia: 0.5935819625854493\tStd: 0.00840164911579875 \n"
     ]
    }
   ],
   "source": [
    "media_std(val_accuracy)"
   ]
  },
  {
   "cell_type": "code",
   "execution_count": 31,
   "metadata": {},
   "outputs": [
    {
     "data": {
      "text/plain": [
       "0.6032587563991546"
      ]
     },
     "execution_count": 31,
     "metadata": {},
     "output_type": "execute_result"
    }
   ],
   "source": [
    "np.array([0.6051993012428284,\n",
    "0.6045060634613038,\n",
    "0.6168110847473145,\n",
    "0.6052038192749023, \n",
    "0.5802255034446716,\n",
    "0.5887250661849975, \n",
    "0.61405029296875, \n",
    "0.629661750793457,  \n",
    "0.5946227192878724, \n",
    "0.5935819625854493]).mean() "
   ]
  },
  {
   "cell_type": "code",
   "execution_count": 30,
   "metadata": {},
   "outputs": [
    {
     "data": {
      "text/plain": [
       "0.01374145176357002"
      ]
     },
     "execution_count": 30,
     "metadata": {},
     "output_type": "execute_result"
    }
   ],
   "source": [
    "np.array([ 0.01984837781383895, \n",
    "0.015487758320266371,\n",
    "0.008860884261347124, \n",
    "0.008662611852822667,     \n",
    "0.014219526475086645,     \n",
    "0.027554563042926337,     \n",
    "0.011492988998364786,    \n",
    "0.014739050729768919,\n",
    "0.00814710702547966, \n",
    "0.00840164911579875]).mean()"
   ]
  },
  {
   "cell_type": "code",
   "execution_count": 24,
   "metadata": {},
   "outputs": [
    {
     "data": {
      "image/png": "[encoded data removed]",
      "text/plain": [
       "<Figure size 864x432 with 1 Axes>"
      ]
     },
     "metadata": {
      "needs_background": "light"
     },
     "output_type": "display_data"
    }
   ],
   "source": [
    "plt.figure(figsize=(12,6))\n",
    "plt.plot(fit.history['loss'], label='Loss', color='darkred')\n",
    "plt.plot(fit.history['val_loss'], label='Val Loss', color='green')\n",
    "plt.legend()\n",
    "plt.grid()\n",
    "plt.ylabel('Loss')\n",
    "plt.show()"
   ]
  },
  {
   "cell_type": "code",
   "execution_count": 25,
   "metadata": {},
   "outputs": [
    {
     "data": {
      "image/png": "[encoded data removed]",
      "text/plain": [
       "<Figure size 864x432 with 1 Axes>"
      ]
     },
     "metadata": {
      "needs_background": "light"
     },
     "output_type": "display_data"
    }
   ],
   "source": [
    "plt.figure(figsize=(12,6))\n",
    "plt.plot(fit.history['accuracy'], label='accuracy', color='darkred')\n",
    "plt.plot(fit.history['val_accuracy'], label='Val accuracy', color='green')\n",
    "plt.legend()\n",
    "plt.grid()\n",
    "plt.ylabel('Accuracy')\n",
    "plt.show()"
   ]
  },
  {
   "cell_type": "code",
   "execution_count": 26,
   "metadata": {},
   "outputs": [
    {
     "name": "stdout",
     "output_type": "stream",
     "text": [
      "109/109 [==============================] - 1s 6ms/step - loss: 2.2898 - accuracy: 0.5665\n"
     ]
    }
   ],
   "source": [
    "acc = model.evaluate(np.asarray(pre_X(X_test)), one.transform(Y_test.reshape(-1,1)))"
   ]
  },
  {
   "cell_type": "markdown",
   "metadata": {},
   "source": [
    "## Conv 1D"
   ]
  },
  {
   "cell_type": "code",
   "execution_count": 27,
   "metadata": {},
   "outputs": [],
   "source": [
    "model = tf.keras.Sequential([\n",
    "    vectorize_layer,\n",
    "    tf.keras.layers.Embedding(\n",
    "        input_dim=len(vectorize_layer.get_vocabulary()),\n",
    "        output_dim=64,\n",
    "        mask_zero=True),\n",
    "    \n",
    "    tf.keras.layers.Conv1D(32,6, activation='relu'),\n",
    "    tf.keras.layers.MaxPooling1D(2),\n",
    "    tf.keras.layers.Flatten(),\n",
    "    \n",
    "    tf.keras.layers.Dense(16, activation='relu'),\n",
    "    tf.keras.layers.Dense(3, activation='softmax')   \n",
    "])\n",
    "\n",
    "model.compile(\n",
    "    optimizer= tf.keras.optimizers.Adam(),\n",
    "    loss=tf.keras.losses.categorical_crossentropy,\n",
    "    metrics=['accuracy']\n",
    ")\n",
    "\n",
    "X_train, X_test, Y_train, Y_test = train_test_split(Tweet_preprocessed, polarity, test_size=0.3)\n",
    "y_one = one.fit_transform(Y_train.reshape(-1,1))"
   ]
  },
  {
   "cell_type": "code",
   "execution_count": 32,
   "metadata": {
    "scrolled": true
   },
   "outputs": [
    {
     "name": "stdout",
     "output_type": "stream",
     "text": [
      "Iter:  1\n",
      " \n",
      "Epoch 1/10\n",
      "82/82 [==============================] - 1s 17ms/step - loss: 1.0429 - accuracy: 0.4731 - val_loss: 0.9437 - val_accuracy: 0.5693\n",
      "Epoch 2/10\n",
      "82/82 [==============================] - 1s 15ms/step - loss: 0.8111 - accuracy: 0.6340 - val_loss: 0.8279 - val_accuracy: 0.6153\n",
      "Epoch 3/10\n",
      "82/82 [==============================] - 1s 16ms/step - loss: 0.5228 - accuracy: 0.8057 - val_loss: 0.9246 - val_accuracy: 0.6049\n",
      "Epoch 4/10\n",
      "82/82 [==============================] - 1s 15ms/step - loss: 0.3044 - accuracy: 0.9045 - val_loss: 1.1602 - val_accuracy: 0.5693\n",
      "Epoch 5/10\n",
      "82/82 [==============================] - 1s 16ms/step - loss: 0.1772 - accuracy: 0.9453 - val_loss: 1.2773 - val_accuracy: 0.5927\n",
      "Epoch 6/10\n",
      "82/82 [==============================] - 1s 17ms/step - loss: 0.1103 - accuracy: 0.9669 - val_loss: 1.4372 - val_accuracy: 0.5849\n",
      "Epoch 7/10\n",
      "82/82 [==============================] - 1s 17ms/step - loss: 0.0734 - accuracy: 0.9772 - val_loss: 1.5954 - val_accuracy: 0.5884\n",
      "Epoch 8/10\n",
      "82/82 [==============================] - 1s 16ms/step - loss: 0.0574 - accuracy: 0.9810 - val_loss: 1.7346 - val_accuracy: 0.5754\n",
      "Epoch 9/10\n",
      "82/82 [==============================] - 1s 15ms/step - loss: 0.0445 - accuracy: 0.9866 - val_loss: 1.8719 - val_accuracy: 0.5711\n",
      "Epoch 10/10\n",
      "82/82 [==============================] - 1s 17ms/step - loss: 0.0387 - accuracy: 0.9876 - val_loss: 1.9929 - val_accuracy: 0.5633\n",
      " \n",
      "Iter:  2\n",
      " \n",
      "Epoch 1/10\n",
      "82/82 [==============================] - 1s 18ms/step - loss: 1.0596 - accuracy: 0.4525 - val_loss: 0.9744 - val_accuracy: 0.5797\n",
      "Epoch 2/10\n",
      "82/82 [==============================] - 1s 16ms/step - loss: 0.8454 - accuracy: 0.6127 - val_loss: 0.8631 - val_accuracy: 0.5936\n",
      "Epoch 3/10\n",
      "82/82 [==============================] - 1s 16ms/step - loss: 0.4976 - accuracy: 0.8174 - val_loss: 0.9505 - val_accuracy: 0.5988\n",
      "Epoch 4/10\n",
      "82/82 [==============================] - 1s 17ms/step - loss: 0.2657 - accuracy: 0.9146 - val_loss: 1.1181 - val_accuracy: 0.5979\n",
      "Epoch 5/10\n",
      "82/82 [==============================] - 1s 16ms/step - loss: 0.1504 - accuracy: 0.9538 - val_loss: 1.2967 - val_accuracy: 0.5858\n",
      "Epoch 6/10\n",
      "82/82 [==============================] - 1s 17ms/step - loss: 0.0990 - accuracy: 0.9707 - val_loss: 1.4091 - val_accuracy: 0.5945\n",
      "Epoch 7/10\n",
      "82/82 [==============================] - 1s 16ms/step - loss: 0.0720 - accuracy: 0.9782 - val_loss: 1.5289 - val_accuracy: 0.6049\n",
      "Epoch 8/10\n",
      "82/82 [==============================] - 1s 15ms/step - loss: 0.0534 - accuracy: 0.9841 - val_loss: 1.6934 - val_accuracy: 0.5945\n",
      "Epoch 9/10\n",
      "82/82 [==============================] - 1s 15ms/step - loss: 0.0460 - accuracy: 0.9854 - val_loss: 1.8024 - val_accuracy: 0.5815\n",
      "Epoch 10/10\n",
      "82/82 [==============================] - 1s 15ms/step - loss: 0.0378 - accuracy: 0.9885 - val_loss: 1.8938 - val_accuracy: 0.5771\n",
      " \n",
      "Iter:  3\n",
      " \n",
      "Epoch 1/10\n",
      "82/82 [==============================] - 1s 17ms/step - loss: 1.0560 - accuracy: 0.4604 - val_loss: 0.9998 - val_accuracy: 0.5260\n",
      "Epoch 2/10\n",
      "82/82 [==============================] - 1s 15ms/step - loss: 0.8540 - accuracy: 0.6009 - val_loss: 0.8507 - val_accuracy: 0.6023\n",
      "Epoch 3/10\n",
      "82/82 [==============================] - 1s 16ms/step - loss: 0.5772 - accuracy: 0.7672 - val_loss: 0.8683 - val_accuracy: 0.6256\n",
      "Epoch 4/10\n",
      "82/82 [==============================] - 1s 15ms/step - loss: 0.3533 - accuracy: 0.8848 - val_loss: 1.0081 - val_accuracy: 0.6274\n",
      "Epoch 5/10\n",
      "82/82 [==============================] - 1s 16ms/step - loss: 0.2020 - accuracy: 0.9380 - val_loss: 1.1683 - val_accuracy: 0.6014\n",
      "Epoch 6/10\n",
      "82/82 [==============================] - 1s 16ms/step - loss: 0.1233 - accuracy: 0.9626 - val_loss: 1.2979 - val_accuracy: 0.6135\n",
      "Epoch 7/10\n",
      "82/82 [==============================] - 1s 15ms/step - loss: 0.0817 - accuracy: 0.9748 - val_loss: 1.4603 - val_accuracy: 0.6040\n",
      "Epoch 8/10\n",
      "82/82 [==============================] - 1s 16ms/step - loss: 0.0608 - accuracy: 0.9814 - val_loss: 1.5498 - val_accuracy: 0.6127\n",
      "Epoch 9/10\n",
      "82/82 [==============================] - 1s 16ms/step - loss: 0.0492 - accuracy: 0.9848 - val_loss: 1.6501 - val_accuracy: 0.6005\n",
      "Epoch 10/10\n",
      "82/82 [==============================] - 1s 16ms/step - loss: 0.0440 - accuracy: 0.9866 - val_loss: 1.7433 - val_accuracy: 0.5953\n",
      " \n",
      "Iter:  4\n",
      " \n",
      "Epoch 1/10\n",
      "82/82 [==============================] - 1s 17ms/step - loss: 1.0515 - accuracy: 0.4634 - val_loss: 0.9755 - val_accuracy: 0.5516\n",
      "Epoch 2/10\n",
      "82/82 [==============================] - 1s 15ms/step - loss: 0.8459 - accuracy: 0.6135 - val_loss: 0.8440 - val_accuracy: 0.6201\n",
      "Epoch 3/10\n",
      "82/82 [==============================] - 1s 16ms/step - loss: 0.5410 - accuracy: 0.7912 - val_loss: 0.8903 - val_accuracy: 0.6331\n",
      "Epoch 4/10\n",
      "82/82 [==============================] - 1s 16ms/step - loss: 0.3032 - accuracy: 0.9004 - val_loss: 1.0184 - val_accuracy: 0.6271\n",
      "Epoch 5/10\n",
      "82/82 [==============================] - 1s 16ms/step - loss: 0.1718 - accuracy: 0.9476 - val_loss: 1.1504 - val_accuracy: 0.6071\n",
      "Epoch 6/10\n",
      "82/82 [==============================] - 1s 16ms/step - loss: 0.1067 - accuracy: 0.9675 - val_loss: 1.2739 - val_accuracy: 0.6201\n",
      "Epoch 7/10\n",
      "82/82 [==============================] - 1s 16ms/step - loss: 0.0764 - accuracy: 0.9748 - val_loss: 1.4248 - val_accuracy: 0.6054\n",
      "Epoch 8/10\n",
      "82/82 [==============================] - 1s 16ms/step - loss: 0.0572 - accuracy: 0.9819 - val_loss: 1.5404 - val_accuracy: 0.5967\n",
      "Epoch 9/10\n",
      "82/82 [==============================] - 1s 16ms/step - loss: 0.0472 - accuracy: 0.9841 - val_loss: 1.6181 - val_accuracy: 0.5967\n",
      "Epoch 10/10\n",
      "82/82 [==============================] - 1s 16ms/step - loss: 0.0422 - accuracy: 0.9857 - val_loss: 1.7059 - val_accuracy: 0.6002\n",
      " \n",
      "Iter:  5\n",
      " \n",
      "Epoch 1/10\n",
      "82/82 [==============================] - 1s 17ms/step - loss: 1.0338 - accuracy: 0.4853 - val_loss: 1.0041 - val_accuracy: 0.4788\n",
      "Epoch 2/10\n",
      "82/82 [==============================] - 1s 15ms/step - loss: 0.7955 - accuracy: 0.6367 - val_loss: 0.8993 - val_accuracy: 0.5603\n",
      "Epoch 3/10\n",
      "82/82 [==============================] - 1s 16ms/step - loss: 0.5356 - accuracy: 0.7803 - val_loss: 0.9449 - val_accuracy: 0.5846\n",
      "Epoch 4/10\n",
      "82/82 [==============================] - 1s 15ms/step - loss: 0.3391 - accuracy: 0.8808 - val_loss: 1.0985 - val_accuracy: 0.5846\n",
      "Epoch 5/10\n",
      "82/82 [==============================] - 1s 15ms/step - loss: 0.1921 - accuracy: 0.9377 - val_loss: 1.2623 - val_accuracy: 0.5776\n",
      "Epoch 6/10\n",
      "82/82 [==============================] - 1s 15ms/step - loss: 0.1147 - accuracy: 0.9635 - val_loss: 1.4017 - val_accuracy: 0.5733\n",
      "Epoch 7/10\n",
      "82/82 [==============================] - 1s 15ms/step - loss: 0.0794 - accuracy: 0.9743 - val_loss: 1.5814 - val_accuracy: 0.5785\n",
      "Epoch 8/10\n",
      "82/82 [==============================] - 1s 16ms/step - loss: 0.0581 - accuracy: 0.9803 - val_loss: 1.7141 - val_accuracy: 0.5776\n",
      "Epoch 9/10\n",
      "82/82 [==============================] - 1s 16ms/step - loss: 0.0465 - accuracy: 0.9859 - val_loss: 1.7919 - val_accuracy: 0.5768\n",
      "Epoch 10/10\n",
      "82/82 [==============================] - 1s 16ms/step - loss: 0.0391 - accuracy: 0.9870 - val_loss: 1.9320 - val_accuracy: 0.5924\n",
      " \n",
      "Iter:  6\n",
      " \n",
      "Epoch 1/10\n",
      "82/82 [==============================] - 1s 17ms/step - loss: 1.0403 - accuracy: 0.4826 - val_loss: 1.0436 - val_accuracy: 0.4623\n",
      "Epoch 2/10\n",
      "82/82 [==============================] - 1s 15ms/step - loss: 0.8370 - accuracy: 0.6220 - val_loss: 0.9271 - val_accuracy: 0.5056\n",
      "Epoch 3/10\n",
      "82/82 [==============================] - 1s 16ms/step - loss: 0.5978 - accuracy: 0.7355 - val_loss: 0.9387 - val_accuracy: 0.5828\n",
      "Epoch 4/10\n",
      "82/82 [==============================] - 1s 16ms/step - loss: 0.4068 - accuracy: 0.8468 - val_loss: 1.0416 - val_accuracy: 0.5742\n",
      "Epoch 5/10\n",
      "82/82 [==============================] - 1s 16ms/step - loss: 0.2632 - accuracy: 0.9147 - val_loss: 1.2091 - val_accuracy: 0.5898\n",
      "Epoch 6/10\n",
      "82/82 [==============================] - 1s 16ms/step - loss: 0.1624 - accuracy: 0.9507 - val_loss: 1.3585 - val_accuracy: 0.5915\n",
      "Epoch 7/10\n",
      "82/82 [==============================] - 1s 15ms/step - loss: 0.0980 - accuracy: 0.9713 - val_loss: 1.5199 - val_accuracy: 0.5941\n",
      "Epoch 8/10\n",
      "82/82 [==============================] - 1s 16ms/step - loss: 0.0680 - accuracy: 0.9812 - val_loss: 1.6997 - val_accuracy: 0.5854\n",
      "Epoch 9/10\n",
      "82/82 [==============================] - 1s 15ms/step - loss: 0.0507 - accuracy: 0.9853 - val_loss: 1.7833 - val_accuracy: 0.5924\n",
      "Epoch 10/10\n",
      "82/82 [==============================] - 1s 15ms/step - loss: 0.0459 - accuracy: 0.9861 - val_loss: 1.8516 - val_accuracy: 0.5872\n",
      " \n",
      "Iter:  7\n",
      " \n",
      "Epoch 1/10\n",
      "82/82 [==============================] - 1s 17ms/step - loss: 1.0568 - accuracy: 0.4529 - val_loss: 1.0280 - val_accuracy: 0.4814\n",
      "Epoch 2/10\n",
      "82/82 [==============================] - 1s 16ms/step - loss: 0.8679 - accuracy: 0.6028 - val_loss: 0.8488 - val_accuracy: 0.6071\n",
      "Epoch 3/10\n",
      "82/82 [==============================] - 1s 16ms/step - loss: 0.5340 - accuracy: 0.7959 - val_loss: 0.8984 - val_accuracy: 0.6019\n",
      "Epoch 4/10\n",
      "82/82 [==============================] - 1s 16ms/step - loss: 0.2785 - accuracy: 0.9126 - val_loss: 1.0721 - val_accuracy: 0.5932\n",
      "Epoch 5/10\n",
      "82/82 [==============================] - 1s 16ms/step - loss: 0.1521 - accuracy: 0.9537 - val_loss: 1.2460 - val_accuracy: 0.5776\n",
      "Epoch 6/10\n",
      "82/82 [==============================] - 1s 16ms/step - loss: 0.0933 - accuracy: 0.9709 - val_loss: 1.3748 - val_accuracy: 0.5811\n",
      "Epoch 7/10\n",
      "82/82 [==============================] - 1s 16ms/step - loss: 0.0641 - accuracy: 0.9811 - val_loss: 1.4991 - val_accuracy: 0.5776\n",
      "Epoch 8/10\n",
      "82/82 [==============================] - 1s 16ms/step - loss: 0.0514 - accuracy: 0.9849 - val_loss: 1.6403 - val_accuracy: 0.5906\n",
      "Epoch 9/10\n",
      "82/82 [==============================] - 1s 16ms/step - loss: 0.0403 - accuracy: 0.9872 - val_loss: 1.7046 - val_accuracy: 0.5811\n",
      "Epoch 10/10\n",
      "82/82 [==============================] - 1s 16ms/step - loss: 0.0375 - accuracy: 0.9883 - val_loss: 1.7660 - val_accuracy: 0.5672\n",
      " \n",
      "Iter:  8\n",
      " \n",
      "Epoch 1/10\n",
      "82/82 [==============================] - 1s 18ms/step - loss: 1.0606 - accuracy: 0.4511 - val_loss: 0.9836 - val_accuracy: 0.5846\n",
      "Epoch 2/10\n",
      "82/82 [==============================] - 1s 16ms/step - loss: 0.8619 - accuracy: 0.6031 - val_loss: 0.8396 - val_accuracy: 0.6279\n",
      "Epoch 3/10\n",
      "82/82 [==============================] - 1s 16ms/step - loss: 0.5612 - accuracy: 0.7829 - val_loss: 0.8778 - val_accuracy: 0.6392\n",
      "Epoch 4/10\n",
      "82/82 [==============================] - 1s 16ms/step - loss: 0.3031 - accuracy: 0.9018 - val_loss: 1.0798 - val_accuracy: 0.6158\n",
      "Epoch 5/10\n",
      "82/82 [==============================] - 1s 16ms/step - loss: 0.1577 - accuracy: 0.9520 - val_loss: 1.2634 - val_accuracy: 0.5889\n",
      "Epoch 6/10\n",
      "82/82 [==============================] - 1s 16ms/step - loss: 0.0930 - accuracy: 0.9710 - val_loss: 1.3931 - val_accuracy: 0.5941\n",
      "Epoch 7/10\n",
      "82/82 [==============================] - 1s 16ms/step - loss: 0.0660 - accuracy: 0.9797 - val_loss: 1.4882 - val_accuracy: 0.5915\n",
      "Epoch 8/10\n",
      "82/82 [==============================] - 1s 16ms/step - loss: 0.0489 - accuracy: 0.9847 - val_loss: 1.6561 - val_accuracy: 0.5759\n",
      "Epoch 9/10\n",
      "82/82 [==============================] - 1s 16ms/step - loss: 0.0395 - accuracy: 0.9870 - val_loss: 1.7036 - val_accuracy: 0.5967\n",
      "Epoch 10/10\n",
      "82/82 [==============================] - 1s 16ms/step - loss: 0.0333 - accuracy: 0.9892 - val_loss: 1.8137 - val_accuracy: 0.5863\n",
      " \n",
      "Iter:  9\n",
      " \n",
      "Epoch 1/10\n",
      "82/82 [==============================] - 1s 18ms/step - loss: 1.0522 - accuracy: 0.4560 - val_loss: 1.0340 - val_accuracy: 0.4180\n",
      "Epoch 2/10\n",
      "82/82 [==============================] - 1s 16ms/step - loss: 0.9014 - accuracy: 0.5667 - val_loss: 0.9378 - val_accuracy: 0.5716\n",
      "Epoch 3/10\n",
      "82/82 [==============================] - 1s 16ms/step - loss: 0.6082 - accuracy: 0.7642 - val_loss: 0.9730 - val_accuracy: 0.5941\n",
      "Epoch 4/10\n",
      "82/82 [==============================] - 1s 16ms/step - loss: 0.3185 - accuracy: 0.8945 - val_loss: 1.0827 - val_accuracy: 0.5941\n",
      "Epoch 5/10\n",
      "82/82 [==============================] - ETA: 0s - loss: 0.1711 - accuracy: 0.94 - 1s 16ms/step - loss: 0.1710 - accuracy: 0.9486 - val_loss: 1.2987 - val_accuracy: 0.5872\n",
      "Epoch 6/10\n",
      "82/82 [==============================] - 1s 16ms/step - loss: 0.1053 - accuracy: 0.9682 - val_loss: 1.4131 - val_accuracy: 0.5794\n",
      "Epoch 7/10\n",
      "82/82 [==============================] - 1s 16ms/step - loss: 0.0747 - accuracy: 0.9773 - val_loss: 1.5266 - val_accuracy: 0.5768\n",
      "Epoch 8/10\n",
      "82/82 [==============================] - 1s 16ms/step - loss: 0.0570 - accuracy: 0.9834 - val_loss: 1.7073 - val_accuracy: 0.5742\n",
      "Epoch 9/10\n",
      "82/82 [==============================] - 1s 16ms/step - loss: 0.0457 - accuracy: 0.9865 - val_loss: 1.7345 - val_accuracy: 0.5690\n",
      "Epoch 10/10\n",
      "82/82 [==============================] - 1s 16ms/step - loss: 0.0403 - accuracy: 0.9857 - val_loss: 1.9003 - val_accuracy: 0.5707\n",
      " \n",
      "Iter:  10\n",
      " \n",
      "Epoch 1/10\n",
      "82/82 [==============================] - 1s 18ms/step - loss: 1.0528 - accuracy: 0.4627 - val_loss: 1.0156 - val_accuracy: 0.4961\n",
      "Epoch 2/10\n",
      "82/82 [==============================] - 1s 16ms/step - loss: 0.8477 - accuracy: 0.6080 - val_loss: 0.8817 - val_accuracy: 0.5620\n",
      "Epoch 3/10\n",
      "82/82 [==============================] - 1s 16ms/step - loss: 0.5617 - accuracy: 0.7681 - val_loss: 0.9074 - val_accuracy: 0.6045\n",
      "Epoch 4/10\n",
      "82/82 [==============================] - 1s 16ms/step - loss: 0.3369 - accuracy: 0.8851 - val_loss: 1.0374 - val_accuracy: 0.5863\n",
      "Epoch 5/10\n",
      "82/82 [==============================] - 1s 16ms/step - loss: 0.1902 - accuracy: 0.9383 - val_loss: 1.1742 - val_accuracy: 0.5915\n",
      "Epoch 6/10\n",
      "82/82 [==============================] - 1s 16ms/step - loss: 0.1226 - accuracy: 0.9596 - val_loss: 1.3103 - val_accuracy: 0.5967\n",
      "Epoch 7/10\n",
      "82/82 [==============================] - 1s 16ms/step - loss: 0.0867 - accuracy: 0.9718 - val_loss: 1.4340 - val_accuracy: 0.5785\n",
      "Epoch 8/10\n",
      "82/82 [==============================] - 1s 16ms/step - loss: 0.0661 - accuracy: 0.9793 - val_loss: 1.5235 - val_accuracy: 0.5802\n",
      "Epoch 9/10\n",
      "82/82 [==============================] - 1s 17ms/step - loss: 0.0540 - accuracy: 0.9829 - val_loss: 1.6206 - val_accuracy: 0.5759\n",
      "Epoch 10/10\n",
      "82/82 [==============================] - 1s 17ms/step - loss: 0.0455 - accuracy: 0.9844 - val_loss: 1.6935 - val_accuracy: 0.5768\n",
      " \n"
     ]
    }
   ],
   "source": [
    "kf = KFold(n_splits=10)\n",
    "val_accuracy = []\n",
    "index = []\n",
    "cont = 0\n",
    "\n",
    "for train_index, test_index in kf.split(Tweet_preprocessed):\n",
    "    cont += 1\n",
    "    \n",
    "    model = tf.keras.Sequential([\n",
    "    vectorize_layer,\n",
    "    tf.keras.layers.Embedding(\n",
    "        input_dim=len(vectorize_layer.get_vocabulary()),\n",
    "        output_dim=64,\n",
    "        mask_zero=True),\n",
    "    \n",
    "    tf.keras.layers.Conv1D(32,6, activation='relu'),\n",
    "    tf.keras.layers.MaxPooling1D(2),\n",
    "    tf.keras.layers.Flatten(),\n",
    "    \n",
    "    tf.keras.layers.Dense(16, activation='relu'),\n",
    "    tf.keras.layers.Dense(3, activation='softmax')   \n",
    "    ])\n",
    "\n",
    "    model.compile(\n",
    "        optimizer= tf.keras.optimizers.Adam(),\n",
    "        loss=tf.keras.losses.categorical_crossentropy,\n",
    "        metrics=['accuracy']\n",
    "    )\n",
    "\n",
    "    Tweet_preprocessed = np.asarray(pre_X(Tweet_preprocessed))\n",
    "    \n",
    "    X_train, X_test = Tweet_preprocessed[train_index], Tweet_preprocessed[test_index]\n",
    "    y_train, y_test = polarity[train_index], polarity[test_index]\n",
    "    y_train_one = one.fit_transform(y_train.reshape(-1,1))\n",
    "    y_teste_one = one.fit_transform(y_test.reshape(-1,1))\n",
    "    \n",
    "    print(\"Iter: \",cont)\n",
    "    print(\" \")\n",
    "    \n",
    "    fit = model.fit( X_train, y_train_one, epochs=10, batch_size=128 ,validation_data=(X_test, y_teste_one)) \n",
    "    print(\" \")\n",
    "    val_accuracy.append(fit.history['val_accuracy'])\n",
    "    \n",
    "    index.append((train_index,test_index))"
   ]
  },
  {
   "cell_type": "code",
   "execution_count": 33,
   "metadata": {},
   "outputs": [
    {
     "name": "stdout",
     "output_type": "stream",
     "text": [
      " Fold: 0\tMédia: 0.5834488689899444\tStd: 0.016146945851560793 \n",
      " Fold: 1\tMédia: 0.5908145546913147\tStd: 0.00876716574162212 \n",
      " Fold: 2\tMédia: 0.6008665502071381\tStd: 0.02695294981599688 \n",
      " Fold: 3\tMédia: 0.605810922384262\tStd: 0.021783803151781467 \n",
      " Fold: 4\tMédia: 0.5684301823377609\tStd: 0.03092806384384266 \n",
      " Fold: 5\tMédia: 0.5665221154689789\tStd: 0.0427498373152352 \n",
      " Fold: 6\tMédia: 0.5758889853954315\tStd: 0.03352997264764776 \n",
      " Fold: 7\tMédia: 0.6000867247581482\tStd: 0.019530482139150943 \n",
      " Fold: 8\tMédia: 0.5634865552186966\tStd: 0.04927325212365023 \n",
      " Fold: 9\tMédia: 0.5748482286930084\tStd: 0.028599426676601675 \n"
     ]
    }
   ],
   "source": [
    "media_std(val_accuracy)"
   ]
  },
  {
   "cell_type": "code",
   "execution_count": 35,
   "metadata": {},
   "outputs": [
    {
     "data": {
      "text/plain": [
       "0.5830203688144685"
      ]
     },
     "execution_count": 35,
     "metadata": {},
     "output_type": "execute_result"
    }
   ],
   "source": [
    "np.array([0.5834488689899444, \n",
    "0.5908145546913147,\n",
    "0.6008665502071381, \n",
    "0.605810922384262,\n",
    "0.5684301823377609, \n",
    "0.5665221154689789,  \n",
    "0.5758889853954315,\n",
    "0.6000867247581482,  \n",
    "0.5634865552186966, \n",
    "0.5748482286930084]).mean() "
   ]
  },
  {
   "cell_type": "code",
   "execution_count": 34,
   "metadata": {},
   "outputs": [
    {
     "data": {
      "text/plain": [
       "0.027826189930708976"
      ]
     },
     "execution_count": 34,
     "metadata": {},
     "output_type": "execute_result"
    }
   ],
   "source": [
    "np.array([0.016146945851560793,\n",
    "0.00876716574162212,\n",
    "0.02695294981599688,\n",
    "0.021783803151781467,\n",
    "0.03092806384384266,\n",
    "0.0427498373152352,\n",
    "0.03352997264764776,\n",
    "0.019530482139150943,\n",
    "0.04927325212365023,\n",
    "0.028599426676601675]).mean()"
   ]
  },
  {
   "cell_type": "code",
   "execution_count": 26,
   "metadata": {},
   "outputs": [
    {
     "data": {
      "text/plain": [
       "[0.6317157745361328,\n",
       " 0.6065858006477356,\n",
       " 0.6135181784629822,\n",
       " 0.6348655819892883,\n",
       " 0.5862966179847717,\n",
       " 0.6097137928009033,\n",
       " 0.6001734733581543,\n",
       " 0.6287944316864014,\n",
       " 0.5967042446136475,\n",
       " 0.6045099496841431]"
      ]
     },
     "execution_count": 26,
     "metadata": {},
     "output_type": "execute_result"
    }
   ],
   "source": [
    "best_ = []\n",
    "for i in range(len(val_accuracy)):\n",
    "    best_acc = 0\n",
    "    for j in range(5):\n",
    "        if val_accuracy[i][j] > best_acc:\n",
    "            best_acc = val_accuracy[i][j]\n",
    "    best_.append(best_acc)\n",
    "\n",
    "best_"
   ]
  },
  {
   "cell_type": "code",
   "execution_count": 29,
   "metadata": {},
   "outputs": [
    {
     "data": {
      "image/png": "[encoded data removed]",
      "text/plain": [
       "<Figure size 864x432 with 1 Axes>"
      ]
     },
     "metadata": {
      "needs_background": "light"
     },
     "output_type": "display_data"
    }
   ],
   "source": [
    "plt.figure(figsize=(12,6))\n",
    "plt.plot(fit.history['loss'], label='Loss', color='darkred')\n",
    "plt.plot(fit.history['val_loss'], label='Val Loss', color='green')\n",
    "plt.legend()\n",
    "plt.grid()\n",
    "plt.ylabel('Loss')\n",
    "plt.show()"
   ]
  },
  {
   "cell_type": "code",
   "execution_count": 30,
   "metadata": {},
   "outputs": [
    {
     "data": {
      "image/png": "[encoded data removed]",
      "text/plain": [
       "<Figure size 864x432 with 1 Axes>"
      ]
     },
     "metadata": {
      "needs_background": "light"
     },
     "output_type": "display_data"
    }
   ],
   "source": [
    "plt.figure(figsize=(12,6))\n",
    "plt.plot(fit.history['accuracy'], label='accuracy', color='darkred')\n",
    "plt.plot(fit.history['val_accuracy'], label='Val accuracy', color='green')\n",
    "plt.legend()\n",
    "plt.grid()\n",
    "plt.ylabel('Accuracy')\n",
    "plt.show()"
   ]
  },
  {
   "cell_type": "markdown",
   "metadata": {},
   "source": [
    "## BDR"
   ]
  },
  {
   "cell_type": "code",
   "execution_count": 75,
   "metadata": {},
   "outputs": [],
   "source": [
    "model = tf.keras.Sequential([\n",
    "    vectorize_layer,\n",
    "    tf.keras.layers.Embedding(\n",
    "        input_dim=len(vectorize_layer.get_vocabulary()),\n",
    "        output_dim=1,\n",
    "        mask_zero=True),\n",
    "    tf.keras.layers.Bidirectional(tf.keras.layers.LSTM(1)),\n",
    "\n",
    "    tf.keras.layers.Dense(3, activation='softmax')\n",
    "])\n",
    "\n",
    "model.compile(\n",
    "    optimizer= tf.keras.optimizers.Adam(),\n",
    "    loss=tf.keras.losses.categorical_crossentropy,\n",
    "    metrics=['accuracy']\n",
    ")\n",
    "\n",
    "X_train, X_test, Y_train, Y_test = train_test_split(Tweet_preprocessed, polarity, test_size=0.1)\n",
    "y_one = one.fit_transform(Y_train.reshape(-1,1))"
   ]
  },
  {
   "cell_type": "code",
   "execution_count": 76,
   "metadata": {},
   "outputs": [
    {
     "data": {
      "text/plain": [
       "(10379,)"
      ]
     },
     "execution_count": 76,
     "metadata": {},
     "output_type": "execute_result"
    }
   ],
   "source": [
    "X_train.shape"
   ]
  },
  {
   "cell_type": "code",
   "execution_count": 77,
   "metadata": {},
   "outputs": [
    {
     "name": "stdout",
     "output_type": "stream",
     "text": [
      "Epoch 1/10\n",
      "346/346 [==============================] - 5s 16ms/step - loss: 1.0744 - accuracy: 0.4497 - val_loss: 1.0510 - val_accuracy: 0.4627\n",
      "Epoch 2/10\n",
      "346/346 [==============================] - 4s 11ms/step - loss: 1.0211 - accuracy: 0.4654 - val_loss: 0.9852 - val_accuracy: 0.5095\n",
      "Epoch 3/10\n",
      "346/346 [==============================] - 4s 11ms/step - loss: 0.8910 - accuracy: 0.5662 - val_loss: 0.9270 - val_accuracy: 0.5061\n",
      "Epoch 4/10\n",
      "346/346 [==============================] - 4s 11ms/step - loss: 0.7661 - accuracy: 0.6216 - val_loss: 0.9226 - val_accuracy: 0.5286\n",
      "Epoch 5/10\n",
      "346/346 [==============================] - 4s 11ms/step - loss: 0.6752 - accuracy: 0.6647 - val_loss: 0.9425 - val_accuracy: 0.5615\n",
      "Epoch 6/10\n",
      "346/346 [==============================] - 4s 11ms/step - loss: 0.6160 - accuracy: 0.7018 - val_loss: 0.9726 - val_accuracy: 0.5702\n",
      "Epoch 7/10\n",
      "346/346 [==============================] - 4s 11ms/step - loss: 0.5744 - accuracy: 0.7120 - val_loss: 1.0143 - val_accuracy: 0.5754\n",
      "Epoch 8/10\n",
      "346/346 [==============================] - 4s 11ms/step - loss: 0.5433 - accuracy: 0.7072 - val_loss: 1.0587 - val_accuracy: 0.5659\n",
      "Epoch 9/10\n",
      "346/346 [==============================] - 4s 11ms/step - loss: 0.5199 - accuracy: 0.7138 - val_loss: 1.0980 - val_accuracy: 0.5806\n",
      "Epoch 10/10\n",
      "346/346 [==============================] - 4s 11ms/step - loss: 0.5023 - accuracy: 0.7249 - val_loss: 1.1408 - val_accuracy: 0.5702\n"
     ]
    }
   ],
   "source": [
    "fit = model.fit(np.asarray(pre_X(X_train)), y_one, epochs=10, batch_size=30 ,validation_data=(np.asarray(pre_X(X_test)), one.transform(Y_test.reshape(-1,1))))"
   ]
  },
  {
   "cell_type": "code",
   "execution_count": 36,
   "metadata": {},
   "outputs": [
    {
     "name": "stdout",
     "output_type": "stream",
     "text": [
      "Iter:  1\n",
      " \n",
      "Epoch 1/10\n",
      "82/82 [==============================] - 3s 33ms/step - loss: 1.0884 - accuracy: 0.4424 - val_loss: 1.0724 - val_accuracy: 0.4723\n",
      "Epoch 2/10\n",
      "82/82 [==============================] - 1s 13ms/step - loss: 1.0675 - accuracy: 0.4501 - val_loss: 1.0474 - val_accuracy: 0.4723\n",
      "Epoch 3/10\n",
      "82/82 [==============================] - 1s 13ms/step - loss: 1.0433 - accuracy: 0.4567 - val_loss: 1.0194 - val_accuracy: 0.4905\n",
      "Epoch 4/10\n",
      "82/82 [==============================] - 1s 13ms/step - loss: 1.0009 - accuracy: 0.5231 - val_loss: 0.9740 - val_accuracy: 0.5607\n",
      "Epoch 5/10\n",
      "82/82 [==============================] - 1s 12ms/step - loss: 0.9342 - accuracy: 0.5847 - val_loss: 0.9209 - val_accuracy: 0.5927\n",
      "Epoch 6/10\n",
      "82/82 [==============================] - 1s 12ms/step - loss: 0.8581 - accuracy: 0.6266 - val_loss: 0.8823 - val_accuracy: 0.6057\n",
      "Epoch 7/10\n",
      "82/82 [==============================] - 1s 12ms/step - loss: 0.7837 - accuracy: 0.6598 - val_loss: 0.8591 - val_accuracy: 0.6014\n",
      "Epoch 8/10\n",
      "82/82 [==============================] - 1s 13ms/step - loss: 0.7153 - accuracy: 0.7011 - val_loss: 0.8573 - val_accuracy: 0.6256\n",
      "Epoch 9/10\n",
      "82/82 [==============================] - 1s 12ms/step - loss: 0.6547 - accuracy: 0.7510 - val_loss: 0.8616 - val_accuracy: 0.6092\n",
      "Epoch 10/10\n",
      "82/82 [==============================] - 1s 13ms/step - loss: 0.6032 - accuracy: 0.7815 - val_loss: 0.8693 - val_accuracy: 0.6109\n",
      " \n",
      "Iter:  2\n",
      " \n",
      "Epoch 1/10\n",
      "82/82 [==============================] - 3s 32ms/step - loss: 1.0887 - accuracy: 0.4386 - val_loss: 1.0646 - val_accuracy: 0.5121\n",
      "Epoch 2/10\n",
      "82/82 [==============================] - 1s 13ms/step - loss: 1.0679 - accuracy: 0.4457 - val_loss: 1.0319 - val_accuracy: 0.5121\n",
      "Epoch 3/10\n",
      "82/82 [==============================] - 1s 12ms/step - loss: 1.0433 - accuracy: 0.4485 - val_loss: 1.0055 - val_accuracy: 0.5373\n",
      "Epoch 4/10\n",
      "82/82 [==============================] - 1s 13ms/step - loss: 1.0042 - accuracy: 0.5208 - val_loss: 0.9816 - val_accuracy: 0.5919\n",
      "Epoch 5/10\n",
      "82/82 [==============================] - 1s 13ms/step - loss: 0.9532 - accuracy: 0.5837 - val_loss: 0.9561 - val_accuracy: 0.6049\n",
      "Epoch 6/10\n",
      "82/82 [==============================] - 1s 12ms/step - loss: 0.8864 - accuracy: 0.6251 - val_loss: 0.9296 - val_accuracy: 0.6265\n",
      "Epoch 7/10\n",
      "82/82 [==============================] - 1s 12ms/step - loss: 0.8064 - accuracy: 0.6561 - val_loss: 0.9110 - val_accuracy: 0.6352\n",
      "Epoch 8/10\n",
      "82/82 [==============================] - 1s 12ms/step - loss: 0.7419 - accuracy: 0.6757 - val_loss: 0.9113 - val_accuracy: 0.6222\n",
      "Epoch 9/10\n",
      "82/82 [==============================] - 1s 13ms/step - loss: 0.6918 - accuracy: 0.6926 - val_loss: 0.9131 - val_accuracy: 0.6205\n",
      "Epoch 10/10\n",
      "82/82 [==============================] - 1s 13ms/step - loss: 0.6501 - accuracy: 0.7143 - val_loss: 0.9239 - val_accuracy: 0.6196\n",
      " \n",
      "Iter:  3\n",
      " \n",
      "Epoch 1/10\n",
      "82/82 [==============================] - 3s 33ms/step - loss: 1.0872 - accuracy: 0.4425 - val_loss: 1.0739 - val_accuracy: 0.4541\n",
      "Epoch 2/10\n",
      "82/82 [==============================] - 1s 12ms/step - loss: 1.0632 - accuracy: 0.4522 - val_loss: 1.0532 - val_accuracy: 0.4541\n",
      "Epoch 3/10\n",
      "82/82 [==============================] - 1s 12ms/step - loss: 1.0349 - accuracy: 0.4567 - val_loss: 1.0258 - val_accuracy: 0.4584\n",
      "Epoch 4/10\n",
      "82/82 [==============================] - 1s 13ms/step - loss: 0.9825 - accuracy: 0.5005 - val_loss: 0.9789 - val_accuracy: 0.5277\n",
      "Epoch 5/10\n",
      "82/82 [==============================] - 1s 13ms/step - loss: 0.9081 - accuracy: 0.5806 - val_loss: 0.9360 - val_accuracy: 0.5581\n",
      "Epoch 6/10\n",
      "82/82 [==============================] - 1s 13ms/step - loss: 0.8341 - accuracy: 0.6038 - val_loss: 0.9047 - val_accuracy: 0.5719\n",
      "Epoch 7/10\n",
      "82/82 [==============================] - 1s 13ms/step - loss: 0.7667 - accuracy: 0.6372 - val_loss: 0.8958 - val_accuracy: 0.5615\n",
      "Epoch 8/10\n",
      "82/82 [==============================] - 1s 13ms/step - loss: 0.7098 - accuracy: 0.6539 - val_loss: 0.8929 - val_accuracy: 0.5728\n",
      "Epoch 9/10\n",
      "82/82 [==============================] - 1s 13ms/step - loss: 0.6634 - accuracy: 0.6692 - val_loss: 0.8949 - val_accuracy: 0.6005\n",
      "Epoch 10/10\n",
      "82/82 [==============================] - 1s 13ms/step - loss: 0.6256 - accuracy: 0.6935 - val_loss: 0.9014 - val_accuracy: 0.6040\n",
      " \n",
      "Iter:  4\n",
      " \n",
      "Epoch 1/10\n",
      "82/82 [==============================] - 3s 32ms/step - loss: 1.0841 - accuracy: 0.4434 - val_loss: 1.0637 - val_accuracy: 0.4735\n",
      "Epoch 2/10\n",
      "82/82 [==============================] - 1s 12ms/step - loss: 1.0608 - accuracy: 0.4500 - val_loss: 1.0418 - val_accuracy: 0.4735\n",
      "Epoch 3/10\n",
      "82/82 [==============================] - 1s 13ms/step - loss: 1.0396 - accuracy: 0.4528 - val_loss: 1.0221 - val_accuracy: 0.4857\n",
      "Epoch 4/10\n",
      "82/82 [==============================] - 1s 13ms/step - loss: 1.0053 - accuracy: 0.4722 - val_loss: 0.9939 - val_accuracy: 0.4900\n",
      "Epoch 5/10\n",
      "82/82 [==============================] - 1s 13ms/step - loss: 0.9479 - accuracy: 0.5109 - val_loss: 0.9597 - val_accuracy: 0.5065\n",
      "Epoch 6/10\n",
      "82/82 [==============================] - 1s 13ms/step - loss: 0.8707 - accuracy: 0.5714 - val_loss: 0.9329 - val_accuracy: 0.5343\n",
      "Epoch 7/10\n",
      "82/82 [==============================] - 1s 13ms/step - loss: 0.7909 - accuracy: 0.6254 - val_loss: 0.9232 - val_accuracy: 0.5334\n",
      "Epoch 8/10\n",
      "82/82 [==============================] - 1s 13ms/step - loss: 0.7225 - accuracy: 0.6668 - val_loss: 0.9302 - val_accuracy: 0.5533\n",
      "Epoch 9/10\n",
      "82/82 [==============================] - 1s 13ms/step - loss: 0.6672 - accuracy: 0.6985 - val_loss: 0.9419 - val_accuracy: 0.5438\n",
      "Epoch 10/10\n",
      "82/82 [==============================] - 1s 12ms/step - loss: 0.6220 - accuracy: 0.7322 - val_loss: 0.9657 - val_accuracy: 0.5464\n",
      " \n",
      "Iter:  5\n",
      " \n",
      "Epoch 1/10\n",
      "82/82 [==============================] - 3s 32ms/step - loss: 1.0870 - accuracy: 0.4545 - val_loss: 1.0871 - val_accuracy: 0.4016\n",
      "Epoch 2/10\n",
      "82/82 [==============================] - 1s 13ms/step - loss: 1.0633 - accuracy: 0.4580 - val_loss: 1.0760 - val_accuracy: 0.4016\n",
      "Epoch 3/10\n",
      "82/82 [==============================] - 1s 13ms/step - loss: 1.0222 - accuracy: 0.4883 - val_loss: 1.0490 - val_accuracy: 0.4675\n",
      "Epoch 4/10\n",
      "82/82 [==============================] - 1s 13ms/step - loss: 0.9671 - accuracy: 0.5813 - val_loss: 1.0264 - val_accuracy: 0.4874\n",
      "Epoch 5/10\n",
      "82/82 [==============================] - 1s 13ms/step - loss: 0.9131 - accuracy: 0.6182 - val_loss: 0.9993 - val_accuracy: 0.5030\n",
      "Epoch 6/10\n",
      "82/82 [==============================] - 1s 13ms/step - loss: 0.8544 - accuracy: 0.6476 - val_loss: 0.9781 - val_accuracy: 0.5117\n",
      "Epoch 7/10\n",
      "82/82 [==============================] - 1s 13ms/step - loss: 0.7937 - accuracy: 0.6729 - val_loss: 0.9592 - val_accuracy: 0.5126\n",
      "Epoch 8/10\n",
      "82/82 [==============================] - 1s 13ms/step - loss: 0.7307 - accuracy: 0.6918 - val_loss: 0.9401 - val_accuracy: 0.5230\n",
      "Epoch 9/10\n",
      "82/82 [==============================] - 1s 13ms/step - loss: 0.6753 - accuracy: 0.7028 - val_loss: 0.9399 - val_accuracy: 0.5265\n",
      "Epoch 10/10\n",
      "82/82 [==============================] - 1s 13ms/step - loss: 0.6338 - accuracy: 0.7094 - val_loss: 0.9414 - val_accuracy: 0.5265\n",
      " \n",
      "Iter:  6\n",
      " \n",
      "Epoch 1/10\n",
      "82/82 [==============================] - 3s 33ms/step - loss: 1.0800 - accuracy: 0.4559 - val_loss: 1.1023 - val_accuracy: 0.3799\n",
      "Epoch 2/10\n",
      "82/82 [==============================] - 1s 13ms/step - loss: 1.0529 - accuracy: 0.4604 - val_loss: 1.1065 - val_accuracy: 0.3799\n",
      "Epoch 3/10\n",
      "82/82 [==============================] - 1s 13ms/step - loss: 1.0295 - accuracy: 0.4642 - val_loss: 1.0829 - val_accuracy: 0.3946\n",
      "Epoch 4/10\n",
      "82/82 [==============================] - 1s 13ms/step - loss: 0.9825 - accuracy: 0.4914 - val_loss: 1.0282 - val_accuracy: 0.4605\n",
      "Epoch 5/10\n",
      "82/82 [==============================] - 1s 13ms/step - loss: 0.9039 - accuracy: 0.5441 - val_loss: 0.9852 - val_accuracy: 0.4918\n",
      "Epoch 6/10\n",
      "82/82 [==============================] - 1s 13ms/step - loss: 0.8160 - accuracy: 0.5911 - val_loss: 0.9810 - val_accuracy: 0.4918\n",
      "Epoch 7/10\n",
      "82/82 [==============================] - 1s 13ms/step - loss: 0.7386 - accuracy: 0.6297 - val_loss: 0.9794 - val_accuracy: 0.4952\n",
      "Epoch 8/10\n",
      "82/82 [==============================] - 1s 13ms/step - loss: 0.6769 - accuracy: 0.6589 - val_loss: 0.9891 - val_accuracy: 0.4978\n",
      "Epoch 9/10\n",
      "82/82 [==============================] - 1s 13ms/step - loss: 0.6291 - accuracy: 0.6833 - val_loss: 1.0060 - val_accuracy: 0.4961\n",
      "Epoch 10/10\n",
      "82/82 [==============================] - 1s 13ms/step - loss: 0.5925 - accuracy: 0.7118 - val_loss: 1.0389 - val_accuracy: 0.4892\n",
      " \n",
      "Iter:  7\n",
      " \n",
      "Epoch 1/10\n",
      "82/82 [==============================] - 3s 33ms/step - loss: 1.0862 - accuracy: 0.4472 - val_loss: 1.0723 - val_accuracy: 0.4614\n",
      "Epoch 2/10\n",
      "82/82 [==============================] - 1s 14ms/step - loss: 1.0644 - accuracy: 0.4513 - val_loss: 1.0541 - val_accuracy: 0.4614\n",
      "Epoch 3/10\n",
      "82/82 [==============================] - 1s 15ms/step - loss: 1.0406 - accuracy: 0.4529 - val_loss: 1.0302 - val_accuracy: 0.4796\n",
      "Epoch 4/10\n",
      "82/82 [==============================] - 1s 14ms/step - loss: 0.9909 - accuracy: 0.5311 - val_loss: 0.9882 - val_accuracy: 0.5265\n",
      "Epoch 5/10\n",
      "82/82 [==============================] - 1s 13ms/step - loss: 0.9125 - accuracy: 0.5914 - val_loss: 0.9464 - val_accuracy: 0.5447\n",
      "Epoch 6/10\n",
      "82/82 [==============================] - 1s 13ms/step - loss: 0.8234 - accuracy: 0.6319 - val_loss: 0.9168 - val_accuracy: 0.5690\n",
      "Epoch 7/10\n",
      "82/82 [==============================] - 1s 13ms/step - loss: 0.7377 - accuracy: 0.6652 - val_loss: 0.9059 - val_accuracy: 0.5698\n",
      "Epoch 8/10\n",
      "82/82 [==============================] - 1s 13ms/step - loss: 0.6725 - accuracy: 0.6920 - val_loss: 0.9124 - val_accuracy: 0.5750\n",
      "Epoch 9/10\n",
      "82/82 [==============================] - 1s 13ms/step - loss: 0.6214 - accuracy: 0.7190 - val_loss: 0.9280 - val_accuracy: 0.5811\n",
      "Epoch 10/10\n",
      "82/82 [==============================] - 1s 13ms/step - loss: 0.5799 - accuracy: 0.7461 - val_loss: 0.9408 - val_accuracy: 0.5776\n",
      " \n",
      "Iter:  8\n",
      " \n",
      "Epoch 1/10\n",
      "82/82 [==============================] - 3s 32ms/step - loss: 1.0883 - accuracy: 0.4329 - val_loss: 1.0557 - val_accuracy: 0.5169\n",
      "Epoch 2/10\n",
      "82/82 [==============================] - 1s 13ms/step - loss: 1.0683 - accuracy: 0.4455 - val_loss: 1.0219 - val_accuracy: 0.5169\n",
      "Epoch 3/10\n",
      "82/82 [==============================] - 1s 13ms/step - loss: 1.0386 - accuracy: 0.4800 - val_loss: 0.9899 - val_accuracy: 0.5716\n",
      "Epoch 4/10\n",
      "82/82 [==============================] - 1s 13ms/step - loss: 0.9884 - accuracy: 0.5402 - val_loss: 0.9650 - val_accuracy: 0.5785\n",
      "Epoch 5/10\n",
      "82/82 [==============================] - 1s 13ms/step - loss: 0.9347 - accuracy: 0.5793 - val_loss: 0.9534 - val_accuracy: 0.6028\n",
      "Epoch 6/10\n",
      "82/82 [==============================] - 1s 13ms/step - loss: 0.8863 - accuracy: 0.6072 - val_loss: 0.9476 - val_accuracy: 0.6088\n",
      "Epoch 7/10\n",
      "82/82 [==============================] - 1s 13ms/step - loss: 0.8415 - accuracy: 0.6311 - val_loss: 0.9443 - val_accuracy: 0.6210\n",
      "Epoch 8/10\n",
      "82/82 [==============================] - 1s 13ms/step - loss: 0.8048 - accuracy: 0.6494 - val_loss: 0.9433 - val_accuracy: 0.6236\n",
      "Epoch 9/10\n",
      "82/82 [==============================] - 1s 13ms/step - loss: 0.7740 - accuracy: 0.6618 - val_loss: 0.9543 - val_accuracy: 0.6245\n",
      "Epoch 10/10\n",
      "82/82 [==============================] - 1s 13ms/step - loss: 0.7487 - accuracy: 0.6697 - val_loss: 0.9701 - val_accuracy: 0.6184\n",
      " \n",
      "Iter:  9\n",
      " \n",
      "Epoch 1/10\n",
      "82/82 [==============================] - 3s 32ms/step - loss: 1.0860 - accuracy: 0.4526 - val_loss: 1.0815 - val_accuracy: 0.4180\n",
      "Epoch 2/10\n",
      "82/82 [==============================] - 1s 13ms/step - loss: 1.0621 - accuracy: 0.4562 - val_loss: 1.0673 - val_accuracy: 0.4180\n",
      "Epoch 3/10\n",
      "82/82 [==============================] - 1s 13ms/step - loss: 1.0361 - accuracy: 0.4579 - val_loss: 1.0454 - val_accuracy: 0.4310\n",
      "Epoch 4/10\n",
      "82/82 [==============================] - 1s 13ms/step - loss: 0.9953 - accuracy: 0.5107 - val_loss: 1.0098 - val_accuracy: 0.5074\n",
      "Epoch 5/10\n",
      "82/82 [==============================] - 1s 13ms/step - loss: 0.9336 - accuracy: 0.5657 - val_loss: 0.9683 - val_accuracy: 0.5230\n",
      "Epoch 6/10\n",
      "82/82 [==============================] - 1s 13ms/step - loss: 0.8548 - accuracy: 0.6128 - val_loss: 0.9292 - val_accuracy: 0.5629\n",
      "Epoch 7/10\n",
      "82/82 [==============================] - 1s 13ms/step - loss: 0.7715 - accuracy: 0.6541 - val_loss: 0.9114 - val_accuracy: 0.5811\n",
      "Epoch 8/10\n",
      "82/82 [==============================] - 1s 13ms/step - loss: 0.6989 - accuracy: 0.6792 - val_loss: 0.9057 - val_accuracy: 0.5828\n",
      "Epoch 9/10\n",
      "82/82 [==============================] - 1s 13ms/step - loss: 0.6394 - accuracy: 0.6987 - val_loss: 0.9130 - val_accuracy: 0.5837\n",
      "Epoch 10/10\n",
      "82/82 [==============================] - 1s 13ms/step - loss: 0.5897 - accuracy: 0.7265 - val_loss: 0.9260 - val_accuracy: 0.5785\n",
      " \n",
      "Iter:  10\n",
      " \n",
      "Epoch 1/10\n",
      "82/82 [==============================] - 3s 33ms/step - loss: 1.0860 - accuracy: 0.4518 - val_loss: 1.0794 - val_accuracy: 0.4337\n",
      "Epoch 2/10\n",
      "82/82 [==============================] - 1s 13ms/step - loss: 1.0620 - accuracy: 0.4544 - val_loss: 1.0640 - val_accuracy: 0.4345\n",
      "Epoch 3/10\n",
      "82/82 [==============================] - 1s 13ms/step - loss: 1.0279 - accuracy: 0.4861 - val_loss: 1.0283 - val_accuracy: 0.5030\n",
      "Epoch 4/10\n",
      "82/82 [==============================] - 1s 13ms/step - loss: 0.9668 - accuracy: 0.5810 - val_loss: 0.9953 - val_accuracy: 0.5447\n",
      "Epoch 5/10\n",
      "82/82 [==============================] - 1s 13ms/step - loss: 0.9083 - accuracy: 0.6211 - val_loss: 0.9831 - val_accuracy: 0.5507\n",
      "Epoch 6/10\n",
      "82/82 [==============================] - 1s 13ms/step - loss: 0.8608 - accuracy: 0.6428 - val_loss: 0.9773 - val_accuracy: 0.5542\n",
      "Epoch 7/10\n",
      "82/82 [==============================] - 1s 13ms/step - loss: 0.8202 - accuracy: 0.6612 - val_loss: 0.9739 - val_accuracy: 0.5603\n",
      "Epoch 8/10\n",
      "82/82 [==============================] - 1s 13ms/step - loss: 0.7852 - accuracy: 0.6740 - val_loss: 0.9754 - val_accuracy: 0.5620\n",
      "Epoch 9/10\n",
      "82/82 [==============================] - 1s 13ms/step - loss: 0.7576 - accuracy: 0.6835 - val_loss: 0.9794 - val_accuracy: 0.5577\n",
      "Epoch 10/10\n",
      "82/82 [==============================] - 1s 13ms/step - loss: 0.7313 - accuracy: 0.6929 - val_loss: 0.9883 - val_accuracy: 0.5507\n",
      " \n"
     ]
    }
   ],
   "source": [
    "kf = KFold(n_splits=10)\n",
    "val_accuracy = []\n",
    "index = []\n",
    "cont = 0\n",
    "\n",
    "for train_index, test_index in kf.split(Tweet_preprocessed):\n",
    "    cont += 1\n",
    "    \n",
    "    model = tf.keras.Sequential([\n",
    "    vectorize_layer,\n",
    "    tf.keras.layers.Embedding(\n",
    "        input_dim=len(vectorize_layer.get_vocabulary()),\n",
    "        output_dim=1,\n",
    "        mask_zero=True),\n",
    "    tf.keras.layers.Bidirectional(tf.keras.layers.LSTM(1)),\n",
    "\n",
    "    tf.keras.layers.Dense(3, activation='softmax')\n",
    "    ])\n",
    "\n",
    "    model.compile(\n",
    "        optimizer= tf.keras.optimizers.Adam(),\n",
    "        loss=tf.keras.losses.categorical_crossentropy,\n",
    "        metrics=['accuracy']\n",
    "    )\n",
    "\n",
    "    Tweet_preprocessed = np.asarray(pre_X(Tweet_preprocessed))\n",
    "    \n",
    "    X_train, X_test = Tweet_preprocessed[train_index], Tweet_preprocessed[test_index]\n",
    "    y_train, y_test = polarity[train_index], polarity[test_index]\n",
    "    y_train_one = one.fit_transform(y_train.reshape(-1,1))\n",
    "    y_teste_one = one.fit_transform(y_test.reshape(-1,1))\n",
    "    \n",
    "    print(\"Iter: \",cont)\n",
    "    print(\" \")\n",
    "    \n",
    "    fit = model.fit( X_train, y_train_one, epochs=10, batch_size=128 ,validation_data=(X_test, y_teste_one)) \n",
    "    print(\" \")\n",
    "    val_accuracy.append(fit.history['val_accuracy'])\n",
    "    \n",
    "    index.append((train_index,test_index))"
   ]
  },
  {
   "cell_type": "code",
   "execution_count": 37,
   "metadata": {},
   "outputs": [
    {
     "name": "stdout",
     "output_type": "stream",
     "text": [
      " Fold: 0\tMédia: 0.564124783873558\tStd: 0.05852653066105758 \n",
      " Fold: 1\tMédia: 0.5882148981094361\tStd: 0.046166607803603196 \n",
      " Fold: 2\tMédia: 0.536308491230011\tStd: 0.05663883999433459 \n",
      " Fold: 3\tMédia: 0.5140503108501434\tStd: 0.029961637274748435 \n",
      " Fold: 4\tMédia: 0.4861231505870819\tStd: 0.04571968439869184 \n",
      " Fold: 5\tMédia: 0.45767562687397\tStd: 0.04889010620322023 \n",
      " Fold: 6\tMédia: 0.5346053808927536\tStd: 0.04687479746883418 \n",
      " Fold: 7\tMédia: 0.5882914185523986\tStd: 0.03965774547725595 \n",
      " Fold: 8\tMédia: 0.5186470061540603\tStd: 0.06771295847454711 \n",
      " Fold: 9\tMédia: 0.5251517742872238\tStd: 0.04822896844178523 \n"
     ]
    }
   ],
   "source": [
    "media_std(val_accuracy)"
   ]
  },
  {
   "cell_type": "code",
   "execution_count": 39,
   "metadata": {},
   "outputs": [
    {
     "data": {
      "text/plain": [
       "0.5313192841410637"
      ]
     },
     "execution_count": 39,
     "metadata": {},
     "output_type": "execute_result"
    }
   ],
   "source": [
    "np.array([0.564124783873558, \n",
    "0.5882148981094361,\n",
    "0.536308491230011,\n",
    "0.5140503108501434,  \n",
    "0.4861231505870819,\n",
    "0.45767562687397, \n",
    "0.5346053808927536,  \n",
    "0.5882914185523986,  \n",
    "0.5186470061540603, \n",
    "0.5251517742872238]).mean()  "
   ]
  },
  {
   "cell_type": "code",
   "execution_count": 38,
   "metadata": {},
   "outputs": [
    {
     "data": {
      "text/plain": [
       "0.04883778761980784"
      ]
     },
     "execution_count": 38,
     "metadata": {},
     "output_type": "execute_result"
    }
   ],
   "source": [
    "np.array([0.05852653066105758,\n",
    "0.046166607803603196,\n",
    "0.05663883999433459,\n",
    "0.029961637274748435,\n",
    "0.04571968439869184,\n",
    "0.04889010620322023,\n",
    "0.04687479746883418,\n",
    "0.03965774547725595,\n",
    "0.06771295847454711,\n",
    "0.04822896844178523]).mean()"
   ]
  },
  {
   "cell_type": "code",
   "execution_count": 79,
   "metadata": {},
   "outputs": [
    {
     "name": "stdout",
     "output_type": "stream",
     "text": [
      "Model: \"sequential_8\"\n",
      "_________________________________________________________________\n",
      "Layer (type)                 Output Shape              Param #   \n",
      "=================================================================\n",
      "text_vectorization_1 (TextVe (None, 35)                0         \n",
      "_________________________________________________________________\n",
      "embedding_9 (Embedding)      (None, 35, 1)             15000     \n",
      "_________________________________________________________________\n",
      "bidirectional_8 (Bidirection (None, 2)                 24        \n",
      "_________________________________________________________________\n",
      "dense_14 (Dense)             (None, 3)                 9         \n",
      "=================================================================\n",
      "Total params: 15,033\n",
      "Trainable params: 15,033\n",
      "Non-trainable params: 0\n",
      "_________________________________________________________________\n"
     ]
    }
   ],
   "source": [
    "model.summary()"
   ]
  },
  {
   "cell_type": "code",
   "execution_count": 33,
   "metadata": {},
   "outputs": [
    {
     "data": {
      "image/png": "[encoded data removed]",
      "text/plain": [
       "<Figure size 864x432 with 1 Axes>"
      ]
     },
     "metadata": {
      "needs_background": "light"
     },
     "output_type": "display_data"
    }
   ],
   "source": [
    "plt.figure(figsize=(12,6))\n",
    "plt.plot(fit.history['loss'], label='Loss', color='darkred')\n",
    "plt.plot(fit.history['val_loss'], label='Val Loss', color='green')\n",
    "plt.legend()\n",
    "plt.grid()\n",
    "plt.ylabel('Loss')\n",
    "plt.show()"
   ]
  },
  {
   "cell_type": "code",
   "execution_count": 34,
   "metadata": {},
   "outputs": [
    {
     "data": {
      "image/png": "[encoded data removed]",
      "text/plain": [
       "<Figure size 864x432 with 1 Axes>"
      ]
     },
     "metadata": {
      "needs_background": "light"
     },
     "output_type": "display_data"
    }
   ],
   "source": [
    "plt.figure(figsize=(12,6))\n",
    "plt.plot(fit.history['accuracy'], label='accuracy', color='darkred')\n",
    "plt.plot(fit.history['val_accuracy'], label='Val accuracy', color='green')\n",
    "plt.legend()\n",
    "plt.grid()\n",
    "plt.ylabel('Accuracy')\n",
    "plt.show()"
   ]
  },
  {
   "cell_type": "code",
   "execution_count": 18,
   "metadata": {
    "scrolled": false
   },
   "outputs": [
    {
     "name": "stdout",
     "output_type": "stream",
     "text": [
      "INFO:tensorflow:Reloading Oracle from existing project .\\text_classifier\\oracle.json\n",
      "INFO:tensorflow:Reloading Tuner from .\\text_classifier\\tuner0.json\n",
      "INFO:tensorflow:Oracle triggered exit\n",
      "Epoch 1/10\n",
      "253/253 [==============================] - 23s 92ms/step - loss: 0.5958 - accuracy: 0.4936 - val_loss: 0.5222 - val_accuracy: 0.5882\n",
      "Epoch 2/10\n",
      "253/253 [==============================] - 24s 95ms/step - loss: 0.4689 - accuracy: 0.6444 - val_loss: 0.5052 - val_accuracy: 0.6066\n",
      "Epoch 3/10\n",
      "253/253 [==============================] - 27s 107ms/step - loss: 0.3611 - accuracy: 0.7537 - val_loss: 0.5646 - val_accuracy: 0.5960\n",
      "Epoch 4/10\n",
      "253/253 [==============================] - 24s 94ms/step - loss: 0.2627 - accuracy: 0.8339 - val_loss: 0.6647 - val_accuracy: 0.5847\n",
      "Epoch 5/10\n",
      "253/253 [==============================] - 24s 95ms/step - loss: 0.1892 - accuracy: 0.8875 - val_loss: 0.7942 - val_accuracy: 0.5760\n",
      "Epoch 6/10\n",
      "253/253 [==============================] - 23s 92ms/step - loss: 0.1409 - accuracy: 0.9178 - val_loss: 0.9585 - val_accuracy: 0.5697\n",
      "Epoch 7/10\n",
      "253/253 [==============================] - 23s 91ms/step - loss: 0.1101 - accuracy: 0.9327 - val_loss: 1.0319 - val_accuracy: 0.5809\n",
      "Epoch 8/10\n",
      "253/253 [==============================] - 23s 91ms/step - loss: 0.0847 - accuracy: 0.9467 - val_loss: 1.1183 - val_accuracy: 0.5647\n",
      "Epoch 9/10\n",
      "253/253 [==============================] - 27s 107ms/step - loss: 0.0789 - accuracy: 0.9527 - val_loss: 1.2388 - val_accuracy: 0.5659\n",
      "Epoch 10/10\n",
      "253/253 [==============================] - 26s 104ms/step - loss: 0.0644 - accuracy: 0.9618 - val_loss: 1.3376 - val_accuracy: 0.5572\n",
      "WARNING:tensorflow:From c:\\users\\ddayv\\appdata\\local\\programs\\python\\python37\\lib\\site-packages\\tensorflow\\python\\training\\tracking\\tracking.py:111: Model.state_updates (from tensorflow.python.keras.engine.training) is deprecated and will be removed in a future version.\n",
      "Instructions for updating:\n",
      "This property should not be used in TensorFlow 2.0, as updates are applied automatically.\n",
      "WARNING:tensorflow:From c:\\users\\ddayv\\appdata\\local\\programs\\python\\python37\\lib\\site-packages\\tensorflow\\python\\training\\tracking\\tracking.py:111: Layer.updates (from tensorflow.python.keras.engine.base_layer) is deprecated and will be removed in a future version.\n",
      "Instructions for updating:\n",
      "This property should not be used in TensorFlow 2.0, as updates are applied automatically.\n",
      "INFO:tensorflow:Assets written to: .\\text_classifier\\best_model\\assets\n"
     ]
    }
   ],
   "source": [
    "TextClassifier = ak.TextClassifier(\n",
    "    num_classes=3, \n",
    "    multi_label=True, \n",
    "    loss=tf.keras.losses.categorical_crossentropy, \n",
    "    metrics=['accuracy'],\n",
    "    project_name=\"text_classifier\",\n",
    "    max_trials=1,\n",
    "    objective=\"val_loss\"\n",
    ")\n",
    "\n",
    "fit = TextClassifier.fit(\n",
    "    x=np.asarray(pre_X(X_train)), y=one.fit_transform(Y_train.reshape(-1,1)), epochs=10, validation_split=0.2, validation_data=(np.asarray(pre_X(X_test)),one.fit_transform(Y_test.reshape(-1,1)) )\n",
    ")\n"
   ]
  }
 ],
 "metadata": {
  "kernelspec": {
   "display_name": "Python 3",
   "language": "python",
   "name": "python3"
  },
  "language_info": {
   "codemirror_mode": {
    "name": "ipython",
    "version": 3
   },
   "file_extension": ".py",
   "mimetype": "text/x-python",
   "name": "python",
   "nbconvert_exporter": "python",
   "pygments_lexer": "ipython3",
   "version": "3.7.9"
  }
 },
 "nbformat": 4,
 "nbformat_minor": 2
}
