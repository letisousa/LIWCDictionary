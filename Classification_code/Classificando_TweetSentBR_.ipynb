{
 "cells": [
  {
   "cell_type": "code",
   "execution_count": 1,
   "metadata": {},
   "outputs": [
    {
     "name": "stderr",
     "output_type": "stream",
     "text": [
      "[nltk_data] Downloading package stopwords to\n",
      "[nltk_data]     C:\\Users\\ddayv\\AppData\\Roaming\\nltk_data...\n",
      "[nltk_data]   Package stopwords is already up-to-date!\n",
      "[nltk_data] Downloading package wordnet to\n",
      "[nltk_data]     C:\\Users\\ddayv\\AppData\\Roaming\\nltk_data...\n",
      "[nltk_data]   Package wordnet is already up-to-date!\n"
     ]
    },
    {
     "data": {
      "text/plain": [
       "True"
      ]
     },
     "execution_count": 1,
     "metadata": {},
     "output_type": "execute_result"
    }
   ],
   "source": [
    "import pandas as pd\n",
    "import numpy as np\n",
    "from sklearn.feature_extraction.text import CountVectorizer\n",
    "from sklearn.feature_extraction.text import TfidfTransformer\n",
    "from sklearn.naive_bayes import MultinomialNB\n",
    "from sklearn.model_selection import train_test_split\n",
    "from sklearn.metrics import classification_report\n",
    "import seaborn as sns\n",
    "import re\n",
    "from sklearn.metrics import classification_report\n",
    "import tensorflow as tf\n",
    "from tensorflow.keras.layers.experimental.preprocessing import TextVectorization\n",
    "from nltk import word_tokenize, RegexpTokenizer\n",
    "from nltk.corpus import stopwords, wordnet\n",
    "from sklearn.preprocessing import OneHotEncoder\n",
    "import matplotlib.pyplot as plt\n",
    "import autokeras as ak\n",
    "from sklearn.model_selection import KFold\n",
    "import pydot\n",
    "import nltk\n",
    "import graphviz\n",
    "nltk.download('stopwords')\n",
    "nltk.download('wordnet')"
   ]
  },
  {
   "cell_type": "code",
   "execution_count": 2,
   "metadata": {},
   "outputs": [
    {
     "data": {
      "text/plain": [
       "(11570, 4)"
      ]
     },
     "execution_count": 2,
     "metadata": {},
     "output_type": "execute_result"
    }
   ],
   "source": [
    "df_all = pd.read_csv(\"export_TweetSentBR.csv\")\n",
    "df_all.shape"
   ]
  },
  {
   "cell_type": "code",
   "execution_count": 3,
   "metadata": {},
   "outputs": [
    {
     "data": {
      "text/html": [
       "<div>\n",
       "<style scoped>\n",
       "    .dataframe tbody tr th:only-of-type {\n",
       "        vertical-align: middle;\n",
       "    }\n",
       "\n",
       "    .dataframe tbody tr th {\n",
       "        vertical-align: top;\n",
       "    }\n",
       "\n",
       "    .dataframe thead th {\n",
       "        text-align: right;\n",
       "    }\n",
       "</style>\n",
       "<table border=\"1\" class=\"dataframe\">\n",
       "  <thead>\n",
       "    <tr style=\"text-align: right;\">\n",
       "      <th></th>\n",
       "      <th>id</th>\n",
       "      <th>id_twitter</th>\n",
       "      <th>text</th>\n",
       "      <th>sentiment</th>\n",
       "    </tr>\n",
       "  </thead>\n",
       "  <tbody>\n",
       "    <tr>\n",
       "      <th>0</th>\n",
       "      <td>1343</td>\n",
       "      <td>863044774588272640</td>\n",
       "      <td>Que coisa linda! O Programa #encontro estava m...</td>\n",
       "      <td>1</td>\n",
       "    </tr>\n",
       "    <tr>\n",
       "      <th>1</th>\n",
       "      <td>1344</td>\n",
       "      <td>865583716088766467</td>\n",
       "      <td>Por mais #Encontro com as Irmãs Galvão, adorei...</td>\n",
       "      <td>1</td>\n",
       "    </tr>\n",
       "    <tr>\n",
       "      <th>2</th>\n",
       "      <td>1345</td>\n",
       "      <td>865063232201011201</td>\n",
       "      <td>Mr. CATRA @OficialMrCatra lançando sua nova mú...</td>\n",
       "      <td>1</td>\n",
       "    </tr>\n",
       "    <tr>\n",
       "      <th>3</th>\n",
       "      <td>1346</td>\n",
       "      <td>864668391008763905</td>\n",
       "      <td>quem viu aquela lutadora modela barbuda tatuad...</td>\n",
       "      <td>0</td>\n",
       "    </tr>\n",
       "    <tr>\n",
       "      <th>4</th>\n",
       "      <td>1347</td>\n",
       "      <td>865572794016378882</td>\n",
       "      <td>Tô passada com esse cara.... quanta merda pode...</td>\n",
       "      <td>-1</td>\n",
       "    </tr>\n",
       "  </tbody>\n",
       "</table>\n",
       "</div>"
      ],
      "text/plain": [
       "     id          id_twitter  \\\n",
       "0  1343  863044774588272640   \n",
       "1  1344  865583716088766467   \n",
       "2  1345  865063232201011201   \n",
       "3  1346  864668391008763905   \n",
       "4  1347  865572794016378882   \n",
       "\n",
       "                                                text sentiment  \n",
       "0  Que coisa linda! O Programa #encontro estava m...         1  \n",
       "1  Por mais #Encontro com as Irmãs Galvão, adorei...         1  \n",
       "2  Mr. CATRA @OficialMrCatra lançando sua nova mú...         1  \n",
       "3  quem viu aquela lutadora modela barbuda tatuad...         0  \n",
       "4  Tô passada com esse cara.... quanta merda pode...        -1  "
      ]
     },
     "execution_count": 3,
     "metadata": {},
     "output_type": "execute_result"
    }
   ],
   "source": [
    "df_all.head()"
   ]
  },
  {
   "cell_type": "code",
   "execution_count": 4,
   "metadata": {},
   "outputs": [
    {
     "data": {
      "text/plain": [
       "37"
      ]
     },
     "execution_count": 4,
     "metadata": {},
     "output_type": "execute_result"
    }
   ],
   "source": [
    "len(df_all[df_all[\"sentiment\"] == \"-\"]['text'])"
   ]
  },
  {
   "cell_type": "code",
   "execution_count": 5,
   "metadata": {},
   "outputs": [],
   "source": [
    "df_remove = df_all[df_all['sentiment'] == '-']\n",
    "df_all = df_all.drop(df_remove.index)"
   ]
  },
  {
   "cell_type": "code",
   "execution_count": 6,
   "metadata": {},
   "outputs": [
    {
     "data": {
      "text/plain": [
       "id            0\n",
       "id_twitter    0\n",
       "text          0\n",
       "sentiment     0\n",
       "dtype: int64"
      ]
     },
     "execution_count": 6,
     "metadata": {},
     "output_type": "execute_result"
    }
   ],
   "source": [
    "df_all.isnull().sum()"
   ]
  },
  {
   "cell_type": "code",
   "execution_count": 7,
   "metadata": {},
   "outputs": [
    {
     "data": {
      "image/png": "[encoded data removed]",
      "text/plain": [
       "<Figure size 432x288 with 1 Axes>"
      ]
     },
     "metadata": {
      "needs_background": "light"
     },
     "output_type": "display_data"
    }
   ],
   "source": [
    "df_all = df_all.dropna()\n",
    "sns.countplot(data=df_all, x='sentiment')\n",
    "plt.grid()"
   ]
  },
  {
   "cell_type": "code",
   "execution_count": 8,
   "metadata": {},
   "outputs": [
    {
     "data": {
      "text/html": [
       "<div>\n",
       "<style scoped>\n",
       "    .dataframe tbody tr th:only-of-type {\n",
       "        vertical-align: middle;\n",
       "    }\n",
       "\n",
       "    .dataframe tbody tr th {\n",
       "        vertical-align: top;\n",
       "    }\n",
       "\n",
       "    .dataframe thead th {\n",
       "        text-align: right;\n",
       "    }\n",
       "</style>\n",
       "<table border=\"1\" class=\"dataframe\">\n",
       "  <thead>\n",
       "    <tr style=\"text-align: right;\">\n",
       "      <th></th>\n",
       "      <th>index</th>\n",
       "      <th>id</th>\n",
       "      <th>id_twitter</th>\n",
       "      <th>text</th>\n",
       "      <th>sentiment</th>\n",
       "    </tr>\n",
       "  </thead>\n",
       "  <tbody>\n",
       "    <tr>\n",
       "      <th>0</th>\n",
       "      <td>0</td>\n",
       "      <td>1343</td>\n",
       "      <td>863044774588272640</td>\n",
       "      <td>Que coisa linda! O Programa #encontro estava m...</td>\n",
       "      <td>1</td>\n",
       "    </tr>\n",
       "    <tr>\n",
       "      <th>1</th>\n",
       "      <td>1</td>\n",
       "      <td>1344</td>\n",
       "      <td>865583716088766467</td>\n",
       "      <td>Por mais #Encontro com as Irmãs Galvão, adorei...</td>\n",
       "      <td>1</td>\n",
       "    </tr>\n",
       "    <tr>\n",
       "      <th>2</th>\n",
       "      <td>2</td>\n",
       "      <td>1345</td>\n",
       "      <td>865063232201011201</td>\n",
       "      <td>Mr. CATRA @OficialMrCatra lançando sua nova mú...</td>\n",
       "      <td>1</td>\n",
       "    </tr>\n",
       "    <tr>\n",
       "      <th>3</th>\n",
       "      <td>3</td>\n",
       "      <td>1346</td>\n",
       "      <td>864668391008763905</td>\n",
       "      <td>quem viu aquela lutadora modela barbuda tatuad...</td>\n",
       "      <td>0</td>\n",
       "    </tr>\n",
       "    <tr>\n",
       "      <th>4</th>\n",
       "      <td>4</td>\n",
       "      <td>1347</td>\n",
       "      <td>865572794016378882</td>\n",
       "      <td>Tô passada com esse cara.... quanta merda pode...</td>\n",
       "      <td>-1</td>\n",
       "    </tr>\n",
       "    <tr>\n",
       "      <th>...</th>\n",
       "      <td>...</td>\n",
       "      <td>...</td>\n",
       "      <td>...</td>\n",
       "      <td>...</td>\n",
       "      <td>...</td>\n",
       "    </tr>\n",
       "    <tr>\n",
       "      <th>11528</th>\n",
       "      <td>11565</td>\n",
       "      <td>12908</td>\n",
       "      <td>864636619000877056</td>\n",
       "      <td>eu ja to aqui pronto pro #MasterChefBR mas ain...</td>\n",
       "      <td>-1</td>\n",
       "    </tr>\n",
       "    <tr>\n",
       "      <th>11529</th>\n",
       "      <td>11566</td>\n",
       "      <td>12909</td>\n",
       "      <td>863581588713603072</td>\n",
       "      <td>MALUCO! Uma coisa que eu não tenho coragem é e...</td>\n",
       "      <td>-1</td>\n",
       "    </tr>\n",
       "    <tr>\n",
       "      <th>11530</th>\n",
       "      <td>11567</td>\n",
       "      <td>12910</td>\n",
       "      <td>864831041349054464</td>\n",
       "      <td>#MaisVoce @ANAMARIABRAGA  está linda @RedeGlobo</td>\n",
       "      <td>1</td>\n",
       "    </tr>\n",
       "    <tr>\n",
       "      <th>11531</th>\n",
       "      <td>11568</td>\n",
       "      <td>12911</td>\n",
       "      <td>863042798575951872</td>\n",
       "      <td>Que orgulho de ti, @sportrecife! #Encontro</td>\n",
       "      <td>1</td>\n",
       "    </tr>\n",
       "    <tr>\n",
       "      <th>11532</th>\n",
       "      <td>11569</td>\n",
       "      <td>12912</td>\n",
       "      <td>864681041541386240</td>\n",
       "      <td>Gente olha o bíceps desse padre #ConversaComBial</td>\n",
       "      <td>1</td>\n",
       "    </tr>\n",
       "  </tbody>\n",
       "</table>\n",
       "<p>11533 rows × 5 columns</p>\n",
       "</div>"
      ],
      "text/plain": [
       "       index     id          id_twitter  \\\n",
       "0          0   1343  863044774588272640   \n",
       "1          1   1344  865583716088766467   \n",
       "2          2   1345  865063232201011201   \n",
       "3          3   1346  864668391008763905   \n",
       "4          4   1347  865572794016378882   \n",
       "...      ...    ...                 ...   \n",
       "11528  11565  12908  864636619000877056   \n",
       "11529  11566  12909  863581588713603072   \n",
       "11530  11567  12910  864831041349054464   \n",
       "11531  11568  12911  863042798575951872   \n",
       "11532  11569  12912  864681041541386240   \n",
       "\n",
       "                                                    text sentiment  \n",
       "0      Que coisa linda! O Programa #encontro estava m...         1  \n",
       "1      Por mais #Encontro com as Irmãs Galvão, adorei...         1  \n",
       "2      Mr. CATRA @OficialMrCatra lançando sua nova mú...         1  \n",
       "3      quem viu aquela lutadora modela barbuda tatuad...         0  \n",
       "4      Tô passada com esse cara.... quanta merda pode...        -1  \n",
       "...                                                  ...       ...  \n",
       "11528  eu ja to aqui pronto pro #MasterChefBR mas ain...        -1  \n",
       "11529  MALUCO! Uma coisa que eu não tenho coragem é e...        -1  \n",
       "11530    #MaisVoce @ANAMARIABRAGA  está linda @RedeGlobo         1  \n",
       "11531         Que orgulho de ti, @sportrecife! #Encontro         1  \n",
       "11532   Gente olha o bíceps desse padre #ConversaComBial         1  \n",
       "\n",
       "[11533 rows x 5 columns]"
      ]
     },
     "execution_count": 8,
     "metadata": {},
     "output_type": "execute_result"
    }
   ],
   "source": [
    "df_all = df_all.reset_index()\n",
    "df_all"
   ]
  },
  {
   "cell_type": "code",
   "execution_count": 9,
   "metadata": {},
   "outputs": [
    {
     "data": {
      "text/plain": [
       "array(['1', '0', '-1'], dtype=object)"
      ]
     },
     "execution_count": 9,
     "metadata": {},
     "output_type": "execute_result"
    }
   ],
   "source": [
    "df_all = df_all.drop(columns=['index'])\n",
    "df_all['sentiment'].unique()"
   ]
  },
  {
   "cell_type": "code",
   "execution_count": 10,
   "metadata": {},
   "outputs": [],
   "source": [
    "df_all['sentiment'] = df_all['sentiment'].apply(lambda x: int(x))"
   ]
  },
  {
   "cell_type": "code",
   "execution_count": 11,
   "metadata": {},
   "outputs": [
    {
     "data": {
      "text/plain": [
       "array([-1,  0,  1], dtype=int64)"
      ]
     },
     "execution_count": 11,
     "metadata": {},
     "output_type": "execute_result"
    }
   ],
   "source": [
    "Tweet = df_all['text']\n",
    "polarity = np.asarray(df_all['sentiment'])\n",
    "\n",
    "np.unique(polarity)"
   ]
  },
  {
   "cell_type": "code",
   "execution_count": 12,
   "metadata": {},
   "outputs": [
    {
     "data": {
      "text/plain": [
       "(11533, 13064)"
      ]
     },
     "execution_count": 12,
     "metadata": {},
     "output_type": "execute_result"
    }
   ],
   "source": [
    "count_vect = CountVectorizer()\n",
    "X_train = count_vect.fit_transform(Tweet)\n",
    "\n",
    "tfidf_transformer = TfidfTransformer()\n",
    "X_train_transform = tfidf_transformer.fit_transform(X_train) # Aplicando o TF-IDF\n",
    "X_train_transform.shape"
   ]
  },
  {
   "cell_type": "code",
   "execution_count": 13,
   "metadata": {},
   "outputs": [
    {
     "name": "stdout",
     "output_type": "stream",
     "text": [
      "              precision    recall  f1-score   support\n",
      "\n",
      "          -1       0.65      0.50      0.56      1009\n",
      "           0       0.74      0.12      0.21       868\n",
      "           1       0.59      0.94      0.72      1583\n",
      "\n",
      "    accuracy                           0.61      3460\n",
      "   macro avg       0.66      0.52      0.50      3460\n",
      "weighted avg       0.64      0.61      0.55      3460\n",
      "\n"
     ]
    }
   ],
   "source": [
    "X_train, X_test, Y_train, Y_test = train_test_split(X_train_transform, polarity, test_size=0.3)\n",
    "\n",
    "clf = MultinomialNB().fit(X_train, Y_train) # Aplicando naive bayes\n",
    "predicted = clf.predict(X_test)\n",
    "\n",
    "print(metrics.classification_report(Y_test, predicted))"
   ]
  },
  {
   "cell_type": "code",
   "execution_count": 16,
   "metadata": {},
   "outputs": [
    {
     "name": "stdout",
     "output_type": "stream",
     "text": [
      "0.6421143847487002\n",
      "0.6542461005199307\n",
      "0.6169844020797227\n",
      "0.6287944492627927\n",
      "0.5672159583694709\n",
      "0.5368603642671292\n",
      "0.6071118820468343\n",
      "0.6591500433651344\n",
      "0.5646140503035559\n",
      "0.5897658282740676\n",
      " Média: 0.6066857463237338 \t Std: 0.03918478811601816  \n"
     ]
    }
   ],
   "source": [
    "kf = KFold(n_splits=10)\n",
    "clf = MultinomialNB()\n",
    "lista = []\n",
    "for train_index, test_index in kf.split(X_train_transform):\n",
    "    X_train, X_test = X_train_transform[train_index], X_train_transform[test_index]\n",
    "    y_train, y_test = polarity[train_index], polarity[test_index]\n",
    "    clf.fit(X_train, y_train)\n",
    "    y_pred = clf.predict(X_test)\n",
    "    lista.append(clf.score(X_test, y_test))\n",
    "    \n",
    "    print(clf.score(X_test, y_test))\n",
    "    \n",
    "print(f' Média: {np.array(lista).mean()} \\t Std: {np.array(lista).std()}  ')"
   ]
  },
  {
   "cell_type": "code",
   "execution_count": 14,
   "metadata": {},
   "outputs": [],
   "source": [
    "def pre_X(frases):\n",
    "    lista = []\n",
    "    \n",
    "    for frase in frases:\n",
    "        lista.append(frase)\n",
    "        \n",
    "    return lista\n",
    "\n",
    "def pre_Y(number):\n",
    "    lista = []\n",
    "    \n",
    "    for numb in number:\n",
    "        lista.append(numb)\n",
    "    \n",
    "    return lista\n"
   ]
  },
  {
   "cell_type": "code",
   "execution_count": 15,
   "metadata": {},
   "outputs": [],
   "source": [
    "def set_array(frases):\n",
    "    \n",
    "    vocab = []\n",
    "    palavras = []\n",
    "    for frase in frases:\n",
    "        \n",
    "        text_array = remove_user(frase)\n",
    "        text_array = Tokenize(text_array)\n",
    "        text_array = text_array.split(' ')\n",
    "        for i in range(len(text_array)):\n",
    "            vocab.append(text_array[i])\n",
    "    \n",
    "    \n",
    "        \n",
    "    return vocab\n",
    "\n",
    "def Tokenize(f):     ## Pre-processando a frase\n",
    "    \n",
    "    ## Colocando em minusculo\n",
    "    ## Retirando a pontuaçao\n",
    "    ## Retirando as StopWords\n",
    "    \n",
    "    f = f.lower().replace('\\n', '').replace('-','').replace('#','').replace('.','').replace(',','').replace('!','').replace('r\\n','').replace('  ','')\n",
    "    token = RegexpTokenizer(r\"\\w+\")\n",
    "    f = token.tokenize(f)\n",
    "    \n",
    "    stop_words = set(stopwords.words('portuguese'))\n",
    "    \n",
    "    new_word = [word for word in f if not word in stop_words]\n",
    "    \n",
    "    return ' '.join(new_word)\n",
    "\n",
    "def remove_user(frase):\n",
    "\n",
    "    return re.sub('@\\w+','',frase)"
   ]
  },
  {
   "cell_type": "code",
   "execution_count": 18,
   "metadata": {},
   "outputs": [],
   "source": [
    "model = tf.keras.Sequential([\n",
    "    tf.keras.layers.Dense(50, activation='relu'),\n",
    "    tf.keras.layers.Dropout(0.3),\n",
    "    tf.keras.layers.Dense(25, activation='relu'),\n",
    "    tf.keras.layers.Dropout(0.3),\n",
    "    tf.keras.layers.Dense(10, activation='tanh'),\n",
    "    tf.keras.layers.Dropout(0.2),\n",
    "    tf.keras.layers.Dense(3 , activation='softmax')\n",
    "])\n",
    "\n",
    "model.compile(\n",
    "    optimizer='adam',\n",
    "    loss=tf.keras.losses.categorical_crossentropy,\n",
    "    metrics=['accuracy']\n",
    ")"
   ]
  },
  {
   "cell_type": "code",
   "execution_count": 20,
   "metadata": {},
   "outputs": [],
   "source": [
    "Tweet = Tweet.apply(remove_user)\n",
    "Tweet_preprocessed = Tweet.apply(Tokenize)"
   ]
  },
  {
   "cell_type": "code",
   "execution_count": 21,
   "metadata": {},
   "outputs": [
    {
     "data": {
      "text/plain": [
       "<8073x15346 sparse matrix of type '<class 'numpy.float64'>'\n",
       "\twith 56353 stored elements in Compressed Sparse Row format>"
      ]
     },
     "execution_count": 21,
     "metadata": {},
     "output_type": "execute_result"
    }
   ],
   "source": [
    "count_vect = CountVectorizer()\n",
    "X_train = count_vect.fit_transform(Tweet_preprocessed)\n",
    "\n",
    "tfidf_transformer = TfidfTransformer()\n",
    "X_train_transform = tfidf_transformer.fit_transform(X_train) # Aplicando o TF-IDF\n",
    "\n",
    "\n",
    "X_train, X_test, Y_train, Y_test = train_test_split(X_train_transform, polarity, test_size=0.3)\n",
    "\n",
    "X_train"
   ]
  },
  {
   "cell_type": "code",
   "execution_count": 22,
   "metadata": {},
   "outputs": [
    {
     "data": {
      "text/plain": [
       "<3460x15346 sparse matrix of type '<class 'numpy.float64'>'\n",
       "\twith 24020 stored elements in Compressed Sparse Row format>"
      ]
     },
     "execution_count": 22,
     "metadata": {},
     "output_type": "execute_result"
    }
   ],
   "source": [
    "X_test"
   ]
  },
  {
   "cell_type": "code",
   "execution_count": 23,
   "metadata": {},
   "outputs": [],
   "source": [
    "one = OneHotEncoder(sparse=False)"
   ]
  },
  {
   "cell_type": "code",
   "execution_count": 24,
   "metadata": {},
   "outputs": [],
   "source": [
    "y_one = one.fit_transform(Y_train.reshape(-1,1))\n",
    "y_one_test = one.transform(Y_test.reshape(-1,1))"
   ]
  },
  {
   "cell_type": "code",
   "execution_count": 25,
   "metadata": {},
   "outputs": [
    {
     "name": "stdout",
     "output_type": "stream",
     "text": [
      "Epoch 1/10\n",
      "253/253 [==============================] - 2s 6ms/step - loss: 1.0057 - accuracy: 0.4877 - val_loss: 0.9040 - val_accuracy: 0.5610\n",
      "Epoch 2/10\n",
      "253/253 [==============================] - 1s 5ms/step - loss: 0.7449 - accuracy: 0.6815 - val_loss: 0.8438 - val_accuracy: 0.6159\n",
      "Epoch 3/10\n",
      "253/253 [==============================] - 1s 5ms/step - loss: 0.4691 - accuracy: 0.8286 - val_loss: 0.9369 - val_accuracy: 0.6000\n",
      "Epoch 4/10\n",
      "253/253 [==============================] - 1s 6ms/step - loss: 0.2899 - accuracy: 0.9072 - val_loss: 1.0887 - val_accuracy: 0.5919\n",
      "Epoch 5/10\n",
      "253/253 [==============================] - 1s 5ms/step - loss: 0.1858 - accuracy: 0.9417 - val_loss: 1.2399 - val_accuracy: 0.6029\n",
      "Epoch 6/10\n",
      "253/253 [==============================] - 1s 5ms/step - loss: 0.1389 - accuracy: 0.9594 - val_loss: 1.3981 - val_accuracy: 0.5858\n",
      "Epoch 7/10\n",
      "253/253 [==============================] - 1s 6ms/step - loss: 0.1041 - accuracy: 0.9690 - val_loss: 1.5223 - val_accuracy: 0.5751\n",
      "Epoch 8/10\n",
      "253/253 [==============================] - 1s 5ms/step - loss: 0.0819 - accuracy: 0.9768 - val_loss: 1.6461 - val_accuracy: 0.5697\n",
      "Epoch 9/10\n",
      "253/253 [==============================] - 1s 5ms/step - loss: 0.0691 - accuracy: 0.9801 - val_loss: 1.7484 - val_accuracy: 0.5702\n",
      "Epoch 10/10\n",
      "253/253 [==============================] - 1s 5ms/step - loss: 0.0628 - accuracy: 0.9832 - val_loss: 1.8257 - val_accuracy: 0.5783\n"
     ]
    }
   ],
   "source": [
    "fit = model.fit(X_train.todense(), y_one, epochs=10, validation_data=(X_test.todense(), y_one_test))"
   ]
  },
  {
   "cell_type": "code",
   "execution_count": 26,
   "metadata": {},
   "outputs": [
    {
     "name": "stdout",
     "output_type": "stream",
     "text": [
      "              precision    recall  f1-score   support\n",
      "\n",
      "           0       0.54      0.63      0.58       995\n",
      "           1       0.43      0.39      0.40       911\n",
      "           2       0.69      0.66      0.67      1554\n",
      "\n",
      "    accuracy                           0.58      3460\n",
      "   macro avg       0.55      0.56      0.55      3460\n",
      "weighted avg       0.58      0.58      0.58      3460\n",
      "\n"
     ]
    }
   ],
   "source": [
    "predicted = model.predict(X_test.todense())\n",
    "\n",
    "print(classification_report(np.argmax(y_one_test, axis=1), np.argmax(predicted, axis=1)))"
   ]
  },
  {
   "cell_type": "code",
   "execution_count": 27,
   "metadata": {
    "scrolled": true
   },
   "outputs": [
    {
     "name": "stdout",
     "output_type": "stream",
     "text": [
      "Iter:  1\n",
      " \n",
      "Epoch 1/5\n",
      "325/325 [==============================] - 2s 6ms/step - loss: 0.9909 - accuracy: 0.5053 - val_loss: 0.8253 - val_accuracy: 0.6326\n",
      "Epoch 2/5\n",
      "325/325 [==============================] - 2s 5ms/step - loss: 0.6844 - accuracy: 0.7297 - val_loss: 0.8459 - val_accuracy: 0.6239\n",
      "Epoch 3/5\n",
      "325/325 [==============================] - 2s 6ms/step - loss: 0.4234 - accuracy: 0.8541 - val_loss: 0.9860 - val_accuracy: 0.6057\n",
      "Epoch 4/5\n",
      "325/325 [==============================] - 2s 5ms/step - loss: 0.2754 - accuracy: 0.9127 - val_loss: 1.1397 - val_accuracy: 0.6075\n",
      "Epoch 5/5\n",
      "325/325 [==============================] - 2s 5ms/step - loss: 0.1831 - accuracy: 0.9432 - val_loss: 1.3067 - val_accuracy: 0.5927\n",
      " \n",
      "Iter:  2\n",
      " \n",
      "Epoch 1/5\n",
      "325/325 [==============================] - 2s 5ms/step - loss: 0.9959 - accuracy: 0.5011 - val_loss: 0.8538 - val_accuracy: 0.6334\n",
      "Epoch 2/5\n",
      "325/325 [==============================] - 2s 5ms/step - loss: 0.7229 - accuracy: 0.6935 - val_loss: 0.8410 - val_accuracy: 0.6222\n",
      "Epoch 3/5\n",
      "325/325 [==============================] - 1s 5ms/step - loss: 0.4635 - accuracy: 0.8342 - val_loss: 0.9751 - val_accuracy: 0.5953\n",
      "Epoch 4/5\n",
      "325/325 [==============================] - 1s 4ms/step - loss: 0.2923 - accuracy: 0.9088 - val_loss: 1.0986 - val_accuracy: 0.5901\n",
      "Epoch 5/5\n",
      "325/325 [==============================] - 1s 4ms/step - loss: 0.1936 - accuracy: 0.9428 - val_loss: 1.2939 - val_accuracy: 0.5858\n",
      " \n",
      "Iter:  3\n",
      " \n",
      "Epoch 1/5\n",
      "325/325 [==============================] - 2s 5ms/step - loss: 0.9809 - accuracy: 0.5177 - val_loss: 0.8452 - val_accuracy: 0.6161\n",
      "Epoch 2/5\n",
      "325/325 [==============================] - 2s 5ms/step - loss: 0.7074 - accuracy: 0.7038 - val_loss: 0.8072 - val_accuracy: 0.6404\n",
      "Epoch 3/5\n",
      "325/325 [==============================] - 2s 6ms/step - loss: 0.4395 - accuracy: 0.8413 - val_loss: 0.8956 - val_accuracy: 0.6239\n",
      "Epoch 4/5\n",
      "325/325 [==============================] - 2s 6ms/step - loss: 0.2720 - accuracy: 0.9109 - val_loss: 1.0412 - val_accuracy: 0.6231\n",
      "Epoch 5/5\n",
      "325/325 [==============================] - 2s 5ms/step - loss: 0.1870 - accuracy: 0.9425 - val_loss: 1.2040 - val_accuracy: 0.6248\n",
      " \n",
      "Iter:  4\n",
      " \n",
      "Epoch 1/5\n",
      "325/325 [==============================] - 2s 6ms/step - loss: 0.9833 - accuracy: 0.5175 - val_loss: 0.8418 - val_accuracy: 0.6097\n",
      "Epoch 2/5\n",
      "325/325 [==============================] - 2s 5ms/step - loss: 0.6999 - accuracy: 0.7109 - val_loss: 0.8128 - val_accuracy: 0.6383\n",
      "Epoch 3/5\n",
      "325/325 [==============================] - 2s 5ms/step - loss: 0.4420 - accuracy: 0.8396 - val_loss: 0.9281 - val_accuracy: 0.6167\n",
      "Epoch 4/5\n",
      "325/325 [==============================] - 2s 5ms/step - loss: 0.2788 - accuracy: 0.9085 - val_loss: 1.1015 - val_accuracy: 0.5967\n",
      "Epoch 5/5\n",
      "325/325 [==============================] - 2s 5ms/step - loss: 0.1959 - accuracy: 0.9405 - val_loss: 1.2685 - val_accuracy: 0.6045\n",
      " \n",
      "Iter:  5\n",
      " \n",
      "Epoch 1/5\n",
      "325/325 [==============================] - 2s 5ms/step - loss: 0.9779 - accuracy: 0.5239 - val_loss: 0.9058 - val_accuracy: 0.5421\n",
      "Epoch 2/5\n",
      "325/325 [==============================] - 2s 5ms/step - loss: 0.6802 - accuracy: 0.7216 - val_loss: 0.8907 - val_accuracy: 0.5967\n",
      "Epoch 3/5\n",
      "325/325 [==============================] - 2s 5ms/step - loss: 0.4252 - accuracy: 0.8502 - val_loss: 1.0235 - val_accuracy: 0.5967\n",
      "Epoch 4/5\n",
      "325/325 [==============================] - 1s 4ms/step - loss: 0.2627 - accuracy: 0.9176 - val_loss: 1.2020 - val_accuracy: 0.5820\n",
      "Epoch 5/5\n",
      "325/325 [==============================] - 1s 4ms/step - loss: 0.1828 - accuracy: 0.9453 - val_loss: 1.3533 - val_accuracy: 0.5820\n",
      " \n",
      "Iter:  6\n",
      " \n",
      "Epoch 1/5\n",
      "325/325 [==============================] - 2s 5ms/step - loss: 0.9862 - accuracy: 0.5066 - val_loss: 0.9060 - val_accuracy: 0.5611\n",
      "Epoch 2/5\n",
      "325/325 [==============================] - 1s 5ms/step - loss: 0.6898 - accuracy: 0.7208 - val_loss: 0.9096 - val_accuracy: 0.5924\n",
      "Epoch 3/5\n",
      "325/325 [==============================] - 1s 5ms/step - loss: 0.4332 - accuracy: 0.8532 - val_loss: 0.9866 - val_accuracy: 0.6036\n",
      "Epoch 4/5\n",
      "325/325 [==============================] - 2s 5ms/step - loss: 0.2695 - accuracy: 0.9164 - val_loss: 1.1101 - val_accuracy: 0.6167\n",
      "Epoch 5/5\n",
      "325/325 [==============================] - 2s 5ms/step - loss: 0.1863 - accuracy: 0.9441 - val_loss: 1.2687 - val_accuracy: 0.6097\n",
      " \n",
      "Iter:  7\n",
      " \n",
      "Epoch 1/5\n",
      "325/325 [==============================] - 2s 5ms/step - loss: 0.9772 - accuracy: 0.5154 - val_loss: 0.8694 - val_accuracy: 0.5898\n",
      "Epoch 2/5\n",
      "325/325 [==============================] - 1s 5ms/step - loss: 0.7021 - accuracy: 0.7049 - val_loss: 0.8323 - val_accuracy: 0.6349\n",
      "Epoch 3/5\n",
      "325/325 [==============================] - 1s 5ms/step - loss: 0.4474 - accuracy: 0.8403 - val_loss: 0.9593 - val_accuracy: 0.6123\n",
      "Epoch 4/5\n",
      "325/325 [==============================] - 1s 5ms/step - loss: 0.2849 - accuracy: 0.9059 - val_loss: 1.0801 - val_accuracy: 0.5993\n",
      "Epoch 5/5\n",
      "325/325 [==============================] - 1s 5ms/step - loss: 0.1915 - accuracy: 0.9443 - val_loss: 1.2609 - val_accuracy: 0.6097\n",
      " \n",
      "Iter:  8\n",
      " \n",
      "Epoch 1/5\n",
      "325/325 [==============================] - 2s 5ms/step - loss: 0.9910 - accuracy: 0.5001 - val_loss: 0.8387 - val_accuracy: 0.6487\n",
      "Epoch 2/5\n",
      "325/325 [==============================] - 1s 5ms/step - loss: 0.7048 - accuracy: 0.7110 - val_loss: 0.8181 - val_accuracy: 0.6383\n",
      "Epoch 3/5\n",
      "325/325 [==============================] - 1s 5ms/step - loss: 0.4373 - accuracy: 0.8487 - val_loss: 0.9694 - val_accuracy: 0.6201\n",
      "Epoch 4/5\n",
      "325/325 [==============================] - 1s 5ms/step - loss: 0.2731 - accuracy: 0.9102 - val_loss: 1.0977 - val_accuracy: 0.6201\n",
      "Epoch 5/5\n",
      "325/325 [==============================] - 1s 5ms/step - loss: 0.1810 - accuracy: 0.9450 - val_loss: 1.2285 - val_accuracy: 0.6323\n",
      " \n",
      "Iter:  9\n",
      " \n",
      "Epoch 1/5\n",
      "325/325 [==============================] - 2s 5ms/step - loss: 0.9888 - accuracy: 0.5067 - val_loss: 0.8760 - val_accuracy: 0.5976\n",
      "Epoch 2/5\n",
      "325/325 [==============================] - 2s 6ms/step - loss: 0.7007 - accuracy: 0.7164 - val_loss: 0.8618 - val_accuracy: 0.6167\n",
      "Epoch 3/5\n",
      "325/325 [==============================] - 2s 5ms/step - loss: 0.4264 - accuracy: 0.8494 - val_loss: 0.9769 - val_accuracy: 0.6019\n",
      "Epoch 4/5\n",
      "325/325 [==============================] - 2s 5ms/step - loss: 0.2668 - accuracy: 0.9137 - val_loss: 1.1301 - val_accuracy: 0.5889\n",
      "Epoch 5/5\n",
      "325/325 [==============================] - 2s 5ms/step - loss: 0.1818 - accuracy: 0.9443 - val_loss: 1.2552 - val_accuracy: 0.5854\n",
      " \n",
      "Iter:  10\n",
      " \n",
      "Epoch 1/5\n",
      "325/325 [==============================] - 2s 7ms/step - loss: 0.9854 - accuracy: 0.5163 - val_loss: 0.8602 - val_accuracy: 0.5802\n",
      "Epoch 2/5\n",
      "325/325 [==============================] - 2s 5ms/step - loss: 0.7006 - accuracy: 0.7060 - val_loss: 0.8290 - val_accuracy: 0.6245\n",
      "Epoch 3/5\n",
      "325/325 [==============================] - 2s 6ms/step - loss: 0.4373 - accuracy: 0.8461 - val_loss: 0.9719 - val_accuracy: 0.5924\n",
      "Epoch 4/5\n",
      "325/325 [==============================] - 2s 6ms/step - loss: 0.2750 - accuracy: 0.9119 - val_loss: 1.1641 - val_accuracy: 0.5802\n",
      "Epoch 5/5\n",
      "325/325 [==============================] - 2s 6ms/step - loss: 0.1761 - accuracy: 0.9452 - val_loss: 1.3690 - val_accuracy: 0.6002\n",
      " \n"
     ]
    }
   ],
   "source": [
    "kf = KFold(n_splits=10)\n",
    "val_accuracy = []\n",
    "index = []\n",
    "cont = 0\n",
    "\n",
    "for train_index, test_index in kf.split(X_train_transform):\n",
    "    cont += 1\n",
    "    \n",
    "    model = tf.keras.Sequential([\n",
    "    tf.keras.layers.Dense(50, activation='relu'),\n",
    "    tf.keras.layers.Dropout(0.3),\n",
    "    tf.keras.layers.Dense(25, activation='relu'),\n",
    "    tf.keras.layers.Dropout(0.3),\n",
    "    tf.keras.layers.Dense(10, activation='tanh'),\n",
    "    tf.keras.layers.Dropout(0.2),\n",
    "    tf.keras.layers.Dense(3 , activation='softmax')\n",
    "    ])\n",
    "\n",
    "    model.compile(\n",
    "        optimizer='adam',\n",
    "        loss=tf.keras.losses.categorical_crossentropy,\n",
    "        metrics=['accuracy']\n",
    "    )\n",
    "    \n",
    "    X_train, X_test = X_train_transform[train_index], X_train_transform[test_index]\n",
    "    y_train, y_test = polarity[train_index], polarity[test_index]\n",
    "    y_train_one = one.fit_transform(y_train.reshape(-1,1))\n",
    "    y_teste_one = one.fit_transform(y_test.reshape(-1,1))\n",
    "    \n",
    "    print(\"Iter: \",cont)\n",
    "    print(\" \")\n",
    "    \n",
    "    fit = model.fit(X_train.todense(), y_train_one, epochs=5, validation_data=(X_test.todense(), y_teste_one))\n",
    "    print(\" \")\n",
    "    val_accuracy.append(fit.history['val_accuracy'])\n",
    "    \n",
    "    index.append((train_index,test_index))"
   ]
  },
  {
   "cell_type": "code",
   "execution_count": 28,
   "metadata": {},
   "outputs": [
    {
     "name": "stdout",
     "output_type": "stream",
     "text": [
      " Fold: 0\t Ultimo valor acc: 0.5927209854125977\n",
      " Fold: 1\t Ultimo valor acc: 0.5857885479927063\n",
      " Fold: 2\t Ultimo valor acc: 0.6247833371162415\n",
      " Fold: 3\t Ultimo valor acc: 0.6045099496841431\n",
      " Fold: 4\t Ultimo valor acc: 0.5819600820541382\n",
      " Fold: 5\t Ultimo valor acc: 0.6097137928009033\n",
      " Fold: 6\t Ultimo valor acc: 0.6097137928009033\n",
      " Fold: 7\t Ultimo valor acc: 0.6322636604309082\n",
      " Fold: 8\t Ultimo valor acc: 0.585429310798645\n",
      " Fold: 9\t Ultimo valor acc: 0.6001734733581543\n",
      "\n",
      " Média: 0.6027056932449341 \t Std: 0.01607397943508015\n"
     ]
    }
   ],
   "source": [
    "def media_std(val_accuracy):\n",
    "    matrix_acc = np.array(val_accuracy)\n",
    "    lista = []\n",
    "    for i in range(len(matrix_acc)):\n",
    "        lista.append(matrix_acc[i][-1])\n",
    "        print(f' Fold: {i}\\t Ultimo valor acc: {lista[i]}')\n",
    "    print(\"\")\n",
    "    print(f' Média: {np.array(lista).mean()} \\t Std: {np.array(lista).std()}')\n",
    "        \n",
    "media_std(val_accuracy)"
   ]
  },
  {
   "cell_type": "code",
   "execution_count": 29,
   "metadata": {
    "scrolled": false
   },
   "outputs": [
    {
     "data": {
      "image/png": "[encoded data removed]",
      "text/plain": [
       "<Figure size 864x432 with 1 Axes>"
      ]
     },
     "metadata": {
      "needs_background": "light"
     },
     "output_type": "display_data"
    }
   ],
   "source": [
    "plt.figure(figsize=(12,6))\n",
    "plt.plot(fit.history['loss'], label='Loss', color='darkred')\n",
    "plt.plot(fit.history['val_loss'], label='Val Loss', color='green')\n",
    "plt.legend()\n",
    "plt.grid()\n",
    "plt.ylabel('Loss')\n",
    "plt.show()"
   ]
  },
  {
   "cell_type": "code",
   "execution_count": 30,
   "metadata": {},
   "outputs": [
    {
     "data": {
      "image/png": "[encoded data removed]",
      "text/plain": [
       "<Figure size 864x432 with 1 Axes>"
      ]
     },
     "metadata": {
      "needs_background": "light"
     },
     "output_type": "display_data"
    }
   ],
   "source": [
    "plt.figure(figsize=(12,6))\n",
    "plt.plot(fit.history['accuracy'], label='accuracy', color='darkred')\n",
    "plt.plot(fit.history['val_accuracy'], label='Val accuracy', color='green')\n",
    "plt.legend()\n",
    "plt.grid()\n",
    "plt.ylabel('Accuracy')\n",
    "plt.show()"
   ]
  },
  {
   "cell_type": "code",
   "execution_count": 33,
   "metadata": {},
   "outputs": [
    {
     "data": {
      "text/plain": [
       "15000"
      ]
     },
     "execution_count": 33,
     "metadata": {},
     "output_type": "execute_result"
    }
   ],
   "source": [
    "vectorize_layer = TextVectorization(\n",
    " max_tokens=15000,\n",
    " output_mode='int',\n",
    " output_sequence_length=len(max(df_all['text'])))\n",
    "\n",
    "vocab = set_array(df_all['text'])\n",
    "\n",
    "vectorize_layer.adapt(np.unique(vocab))\n",
    "len(vectorize_layer.get_vocabulary())\n"
   ]
  },
  {
   "cell_type": "code",
   "execution_count": 63,
   "metadata": {},
   "outputs": [],
   "source": [
    "model = tf.keras.Sequential([\n",
    "    vectorize_layer,\n",
    "    tf.keras.layers.Embedding(\n",
    "        input_dim=len(vectorize_layer.get_vocabulary()),\n",
    "        output_dim=64,mask_zero=True),\n",
    "    \n",
    "    tf.keras.layers.LSTM(50, activation='relu' ,return_sequences=True),\n",
    "    tf.keras.layers.Dropout(0.3),\n",
    "    \n",
    "    tf.keras.layers.LSTM(25 , activation='tanh', return_sequences=True),\n",
    "    tf.keras.layers.Dropout(0.3),\n",
    "    \n",
    "    tf.keras.layers.LSTM(10 , activation='tanh'),\n",
    "    tf.keras.layers.Dropout(0.2),\n",
    "    \n",
    "    tf.keras.layers.Dense(3, activation='softmax')\n",
    "])\n",
    "\n",
    "\n",
    "model.compile(\n",
    "    optimizer= tf.keras.optimizers.Adam(),\n",
    "    loss=tf.keras.losses.categorical_crossentropy,\n",
    "    metrics=['accuracy']\n",
    ")"
   ]
  },
  {
   "cell_type": "code",
   "execution_count": 64,
   "metadata": {},
   "outputs": [],
   "source": [
    "X_train, X_test, Y_train, Y_test = train_test_split(Tweet_preprocessed, polarity, test_size=0.3)"
   ]
  },
  {
   "cell_type": "code",
   "execution_count": 65,
   "metadata": {},
   "outputs": [],
   "source": [
    "y_one = one.fit_transform(Y_train.reshape(-1,1))\n",
    "y_one_test = one.transform(Y_test.reshape(-1,1))"
   ]
  },
  {
   "cell_type": "code",
   "execution_count": 66,
   "metadata": {
    "scrolled": true
   },
   "outputs": [
    {
     "name": "stdout",
     "output_type": "stream",
     "text": [
      "Epoch 1/10\n",
      "64/64 [==============================] - 8s 125ms/step - loss: 1.0801 - accuracy: 0.4479 - val_loss: 1.0256 - val_accuracy: 0.5092\n",
      "Epoch 2/10\n",
      "64/64 [==============================] - 7s 107ms/step - loss: 0.9303 - accuracy: 0.5672 - val_loss: 0.9141 - val_accuracy: 0.5717\n",
      "Epoch 3/10\n",
      "64/64 [==============================] - 7s 104ms/step - loss: 0.7277 - accuracy: 0.6974 - val_loss: 0.9253 - val_accuracy: 0.5818\n",
      "Epoch 4/10\n",
      "64/64 [==============================] - 6s 101ms/step - loss: 0.5415 - accuracy: 0.8148 - val_loss: 1.0201 - val_accuracy: 0.5855\n",
      "Epoch 5/10\n",
      "64/64 [==============================] - 7s 103ms/step - loss: 0.4123 - accuracy: 0.8692 - val_loss: 1.1077 - val_accuracy: 0.5882\n",
      "Epoch 6/10\n",
      "64/64 [==============================] - 7s 104ms/step - loss: 0.3169 - accuracy: 0.9023 - val_loss: 1.2617 - val_accuracy: 0.5766\n",
      "Epoch 7/10\n",
      "64/64 [==============================] - 7s 104ms/step - loss: 0.2548 - accuracy: 0.9275 - val_loss: 1.3317 - val_accuracy: 0.5853\n",
      "Epoch 8/10\n",
      "64/64 [==============================] - 7s 108ms/step - loss: 0.2130 - accuracy: 0.9424 - val_loss: 1.3865 - val_accuracy: 0.5864\n",
      "Epoch 9/10\n",
      "64/64 [==============================] - 6s 97ms/step - loss: 0.1994 - accuracy: 0.9435 - val_loss: 1.4319 - val_accuracy: 0.5824\n",
      "Epoch 10/10\n",
      "64/64 [==============================] - 6s 94ms/step - loss: 0.1630 - accuracy: 0.9555 - val_loss: 1.5665 - val_accuracy: 0.5835\n"
     ]
    }
   ],
   "source": [
    "fit = model.fit(np.asarray(pre_X(X_train)), y_one, epochs=10, batch_size=128 ,validation_data=(np.asarray(pre_X(X_test)), one.transform(Y_test.reshape(-1,1))))"
   ]
  },
  {
   "cell_type": "code",
   "execution_count": 67,
   "metadata": {},
   "outputs": [
    {
     "name": "stdout",
     "output_type": "stream",
     "text": [
      "              precision    recall  f1-score   support\n",
      "\n",
      "           0       0.60      0.53      0.56      1000\n",
      "           1       0.41      0.43      0.42       854\n",
      "           2       0.67      0.70      0.68      1606\n",
      "\n",
      "    accuracy                           0.58      3460\n",
      "   macro avg       0.56      0.55      0.56      3460\n",
      "weighted avg       0.58      0.58      0.58      3460\n",
      "\n"
     ]
    }
   ],
   "source": [
    "predicted = model.predict(X_test)\n",
    "\n",
    "print(classification_report(np.argmax(y_one_test, axis=1), np.argmax(predicted, axis=1)))"
   ]
  },
  {
   "cell_type": "code",
   "execution_count": 44,
   "metadata": {
    "scrolled": true
   },
   "outputs": [
    {
     "name": "stdout",
     "output_type": "stream",
     "text": [
      "Iter:  1\n",
      " \n",
      "Epoch 1/5\n",
      "325/325 [==============================] - 15s 46ms/step - loss: 0.9770 - accuracy: 0.5225 - val_loss: 0.8293 - val_accuracy: 0.6308\n",
      "Epoch 2/5\n",
      "325/325 [==============================] - 14s 42ms/step - loss: 0.7107 - accuracy: 0.7191 - val_loss: 0.8605 - val_accuracy: 0.6057\n",
      "Epoch 3/5\n",
      "325/325 [==============================] - 13s 42ms/step - loss: 0.4654 - accuracy: 0.8341 - val_loss: 0.9420 - val_accuracy: 0.5884\n",
      "Epoch 4/5\n",
      "325/325 [==============================] - 13s 39ms/step - loss: 0.3177 - accuracy: 0.8931 - val_loss: 1.0891 - val_accuracy: 0.5936\n",
      "Epoch 5/5\n",
      "325/325 [==============================] - 12s 38ms/step - loss: 0.2352 - accuracy: 0.9258 - val_loss: 1.3211 - val_accuracy: 0.5971\n",
      " \n",
      "Iter:  2\n",
      " \n",
      "Epoch 1/5\n",
      "325/325 [==============================] - 14s 44ms/step - loss: 0.9834 - accuracy: 0.5114 - val_loss: 0.8815 - val_accuracy: 0.5867\n",
      "Epoch 2/5\n",
      "325/325 [==============================] - 13s 39ms/step - loss: 0.6983 - accuracy: 0.7164 - val_loss: 0.8773 - val_accuracy: 0.5971\n",
      "Epoch 3/5\n",
      "325/325 [==============================] - 13s 39ms/step - loss: 0.4542 - accuracy: 0.8415 - val_loss: 1.0195 - val_accuracy: 0.5953\n",
      "Epoch 4/5\n",
      "325/325 [==============================] - 13s 39ms/step - loss: 0.3104 - accuracy: 0.8975 - val_loss: 1.2017 - val_accuracy: 0.5737\n",
      "Epoch 5/5\n",
      "325/325 [==============================] - 14s 43ms/step - loss: 0.2302 - accuracy: 0.9293 - val_loss: 1.2654 - val_accuracy: 0.5815\n",
      " \n",
      "Iter:  3\n",
      " \n",
      "Epoch 1/5\n",
      "325/325 [==============================] - 14s 44ms/step - loss: 0.9912 - accuracy: 0.5198 - val_loss: 0.8679 - val_accuracy: 0.6057\n",
      "Epoch 2/5\n",
      "325/325 [==============================] - 13s 40ms/step - loss: 0.7113 - accuracy: 0.7031 - val_loss: 0.8540 - val_accuracy: 0.6153\n",
      "Epoch 3/5\n",
      "325/325 [==============================] - 13s 40ms/step - loss: 0.4742 - accuracy: 0.8271 - val_loss: 0.9794 - val_accuracy: 0.6256\n",
      "Epoch 4/5\n",
      "325/325 [==============================] - 13s 40ms/step - loss: 0.3146 - accuracy: 0.8917 - val_loss: 1.1339 - val_accuracy: 0.6066\n",
      "Epoch 5/5\n",
      "325/325 [==============================] - 13s 39ms/step - loss: 0.2275 - accuracy: 0.9249 - val_loss: 1.3091 - val_accuracy: 0.6066\n",
      " \n",
      "Iter:  4\n",
      " \n",
      "Epoch 1/5\n",
      "325/325 [==============================] - 15s 46ms/step - loss: 0.9835 - accuracy: 0.5142 - val_loss: 0.8817 - val_accuracy: 0.6002\n",
      "Epoch 2/5\n",
      "325/325 [==============================] - 13s 41ms/step - loss: 0.7450 - accuracy: 0.6705 - val_loss: 0.8398 - val_accuracy: 0.6236\n",
      "Epoch 3/5\n",
      "325/325 [==============================] - 13s 41ms/step - loss: 0.5265 - accuracy: 0.8008 - val_loss: 0.9263 - val_accuracy: 0.6219\n",
      "Epoch 4/5\n",
      "325/325 [==============================] - 13s 41ms/step - loss: 0.3602 - accuracy: 0.8803 - val_loss: 1.0518 - val_accuracy: 0.6175\n",
      "Epoch 5/5\n",
      "325/325 [==============================] - 14s 43ms/step - loss: 0.2603 - accuracy: 0.9169 - val_loss: 1.2225 - val_accuracy: 0.6019\n",
      " \n",
      "Iter:  5\n",
      " \n",
      "Epoch 1/5\n",
      "325/325 [==============================] - 15s 46ms/step - loss: 0.9711 - accuracy: 0.5312 - val_loss: 0.9325 - val_accuracy: 0.5334\n",
      "Epoch 2/5\n",
      "325/325 [==============================] - 13s 39ms/step - loss: 0.7102 - accuracy: 0.7000 - val_loss: 0.9156 - val_accuracy: 0.5820\n",
      "Epoch 3/5\n",
      "325/325 [==============================] - 13s 39ms/step - loss: 0.4788 - accuracy: 0.8244 - val_loss: 0.9831 - val_accuracy: 0.5802\n",
      "Epoch 4/5\n",
      "325/325 [==============================] - 14s 43ms/step - loss: 0.3238 - accuracy: 0.8916 - val_loss: 1.1834 - val_accuracy: 0.5837\n",
      "Epoch 5/5\n",
      "325/325 [==============================] - 14s 42ms/step - loss: 0.2325 - accuracy: 0.9254 - val_loss: 1.3460 - val_accuracy: 0.5898\n",
      " \n",
      "Iter:  6\n",
      " \n",
      "Epoch 1/5\n",
      "325/325 [==============================] - 15s 45ms/step - loss: 0.9757 - accuracy: 0.5294 - val_loss: 0.9050 - val_accuracy: 0.5403\n",
      "Epoch 2/5\n",
      "325/325 [==============================] - 14s 44ms/step - loss: 0.7097 - accuracy: 0.7079 - val_loss: 0.9240 - val_accuracy: 0.6019\n",
      "Epoch 3/5\n",
      "325/325 [==============================] - 13s 41ms/step - loss: 0.4615 - accuracy: 0.8316 - val_loss: 1.0552 - val_accuracy: 0.6002\n",
      "Epoch 4/5\n",
      "325/325 [==============================] - 13s 40ms/step - loss: 0.3103 - accuracy: 0.8961 - val_loss: 1.2442 - val_accuracy: 0.6080\n",
      "Epoch 5/5\n",
      "325/325 [==============================] - 14s 42ms/step - loss: 0.2320 - accuracy: 0.9236 - val_loss: 1.2941 - val_accuracy: 0.6062\n",
      " \n",
      "Iter:  7\n",
      " \n",
      "Epoch 1/5\n",
      "325/325 [==============================] - 16s 49ms/step - loss: 0.9760 - accuracy: 0.5280 - val_loss: 0.8867 - val_accuracy: 0.5854\n",
      "Epoch 2/5\n",
      "325/325 [==============================] - 13s 41ms/step - loss: 0.7157 - accuracy: 0.7036 - val_loss: 0.8909 - val_accuracy: 0.6071\n",
      "Epoch 3/5\n",
      "325/325 [==============================] - 13s 40ms/step - loss: 0.4741 - accuracy: 0.8256 - val_loss: 0.9842 - val_accuracy: 0.6201\n",
      "Epoch 4/5\n",
      "325/325 [==============================] - 13s 40ms/step - loss: 0.3268 - accuracy: 0.8902 - val_loss: 1.1109 - val_accuracy: 0.6010\n",
      "Epoch 5/5\n",
      "325/325 [==============================] - 13s 40ms/step - loss: 0.2369 - accuracy: 0.9251 - val_loss: 1.2525 - val_accuracy: 0.6019\n",
      " \n",
      "Iter:  8\n",
      " \n",
      "Epoch 1/5\n",
      "325/325 [==============================] - 15s 45ms/step - loss: 0.9830 - accuracy: 0.5203 - val_loss: 0.8411 - val_accuracy: 0.6193\n",
      "Epoch 2/5\n",
      "325/325 [==============================] - 13s 41ms/step - loss: 0.7050 - accuracy: 0.7146 - val_loss: 0.8764 - val_accuracy: 0.6253\n",
      "Epoch 3/5\n",
      "325/325 [==============================] - 13s 40ms/step - loss: 0.4687 - accuracy: 0.8325 - val_loss: 0.9819 - val_accuracy: 0.6123\n",
      "Epoch 4/5\n",
      "325/325 [==============================] - 13s 40ms/step - loss: 0.3190 - accuracy: 0.8945 - val_loss: 1.1310 - val_accuracy: 0.6054\n",
      "Epoch 5/5\n",
      "325/325 [==============================] - 13s 40ms/step - loss: 0.2359 - accuracy: 0.9214 - val_loss: 1.3520 - val_accuracy: 0.5993\n",
      " \n",
      "Iter:  9\n",
      " \n",
      "Epoch 1/5\n",
      "325/325 [==============================] - 15s 45ms/step - loss: 0.9779 - accuracy: 0.5199 - val_loss: 0.9239 - val_accuracy: 0.5611\n",
      "Epoch 2/5\n",
      "325/325 [==============================] - 13s 41ms/step - loss: 0.7242 - accuracy: 0.6928 - val_loss: 0.9045 - val_accuracy: 0.5898\n",
      "Epoch 3/5\n",
      "325/325 [==============================] - 13s 40ms/step - loss: 0.4878 - accuracy: 0.8196 - val_loss: 1.0192 - val_accuracy: 0.6002\n",
      "Epoch 4/5\n",
      "325/325 [==============================] - 13s 40ms/step - loss: 0.3195 - accuracy: 0.8909 - val_loss: 1.1326 - val_accuracy: 0.5811\n",
      "Epoch 5/5\n",
      "325/325 [==============================] - 13s 40ms/step - loss: 0.2375 - accuracy: 0.9227 - val_loss: 1.2980 - val_accuracy: 0.5984\n",
      " \n",
      "Iter:  10\n",
      " \n",
      "Epoch 1/5\n",
      "325/325 [==============================] - 15s 45ms/step - loss: 0.9814 - accuracy: 0.5208 - val_loss: 0.8803 - val_accuracy: 0.5776\n",
      "Epoch 2/5\n",
      "325/325 [==============================] - 13s 40ms/step - loss: 0.7282 - accuracy: 0.6856 - val_loss: 0.8678 - val_accuracy: 0.5958\n",
      "Epoch 3/5\n",
      "325/325 [==============================] - 13s 40ms/step - loss: 0.5055 - accuracy: 0.8101 - val_loss: 0.9987 - val_accuracy: 0.5950\n",
      "Epoch 4/5\n",
      "325/325 [==============================] - 13s 41ms/step - loss: 0.3374 - accuracy: 0.8891 - val_loss: 1.2059 - val_accuracy: 0.5794\n",
      "Epoch 5/5\n",
      "325/325 [==============================] - 13s 40ms/step - loss: 0.2533 - accuracy: 0.9189 - val_loss: 1.2693 - val_accuracy: 0.5785\n",
      " \n"
     ]
    }
   ],
   "source": [
    "kf = KFold(n_splits=10)\n",
    "val_accuracy = []\n",
    "index = []\n",
    "cont = 0\n",
    "\n",
    "for train_index, test_index in kf.split(Tweet_preprocessed):\n",
    "    cont += 1\n",
    "    \n",
    "    model = tf.keras.Sequential([\n",
    "    vectorize_layer,\n",
    "    tf.keras.layers.Embedding(\n",
    "        input_dim=len(vectorize_layer.get_vocabulary()),\n",
    "        output_dim=64,mask_zero=True),\n",
    "    \n",
    "    tf.keras.layers.LSTM(50, activation='relu' ,return_sequences=True),\n",
    "    tf.keras.layers.Dropout(0.3),\n",
    "    \n",
    "    tf.keras.layers.LSTM(25 , activation='tanh', return_sequences=True),\n",
    "    tf.keras.layers.Dropout(0.3),\n",
    "    \n",
    "    tf.keras.layers.LSTM(10 , activation='tanh'),\n",
    "    tf.keras.layers.Dropout(0.2),\n",
    "    \n",
    "    tf.keras.layers.Dense(3, activation='softmax')\n",
    "    ])\n",
    "\n",
    "    model.compile(\n",
    "        optimizer= tf.keras.optimizers.Adam(),\n",
    "        loss=tf.keras.losses.categorical_crossentropy,\n",
    "        metrics=['accuracy']\n",
    "    )\n",
    "    X_train, X_test = Tweet_preprocessed[train_index], Tweet_preprocessed[test_index]\n",
    "    y_train, y_test = polarity[train_index], polarity[test_index]\n",
    "    y_train_one = one.fit_transform(y_train.reshape(-1,1))\n",
    "    y_teste_one = one.fit_transform(y_test.reshape(-1,1))\n",
    "    \n",
    "    print(\"Iter: \",cont)\n",
    "    print(\" \")\n",
    "    \n",
    "    fit = model.fit(X_train, y_train_one, epochs=5, validation_data=(X_test, y_teste_one))\n",
    "    print(\" \")\n",
    "    val_accuracy.append(fit.history['val_accuracy'])\n",
    "    \n",
    "    index.append((train_index,test_index))"
   ]
  },
  {
   "cell_type": "code",
   "execution_count": 46,
   "metadata": {},
   "outputs": [
    {
     "name": "stdout",
     "output_type": "stream",
     "text": [
      " Fold: 0\t Ultimo valor acc: 0.5970537066459656\n",
      " Fold: 1\t Ultimo valor acc: 0.5814558267593384\n",
      " Fold: 2\t Ultimo valor acc: 0.6065858006477356\n",
      " Fold: 3\t Ultimo valor acc: 0.6019080877304077\n",
      " Fold: 4\t Ultimo valor acc: 0.5897658467292786\n",
      " Fold: 5\t Ultimo valor acc: 0.6062445640563965\n",
      " Fold: 6\t Ultimo valor acc: 0.6019080877304077\n",
      " Fold: 7\t Ultimo valor acc: 0.5993061661720276\n",
      " Fold: 8\t Ultimo valor acc: 0.5984388589859009\n",
      " Fold: 9\t Ultimo valor acc: 0.5784909129142761\n",
      "\n",
      " Média: 0.5961157858371735 \t Std: 0.009282467582261233\n"
     ]
    }
   ],
   "source": [
    "media_std(val_accuracy)"
   ]
  },
  {
   "cell_type": "code",
   "execution_count": 47,
   "metadata": {},
   "outputs": [
    {
     "data": {
      "image/png": "[encoded data removed]",
      "text/plain": [
       "<Figure size 864x432 with 1 Axes>"
      ]
     },
     "metadata": {
      "needs_background": "light"
     },
     "output_type": "display_data"
    }
   ],
   "source": [
    "plt.figure(figsize=(12,6))\n",
    "plt.plot(fit.history['loss'], label='Loss', color='darkred')\n",
    "plt.plot(fit.history['val_loss'], label='Val Loss', color='green')\n",
    "plt.legend()\n",
    "plt.grid()\n",
    "plt.ylabel('Loss')\n",
    "plt.show()"
   ]
  },
  {
   "cell_type": "code",
   "execution_count": 48,
   "metadata": {},
   "outputs": [
    {
     "data": {
      "image/png": "[encoded data removed]",
      "text/plain": [
       "<Figure size 864x432 with 1 Axes>"
      ]
     },
     "metadata": {
      "needs_background": "light"
     },
     "output_type": "display_data"
    }
   ],
   "source": [
    "plt.figure(figsize=(12,6))\n",
    "plt.plot(fit.history['accuracy'], label='accuracy', color='darkred')\n",
    "plt.plot(fit.history['val_accuracy'], label='Val accuracy', color='green')\n",
    "plt.legend()\n",
    "plt.grid()\n",
    "plt.ylabel('Accuracy')\n",
    "plt.show()"
   ]
  },
  {
   "cell_type": "markdown",
   "metadata": {},
   "source": [
    "## Conv 1D"
   ]
  },
  {
   "cell_type": "code",
   "execution_count": 85,
   "metadata": {},
   "outputs": [],
   "source": [
    "model = tf.keras.Sequential([\n",
    "    vectorize_layer,\n",
    "    tf.keras.layers.Embedding(\n",
    "        input_dim=len(vectorize_layer.get_vocabulary()),\n",
    "        output_dim=64,\n",
    "        mask_zero=True),\n",
    "    \n",
    "    tf.keras.layers.Conv1D(32,6, activation='relu'),\n",
    "    tf.keras.layers.MaxPooling1D(2),\n",
    "    tf.keras.layers.Flatten(),\n",
    "    \n",
    "    tf.keras.layers.Dense(16, activation='relu'),\n",
    "    tf.keras.layers.Dense(3, activation='softmax')   \n",
    "])\n",
    "\n",
    "model.compile(\n",
    "    optimizer= tf.keras.optimizers.Adam(),\n",
    "    loss=tf.keras.losses.categorical_crossentropy,\n",
    "    metrics=['accuracy']\n",
    ")\n",
    "\n",
    "X_train, X_test, Y_train, Y_test = train_test_split(Tweet_preprocessed, polarity, test_size=0.3)\n",
    "y_one = one.fit_transform(Y_train.reshape(-1,1))\n",
    "y_one_test = one.fit_transform(Y_test.reshape(-1,1))"
   ]
  },
  {
   "cell_type": "code",
   "execution_count": 86,
   "metadata": {},
   "outputs": [
    {
     "name": "stdout",
     "output_type": "stream",
     "text": [
      "Epoch 1/5\n",
      "253/253 [==============================] - 3s 13ms/step - loss: 0.9990 - accuracy: 0.4997\n",
      "Epoch 2/5\n",
      "253/253 [==============================] - 3s 13ms/step - loss: 0.7078 - accuracy: 0.6860\n",
      "Epoch 3/5\n",
      "253/253 [==============================] - 3s 13ms/step - loss: 0.3776 - accuracy: 0.8598\n",
      "Epoch 4/5\n",
      "253/253 [==============================] - 3s 12ms/step - loss: 0.1532 - accuracy: 0.9508\n",
      "Epoch 5/5\n",
      "253/253 [==============================] - 3s 11ms/step - loss: 0.0733 - accuracy: 0.9781\n"
     ]
    }
   ],
   "source": [
    "fit = model.fit(X_train, y_one, epochs=5 )"
   ]
  },
  {
   "cell_type": "code",
   "execution_count": 87,
   "metadata": {},
   "outputs": [
    {
     "name": "stdout",
     "output_type": "stream",
     "text": [
      "              precision    recall  f1-score   support\n",
      "\n",
      "           0       0.59      0.57      0.58      1023\n",
      "           1       0.46      0.40      0.43       910\n",
      "           2       0.65      0.72      0.68      1527\n",
      "\n",
      "    accuracy                           0.59      3460\n",
      "   macro avg       0.57      0.56      0.56      3460\n",
      "weighted avg       0.58      0.59      0.59      3460\n",
      "\n"
     ]
    }
   ],
   "source": [
    "predicted = model.predict(X_test)\n",
    "\n",
    "print(classification_report(np.argmax(y_one_test, axis=1), np.argmax(predicted, axis=1)))"
   ]
  },
  {
   "cell_type": "code",
   "execution_count": 55,
   "metadata": {
    "scrolled": true
   },
   "outputs": [
    {
     "name": "stdout",
     "output_type": "stream",
     "text": [
      "Iter:  1\n",
      " \n",
      "Epoch 1/5\n",
      "82/82 [==============================] - 1s 16ms/step - loss: 1.0422 - accuracy: 0.4723 - val_loss: 0.9408 - val_accuracy: 0.5685\n",
      "Epoch 2/5\n",
      "82/82 [==============================] - 1s 15ms/step - loss: 0.8135 - accuracy: 0.6306 - val_loss: 0.8342 - val_accuracy: 0.6222\n",
      "Epoch 3/5\n",
      "82/82 [==============================] - 1s 16ms/step - loss: 0.5394 - accuracy: 0.7945 - val_loss: 0.9132 - val_accuracy: 0.5997\n",
      "Epoch 4/5\n",
      "82/82 [==============================] - 1s 15ms/step - loss: 0.3238 - accuracy: 0.8938 - val_loss: 1.0701 - val_accuracy: 0.6005\n",
      "Epoch 5/5\n",
      "82/82 [==============================] - 1s 16ms/step - loss: 0.1903 - accuracy: 0.9396 - val_loss: 1.2875 - val_accuracy: 0.5789\n",
      " \n",
      "Iter:  2\n",
      " \n",
      "Epoch 1/5\n",
      "82/82 [==============================] - 2s 20ms/step - loss: 1.0439 - accuracy: 0.4729 - val_loss: 0.9359 - val_accuracy: 0.5919\n",
      "Epoch 2/5\n",
      "82/82 [==============================] - 1s 17ms/step - loss: 0.8286 - accuracy: 0.6156 - val_loss: 0.8538 - val_accuracy: 0.6066\n",
      "Epoch 3/5\n",
      "82/82 [==============================] - 2s 20ms/step - loss: 0.5748 - accuracy: 0.7621 - val_loss: 0.9857 - val_accuracy: 0.5771\n",
      "Epoch 4/5\n",
      "82/82 [==============================] - 1s 16ms/step - loss: 0.3824 - accuracy: 0.8641 - val_loss: 1.1646 - val_accuracy: 0.5919\n",
      "Epoch 5/5\n",
      "82/82 [==============================] - 1s 15ms/step - loss: 0.2357 - accuracy: 0.9288 - val_loss: 1.4072 - val_accuracy: 0.5659\n",
      " \n",
      "Iter:  3\n",
      " \n",
      "Epoch 1/5\n",
      "82/82 [==============================] - 1s 18ms/step - loss: 1.0488 - accuracy: 0.4664 - val_loss: 0.9879 - val_accuracy: 0.5312\n",
      "Epoch 2/5\n",
      "82/82 [==============================] - 1s 15ms/step - loss: 0.8485 - accuracy: 0.6123 - val_loss: 0.8499 - val_accuracy: 0.6109\n",
      "Epoch 3/5\n",
      "82/82 [==============================] - 1s 15ms/step - loss: 0.5652 - accuracy: 0.7760 - val_loss: 0.8721 - val_accuracy: 0.6300\n",
      "Epoch 4/5\n",
      "82/82 [==============================] - 1s 15ms/step - loss: 0.3285 - accuracy: 0.8934 - val_loss: 1.0283 - val_accuracy: 0.6265\n",
      "Epoch 5/5\n",
      "82/82 [==============================] - 1s 15ms/step - loss: 0.1906 - accuracy: 0.9386 - val_loss: 1.1577 - val_accuracy: 0.6153\n",
      " \n",
      "Iter:  4\n",
      " \n",
      "Epoch 1/5\n",
      "82/82 [==============================] - 2s 21ms/step - loss: 1.0484 - accuracy: 0.4711 - val_loss: 0.9612 - val_accuracy: 0.5611\n",
      "Epoch 2/5\n",
      "82/82 [==============================] - 1s 16ms/step - loss: 0.8221 - accuracy: 0.6292 - val_loss: 0.8360 - val_accuracy: 0.6288\n",
      "Epoch 3/5\n",
      "82/82 [==============================] - 1s 18ms/step - loss: 0.5199 - accuracy: 0.8029 - val_loss: 0.9106 - val_accuracy: 0.6288\n",
      "Epoch 4/5\n",
      "82/82 [==============================] - 2s 22ms/step - loss: 0.2875 - accuracy: 0.9059 - val_loss: 1.0968 - val_accuracy: 0.6175\n",
      "Epoch 5/5\n",
      "82/82 [==============================] - 1s 17ms/step - loss: 0.1642 - accuracy: 0.9477 - val_loss: 1.2339 - val_accuracy: 0.6201\n",
      " \n",
      "Iter:  5\n",
      " \n",
      "Epoch 1/5\n",
      "82/82 [==============================] - 2s 20ms/step - loss: 1.0532 - accuracy: 0.4617 - val_loss: 1.0725 - val_accuracy: 0.4484\n",
      "Epoch 2/5\n",
      "82/82 [==============================] - 1s 17ms/step - loss: 0.8627 - accuracy: 0.6124 - val_loss: 0.8983 - val_accuracy: 0.5525\n",
      "Epoch 3/5\n",
      "82/82 [==============================] - 1s 16ms/step - loss: 0.5313 - accuracy: 0.8010 - val_loss: 0.9518 - val_accuracy: 0.5785\n",
      "Epoch 4/5\n",
      "82/82 [==============================] - 1s 14ms/step - loss: 0.2991 - accuracy: 0.9004 - val_loss: 1.0566 - val_accuracy: 0.5950\n",
      "Epoch 5/5\n",
      "82/82 [==============================] - 1s 15ms/step - loss: 0.1764 - accuracy: 0.9421 - val_loss: 1.2263 - val_accuracy: 0.5915\n",
      " \n",
      "Iter:  6\n",
      " \n",
      "Epoch 1/5\n",
      "82/82 [==============================] - 1s 16ms/step - loss: 1.0545 - accuracy: 0.4599 - val_loss: 1.0836 - val_accuracy: 0.3799\n",
      "Epoch 2/5\n",
      "82/82 [==============================] - 1s 15ms/step - loss: 0.9015 - accuracy: 0.5380 - val_loss: 0.9252 - val_accuracy: 0.5386\n",
      "Epoch 3/5\n",
      "82/82 [==============================] - 1s 17ms/step - loss: 0.6273 - accuracy: 0.7379 - val_loss: 0.9991 - val_accuracy: 0.5533\n",
      "Epoch 4/5\n",
      "82/82 [==============================] - 1s 16ms/step - loss: 0.3827 - accuracy: 0.8618 - val_loss: 1.0921 - val_accuracy: 0.5776\n",
      "Epoch 5/5\n",
      "82/82 [==============================] - 1s 17ms/step - loss: 0.2046 - accuracy: 0.9350 - val_loss: 1.1536 - val_accuracy: 0.5846\n",
      " \n",
      "Iter:  7\n",
      " \n",
      "Epoch 1/5\n",
      "82/82 [==============================] - 2s 20ms/step - loss: 1.0502 - accuracy: 0.4663 - val_loss: 0.9972 - val_accuracy: 0.5126\n",
      "Epoch 2/5\n",
      "82/82 [==============================] - 1s 17ms/step - loss: 0.8229 - accuracy: 0.6322 - val_loss: 0.8517 - val_accuracy: 0.6002\n",
      "Epoch 3/5\n",
      "82/82 [==============================] - 1s 17ms/step - loss: 0.5036 - accuracy: 0.8129 - val_loss: 0.9370 - val_accuracy: 0.6028\n",
      "Epoch 4/5\n",
      "82/82 [==============================] - 1s 16ms/step - loss: 0.2715 - accuracy: 0.9145 - val_loss: 1.0917 - val_accuracy: 0.5967\n",
      "Epoch 5/5\n",
      "82/82 [==============================] - 1s 15ms/step - loss: 0.1552 - accuracy: 0.9506 - val_loss: 1.2561 - val_accuracy: 0.5950\n",
      " \n",
      "Iter:  8\n",
      " \n",
      "Epoch 1/5\n",
      "82/82 [==============================] - 2s 20ms/step - loss: 1.0536 - accuracy: 0.4592 - val_loss: 0.9442 - val_accuracy: 0.5958\n",
      "Epoch 2/5\n",
      "82/82 [==============================] - 2s 20ms/step - loss: 0.8235 - accuracy: 0.6191 - val_loss: 0.8671 - val_accuracy: 0.6080\n",
      "Epoch 3/5\n",
      "82/82 [==============================] - 1s 17ms/step - loss: 0.4953 - accuracy: 0.8180 - val_loss: 0.8925 - val_accuracy: 0.6088\n",
      "Epoch 4/5\n",
      "82/82 [==============================] - 2s 21ms/step - loss: 0.2560 - accuracy: 0.9179 - val_loss: 1.0561 - val_accuracy: 0.6088\n",
      "Epoch 5/5\n",
      "82/82 [==============================] - 1s 17ms/step - loss: 0.1299 - accuracy: 0.9616 - val_loss: 1.1728 - val_accuracy: 0.6331\n",
      " \n",
      "Iter:  9\n",
      " \n",
      "Epoch 1/5\n",
      "82/82 [==============================] - 1s 18ms/step - loss: 1.0469 - accuracy: 0.4715 - val_loss: 1.0069 - val_accuracy: 0.5004\n",
      "Epoch 2/5\n",
      "82/82 [==============================] - 1s 18ms/step - loss: 0.8225 - accuracy: 0.6234 - val_loss: 0.8751 - val_accuracy: 0.5915\n",
      "Epoch 3/5\n",
      "82/82 [==============================] - 2s 19ms/step - loss: 0.5310 - accuracy: 0.7921 - val_loss: 0.9782 - val_accuracy: 0.5716\n",
      "Epoch 4/5\n",
      "82/82 [==============================] - 2s 19ms/step - loss: 0.3059 - accuracy: 0.9033 - val_loss: 1.1321 - val_accuracy: 0.5932\n",
      "Epoch 5/5\n",
      "82/82 [==============================] - 2s 19ms/step - loss: 0.1691 - accuracy: 0.9473 - val_loss: 1.2855 - val_accuracy: 0.5958\n",
      " \n",
      "Iter:  10\n",
      " \n",
      "Epoch 1/5\n",
      "82/82 [==============================] - 2s 19ms/step - loss: 1.0635 - accuracy: 0.4505 - val_loss: 1.0465 - val_accuracy: 0.4441\n",
      "Epoch 2/5\n",
      "82/82 [==============================] - 1s 17ms/step - loss: 0.9107 - accuracy: 0.5609 - val_loss: 0.8792 - val_accuracy: 0.5629\n",
      "Epoch 3/5\n",
      "82/82 [==============================] - 1s 17ms/step - loss: 0.6400 - accuracy: 0.7234 - val_loss: 0.8910 - val_accuracy: 0.5698\n",
      "Epoch 4/5\n",
      "82/82 [==============================] - 1s 16ms/step - loss: 0.4222 - accuracy: 0.8382 - val_loss: 0.9634 - val_accuracy: 0.5950\n",
      "Epoch 5/5\n",
      "82/82 [==============================] - 1s 16ms/step - loss: 0.2380 - accuracy: 0.9206 - val_loss: 1.0853 - val_accuracy: 0.6114\n",
      " \n"
     ]
    }
   ],
   "source": [
    "kf = KFold(n_splits=10)\n",
    "val_accuracy = []\n",
    "index = []\n",
    "cont = 0\n",
    "\n",
    "for train_index, test_index in kf.split(Tweet_preprocessed):\n",
    "    cont += 1\n",
    "    \n",
    "    model = tf.keras.Sequential([\n",
    "    vectorize_layer,\n",
    "    tf.keras.layers.Embedding(\n",
    "        input_dim=len(vectorize_layer.get_vocabulary()),\n",
    "        output_dim=64,\n",
    "        mask_zero=True),\n",
    "    \n",
    "    tf.keras.layers.Conv1D(32,6, activation='relu'),\n",
    "    tf.keras.layers.MaxPooling1D(2),\n",
    "    tf.keras.layers.Flatten(),\n",
    "    \n",
    "    tf.keras.layers.Dense(16, activation='relu'),\n",
    "    tf.keras.layers.Dense(3, activation='softmax')   \n",
    "    ])\n",
    "\n",
    "    model.compile(\n",
    "        optimizer= tf.keras.optimizers.Adam(),\n",
    "        loss=tf.keras.losses.categorical_crossentropy,\n",
    "        metrics=['accuracy']\n",
    "    )\n",
    "\n",
    "    Tweet_preprocessed = np.asarray(pre_X(Tweet_preprocessed))\n",
    "    \n",
    "    X_train, X_test = Tweet_preprocessed[train_index], Tweet_preprocessed[test_index]\n",
    "    y_train, y_test = polarity[train_index], polarity[test_index]\n",
    "    y_train_one = one.fit_transform(y_train.reshape(-1,1))\n",
    "    y_teste_one = one.fit_transform(y_test.reshape(-1,1))\n",
    "    \n",
    "    print(\"Iter: \",cont)\n",
    "    print(\" \")\n",
    "    \n",
    "    fit = model.fit( X_train, y_train_one, epochs=5, batch_size=128 ,validation_data=(X_test, y_teste_one)) \n",
    "    print(\" \")\n",
    "    val_accuracy.append(fit.history['val_accuracy'])\n",
    "    \n",
    "    index.append((train_index,test_index))"
   ]
  },
  {
   "cell_type": "code",
   "execution_count": 56,
   "metadata": {},
   "outputs": [
    {
     "name": "stdout",
     "output_type": "stream",
     "text": [
      " Fold: 0\t Ultimo valor acc: 0.5788561701774597\n",
      " Fold: 1\t Ultimo valor acc: 0.5658578872680664\n",
      " Fold: 2\t Ultimo valor acc: 0.6152513027191162\n",
      " Fold: 3\t Ultimo valor acc: 0.620121419429779\n",
      " Fold: 4\t Ultimo valor acc: 0.591500461101532\n",
      " Fold: 5\t Ultimo valor acc: 0.5845620036125183\n",
      " Fold: 6\t Ultimo valor acc: 0.594969630241394\n",
      " Fold: 7\t Ultimo valor acc: 0.6331309676170349\n",
      " Fold: 8\t Ultimo valor acc: 0.5958369374275208\n",
      " Fold: 9\t Ultimo valor acc: 0.6114484071731567\n",
      "\n",
      " Média: 0.5991535186767578 \t Std: 0.019557582916706208\n"
     ]
    }
   ],
   "source": [
    "media_std(val_accuracy)"
   ]
  },
  {
   "cell_type": "code",
   "execution_count": 57,
   "metadata": {},
   "outputs": [
    {
     "data": {
      "image/png": "[encoded data removed]",
      "text/plain": [
       "<Figure size 864x432 with 1 Axes>"
      ]
     },
     "metadata": {
      "needs_background": "light"
     },
     "output_type": "display_data"
    }
   ],
   "source": [
    "plt.figure(figsize=(12,6))\n",
    "plt.plot(fit.history['loss'], label='Loss', color='darkred')\n",
    "plt.plot(fit.history['val_loss'], label='Val Loss', color='green')\n",
    "plt.legend()\n",
    "plt.grid()\n",
    "plt.ylabel('Loss')\n",
    "plt.show()"
   ]
  },
  {
   "cell_type": "code",
   "execution_count": 58,
   "metadata": {},
   "outputs": [
    {
     "data": {
      "image/png": "[encoded data removed]",
      "text/plain": [
       "<Figure size 864x432 with 1 Axes>"
      ]
     },
     "metadata": {
      "needs_background": "light"
     },
     "output_type": "display_data"
    }
   ],
   "source": [
    "plt.figure(figsize=(12,6))\n",
    "plt.plot(fit.history['accuracy'], label='accuracy', color='darkred')\n",
    "plt.plot(fit.history['val_accuracy'], label='Val accuracy', color='green')\n",
    "plt.legend()\n",
    "plt.grid()\n",
    "plt.ylabel('Accuracy')\n",
    "plt.show()"
   ]
  },
  {
   "cell_type": "markdown",
   "metadata": {},
   "source": [
    "## BDR"
   ]
  },
  {
   "cell_type": "code",
   "execution_count": 80,
   "metadata": {},
   "outputs": [],
   "source": [
    "model = tf.keras.Sequential([\n",
    "    vectorize_layer,\n",
    "    tf.keras.layers.Embedding(\n",
    "        input_dim=len(vectorize_layer.get_vocabulary()),\n",
    "        output_dim=1,\n",
    "        mask_zero=True),\n",
    "    tf.keras.layers.Bidirectional(tf.keras.layers.LSTM(1)),\n",
    "\n",
    "    tf.keras.layers.Dense(3, activation='softmax')\n",
    "])\n",
    "\n",
    "model.compile(\n",
    "    optimizer= tf.keras.optimizers.Adam(),\n",
    "    loss=tf.keras.losses.categorical_crossentropy,\n",
    "    metrics=['accuracy']\n",
    ")\n",
    "\n",
    "X_train, X_test, Y_train, Y_test = train_test_split(Tweet_preprocessed, polarity, test_size=0.3)\n",
    "y_one = one.fit_transform(Y_train.reshape(-1,1))\n"
   ]
  },
  {
   "cell_type": "code",
   "execution_count": 81,
   "metadata": {},
   "outputs": [
    {
     "data": {
      "text/plain": [
       "(8073,)"
      ]
     },
     "execution_count": 81,
     "metadata": {},
     "output_type": "execute_result"
    }
   ],
   "source": [
    "X_train.shape"
   ]
  },
  {
   "cell_type": "code",
   "execution_count": 82,
   "metadata": {},
   "outputs": [
    {
     "name": "stdout",
     "output_type": "stream",
     "text": [
      "Epoch 1/10\n",
      "270/270 [==============================] - 5s 20ms/step - loss: 1.0769 - accuracy: 0.4446 - val_loss: 1.0593 - val_accuracy: 0.4653\n",
      "Epoch 2/10\n",
      "270/270 [==============================] - 3s 12ms/step - loss: 1.0510 - accuracy: 0.4479 - val_loss: 1.0289 - val_accuracy: 0.4702\n",
      "Epoch 3/10\n",
      "270/270 [==============================] - 4s 13ms/step - loss: 0.9562 - accuracy: 0.5049 - val_loss: 0.9415 - val_accuracy: 0.5113\n",
      "Epoch 4/10\n",
      "270/270 [==============================] - 3s 12ms/step - loss: 0.8075 - accuracy: 0.6039 - val_loss: 0.9217 - val_accuracy: 0.5332\n",
      "Epoch 5/10\n",
      "270/270 [==============================] - 3s 12ms/step - loss: 0.7032 - accuracy: 0.6632 - val_loss: 0.9445 - val_accuracy: 0.5405\n",
      "Epoch 6/10\n",
      "270/270 [==============================] - 3s 12ms/step - loss: 0.6259 - accuracy: 0.7051 - val_loss: 0.9895 - val_accuracy: 0.5445\n",
      "Epoch 7/10\n",
      "270/270 [==============================] - 3s 13ms/step - loss: 0.5700 - accuracy: 0.7315 - val_loss: 1.0357 - val_accuracy: 0.5370\n",
      "Epoch 8/10\n",
      "270/270 [==============================] - 3s 12ms/step - loss: 0.5286 - accuracy: 0.7546 - val_loss: 1.0854 - val_accuracy: 0.5249\n",
      "Epoch 9/10\n",
      "270/270 [==============================] - 3s 11ms/step - loss: 0.4962 - accuracy: 0.7727 - val_loss: 1.1303 - val_accuracy: 0.5162\n",
      "Epoch 10/10\n",
      "270/270 [==============================] - 3s 13ms/step - loss: 0.4659 - accuracy: 0.7946 - val_loss: 1.1854 - val_accuracy: 0.5194\n"
     ]
    }
   ],
   "source": [
    "fit = model.fit(np.asarray(pre_X(X_train)), y_one, epochs=10, batch_size=30 ,validation_data=(np.asarray(pre_X(X_test)), one.transform(Y_test.reshape(-1,1))))"
   ]
  },
  {
   "cell_type": "code",
   "execution_count": 83,
   "metadata": {},
   "outputs": [],
   "source": [
    "y_one_test = one.fit_transform(Y_test.reshape(-1,1))"
   ]
  },
  {
   "cell_type": "code",
   "execution_count": 84,
   "metadata": {},
   "outputs": [
    {
     "name": "stdout",
     "output_type": "stream",
     "text": [
      "              precision    recall  f1-score   support\n",
      "\n",
      "           0       0.37      0.46      0.41       975\n",
      "           1       0.38      0.32      0.35       875\n",
      "           2       0.71      0.66      0.69      1610\n",
      "\n",
      "    accuracy                           0.52      3460\n",
      "   macro avg       0.49      0.48      0.48      3460\n",
      "weighted avg       0.53      0.52      0.52      3460\n",
      "\n"
     ]
    }
   ],
   "source": [
    "predicted = model.predict(X_test)\n",
    "\n",
    "print(classification_report(np.argmax(y_one_test, axis=1), np.argmax(predicted, axis=1)))"
   ]
  },
  {
   "cell_type": "code",
   "execution_count": 73,
   "metadata": {
    "scrolled": true
   },
   "outputs": [
    {
     "name": "stdout",
     "output_type": "stream",
     "text": [
      "Iter:  1\n",
      " \n",
      "Epoch 1/10\n",
      "82/82 [==============================] - 3s 34ms/step - loss: 1.0828 - accuracy: 0.4442 - val_loss: 1.0597 - val_accuracy: 0.4723\n",
      "Epoch 2/10\n",
      "82/82 [==============================] - 1s 13ms/step - loss: 1.0597 - accuracy: 0.4526 - val_loss: 1.0439 - val_accuracy: 0.4775\n",
      "Epoch 3/10\n",
      "82/82 [==============================] - 1s 13ms/step - loss: 1.0391 - accuracy: 0.4606 - val_loss: 1.0333 - val_accuracy: 0.4835\n",
      "Epoch 4/10\n",
      "82/82 [==============================] - 1s 12ms/step - loss: 1.0020 - accuracy: 0.4876 - val_loss: 1.0269 - val_accuracy: 0.4853\n",
      "Epoch 5/10\n",
      "82/82 [==============================] - 1s 13ms/step - loss: 0.9497 - accuracy: 0.5422 - val_loss: 1.0240 - val_accuracy: 0.4853\n",
      "Epoch 6/10\n",
      "82/82 [==============================] - 1s 13ms/step - loss: 0.8960 - accuracy: 0.5838 - val_loss: 1.0377 - val_accuracy: 0.4775\n",
      "Epoch 7/10\n",
      "82/82 [==============================] - 1s 13ms/step - loss: 0.8472 - accuracy: 0.6092 - val_loss: 1.0604 - val_accuracy: 0.4697\n",
      "Epoch 8/10\n",
      "82/82 [==============================] - 1s 13ms/step - loss: 0.8078 - accuracy: 0.6262 - val_loss: 1.0831 - val_accuracy: 0.4705\n",
      "Epoch 9/10\n",
      "82/82 [==============================] - 1s 13ms/step - loss: 0.7745 - accuracy: 0.6371 - val_loss: 1.0972 - val_accuracy: 0.4783\n",
      "Epoch 10/10\n",
      "82/82 [==============================] - 1s 12ms/step - loss: 0.7501 - accuracy: 0.6454 - val_loss: 1.1211 - val_accuracy: 0.4705\n",
      " \n",
      "Iter:  2\n",
      " \n",
      "Epoch 1/10\n",
      "82/82 [==============================] - 3s 34ms/step - loss: 1.0877 - accuracy: 0.4404 - val_loss: 1.0627 - val_accuracy: 0.5121\n",
      "Epoch 2/10\n",
      "82/82 [==============================] - 1s 16ms/step - loss: 1.0682 - accuracy: 0.4457 - val_loss: 1.0366 - val_accuracy: 0.5121\n",
      "Epoch 3/10\n",
      "82/82 [==============================] - 1s 15ms/step - loss: 1.0443 - accuracy: 0.4459 - val_loss: 1.0091 - val_accuracy: 0.5191\n",
      "Epoch 4/10\n",
      "82/82 [==============================] - 1s 17ms/step - loss: 0.9910 - accuracy: 0.5147 - val_loss: 0.9625 - val_accuracy: 0.6144\n",
      "Epoch 5/10\n",
      "82/82 [==============================] - 1s 14ms/step - loss: 0.9210 - accuracy: 0.5964 - val_loss: 0.9316 - val_accuracy: 0.6265\n",
      "Epoch 6/10\n",
      "82/82 [==============================] - 1s 14ms/step - loss: 0.8622 - accuracy: 0.6261 - val_loss: 0.9167 - val_accuracy: 0.6205\n",
      "Epoch 7/10\n",
      "82/82 [==============================] - 1s 13ms/step - loss: 0.8119 - accuracy: 0.6459 - val_loss: 0.9085 - val_accuracy: 0.6196\n",
      "Epoch 8/10\n",
      "82/82 [==============================] - 1s 14ms/step - loss: 0.7681 - accuracy: 0.6630 - val_loss: 0.9102 - val_accuracy: 0.6161\n",
      "Epoch 9/10\n",
      "82/82 [==============================] - 1s 14ms/step - loss: 0.7266 - accuracy: 0.6730 - val_loss: 0.9167 - val_accuracy: 0.6109\n",
      "Epoch 10/10\n",
      "82/82 [==============================] - 1s 14ms/step - loss: 0.6854 - accuracy: 0.6818 - val_loss: 0.9157 - val_accuracy: 0.6161\n",
      " \n",
      "Iter:  3\n",
      " \n",
      "Epoch 1/10\n",
      "82/82 [==============================] - 3s 36ms/step - loss: 1.0866 - accuracy: 0.4521 - val_loss: 1.0765 - val_accuracy: 0.4541\n",
      "Epoch 2/10\n",
      "82/82 [==============================] - 1s 12ms/step - loss: 1.0714 - accuracy: 0.4522 - val_loss: 1.0665 - val_accuracy: 0.4541\n",
      "Epoch 3/10\n",
      "82/82 [==============================] - 1s 12ms/step - loss: 1.0633 - accuracy: 0.4522 - val_loss: 1.0586 - val_accuracy: 0.4541\n",
      "Epoch 4/10\n",
      "82/82 [==============================] - 1s 12ms/step - loss: 1.0509 - accuracy: 0.4535 - val_loss: 1.0463 - val_accuracy: 0.4627\n",
      "Epoch 5/10\n",
      "82/82 [==============================] - 1s 12ms/step - loss: 1.0260 - accuracy: 0.4974 - val_loss: 1.0227 - val_accuracy: 0.5104\n",
      "Epoch 6/10\n",
      "82/82 [==============================] - 1s 12ms/step - loss: 0.9789 - accuracy: 0.5395 - val_loss: 0.9823 - val_accuracy: 0.5416\n",
      "Epoch 7/10\n",
      "82/82 [==============================] - 1s 12ms/step - loss: 0.9143 - accuracy: 0.5892 - val_loss: 0.9463 - val_accuracy: 0.5806\n",
      "Epoch 8/10\n",
      "82/82 [==============================] - 1s 13ms/step - loss: 0.8532 - accuracy: 0.6263 - val_loss: 0.9279 - val_accuracy: 0.5927\n",
      "Epoch 9/10\n",
      "82/82 [==============================] - 1s 12ms/step - loss: 0.8007 - accuracy: 0.6495 - val_loss: 0.9219 - val_accuracy: 0.5997\n",
      "Epoch 10/10\n",
      "82/82 [==============================] - 1s 12ms/step - loss: 0.7565 - accuracy: 0.6692 - val_loss: 0.9225 - val_accuracy: 0.6066\n",
      " \n",
      "Iter:  4\n",
      " \n",
      "Epoch 1/10\n",
      "82/82 [==============================] - 3s 32ms/step - loss: 1.0841 - accuracy: 0.4444 - val_loss: 1.0647 - val_accuracy: 0.4735\n",
      "Epoch 2/10\n",
      "82/82 [==============================] - 1s 12ms/step - loss: 1.0572 - accuracy: 0.4500 - val_loss: 1.0383 - val_accuracy: 0.4735\n",
      "Epoch 3/10\n",
      "82/82 [==============================] - 1s 12ms/step - loss: 1.0227 - accuracy: 0.4561 - val_loss: 1.0014 - val_accuracy: 0.4935\n",
      "Epoch 4/10\n",
      "82/82 [==============================] - 1s 14ms/step - loss: 0.9623 - accuracy: 0.5392 - val_loss: 0.9565 - val_accuracy: 0.5525\n",
      "Epoch 5/10\n",
      "82/82 [==============================] - 1s 17ms/step - loss: 0.8904 - accuracy: 0.6015 - val_loss: 0.9221 - val_accuracy: 0.5802\n",
      "Epoch 6/10\n",
      "82/82 [==============================] - 1s 15ms/step - loss: 0.8185 - accuracy: 0.6429 - val_loss: 0.9013 - val_accuracy: 0.5958\n",
      "Epoch 7/10\n",
      "82/82 [==============================] - 1s 15ms/step - loss: 0.7490 - accuracy: 0.6670 - val_loss: 0.8959 - val_accuracy: 0.5950\n",
      "Epoch 8/10\n",
      "82/82 [==============================] - 1s 17ms/step - loss: 0.6878 - accuracy: 0.6829 - val_loss: 0.9040 - val_accuracy: 0.6045\n",
      "Epoch 9/10\n",
      "82/82 [==============================] - 1s 14ms/step - loss: 0.6380 - accuracy: 0.6967 - val_loss: 0.9115 - val_accuracy: 0.5984\n",
      "Epoch 10/10\n",
      "82/82 [==============================] - 1s 15ms/step - loss: 0.6007 - accuracy: 0.7049 - val_loss: 0.9305 - val_accuracy: 0.5950\n",
      " \n",
      "Iter:  5\n",
      " \n",
      "Epoch 1/10\n",
      "82/82 [==============================] - 3s 31ms/step - loss: 1.0863 - accuracy: 0.4552 - val_loss: 1.0909 - val_accuracy: 0.4016\n",
      "Epoch 2/10\n",
      "82/82 [==============================] - 1s 13ms/step - loss: 1.0685 - accuracy: 0.4580 - val_loss: 1.0945 - val_accuracy: 0.4016\n",
      "Epoch 3/10\n",
      "82/82 [==============================] - 1s 13ms/step - loss: 1.0609 - accuracy: 0.4580 - val_loss: 1.0975 - val_accuracy: 0.4016\n",
      "Epoch 4/10\n",
      "82/82 [==============================] - 1s 12ms/step - loss: 1.0549 - accuracy: 0.4580 - val_loss: 1.0951 - val_accuracy: 0.4016\n",
      "Epoch 5/10\n",
      "82/82 [==============================] - 1s 13ms/step - loss: 1.0455 - accuracy: 0.4580 - val_loss: 1.0890 - val_accuracy: 0.4016\n",
      "Epoch 6/10\n",
      "82/82 [==============================] - 1s 12ms/step - loss: 1.0301 - accuracy: 0.4580 - val_loss: 1.0824 - val_accuracy: 0.4024\n",
      "Epoch 7/10\n",
      "82/82 [==============================] - 1s 12ms/step - loss: 1.0058 - accuracy: 0.4784 - val_loss: 1.0690 - val_accuracy: 0.4302\n",
      "Epoch 8/10\n",
      "82/82 [==============================] - 1s 12ms/step - loss: 0.9688 - accuracy: 0.5201 - val_loss: 1.0486 - val_accuracy: 0.4406\n",
      "Epoch 9/10\n",
      "82/82 [==============================] - 1s 13ms/step - loss: 0.9160 - accuracy: 0.5643 - val_loss: 1.0132 - val_accuracy: 0.4926\n",
      "Epoch 10/10\n",
      "82/82 [==============================] - 1s 12ms/step - loss: 0.8527 - accuracy: 0.6130 - val_loss: 0.9835 - val_accuracy: 0.5074\n",
      " \n",
      "Iter:  6\n",
      " \n",
      "Epoch 1/10\n",
      "82/82 [==============================] - 2s 30ms/step - loss: 1.0864 - accuracy: 0.4522 - val_loss: 1.1041 - val_accuracy: 0.3799\n",
      "Epoch 2/10\n",
      "82/82 [==============================] - 1s 12ms/step - loss: 1.0612 - accuracy: 0.4604 - val_loss: 1.1168 - val_accuracy: 0.3799\n",
      "Epoch 3/10\n",
      "82/82 [==============================] - 1s 13ms/step - loss: 1.0407 - accuracy: 0.4626 - val_loss: 1.1121 - val_accuracy: 0.3894\n",
      "Epoch 4/10\n",
      "82/82 [==============================] - 1s 12ms/step - loss: 1.0094 - accuracy: 0.4717 - val_loss: 1.0906 - val_accuracy: 0.3990\n",
      "Epoch 5/10\n",
      "82/82 [==============================] - 1s 12ms/step - loss: 0.9570 - accuracy: 0.5064 - val_loss: 1.0801 - val_accuracy: 0.4415\n",
      "Epoch 6/10\n",
      "82/82 [==============================] - 1s 12ms/step - loss: 0.8944 - accuracy: 0.5774 - val_loss: 1.0881 - val_accuracy: 0.4709\n",
      "Epoch 7/10\n",
      "82/82 [==============================] - 1s 13ms/step - loss: 0.8365 - accuracy: 0.6126 - val_loss: 1.0959 - val_accuracy: 0.4952\n",
      "Epoch 8/10\n"
     ]
    },
    {
     "name": "stdout",
     "output_type": "stream",
     "text": [
      "82/82 [==============================] - 1s 12ms/step - loss: 0.7895 - accuracy: 0.6276 - val_loss: 1.1151 - val_accuracy: 0.5022\n",
      "Epoch 9/10\n",
      "82/82 [==============================] - 1s 12ms/step - loss: 0.7509 - accuracy: 0.6400 - val_loss: 1.1556 - val_accuracy: 0.4944\n",
      "Epoch 10/10\n",
      "82/82 [==============================] - 1s 13ms/step - loss: 0.7197 - accuracy: 0.6598 - val_loss: 1.1709 - val_accuracy: 0.4926\n",
      " \n",
      "Iter:  7\n",
      " \n",
      "Epoch 1/10\n",
      "82/82 [==============================] - 3s 33ms/step - loss: 1.0872 - accuracy: 0.4489 - val_loss: 1.0754 - val_accuracy: 0.4614\n",
      "Epoch 2/10\n",
      "82/82 [==============================] - 1s 12ms/step - loss: 1.0694 - accuracy: 0.4513 - val_loss: 1.0629 - val_accuracy: 0.4614\n",
      "Epoch 3/10\n",
      "82/82 [==============================] - 1s 12ms/step - loss: 1.0571 - accuracy: 0.4513 - val_loss: 1.0514 - val_accuracy: 0.4614\n",
      "Epoch 4/10\n",
      "82/82 [==============================] - 1s 13ms/step - loss: 1.0318 - accuracy: 0.4584 - val_loss: 1.0285 - val_accuracy: 0.4744\n",
      "Epoch 5/10\n",
      "82/82 [==============================] - 1s 12ms/step - loss: 0.9905 - accuracy: 0.5042 - val_loss: 1.0090 - val_accuracy: 0.5030\n",
      "Epoch 6/10\n",
      "82/82 [==============================] - 1s 12ms/step - loss: 0.9497 - accuracy: 0.5566 - val_loss: 1.0006 - val_accuracy: 0.4987\n",
      "Epoch 7/10\n",
      "82/82 [==============================] - 1s 12ms/step - loss: 0.9107 - accuracy: 0.5876 - val_loss: 0.9977 - val_accuracy: 0.5030\n",
      "Epoch 8/10\n",
      "82/82 [==============================] - 1s 13ms/step - loss: 0.8721 - accuracy: 0.6037 - val_loss: 0.9988 - val_accuracy: 0.5013\n",
      "Epoch 9/10\n",
      "82/82 [==============================] - 1s 12ms/step - loss: 0.8350 - accuracy: 0.6209 - val_loss: 1.0021 - val_accuracy: 0.4996\n",
      "Epoch 10/10\n",
      "82/82 [==============================] - 1s 12ms/step - loss: 0.7981 - accuracy: 0.6542 - val_loss: 1.0030 - val_accuracy: 0.4970\n",
      " \n",
      "Iter:  8\n",
      " \n",
      "Epoch 1/10\n",
      "82/82 [==============================] - 3s 31ms/step - loss: 1.0882 - accuracy: 0.4419 - val_loss: 1.0628 - val_accuracy: 0.5169\n",
      "Epoch 2/10\n",
      "82/82 [==============================] - 1s 12ms/step - loss: 1.0658 - accuracy: 0.4452 - val_loss: 1.0261 - val_accuracy: 0.5169\n",
      "Epoch 3/10\n",
      "82/82 [==============================] - 1s 12ms/step - loss: 1.0379 - accuracy: 0.4459 - val_loss: 0.9889 - val_accuracy: 0.5221\n",
      "Epoch 4/10\n",
      "82/82 [==============================] - 1s 12ms/step - loss: 0.9878 - accuracy: 0.4958 - val_loss: 0.9432 - val_accuracy: 0.6019\n",
      "Epoch 5/10\n",
      "82/82 [==============================] - 1s 12ms/step - loss: 0.9120 - accuracy: 0.5732 - val_loss: 0.9064 - val_accuracy: 0.6288\n",
      "Epoch 6/10\n",
      "82/82 [==============================] - 1s 12ms/step - loss: 0.8310 - accuracy: 0.6257 - val_loss: 0.8747 - val_accuracy: 0.6323\n",
      "Epoch 7/10\n",
      "82/82 [==============================] - 1s 12ms/step - loss: 0.7569 - accuracy: 0.6538 - val_loss: 0.8689 - val_accuracy: 0.6366\n",
      "Epoch 8/10\n",
      "82/82 [==============================] - 1s 12ms/step - loss: 0.6951 - accuracy: 0.6711 - val_loss: 0.8767 - val_accuracy: 0.6479\n",
      "Epoch 9/10\n",
      "82/82 [==============================] - 1s 12ms/step - loss: 0.6476 - accuracy: 0.6838 - val_loss: 0.8934 - val_accuracy: 0.6470\n",
      "Epoch 10/10\n",
      "82/82 [==============================] - 1s 13ms/step - loss: 0.6097 - accuracy: 0.6929 - val_loss: 0.9138 - val_accuracy: 0.6323\n",
      " \n",
      "Iter:  9\n",
      " \n",
      "Epoch 1/10\n",
      "82/82 [==============================] - 3s 36ms/step - loss: 1.0877 - accuracy: 0.4507 - val_loss: 1.0841 - val_accuracy: 0.4180\n",
      "Epoch 2/10\n",
      "82/82 [==============================] - 1s 14ms/step - loss: 1.0655 - accuracy: 0.4562 - val_loss: 1.0758 - val_accuracy: 0.4180\n",
      "Epoch 3/10\n",
      "82/82 [==============================] - 1s 14ms/step - loss: 1.0458 - accuracy: 0.4562 - val_loss: 1.0636 - val_accuracy: 0.4180\n",
      "Epoch 4/10\n",
      "82/82 [==============================] - 1s 14ms/step - loss: 1.0125 - accuracy: 0.4653 - val_loss: 1.0330 - val_accuracy: 0.4371\n",
      "Epoch 5/10\n",
      "82/82 [==============================] - 1s 12ms/step - loss: 0.9465 - accuracy: 0.5112 - val_loss: 0.9898 - val_accuracy: 0.4770\n",
      "Epoch 6/10\n",
      "82/82 [==============================] - 1s 12ms/step - loss: 0.8612 - accuracy: 0.5696 - val_loss: 0.9624 - val_accuracy: 0.4996\n",
      "Epoch 7/10\n",
      "82/82 [==============================] - 1s 14ms/step - loss: 0.7815 - accuracy: 0.6059 - val_loss: 0.9511 - val_accuracy: 0.5091\n",
      "Epoch 8/10\n",
      "82/82 [==============================] - 1s 13ms/step - loss: 0.7158 - accuracy: 0.6303 - val_loss: 0.9512 - val_accuracy: 0.5265\n",
      "Epoch 9/10\n",
      "82/82 [==============================] - 1s 13ms/step - loss: 0.6648 - accuracy: 0.6542 - val_loss: 0.9634 - val_accuracy: 0.5239\n",
      "Epoch 10/10\n",
      "82/82 [==============================] - 1s 13ms/step - loss: 0.6250 - accuracy: 0.6696 - val_loss: 0.9868 - val_accuracy: 0.5499\n",
      " \n",
      "Iter:  10\n",
      " \n",
      "Epoch 1/10\n",
      "82/82 [==============================] - 3s 35ms/step - loss: 1.0867 - accuracy: 0.4479 - val_loss: 1.0803 - val_accuracy: 0.4337\n",
      "Epoch 2/10\n",
      "82/82 [==============================] - 1s 13ms/step - loss: 1.0660 - accuracy: 0.4544 - val_loss: 1.0695 - val_accuracy: 0.4337\n",
      "Epoch 3/10\n",
      "82/82 [==============================] - 1s 13ms/step - loss: 1.0471 - accuracy: 0.4551 - val_loss: 1.0575 - val_accuracy: 0.4397\n",
      "Epoch 4/10\n",
      "82/82 [==============================] - 1s 13ms/step - loss: 1.0158 - accuracy: 0.4669 - val_loss: 1.0317 - val_accuracy: 0.4449\n",
      "Epoch 5/10\n",
      "82/82 [==============================] - 1s 14ms/step - loss: 0.9609 - accuracy: 0.5141 - val_loss: 1.0056 - val_accuracy: 0.4892\n",
      "Epoch 6/10\n",
      "82/82 [==============================] - 1s 13ms/step - loss: 0.8983 - accuracy: 0.5868 - val_loss: 0.9941 - val_accuracy: 0.4987\n",
      "Epoch 7/10\n",
      "82/82 [==============================] - 1s 14ms/step - loss: 0.8402 - accuracy: 0.6159 - val_loss: 0.9951 - val_accuracy: 0.4935\n",
      "Epoch 8/10\n",
      "82/82 [==============================] - 1s 13ms/step - loss: 0.7834 - accuracy: 0.6331 - val_loss: 0.9987 - val_accuracy: 0.4918\n",
      "Epoch 9/10\n",
      "82/82 [==============================] - 1s 13ms/step - loss: 0.7273 - accuracy: 0.6619 - val_loss: 1.0056 - val_accuracy: 0.5152\n",
      "Epoch 10/10\n",
      "82/82 [==============================] - 1s 13ms/step - loss: 0.6724 - accuracy: 0.7239 - val_loss: 1.0266 - val_accuracy: 0.5160\n",
      " \n"
     ]
    }
   ],
   "source": [
    "kf = KFold(n_splits=10)\n",
    "val_accuracy = []\n",
    "index = []\n",
    "cont = 0\n",
    "\n",
    "for train_index, test_index in kf.split(Tweet_preprocessed):\n",
    "    cont += 1\n",
    "    \n",
    "    model = tf.keras.Sequential([\n",
    "    vectorize_layer,\n",
    "    tf.keras.layers.Embedding(\n",
    "        input_dim=len(vectorize_layer.get_vocabulary()),\n",
    "        output_dim=1,\n",
    "        mask_zero=True),\n",
    "    tf.keras.layers.Bidirectional(tf.keras.layers.LSTM(1)),\n",
    "\n",
    "    tf.keras.layers.Dense(3, activation='softmax')\n",
    "    ])\n",
    "\n",
    "    model.compile(\n",
    "        optimizer= tf.keras.optimizers.Adam(),\n",
    "        loss=tf.keras.losses.categorical_crossentropy,\n",
    "        metrics=['accuracy']\n",
    "    )\n",
    "\n",
    "    Tweet_preprocessed = np.asarray(pre_X(Tweet_preprocessed))\n",
    "    \n",
    "    X_train, X_test = Tweet_preprocessed[train_index], Tweet_preprocessed[test_index]\n",
    "    y_train, y_test = polarity[train_index], polarity[test_index]\n",
    "    y_train_one = one.fit_transform(y_train.reshape(-1,1))\n",
    "    y_teste_one = one.fit_transform(y_test.reshape(-1,1))\n",
    "    \n",
    "    print(\"Iter: \",cont)\n",
    "    print(\" \")\n",
    "    \n",
    "    fit = model.fit( X_train, y_train_one, epochs=10, batch_size=128 ,validation_data=(X_test, y_teste_one)) \n",
    "    print(\" \")\n",
    "    val_accuracy.append(fit.history['val_accuracy'])\n",
    "    \n",
    "    index.append((train_index,test_index))"
   ]
  },
  {
   "cell_type": "code",
   "execution_count": 74,
   "metadata": {},
   "outputs": [
    {
     "name": "stdout",
     "output_type": "stream",
     "text": [
      " Fold: 0\t Ultimo valor acc: 0.4705372750759125\n",
      " Fold: 1\t Ultimo valor acc: 0.6161178350448608\n",
      " Fold: 2\t Ultimo valor acc: 0.6065858006477356\n",
      " Fold: 3\t Ultimo valor acc: 0.594969630241394\n",
      " Fold: 4\t Ultimo valor acc: 0.5073720812797546\n",
      " Fold: 5\t Ultimo valor acc: 0.49262791872024536\n",
      " Fold: 6\t Ultimo valor acc: 0.4969644546508789\n",
      " Fold: 7\t Ultimo valor acc: 0.6322636604309082\n",
      " Fold: 8\t Ultimo valor acc: 0.5498698949813843\n",
      " Fold: 9\t Ultimo valor acc: 0.516045093536377\n",
      "\n",
      " Média: 0.5483353644609451 \t Std: 0.05632417757111513\n"
     ]
    }
   ],
   "source": [
    "media_std(val_accuracy)"
   ]
  },
  {
   "cell_type": "code",
   "execution_count": 75,
   "metadata": {},
   "outputs": [
    {
     "data": {
      "image/png": "[encoded data removed]",
      "text/plain": [
       "<Figure size 864x432 with 1 Axes>"
      ]
     },
     "metadata": {
      "needs_background": "light"
     },
     "output_type": "display_data"
    }
   ],
   "source": [
    "plt.figure(figsize=(12,6))\n",
    "plt.plot(fit.history['loss'], label='Loss', color='darkred')\n",
    "plt.plot(fit.history['val_loss'], label='Val Loss', color='green')\n",
    "plt.legend()\n",
    "plt.grid()\n",
    "plt.ylabel('Loss')\n",
    "plt.show()"
   ]
  },
  {
   "cell_type": "code",
   "execution_count": 76,
   "metadata": {},
   "outputs": [
    {
     "data": {
      "image/png": "[encoded data removed]",
      "text/plain": [
       "<Figure size 864x432 with 1 Axes>"
      ]
     },
     "metadata": {
      "needs_background": "light"
     },
     "output_type": "display_data"
    }
   ],
   "source": [
    "plt.figure(figsize=(12,6))\n",
    "plt.plot(fit.history['accuracy'], label='accuracy', color='darkred')\n",
    "plt.plot(fit.history['val_accuracy'], label='Val accuracy', color='green')\n",
    "plt.legend()\n",
    "plt.grid()\n",
    "plt.ylabel('Accuracy')\n",
    "plt.show()"
   ]
  },
  {
   "cell_type": "code",
   "execution_count": 18,
   "metadata": {
    "scrolled": false
   },
   "outputs": [
    {
     "name": "stdout",
     "output_type": "stream",
     "text": [
      "INFO:tensorflow:Reloading Oracle from existing project .\\text_classifier\\oracle.json\n",
      "INFO:tensorflow:Reloading Tuner from .\\text_classifier\\tuner0.json\n",
      "INFO:tensorflow:Oracle triggered exit\n",
      "Epoch 1/10\n",
      "253/253 [==============================] - 23s 92ms/step - loss: 0.5958 - accuracy: 0.4936 - val_loss: 0.5222 - val_accuracy: 0.5882\n",
      "Epoch 2/10\n",
      "253/253 [==============================] - 24s 95ms/step - loss: 0.4689 - accuracy: 0.6444 - val_loss: 0.5052 - val_accuracy: 0.6066\n",
      "Epoch 3/10\n",
      "253/253 [==============================] - 27s 107ms/step - loss: 0.3611 - accuracy: 0.7537 - val_loss: 0.5646 - val_accuracy: 0.5960\n",
      "Epoch 4/10\n",
      "253/253 [==============================] - 24s 94ms/step - loss: 0.2627 - accuracy: 0.8339 - val_loss: 0.6647 - val_accuracy: 0.5847\n",
      "Epoch 5/10\n",
      "253/253 [==============================] - 24s 95ms/step - loss: 0.1892 - accuracy: 0.8875 - val_loss: 0.7942 - val_accuracy: 0.5760\n",
      "Epoch 6/10\n",
      "253/253 [==============================] - 23s 92ms/step - loss: 0.1409 - accuracy: 0.9178 - val_loss: 0.9585 - val_accuracy: 0.5697\n",
      "Epoch 7/10\n",
      "253/253 [==============================] - 23s 91ms/step - loss: 0.1101 - accuracy: 0.9327 - val_loss: 1.0319 - val_accuracy: 0.5809\n",
      "Epoch 8/10\n",
      "253/253 [==============================] - 23s 91ms/step - loss: 0.0847 - accuracy: 0.9467 - val_loss: 1.1183 - val_accuracy: 0.5647\n",
      "Epoch 9/10\n",
      "253/253 [==============================] - 27s 107ms/step - loss: 0.0789 - accuracy: 0.9527 - val_loss: 1.2388 - val_accuracy: 0.5659\n",
      "Epoch 10/10\n",
      "253/253 [==============================] - 26s 104ms/step - loss: 0.0644 - accuracy: 0.9618 - val_loss: 1.3376 - val_accuracy: 0.5572\n",
      "WARNING:tensorflow:From c:\\users\\ddayv\\appdata\\local\\programs\\python\\python37\\lib\\site-packages\\tensorflow\\python\\training\\tracking\\tracking.py:111: Model.state_updates (from tensorflow.python.keras.engine.training) is deprecated and will be removed in a future version.\n",
      "Instructions for updating:\n",
      "This property should not be used in TensorFlow 2.0, as updates are applied automatically.\n",
      "WARNING:tensorflow:From c:\\users\\ddayv\\appdata\\local\\programs\\python\\python37\\lib\\site-packages\\tensorflow\\python\\training\\tracking\\tracking.py:111: Layer.updates (from tensorflow.python.keras.engine.base_layer) is deprecated and will be removed in a future version.\n",
      "Instructions for updating:\n",
      "This property should not be used in TensorFlow 2.0, as updates are applied automatically.\n",
      "INFO:tensorflow:Assets written to: .\\text_classifier\\best_model\\assets\n"
     ]
    }
   ],
   "source": [
    "TextClassifier = ak.TextClassifier(\n",
    "    num_classes=3, \n",
    "    multi_label=True, \n",
    "    loss=tf.keras.losses.categorical_crossentropy, \n",
    "    metrics=['accuracy'],\n",
    "    project_name=\"text_classifier\",\n",
    "    max_trials=1,\n",
    "    objective=\"val_loss\"\n",
    ")\n",
    "\n",
    "fit = TextClassifier.fit(\n",
    "    x=np.asarray(pre_X(X_train)), y=one.fit_transform(Y_train.reshape(-1,1)), epochs=10, validation_split=0.2, validation_data=(np.asarray(pre_X(X_test)),one.fit_transform(Y_test.reshape(-1,1)) )\n",
    ")\n"
   ]
  }
 ],
 "metadata": {
  "kernelspec": {
   "display_name": "Python 3",
   "language": "python",
   "name": "python3"
  },
  "language_info": {
   "codemirror_mode": {
    "name": "ipython",
    "version": 3
   },
   "file_extension": ".py",
   "mimetype": "text/x-python",
   "name": "python",
   "nbconvert_exporter": "python",
   "pygments_lexer": "ipython3",
   "version": "3.7.9"
  }
 },
 "nbformat": 4,
 "nbformat_minor": 2
}
