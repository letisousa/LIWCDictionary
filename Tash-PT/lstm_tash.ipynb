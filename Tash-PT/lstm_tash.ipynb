{
  "nbformat": 4,
  "nbformat_minor": 0,
  "metadata": {
    "colab": {
      "name": "lstm_tash.ipynb",
      "provenance": []
    },
    "kernelspec": {
      "name": "python3",
      "display_name": "Python 3"
    },
    "language_info": {
      "name": "python"
    }
  },
  "cells": [
    {
      "cell_type": "code",
      "metadata": {
        "colab": {
          "base_uri": "https://localhost:8080/"
        },
        "id": "uzDF-47N-Usg",
        "outputId": "e8b0eb6f-d1db-46c9-afe1-51487261b7b2"
      },
      "source": [
        "import pandas as pd\n",
        "import numpy as np\n",
        "import seaborn as sns\n",
        "import matplotlib.pyplot as plt\n",
        "\n",
        "import re\n",
        "import unicodedata\n",
        "import nltk\n",
        "from nltk import word_tokenize, RegexpTokenizer\n",
        "from nltk.corpus import stopwords, wordnet\n",
        "nltk.download('stopwords')\n",
        "nltk.download('wordnet')\n",
        "\n",
        "from sklearn.feature_extraction.text import CountVectorizer\n",
        "from sklearn.feature_extraction.text import TfidfTransformer\n",
        "from sklearn.naive_bayes import MultinomialNB\n",
        "from sklearn.model_selection import train_test_split\n",
        "from sklearn.preprocessing import OneHotEncoder\n",
        "from sklearn import metrics\n",
        "\n",
        "import tensorflow as tf\n",
        "from tensorflow.keras.layers.experimental.preprocessing import TextVectorization"
      ],
      "execution_count": 101,
      "outputs": [
        {
          "output_type": "stream",
          "text": [
            "[nltk_data] Downloading package stopwords to /root/nltk_data...\n",
            "[nltk_data]   Package stopwords is already up-to-date!\n",
            "[nltk_data] Downloading package wordnet to /root/nltk_data...\n",
            "[nltk_data]   Package wordnet is already up-to-date!\n"
          ],
          "name": "stdout"
        }
      ]
    },
    {
      "cell_type": "code",
      "metadata": {
        "colab": {
          "base_uri": "https://localhost:8080/",
          "height": 419
        },
        "id": "1vJczxTF-v7a",
        "outputId": "73a17b59-a078-4b07-8c3e-3611dee886f7"
      },
      "source": [
        "df = pd.read_csv(\"/content/tash-pt.csv\")\n",
        "df"
      ],
      "execution_count": 102,
      "outputs": [
        {
          "output_type": "execute_result",
          "data": {
            "text/html": [
              "<div>\n",
              "<style scoped>\n",
              "    .dataframe tbody tr th:only-of-type {\n",
              "        vertical-align: middle;\n",
              "    }\n",
              "\n",
              "    .dataframe tbody tr th {\n",
              "        vertical-align: top;\n",
              "    }\n",
              "\n",
              "    .dataframe thead th {\n",
              "        text-align: right;\n",
              "    }\n",
              "</style>\n",
              "<table border=\"1\" class=\"dataframe\">\n",
              "  <thead>\n",
              "    <tr style=\"text-align: right;\">\n",
              "      <th></th>\n",
              "      <th>id_twitter</th>\n",
              "      <th>sentiment</th>\n",
              "      <th>text</th>\n",
              "    </tr>\n",
              "  </thead>\n",
              "  <tbody>\n",
              "    <tr>\n",
              "      <th>0</th>\n",
              "      <td>1067856049821155334</td>\n",
              "      <td>1</td>\n",
              "      <td>@tchaugip @n00bona História vence técnica faci...</td>\n",
              "    </tr>\n",
              "    <tr>\n",
              "      <th>1</th>\n",
              "      <td>1070902848957964288</td>\n",
              "      <td>1</td>\n",
              "      <td>@camandis aa obrigado perfeito o seu timing ti...</td>\n",
              "    </tr>\n",
              "    <tr>\n",
              "      <th>2</th>\n",
              "      <td>1073158858925838336</td>\n",
              "      <td>0</td>\n",
              "      <td>moldura artística favorita entre filistinos al...</td>\n",
              "    </tr>\n",
              "    <tr>\n",
              "      <th>3</th>\n",
              "      <td>1073220881344856064</td>\n",
              "      <td>0</td>\n",
              "      <td>Minha cama tá no localizada no meio nesse mome...</td>\n",
              "    </tr>\n",
              "    <tr>\n",
              "      <th>4</th>\n",
              "      <td>1073347140334833664</td>\n",
              "      <td>0</td>\n",
              "      <td>@eueduramos o mundo so vai mudar quando as pes...</td>\n",
              "    </tr>\n",
              "    <tr>\n",
              "      <th>...</th>\n",
              "      <td>...</td>\n",
              "      <td>...</td>\n",
              "      <td>...</td>\n",
              "    </tr>\n",
              "    <tr>\n",
              "      <th>2782</th>\n",
              "      <td>1068599890761129985</td>\n",
              "      <td>-1</td>\n",
              "      <td>@PastorMalafaia Concordo com Prof Olavo de Car...</td>\n",
              "    </tr>\n",
              "    <tr>\n",
              "      <th>2783</th>\n",
              "      <td>1071376463230840833</td>\n",
              "      <td>-1</td>\n",
              "      <td>@ClaudiaLeitte se o clipe de saudade não for g...</td>\n",
              "    </tr>\n",
              "    <tr>\n",
              "      <th>2784</th>\n",
              "      <td>1073978880787181568</td>\n",
              "      <td>1</td>\n",
              "      <td>agr o ar vai ficar ligado 24 por 48</td>\n",
              "    </tr>\n",
              "    <tr>\n",
              "      <th>2785</th>\n",
              "      <td>1074925265980145666</td>\n",
              "      <td>0</td>\n",
              "      <td>e eu que no meio de tantos problemas ainda con...</td>\n",
              "    </tr>\n",
              "    <tr>\n",
              "      <th>2786</th>\n",
              "      <td>1071211276217606145</td>\n",
              "      <td>0</td>\n",
              "      <td>Ué ser gentil não é ser falso</td>\n",
              "    </tr>\n",
              "  </tbody>\n",
              "</table>\n",
              "<p>2787 rows × 3 columns</p>\n",
              "</div>"
            ],
            "text/plain": [
              "               id_twitter  ...                                               text\n",
              "0     1067856049821155334  ...  @tchaugip @n00bona História vence técnica faci...\n",
              "1     1070902848957964288  ...  @camandis aa obrigado perfeito o seu timing ti...\n",
              "2     1073158858925838336  ...  moldura artística favorita entre filistinos al...\n",
              "3     1073220881344856064  ...  Minha cama tá no localizada no meio nesse mome...\n",
              "4     1073347140334833664  ...  @eueduramos o mundo so vai mudar quando as pes...\n",
              "...                   ...  ...                                                ...\n",
              "2782  1068599890761129985  ...  @PastorMalafaia Concordo com Prof Olavo de Car...\n",
              "2783  1071376463230840833  ...  @ClaudiaLeitte se o clipe de saudade não for g...\n",
              "2784  1073978880787181568  ...                agr o ar vai ficar ligado 24 por 48\n",
              "2785  1074925265980145666  ...  e eu que no meio de tantos problemas ainda con...\n",
              "2786  1071211276217606145  ...                      Ué ser gentil não é ser falso\n",
              "\n",
              "[2787 rows x 3 columns]"
            ]
          },
          "metadata": {
            "tags": []
          },
          "execution_count": 102
        }
      ]
    },
    {
      "cell_type": "code",
      "metadata": {
        "colab": {
          "base_uri": "https://localhost:8080/",
          "height": 204
        },
        "id": "YJl7RUpE_vT-",
        "outputId": "74261abe-b076-40cb-a6d6-e1c3e4dbb163"
      },
      "source": [
        "df.drop('id_twitter', inplace = True, axis = 1) #deletando coluna 'id_twitter'\n",
        "df.head()"
      ],
      "execution_count": 103,
      "outputs": [
        {
          "output_type": "execute_result",
          "data": {
            "text/html": [
              "<div>\n",
              "<style scoped>\n",
              "    .dataframe tbody tr th:only-of-type {\n",
              "        vertical-align: middle;\n",
              "    }\n",
              "\n",
              "    .dataframe tbody tr th {\n",
              "        vertical-align: top;\n",
              "    }\n",
              "\n",
              "    .dataframe thead th {\n",
              "        text-align: right;\n",
              "    }\n",
              "</style>\n",
              "<table border=\"1\" class=\"dataframe\">\n",
              "  <thead>\n",
              "    <tr style=\"text-align: right;\">\n",
              "      <th></th>\n",
              "      <th>sentiment</th>\n",
              "      <th>text</th>\n",
              "    </tr>\n",
              "  </thead>\n",
              "  <tbody>\n",
              "    <tr>\n",
              "      <th>0</th>\n",
              "      <td>1</td>\n",
              "      <td>@tchaugip @n00bona História vence técnica faci...</td>\n",
              "    </tr>\n",
              "    <tr>\n",
              "      <th>1</th>\n",
              "      <td>1</td>\n",
              "      <td>@camandis aa obrigado perfeito o seu timing ti...</td>\n",
              "    </tr>\n",
              "    <tr>\n",
              "      <th>2</th>\n",
              "      <td>0</td>\n",
              "      <td>moldura artística favorita entre filistinos al...</td>\n",
              "    </tr>\n",
              "    <tr>\n",
              "      <th>3</th>\n",
              "      <td>0</td>\n",
              "      <td>Minha cama tá no localizada no meio nesse mome...</td>\n",
              "    </tr>\n",
              "    <tr>\n",
              "      <th>4</th>\n",
              "      <td>0</td>\n",
              "      <td>@eueduramos o mundo so vai mudar quando as pes...</td>\n",
              "    </tr>\n",
              "  </tbody>\n",
              "</table>\n",
              "</div>"
            ],
            "text/plain": [
              "   sentiment                                               text\n",
              "0          1  @tchaugip @n00bona História vence técnica faci...\n",
              "1          1  @camandis aa obrigado perfeito o seu timing ti...\n",
              "2          0  moldura artística favorita entre filistinos al...\n",
              "3          0  Minha cama tá no localizada no meio nesse mome...\n",
              "4          0  @eueduramos o mundo so vai mudar quando as pes..."
            ]
          },
          "metadata": {
            "tags": []
          },
          "execution_count": 103
        }
      ]
    },
    {
      "cell_type": "code",
      "metadata": {
        "colab": {
          "base_uri": "https://localhost:8080/"
        },
        "id": "fkGXKsQ5AiX8",
        "outputId": "62f463e4-c2c2-4f43-ad6c-0c2bb553639f"
      },
      "source": [
        "df.isnull().sum()"
      ],
      "execution_count": 104,
      "outputs": [
        {
          "output_type": "execute_result",
          "data": {
            "text/plain": [
              "sentiment    0\n",
              "text         0\n",
              "dtype: int64"
            ]
          },
          "metadata": {
            "tags": []
          },
          "execution_count": 104
        }
      ]
    },
    {
      "cell_type": "code",
      "metadata": {
        "colab": {
          "base_uri": "https://localhost:8080/"
        },
        "id": "f8CGV9FZBJMb",
        "outputId": "dfdd9271-2757-4483-ffdc-a3f0750eba55"
      },
      "source": [
        "df.drop_duplicates() #deletando também duplicatas, se existirem\n",
        "df.shape"
      ],
      "execution_count": 105,
      "outputs": [
        {
          "output_type": "execute_result",
          "data": {
            "text/plain": [
              "(2787, 2)"
            ]
          },
          "metadata": {
            "tags": []
          },
          "execution_count": 105
        }
      ]
    },
    {
      "cell_type": "code",
      "metadata": {
        "colab": {
          "base_uri": "https://localhost:8080/"
        },
        "id": "jysyA8rZBM4F",
        "outputId": "9d5f2707-854f-42fd-dedf-93824b284ff4"
      },
      "source": [
        "df['sentiment'].value_counts()"
      ],
      "execution_count": 106,
      "outputs": [
        {
          "output_type": "execute_result",
          "data": {
            "text/plain": [
              " 0    1018\n",
              " 1     888\n",
              "-1     881\n",
              "Name: sentiment, dtype: int64"
            ]
          },
          "metadata": {
            "tags": []
          },
          "execution_count": 106
        }
      ]
    },
    {
      "cell_type": "code",
      "metadata": {
        "colab": {
          "base_uri": "https://localhost:8080/",
          "height": 504
        },
        "id": "exSocxWzBQr0",
        "outputId": "ba04e689-b678-4912-cbbe-26352c97ac5b"
      },
      "source": [
        "#deletando os nomes de usuário\n",
        "def user_clean(text):\n",
        "    res = re.sub(\"@[^ ]+\", \"\", text)\n",
        "    return res\n",
        "\n",
        "for i in df.index:\n",
        "    texto = df['text'][i]\n",
        "    df['text'][i] = user_clean(texto)\n",
        "\n",
        "df"
      ],
      "execution_count": 107,
      "outputs": [
        {
          "output_type": "stream",
          "text": [
            "/usr/local/lib/python3.7/dist-packages/ipykernel_launcher.py:8: SettingWithCopyWarning: \n",
            "A value is trying to be set on a copy of a slice from a DataFrame\n",
            "\n",
            "See the caveats in the documentation: https://pandas.pydata.org/pandas-docs/stable/user_guide/indexing.html#returning-a-view-versus-a-copy\n",
            "  \n"
          ],
          "name": "stderr"
        },
        {
          "output_type": "execute_result",
          "data": {
            "text/html": [
              "<div>\n",
              "<style scoped>\n",
              "    .dataframe tbody tr th:only-of-type {\n",
              "        vertical-align: middle;\n",
              "    }\n",
              "\n",
              "    .dataframe tbody tr th {\n",
              "        vertical-align: top;\n",
              "    }\n",
              "\n",
              "    .dataframe thead th {\n",
              "        text-align: right;\n",
              "    }\n",
              "</style>\n",
              "<table border=\"1\" class=\"dataframe\">\n",
              "  <thead>\n",
              "    <tr style=\"text-align: right;\">\n",
              "      <th></th>\n",
              "      <th>sentiment</th>\n",
              "      <th>text</th>\n",
              "    </tr>\n",
              "  </thead>\n",
              "  <tbody>\n",
              "    <tr>\n",
              "      <th>0</th>\n",
              "      <td>1</td>\n",
              "      <td>História vence técnica facilmente. A menos q...</td>\n",
              "    </tr>\n",
              "    <tr>\n",
              "      <th>1</th>\n",
              "      <td>1</td>\n",
              "      <td>aa obrigado perfeito o seu timing tinha acaba...</td>\n",
              "    </tr>\n",
              "    <tr>\n",
              "      <th>2</th>\n",
              "      <td>0</td>\n",
              "      <td>moldura artística favorita entre filistinos al...</td>\n",
              "    </tr>\n",
              "    <tr>\n",
              "      <th>3</th>\n",
              "      <td>0</td>\n",
              "      <td>Minha cama tá no localizada no meio nesse mome...</td>\n",
              "    </tr>\n",
              "    <tr>\n",
              "      <th>4</th>\n",
              "      <td>0</td>\n",
              "      <td>o mundo so vai mudar quando as pessoas entend...</td>\n",
              "    </tr>\n",
              "    <tr>\n",
              "      <th>...</th>\n",
              "      <td>...</td>\n",
              "      <td>...</td>\n",
              "    </tr>\n",
              "    <tr>\n",
              "      <th>2782</th>\n",
              "      <td>-1</td>\n",
              "      <td>Concordo com Prof Olavo de Carvalho. O Escola...</td>\n",
              "    </tr>\n",
              "    <tr>\n",
              "      <th>2783</th>\n",
              "      <td>-1</td>\n",
              "      <td>se o clipe de saudade não for gravado no Pelo...</td>\n",
              "    </tr>\n",
              "    <tr>\n",
              "      <th>2784</th>\n",
              "      <td>1</td>\n",
              "      <td>agr o ar vai ficar ligado 24 por 48</td>\n",
              "    </tr>\n",
              "    <tr>\n",
              "      <th>2785</th>\n",
              "      <td>0</td>\n",
              "      <td>e eu que no meio de tantos problemas ainda con...</td>\n",
              "    </tr>\n",
              "    <tr>\n",
              "      <th>2786</th>\n",
              "      <td>0</td>\n",
              "      <td>Ué ser gentil não é ser falso</td>\n",
              "    </tr>\n",
              "  </tbody>\n",
              "</table>\n",
              "<p>2787 rows × 2 columns</p>\n",
              "</div>"
            ],
            "text/plain": [
              "      sentiment                                               text\n",
              "0             1    História vence técnica facilmente. A menos q...\n",
              "1             1   aa obrigado perfeito o seu timing tinha acaba...\n",
              "2             0  moldura artística favorita entre filistinos al...\n",
              "3             0  Minha cama tá no localizada no meio nesse mome...\n",
              "4             0   o mundo so vai mudar quando as pessoas entend...\n",
              "...         ...                                                ...\n",
              "2782         -1   Concordo com Prof Olavo de Carvalho. O Escola...\n",
              "2783         -1   se o clipe de saudade não for gravado no Pelo...\n",
              "2784          1                agr o ar vai ficar ligado 24 por 48\n",
              "2785          0  e eu que no meio de tantos problemas ainda con...\n",
              "2786          0                      Ué ser gentil não é ser falso\n",
              "\n",
              "[2787 rows x 2 columns]"
            ]
          },
          "metadata": {
            "tags": []
          },
          "execution_count": 107
        }
      ]
    },
    {
      "cell_type": "code",
      "metadata": {
        "colab": {
          "base_uri": "https://localhost:8080/"
        },
        "id": "ihn5IbdNBteI",
        "outputId": "8f1f1a8a-ecc2-46a9-bb28-9d1a3ffd626d"
      },
      "source": [
        "#removendo acentos e caracteres especiais\n",
        "def f_clean(df, text):\n",
        "    df['text'] = df['text'].replace(regex='[!/,.-]',value='').apply(lambda x: unicodedata.normalize('NFKD', x).encode('ascii','ignore').decode(\"utf-8\"))\n",
        "    return df\n",
        "                                                                    \n",
        "f_clean(df, df['text'])\n",
        "print('\\n',df['text'][0])\n",
        "print('\\n',df['text'][9])"
      ],
      "execution_count": 108,
      "outputs": [
        {
          "output_type": "stream",
          "text": [
            "\n",
            "   Historia vence tecnica facilmente A menos que seja algo experimental que traga algo muito diferente e novo pois ai agrega ao panteao de tecnicas e entao e lembrado Caso contrario e so execucao\n",
            "\n",
            " viado eu to apaixonado pelo   nao da amo um artista\n"
          ],
          "name": "stdout"
        }
      ]
    },
    {
      "cell_type": "code",
      "metadata": {
        "colab": {
          "base_uri": "https://localhost:8080/"
        },
        "id": "XNuidvZYB-3m",
        "outputId": "48f4a490-a6ad-47ba-c6ec-769b9cd203f8"
      },
      "source": [
        "#removendo stopwords\n",
        "def f_stopwords(df, text):\n",
        "    stop_words = stopwords.words('portuguese')\n",
        "    df['text'] = df['text'].apply(lambda x: ' '.join([word for word in x.split() if word not in (stop_words)]))\n",
        "    return df\n",
        "\n",
        "f_stopwords(df, df['text'])\n",
        "print('\\n',df['text'][0])\n",
        "print('\\n',df['text'][9])"
      ],
      "execution_count": 109,
      "outputs": [
        {
          "output_type": "stream",
          "text": [
            "\n",
            " Historia vence tecnica facilmente A menos algo experimental traga algo diferente novo pois ai agrega panteao tecnicas entao lembrado Caso contrario so execucao\n",
            "\n",
            " viado to apaixonado nao amo artista\n"
          ],
          "name": "stdout"
        }
      ]
    },
    {
      "cell_type": "code",
      "metadata": {
        "colab": {
          "base_uri": "https://localhost:8080/"
        },
        "id": "XjukWbQLCVdw",
        "outputId": "d83a2ab8-d2a2-43d9-969c-e795ee201c35"
      },
      "source": [
        "df['sentiment'] = df['sentiment'].apply(lambda x: int(x))\n",
        "\n",
        "tweet = df['text']\n",
        "sentiment = np.asarray(df['sentiment'])\n",
        "\n",
        "np.unique(sentiment)"
      ],
      "execution_count": 110,
      "outputs": [
        {
          "output_type": "execute_result",
          "data": {
            "text/plain": [
              "array([-1,  0,  1])"
            ]
          },
          "metadata": {
            "tags": []
          },
          "execution_count": 110
        }
      ]
    },
    {
      "cell_type": "code",
      "metadata": {
        "colab": {
          "base_uri": "https://localhost:8080/"
        },
        "id": "sqAefCilCpNq",
        "outputId": "3468a916-6e43-477a-84e3-ac109ffe6b4a"
      },
      "source": [
        "count_vect = CountVectorizer()\n",
        "X_train = count_vect.fit_transform(tweet)\n",
        "\n",
        "tfidf_transformer = TfidfTransformer()\n",
        "X_train_transform = tfidf_transformer.fit_transform(X_train)\n",
        "X_train_transform.shape"
      ],
      "execution_count": 111,
      "outputs": [
        {
          "output_type": "execute_result",
          "data": {
            "text/plain": [
              "(2787, 11254)"
            ]
          },
          "metadata": {
            "tags": []
          },
          "execution_count": 111
        }
      ]
    },
    {
      "cell_type": "code",
      "metadata": {
        "colab": {
          "base_uri": "https://localhost:8080/"
        },
        "id": "KRwE8cqtDCy_",
        "outputId": "1b47d341-68d0-4038-f394-9996ce460d9f"
      },
      "source": [
        "X_train, X_test, Y_train, Y_test = train_test_split(X_train_transform, sentiment, test_size=0.3)\n",
        "\n",
        "# Aplicando naive bayes\n",
        "clf = MultinomialNB().fit(X_train, Y_train)\n",
        "predicted = clf.predict(X_test)\n",
        "\n",
        "print(metrics.classification_report(Y_test, predicted))\n"
      ],
      "execution_count": 112,
      "outputs": [
        {
          "output_type": "stream",
          "text": [
            "              precision    recall  f1-score   support\n",
            "\n",
            "          -1       0.43      0.48      0.45       255\n",
            "           0       0.45      0.49      0.47       321\n",
            "           1       0.48      0.37      0.42       261\n",
            "\n",
            "    accuracy                           0.45       837\n",
            "   macro avg       0.45      0.45      0.45       837\n",
            "weighted avg       0.45      0.45      0.45       837\n",
            "\n"
          ],
          "name": "stdout"
        }
      ]
    },
    {
      "cell_type": "code",
      "metadata": {
        "id": "qV0T9H2XDTHw"
      },
      "source": [
        "def pre_X(frases):\n",
        "    lista = []\n",
        "    for frase in frases:\n",
        "        lista.append(frase)\n",
        "    return lista\n",
        "\n",
        "def pre_Y(number):\n",
        "    lista = []\n",
        "    for numb in number:\n",
        "        lista.append(numb)\n",
        "    return lista"
      ],
      "execution_count": 113,
      "outputs": []
    },
    {
      "cell_type": "code",
      "metadata": {
        "id": "39Y50E21DldF"
      },
      "source": [
        "model = tf.keras.Sequential([\n",
        "    tf.keras.layers.Dense(50, activation='relu'),\n",
        "    tf.keras.layers.Dropout(0.3),\n",
        "    tf.keras.layers.Dense(25, activation='relu'),\n",
        "    tf.keras.layers.Dropout(0.3),\n",
        "    tf.keras.layers.Dense(10, activation='tanh'),\n",
        "    tf.keras.layers.Dropout(0.2),\n",
        "    tf.keras.layers.Dense(3 , activation='softmax')\n",
        "])\n",
        "\n",
        "model.compile(\n",
        "    optimizer='adam',\n",
        "    loss=tf.keras.losses.categorical_crossentropy,\n",
        "    metrics=['accuracy']\n",
        ")"
      ],
      "execution_count": 114,
      "outputs": []
    },
    {
      "cell_type": "code",
      "metadata": {
        "colab": {
          "base_uri": "https://localhost:8080/"
        },
        "id": "a4MWnciPFIaO",
        "outputId": "24e741ca-4cc2-42d7-f1a0-1b930526744c"
      },
      "source": [
        "tweet"
      ],
      "execution_count": 115,
      "outputs": [
        {
          "output_type": "execute_result",
          "data": {
            "text/plain": [
              "0       Historia vence tecnica facilmente A menos algo...\n",
              "1       aa obrigado perfeito timing acabado dar 18 min...\n",
              "2       moldura artistica favorita filistinos alto pad...\n",
              "3       Minha cama ta localizada meio nesse momento qu...\n",
              "4       mundo so vai mudar pessoas entenderem nao deve...\n",
              "                              ...                        \n",
              "2782    Concordo Prof Olavo Carvalho O Escola Partido ...\n",
              "2783    clipe saudade nao gravado Pelourinho desisto v...\n",
              "2784                        agr ar vai ficar ligado 24 48\n",
              "2785    meio tantos problemas ainda consigo pensar dia...\n",
              "2786                          Ue ser gentil nao ser falso\n",
              "Name: text, Length: 2787, dtype: object"
            ]
          },
          "metadata": {
            "tags": []
          },
          "execution_count": 115
        }
      ]
    },
    {
      "cell_type": "code",
      "metadata": {
        "colab": {
          "base_uri": "https://localhost:8080/"
        },
        "id": "FFWiFVIgFVHp",
        "outputId": "c6115f53-3ae7-47e3-ea43-f2d1f0b98630"
      },
      "source": [
        "sentiment"
      ],
      "execution_count": 116,
      "outputs": [
        {
          "output_type": "execute_result",
          "data": {
            "text/plain": [
              "array([1, 1, 0, ..., 1, 0, 0])"
            ]
          },
          "metadata": {
            "tags": []
          },
          "execution_count": 116
        }
      ]
    },
    {
      "cell_type": "code",
      "metadata": {
        "id": "Ga7WmyHQFYt4"
      },
      "source": [
        "one = OneHotEncoder(sparse=False)\n",
        "\n",
        "y_one = one.fit_transform(Y_train.reshape(-1,1))"
      ],
      "execution_count": 117,
      "outputs": []
    },
    {
      "cell_type": "code",
      "metadata": {
        "colab": {
          "base_uri": "https://localhost:8080/"
        },
        "id": "pssWEoa1FkIc",
        "outputId": "75e0883d-dd82-4a2a-c813-90877587d715"
      },
      "source": [
        "fit = model.fit(X_train.todense(), y_one, epochs=25, validation_data=(X_test.todense(), one.transform(Y_test.reshape(-1,1))))"
      ],
      "execution_count": 118,
      "outputs": [
        {
          "output_type": "stream",
          "text": [
            "Epoch 1/25\n",
            "61/61 [==============================] - 1s 11ms/step - loss: 1.0983 - accuracy: 0.3484 - val_loss: 1.0945 - val_accuracy: 0.3859\n",
            "Epoch 2/25\n",
            "61/61 [==============================] - 0s 7ms/step - loss: 1.0785 - accuracy: 0.4468 - val_loss: 1.0796 - val_accuracy: 0.4146\n",
            "Epoch 3/25\n",
            "61/61 [==============================] - 0s 7ms/step - loss: 0.9375 - accuracy: 0.6757 - val_loss: 1.0786 - val_accuracy: 0.4373\n",
            "Epoch 4/25\n",
            "61/61 [==============================] - 0s 7ms/step - loss: 0.5716 - accuracy: 0.8201 - val_loss: 1.2018 - val_accuracy: 0.4504\n",
            "Epoch 5/25\n",
            "61/61 [==============================] - 0s 8ms/step - loss: 0.2963 - accuracy: 0.9286 - val_loss: 1.4123 - val_accuracy: 0.4170\n",
            "Epoch 6/25\n",
            "61/61 [==============================] - 0s 8ms/step - loss: 0.1617 - accuracy: 0.9582 - val_loss: 1.5771 - val_accuracy: 0.4456\n",
            "Epoch 7/25\n",
            "61/61 [==============================] - 0s 8ms/step - loss: 0.0957 - accuracy: 0.9835 - val_loss: 1.7462 - val_accuracy: 0.4492\n",
            "Epoch 8/25\n",
            "61/61 [==============================] - 0s 7ms/step - loss: 0.0583 - accuracy: 0.9876 - val_loss: 1.8795 - val_accuracy: 0.4421\n",
            "Epoch 9/25\n",
            "61/61 [==============================] - 0s 7ms/step - loss: 0.0434 - accuracy: 0.9956 - val_loss: 2.0243 - val_accuracy: 0.4361\n",
            "Epoch 10/25\n",
            "61/61 [==============================] - 0s 7ms/step - loss: 0.0305 - accuracy: 0.9977 - val_loss: 2.1407 - val_accuracy: 0.4313\n",
            "Epoch 11/25\n",
            "61/61 [==============================] - 0s 7ms/step - loss: 0.0220 - accuracy: 0.9984 - val_loss: 2.2575 - val_accuracy: 0.4432\n",
            "Epoch 12/25\n",
            "61/61 [==============================] - 0s 7ms/step - loss: 0.0207 - accuracy: 0.9994 - val_loss: 2.3407 - val_accuracy: 0.4409\n",
            "Epoch 13/25\n",
            "61/61 [==============================] - 0s 7ms/step - loss: 0.0214 - accuracy: 0.9964 - val_loss: 2.4268 - val_accuracy: 0.4361\n",
            "Epoch 14/25\n",
            "61/61 [==============================] - 0s 8ms/step - loss: 0.0166 - accuracy: 0.9994 - val_loss: 2.5046 - val_accuracy: 0.4504\n",
            "Epoch 15/25\n",
            "61/61 [==============================] - 0s 7ms/step - loss: 0.0178 - accuracy: 0.9952 - val_loss: 2.5870 - val_accuracy: 0.4397\n",
            "Epoch 16/25\n",
            "61/61 [==============================] - 0s 7ms/step - loss: 0.0118 - accuracy: 0.9985 - val_loss: 2.6258 - val_accuracy: 0.4385\n",
            "Epoch 17/25\n",
            "61/61 [==============================] - 0s 7ms/step - loss: 0.0159 - accuracy: 0.9973 - val_loss: 2.6847 - val_accuracy: 0.4444\n",
            "Epoch 18/25\n",
            "61/61 [==============================] - 0s 7ms/step - loss: 0.0121 - accuracy: 0.9982 - val_loss: 2.7485 - val_accuracy: 0.4421\n",
            "Epoch 19/25\n",
            "61/61 [==============================] - 0s 7ms/step - loss: 0.0117 - accuracy: 0.9970 - val_loss: 2.7892 - val_accuracy: 0.4432\n",
            "Epoch 20/25\n",
            "61/61 [==============================] - 0s 7ms/step - loss: 0.0102 - accuracy: 0.9984 - val_loss: 2.8415 - val_accuracy: 0.4444\n",
            "Epoch 21/25\n",
            "61/61 [==============================] - 0s 7ms/step - loss: 0.0077 - accuracy: 0.9996 - val_loss: 2.9152 - val_accuracy: 0.4421\n",
            "Epoch 22/25\n",
            "61/61 [==============================] - 0s 8ms/step - loss: 0.0062 - accuracy: 1.0000 - val_loss: 2.9528 - val_accuracy: 0.4421\n",
            "Epoch 23/25\n",
            "61/61 [==============================] - 0s 8ms/step - loss: 0.0079 - accuracy: 0.9985 - val_loss: 3.0038 - val_accuracy: 0.4421\n",
            "Epoch 24/25\n",
            "61/61 [==============================] - 0s 8ms/step - loss: 0.0073 - accuracy: 0.9984 - val_loss: 3.0437 - val_accuracy: 0.4385\n",
            "Epoch 25/25\n",
            "61/61 [==============================] - 0s 8ms/step - loss: 0.0049 - accuracy: 0.9993 - val_loss: 3.1012 - val_accuracy: 0.4313\n"
          ],
          "name": "stdout"
        }
      ]
    },
    {
      "cell_type": "code",
      "metadata": {
        "colab": {
          "base_uri": "https://localhost:8080/",
          "height": 374
        },
        "id": "jWOXOdfgFx9n",
        "outputId": "c6a2bbbe-462e-41ac-c3f5-69328ab5950e"
      },
      "source": [
        "plt.figure(figsize=(12,6))\n",
        "plt.plot(fit.history['loss'], label='Loss', color='darkred')\n",
        "plt.plot(fit.history['val_loss'], label='Val Loss', color='green')\n",
        "plt.legend()\n",
        "plt.ylabel('Loss')\n",
        "plt.show()"
      ],
      "execution_count": 119,
      "outputs": [
        {
          "output_type": "display_data",
          "data": {
            "image/png": "[encoded data removed]",
            "text/plain": [
              "<Figure size 864x432 with 1 Axes>"
            ]
          },
          "metadata": {
            "tags": [],
            "needs_background": "light"
          }
        }
      ]
    },
    {
      "cell_type": "code",
      "metadata": {
        "colab": {
          "base_uri": "https://localhost:8080/",
          "height": 374
        },
        "id": "38Fl5MaVF6M0",
        "outputId": "d6956913-b5cf-4d8f-ce2e-41efd86ed01f"
      },
      "source": [
        "plt.figure(figsize=(12,6))\n",
        "plt.plot(fit.history['accuracy'], label='accuracy', color='darkred')\n",
        "plt.plot(fit.history['val_accuracy'], label='Val accuracy', color='green')\n",
        "plt.legend()\n",
        "plt.ylabel('Accuracy')\n",
        "plt.show()"
      ],
      "execution_count": 120,
      "outputs": [
        {
          "output_type": "display_data",
          "data": {
            "image/png": "[encoded data removed]",
            "text/plain": [
              "<Figure size 864x432 with 1 Axes>"
            ]
          },
          "metadata": {
            "tags": [],
            "needs_background": "light"
          }
        }
      ]
    },
    {
      "cell_type": "code",
      "metadata": {
        "colab": {
          "base_uri": "https://localhost:8080/"
        },
        "id": "juXR45ZHGA3t",
        "outputId": "86a76376-2532-43cb-9c0a-f78086866c7f"
      },
      "source": [
        "acc = model.evaluate(X_test.todense(), one.transform(Y_test.reshape(-1,1)))"
      ],
      "execution_count": 121,
      "outputs": [
        {
          "output_type": "stream",
          "text": [
            "27/27 [==============================] - 0s 3ms/step - loss: 3.1012 - accuracy: 0.4313\n"
          ],
          "name": "stdout"
        }
      ]
    },
    {
      "cell_type": "code",
      "metadata": {
        "colab": {
          "base_uri": "https://localhost:8080/"
        },
        "id": "RX7EW9M8GFbR",
        "outputId": "9449fd9f-f9f3-4f67-c883-c7f70c2f9c56"
      },
      "source": [
        "def Tokenize(f):     ## Pre-processando a frase\n",
        "    \n",
        "    ## Colocando em minusculo\n",
        "    ## Retirando a pontuaçao\n",
        "    ## Retirando as StopWords\n",
        "    \n",
        "    f = f.lower().replace('\\n', '').replace('-','').replace('#','').replace('.','').replace(',','').replace('!','').replace('r\\n','').replace('  ','')\n",
        "    token = RegexpTokenizer(r\"\\w+\")\n",
        "    f = token.tokenize(f)\n",
        "    \n",
        "    stop_words = set(stopwords.words('portuguese'))\n",
        "    \n",
        "    new_word = [word for word in f if not word in stop_words]\n",
        "    \n",
        "    return ' '.join(new_word)\n",
        "    \n",
        "def set_array(frases):    \n",
        "    vocab = []\n",
        "    palavras = []\n",
        "    for frase in frases:\n",
        "        \n",
        "        text_array = user_clean(frase)\n",
        "        text_array = Tokenize(text_array)\n",
        "        text_array = text_array.split(' ')\n",
        "        for i in range(len(text_array)):\n",
        "            vocab.append(text_array[i])\n",
        "      \n",
        "    return vocab\n",
        "\n",
        "vectorize_layer = TextVectorization(\n",
        " max_tokens=15000,\n",
        " output_mode='int',\n",
        " output_sequence_length=len(max(df['text'])))\n",
        "\n",
        "vocab = set_array(df['text'])\n",
        "\n",
        "vectorize_layer.adapt(np.unique(vocab))\n",
        "len(vectorize_layer.get_vocabulary())"
      ],
      "execution_count": 122,
      "outputs": [
        {
          "output_type": "execute_result",
          "data": {
            "text/plain": [
              "11191"
            ]
          },
          "metadata": {
            "tags": []
          },
          "execution_count": 122
        }
      ]
    },
    {
      "cell_type": "code",
      "metadata": {
        "id": "7ORNLEPXH_mz"
      },
      "source": [
        "model = tf.keras.Sequential([\n",
        "    vectorize_layer,\n",
        "    tf.keras.layers.Embedding(\n",
        "        input_dim=len(vectorize_layer.get_vocabulary()),\n",
        "        output_dim=64,mask_zero=True),\n",
        "    \n",
        "    tf.keras.layers.LSTM(50, activation='relu' ,return_sequences=True),\n",
        "    tf.keras.layers.Dropout(0.3),\n",
        "    \n",
        "    tf.keras.layers.LSTM(25 , activation='tanh', return_sequences=True),\n",
        "    tf.keras.layers.Dropout(0.3),\n",
        "    \n",
        "    tf.keras.layers.LSTM(10 , activation='tanh'),\n",
        "    tf.keras.layers.Dropout(0.2),\n",
        "    \n",
        "    tf.keras.layers.Dense(3, activation='softmax')\n",
        "])\n",
        "\n",
        "\n",
        "model.compile(\n",
        "    optimizer= tf.keras.optimizers.Adam(),\n",
        "    loss=tf.keras.losses.categorical_crossentropy,\n",
        "    metrics=['accuracy']\n",
        ")"
      ],
      "execution_count": 123,
      "outputs": []
    },
    {
      "cell_type": "code",
      "metadata": {
        "id": "a2CACsg1IlN4"
      },
      "source": [
        "X_train, X_test, Y_train, Y_test = train_test_split(tweet, polarity, test_size=0.3)"
      ],
      "execution_count": 126,
      "outputs": []
    },
    {
      "cell_type": "code",
      "metadata": {
        "id": "EAsY1pyZKZtf"
      },
      "source": [
        "y_one = one.fit_transform(Y_train.reshape(-1,1))"
      ],
      "execution_count": 127,
      "outputs": []
    },
    {
      "cell_type": "code",
      "metadata": {
        "colab": {
          "base_uri": "https://localhost:8080/"
        },
        "id": "T0hiAQtfIEZE",
        "outputId": "bee44b0f-d535-4b9d-c59e-6190d9092c01"
      },
      "source": [
        "fit = model.fit(np.asarray(pre_X(X_train)), y_one, epochs=20, batch_size=128 ,validation_data=(np.asarray(pre_X(X_test)), one.transform(Y_test.reshape(-1,1))))"
      ],
      "execution_count": 128,
      "outputs": [
        {
          "output_type": "stream",
          "text": [
            "Epoch 1/20\n",
            "16/16 [==============================] - 24s 878ms/step - loss: 1.0984 - accuracy: 0.3571 - val_loss: 1.0963 - val_accuracy: 0.3763\n",
            "Epoch 2/20\n",
            "16/16 [==============================] - 11s 715ms/step - loss: 1.0938 - accuracy: 0.4033 - val_loss: 1.0980 - val_accuracy: 0.3417\n",
            "Epoch 3/20\n",
            "16/16 [==============================] - 11s 714ms/step - loss: 1.0806 - accuracy: 0.5119 - val_loss: 1.0948 - val_accuracy: 0.3728\n",
            "Epoch 4/20\n",
            "16/16 [==============================] - 11s 721ms/step - loss: 0.9466 - accuracy: 0.5842 - val_loss: 1.3737 - val_accuracy: 0.3596\n",
            "Epoch 5/20\n",
            "16/16 [==============================] - 11s 720ms/step - loss: 0.7572 - accuracy: 0.6034 - val_loss: 1.4585 - val_accuracy: 0.3572\n",
            "Epoch 6/20\n",
            "16/16 [==============================] - 11s 719ms/step - loss: 0.6280 - accuracy: 0.6643 - val_loss: 1.6772 - val_accuracy: 0.3393\n",
            "Epoch 7/20\n",
            "16/16 [==============================] - 12s 722ms/step - loss: 0.5975 - accuracy: 0.6424 - val_loss: 1.7938 - val_accuracy: 0.3728\n",
            "Epoch 8/20\n",
            "16/16 [==============================] - 11s 720ms/step - loss: 0.5809 - accuracy: 0.7076 - val_loss: 1.6862 - val_accuracy: 0.3799\n",
            "Epoch 9/20\n",
            "16/16 [==============================] - 12s 724ms/step - loss: 0.5418 - accuracy: 0.7128 - val_loss: 1.7667 - val_accuracy: 0.3548\n",
            "Epoch 10/20\n",
            "16/16 [==============================] - 11s 718ms/step - loss: 0.4842 - accuracy: 0.7589 - val_loss: 1.8430 - val_accuracy: 0.3548\n",
            "Epoch 11/20\n",
            "16/16 [==============================] - 12s 722ms/step - loss: 0.4459 - accuracy: 0.8109 - val_loss: 1.8315 - val_accuracy: 0.3787\n",
            "Epoch 12/20\n",
            "16/16 [==============================] - 11s 720ms/step - loss: 0.3518 - accuracy: 0.8990 - val_loss: 1.9097 - val_accuracy: 0.3716\n",
            "Epoch 13/20\n",
            "16/16 [==============================] - 11s 719ms/step - loss: 0.2802 - accuracy: 0.9389 - val_loss: 2.1329 - val_accuracy: 0.3859\n",
            "Epoch 14/20\n",
            "16/16 [==============================] - 11s 721ms/step - loss: 0.2027 - accuracy: 0.9729 - val_loss: 2.2229 - val_accuracy: 0.3728\n",
            "Epoch 15/20\n",
            "16/16 [==============================] - 11s 720ms/step - loss: 0.1677 - accuracy: 0.9731 - val_loss: 2.3905 - val_accuracy: 0.3620\n",
            "Epoch 16/20\n",
            "16/16 [==============================] - 11s 719ms/step - loss: 0.1224 - accuracy: 0.9834 - val_loss: 2.4747 - val_accuracy: 0.3692\n",
            "Epoch 17/20\n",
            "16/16 [==============================] - 12s 722ms/step - loss: 0.1088 - accuracy: 0.9856 - val_loss: 2.6104 - val_accuracy: 0.3716\n",
            "Epoch 18/20\n",
            "16/16 [==============================] - 12s 722ms/step - loss: 0.0945 - accuracy: 0.9856 - val_loss: 2.7567 - val_accuracy: 0.3775\n",
            "Epoch 19/20\n",
            "16/16 [==============================] - 12s 723ms/step - loss: 0.0840 - accuracy: 0.9869 - val_loss: 2.8651 - val_accuracy: 0.3763\n",
            "Epoch 20/20\n",
            "16/16 [==============================] - 12s 722ms/step - loss: 0.0782 - accuracy: 0.9867 - val_loss: 2.9450 - val_accuracy: 0.3775\n"
          ],
          "name": "stdout"
        }
      ]
    },
    {
      "cell_type": "code",
      "metadata": {
        "colab": {
          "base_uri": "https://localhost:8080/",
          "height": 374
        },
        "id": "W56KAtpZMN2X",
        "outputId": "6a545e2a-8f8c-4679-9150-6d9e0ec5bbbc"
      },
      "source": [
        "plt.figure(figsize=(12,6))\n",
        "plt.plot(fit.history['loss'], label='Loss', color='darkred')\n",
        "plt.plot(fit.history['val_loss'], label='Val Loss', color='green')\n",
        "plt.legend()\n",
        "plt.grid()\n",
        "plt.ylabel('Loss')\n",
        "plt.show()"
      ],
      "execution_count": 129,
      "outputs": [
        {
          "output_type": "display_data",
          "data": {
            "image/png": "[encoded data removed]",
            "text/plain": [
              "<Figure size 864x432 with 1 Axes>"
            ]
          },
          "metadata": {
            "tags": [],
            "needs_background": "light"
          }
        }
      ]
    },
    {
      "cell_type": "code",
      "metadata": {
        "colab": {
          "base_uri": "https://localhost:8080/",
          "height": 374
        },
        "id": "doUK4vWcMSxY",
        "outputId": "88cbbe4a-5843-498a-8306-13cc128a2d17"
      },
      "source": [
        "plt.figure(figsize=(12,6))\n",
        "plt.plot(fit.history['accuracy'], label='accuracy', color='darkred')\n",
        "plt.plot(fit.history['val_accuracy'], label='Val accuracy', color='green')\n",
        "plt.legend()\n",
        "plt.grid()\n",
        "plt.ylabel('Accuracy')\n",
        "plt.show()"
      ],
      "execution_count": 130,
      "outputs": [
        {
          "output_type": "display_data",
          "data": {
            "image/png": "[encoded data removed]",
            "text/plain": [
              "<Figure size 864x432 with 1 Axes>"
            ]
          },
          "metadata": {
            "tags": [],
            "needs_background": "light"
          }
        }
      ]
    },
    {
      "cell_type": "code",
      "metadata": {
        "colab": {
          "base_uri": "https://localhost:8080/"
        },
        "id": "Mt7WAL7vMcrP",
        "outputId": "dccd1293-3700-4d26-f973-4046299eb8bd"
      },
      "source": [
        "acc = model.evaluate(np.asarray(pre_X(X_test)), one.transform(Y_test.reshape(-1,1)))"
      ],
      "execution_count": 131,
      "outputs": [
        {
          "output_type": "stream",
          "text": [
            "27/27 [==============================] - 2s 78ms/step - loss: 2.9450 - accuracy: 0.3775\n"
          ],
          "name": "stdout"
        }
      ]
    }
  ]
}