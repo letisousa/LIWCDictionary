{
 "cells": [
  {
   "cell_type": "code",
   "execution_count": 1,
   "metadata": {
    "colab": {
     "base_uri": "https://localhost:8080/"
    },
    "id": "_UaspSeB3w-i",
    "outputId": "18caeaad-548b-439c-9e8c-54c3d4504b12"
   },
   "outputs": [
    {
     "name": "stderr",
     "output_type": "stream",
     "text": [
      "[nltk_data] Downloading package stopwords to\n",
      "[nltk_data]     C:\\Users\\ddayv\\AppData\\Roaming\\nltk_data...\n",
      "[nltk_data]   Package stopwords is already up-to-date!\n",
      "[nltk_data] Downloading package wordnet to\n",
      "[nltk_data]     C:\\Users\\ddayv\\AppData\\Roaming\\nltk_data...\n",
      "[nltk_data]   Package wordnet is already up-to-date!\n"
     ]
    }
   ],
   "source": [
    "import pandas as pd\n",
    "import numpy as np\n",
    "import seaborn as sns\n",
    "import matplotlib.pyplot as plt\n",
    "\n",
    "import re\n",
    "import nltk\n",
    "from nltk import word_tokenize, RegexpTokenizer\n",
    "from nltk.corpus import stopwords, wordnet\n",
    "nltk.download('stopwords')\n",
    "nltk.download('wordnet')\n",
    "\n",
    "from sklearn.feature_extraction.text import CountVectorizer\n",
    "from sklearn.feature_extraction.text import TfidfTransformer\n",
    "from sklearn.naive_bayes import MultinomialNB\n",
    "from sklearn.model_selection import train_test_split\n",
    "from sklearn.metrics import classification_report\n",
    "from sklearn.preprocessing import OneHotEncoder\n",
    "import autokeras as ak\n",
    "from sklearn.model_selection import KFold\n",
    "\n",
    "import tensorflow as tf\n",
    "from tensorflow.keras.layers.experimental.preprocessing import TextVectorization"
   ]
  },
  {
   "cell_type": "code",
   "execution_count": 2,
   "metadata": {
    "colab": {
     "base_uri": "https://localhost:8080/",
     "height": 419
    },
    "id": "izIXiNQP3w-n",
    "outputId": "cd726343-8209-4bd2-fc62-6101ce2c7660"
   },
   "outputs": [
    {
     "data": {
      "text/html": [
       "<div>\n",
       "<style scoped>\n",
       "    .dataframe tbody tr th:only-of-type {\n",
       "        vertical-align: middle;\n",
       "    }\n",
       "\n",
       "    .dataframe tbody tr th {\n",
       "        vertical-align: top;\n",
       "    }\n",
       "\n",
       "    .dataframe thead th {\n",
       "        text-align: right;\n",
       "    }\n",
       "</style>\n",
       "<table border=\"1\" class=\"dataframe\">\n",
       "  <thead>\n",
       "    <tr style=\"text-align: right;\">\n",
       "      <th></th>\n",
       "      <th>id_twitter</th>\n",
       "      <th>sentiment</th>\n",
       "      <th>text</th>\n",
       "    </tr>\n",
       "  </thead>\n",
       "  <tbody>\n",
       "    <tr>\n",
       "      <th>0</th>\n",
       "      <td>1067856049821155334</td>\n",
       "      <td>1</td>\n",
       "      <td>@tchaugip @n00bona História vence técnica faci...</td>\n",
       "    </tr>\n",
       "    <tr>\n",
       "      <th>1</th>\n",
       "      <td>1070902848957964288</td>\n",
       "      <td>1</td>\n",
       "      <td>@camandis aa obrigado perfeito o seu timing ti...</td>\n",
       "    </tr>\n",
       "    <tr>\n",
       "      <th>2</th>\n",
       "      <td>1073158858925838336</td>\n",
       "      <td>0</td>\n",
       "      <td>moldura artística favorita entre filistinos al...</td>\n",
       "    </tr>\n",
       "    <tr>\n",
       "      <th>3</th>\n",
       "      <td>1073220881344856064</td>\n",
       "      <td>0</td>\n",
       "      <td>Minha cama tá no localizada no meio nesse mome...</td>\n",
       "    </tr>\n",
       "    <tr>\n",
       "      <th>4</th>\n",
       "      <td>1073347140334833664</td>\n",
       "      <td>0</td>\n",
       "      <td>@eueduramos o mundo so vai mudar quando as pes...</td>\n",
       "    </tr>\n",
       "    <tr>\n",
       "      <th>...</th>\n",
       "      <td>...</td>\n",
       "      <td>...</td>\n",
       "      <td>...</td>\n",
       "    </tr>\n",
       "    <tr>\n",
       "      <th>2782</th>\n",
       "      <td>1068599890761129985</td>\n",
       "      <td>-1</td>\n",
       "      <td>@PastorMalafaia Concordo com Prof Olavo de Car...</td>\n",
       "    </tr>\n",
       "    <tr>\n",
       "      <th>2783</th>\n",
       "      <td>1071376463230840833</td>\n",
       "      <td>-1</td>\n",
       "      <td>@ClaudiaLeitte se o clipe de saudade não for g...</td>\n",
       "    </tr>\n",
       "    <tr>\n",
       "      <th>2784</th>\n",
       "      <td>1073978880787181568</td>\n",
       "      <td>1</td>\n",
       "      <td>agr o ar vai ficar ligado 24 por 48</td>\n",
       "    </tr>\n",
       "    <tr>\n",
       "      <th>2785</th>\n",
       "      <td>1074925265980145666</td>\n",
       "      <td>0</td>\n",
       "      <td>e eu que no meio de tantos problemas ainda con...</td>\n",
       "    </tr>\n",
       "    <tr>\n",
       "      <th>2786</th>\n",
       "      <td>1071211276217606145</td>\n",
       "      <td>0</td>\n",
       "      <td>Ué ser gentil não é ser falso</td>\n",
       "    </tr>\n",
       "  </tbody>\n",
       "</table>\n",
       "<p>2787 rows × 3 columns</p>\n",
       "</div>"
      ],
      "text/plain": [
       "               id_twitter  sentiment  \\\n",
       "0     1067856049821155334          1   \n",
       "1     1070902848957964288          1   \n",
       "2     1073158858925838336          0   \n",
       "3     1073220881344856064          0   \n",
       "4     1073347140334833664          0   \n",
       "...                   ...        ...   \n",
       "2782  1068599890761129985         -1   \n",
       "2783  1071376463230840833         -1   \n",
       "2784  1073978880787181568          1   \n",
       "2785  1074925265980145666          0   \n",
       "2786  1071211276217606145          0   \n",
       "\n",
       "                                                   text  \n",
       "0     @tchaugip @n00bona História vence técnica faci...  \n",
       "1     @camandis aa obrigado perfeito o seu timing ti...  \n",
       "2     moldura artística favorita entre filistinos al...  \n",
       "3     Minha cama tá no localizada no meio nesse mome...  \n",
       "4     @eueduramos o mundo so vai mudar quando as pes...  \n",
       "...                                                 ...  \n",
       "2782  @PastorMalafaia Concordo com Prof Olavo de Car...  \n",
       "2783  @ClaudiaLeitte se o clipe de saudade não for g...  \n",
       "2784                agr o ar vai ficar ligado 24 por 48  \n",
       "2785  e eu que no meio de tantos problemas ainda con...  \n",
       "2786                      Ué ser gentil não é ser falso  \n",
       "\n",
       "[2787 rows x 3 columns]"
      ]
     },
     "execution_count": 2,
     "metadata": {},
     "output_type": "execute_result"
    }
   ],
   "source": [
    "df = pd.read_csv(\"tash-pt.csv\")\n",
    "df"
   ]
  },
  {
   "cell_type": "code",
   "execution_count": 3,
   "metadata": {
    "id": "ETgkuk4z3w-q"
   },
   "outputs": [],
   "source": [
    "df.isnull().sum()\n",
    "df = df.dropna()"
   ]
  },
  {
   "cell_type": "code",
   "execution_count": 4,
   "metadata": {
    "colab": {
     "base_uri": "https://localhost:8080/"
    },
    "id": "9D0uOJrY3w-s",
    "outputId": "f1454f99-416d-40b3-a50c-8634e5216af9"
   },
   "outputs": [
    {
     "data": {
      "text/plain": [
       "array([ 1,  0, -1], dtype=int64)"
      ]
     },
     "execution_count": 4,
     "metadata": {},
     "output_type": "execute_result"
    }
   ],
   "source": [
    "df = df.drop(columns=['id_twitter'])\n",
    "df['sentiment'].unique()"
   ]
  },
  {
   "cell_type": "code",
   "execution_count": 5,
   "metadata": {},
   "outputs": [
    {
     "data": {
      "text/plain": [
       " 0    1018\n",
       " 1     888\n",
       "-1     881\n",
       "Name: sentiment, dtype: int64"
      ]
     },
     "execution_count": 5,
     "metadata": {},
     "output_type": "execute_result"
    }
   ],
   "source": [
    "df['sentiment'].value_counts()"
   ]
  },
  {
   "cell_type": "code",
   "execution_count": 6,
   "metadata": {
    "id": "Oy1kRbwv3w-t"
   },
   "outputs": [],
   "source": [
    "Tweet = df['text']\n",
    "sentiment = np.asarray(df['sentiment'])"
   ]
  },
  {
   "cell_type": "code",
   "execution_count": 7,
   "metadata": {
    "colab": {
     "base_uri": "https://localhost:8080/"
    },
    "id": "9KdlKQLF3w-t",
    "outputId": "1ed20a4d-e485-4ac8-b898-0d966eb6fce2"
   },
   "outputs": [
    {
     "data": {
      "text/plain": [
       "(2787, 12712)"
      ]
     },
     "execution_count": 7,
     "metadata": {},
     "output_type": "execute_result"
    }
   ],
   "source": [
    "count_vect = CountVectorizer()\n",
    "X_train = count_vect.fit_transform(Tweet)\n",
    "\n",
    "tfidf_transformer = TfidfTransformer()\n",
    "X_train_transform = tfidf_transformer.fit_transform(X_train) # Aplicando o TF-IDF\n",
    "X_train_transform.shape"
   ]
  },
  {
   "cell_type": "code",
   "execution_count": 9,
   "metadata": {
    "colab": {
     "base_uri": "https://localhost:8080/"
    },
    "id": "fV9ycl8h3w-u",
    "outputId": "fd98680e-cb5d-4378-958d-b7bea60337d4"
   },
   "outputs": [
    {
     "name": "stdout",
     "output_type": "stream",
     "text": [
      "              precision    recall  f1-score   support\n",
      "\n",
      "          -1       0.46      0.46      0.46       254\n",
      "           0       0.42      0.57      0.48       312\n",
      "           1       0.45      0.28      0.34       271\n",
      "\n",
      "    accuracy                           0.44       837\n",
      "   macro avg       0.45      0.44      0.43       837\n",
      "weighted avg       0.45      0.44      0.43       837\n",
      "\n"
     ]
    }
   ],
   "source": [
    "X_train, X_test, Y_train, Y_test = train_test_split(X_train_transform, sentiment, test_size=0.3)\n",
    "\n",
    "clf = MultinomialNB().fit(X_train, Y_train) # Aplicando naive bayes\n",
    "predicted = clf.predict(X_test)\n",
    "\n",
    "print(classification_report(Y_test, predicted))"
   ]
  },
  {
   "cell_type": "code",
   "execution_count": 11,
   "metadata": {},
   "outputs": [
    {
     "name": "stdout",
     "output_type": "stream",
     "text": [
      "0.4229390681003584\n",
      "0.43727598566308246\n",
      "0.4121863799283154\n",
      "0.4265232974910394\n",
      "0.4838709677419355\n",
      "0.4731182795698925\n",
      "0.45878136200716846\n",
      "0.44244604316546765\n",
      "0.4352517985611511\n",
      "0.4784172661870504\n",
      " Média: 0.44708104484154604 \t Std: 0.02372960041678921  \n"
     ]
    }
   ],
   "source": [
    "kf = KFold(n_splits=10)\n",
    "clf = MultinomialNB()\n",
    "lista = []\n",
    "for train_index, test_index in kf.split(X_train_transform):\n",
    "    X_train, X_test = X_train_transform[train_index], X_train_transform[test_index]\n",
    "    y_train, y_test = sentiment[train_index], sentiment[test_index]\n",
    "    clf.fit(X_train, y_train)\n",
    "    y_pred = clf.predict(X_test)\n",
    "    lista.append(clf.score(X_test, y_test))\n",
    "    \n",
    "    print(clf.score(X_test, y_test))\n",
    "    \n",
    "print(f' Média: {np.array(lista).mean()} \\t Std: {np.array(lista).std()}  ')"
   ]
  },
  {
   "cell_type": "code",
   "execution_count": 12,
   "metadata": {
    "id": "YG82jtLl3w-v"
   },
   "outputs": [],
   "source": [
    "def pre_X(frases):\n",
    "    lista = []\n",
    "    \n",
    "    for frase in frases:\n",
    "        lista.append(frase)\n",
    "    return lista\n",
    "\n",
    "def pre_Y(number):\n",
    "    lista = []\n",
    "    \n",
    "    for numb in number:\n",
    "        lista.append(numb)\n",
    "    return lista"
   ]
  },
  {
   "cell_type": "code",
   "execution_count": 13,
   "metadata": {
    "id": "SX8ZcIix3w-v"
   },
   "outputs": [],
   "source": [
    "#pré-processamento dos textos\n",
    "def set_array(frases):\n",
    "    \n",
    "    vocab = []\n",
    "    palavras = []\n",
    "    for frase in frases:\n",
    "        text_array = remove_user(frase)\n",
    "        text_array = Tokenize(text_array)\n",
    "        text_array = text_array.split(' ')\n",
    "        for i in range(len(text_array)):\n",
    "            vocab.append(text_array[i])\n",
    "    return vocab\n",
    "\n",
    "def Tokenize(f):  \n",
    "\n",
    "    f = f.lower().replace('\\n', '').replace('-','').replace('#','').replace('.','').replace(',','').replace('!','').replace('r\\n','').replace('  ','')\n",
    "    token = RegexpTokenizer(r\"\\w+\")\n",
    "    f = token.tokenize(f)\n",
    "    stop_words = set(stopwords.words('portuguese'))\n",
    "    new_word = [word for word in f if not word in stop_words]\n",
    "    return ' '.join(new_word)\n",
    "\n",
    "def remove_user(frase):\n",
    "    return re.sub('@\\w+','',frase)"
   ]
  },
  {
   "cell_type": "code",
   "execution_count": 14,
   "metadata": {
    "id": "zteKv_pu3w-w"
   },
   "outputs": [],
   "source": [
    "model = tf.keras.Sequential([\n",
    "    tf.keras.layers.Dense(50, activation='relu'),\n",
    "    tf.keras.layers.Dropout(0.3),\n",
    "    tf.keras.layers.Dense(25, activation='relu'),\n",
    "    tf.keras.layers.Dropout(0.3),\n",
    "    tf.keras.layers.Dense(10, activation='tanh'),\n",
    "    tf.keras.layers.Dropout(0.2),\n",
    "    tf.keras.layers.Dense(3 , activation='softmax')\n",
    "])\n",
    "\n",
    "model.compile(\n",
    "    optimizer='adam',\n",
    "    loss=tf.keras.losses.categorical_crossentropy,\n",
    "    metrics=['accuracy']\n",
    ")"
   ]
  },
  {
   "cell_type": "code",
   "execution_count": 15,
   "metadata": {},
   "outputs": [],
   "source": [
    "Tweet = Tweet.apply(remove_user)\n",
    "Tweet_preprocessed = Tweet.apply(Tokenize)"
   ]
  },
  {
   "cell_type": "code",
   "execution_count": 16,
   "metadata": {
    "colab": {
     "base_uri": "https://localhost:8080/"
    },
    "id": "YxNUsAkx3w-x",
    "outputId": "804f7664-a7d9-4b83-e65a-b5b31dbb9d1f"
   },
   "outputs": [
    {
     "data": {
      "text/plain": [
       "<1950x11553 sparse matrix of type '<class 'numpy.float64'>'\n",
       "\twith 23927 stored elements in Compressed Sparse Row format>"
      ]
     },
     "execution_count": 16,
     "metadata": {},
     "output_type": "execute_result"
    }
   ],
   "source": [
    "count_vect = CountVectorizer()\n",
    "X_train = count_vect.fit_transform(Tweet_preprocessed)\n",
    "\n",
    "tfidf_transformer = TfidfTransformer()\n",
    "X_train_transform = tfidf_transformer.fit_transform(X_train) # Aplicando o TF-IDF\n",
    "\n",
    "\n",
    "X_train, X_test, Y_train, Y_test = train_test_split(X_train_transform, sentiment, test_size=0.3)\n",
    "\n",
    "X_train"
   ]
  },
  {
   "cell_type": "code",
   "execution_count": 17,
   "metadata": {
    "colab": {
     "base_uri": "https://localhost:8080/"
    },
    "id": "fmwqZr5M3w-y",
    "outputId": "c411537a-87e1-4ec1-b973-3f20b21316ca"
   },
   "outputs": [
    {
     "data": {
      "text/plain": [
       "<837x11553 sparse matrix of type '<class 'numpy.float64'>'\n",
       "\twith 10374 stored elements in Compressed Sparse Row format>"
      ]
     },
     "execution_count": 17,
     "metadata": {},
     "output_type": "execute_result"
    }
   ],
   "source": [
    "X_test"
   ]
  },
  {
   "cell_type": "code",
   "execution_count": 18,
   "metadata": {},
   "outputs": [],
   "source": [
    "one = OneHotEncoder(sparse=False)"
   ]
  },
  {
   "cell_type": "code",
   "execution_count": 19,
   "metadata": {
    "id": "b7gR2N263w-z"
   },
   "outputs": [],
   "source": [
    "y_one = one.fit_transform(Y_train.reshape(-1,1))\n",
    "y_one_ = one.transform(Y_test.reshape(-1,1))"
   ]
  },
  {
   "cell_type": "code",
   "execution_count": 20,
   "metadata": {
    "colab": {
     "base_uri": "https://localhost:8080/"
    },
    "id": "21VfdXzX3w-z",
    "outputId": "f90de57c-bbee-4f80-e643-e8042df8467d"
   },
   "outputs": [
    {
     "name": "stdout",
     "output_type": "stream",
     "text": [
      "Epoch 1/10\n",
      "61/61 [==============================] - 0s 7ms/step - loss: 1.0968 - accuracy: 0.3554 - val_loss: 1.0963 - val_accuracy: 0.3632\n",
      "Epoch 2/10\n",
      "61/61 [==============================] - 0s 5ms/step - loss: 1.0721 - accuracy: 0.4267 - val_loss: 1.0830 - val_accuracy: 0.3787\n",
      "Epoch 3/10\n",
      "61/61 [==============================] - 0s 5ms/step - loss: 0.8989 - accuracy: 0.6826 - val_loss: 1.0778 - val_accuracy: 0.4277\n",
      "Epoch 4/10\n",
      "61/61 [==============================] - 0s 5ms/step - loss: 0.5435 - accuracy: 0.8344 - val_loss: 1.2031 - val_accuracy: 0.4313\n",
      "Epoch 5/10\n",
      "61/61 [==============================] - 0s 5ms/step - loss: 0.2643 - accuracy: 0.9359 - val_loss: 1.3849 - val_accuracy: 0.4444\n",
      "Epoch 6/10\n",
      "61/61 [==============================] - 0s 5ms/step - loss: 0.1257 - accuracy: 0.9779 - val_loss: 1.6006 - val_accuracy: 0.4229\n",
      "Epoch 7/10\n",
      "61/61 [==============================] - 0s 5ms/step - loss: 0.0668 - accuracy: 0.9908 - val_loss: 1.7504 - val_accuracy: 0.4265\n",
      "Epoch 8/10\n",
      "61/61 [==============================] - 0s 5ms/step - loss: 0.0487 - accuracy: 0.9918 - val_loss: 1.8939 - val_accuracy: 0.4146\n",
      "Epoch 9/10\n",
      "61/61 [==============================] - 0s 5ms/step - loss: 0.0316 - accuracy: 0.9954 - val_loss: 2.0011 - val_accuracy: 0.4301\n",
      "Epoch 10/10\n",
      "61/61 [==============================] - 0s 5ms/step - loss: 0.0299 - accuracy: 0.9954 - val_loss: 2.1217 - val_accuracy: 0.4158\n"
     ]
    }
   ],
   "source": [
    "fit = model.fit(X_train.todense(), y_one, epochs=10, validation_data=(X_test.todense(), y_one_))"
   ]
  },
  {
   "cell_type": "code",
   "execution_count": 21,
   "metadata": {},
   "outputs": [
    {
     "name": "stdout",
     "output_type": "stream",
     "text": [
      "              precision    recall  f1-score   support\n",
      "\n",
      "           0       0.45      0.40      0.43       272\n",
      "           1       0.44      0.41      0.43       304\n",
      "           2       0.36      0.43      0.40       261\n",
      "\n",
      "    accuracy                           0.42       837\n",
      "   macro avg       0.42      0.42      0.42       837\n",
      "weighted avg       0.42      0.42      0.42       837\n",
      "\n"
     ]
    }
   ],
   "source": [
    "predicted = model.predict(X_test.todense())\n",
    "\n",
    "print(classification_report(np.argmax(y_one_, axis=1), np.argmax(predicted, axis=1)))"
   ]
  },
  {
   "cell_type": "code",
   "execution_count": 22,
   "metadata": {
    "colab": {
     "base_uri": "https://localhost:8080/",
     "height": 374
    },
    "id": "7pFMULgM3w-0",
    "outputId": "fda86f3c-49c0-41bf-bbf2-8d7b0bc50f76",
    "scrolled": false
   },
   "outputs": [
    {
     "data": {
      "image/png": "[encoded data removed]",
      "text/plain": [
       "<Figure size 864x432 with 1 Axes>"
      ]
     },
     "metadata": {
      "needs_background": "light"
     },
     "output_type": "display_data"
    }
   ],
   "source": [
    "plt.figure(figsize=(12,6))\n",
    "plt.plot(fit.history['loss'], label='Loss', color='darkred')\n",
    "plt.plot(fit.history['val_loss'], label='Val Loss', color='green')\n",
    "plt.legend()\n",
    "plt.ylabel('Loss')\n",
    "plt.show()"
   ]
  },
  {
   "cell_type": "code",
   "execution_count": 23,
   "metadata": {
    "colab": {
     "base_uri": "https://localhost:8080/",
     "height": 374
    },
    "id": "muiZlmos3w-0",
    "outputId": "aa8dc3ce-7bcf-4f09-8226-72980db94acd"
   },
   "outputs": [
    {
     "data": {
      "image/png": "[encoded data removed]",
      "text/plain": [
       "<Figure size 864x432 with 1 Axes>"
      ]
     },
     "metadata": {
      "needs_background": "light"
     },
     "output_type": "display_data"
    }
   ],
   "source": [
    "plt.figure(figsize=(12,6))\n",
    "plt.plot(fit.history['accuracy'], label='accuracy', color='darkred')\n",
    "plt.plot(fit.history['val_accuracy'], label='Val accuracy', color='green')\n",
    "plt.legend()\n",
    "plt.ylabel('Accuracy')\n",
    "plt.show()"
   ]
  },
  {
   "cell_type": "code",
   "execution_count": 24,
   "metadata": {
    "scrolled": true
   },
   "outputs": [
    {
     "name": "stdout",
     "output_type": "stream",
     "text": [
      "Iter:  1\n",
      " \n",
      "Epoch 1/5\n",
      "79/79 [==============================] - 0s 5ms/step - loss: 1.0950 - accuracy: 0.3732 - val_loss: 1.1189 - val_accuracy: 0.2545\n",
      "Epoch 2/5\n",
      "79/79 [==============================] - 0s 4ms/step - loss: 1.0640 - accuracy: 0.3951 - val_loss: 1.0931 - val_accuracy: 0.3333\n",
      "Epoch 3/5\n",
      "79/79 [==============================] - 0s 4ms/step - loss: 0.8610 - accuracy: 0.6818 - val_loss: 1.0648 - val_accuracy: 0.4731\n",
      "Epoch 4/5\n",
      "79/79 [==============================] - 0s 4ms/step - loss: 0.4441 - accuracy: 0.8784 - val_loss: 1.2324 - val_accuracy: 0.4444\n",
      "Epoch 5/5\n",
      "79/79 [==============================] - 0s 4ms/step - loss: 0.2036 - accuracy: 0.9553 - val_loss: 1.4517 - val_accuracy: 0.4552\n",
      " \n",
      "Iter:  2\n",
      " \n",
      "Epoch 1/5\n",
      "79/79 [==============================] - 0s 6ms/step - loss: 1.0977 - accuracy: 0.3473 - val_loss: 1.0942 - val_accuracy: 0.3978\n",
      "Epoch 2/5\n",
      "79/79 [==============================] - 0s 5ms/step - loss: 1.0522 - accuracy: 0.4665 - val_loss: 1.0730 - val_accuracy: 0.4265\n",
      "Epoch 3/5\n",
      "79/79 [==============================] - 0s 4ms/step - loss: 0.8053 - accuracy: 0.6990 - val_loss: 1.1635 - val_accuracy: 0.4122\n",
      "Epoch 4/5\n",
      "79/79 [==============================] - 0s 5ms/step - loss: 0.3987 - accuracy: 0.8947 - val_loss: 1.3930 - val_accuracy: 0.4122\n",
      "Epoch 5/5\n",
      "79/79 [==============================] - 0s 4ms/step - loss: 0.1829 - accuracy: 0.9621 - val_loss: 1.6861 - val_accuracy: 0.4194\n",
      " \n",
      "Iter:  3\n",
      " \n",
      "Epoch 1/5\n",
      "79/79 [==============================] - 0s 6ms/step - loss: 1.0959 - accuracy: 0.3553 - val_loss: 1.0989 - val_accuracy: 0.3441\n",
      "Epoch 2/5\n",
      "79/79 [==============================] - 0s 4ms/step - loss: 1.0497 - accuracy: 0.4406 - val_loss: 1.0794 - val_accuracy: 0.4050\n",
      "Epoch 3/5\n",
      "79/79 [==============================] - 0s 5ms/step - loss: 0.8093 - accuracy: 0.6272 - val_loss: 1.2079 - val_accuracy: 0.3799\n",
      "Epoch 4/5\n",
      "79/79 [==============================] - 0s 5ms/step - loss: 0.5498 - accuracy: 0.7548 - val_loss: 1.4283 - val_accuracy: 0.3584\n",
      "Epoch 5/5\n",
      "79/79 [==============================] - 0s 5ms/step - loss: 0.3750 - accuracy: 0.8664 - val_loss: 1.5872 - val_accuracy: 0.3943\n",
      " \n",
      "Iter:  4\n",
      " \n",
      "Epoch 1/5\n",
      "79/79 [==============================] - 1s 7ms/step - loss: 1.0973 - accuracy: 0.3612 - val_loss: 1.0925 - val_accuracy: 0.3763\n",
      "Epoch 2/5\n",
      "79/79 [==============================] - 0s 4ms/step - loss: 1.0597 - accuracy: 0.4789 - val_loss: 1.0729 - val_accuracy: 0.4265\n",
      "Epoch 3/5\n",
      "79/79 [==============================] - 0s 5ms/step - loss: 0.8208 - accuracy: 0.7137 - val_loss: 1.0890 - val_accuracy: 0.4122\n",
      "Epoch 4/5\n",
      "79/79 [==============================] - 0s 5ms/step - loss: 0.4313 - accuracy: 0.8868 - val_loss: 1.3112 - val_accuracy: 0.4014\n",
      "Epoch 5/5\n",
      "79/79 [==============================] - 0s 5ms/step - loss: 0.1821 - accuracy: 0.9621 - val_loss: 1.5900 - val_accuracy: 0.4444\n",
      " \n",
      "Iter:  5\n",
      " \n",
      "Epoch 1/5\n",
      "79/79 [==============================] - 1s 7ms/step - loss: 1.0979 - accuracy: 0.3473 - val_loss: 1.0950 - val_accuracy: 0.3584\n",
      "Epoch 2/5\n",
      "79/79 [==============================] - 0s 5ms/step - loss: 1.0606 - accuracy: 0.4246 - val_loss: 1.0657 - val_accuracy: 0.4194\n",
      "Epoch 3/5\n",
      "79/79 [==============================] - 0s 4ms/step - loss: 0.8431 - accuracy: 0.6332 - val_loss: 1.0769 - val_accuracy: 0.4552\n",
      "Epoch 4/5\n",
      "79/79 [==============================] - 0s 5ms/step - loss: 0.4681 - accuracy: 0.8505 - val_loss: 1.2442 - val_accuracy: 0.4301\n",
      "Epoch 5/5\n",
      "79/79 [==============================] - 0s 5ms/step - loss: 0.2085 - accuracy: 0.9498 - val_loss: 1.4774 - val_accuracy: 0.4301\n",
      " \n",
      "Iter:  6\n",
      " \n",
      "Epoch 1/5\n",
      "79/79 [==============================] - 0s 6ms/step - loss: 1.0975 - accuracy: 0.3616 - val_loss: 1.0938 - val_accuracy: 0.3799\n",
      "Epoch 2/5\n",
      "79/79 [==============================] - 0s 5ms/step - loss: 1.0569 - accuracy: 0.4306 - val_loss: 1.0714 - val_accuracy: 0.4409\n",
      "Epoch 3/5\n",
      "79/79 [==============================] - 0s 5ms/step - loss: 0.8242 - accuracy: 0.6994 - val_loss: 1.0662 - val_accuracy: 0.4194\n",
      "Epoch 4/5\n",
      "79/79 [==============================] - 0s 5ms/step - loss: 0.4212 - accuracy: 0.8840 - val_loss: 1.2436 - val_accuracy: 0.4444\n",
      "Epoch 5/5\n",
      "79/79 [==============================] - 0s 4ms/step - loss: 0.1848 - accuracy: 0.9557 - val_loss: 1.4649 - val_accuracy: 0.4444\n",
      " \n",
      "Iter:  7\n",
      " \n",
      "Epoch 1/5\n",
      "79/79 [==============================] - 0s 6ms/step - loss: 1.0966 - accuracy: 0.3672 - val_loss: 1.0970 - val_accuracy: 0.3548\n",
      "Epoch 2/5\n",
      "79/79 [==============================] - 0s 4ms/step - loss: 1.0559 - accuracy: 0.4187 - val_loss: 1.0841 - val_accuracy: 0.3943\n",
      "Epoch 3/5\n",
      "79/79 [==============================] - 0s 4ms/step - loss: 0.8138 - accuracy: 0.7010 - val_loss: 1.1094 - val_accuracy: 0.4588\n",
      "Epoch 4/5\n",
      "79/79 [==============================] - 0s 5ms/step - loss: 0.4401 - accuracy: 0.8724 - val_loss: 1.2460 - val_accuracy: 0.4695\n",
      "Epoch 5/5\n",
      "79/79 [==============================] - 0s 4ms/step - loss: 0.2102 - accuracy: 0.9565 - val_loss: 1.4835 - val_accuracy: 0.4480\n",
      " \n",
      "Iter:  8\n",
      " \n",
      "Epoch 1/5\n",
      "79/79 [==============================] - 0s 6ms/step - loss: 1.0968 - accuracy: 0.3599 - val_loss: 1.0937 - val_accuracy: 0.4029\n",
      "Epoch 2/5\n",
      "79/79 [==============================] - 0s 5ms/step - loss: 1.0467 - accuracy: 0.4759 - val_loss: 1.0652 - val_accuracy: 0.4317\n",
      "Epoch 3/5\n",
      "79/79 [==============================] - 0s 5ms/step - loss: 0.7871 - accuracy: 0.7342 - val_loss: 1.1161 - val_accuracy: 0.4424\n",
      "Epoch 4/5\n",
      "79/79 [==============================] - 0s 5ms/step - loss: 0.3843 - accuracy: 0.8960 - val_loss: 1.4035 - val_accuracy: 0.4065\n",
      "Epoch 5/5\n",
      "79/79 [==============================] - 0s 5ms/step - loss: 0.1670 - accuracy: 0.9645 - val_loss: 1.7039 - val_accuracy: 0.3813\n",
      " \n",
      "Iter:  9\n",
      " \n",
      "Epoch 1/5\n",
      "79/79 [==============================] - 1s 7ms/step - loss: 1.0969 - accuracy: 0.3479 - val_loss: 1.0926 - val_accuracy: 0.3705\n",
      "Epoch 2/5\n",
      "79/79 [==============================] - 0s 4ms/step - loss: 1.0417 - accuracy: 0.4532 - val_loss: 1.0525 - val_accuracy: 0.4245\n",
      "Epoch 3/5\n",
      "79/79 [==============================] - 0s 4ms/step - loss: 0.7827 - accuracy: 0.6835 - val_loss: 1.1212 - val_accuracy: 0.4245\n",
      "Epoch 4/5\n",
      "79/79 [==============================] - 0s 6ms/step - loss: 0.4434 - accuracy: 0.8597 - val_loss: 1.2981 - val_accuracy: 0.3957\n",
      "Epoch 5/5\n",
      "79/79 [==============================] - 0s 5ms/step - loss: 0.2059 - accuracy: 0.9502 - val_loss: 1.6018 - val_accuracy: 0.3849\n",
      " \n",
      "Iter:  10\n",
      " \n",
      "Epoch 1/5\n",
      "79/79 [==============================] - 1s 6ms/step - loss: 1.0974 - accuracy: 0.3587 - val_loss: 1.0933 - val_accuracy: 0.4101\n",
      "Epoch 2/5\n",
      "79/79 [==============================] - 0s 5ms/step - loss: 1.0765 - accuracy: 0.4081 - val_loss: 1.0704 - val_accuracy: 0.4281\n",
      "Epoch 3/5\n",
      "79/79 [==============================] - 0s 6ms/step - loss: 0.9067 - accuracy: 0.6513 - val_loss: 1.0709 - val_accuracy: 0.4496\n",
      "Epoch 4/5\n",
      "79/79 [==============================] - 0s 5ms/step - loss: 0.4997 - accuracy: 0.8597 - val_loss: 1.1898 - val_accuracy: 0.4532\n",
      "Epoch 5/5\n",
      "79/79 [==============================] - 0s 4ms/step - loss: 0.2213 - accuracy: 0.9506 - val_loss: 1.4263 - val_accuracy: 0.4460\n",
      " \n"
     ]
    }
   ],
   "source": [
    "kf = KFold(n_splits=10)\n",
    "val_accuracy = []\n",
    "index = []\n",
    "cont = 0\n",
    "\n",
    "for train_index, test_index in kf.split(X_train_transform):\n",
    "    cont += 1\n",
    "    \n",
    "    model = tf.keras.Sequential([\n",
    "    tf.keras.layers.Dense(50, activation='relu'),\n",
    "    tf.keras.layers.Dropout(0.3),\n",
    "    tf.keras.layers.Dense(25, activation='relu'),\n",
    "    tf.keras.layers.Dropout(0.3),\n",
    "    tf.keras.layers.Dense(10, activation='tanh'),\n",
    "    tf.keras.layers.Dropout(0.2),\n",
    "    tf.keras.layers.Dense(3 , activation='softmax')\n",
    "    ])\n",
    "\n",
    "    model.compile(\n",
    "        optimizer='adam',\n",
    "        loss=tf.keras.losses.categorical_crossentropy,\n",
    "        metrics=['accuracy']\n",
    "    )\n",
    "    \n",
    "    X_train, X_test = X_train_transform[train_index], X_train_transform[test_index]\n",
    "    y_train, y_test = sentiment[train_index], sentiment[test_index]\n",
    "    y_train_one = one.fit_transform(y_train.reshape(-1,1))\n",
    "    y_teste_one = one.fit_transform(y_test.reshape(-1,1))\n",
    "    \n",
    "    print(\"Iter: \",cont)\n",
    "    print(\" \")\n",
    "    \n",
    "    fit = model.fit(X_train.todense(), y_train_one, epochs=5, validation_data=(X_test.todense(), y_teste_one))\n",
    "    print(\" \")\n",
    "    val_accuracy.append(fit.history['val_accuracy'])\n",
    "    \n",
    "    index.append((train_index,test_index))"
   ]
  },
  {
   "cell_type": "code",
   "execution_count": 25,
   "metadata": {},
   "outputs": [
    {
     "name": "stdout",
     "output_type": "stream",
     "text": [
      " Fold: 0\t Ultimo valor acc: 0.45519712567329407\n",
      " Fold: 1\t Ultimo valor acc: 0.4193548262119293\n",
      " Fold: 2\t Ultimo valor acc: 0.39426523447036743\n",
      " Fold: 3\t Ultimo valor acc: 0.4444444477558136\n",
      " Fold: 4\t Ultimo valor acc: 0.4301075339317322\n",
      " Fold: 5\t Ultimo valor acc: 0.4444444477558136\n",
      " Fold: 6\t Ultimo valor acc: 0.44802868366241455\n",
      " Fold: 7\t Ultimo valor acc: 0.38129496574401855\n",
      " Fold: 8\t Ultimo valor acc: 0.384892076253891\n",
      " Fold: 9\t Ultimo valor acc: 0.4460431635379791\n",
      "\n",
      " Média: 0.42480725049972534 \t Std: 0.026762210752962822\n"
     ]
    }
   ],
   "source": [
    "def media_std(val_accuracy):\n",
    "    matrix_acc = np.array(val_accuracy)\n",
    "    lista = []\n",
    "    for i in range(len(matrix_acc)):\n",
    "        lista.append(matrix_acc[i][-1])\n",
    "        print(f' Fold: {i}\\t Ultimo valor acc: {lista[i]}')\n",
    "    print(\"\")\n",
    "    print(f' Média: {np.array(lista).mean()} \\t Std: {np.array(lista).std()}')\n",
    "        \n",
    "media_std(val_accuracy)"
   ]
  },
  {
   "cell_type": "code",
   "execution_count": 26,
   "metadata": {
    "colab": {
     "base_uri": "https://localhost:8080/"
    },
    "id": "NU-kW-xh3w-1",
    "outputId": "fad55cf1-9ddb-465b-a352-4120c49c58ab"
   },
   "outputs": [
    {
     "data": {
      "text/plain": [
       "11590"
      ]
     },
     "execution_count": 26,
     "metadata": {},
     "output_type": "execute_result"
    }
   ],
   "source": [
    "vectorize_layer = TextVectorization(\n",
    " max_tokens=15000,\n",
    " output_mode='int',\n",
    " output_sequence_length=len(max(df['text'])))\n",
    "\n",
    "vocab = set_array(df['text'])\n",
    "\n",
    "vectorize_layer.adapt(np.unique(vocab))\n",
    "len(vectorize_layer.get_vocabulary())\n"
   ]
  },
  {
   "cell_type": "markdown",
   "metadata": {},
   "source": [
    "## CONV1D"
   ]
  },
  {
   "cell_type": "code",
   "execution_count": 37,
   "metadata": {},
   "outputs": [],
   "source": [
    "model = tf.keras.Sequential([\n",
    "    vectorize_layer,\n",
    "    tf.keras.layers.Embedding(\n",
    "        input_dim=len(vectorize_layer.get_vocabulary()),\n",
    "        output_dim=64,\n",
    "        mask_zero=True),\n",
    "    \n",
    "    tf.keras.layers.Conv1D(32,6, activation='relu'),\n",
    "    tf.keras.layers.MaxPooling1D(2),\n",
    "    tf.keras.layers.Flatten(),\n",
    "    \n",
    "    tf.keras.layers.Dense(16, activation='relu'),\n",
    "    tf.keras.layers.Dense(3, activation='softmax')   \n",
    "])\n",
    "\n",
    "model.compile(\n",
    "    optimizer= tf.keras.optimizers.Adam(),\n",
    "    loss=tf.keras.losses.categorical_crossentropy,\n",
    "    metrics=['accuracy']\n",
    ")"
   ]
  },
  {
   "cell_type": "code",
   "execution_count": 38,
   "metadata": {},
   "outputs": [],
   "source": [
    "X_train, X_test, Y_train, Y_test = train_test_split(Tweet_preprocessed, sentiment, test_size=0.3)"
   ]
  },
  {
   "cell_type": "code",
   "execution_count": 39,
   "metadata": {},
   "outputs": [],
   "source": [
    "y_one = one.fit_transform(Y_train.reshape(-1,1))\n",
    "y_one_ = one.transform(Y_test.reshape(-1,1))"
   ]
  },
  {
   "cell_type": "code",
   "execution_count": 40,
   "metadata": {},
   "outputs": [
    {
     "name": "stdout",
     "output_type": "stream",
     "text": [
      "Epoch 1/10\n",
      "16/16 [==============================] - 0s 27ms/step - loss: 1.0991 - accuracy: 0.3405 - val_loss: 1.0953 - val_accuracy: 0.3955\n",
      "Epoch 2/10\n",
      "16/16 [==============================] - 0s 17ms/step - loss: 1.0857 - accuracy: 0.3549 - val_loss: 1.0915 - val_accuracy: 0.3955\n",
      "Epoch 3/10\n",
      "16/16 [==============================] - 0s 20ms/step - loss: 1.0498 - accuracy: 0.4954 - val_loss: 1.0913 - val_accuracy: 0.4086\n",
      "Epoch 4/10\n",
      "16/16 [==============================] - 0s 17ms/step - loss: 0.9434 - accuracy: 0.8554 - val_loss: 1.0869 - val_accuracy: 0.3955\n",
      "Epoch 5/10\n",
      "16/16 [==============================] - 0s 19ms/step - loss: 0.7160 - accuracy: 0.9210 - val_loss: 1.0780 - val_accuracy: 0.4002\n",
      "Epoch 6/10\n",
      "16/16 [==============================] - 0s 18ms/step - loss: 0.4133 - accuracy: 0.9569 - val_loss: 1.1196 - val_accuracy: 0.3859\n",
      "Epoch 7/10\n",
      "16/16 [==============================] - 0s 22ms/step - loss: 0.1893 - accuracy: 0.9903 - val_loss: 1.1448 - val_accuracy: 0.3907\n",
      "Epoch 8/10\n",
      "16/16 [==============================] - 0s 21ms/step - loss: 0.0895 - accuracy: 0.9923 - val_loss: 1.2109 - val_accuracy: 0.3990\n",
      "Epoch 9/10\n",
      "16/16 [==============================] - 0s 17ms/step - loss: 0.0513 - accuracy: 0.9954 - val_loss: 1.2654 - val_accuracy: 0.3859\n",
      "Epoch 10/10\n",
      "16/16 [==============================] - 0s 16ms/step - loss: 0.0299 - accuracy: 0.9990 - val_loss: 1.3343 - val_accuracy: 0.3668\n"
     ]
    }
   ],
   "source": [
    "fit = model.fit(np.asarray(pre_X(X_train)), y_one, epochs=10, batch_size=128 ,validation_data=(np.asarray(pre_X(X_test)),y_one_))"
   ]
  },
  {
   "cell_type": "code",
   "execution_count": 42,
   "metadata": {},
   "outputs": [
    {
     "name": "stdout",
     "output_type": "stream",
     "text": [
      "              precision    recall  f1-score   support\n",
      "\n",
      "           0       0.34      0.47      0.40       239\n",
      "           1       0.42      0.30      0.35       331\n",
      "           2       0.35      0.36      0.36       267\n",
      "\n",
      "    accuracy                           0.37       837\n",
      "   macro avg       0.37      0.38      0.37       837\n",
      "weighted avg       0.37      0.37      0.36       837\n",
      "\n"
     ]
    }
   ],
   "source": [
    "predicted = model.predict(X_test)\n",
    "\n",
    "print(classification_report(np.argmax(y_one_, axis=1), np.argmax(predicted, axis=1)))"
   ]
  },
  {
   "cell_type": "code",
   "execution_count": 43,
   "metadata": {
    "scrolled": true
   },
   "outputs": [
    {
     "name": "stdout",
     "output_type": "stream",
     "text": [
      "Iter:  1\n",
      " \n",
      "Epoch 1/5\n",
      "79/79 [==============================] - 1s 10ms/step - loss: 1.0959 - accuracy: 0.3660 - val_loss: 1.1224 - val_accuracy: 0.2545\n",
      "Epoch 2/5\n",
      "79/79 [==============================] - 1s 10ms/step - loss: 0.9892 - accuracy: 0.5195 - val_loss: 1.1370 - val_accuracy: 0.3082\n",
      "Epoch 3/5\n",
      "79/79 [==============================] - 1s 11ms/step - loss: 0.5586 - accuracy: 0.7444 - val_loss: 1.2958 - val_accuracy: 0.3656\n",
      "Epoch 4/5\n",
      "79/79 [==============================] - 1s 10ms/step - loss: 0.2732 - accuracy: 0.9286 - val_loss: 1.4073 - val_accuracy: 0.3943\n",
      "Epoch 5/5\n",
      "79/79 [==============================] - 1s 9ms/step - loss: 0.0895 - accuracy: 0.9860 - val_loss: 1.6374 - val_accuracy: 0.4158\n",
      " \n",
      "Iter:  2\n",
      " \n",
      "Epoch 1/5\n",
      "79/79 [==============================] - 1s 11ms/step - loss: 1.0976 - accuracy: 0.3549 - val_loss: 1.0929 - val_accuracy: 0.3978\n",
      "Epoch 2/5\n",
      "79/79 [==============================] - 1s 10ms/step - loss: 0.9959 - accuracy: 0.5614 - val_loss: 1.1077 - val_accuracy: 0.3548\n",
      "Epoch 3/5\n",
      "79/79 [==============================] - 1s 8ms/step - loss: 0.4737 - accuracy: 0.8768 - val_loss: 1.3079 - val_accuracy: 0.3369\n",
      "Epoch 4/5\n",
      "79/79 [==============================] - 1s 9ms/step - loss: 0.1019 - accuracy: 0.9841 - val_loss: 1.5787 - val_accuracy: 0.3477\n",
      "Epoch 5/5\n",
      "79/79 [==============================] - 1s 9ms/step - loss: 0.0265 - accuracy: 0.9972 - val_loss: 1.6540 - val_accuracy: 0.3799\n",
      " \n",
      "Iter:  3\n",
      " \n",
      "Epoch 1/5\n",
      "79/79 [==============================] - 1s 10ms/step - loss: 1.0969 - accuracy: 0.3624 - val_loss: 1.0981 - val_accuracy: 0.3441\n",
      "Epoch 2/5\n",
      "79/79 [==============================] - 1s 10ms/step - loss: 1.0188 - accuracy: 0.4864 - val_loss: 1.0678 - val_accuracy: 0.4122\n",
      "Epoch 3/5\n",
      "79/79 [==============================] - 1s 10ms/step - loss: 0.5493 - accuracy: 0.8258 - val_loss: 1.2338 - val_accuracy: 0.4194\n",
      "Epoch 4/5\n",
      "79/79 [==============================] - 1s 11ms/step - loss: 0.1345 - accuracy: 0.9729 - val_loss: 1.4352 - val_accuracy: 0.4158\n",
      "Epoch 5/5\n",
      "79/79 [==============================] - 1s 9ms/step - loss: 0.0380 - accuracy: 0.9912 - val_loss: 1.5715 - val_accuracy: 0.4014\n",
      " \n",
      "Iter:  4\n",
      " \n",
      "Epoch 1/5\n",
      "79/79 [==============================] - 1s 11ms/step - loss: 1.0978 - accuracy: 0.3565 - val_loss: 1.0966 - val_accuracy: 0.3763\n",
      "Epoch 2/5\n",
      "79/79 [==============================] - 1s 9ms/step - loss: 1.0365 - accuracy: 0.5455 - val_loss: 1.0928 - val_accuracy: 0.3907\n",
      "Epoch 3/5\n",
      "79/79 [==============================] - 1s 9ms/step - loss: 0.5154 - accuracy: 0.8808 - val_loss: 1.1976 - val_accuracy: 0.4086\n",
      "Epoch 4/5\n",
      "79/79 [==============================] - 1s 10ms/step - loss: 0.0918 - accuracy: 0.9876 - val_loss: 1.3727 - val_accuracy: 0.3978\n",
      "Epoch 5/5\n",
      "79/79 [==============================] - 1s 9ms/step - loss: 0.0247 - accuracy: 0.9976 - val_loss: 1.5368 - val_accuracy: 0.3477\n",
      " \n",
      "Iter:  5\n",
      " \n",
      "Epoch 1/5\n",
      "79/79 [==============================] - 1s 11ms/step - loss: 1.0980 - accuracy: 0.3509 - val_loss: 1.0972 - val_accuracy: 0.3584\n",
      "Epoch 2/5\n",
      "79/79 [==============================] - 1s 8ms/step - loss: 1.0374 - accuracy: 0.5144 - val_loss: 1.0993 - val_accuracy: 0.3728\n",
      "Epoch 3/5\n",
      "79/79 [==============================] - 1s 8ms/step - loss: 0.5783 - accuracy: 0.8565 - val_loss: 1.1882 - val_accuracy: 0.4194\n",
      "Epoch 4/5\n",
      "79/79 [==============================] - 1s 8ms/step - loss: 0.1273 - accuracy: 0.9777 - val_loss: 1.3716 - val_accuracy: 0.4229\n",
      "Epoch 5/5\n",
      "79/79 [==============================] - 1s 8ms/step - loss: 0.0296 - accuracy: 0.9944 - val_loss: 1.4946 - val_accuracy: 0.4444\n",
      " \n",
      "Iter:  6\n",
      " \n",
      "Epoch 1/5\n",
      "79/79 [==============================] - 1s 10ms/step - loss: 1.0977 - accuracy: 0.3608 - val_loss: 1.0928 - val_accuracy: 0.3799\n",
      "Epoch 2/5\n",
      "79/79 [==============================] - 1s 8ms/step - loss: 0.9746 - accuracy: 0.5526 - val_loss: 1.0921 - val_accuracy: 0.4158\n",
      "Epoch 3/5\n",
      "79/79 [==============================] - 1s 9ms/step - loss: 0.4551 - accuracy: 0.8756 - val_loss: 1.3333 - val_accuracy: 0.4050\n",
      "Epoch 4/5\n",
      "79/79 [==============================] - 1s 8ms/step - loss: 0.1281 - accuracy: 0.9753 - val_loss: 1.8594 - val_accuracy: 0.3477\n",
      "Epoch 5/5\n",
      "79/79 [==============================] - 1s 8ms/step - loss: 0.0366 - accuracy: 0.9960 - val_loss: 2.0550 - val_accuracy: 0.3799\n",
      " \n",
      "Iter:  7\n",
      " \n",
      "Epoch 1/5\n",
      "79/79 [==============================] - 1s 10ms/step - loss: 1.0981 - accuracy: 0.3545 - val_loss: 1.0989 - val_accuracy: 0.3548\n",
      "Epoch 2/5\n",
      "79/79 [==============================] - 1s 8ms/step - loss: 1.0187 - accuracy: 0.5100 - val_loss: 1.0910 - val_accuracy: 0.3656\n",
      "Epoch 3/5\n",
      "79/79 [==============================] - 1s 8ms/step - loss: 0.5237 - accuracy: 0.8676 - val_loss: 1.2879 - val_accuracy: 0.3943\n",
      "Epoch 4/5\n",
      "79/79 [==============================] - 1s 9ms/step - loss: 0.1157 - accuracy: 0.9789 - val_loss: 1.4948 - val_accuracy: 0.3871\n",
      "Epoch 5/5\n",
      "79/79 [==============================] - 1s 8ms/step - loss: 0.0336 - accuracy: 0.9948 - val_loss: 1.6699 - val_accuracy: 0.3799\n",
      " \n",
      "Iter:  8\n",
      " \n",
      "Epoch 1/5\n",
      "79/79 [==============================] - 1s 10ms/step - loss: 1.0988 - accuracy: 0.3543 - val_loss: 1.0933 - val_accuracy: 0.4065\n",
      "Epoch 2/5\n",
      "79/79 [==============================] - 1s 8ms/step - loss: 1.0587 - accuracy: 0.4069 - val_loss: 1.0802 - val_accuracy: 0.3957\n",
      "Epoch 3/5\n",
      "79/79 [==============================] - 1s 9ms/step - loss: 0.5762 - accuracy: 0.8585 - val_loss: 1.2272 - val_accuracy: 0.3957\n",
      "Epoch 4/5\n",
      "79/79 [==============================] - 1s 9ms/step - loss: 0.1166 - accuracy: 0.9745 - val_loss: 1.4908 - val_accuracy: 0.3957\n",
      "Epoch 5/5\n",
      "79/79 [==============================] - 1s 9ms/step - loss: 0.0316 - accuracy: 0.9960 - val_loss: 1.6219 - val_accuracy: 0.3525\n",
      " \n",
      "Iter:  9\n",
      " \n",
      "Epoch 1/5\n",
      "79/79 [==============================] - 1s 11ms/step - loss: 1.0975 - accuracy: 0.3567 - val_loss: 1.0956 - val_accuracy: 0.3705\n",
      "Epoch 2/5\n",
      "79/79 [==============================] - 1s 8ms/step - loss: 1.0257 - accuracy: 0.5584 - val_loss: 1.0933 - val_accuracy: 0.3921\n",
      "Epoch 3/5\n",
      "79/79 [==============================] - 1s 8ms/step - loss: 0.5462 - accuracy: 0.8996 - val_loss: 1.1831 - val_accuracy: 0.3921\n",
      "Epoch 4/5\n",
      "79/79 [==============================] - 1s 8ms/step - loss: 0.1158 - accuracy: 0.9813 - val_loss: 1.3578 - val_accuracy: 0.4245\n",
      "Epoch 5/5\n",
      "79/79 [==============================] - 1s 9ms/step - loss: 0.0304 - accuracy: 0.9980 - val_loss: 1.5580 - val_accuracy: 0.3885\n",
      " \n",
      "Iter:  10\n",
      " \n",
      "Epoch 1/5\n",
      "79/79 [==============================] - 1s 12ms/step - loss: 1.0977 - accuracy: 0.3547 - val_loss: 1.0981 - val_accuracy: 0.3705\n",
      "Epoch 2/5\n",
      "79/79 [==============================] - 1s 9ms/step - loss: 1.0142 - accuracy: 0.5680 - val_loss: 1.0990 - val_accuracy: 0.3633\n",
      "Epoch 3/5\n",
      "79/79 [==============================] - 1s 9ms/step - loss: 0.5088 - accuracy: 0.8653 - val_loss: 1.2345 - val_accuracy: 0.3777\n",
      "Epoch 4/5\n",
      "79/79 [==============================] - 1s 9ms/step - loss: 0.1198 - accuracy: 0.9765 - val_loss: 1.4055 - val_accuracy: 0.3849\n",
      "Epoch 5/5\n",
      "79/79 [==============================] - 1s 9ms/step - loss: 0.0282 - accuracy: 0.9984 - val_loss: 1.6683 - val_accuracy: 0.3201\n",
      " \n"
     ]
    }
   ],
   "source": [
    "kf = KFold(n_splits=10)\n",
    "val_accuracy = []\n",
    "index = []\n",
    "cont = 0\n",
    "\n",
    "for train_index, test_index in kf.split(Tweet_preprocessed):\n",
    "    cont += 1\n",
    "    \n",
    "    model = tf.keras.Sequential([\n",
    "    vectorize_layer,\n",
    "    tf.keras.layers.Embedding(\n",
    "        input_dim=len(vectorize_layer.get_vocabulary()),\n",
    "        output_dim=64,\n",
    "        mask_zero=True),\n",
    "    \n",
    "    tf.keras.layers.Conv1D(32,6, activation='relu'),\n",
    "    tf.keras.layers.MaxPooling1D(2),\n",
    "    tf.keras.layers.Flatten(),\n",
    "    \n",
    "    tf.keras.layers.Dense(16, activation='relu'),\n",
    "    tf.keras.layers.Dense(3, activation='softmax')   \n",
    "    ])\n",
    "\n",
    "    model.compile(\n",
    "    optimizer= tf.keras.optimizers.Adam(),\n",
    "    loss=tf.keras.losses.categorical_crossentropy,\n",
    "    metrics=['accuracy']\n",
    "    )\n",
    "    \n",
    "    X_train, X_test = Tweet_preprocessed[train_index], Tweet_preprocessed[test_index]\n",
    "    y_train, y_test = sentiment[train_index], sentiment[test_index]\n",
    "    y_train_one = one.fit_transform(y_train.reshape(-1,1))\n",
    "    y_teste_one = one.fit_transform(y_test.reshape(-1,1))\n",
    "    \n",
    "    print(\"Iter: \",cont)\n",
    "    print(\" \")\n",
    "    \n",
    "    fit = model.fit(X_train, y_train_one, epochs=5, validation_data=(X_test, y_teste_one))\n",
    "    print(\" \")\n",
    "    val_accuracy.append(fit.history['val_accuracy'])\n",
    "    \n",
    "    index.append((train_index,test_index))"
   ]
  },
  {
   "cell_type": "code",
   "execution_count": 44,
   "metadata": {},
   "outputs": [
    {
     "name": "stdout",
     "output_type": "stream",
     "text": [
      " Fold: 0\t Ultimo valor acc: 0.41577062010765076\n",
      " Fold: 1\t Ultimo valor acc: 0.379928320646286\n",
      " Fold: 2\t Ultimo valor acc: 0.40143370628356934\n",
      " Fold: 3\t Ultimo valor acc: 0.3476702570915222\n",
      " Fold: 4\t Ultimo valor acc: 0.4444444477558136\n",
      " Fold: 5\t Ultimo valor acc: 0.379928320646286\n",
      " Fold: 6\t Ultimo valor acc: 0.379928320646286\n",
      " Fold: 7\t Ultimo valor acc: 0.3525179922580719\n",
      " Fold: 8\t Ultimo valor acc: 0.3884892165660858\n",
      " Fold: 9\t Ultimo valor acc: 0.3201438784599304\n",
      "\n",
      " Média: 0.3810255080461502 \t Std: 0.03367019710445899\n"
     ]
    }
   ],
   "source": [
    "media_std(val_accuracy)"
   ]
  },
  {
   "cell_type": "markdown",
   "metadata": {},
   "source": [
    "## BDR"
   ]
  },
  {
   "cell_type": "code",
   "execution_count": 45,
   "metadata": {
    "id": "PXWIf2Q13w-2"
   },
   "outputs": [],
   "source": [
    "model = tf.keras.Sequential([\n",
    "    vectorize_layer,\n",
    "    tf.keras.layers.Embedding(\n",
    "        input_dim=len(vectorize_layer.get_vocabulary()),\n",
    "        output_dim=64,mask_zero=True),\n",
    "    \n",
    "    tf.keras.layers.Bidirectional(tf.keras.layers.LSTM(50)),\n",
    "    \n",
    "    tf.keras.layers.Dense(16, activation='relu'),\n",
    "    tf.keras.layers.Dense(3, activation='softmax')\n",
    "])\n",
    "\n",
    "model.compile(\n",
    "    optimizer= tf.keras.optimizers.Adam(),\n",
    "    loss=tf.keras.losses.categorical_crossentropy,\n",
    "    metrics=['accuracy']\n",
    ")"
   ]
  },
  {
   "cell_type": "code",
   "execution_count": 46,
   "metadata": {
    "id": "h5Xn3hAe3w-2"
   },
   "outputs": [],
   "source": [
    "X_train, X_test, Y_train, Y_test = train_test_split(Tweet_preprocessed, sentiment, test_size=0.3)"
   ]
  },
  {
   "cell_type": "code",
   "execution_count": 47,
   "metadata": {
    "id": "V6tZ7p4l3w-2"
   },
   "outputs": [],
   "source": [
    "y_one = one.fit_transform(Y_train.reshape(-1,1))\n",
    "y_one_ = one.transform(Y_test.reshape(-1,1))"
   ]
  },
  {
   "cell_type": "code",
   "execution_count": 48,
   "metadata": {
    "colab": {
     "base_uri": "https://localhost:8080/"
    },
    "id": "GKcebTV93w-3",
    "outputId": "51992371-8a64-4e73-ae37-ff976be45447"
   },
   "outputs": [
    {
     "name": "stdout",
     "output_type": "stream",
     "text": [
      "Epoch 1/10\n",
      "16/16 [==============================] - 3s 199ms/step - loss: 1.0968 - accuracy: 0.3667 - val_loss: 1.0975 - val_accuracy: 0.3417\n",
      "Epoch 2/10\n",
      "16/16 [==============================] - 1s 86ms/step - loss: 1.0741 - accuracy: 0.3754 - val_loss: 1.0934 - val_accuracy: 0.3417\n",
      "Epoch 3/10\n",
      "16/16 [==============================] - 1s 79ms/step - loss: 0.9654 - accuracy: 0.4933 - val_loss: 1.0995 - val_accuracy: 0.4146\n",
      "Epoch 4/10\n",
      "16/16 [==============================] - 1s 84ms/step - loss: 0.5773 - accuracy: 0.8754 - val_loss: 1.7090 - val_accuracy: 0.4170\n",
      "Epoch 5/10\n",
      "16/16 [==============================] - 1s 88ms/step - loss: 0.2498 - accuracy: 0.9605 - val_loss: 2.0743 - val_accuracy: 0.4265\n",
      "Epoch 6/10\n",
      "16/16 [==============================] - 1s 84ms/step - loss: 0.1204 - accuracy: 0.9821 - val_loss: 2.6661 - val_accuracy: 0.4205\n",
      "Epoch 7/10\n",
      "16/16 [==============================] - 1s 84ms/step - loss: 0.0669 - accuracy: 0.9903 - val_loss: 3.1340 - val_accuracy: 0.4098\n",
      "Epoch 8/10\n",
      "16/16 [==============================] - 1s 72ms/step - loss: 0.0414 - accuracy: 0.9944 - val_loss: 3.2479 - val_accuracy: 0.4014\n",
      "Epoch 9/10\n",
      "16/16 [==============================] - 1s 81ms/step - loss: 0.0411 - accuracy: 0.9928 - val_loss: 3.9525 - val_accuracy: 0.4194\n",
      "Epoch 10/10\n",
      "16/16 [==============================] - 1s 73ms/step - loss: 0.0284 - accuracy: 0.9954 - val_loss: 3.3313 - val_accuracy: 0.4074\n"
     ]
    }
   ],
   "source": [
    "fit = model.fit(np.asarray(pre_X(X_train)), y_one, epochs=10, batch_size=128 ,validation_data=(np.asarray(pre_X(X_test)),y_one_))"
   ]
  },
  {
   "cell_type": "code",
   "execution_count": 50,
   "metadata": {},
   "outputs": [
    {
     "name": "stdout",
     "output_type": "stream",
     "text": [
      "              precision    recall  f1-score   support\n",
      "\n",
      "           0       0.44      0.47      0.45       278\n",
      "           1       0.40      0.30      0.35       286\n",
      "           2       0.38      0.45      0.41       273\n",
      "\n",
      "    accuracy                           0.41       837\n",
      "   macro avg       0.41      0.41      0.40       837\n",
      "weighted avg       0.41      0.41      0.40       837\n",
      "\n"
     ]
    }
   ],
   "source": [
    "predicted = model.predict(X_test)\n",
    "\n",
    "print(classification_report(np.argmax(y_one_, axis=1), np.argmax(predicted, axis=1)))"
   ]
  },
  {
   "cell_type": "code",
   "execution_count": 51,
   "metadata": {},
   "outputs": [
    {
     "name": "stdout",
     "output_type": "stream",
     "text": [
      "Iter:  1\n",
      " \n",
      "Epoch 1/5\n",
      "79/79 [==============================] - 4s 56ms/step - loss: 1.0952 - accuracy: 0.3700 - val_loss: 1.1056 - val_accuracy: 0.2545\n",
      "Epoch 2/5\n",
      "79/79 [==============================] - 3s 38ms/step - loss: 0.8979 - accuracy: 0.6025 - val_loss: 1.1874 - val_accuracy: 0.4265\n",
      "Epoch 3/5\n",
      "79/79 [==============================] - 3s 35ms/step - loss: 0.3146 - accuracy: 0.9055 - val_loss: 1.5802 - val_accuracy: 0.4516\n",
      "Epoch 4/5\n",
      "79/79 [==============================] - 3s 35ms/step - loss: 0.0977 - accuracy: 0.9749 - val_loss: 2.1116 - val_accuracy: 0.4516\n",
      "Epoch 5/5\n",
      "79/79 [==============================] - 3s 34ms/step - loss: 0.0385 - accuracy: 0.9912 - val_loss: 2.4603 - val_accuracy: 0.4624\n",
      " \n",
      "Iter:  2\n",
      " \n",
      "Epoch 1/5\n",
      "79/79 [==============================] - 4s 50ms/step - loss: 1.0932 - accuracy: 0.3620 - val_loss: 1.0761 - val_accuracy: 0.4409\n",
      "Epoch 2/5\n",
      "79/79 [==============================] - 3s 34ms/step - loss: 0.9010 - accuracy: 0.5682 - val_loss: 1.1430 - val_accuracy: 0.4624\n",
      "Epoch 3/5\n",
      "79/79 [==============================] - 3s 32ms/step - loss: 0.4223 - accuracy: 0.8589 - val_loss: 1.7528 - val_accuracy: 0.4122\n",
      "Epoch 4/5\n",
      "79/79 [==============================] - 3s 32ms/step - loss: 0.1874 - accuracy: 0.9510 - val_loss: 2.1812 - val_accuracy: 0.4229\n",
      "Epoch 5/5\n",
      "79/79 [==============================] - 3s 32ms/step - loss: 0.0565 - accuracy: 0.9904 - val_loss: 2.8609 - val_accuracy: 0.4050\n",
      " \n",
      "Iter:  3\n",
      " \n",
      "Epoch 1/5\n",
      "79/79 [==============================] - 4s 53ms/step - loss: 1.0947 - accuracy: 0.3620 - val_loss: 1.0953 - val_accuracy: 0.3441\n",
      "Epoch 2/5\n",
      "79/79 [==============================] - 3s 34ms/step - loss: 0.8667 - accuracy: 0.6515 - val_loss: 1.2722 - val_accuracy: 0.3728\n",
      "Epoch 3/5\n",
      "79/79 [==============================] - 3s 35ms/step - loss: 0.3373 - accuracy: 0.8991 - val_loss: 1.7400 - val_accuracy: 0.3835\n",
      "Epoch 4/5\n",
      "79/79 [==============================] - 3s 34ms/step - loss: 0.1100 - accuracy: 0.9725 - val_loss: 2.3952 - val_accuracy: 0.3907\n",
      "Epoch 5/5\n",
      "79/79 [==============================] - 3s 33ms/step - loss: 0.0489 - accuracy: 0.9896 - val_loss: 2.4253 - val_accuracy: 0.3978\n",
      " \n",
      "Iter:  4\n",
      " \n",
      "Epoch 1/5\n",
      "79/79 [==============================] - 4s 56ms/step - loss: 1.0951 - accuracy: 0.3620 - val_loss: 1.0779 - val_accuracy: 0.3728\n",
      "Epoch 2/5\n",
      "79/79 [==============================] - 3s 33ms/step - loss: 0.9096 - accuracy: 0.6148 - val_loss: 1.1226 - val_accuracy: 0.4265\n",
      "Epoch 3/5\n",
      "79/79 [==============================] - 3s 33ms/step - loss: 0.4026 - accuracy: 0.8688 - val_loss: 1.9122 - val_accuracy: 0.3799\n",
      "Epoch 4/5\n",
      "79/79 [==============================] - 3s 34ms/step - loss: 0.1533 - accuracy: 0.9629 - val_loss: 2.2334 - val_accuracy: 0.3799\n",
      "Epoch 5/5\n",
      "79/79 [==============================] - 3s 34ms/step - loss: 0.0575 - accuracy: 0.9896 - val_loss: 2.8029 - val_accuracy: 0.3656\n",
      " \n",
      "Iter:  5\n",
      " \n",
      "Epoch 1/5\n",
      "79/79 [==============================] - 5s 58ms/step - loss: 1.0912 - accuracy: 0.3732 - val_loss: 1.0821 - val_accuracy: 0.3907\n",
      "Epoch 2/5\n",
      "79/79 [==============================] - 3s 37ms/step - loss: 0.8724 - accuracy: 0.5921 - val_loss: 1.1954 - val_accuracy: 0.4014\n",
      "Epoch 3/5\n",
      "79/79 [==============================] - 3s 37ms/step - loss: 0.4795 - accuracy: 0.8393 - val_loss: 1.4443 - val_accuracy: 0.4373\n",
      "Epoch 4/5\n",
      "79/79 [==============================] - 3s 38ms/step - loss: 0.1586 - accuracy: 0.9545 - val_loss: 1.9816 - val_accuracy: 0.4480\n",
      "Epoch 5/5\n",
      "79/79 [==============================] - 3s 37ms/step - loss: 0.0468 - accuracy: 0.9888 - val_loss: 2.7055 - val_accuracy: 0.4301\n",
      " \n",
      "Iter:  6\n",
      " \n",
      "Epoch 1/5\n",
      "79/79 [==============================] - 4s 55ms/step - loss: 1.0931 - accuracy: 0.3561 - val_loss: 1.0835 - val_accuracy: 0.3799\n",
      "Epoch 2/5\n",
      "79/79 [==============================] - 3s 35ms/step - loss: 0.8544 - accuracy: 0.6224 - val_loss: 1.1660 - val_accuracy: 0.4086\n",
      "Epoch 3/5\n",
      "79/79 [==============================] - 3s 37ms/step - loss: 0.3097 - accuracy: 0.8999 - val_loss: 1.6130 - val_accuracy: 0.4337\n",
      "Epoch 4/5\n",
      "79/79 [==============================] - 3s 34ms/step - loss: 0.0947 - accuracy: 0.9765 - val_loss: 2.1329 - val_accuracy: 0.4516\n",
      "Epoch 5/5\n",
      "79/79 [==============================] - 3s 36ms/step - loss: 0.0371 - accuracy: 0.9912 - val_loss: 2.4613 - val_accuracy: 0.4301\n",
      " \n",
      "Iter:  7\n",
      " \n",
      "Epoch 1/5\n",
      "79/79 [==============================] - 4s 56ms/step - loss: 1.0959 - accuracy: 0.3652 - val_loss: 1.0939 - val_accuracy: 0.3763\n",
      "Epoch 2/5\n",
      "79/79 [==============================] - 3s 38ms/step - loss: 0.8842 - accuracy: 0.6687 - val_loss: 1.1756 - val_accuracy: 0.3978\n",
      "Epoch 3/5\n",
      "79/79 [==============================] - 3s 37ms/step - loss: 0.3383 - accuracy: 0.9023 - val_loss: 2.0765 - val_accuracy: 0.4122\n",
      "Epoch 4/5\n",
      "79/79 [==============================] - 3s 37ms/step - loss: 0.1296 - accuracy: 0.9677 - val_loss: 2.1791 - val_accuracy: 0.4050\n",
      "Epoch 5/5\n",
      "79/79 [==============================] - 3s 39ms/step - loss: 0.0515 - accuracy: 0.9896 - val_loss: 2.7134 - val_accuracy: 0.3871\n",
      " \n",
      "Iter:  8\n",
      " \n",
      "Epoch 1/5\n",
      "79/79 [==============================] - 5s 60ms/step - loss: 1.0926 - accuracy: 0.3707 - val_loss: 1.0653 - val_accuracy: 0.4317\n",
      "Epoch 2/5\n",
      "79/79 [==============================] - 3s 38ms/step - loss: 0.8644 - accuracy: 0.6501 - val_loss: 1.2263 - val_accuracy: 0.3921\n",
      "Epoch 3/5\n",
      "79/79 [==============================] - 3s 39ms/step - loss: 0.3651 - accuracy: 0.8828 - val_loss: 1.7774 - val_accuracy: 0.3993\n",
      "Epoch 4/5\n",
      "79/79 [==============================] - 3s 40ms/step - loss: 0.1314 - accuracy: 0.9697 - val_loss: 2.2333 - val_accuracy: 0.3813\n",
      "Epoch 5/5\n",
      "79/79 [==============================] - 3s 39ms/step - loss: 0.0563 - accuracy: 0.9884 - val_loss: 2.6010 - val_accuracy: 0.3885\n",
      " \n",
      "Iter:  9\n",
      " \n",
      "Epoch 1/5\n",
      "79/79 [==============================] - 5s 58ms/step - loss: 1.0930 - accuracy: 0.3599 - val_loss: 1.0718 - val_accuracy: 0.3741\n",
      "Epoch 2/5\n",
      "79/79 [==============================] - 3s 39ms/step - loss: 0.8766 - accuracy: 0.6265 - val_loss: 1.1484 - val_accuracy: 0.3741\n",
      "Epoch 3/5\n",
      "79/79 [==============================] - 3s 43ms/step - loss: 0.3574 - accuracy: 0.8880 - val_loss: 1.6156 - val_accuracy: 0.3633\n",
      "Epoch 4/5\n",
      "79/79 [==============================] - 4s 53ms/step - loss: 0.1231 - accuracy: 0.9685 - val_loss: 2.4061 - val_accuracy: 0.3741\n",
      "Epoch 5/5\n",
      "79/79 [==============================] - 4s 48ms/step - loss: 0.0407 - accuracy: 0.9892 - val_loss: 2.8241 - val_accuracy: 0.3957\n",
      " \n",
      "Iter:  10\n",
      " \n",
      "Epoch 1/5\n",
      "79/79 [==============================] - 6s 78ms/step - loss: 1.0948 - accuracy: 0.3579 - val_loss: 1.0840 - val_accuracy: 0.4245\n",
      "Epoch 2/5\n",
      "79/79 [==============================] - 4s 50ms/step - loss: 0.8703 - accuracy: 0.6652 - val_loss: 1.1723 - val_accuracy: 0.4568\n",
      "Epoch 3/5\n",
      "79/79 [==============================] - 4s 50ms/step - loss: 0.3350 - accuracy: 0.8964 - val_loss: 1.6151 - val_accuracy: 0.4317\n",
      "Epoch 4/5\n",
      "79/79 [==============================] - 4s 53ms/step - loss: 0.1233 - accuracy: 0.9681 - val_loss: 2.1078 - val_accuracy: 0.4173\n",
      "Epoch 5/5\n",
      "79/79 [==============================] - 4s 53ms/step - loss: 0.0539 - accuracy: 0.9884 - val_loss: 2.2953 - val_accuracy: 0.4460\n",
      " \n"
     ]
    }
   ],
   "source": [
    "kf = KFold(n_splits=10)\n",
    "val_accuracy = []\n",
    "index = []\n",
    "cont = 0\n",
    "\n",
    "for train_index, test_index in kf.split(Tweet_preprocessed):\n",
    "    cont += 1\n",
    "    \n",
    "    model = tf.keras.Sequential([\n",
    "    vectorize_layer,\n",
    "    tf.keras.layers.Embedding(\n",
    "        input_dim=len(vectorize_layer.get_vocabulary()),\n",
    "        output_dim=64,mask_zero=True),\n",
    "    \n",
    "    tf.keras.layers.Bidirectional(tf.keras.layers.LSTM(50)),\n",
    "    \n",
    "    tf.keras.layers.Dense(16, activation='relu'),\n",
    "    tf.keras.layers.Dense(3, activation='softmax')\n",
    "    \n",
    "    ])\n",
    "\n",
    "    model.compile(\n",
    "        \n",
    "    optimizer= tf.keras.optimizers.Adam(),\n",
    "    loss=tf.keras.losses.categorical_crossentropy,\n",
    "    metrics=['accuracy']\n",
    "        \n",
    "    )\n",
    "    \n",
    "    X_train, X_test = Tweet_preprocessed[train_index], Tweet_preprocessed[test_index]\n",
    "    y_train, y_test = sentiment[train_index], sentiment[test_index]\n",
    "    y_train_one = one.fit_transform(y_train.reshape(-1,1))\n",
    "    y_teste_one = one.fit_transform(y_test.reshape(-1,1))\n",
    "    \n",
    "    print(\"Iter: \",cont)\n",
    "    print(\" \")\n",
    "    \n",
    "    fit = model.fit(X_train, y_train_one, epochs=5, validation_data=(X_test, y_teste_one))\n",
    "    print(\" \")\n",
    "    val_accuracy.append(fit.history['val_accuracy'])\n",
    "    \n",
    "    index.append((train_index,test_index))"
   ]
  },
  {
   "cell_type": "code",
   "execution_count": 52,
   "metadata": {},
   "outputs": [
    {
     "name": "stdout",
     "output_type": "stream",
     "text": [
      " Fold: 0\t Ultimo valor acc: 0.46236559748649597\n",
      " Fold: 1\t Ultimo valor acc: 0.4050179123878479\n",
      " Fold: 2\t Ultimo valor acc: 0.3978494703769684\n",
      " Fold: 3\t Ultimo valor acc: 0.3655914068222046\n",
      " Fold: 4\t Ultimo valor acc: 0.4301075339317322\n",
      " Fold: 5\t Ultimo valor acc: 0.4301075339317322\n",
      " Fold: 6\t Ultimo valor acc: 0.3870967626571655\n",
      " Fold: 7\t Ultimo valor acc: 0.3884892165660858\n",
      " Fold: 8\t Ultimo valor acc: 0.3956834673881531\n",
      " Fold: 9\t Ultimo valor acc: 0.4460431635379791\n",
      "\n",
      " Média: 0.4108352065086365 \t Std: 0.028600228122043644\n"
     ]
    }
   ],
   "source": [
    "media_std(val_accuracy)"
   ]
  },
  {
   "cell_type": "code",
   "execution_count": 53,
   "metadata": {
    "colab": {
     "base_uri": "https://localhost:8080/",
     "height": 374
    },
    "id": "KC_lGn2n3w-3",
    "outputId": "022305f5-f649-4c44-e22c-216b209db10b"
   },
   "outputs": [
    {
     "data": {
      "image/png": "[encoded data removed]",
      "text/plain": [
       "<Figure size 864x432 with 1 Axes>"
      ]
     },
     "metadata": {
      "needs_background": "light"
     },
     "output_type": "display_data"
    }
   ],
   "source": [
    "plt.figure(figsize=(12,6))\n",
    "plt.plot(fit.history['loss'], label='Loss', color='darkred')\n",
    "plt.plot(fit.history['val_loss'], label='Val Loss', color='green')\n",
    "plt.legend()\n",
    "plt.grid()\n",
    "plt.ylabel('Loss')\n",
    "plt.show()"
   ]
  },
  {
   "cell_type": "code",
   "execution_count": 54,
   "metadata": {
    "colab": {
     "base_uri": "https://localhost:8080/",
     "height": 374
    },
    "id": "Y6Fd5BXZ3w-4",
    "outputId": "28c77b83-f770-46bf-cb67-af7eab326d51"
   },
   "outputs": [
    {
     "data": {
      "image/png": "[encoded data removed]",
      "text/plain": [
       "<Figure size 864x432 with 1 Axes>"
      ]
     },
     "metadata": {
      "needs_background": "light"
     },
     "output_type": "display_data"
    }
   ],
   "source": [
    "plt.figure(figsize=(12,6))\n",
    "plt.plot(fit.history['accuracy'], label='accuracy', color='darkred')\n",
    "plt.plot(fit.history['val_accuracy'], label='Val accuracy', color='green')\n",
    "plt.legend()\n",
    "plt.grid()\n",
    "plt.ylabel('Accuracy')\n",
    "plt.show()"
   ]
  },
  {
   "cell_type": "markdown",
   "metadata": {},
   "source": [
    "## LSTM"
   ]
  },
  {
   "cell_type": "code",
   "execution_count": 55,
   "metadata": {},
   "outputs": [],
   "source": [
    "model = tf.keras.Sequential([\n",
    "    vectorize_layer,\n",
    "    tf.keras.layers.Embedding(\n",
    "        input_dim=len(vectorize_layer.get_vocabulary()),\n",
    "        output_dim=64,mask_zero=True),\n",
    "    \n",
    "    tf.keras.layers.LSTM(50, activation='relu' ,return_sequences=True),\n",
    "    tf.keras.layers.Dropout(0.3),\n",
    "    \n",
    "    tf.keras.layers.LSTM(10 , activation='tanh'),\n",
    "    tf.keras.layers.Dropout(0.2),\n",
    "    \n",
    "    tf.keras.layers.Dense(3, activation='softmax')\n",
    "    ])\n",
    "\n",
    "model.compile(\n",
    "    optimizer= tf.keras.optimizers.Adam(),\n",
    "    loss=tf.keras.losses.categorical_crossentropy,\n",
    "    metrics=['accuracy']\n",
    ")"
   ]
  },
  {
   "cell_type": "code",
   "execution_count": 56,
   "metadata": {},
   "outputs": [],
   "source": [
    "X_train, X_test, Y_train, Y_test = train_test_split(Tweet_preprocessed, sentiment, test_size=0.3)"
   ]
  },
  {
   "cell_type": "code",
   "execution_count": 57,
   "metadata": {},
   "outputs": [],
   "source": [
    "y_one = one.fit_transform(Y_train.reshape(-1,1))\n",
    "y_one_ = one.transform(Y_test.reshape(-1,1))"
   ]
  },
  {
   "cell_type": "code",
   "execution_count": 58,
   "metadata": {},
   "outputs": [
    {
     "name": "stdout",
     "output_type": "stream",
     "text": [
      "Epoch 1/10\n",
      "16/16 [==============================] - 4s 258ms/step - loss: 1.0973 - accuracy: 0.3456 - val_loss: 1.0959 - val_accuracy: 0.3620\n",
      "Epoch 2/10\n",
      "16/16 [==============================] - 2s 154ms/step - loss: 1.0884 - accuracy: 0.3667 - val_loss: 1.0934 - val_accuracy: 0.3620\n",
      "Epoch 3/10\n",
      "16/16 [==============================] - 2s 147ms/step - loss: 1.0596 - accuracy: 0.4056 - val_loss: 1.0822 - val_accuracy: 0.3883\n",
      "Epoch 4/10\n",
      "16/16 [==============================] - 3s 178ms/step - loss: 0.8860 - accuracy: 0.6497 - val_loss: 1.1403 - val_accuracy: 0.4325\n",
      "Epoch 5/10\n",
      "16/16 [==============================] - 3s 180ms/step - loss: 0.6325 - accuracy: 0.8533 - val_loss: 1.3631 - val_accuracy: 0.4110\n",
      "Epoch 6/10\n",
      "16/16 [==============================] - 3s 184ms/step - loss: 0.3978 - accuracy: 0.9164 - val_loss: 1.7682 - val_accuracy: 0.4026\n",
      "Epoch 7/10\n",
      "16/16 [==============================] - 3s 201ms/step - loss: 0.3057 - accuracy: 0.9359 - val_loss: 1.9006 - val_accuracy: 0.3978\n",
      "Epoch 8/10\n",
      "16/16 [==============================] - 3s 190ms/step - loss: 0.2282 - accuracy: 0.9626 - val_loss: 1.9984 - val_accuracy: 0.3943\n",
      "Epoch 9/10\n",
      "16/16 [==============================] - 3s 184ms/step - loss: 0.1913 - accuracy: 0.9662 - val_loss: 2.0321 - val_accuracy: 0.4074\n",
      "Epoch 10/10\n",
      "16/16 [==============================] - 4s 219ms/step - loss: 0.2242 - accuracy: 0.9528 - val_loss: 1.9250 - val_accuracy: 0.4205\n"
     ]
    }
   ],
   "source": [
    "fit = model.fit(np.asarray(pre_X(X_train)), y_one, epochs=10, batch_size=128 ,validation_data=(np.asarray(pre_X(X_test)),y_one_))"
   ]
  },
  {
   "cell_type": "code",
   "execution_count": 59,
   "metadata": {},
   "outputs": [
    {
     "name": "stdout",
     "output_type": "stream",
     "text": [
      "              precision    recall  f1-score   support\n",
      "\n",
      "           0       0.42      0.46      0.44       260\n",
      "           1       0.45      0.38      0.41       303\n",
      "           2       0.39      0.43      0.41       274\n",
      "\n",
      "    accuracy                           0.42       837\n",
      "   macro avg       0.42      0.42      0.42       837\n",
      "weighted avg       0.42      0.42      0.42       837\n",
      "\n"
     ]
    }
   ],
   "source": [
    "predicted = model.predict(X_test)\n",
    "\n",
    "print(classification_report(np.argmax(y_one_, axis=1), np.argmax(predicted, axis=1)))"
   ]
  },
  {
   "cell_type": "code",
   "execution_count": 60,
   "metadata": {
    "scrolled": true
   },
   "outputs": [
    {
     "name": "stdout",
     "output_type": "stream",
     "text": [
      "Iter:  1\n",
      " \n",
      "Epoch 1/5\n",
      "79/79 [==============================] - 6s 80ms/step - loss: 1.0943 - accuracy: 0.3680 - val_loss: 1.1176 - val_accuracy: 0.2545\n",
      "Epoch 2/5\n",
      "79/79 [==============================] - 5s 64ms/step - loss: 1.0172 - accuracy: 0.4860 - val_loss: 1.1124 - val_accuracy: 0.3835\n",
      "Epoch 3/5\n",
      "79/79 [==============================] - 5s 62ms/step - loss: 0.6372 - accuracy: 0.7807 - val_loss: 1.2164 - val_accuracy: 0.4588\n",
      "Epoch 4/5\n",
      "79/79 [==============================] - 5s 61ms/step - loss: 0.2999 - accuracy: 0.9147 - val_loss: 1.4908 - val_accuracy: 0.4624\n",
      "Epoch 5/5\n",
      "79/79 [==============================] - 5s 64ms/step - loss: 0.1645 - accuracy: 0.9589 - val_loss: 1.8743 - val_accuracy: 0.4624\n",
      " \n",
      "Iter:  2\n",
      " \n",
      "Epoch 1/5\n",
      "79/79 [==============================] - 6s 79ms/step - loss: 1.0966 - accuracy: 0.3557 - val_loss: 1.0917 - val_accuracy: 0.3978\n",
      "Epoch 2/5\n",
      "79/79 [==============================] - 5s 60ms/step - loss: 0.9965 - accuracy: 0.5243 - val_loss: 1.1384 - val_accuracy: 0.3799\n",
      "Epoch 3/5\n",
      "79/79 [==============================] - 5s 61ms/step - loss: 0.5752 - accuracy: 0.8206 - val_loss: 1.4016 - val_accuracy: 0.3871\n",
      "Epoch 4/5\n",
      "79/79 [==============================] - 5s 60ms/step - loss: 0.2533 - accuracy: 0.9330 - val_loss: 1.7938 - val_accuracy: 0.3978\n",
      "Epoch 5/5\n",
      "79/79 [==============================] - 5s 60ms/step - loss: 0.1458 - accuracy: 0.9665 - val_loss: 1.9578 - val_accuracy: 0.3978\n",
      " \n",
      "Iter:  3\n",
      " \n",
      "Epoch 1/5\n",
      "79/79 [==============================] - 5s 70ms/step - loss: 1.0950 - accuracy: 0.3553 - val_loss: 1.0949 - val_accuracy: 0.3441\n",
      "Epoch 2/5\n",
      "79/79 [==============================] - 5s 58ms/step - loss: 0.9926 - accuracy: 0.5100 - val_loss: 1.1222 - val_accuracy: 0.3978\n",
      "Epoch 3/5\n",
      "79/79 [==============================] - 5s 59ms/step - loss: 0.6315 - accuracy: 0.7767 - val_loss: 1.3194 - val_accuracy: 0.3871\n",
      "Epoch 4/5\n",
      "79/79 [==============================] - 5s 58ms/step - loss: 0.3351 - accuracy: 0.9099 - val_loss: 1.7494 - val_accuracy: 0.3943\n",
      "Epoch 5/5\n",
      "79/79 [==============================] - 5s 58ms/step - loss: 0.1752 - accuracy: 0.9593 - val_loss: 2.0358 - val_accuracy: 0.3835\n",
      " \n",
      "Iter:  4\n",
      " \n",
      "Epoch 1/5\n",
      "79/79 [==============================] - 6s 71ms/step - loss: 1.0959 - accuracy: 0.3612 - val_loss: 1.0897 - val_accuracy: 0.3763\n",
      "Epoch 2/5\n",
      "79/79 [==============================] - 5s 59ms/step - loss: 1.0073 - accuracy: 0.4916 - val_loss: 1.1488 - val_accuracy: 0.3333\n",
      "Epoch 3/5\n",
      "79/79 [==============================] - 5s 60ms/step - loss: 0.6217 - accuracy: 0.7659 - val_loss: 1.2629 - val_accuracy: 0.4373\n",
      "Epoch 4/5\n",
      "79/79 [==============================] - 5s 59ms/step - loss: 0.3350 - accuracy: 0.9027 - val_loss: 1.6913 - val_accuracy: 0.4086\n",
      "Epoch 5/5\n",
      "79/79 [==============================] - 5s 58ms/step - loss: 0.1593 - accuracy: 0.9589 - val_loss: 2.0617 - val_accuracy: 0.4301\n",
      " \n",
      "Iter:  5\n",
      " \n",
      "Epoch 1/5\n",
      "79/79 [==============================] - 5s 68ms/step - loss: 1.0967 - accuracy: 0.3604 - val_loss: 1.0950 - val_accuracy: 0.3584\n",
      "Epoch 2/5\n",
      "79/79 [==============================] - 4s 56ms/step - loss: 1.0455 - accuracy: 0.4661 - val_loss: 1.1036 - val_accuracy: 0.3513\n",
      "Epoch 3/5\n",
      "79/79 [==============================] - 4s 57ms/step - loss: 0.7614 - accuracy: 0.7229 - val_loss: 1.2513 - val_accuracy: 0.4050\n",
      "Epoch 4/5\n",
      "79/79 [==============================] - 4s 57ms/step - loss: 0.4427 - accuracy: 0.8680 - val_loss: 1.6525 - val_accuracy: 0.4588\n",
      "Epoch 5/5\n",
      "79/79 [==============================] - 5s 58ms/step - loss: 0.2941 - accuracy: 0.9211 - val_loss: 1.7789 - val_accuracy: 0.4229\n",
      " \n",
      "Iter:  6\n",
      " \n",
      "Epoch 1/5\n",
      "79/79 [==============================] - 6s 74ms/step - loss: 1.0975 - accuracy: 0.3608 - val_loss: 1.0927 - val_accuracy: 0.3799\n",
      "Epoch 2/5\n",
      "79/79 [==============================] - 5s 59ms/step - loss: 1.0305 - accuracy: 0.4809 - val_loss: 1.1556 - val_accuracy: 0.3799\n",
      "Epoch 3/5\n",
      "79/79 [==============================] - 5s 59ms/step - loss: 0.6262 - accuracy: 0.7835 - val_loss: 1.3605 - val_accuracy: 0.4301\n",
      "Epoch 4/5\n",
      "79/79 [==============================] - 5s 59ms/step - loss: 0.3341 - accuracy: 0.9183 - val_loss: 1.7965 - val_accuracy: 0.4552\n",
      "Epoch 5/5\n",
      "79/79 [==============================] - 5s 58ms/step - loss: 0.2279 - accuracy: 0.9458 - val_loss: 1.8243 - val_accuracy: 0.4265\n",
      " \n",
      "Iter:  7\n",
      " \n",
      "Epoch 1/5\n",
      "79/79 [==============================] - 6s 71ms/step - loss: 1.0964 - accuracy: 0.3628 - val_loss: 1.0951 - val_accuracy: 0.3548\n",
      "Epoch 2/5\n",
      "79/79 [==============================] - 5s 60ms/step - loss: 1.0064 - accuracy: 0.4972 - val_loss: 1.0832 - val_accuracy: 0.4265\n",
      "Epoch 3/5\n",
      "79/79 [==============================] - 5s 59ms/step - loss: 0.5620 - accuracy: 0.8262 - val_loss: 1.3012 - val_accuracy: 0.4229\n",
      "Epoch 4/5\n",
      "79/79 [==============================] - 5s 58ms/step - loss: 0.2557 - accuracy: 0.9330 - val_loss: 1.8862 - val_accuracy: 0.4050\n",
      "Epoch 5/5\n",
      "79/79 [==============================] - 5s 59ms/step - loss: 0.1552 - accuracy: 0.9661 - val_loss: 1.9435 - val_accuracy: 0.4158\n",
      " \n",
      "Iter:  8\n",
      " \n",
      "Epoch 1/5\n",
      "79/79 [==============================] - 6s 76ms/step - loss: 1.0962 - accuracy: 0.3631 - val_loss: 1.0879 - val_accuracy: 0.4065\n",
      "Epoch 2/5\n",
      "79/79 [==============================] - 5s 61ms/step - loss: 1.0088 - accuracy: 0.5078 - val_loss: 1.0892 - val_accuracy: 0.3993\n",
      "Epoch 3/5\n",
      "79/79 [==============================] - 5s 60ms/step - loss: 0.6707 - accuracy: 0.7872 - val_loss: 1.2371 - val_accuracy: 0.4245\n",
      "Epoch 4/5\n",
      "79/79 [==============================] - 5s 60ms/step - loss: 0.3604 - accuracy: 0.9047 - val_loss: 1.5666 - val_accuracy: 0.3633\n",
      "Epoch 5/5\n",
      "79/79 [==============================] - 5s 59ms/step - loss: 0.1769 - accuracy: 0.9597 - val_loss: 2.0826 - val_accuracy: 0.3921\n",
      " \n",
      "Iter:  9\n",
      " \n",
      "Epoch 1/5\n",
      "79/79 [==============================] - 6s 73ms/step - loss: 1.0967 - accuracy: 0.3543 - val_loss: 1.0912 - val_accuracy: 0.3705\n",
      "Epoch 2/5\n",
      "79/79 [==============================] - 5s 61ms/step - loss: 1.0030 - accuracy: 0.4958 - val_loss: 1.0899 - val_accuracy: 0.4065\n",
      "Epoch 3/5\n",
      "79/79 [==============================] - 5s 61ms/step - loss: 0.6139 - accuracy: 0.8063 - val_loss: 1.3253 - val_accuracy: 0.4101\n",
      "Epoch 4/5\n",
      "79/79 [==============================] - 5s 63ms/step - loss: 0.3036 - accuracy: 0.9091 - val_loss: 1.6887 - val_accuracy: 0.4029\n",
      "Epoch 5/5\n",
      "79/79 [==============================] - 5s 60ms/step - loss: 0.1564 - accuracy: 0.9562 - val_loss: 1.9172 - val_accuracy: 0.3885\n",
      " \n",
      "Iter:  10\n",
      " \n",
      "Epoch 1/5\n",
      "79/79 [==============================] - 6s 71ms/step - loss: 1.0954 - accuracy: 0.3543 - val_loss: 1.0923 - val_accuracy: 0.4101\n",
      "Epoch 2/5\n",
      "79/79 [==============================] - 5s 58ms/step - loss: 1.0269 - accuracy: 0.4779 - val_loss: 1.0643 - val_accuracy: 0.4532\n",
      "Epoch 3/5\n",
      "79/79 [==============================] - 5s 62ms/step - loss: 0.7028 - accuracy: 0.7593 - val_loss: 1.2452 - val_accuracy: 0.4496\n",
      "Epoch 4/5\n",
      "79/79 [==============================] - 5s 63ms/step - loss: 0.3484 - accuracy: 0.9055 - val_loss: 1.7693 - val_accuracy: 0.4137\n",
      "Epoch 5/5\n",
      "79/79 [==============================] - 5s 62ms/step - loss: 0.2250 - accuracy: 0.9450 - val_loss: 1.9620 - val_accuracy: 0.3705\n",
      " \n"
     ]
    }
   ],
   "source": [
    "kf = KFold(n_splits=10)\n",
    "val_accuracy = []\n",
    "index = []\n",
    "cont = 0\n",
    "\n",
    "for train_index, test_index in kf.split(Tweet_preprocessed):\n",
    "    cont += 1\n",
    "    \n",
    "    model = tf.keras.Sequential([\n",
    "    vectorize_layer,\n",
    "    tf.keras.layers.Embedding(\n",
    "        input_dim=len(vectorize_layer.get_vocabulary()),\n",
    "        output_dim=64,mask_zero=True),\n",
    "    \n",
    "    tf.keras.layers.LSTM(50, activation='relu' ,return_sequences=True),\n",
    "    tf.keras.layers.Dropout(0.3),\n",
    "    \n",
    "    tf.keras.layers.LSTM(10 , activation='tanh'),\n",
    "    tf.keras.layers.Dropout(0.2),\n",
    "    \n",
    "    tf.keras.layers.Dense(3, activation='softmax')\n",
    "    ])\n",
    "\n",
    "    model.compile(\n",
    "        optimizer= tf.keras.optimizers.Adam(),\n",
    "        loss=tf.keras.losses.categorical_crossentropy,\n",
    "        metrics=['accuracy']\n",
    "    )\n",
    "    \n",
    "    X_train, X_test = Tweet_preprocessed[train_index], Tweet_preprocessed[test_index]\n",
    "    y_train, y_test = sentiment[train_index], sentiment[test_index]\n",
    "    y_train_one = one.fit_transform(y_train.reshape(-1,1))\n",
    "    y_teste_one = one.fit_transform(y_test.reshape(-1,1))\n",
    "    \n",
    "    print(\"Iter: \",cont)\n",
    "    print(\" \")\n",
    "    \n",
    "    fit = model.fit(X_train, y_train_one, epochs=5, validation_data=(X_test, y_teste_one))\n",
    "    print(\" \")\n",
    "    val_accuracy.append(fit.history['val_accuracy'])\n",
    "    \n",
    "    index.append((train_index,test_index))"
   ]
  },
  {
   "cell_type": "code",
   "execution_count": 61,
   "metadata": {},
   "outputs": [
    {
     "name": "stdout",
     "output_type": "stream",
     "text": [
      " Fold: 0\t Ultimo valor acc: 0.46236559748649597\n",
      " Fold: 1\t Ultimo valor acc: 0.3978494703769684\n",
      " Fold: 2\t Ultimo valor acc: 0.38351255655288696\n",
      " Fold: 3\t Ultimo valor acc: 0.4301075339317322\n",
      " Fold: 4\t Ultimo valor acc: 0.4229390621185303\n",
      " Fold: 5\t Ultimo valor acc: 0.4265232980251312\n",
      " Fold: 6\t Ultimo valor acc: 0.41577062010765076\n",
      " Fold: 7\t Ultimo valor acc: 0.39208632707595825\n",
      " Fold: 8\t Ultimo valor acc: 0.3884892165660858\n",
      " Fold: 9\t Ultimo valor acc: 0.37050360441207886\n",
      "\n",
      " Média: 0.4090147286653519 \t Std: 0.026083133753362603\n"
     ]
    }
   ],
   "source": [
    "media_std(val_accuracy)"
   ]
  },
  {
   "cell_type": "code",
   "execution_count": 20,
   "metadata": {},
   "outputs": [
    {
     "name": "stdout",
     "output_type": "stream",
     "text": [
      "INFO:tensorflow:Reloading Oracle from existing project .\\text_classifier\\oracle.json\n",
      "INFO:tensorflow:Reloading Tuner from .\\text_classifier\\tuner0.json\n",
      "INFO:tensorflow:Oracle triggered exit\n",
      "Epoch 1/10\n",
      "61/61 [==============================] - 6s 96ms/step - loss: 0.6423 - accuracy: 0.3564 - val_loss: 0.6409 - val_accuracy: 0.3536\n",
      "Epoch 2/10\n",
      "61/61 [==============================] - 6s 92ms/step - loss: 0.6305 - accuracy: 0.3744 - val_loss: 0.6393 - val_accuracy: 0.3668\n",
      "Epoch 3/10\n",
      "61/61 [==============================] - 6s 100ms/step - loss: 0.6014 - accuracy: 0.5287 - val_loss: 0.6308 - val_accuracy: 0.3967\n",
      "Epoch 4/10\n",
      "61/61 [==============================] - 6s 95ms/step - loss: 0.4302 - accuracy: 0.7492 - val_loss: 0.7543 - val_accuracy: 0.3823\n",
      "Epoch 5/10\n",
      "61/61 [==============================] - 6s 93ms/step - loss: 0.1863 - accuracy: 0.9026 - val_loss: 0.9689 - val_accuracy: 0.3978\n",
      "Epoch 6/10\n",
      "61/61 [==============================] - 6s 95ms/step - loss: 0.0705 - accuracy: 0.9662 - val_loss: 1.2428 - val_accuracy: 0.3931\n",
      "Epoch 7/10\n",
      "61/61 [==============================] - 6s 92ms/step - loss: 0.0389 - accuracy: 0.9841 - val_loss: 1.3408 - val_accuracy: 0.3967\n",
      "Epoch 8/10\n",
      "61/61 [==============================] - 5s 89ms/step - loss: 0.0170 - accuracy: 0.9938 - val_loss: 1.5297 - val_accuracy: 0.4014\n",
      "Epoch 9/10\n",
      "61/61 [==============================] - 6s 92ms/step - loss: 0.0130 - accuracy: 0.9928 - val_loss: 1.6561 - val_accuracy: 0.3967\n",
      "Epoch 10/10\n",
      "61/61 [==============================] - 6s 91ms/step - loss: 0.0076 - accuracy: 0.9974 - val_loss: 1.7773 - val_accuracy: 0.4098\n",
      "WARNING:tensorflow:From c:\\users\\ddayv\\appdata\\local\\programs\\python\\python37\\lib\\site-packages\\tensorflow\\python\\training\\tracking\\tracking.py:111: Model.state_updates (from tensorflow.python.keras.engine.training) is deprecated and will be removed in a future version.\n",
      "Instructions for updating:\n",
      "This property should not be used in TensorFlow 2.0, as updates are applied automatically.\n",
      "WARNING:tensorflow:From c:\\users\\ddayv\\appdata\\local\\programs\\python\\python37\\lib\\site-packages\\tensorflow\\python\\training\\tracking\\tracking.py:111: Layer.updates (from tensorflow.python.keras.engine.base_layer) is deprecated and will be removed in a future version.\n",
      "Instructions for updating:\n",
      "This property should not be used in TensorFlow 2.0, as updates are applied automatically.\n",
      "INFO:tensorflow:Assets written to: .\\text_classifier\\best_model\\assets\n"
     ]
    }
   ],
   "source": [
    "TextClassifier = ak.TextClassifier(\n",
    "    num_classes=3, \n",
    "    multi_label=True, \n",
    "    loss=tf.keras.losses.categorical_crossentropy, \n",
    "    metrics=['accuracy'],\n",
    "    project_name=\"text_classifier\",\n",
    "    max_trials=1,\n",
    "    objective=\"val_loss\"\n",
    ")\n",
    "\n",
    "fit = TextClassifier.fit(\n",
    "    x=np.asarray(pre_X(X_train)), y=one.fit_transform(Y_train.reshape(-1,1)), epochs=10, validation_split=0.2, validation_data=(np.asarray(pre_X(X_test)),one.fit_transform(Y_test.reshape(-1,1)) )\n",
    ")"
   ]
  },
  {
   "cell_type": "code",
   "execution_count": null,
   "metadata": {},
   "outputs": [],
   "source": []
  }
 ],
 "metadata": {
  "colab": {
   "name": "RNN_tash.ipynb",
   "provenance": []
  },
  "kernelspec": {
   "display_name": "Python 3",
   "language": "python",
   "name": "python3"
  },
  "language_info": {
   "codemirror_mode": {
    "name": "ipython",
    "version": 3
   },
   "file_extension": ".py",
   "mimetype": "text/x-python",
   "name": "python",
   "nbconvert_exporter": "python",
   "pygments_lexer": "ipython3",
   "version": "3.7.9"
  }
 },
 "nbformat": 4,
 "nbformat_minor": 1
}
