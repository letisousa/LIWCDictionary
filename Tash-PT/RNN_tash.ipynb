{
  "nbformat": 4,
  "nbformat_minor": 0,
  "metadata": {
    "kernelspec": {
      "display_name": "Python 3",
      "language": "python",
      "name": "python3"
    },
    "language_info": {
      "codemirror_mode": {
        "name": "ipython",
        "version": 3
      },
      "file_extension": ".py",
      "mimetype": "text/x-python",
      "name": "python",
      "nbconvert_exporter": "python",
      "pygments_lexer": "ipython3",
      "version": "3.7.9"
    },
    "colab": {
      "name": "RNN_tash.ipynb",
      "provenance": []
    }
  },
  "cells": [
    {
      "cell_type": "code",
      "metadata": {
        "colab": {
          "base_uri": "https://localhost:8080/"
        },
        "id": "_UaspSeB3w-i",
        "outputId": "18caeaad-548b-439c-9e8c-54c3d4504b12"
      },
      "source": [
        "import pandas as pd\n",
        "import numpy as np\n",
        "import seaborn as sns\n",
        "import matplotlib.pyplot as plt\n",
        "\n",
        "import re\n",
        "import nltk\n",
        "from nltk import word_tokenize, RegexpTokenizer\n",
        "from nltk.corpus import stopwords, wordnet\n",
        "nltk.download('stopwords')\n",
        "nltk.download('wordnet')\n",
        "\n",
        "from sklearn.feature_extraction.text import CountVectorizer\n",
        "from sklearn.feature_extraction.text import TfidfTransformer\n",
        "from sklearn.naive_bayes import MultinomialNB\n",
        "from sklearn.model_selection import train_test_split\n",
        "from sklearn import metrics\n",
        "from sklearn.preprocessing import OneHotEncoder\n",
        "\n",
        "import tensorflow as tf\n",
        "from tensorflow.keras.layers.experimental.preprocessing import TextVectorization"
      ],
      "execution_count": 62,
      "outputs": [
        {
          "output_type": "stream",
          "text": [
            "[nltk_data] Downloading package stopwords to /root/nltk_data...\n",
            "[nltk_data]   Package stopwords is already up-to-date!\n",
            "[nltk_data] Downloading package wordnet to /root/nltk_data...\n",
            "[nltk_data]   Package wordnet is already up-to-date!\n"
          ],
          "name": "stdout"
        }
      ]
    },
    {
      "cell_type": "code",
      "metadata": {
        "colab": {
          "base_uri": "https://localhost:8080/",
          "height": 419
        },
        "id": "izIXiNQP3w-n",
        "outputId": "cd726343-8209-4bd2-fc62-6101ce2c7660"
      },
      "source": [
        "df = pd.read_csv(\"/content/tash-pt.csv\")\n",
        "df"
      ],
      "execution_count": 65,
      "outputs": [
        {
          "output_type": "execute_result",
          "data": {
            "text/html": [
              "<div>\n",
              "<style scoped>\n",
              "    .dataframe tbody tr th:only-of-type {\n",
              "        vertical-align: middle;\n",
              "    }\n",
              "\n",
              "    .dataframe tbody tr th {\n",
              "        vertical-align: top;\n",
              "    }\n",
              "\n",
              "    .dataframe thead th {\n",
              "        text-align: right;\n",
              "    }\n",
              "</style>\n",
              "<table border=\"1\" class=\"dataframe\">\n",
              "  <thead>\n",
              "    <tr style=\"text-align: right;\">\n",
              "      <th></th>\n",
              "      <th>id_twitter</th>\n",
              "      <th>sentiment</th>\n",
              "      <th>text</th>\n",
              "    </tr>\n",
              "  </thead>\n",
              "  <tbody>\n",
              "    <tr>\n",
              "      <th>0</th>\n",
              "      <td>1067856049821155334</td>\n",
              "      <td>1</td>\n",
              "      <td>@tchaugip @n00bona História vence técnica faci...</td>\n",
              "    </tr>\n",
              "    <tr>\n",
              "      <th>1</th>\n",
              "      <td>1070902848957964288</td>\n",
              "      <td>1</td>\n",
              "      <td>@camandis aa obrigado perfeito o seu timing ti...</td>\n",
              "    </tr>\n",
              "    <tr>\n",
              "      <th>2</th>\n",
              "      <td>1073158858925838336</td>\n",
              "      <td>0</td>\n",
              "      <td>moldura artística favorita entre filistinos al...</td>\n",
              "    </tr>\n",
              "    <tr>\n",
              "      <th>3</th>\n",
              "      <td>1073220881344856064</td>\n",
              "      <td>0</td>\n",
              "      <td>Minha cama tá no localizada no meio nesse mome...</td>\n",
              "    </tr>\n",
              "    <tr>\n",
              "      <th>4</th>\n",
              "      <td>1073347140334833664</td>\n",
              "      <td>0</td>\n",
              "      <td>@eueduramos o mundo so vai mudar quando as pes...</td>\n",
              "    </tr>\n",
              "    <tr>\n",
              "      <th>...</th>\n",
              "      <td>...</td>\n",
              "      <td>...</td>\n",
              "      <td>...</td>\n",
              "    </tr>\n",
              "    <tr>\n",
              "      <th>2782</th>\n",
              "      <td>1068599890761129985</td>\n",
              "      <td>-1</td>\n",
              "      <td>@PastorMalafaia Concordo com Prof Olavo de Car...</td>\n",
              "    </tr>\n",
              "    <tr>\n",
              "      <th>2783</th>\n",
              "      <td>1071376463230840833</td>\n",
              "      <td>-1</td>\n",
              "      <td>@ClaudiaLeitte se o clipe de saudade não for g...</td>\n",
              "    </tr>\n",
              "    <tr>\n",
              "      <th>2784</th>\n",
              "      <td>1073978880787181568</td>\n",
              "      <td>1</td>\n",
              "      <td>agr o ar vai ficar ligado 24 por 48</td>\n",
              "    </tr>\n",
              "    <tr>\n",
              "      <th>2785</th>\n",
              "      <td>1074925265980145666</td>\n",
              "      <td>0</td>\n",
              "      <td>e eu que no meio de tantos problemas ainda con...</td>\n",
              "    </tr>\n",
              "    <tr>\n",
              "      <th>2786</th>\n",
              "      <td>1071211276217606145</td>\n",
              "      <td>0</td>\n",
              "      <td>Ué ser gentil não é ser falso</td>\n",
              "    </tr>\n",
              "  </tbody>\n",
              "</table>\n",
              "<p>2787 rows × 3 columns</p>\n",
              "</div>"
            ],
            "text/plain": [
              "               id_twitter  ...                                               text\n",
              "0     1067856049821155334  ...  @tchaugip @n00bona História vence técnica faci...\n",
              "1     1070902848957964288  ...  @camandis aa obrigado perfeito o seu timing ti...\n",
              "2     1073158858925838336  ...  moldura artística favorita entre filistinos al...\n",
              "3     1073220881344856064  ...  Minha cama tá no localizada no meio nesse mome...\n",
              "4     1073347140334833664  ...  @eueduramos o mundo so vai mudar quando as pes...\n",
              "...                   ...  ...                                                ...\n",
              "2782  1068599890761129985  ...  @PastorMalafaia Concordo com Prof Olavo de Car...\n",
              "2783  1071376463230840833  ...  @ClaudiaLeitte se o clipe de saudade não for g...\n",
              "2784  1073978880787181568  ...                agr o ar vai ficar ligado 24 por 48\n",
              "2785  1074925265980145666  ...  e eu que no meio de tantos problemas ainda con...\n",
              "2786  1071211276217606145  ...                      Ué ser gentil não é ser falso\n",
              "\n",
              "[2787 rows x 3 columns]"
            ]
          },
          "metadata": {
            "tags": []
          },
          "execution_count": 65
        }
      ]
    },
    {
      "cell_type": "code",
      "metadata": {
        "id": "ETgkuk4z3w-q"
      },
      "source": [
        "df.isnull().sum()\n",
        "df = df.dropna()"
      ],
      "execution_count": 67,
      "outputs": []
    },
    {
      "cell_type": "code",
      "metadata": {
        "colab": {
          "base_uri": "https://localhost:8080/"
        },
        "id": "9D0uOJrY3w-s",
        "outputId": "f1454f99-416d-40b3-a50c-8634e5216af9"
      },
      "source": [
        "df = df.drop(columns=['id_twitter'])\n",
        "df['sentiment'].unique()"
      ],
      "execution_count": 68,
      "outputs": [
        {
          "output_type": "execute_result",
          "data": {
            "text/plain": [
              "array([ 1,  0, -1])"
            ]
          },
          "metadata": {
            "tags": []
          },
          "execution_count": 68
        }
      ]
    },
    {
      "cell_type": "code",
      "metadata": {
        "id": "HaW-b0Ei3w-s"
      },
      "source": [
        "df['sentiment'] = df['sentiment'].apply(lambda x: int(x))"
      ],
      "execution_count": 69,
      "outputs": []
    },
    {
      "cell_type": "code",
      "metadata": {
        "id": "Oy1kRbwv3w-t"
      },
      "source": [
        "tweet = df['text']\n",
        "sentiment = np.asarray(df['sentiment'])"
      ],
      "execution_count": 72,
      "outputs": []
    },
    {
      "cell_type": "code",
      "metadata": {
        "colab": {
          "base_uri": "https://localhost:8080/"
        },
        "id": "9KdlKQLF3w-t",
        "outputId": "1ed20a4d-e485-4ac8-b898-0d966eb6fce2"
      },
      "source": [
        "count_vect = CountVectorizer()\n",
        "X_train = count_vect.fit_transform(tweet)\n",
        "\n",
        "tfidf_transformer = TfidfTransformer()\n",
        "X_train_transform = tfidf_transformer.fit_transform(X_train) # Aplicando o TF-IDF\n",
        "X_train_transform.shape"
      ],
      "execution_count": 73,
      "outputs": [
        {
          "output_type": "execute_result",
          "data": {
            "text/plain": [
              "(2787, 12712)"
            ]
          },
          "metadata": {
            "tags": []
          },
          "execution_count": 73
        }
      ]
    },
    {
      "cell_type": "code",
      "metadata": {
        "colab": {
          "base_uri": "https://localhost:8080/"
        },
        "id": "fV9ycl8h3w-u",
        "outputId": "fd98680e-cb5d-4378-958d-b7bea60337d4"
      },
      "source": [
        "X_train, X_test, Y_train, Y_test = train_test_split(X_train_transform, sentiment, test_size=0.3)\n",
        "\n",
        "clf = MultinomialNB().fit(X_train, Y_train) # Aplicando naive bayes\n",
        "predicted = clf.predict(X_test)\n",
        "\n",
        "print(metrics.classification_report(Y_test, predicted))"
      ],
      "execution_count": 74,
      "outputs": [
        {
          "output_type": "stream",
          "text": [
            "              precision    recall  f1-score   support\n",
            "\n",
            "          -1       0.55      0.35      0.43       272\n",
            "           0       0.41      0.63      0.50       301\n",
            "           1       0.49      0.37      0.42       264\n",
            "\n",
            "    accuracy                           0.46       837\n",
            "   macro avg       0.48      0.45      0.45       837\n",
            "weighted avg       0.48      0.46      0.45       837\n",
            "\n"
          ],
          "name": "stdout"
        }
      ]
    },
    {
      "cell_type": "code",
      "metadata": {
        "id": "YG82jtLl3w-v"
      },
      "source": [
        "def pre_X(frases):\n",
        "    lista = []\n",
        "    \n",
        "    for frase in frases:\n",
        "        lista.append(frase)\n",
        "    return lista\n",
        "\n",
        "def pre_Y(number):\n",
        "    lista = []\n",
        "    \n",
        "    for numb in number:\n",
        "        lista.append(numb)\n",
        "    return lista"
      ],
      "execution_count": 75,
      "outputs": []
    },
    {
      "cell_type": "code",
      "metadata": {
        "id": "SX8ZcIix3w-v"
      },
      "source": [
        "#pré-processamento dos textos\n",
        "def set_array(frases):\n",
        "    \n",
        "    vocab = []\n",
        "    palavras = []\n",
        "    for frase in frases:\n",
        "        text_array = remove_user(frase)\n",
        "        text_array = Tokenize(text_array)\n",
        "        text_array = text_array.split(' ')\n",
        "        for i in range(len(text_array)):\n",
        "            vocab.append(text_array[i])\n",
        "    return vocab\n",
        "\n",
        "def Tokenize(f):  \n",
        "\n",
        "    f = f.lower().replace('\\n', '').replace('-','').replace('#','').replace('.','').replace(',','').replace('!','').replace('r\\n','').replace('  ','')\n",
        "    token = RegexpTokenizer(r\"\\w+\")\n",
        "    f = token.tokenize(f)\n",
        "    stop_words = set(stopwords.words('portuguese'))\n",
        "    new_word = [word for word in f if not word in stop_words]\n",
        "    return ' '.join(new_word)\n",
        "\n",
        "def remove_user(frase):\n",
        "    return re.sub('@\\w+','',frase)"
      ],
      "execution_count": 76,
      "outputs": []
    },
    {
      "cell_type": "code",
      "metadata": {
        "id": "zteKv_pu3w-w"
      },
      "source": [
        "model = tf.keras.Sequential([\n",
        "    tf.keras.layers.Dense(50, activation='relu'),\n",
        "    tf.keras.layers.Dropout(0.3),\n",
        "    tf.keras.layers.Dense(25, activation='relu'),\n",
        "    tf.keras.layers.Dropout(0.3),\n",
        "    tf.keras.layers.Dense(10, activation='tanh'),\n",
        "    tf.keras.layers.Dropout(0.2),\n",
        "    tf.keras.layers.Dense(3 , activation='softmax')\n",
        "])\n",
        "\n",
        "model.compile(\n",
        "    optimizer='adam',\n",
        "    loss=tf.keras.losses.categorical_crossentropy,\n",
        "    metrics=['accuracy']\n",
        ")"
      ],
      "execution_count": 77,
      "outputs": []
    },
    {
      "cell_type": "code",
      "metadata": {
        "colab": {
          "base_uri": "https://localhost:8080/"
        },
        "id": "YxNUsAkx3w-x",
        "outputId": "804f7664-a7d9-4b83-e65a-b5b31dbb9d1f"
      },
      "source": [
        "Tweet = Tweet.apply(remove_user)\n",
        "Tweet_preprocessed = Tweet.apply(Tokenize)\n",
        "\n",
        "count_vect = CountVectorizer()\n",
        "X_train = count_vect.fit_transform(Tweet_preprocessed)\n",
        "\n",
        "tfidf_transformer = TfidfTransformer()\n",
        "X_train_transform = tfidf_transformer.fit_transform(X_train) # Aplicando o TF-IDF\n",
        "\n",
        "\n",
        "X_train, X_test, Y_train, Y_test = train_test_split(X_train_transform, polarity, test_size=0.3)\n",
        "\n",
        "X_train"
      ],
      "execution_count": 78,
      "outputs": [
        {
          "output_type": "execute_result",
          "data": {
            "text/plain": [
              "<1950x11553 sparse matrix of type '<class 'numpy.float64'>'\n",
              "\twith 24075 stored elements in Compressed Sparse Row format>"
            ]
          },
          "metadata": {
            "tags": []
          },
          "execution_count": 78
        }
      ]
    },
    {
      "cell_type": "code",
      "metadata": {
        "colab": {
          "base_uri": "https://localhost:8080/"
        },
        "id": "fmwqZr5M3w-y",
        "outputId": "c411537a-87e1-4ec1-b973-3f20b21316ca"
      },
      "source": [
        "X_test"
      ],
      "execution_count": 79,
      "outputs": [
        {
          "output_type": "execute_result",
          "data": {
            "text/plain": [
              "<837x11553 sparse matrix of type '<class 'numpy.float64'>'\n",
              "\twith 10226 stored elements in Compressed Sparse Row format>"
            ]
          },
          "metadata": {
            "tags": []
          },
          "execution_count": 79
        }
      ]
    },
    {
      "cell_type": "code",
      "metadata": {
        "id": "b7gR2N263w-z"
      },
      "source": [
        "one = OneHotEncoder(sparse=False)\n",
        "\n",
        "y_one = one.fit_transform(Y_train.reshape(-1,1))"
      ],
      "execution_count": 80,
      "outputs": []
    },
    {
      "cell_type": "code",
      "metadata": {
        "colab": {
          "base_uri": "https://localhost:8080/"
        },
        "id": "21VfdXzX3w-z",
        "outputId": "f90de57c-bbee-4f80-e643-e8042df8467d"
      },
      "source": [
        "fit = model.fit(X_train.todense(), y_one, epochs=25, validation_data=(X_test.todense(), one.transform(Y_test.reshape(-1,1))))"
      ],
      "execution_count": 81,
      "outputs": [
        {
          "output_type": "stream",
          "text": [
            "Epoch 1/25\n",
            "61/61 [==============================] - 1s 11ms/step - loss: 1.0992 - accuracy: 0.3110 - val_loss: 1.0951 - val_accuracy: 0.3692\n",
            "Epoch 2/25\n",
            "61/61 [==============================] - 0s 8ms/step - loss: 1.0836 - accuracy: 0.3905 - val_loss: 1.0826 - val_accuracy: 0.4050\n",
            "Epoch 3/25\n",
            "61/61 [==============================] - 1s 9ms/step - loss: 0.9793 - accuracy: 0.5645 - val_loss: 1.0885 - val_accuracy: 0.3823\n",
            "Epoch 4/25\n",
            "61/61 [==============================] - 1s 8ms/step - loss: 0.6718 - accuracy: 0.7118 - val_loss: 1.2409 - val_accuracy: 0.3883\n",
            "Epoch 5/25\n",
            "61/61 [==============================] - 1s 8ms/step - loss: 0.4924 - accuracy: 0.8278 - val_loss: 1.3664 - val_accuracy: 0.4122\n",
            "Epoch 6/25\n",
            "61/61 [==============================] - 0s 8ms/step - loss: 0.3153 - accuracy: 0.9160 - val_loss: 1.5248 - val_accuracy: 0.4134\n",
            "Epoch 7/25\n",
            "61/61 [==============================] - 0s 8ms/step - loss: 0.1649 - accuracy: 0.9702 - val_loss: 1.6689 - val_accuracy: 0.4122\n",
            "Epoch 8/25\n",
            "61/61 [==============================] - 1s 8ms/step - loss: 0.1006 - accuracy: 0.9873 - val_loss: 1.8627 - val_accuracy: 0.4098\n",
            "Epoch 9/25\n",
            "61/61 [==============================] - 1s 8ms/step - loss: 0.0588 - accuracy: 0.9915 - val_loss: 2.0033 - val_accuracy: 0.4062\n",
            "Epoch 10/25\n",
            "61/61 [==============================] - 0s 8ms/step - loss: 0.0454 - accuracy: 0.9949 - val_loss: 2.0971 - val_accuracy: 0.4002\n",
            "Epoch 11/25\n",
            "61/61 [==============================] - 1s 8ms/step - loss: 0.0307 - accuracy: 0.9984 - val_loss: 2.2034 - val_accuracy: 0.4146\n",
            "Epoch 12/25\n",
            "61/61 [==============================] - 0s 8ms/step - loss: 0.0272 - accuracy: 0.9975 - val_loss: 2.3036 - val_accuracy: 0.4026\n",
            "Epoch 13/25\n",
            "61/61 [==============================] - 0s 8ms/step - loss: 0.0177 - accuracy: 0.9995 - val_loss: 2.3842 - val_accuracy: 0.4062\n",
            "Epoch 14/25\n",
            "61/61 [==============================] - 0s 8ms/step - loss: 0.0173 - accuracy: 0.9996 - val_loss: 2.4617 - val_accuracy: 0.4122\n",
            "Epoch 15/25\n",
            "61/61 [==============================] - 0s 8ms/step - loss: 0.0156 - accuracy: 0.9991 - val_loss: 2.5377 - val_accuracy: 0.4146\n",
            "Epoch 16/25\n",
            "61/61 [==============================] - 0s 8ms/step - loss: 0.0161 - accuracy: 0.9983 - val_loss: 2.6084 - val_accuracy: 0.4074\n",
            "Epoch 17/25\n",
            "61/61 [==============================] - 0s 8ms/step - loss: 0.0170 - accuracy: 0.9985 - val_loss: 2.6816 - val_accuracy: 0.4050\n",
            "Epoch 18/25\n",
            "61/61 [==============================] - 1s 9ms/step - loss: 0.0126 - accuracy: 0.9994 - val_loss: 2.7401 - val_accuracy: 0.4086\n",
            "Epoch 19/25\n",
            "61/61 [==============================] - 1s 9ms/step - loss: 0.0105 - accuracy: 1.0000 - val_loss: 2.8234 - val_accuracy: 0.4038\n",
            "Epoch 20/25\n",
            "61/61 [==============================] - 0s 8ms/step - loss: 0.0100 - accuracy: 0.9997 - val_loss: 2.8568 - val_accuracy: 0.4110\n",
            "Epoch 21/25\n",
            "61/61 [==============================] - 0s 8ms/step - loss: 0.0083 - accuracy: 0.9997 - val_loss: 2.9056 - val_accuracy: 0.4134\n",
            "Epoch 22/25\n",
            "61/61 [==============================] - 1s 8ms/step - loss: 0.0072 - accuracy: 0.9999 - val_loss: 2.9409 - val_accuracy: 0.4134\n",
            "Epoch 23/25\n",
            "61/61 [==============================] - 1s 8ms/step - loss: 0.0079 - accuracy: 0.9994 - val_loss: 3.0135 - val_accuracy: 0.4026\n",
            "Epoch 24/25\n",
            "61/61 [==============================] - 0s 8ms/step - loss: 0.0070 - accuracy: 0.9999 - val_loss: 3.0299 - val_accuracy: 0.4098\n",
            "Epoch 25/25\n",
            "61/61 [==============================] - 1s 9ms/step - loss: 0.0073 - accuracy: 0.9981 - val_loss: 3.0770 - val_accuracy: 0.4182\n"
          ],
          "name": "stdout"
        }
      ]
    },
    {
      "cell_type": "code",
      "metadata": {
        "scrolled": true,
        "colab": {
          "base_uri": "https://localhost:8080/",
          "height": 374
        },
        "id": "7pFMULgM3w-0",
        "outputId": "fda86f3c-49c0-41bf-bbf2-8d7b0bc50f76"
      },
      "source": [
        "plt.figure(figsize=(12,6))\n",
        "plt.plot(fit.history['loss'], label='Loss', color='darkred')\n",
        "plt.plot(fit.history['val_loss'], label='Val Loss', color='green')\n",
        "plt.legend()\n",
        "plt.ylabel('Loss')\n",
        "plt.show()"
      ],
      "execution_count": 82,
      "outputs": [
        {
          "output_type": "display_data",
          "data": {
            "image/png": "[encoded data removed]",
            "text/plain": [
              "<Figure size 864x432 with 1 Axes>"
            ]
          },
          "metadata": {
            "tags": [],
            "needs_background": "light"
          }
        }
      ]
    },
    {
      "cell_type": "code",
      "metadata": {
        "colab": {
          "base_uri": "https://localhost:8080/",
          "height": 374
        },
        "id": "muiZlmos3w-0",
        "outputId": "aa8dc3ce-7bcf-4f09-8226-72980db94acd"
      },
      "source": [
        "plt.figure(figsize=(12,6))\n",
        "plt.plot(fit.history['accuracy'], label='accuracy', color='darkred')\n",
        "plt.plot(fit.history['val_accuracy'], label='Val accuracy', color='green')\n",
        "plt.legend()\n",
        "plt.ylabel('Accuracy')\n",
        "plt.show()"
      ],
      "execution_count": 83,
      "outputs": [
        {
          "output_type": "display_data",
          "data": {
            "image/png": "[encoded data removed]",
            "text/plain": [
              "<Figure size 864x432 with 1 Axes>"
            ]
          },
          "metadata": {
            "tags": [],
            "needs_background": "light"
          }
        }
      ]
    },
    {
      "cell_type": "code",
      "metadata": {
        "colab": {
          "base_uri": "https://localhost:8080/"
        },
        "id": "RlmGPp4x3w-1",
        "outputId": "44e54fe3-97b2-4799-bee4-05d103fe8f15"
      },
      "source": [
        "acc = model.evaluate(X_test.todense(), one.transform(Y_test.reshape(-1,1)))"
      ],
      "execution_count": 84,
      "outputs": [
        {
          "output_type": "stream",
          "text": [
            "27/27 [==============================] - 0s 3ms/step - loss: 3.0770 - accuracy: 0.4182\n"
          ],
          "name": "stdout"
        }
      ]
    },
    {
      "cell_type": "code",
      "metadata": {
        "colab": {
          "base_uri": "https://localhost:8080/"
        },
        "id": "NU-kW-xh3w-1",
        "outputId": "fad55cf1-9ddb-465b-a352-4120c49c58ab"
      },
      "source": [
        "vectorize_layer = TextVectorization(\n",
        " max_tokens=15000,\n",
        " output_mode='int',\n",
        " output_sequence_length=len(max(df['text'])))\n",
        "\n",
        "vocab = set_array(df['text'])\n",
        "\n",
        "vectorize_layer.adapt(np.unique(vocab))\n",
        "len(vectorize_layer.get_vocabulary())\n"
      ],
      "execution_count": 85,
      "outputs": [
        {
          "output_type": "execute_result",
          "data": {
            "text/plain": [
              "11590"
            ]
          },
          "metadata": {
            "tags": []
          },
          "execution_count": 85
        }
      ]
    },
    {
      "cell_type": "code",
      "metadata": {
        "id": "PXWIf2Q13w-2"
      },
      "source": [
        "model = tf.keras.Sequential([\n",
        "    vectorize_layer,\n",
        "    tf.keras.layers.Embedding(\n",
        "        input_dim=len(vectorize_layer.get_vocabulary()),\n",
        "        output_dim=64,mask_zero=True),\n",
        "    \n",
        "    tf.keras.layers.LSTM(50, activation='relu' ,return_sequences=True),\n",
        "    tf.keras.layers.Dropout(0.3),\n",
        "    \n",
        "    tf.keras.layers.LSTM(25 , activation='tanh', return_sequences=True),\n",
        "    tf.keras.layers.Dropout(0.3),\n",
        "    \n",
        "    tf.keras.layers.LSTM(10 , activation='tanh'),\n",
        "    tf.keras.layers.Dropout(0.2),\n",
        "    \n",
        "    tf.keras.layers.Dense(3, activation='softmax')\n",
        "])\n",
        "\n",
        "\n",
        "model.compile(\n",
        "    optimizer= tf.keras.optimizers.Adam(),\n",
        "    loss=tf.keras.losses.categorical_crossentropy,\n",
        "    metrics=['accuracy']\n",
        ")"
      ],
      "execution_count": 86,
      "outputs": []
    },
    {
      "cell_type": "code",
      "metadata": {
        "id": "h5Xn3hAe3w-2"
      },
      "source": [
        "X_train, X_test, Y_train, Y_test = train_test_split(Tweet_preprocessed, polarity, test_size=0.3)"
      ],
      "execution_count": 87,
      "outputs": []
    },
    {
      "cell_type": "code",
      "metadata": {
        "id": "V6tZ7p4l3w-2"
      },
      "source": [
        "y_one = one.fit_transform(Y_train.reshape(-1,1))"
      ],
      "execution_count": 88,
      "outputs": []
    },
    {
      "cell_type": "code",
      "metadata": {
        "colab": {
          "base_uri": "https://localhost:8080/"
        },
        "id": "GKcebTV93w-3",
        "outputId": "51992371-8a64-4e73-ae37-ff976be45447"
      },
      "source": [
        "fit = model.fit(np.asarray(pre_X(X_train)), y_one, epochs=20, batch_size=128 ,validation_data=(np.asarray(pre_X(X_test)), one.transform(Y_test.reshape(-1,1))))"
      ],
      "execution_count": 89,
      "outputs": [
        {
          "output_type": "stream",
          "text": [
            "Epoch 1/20\n",
            "16/16 [==============================] - 18s 419ms/step - loss: 1.0988 - accuracy: 0.3302 - val_loss: 1.0963 - val_accuracy: 0.3835\n",
            "Epoch 2/20\n",
            "16/16 [==============================] - 3s 192ms/step - loss: 1.0952 - accuracy: 0.3623 - val_loss: 1.0929 - val_accuracy: 0.3835\n",
            "Epoch 3/20\n",
            "16/16 [==============================] - 3s 191ms/step - loss: 1.0830 - accuracy: 0.3725 - val_loss: 1.0786 - val_accuracy: 0.3895\n",
            "Epoch 4/20\n",
            "16/16 [==============================] - 3s 191ms/step - loss: 0.9691 - accuracy: 0.5787 - val_loss: 1.1798 - val_accuracy: 0.4086\n",
            "Epoch 5/20\n",
            "16/16 [==============================] - 3s 191ms/step - loss: 0.7006 - accuracy: 0.7565 - val_loss: 1.3540 - val_accuracy: 0.4050\n",
            "Epoch 6/20\n",
            "16/16 [==============================] - 3s 190ms/step - loss: 0.5496 - accuracy: 0.8406 - val_loss: 1.4750 - val_accuracy: 0.3955\n",
            "Epoch 7/20\n",
            "16/16 [==============================] - 3s 190ms/step - loss: 0.4520 - accuracy: 0.8715 - val_loss: 1.5555 - val_accuracy: 0.4122\n",
            "Epoch 8/20\n",
            "16/16 [==============================] - 3s 189ms/step - loss: 0.3173 - accuracy: 0.9318 - val_loss: 1.7321 - val_accuracy: 0.3967\n",
            "Epoch 9/20\n",
            "16/16 [==============================] - 3s 188ms/step - loss: 0.2755 - accuracy: 0.9308 - val_loss: 1.8462 - val_accuracy: 0.3955\n",
            "Epoch 10/20\n",
            "16/16 [==============================] - 3s 188ms/step - loss: 0.2153 - accuracy: 0.9545 - val_loss: 1.9300 - val_accuracy: 0.3823\n",
            "Epoch 11/20\n",
            "16/16 [==============================] - 3s 202ms/step - loss: 0.1657 - accuracy: 0.9669 - val_loss: 2.0995 - val_accuracy: 0.3907\n",
            "Epoch 12/20\n",
            "16/16 [==============================] - 3s 190ms/step - loss: 0.1381 - accuracy: 0.9754 - val_loss: 2.2243 - val_accuracy: 0.3931\n",
            "Epoch 13/20\n",
            "16/16 [==============================] - 3s 190ms/step - loss: 0.1135 - accuracy: 0.9827 - val_loss: 2.3352 - val_accuracy: 0.3955\n",
            "Epoch 14/20\n",
            "16/16 [==============================] - 3s 213ms/step - loss: 0.1365 - accuracy: 0.9727 - val_loss: 2.3540 - val_accuracy: 0.3931\n",
            "Epoch 15/20\n",
            "16/16 [==============================] - 3s 191ms/step - loss: 0.1397 - accuracy: 0.9735 - val_loss: 2.4218 - val_accuracy: 0.3967\n",
            "Epoch 16/20\n",
            "16/16 [==============================] - 3s 190ms/step - loss: 0.1518 - accuracy: 0.9700 - val_loss: 2.4228 - val_accuracy: 0.3978\n",
            "Epoch 17/20\n",
            "16/16 [==============================] - 3s 213ms/step - loss: 0.1004 - accuracy: 0.9792 - val_loss: 2.4845 - val_accuracy: 0.3883\n",
            "Epoch 18/20\n",
            "16/16 [==============================] - 3s 191ms/step - loss: 0.0964 - accuracy: 0.9830 - val_loss: 2.5429 - val_accuracy: 0.3990\n",
            "Epoch 19/20\n",
            "16/16 [==============================] - 3s 191ms/step - loss: 0.0857 - accuracy: 0.9826 - val_loss: 2.6070 - val_accuracy: 0.4026\n",
            "Epoch 20/20\n",
            "16/16 [==============================] - 3s 189ms/step - loss: 0.0706 - accuracy: 0.9890 - val_loss: 2.6911 - val_accuracy: 0.3967\n"
          ],
          "name": "stdout"
        }
      ]
    },
    {
      "cell_type": "code",
      "metadata": {
        "colab": {
          "base_uri": "https://localhost:8080/",
          "height": 374
        },
        "id": "KC_lGn2n3w-3",
        "outputId": "022305f5-f649-4c44-e22c-216b209db10b"
      },
      "source": [
        "plt.figure(figsize=(12,6))\n",
        "plt.plot(fit.history['loss'], label='Loss', color='darkred')\n",
        "plt.plot(fit.history['val_loss'], label='Val Loss', color='green')\n",
        "plt.legend()\n",
        "plt.grid()\n",
        "plt.ylabel('Loss')\n",
        "plt.show()"
      ],
      "execution_count": 90,
      "outputs": [
        {
          "output_type": "display_data",
          "data": {
            "image/png": "[encoded data removed]",
            "text/plain": [
              "<Figure size 864x432 with 1 Axes>"
            ]
          },
          "metadata": {
            "tags": [],
            "needs_background": "light"
          }
        }
      ]
    },
    {
      "cell_type": "code",
      "metadata": {
        "colab": {
          "base_uri": "https://localhost:8080/",
          "height": 374
        },
        "id": "Y6Fd5BXZ3w-4",
        "outputId": "28c77b83-f770-46bf-cb67-af7eab326d51"
      },
      "source": [
        "plt.figure(figsize=(12,6))\n",
        "plt.plot(fit.history['accuracy'], label='accuracy', color='darkred')\n",
        "plt.plot(fit.history['val_accuracy'], label='Val accuracy', color='green')\n",
        "plt.legend()\n",
        "plt.grid()\n",
        "plt.ylabel('Accuracy')\n",
        "plt.show()"
      ],
      "execution_count": 91,
      "outputs": [
        {
          "output_type": "display_data",
          "data": {
            "image/png": "[encoded data removed]",
            "text/plain": [
              "<Figure size 864x432 with 1 Axes>"
            ]
          },
          "metadata": {
            "tags": [],
            "needs_background": "light"
          }
        }
      ]
    },
    {
      "cell_type": "code",
      "metadata": {
        "colab": {
          "base_uri": "https://localhost:8080/"
        },
        "id": "gh21KQ1m3w-4",
        "outputId": "ab0d89dc-5e2b-4e0e-d077-81d8a1db34bf"
      },
      "source": [
        "acc = model.evaluate(np.asarray(pre_X(X_test)), one.transform(Y_test.reshape(-1,1)))"
      ],
      "execution_count": 92,
      "outputs": [
        {
          "output_type": "stream",
          "text": [
            "27/27 [==============================] - 1s 26ms/step - loss: 2.6911 - accuracy: 0.3967\n"
          ],
          "name": "stdout"
        }
      ]
    }
  ]
}