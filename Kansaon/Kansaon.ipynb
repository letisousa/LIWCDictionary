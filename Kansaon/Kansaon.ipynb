{
 "cells": [
  {
   "cell_type": "code",
   "execution_count": 1,
   "metadata": {},
   "outputs": [
    {
     "name": "stderr",
     "output_type": "stream",
     "text": [
      "[nltk_data] Downloading package stopwords to\n",
      "[nltk_data]     C:\\Users\\ddayv\\AppData\\Roaming\\nltk_data...\n",
      "[nltk_data]   Package stopwords is already up-to-date!\n",
      "[nltk_data] Downloading package wordnet to\n",
      "[nltk_data]     C:\\Users\\ddayv\\AppData\\Roaming\\nltk_data...\n",
      "[nltk_data]   Package wordnet is already up-to-date!\n"
     ]
    },
    {
     "data": {
      "text/plain": [
       "True"
      ]
     },
     "execution_count": 1,
     "metadata": {},
     "output_type": "execute_result"
    }
   ],
   "source": [
    "from nltk import word_tokenize, RegexpTokenizer\n",
    "from nltk.corpus import stopwords, wordnet\n",
    "from sklearn.naive_bayes import MultinomialNB\n",
    "from sklearn.model_selection import train_test_split\n",
    "from sklearn.feature_extraction.text import CountVectorizer\n",
    "from sklearn.feature_extraction.text import TfidfTransformer\n",
    "import tensorflow as tf\n",
    "from tensorflow.keras.layers.experimental.preprocessing import TextVectorization\n",
    "import matplotlib.pyplot as plt\n",
    "from sklearn.model_selection import KFold\n",
    "from sklearn.metrics import classification_report\n",
    "import numpy as np\n",
    "import pandas as pd\n",
    "import re\n",
    "import nltk\n",
    "nltk.download('stopwords')\n",
    "nltk.download('wordnet')"
   ]
  },
  {
   "cell_type": "code",
   "execution_count": 2,
   "metadata": {},
   "outputs": [],
   "source": [
    "#df = pd.read_csv(\"SOMENTE DADOS BRUTOS(NOVO).txt\", encoding='utf-16')\n",
    "df = pd.read_csv(\"data.txt\", sep=',', header=None, names=['text','sentiment'])"
   ]
  },
  {
   "cell_type": "code",
   "execution_count": 3,
   "metadata": {},
   "outputs": [
    {
     "data": {
      "text/html": [
       "<div>\n",
       "<style scoped>\n",
       "    .dataframe tbody tr th:only-of-type {\n",
       "        vertical-align: middle;\n",
       "    }\n",
       "\n",
       "    .dataframe tbody tr th {\n",
       "        vertical-align: top;\n",
       "    }\n",
       "\n",
       "    .dataframe thead th {\n",
       "        text-align: right;\n",
       "    }\n",
       "</style>\n",
       "<table border=\"1\" class=\"dataframe\">\n",
       "  <thead>\n",
       "    <tr style=\"text-align: right;\">\n",
       "      <th></th>\n",
       "      <th>text</th>\n",
       "      <th>sentiment</th>\n",
       "    </tr>\n",
       "  </thead>\n",
       "  <tbody>\n",
       "    <tr>\n",
       "      <th>0</th>\n",
       "      <td>RT @tirunjr: já pensou presentear sua tia quer...</td>\n",
       "      <td>#Feliz</td>\n",
       "    </tr>\n",
       "    <tr>\n",
       "      <th>1</th>\n",
       "      <td>já pensou presentear sua tia querida no amigo ...</td>\n",
       "      <td>#Feliz</td>\n",
       "    </tr>\n",
       "    <tr>\n",
       "      <th>2</th>\n",
       "      <td>RT @BTSONCHAT: nam: hoje no shopping com o ani...</td>\n",
       "      <td>#Feliz</td>\n",
       "    </tr>\n",
       "    <tr>\n",
       "      <th>3</th>\n",
       "      <td>Lindo Sabadoooo 🎀ECoracao  #Hola #Sabado #Lind...</td>\n",
       "      <td>#Feliz</td>\n",
       "    </tr>\n",
       "    <tr>\n",
       "      <th>4</th>\n",
       "      <td>Se um minuto do seu lado já me deixa #feliz, i...</td>\n",
       "      <td>#Feliz</td>\n",
       "    </tr>\n",
       "    <tr>\n",
       "      <th>...</th>\n",
       "      <td>...</td>\n",
       "      <td>...</td>\n",
       "    </tr>\n",
       "    <tr>\n",
       "      <th>11417</th>\n",
       "      <td>muito ruim ficar sem óculos #triste</td>\n",
       "      <td>#Triste</td>\n",
       "    </tr>\n",
       "    <tr>\n",
       "      <th>11418</th>\n",
       "      <td>#TRISTE     |   #RN  Mulher morre após ser bal...</td>\n",
       "      <td>#Triste</td>\n",
       "    </tr>\n",
       "    <tr>\n",
       "      <th>11419</th>\n",
       "      <td>meu nenê ta bravo #triste</td>\n",
       "      <td>#Triste</td>\n",
       "    </tr>\n",
       "    <tr>\n",
       "      <th>11420</th>\n",
       "      <td>RT @crazycatladybr: O discurso de na saúde e n...</td>\n",
       "      <td>#Triste</td>\n",
       "    </tr>\n",
       "    <tr>\n",
       "      <th>11421</th>\n",
       "      <td>Parece! #Triste {https}://t.co/6Q4rzJfdlL</td>\n",
       "      <td>#Triste</td>\n",
       "    </tr>\n",
       "  </tbody>\n",
       "</table>\n",
       "<p>11422 rows × 2 columns</p>\n",
       "</div>"
      ],
      "text/plain": [
       "                                                    text sentiment\n",
       "0      RT @tirunjr: já pensou presentear sua tia quer...    #Feliz\n",
       "1      já pensou presentear sua tia querida no amigo ...    #Feliz\n",
       "2      RT @BTSONCHAT: nam: hoje no shopping com o ani...    #Feliz\n",
       "3      Lindo Sabadoooo 🎀ECoracao  #Hola #Sabado #Lind...    #Feliz\n",
       "4      Se um minuto do seu lado já me deixa #feliz, i...    #Feliz\n",
       "...                                                  ...       ...\n",
       "11417                muito ruim ficar sem óculos #triste   #Triste\n",
       "11418  #TRISTE     |   #RN  Mulher morre após ser bal...   #Triste\n",
       "11419                          meu nenê ta bravo #triste   #Triste\n",
       "11420  RT @crazycatladybr: O discurso de na saúde e n...   #Triste\n",
       "11421          Parece! #Triste {https}://t.co/6Q4rzJfdlL   #Triste\n",
       "\n",
       "[11422 rows x 2 columns]"
      ]
     },
     "execution_count": 3,
     "metadata": {},
     "output_type": "execute_result"
    }
   ],
   "source": [
    "df"
   ]
  },
  {
   "cell_type": "code",
   "execution_count": 4,
   "metadata": {},
   "outputs": [
    {
     "data": {
      "text/plain": [
       "text         0\n",
       "sentiment    0\n",
       "dtype: int64"
      ]
     },
     "execution_count": 4,
     "metadata": {},
     "output_type": "execute_result"
    }
   ],
   "source": [
    "df.isnull().sum()"
   ]
  },
  {
   "cell_type": "code",
   "execution_count": 5,
   "metadata": {},
   "outputs": [
    {
     "data": {
      "text/plain": [
       "array(['#Feliz', '#Chateado', '#Inveja', '#Ironia', '#Raiva', '#Triste',\n",
       "       '#Amor'], dtype=object)"
      ]
     },
     "execution_count": 5,
     "metadata": {},
     "output_type": "execute_result"
    }
   ],
   "source": [
    "df['sentiment'].unique() #amor e feliz = 1 , triste e chateado = -1"
   ]
  },
  {
   "cell_type": "code",
   "execution_count": 6,
   "metadata": {},
   "outputs": [
    {
     "data": {
      "text/html": [
       "<div>\n",
       "<style scoped>\n",
       "    .dataframe tbody tr th:only-of-type {\n",
       "        vertical-align: middle;\n",
       "    }\n",
       "\n",
       "    .dataframe tbody tr th {\n",
       "        vertical-align: top;\n",
       "    }\n",
       "\n",
       "    .dataframe thead th {\n",
       "        text-align: right;\n",
       "    }\n",
       "</style>\n",
       "<table border=\"1\" class=\"dataframe\">\n",
       "  <thead>\n",
       "    <tr style=\"text-align: right;\">\n",
       "      <th></th>\n",
       "      <th>text</th>\n",
       "      <th>sentiment</th>\n",
       "    </tr>\n",
       "  </thead>\n",
       "  <tbody>\n",
       "    <tr>\n",
       "      <th>171</th>\n",
       "      <td>Aiiiii que ódioooo da Bruna Lombardi! ESorride...</td>\n",
       "      <td>#Inveja</td>\n",
       "    </tr>\n",
       "    <tr>\n",
       "      <th>172</th>\n",
       "      <td>Tem gente q a vontade é perguntar: vc imaginav...</td>\n",
       "      <td>#Inveja</td>\n",
       "    </tr>\n",
       "    <tr>\n",
       "      <th>173</th>\n",
       "      <td>Tá todo mundo pulando de bungee jump hj... tbe...</td>\n",
       "      <td>#Inveja</td>\n",
       "    </tr>\n",
       "    <tr>\n",
       "      <th>174</th>\n",
       "      <td>@T7agoxOficial Mano tu n gostas pk es hater e ...</td>\n",
       "      <td>#Inveja</td>\n",
       "    </tr>\n",
       "    <tr>\n",
       "      <th>175</th>\n",
       "      <td>RT @IPompermayer: @guszavo @EuRobo36 @cartamai...</td>\n",
       "      <td>#Inveja</td>\n",
       "    </tr>\n",
       "    <tr>\n",
       "      <th>...</th>\n",
       "      <td>...</td>\n",
       "      <td>...</td>\n",
       "    </tr>\n",
       "    <tr>\n",
       "      <th>11152</th>\n",
       "      <td>A melhor forma de calar #fofoca , #inveja, #vi...</td>\n",
       "      <td>#Inveja</td>\n",
       "    </tr>\n",
       "    <tr>\n",
       "      <th>11153</th>\n",
       "      <td>Fizeram uma lista na escola da minha irmã e el...</td>\n",
       "      <td>#Inveja</td>\n",
       "    </tr>\n",
       "    <tr>\n",
       "      <th>11154</th>\n",
       "      <td>@umeoitentae1 @manodevitto Fofa, fica meio est...</td>\n",
       "      <td>#Inveja</td>\n",
       "    </tr>\n",
       "    <tr>\n",
       "      <th>11155</th>\n",
       "      <td>Não precisa ter muito , nego #Inveja até o pou...</td>\n",
       "      <td>#Inveja</td>\n",
       "    </tr>\n",
       "    <tr>\n",
       "      <th>11156</th>\n",
       "      <td>@ssantana542 pena que ninguem te pergunto nada...</td>\n",
       "      <td>#Inveja</td>\n",
       "    </tr>\n",
       "  </tbody>\n",
       "</table>\n",
       "<p>869 rows × 2 columns</p>\n",
       "</div>"
      ],
      "text/plain": [
       "                                                    text sentiment\n",
       "171    Aiiiii que ódioooo da Bruna Lombardi! ESorride...   #Inveja\n",
       "172    Tem gente q a vontade é perguntar: vc imaginav...   #Inveja\n",
       "173    Tá todo mundo pulando de bungee jump hj... tbe...   #Inveja\n",
       "174    @T7agoxOficial Mano tu n gostas pk es hater e ...   #Inveja\n",
       "175    RT @IPompermayer: @guszavo @EuRobo36 @cartamai...   #Inveja\n",
       "...                                                  ...       ...\n",
       "11152  A melhor forma de calar #fofoca , #inveja, #vi...   #Inveja\n",
       "11153  Fizeram uma lista na escola da minha irmã e el...   #Inveja\n",
       "11154  @umeoitentae1 @manodevitto Fofa, fica meio est...   #Inveja\n",
       "11155  Não precisa ter muito , nego #Inveja até o pou...   #Inveja\n",
       "11156  @ssantana542 pena que ninguem te pergunto nada...   #Inveja\n",
       "\n",
       "[869 rows x 2 columns]"
      ]
     },
     "execution_count": 6,
     "metadata": {},
     "output_type": "execute_result"
    }
   ],
   "source": [
    "df[df['sentiment'] == '#Inveja']"
   ]
  },
  {
   "cell_type": "code",
   "execution_count": 7,
   "metadata": {},
   "outputs": [],
   "source": [
    "df_remove = df[df['sentiment'] == '#Inveja'].index\n",
    "df = df.drop(df_remove)\n",
    "\n",
    "df_remove = df[df['sentiment'] == '#Raiva'].index\n",
    "df = df.drop(df_remove)\n",
    "\n",
    "df_remove = df[df['sentiment'] == '#Ironia'].index\n",
    "df = df.drop(df_remove)"
   ]
  },
  {
   "cell_type": "code",
   "execution_count": 8,
   "metadata": {},
   "outputs": [
    {
     "data": {
      "text/html": [
       "<div>\n",
       "<style scoped>\n",
       "    .dataframe tbody tr th:only-of-type {\n",
       "        vertical-align: middle;\n",
       "    }\n",
       "\n",
       "    .dataframe tbody tr th {\n",
       "        vertical-align: top;\n",
       "    }\n",
       "\n",
       "    .dataframe thead th {\n",
       "        text-align: right;\n",
       "    }\n",
       "</style>\n",
       "<table border=\"1\" class=\"dataframe\">\n",
       "  <thead>\n",
       "    <tr style=\"text-align: right;\">\n",
       "      <th></th>\n",
       "      <th>text</th>\n",
       "      <th>sentiment</th>\n",
       "    </tr>\n",
       "  </thead>\n",
       "  <tbody>\n",
       "    <tr>\n",
       "      <th>0</th>\n",
       "      <td>RT @tirunjr: já pensou presentear sua tia quer...</td>\n",
       "      <td>#Feliz</td>\n",
       "    </tr>\n",
       "    <tr>\n",
       "      <th>1</th>\n",
       "      <td>já pensou presentear sua tia querida no amigo ...</td>\n",
       "      <td>#Feliz</td>\n",
       "    </tr>\n",
       "    <tr>\n",
       "      <th>2</th>\n",
       "      <td>RT @BTSONCHAT: nam: hoje no shopping com o ani...</td>\n",
       "      <td>#Feliz</td>\n",
       "    </tr>\n",
       "    <tr>\n",
       "      <th>3</th>\n",
       "      <td>Lindo Sabadoooo 🎀ECoracao  #Hola #Sabado #Lind...</td>\n",
       "      <td>#Feliz</td>\n",
       "    </tr>\n",
       "    <tr>\n",
       "      <th>4</th>\n",
       "      <td>Se um minuto do seu lado já me deixa #feliz, i...</td>\n",
       "      <td>#Feliz</td>\n",
       "    </tr>\n",
       "    <tr>\n",
       "      <th>...</th>\n",
       "      <td>...</td>\n",
       "      <td>...</td>\n",
       "    </tr>\n",
       "    <tr>\n",
       "      <th>11417</th>\n",
       "      <td>muito ruim ficar sem óculos #triste</td>\n",
       "      <td>#Triste</td>\n",
       "    </tr>\n",
       "    <tr>\n",
       "      <th>11418</th>\n",
       "      <td>#TRISTE     |   #RN  Mulher morre após ser bal...</td>\n",
       "      <td>#Triste</td>\n",
       "    </tr>\n",
       "    <tr>\n",
       "      <th>11419</th>\n",
       "      <td>meu nenê ta bravo #triste</td>\n",
       "      <td>#Triste</td>\n",
       "    </tr>\n",
       "    <tr>\n",
       "      <th>11420</th>\n",
       "      <td>RT @crazycatladybr: O discurso de na saúde e n...</td>\n",
       "      <td>#Triste</td>\n",
       "    </tr>\n",
       "    <tr>\n",
       "      <th>11421</th>\n",
       "      <td>Parece! #Triste {https}://t.co/6Q4rzJfdlL</td>\n",
       "      <td>#Triste</td>\n",
       "    </tr>\n",
       "  </tbody>\n",
       "</table>\n",
       "<p>9224 rows × 2 columns</p>\n",
       "</div>"
      ],
      "text/plain": [
       "                                                    text sentiment\n",
       "0      RT @tirunjr: já pensou presentear sua tia quer...    #Feliz\n",
       "1      já pensou presentear sua tia querida no amigo ...    #Feliz\n",
       "2      RT @BTSONCHAT: nam: hoje no shopping com o ani...    #Feliz\n",
       "3      Lindo Sabadoooo 🎀ECoracao  #Hola #Sabado #Lind...    #Feliz\n",
       "4      Se um minuto do seu lado já me deixa #feliz, i...    #Feliz\n",
       "...                                                  ...       ...\n",
       "11417                muito ruim ficar sem óculos #triste   #Triste\n",
       "11418  #TRISTE     |   #RN  Mulher morre após ser bal...   #Triste\n",
       "11419                          meu nenê ta bravo #triste   #Triste\n",
       "11420  RT @crazycatladybr: O discurso de na saúde e n...   #Triste\n",
       "11421          Parece! #Triste {https}://t.co/6Q4rzJfdlL   #Triste\n",
       "\n",
       "[9224 rows x 2 columns]"
      ]
     },
     "execution_count": 8,
     "metadata": {},
     "output_type": "execute_result"
    }
   ],
   "source": [
    "df"
   ]
  },
  {
   "cell_type": "code",
   "execution_count": 9,
   "metadata": {},
   "outputs": [
    {
     "data": {
      "text/plain": [
       "array(['#Feliz', '#Chateado', '#Triste', '#Amor'], dtype=object)"
      ]
     },
     "execution_count": 9,
     "metadata": {},
     "output_type": "execute_result"
    }
   ],
   "source": [
    "df['sentiment'].unique()"
   ]
  },
  {
   "cell_type": "code",
   "execution_count": 10,
   "metadata": {},
   "outputs": [],
   "source": [
    "def binario(termo):\n",
    "    if termo == '#Feliz' or termo == '#Amor':\n",
    "        return 1\n",
    "    elif termo == '#Triste' or termo == '#Chateado':\n",
    "        return 0       \n",
    "    \n",
    "df['sentiment'] = df['sentiment'].apply(binario)"
   ]
  },
  {
   "cell_type": "code",
   "execution_count": 11,
   "metadata": {},
   "outputs": [
    {
     "data": {
      "text/plain": [
       "1    4720\n",
       "0    4504\n",
       "Name: sentiment, dtype: int64"
      ]
     },
     "execution_count": 11,
     "metadata": {},
     "output_type": "execute_result"
    }
   ],
   "source": [
    "df['sentiment'].value_counts()"
   ]
  },
  {
   "cell_type": "code",
   "execution_count": 12,
   "metadata": {},
   "outputs": [],
   "source": [
    "def Tokenize(f):     ## Pre-processando a frase\n",
    "\n",
    "    ## Colocando em minusculo\n",
    "    ## Retirando a pontuaçao\n",
    "    ## Retirando as StopWords\n",
    "    \n",
    "    f = f.lower().replace('\\n', '').replace('-','').replace('#','').replace('.','').replace(',','').replace('!','').replace('r\\n','').replace('  ','').replace('https','').replace('rt','').replace('rn','')\n",
    "    token = RegexpTokenizer(r\"\\w+\")\n",
    "    f = token.tokenize(f)\n",
    "    \n",
    "    stop_words = set(stopwords.words('portuguese'))\n",
    "    \n",
    "    new_word = [word for word in f if not word in stop_words]\n",
    "    \n",
    "    return ' '.join(new_word)\n",
    "\n",
    "def remove_user(frase):\n",
    "    frase = re.sub('@\\w+','',frase)\n",
    "    frase = re.sub('{https}[^ ]+','',frase)\n",
    "    frase = re.sub('https\\w+','',frase)\n",
    "    # re.sub('#\\w+','',frase)\n",
    "    return frase\n",
    "\n",
    "def pre_X(frases):\n",
    "    lista = []\n",
    "    \n",
    "    for frase in frases:\n",
    "        lista.append(frase)\n",
    "        \n",
    "    return lista\n",
    "\n",
    "def pre_Y(number):\n",
    "    lista = []\n",
    "    \n",
    "    for numb in number:\n",
    "        lista.append(numb)\n",
    "    \n",
    "    return lista\n"
   ]
  },
  {
   "cell_type": "code",
   "execution_count": 13,
   "metadata": {},
   "outputs": [
    {
     "data": {
      "text/plain": [
       "'Isso lembrou tanto a gente. Valeu, foi bom demais enquanto durou, e sei que o nosso sentimento foi verdadeiro e gos… {https}://t.co/2naG1Ussu1'"
      ]
     },
     "execution_count": 13,
     "metadata": {},
     "output_type": "execute_result"
    }
   ],
   "source": [
    "df['text'][9146]"
   ]
  },
  {
   "cell_type": "code",
   "execution_count": 14,
   "metadata": {},
   "outputs": [
    {
     "data": {
      "text/plain": [
       "'Isso lembrou tanto a gente. Valeu, foi bom demais enquanto durou, e sei que o nosso sentimento foi verdadeiro e gos… '"
      ]
     },
     "execution_count": 14,
     "metadata": {},
     "output_type": "execute_result"
    }
   ],
   "source": [
    "remove_user(df['text'][9146])"
   ]
  },
  {
   "cell_type": "code",
   "execution_count": 15,
   "metadata": {},
   "outputs": [
    {
     "data": {
      "text/plain": [
       "'lembrou tanto gente valeu bom demais enquanto durou sei sentimento verdadeiro gos'"
      ]
     },
     "execution_count": 15,
     "metadata": {},
     "output_type": "execute_result"
    }
   ],
   "source": [
    "Tokenize(remove_user(df['text'][9146]))"
   ]
  },
  {
   "cell_type": "code",
   "execution_count": 16,
   "metadata": {},
   "outputs": [],
   "source": [
    "df['text'] = df['text'].apply(remove_user)\n",
    "df['text'] = df['text'].apply(Tokenize)"
   ]
  },
  {
   "cell_type": "code",
   "execution_count": 17,
   "metadata": {},
   "outputs": [
    {
     "data": {
      "text/html": [
       "<div>\n",
       "<style scoped>\n",
       "    .dataframe tbody tr th:only-of-type {\n",
       "        vertical-align: middle;\n",
       "    }\n",
       "\n",
       "    .dataframe tbody tr th {\n",
       "        vertical-align: top;\n",
       "    }\n",
       "\n",
       "    .dataframe thead th {\n",
       "        text-align: right;\n",
       "    }\n",
       "</style>\n",
       "<table border=\"1\" class=\"dataframe\">\n",
       "  <thead>\n",
       "    <tr style=\"text-align: right;\">\n",
       "      <th></th>\n",
       "      <th>text</th>\n",
       "      <th>sentiment</th>\n",
       "    </tr>\n",
       "  </thead>\n",
       "  <tbody>\n",
       "    <tr>\n",
       "      <th>0</th>\n",
       "      <td>pensou presentear tia querida amigo secreto de...</td>\n",
       "      <td>1</td>\n",
       "    </tr>\n",
       "    <tr>\n",
       "      <th>1</th>\n",
       "      <td>pensou presentear tia querida amigo secreto de...</td>\n",
       "      <td>1</td>\n",
       "    </tr>\n",
       "    <tr>\n",
       "      <th>2</th>\n",
       "      <td>nam hoje shopping aniversariante jungkook feli...</td>\n",
       "      <td>1</td>\n",
       "    </tr>\n",
       "    <tr>\n",
       "      <th>3</th>\n",
       "      <td>lindo sabadoooo ecoracaohola sabado lindodia f...</td>\n",
       "      <td>1</td>\n",
       "    </tr>\n",
       "    <tr>\n",
       "      <th>4</th>\n",
       "      <td>minuto lado deixa feliz imagine vida toda egri...</td>\n",
       "      <td>1</td>\n",
       "    </tr>\n",
       "    <tr>\n",
       "      <th>...</th>\n",
       "      <td>...</td>\n",
       "      <td>...</td>\n",
       "    </tr>\n",
       "    <tr>\n",
       "      <th>11417</th>\n",
       "      <td>ruim ficar óculos triste</td>\n",
       "      <td>0</td>\n",
       "    </tr>\n",
       "    <tr>\n",
       "      <th>11418</th>\n",
       "      <td>triste mulher morre após ser baleada pescoço e...</td>\n",
       "      <td>0</td>\n",
       "    </tr>\n",
       "    <tr>\n",
       "      <th>11419</th>\n",
       "      <td>nenê ta bravo triste</td>\n",
       "      <td>0</td>\n",
       "    </tr>\n",
       "    <tr>\n",
       "      <th>11420</th>\n",
       "      <td>discurso saúde doença td mentira 1 chance cai ...</td>\n",
       "      <td>0</td>\n",
       "    </tr>\n",
       "    <tr>\n",
       "      <th>11421</th>\n",
       "      <td>parece triste</td>\n",
       "      <td>0</td>\n",
       "    </tr>\n",
       "  </tbody>\n",
       "</table>\n",
       "<p>9224 rows × 2 columns</p>\n",
       "</div>"
      ],
      "text/plain": [
       "                                                    text  sentiment\n",
       "0      pensou presentear tia querida amigo secreto de...          1\n",
       "1      pensou presentear tia querida amigo secreto de...          1\n",
       "2      nam hoje shopping aniversariante jungkook feli...          1\n",
       "3      lindo sabadoooo ecoracaohola sabado lindodia f...          1\n",
       "4      minuto lado deixa feliz imagine vida toda egri...          1\n",
       "...                                                  ...        ...\n",
       "11417                           ruim ficar óculos triste          0\n",
       "11418  triste mulher morre após ser baleada pescoço e...          0\n",
       "11419                               nenê ta bravo triste          0\n",
       "11420  discurso saúde doença td mentira 1 chance cai ...          0\n",
       "11421                                      parece triste          0\n",
       "\n",
       "[9224 rows x 2 columns]"
      ]
     },
     "execution_count": 17,
     "metadata": {},
     "output_type": "execute_result"
    }
   ],
   "source": [
    "df"
   ]
  },
  {
   "cell_type": "code",
   "execution_count": 18,
   "metadata": {},
   "outputs": [],
   "source": [
    "text = df['text']\n",
    "sentiment = np.asarray(df['sentiment'])\n"
   ]
  },
  {
   "cell_type": "code",
   "execution_count": 19,
   "metadata": {},
   "outputs": [
    {
     "data": {
      "text/plain": [
       "(9224, 17314)"
      ]
     },
     "execution_count": 19,
     "metadata": {},
     "output_type": "execute_result"
    }
   ],
   "source": [
    "count_vect = CountVectorizer()\n",
    "X = count_vect.fit_transform(text)\n",
    "\n",
    "tfidf_transformer = TfidfTransformer()\n",
    "X = tfidf_transformer.fit_transform(X)\n",
    "X.shape"
   ]
  },
  {
   "cell_type": "code",
   "execution_count": 20,
   "metadata": {},
   "outputs": [
    {
     "data": {
      "text/plain": [
       "(9224,)"
      ]
     },
     "execution_count": 20,
     "metadata": {},
     "output_type": "execute_result"
    }
   ],
   "source": [
    "sentiment.shape"
   ]
  },
  {
   "cell_type": "code",
   "execution_count": 21,
   "metadata": {},
   "outputs": [
    {
     "name": "stdout",
     "output_type": "stream",
     "text": [
      "              precision    recall  f1-score   support\n",
      "\n",
      "           0       0.90      0.97      0.93      1379\n",
      "           1       0.96      0.90      0.93      1389\n",
      "\n",
      "    accuracy                           0.93      2768\n",
      "   macro avg       0.93      0.93      0.93      2768\n",
      "weighted avg       0.93      0.93      0.93      2768\n",
      "\n"
     ]
    }
   ],
   "source": [
    "X_train, X_test, Y_train, Y_test = train_test_split(X, sentiment, test_size=0.3)\n",
    "\n",
    "clf = MultinomialNB().fit(X_train, Y_train)\n",
    "predicted = clf.predict(X_test)\n",
    "\n",
    "print(classification_report(Y_test, predicted))"
   ]
  },
  {
   "cell_type": "code",
   "execution_count": 59,
   "metadata": {},
   "outputs": [
    {
     "name": "stdout",
     "output_type": "stream",
     "text": [
      "0.9328277356446371\n",
      "0.942578548212351\n",
      "0.914409534127844\n",
      "0.9100758396533044\n",
      "0.920824295010846\n",
      "0.9327548806941431\n",
      "0.9370932754880694\n",
      "0.928416485900217\n",
      "0.8590021691973969\n",
      "0.940347071583514\n",
      " Média: 0.9218329835512323 \t Std: 0.02330581054514923  \n"
     ]
    }
   ],
   "source": [
    "kf = KFold(n_splits=10)\n",
    "clf = MultinomialNB()\n",
    "lista = []\n",
    "for train_index, test_index in kf.split(X):\n",
    "    X_train, X_test = X[train_index], X[test_index]\n",
    "    y_train, y_test = sentiment[train_index], sentiment[test_index]\n",
    "    clf.fit(X_train, y_train)\n",
    "    y_pred = clf.predict(X_test)\n",
    "    lista.append(clf.score(X_test, y_test))\n",
    "    print(clf.score(X_test, y_test))\n",
    "    \n",
    "print(f' Média: {np.array(lista).mean()} \\t Std: {np.array(lista).std()}  ')"
   ]
  },
  {
   "cell_type": "code",
   "execution_count": 23,
   "metadata": {},
   "outputs": [],
   "source": [
    "def set_array(frases):\n",
    "    \n",
    "    vocab = []\n",
    "    palavras = []\n",
    "    for frase in frases:\n",
    "        \n",
    "        text_array = remove_user(frase)\n",
    "        text_array = Tokenize(text_array)\n",
    "        text_array = text_array.split(' ')\n",
    "        for i in range(len(text_array)):\n",
    "            vocab.append(text_array[i])\n",
    "    \n",
    "    \n",
    "        \n",
    "    return vocab"
   ]
  },
  {
   "cell_type": "code",
   "execution_count": 24,
   "metadata": {},
   "outputs": [],
   "source": [
    "model = tf.keras.Sequential([\n",
    "    tf.keras.layers.Dense(50, activation='relu'),\n",
    "    tf.keras.layers.Dropout(0.3),\n",
    "    \n",
    "    tf.keras.layers.Dense(25, activation='relu'),\n",
    "    tf.keras.layers.Dropout(0.3),\n",
    "    \n",
    "    tf.keras.layers.Dense(10, activation='tanh'),\n",
    "    tf.keras.layers.Dropout(0.3),\n",
    "    \n",
    "    tf.keras.layers.Dense(1 , activation='sigmoid')\n",
    "])\n",
    "\n",
    "model.compile(\n",
    "    optimizer='adam',\n",
    "    loss=\"binary_crossentropy\",\n",
    "    metrics=['accuracy']\n",
    ")"
   ]
  },
  {
   "cell_type": "code",
   "execution_count": 25,
   "metadata": {},
   "outputs": [
    {
     "name": "stdout",
     "output_type": "stream",
     "text": [
      "Epoch 1/5\n",
      "202/202 [==============================] - 2s 10ms/step - loss: 0.4180 - accuracy: 0.8293 - val_loss: 0.0961 - val_accuracy: 0.9693\n",
      "Epoch 2/5\n",
      "202/202 [==============================] - 1s 7ms/step - loss: 0.0557 - accuracy: 0.9873 - val_loss: 0.0629 - val_accuracy: 0.9769\n",
      "Epoch 3/5\n",
      "202/202 [==============================] - 2s 7ms/step - loss: 0.0147 - accuracy: 0.9985 - val_loss: 0.0638 - val_accuracy: 0.9765\n",
      "Epoch 4/5\n",
      "202/202 [==============================] - 1s 7ms/step - loss: 0.0080 - accuracy: 0.9997 - val_loss: 0.0714 - val_accuracy: 0.9765\n",
      "Epoch 5/5\n",
      "202/202 [==============================] - 2s 11ms/step - loss: 0.0058 - accuracy: 0.9992 - val_loss: 0.0767 - val_accuracy: 0.9772\n"
     ]
    }
   ],
   "source": [
    "X_train, X_test, Y_train, Y_test = train_test_split(X, sentiment, test_size=0.3)\n",
    "\n",
    "fit = model.fit(X_train.todense(), Y_train, epochs=5, validation_data=(X_test.todense(), Y_test))"
   ]
  },
  {
   "cell_type": "code",
   "execution_count": 26,
   "metadata": {},
   "outputs": [
    {
     "name": "stdout",
     "output_type": "stream",
     "text": [
      "              precision    recall  f1-score   support\n",
      "\n",
      "           0       0.97      0.99      0.98      1375\n",
      "           1       0.99      0.97      0.98      1393\n",
      "\n",
      "    accuracy                           0.98      2768\n",
      "   macro avg       0.98      0.98      0.98      2768\n",
      "weighted avg       0.98      0.98      0.98      2768\n",
      "\n"
     ]
    }
   ],
   "source": [
    "predicted = model.predict(X_test.todense())\n",
    "\n",
    "\n",
    "for i in range(len(predicted)):\n",
    "    if predicted[i,0] >= 0.5:\n",
    "        predicted[i,0] = 1\n",
    "    \n",
    "    else:\n",
    "        predicted[i,0] = 0\n",
    "\n",
    "print(classification_report(Y_test, predicted))"
   ]
  },
  {
   "cell_type": "code",
   "execution_count": 27,
   "metadata": {
    "scrolled": true
   },
   "outputs": [
    {
     "name": "stdout",
     "output_type": "stream",
     "text": [
      "Iter:  1\n",
      " \n",
      "Epoch 1/5\n",
      "260/260 [==============================] - 2s 8ms/step - loss: 0.3539 - accuracy: 0.8654 - val_loss: 0.0766 - val_accuracy: 0.9718\n",
      "Epoch 2/5\n",
      "260/260 [==============================] - 2s 7ms/step - loss: 0.0397 - accuracy: 0.9913 - val_loss: 0.0647 - val_accuracy: 0.9707\n",
      "Epoch 3/5\n",
      "260/260 [==============================] - 2s 7ms/step - loss: 0.0118 - accuracy: 0.9984 - val_loss: 0.0608 - val_accuracy: 0.9772\n",
      "Epoch 4/5\n",
      "260/260 [==============================] - 2s 6ms/step - loss: 0.0056 - accuracy: 0.9996 - val_loss: 0.0763 - val_accuracy: 0.9718\n",
      "Epoch 5/5\n",
      "260/260 [==============================] - 2s 7ms/step - loss: 0.0053 - accuracy: 0.9992 - val_loss: 0.0705 - val_accuracy: 0.9783\n",
      " \n",
      "Iter:  2\n",
      " \n",
      "Epoch 1/5\n",
      "260/260 [==============================] - 2s 7ms/step - loss: 0.3269 - accuracy: 0.8804 - val_loss: 0.0825 - val_accuracy: 0.9697\n",
      "Epoch 2/5\n",
      "260/260 [==============================] - 2s 6ms/step - loss: 0.0324 - accuracy: 0.9919 - val_loss: 0.0762 - val_accuracy: 0.9740\n",
      "Epoch 3/5\n",
      "260/260 [==============================] - 1s 6ms/step - loss: 0.0078 - accuracy: 0.9988 - val_loss: 0.0811 - val_accuracy: 0.9740\n",
      "Epoch 4/5\n",
      "260/260 [==============================] - 1s 6ms/step - loss: 0.0045 - accuracy: 0.9993 - val_loss: 0.0881 - val_accuracy: 0.9751\n",
      "Epoch 5/5\n",
      "260/260 [==============================] - 1s 5ms/step - loss: 0.0041 - accuracy: 0.9993 - val_loss: 0.1337 - val_accuracy: 0.9534\n",
      " \n",
      "Iter:  3\n",
      " \n",
      "Epoch 1/5\n",
      "260/260 [==============================] - 2s 6ms/step - loss: 0.3288 - accuracy: 0.8813 - val_loss: 0.1079 - val_accuracy: 0.9632\n",
      "Epoch 2/5\n",
      "260/260 [==============================] - 1s 6ms/step - loss: 0.0331 - accuracy: 0.9934 - val_loss: 0.1142 - val_accuracy: 0.9588\n",
      "Epoch 3/5\n",
      "260/260 [==============================] - 1s 6ms/step - loss: 0.0086 - accuracy: 0.9992 - val_loss: 0.1325 - val_accuracy: 0.9545\n",
      "Epoch 4/5\n",
      "260/260 [==============================] - 1s 5ms/step - loss: 0.0056 - accuracy: 0.9993 - val_loss: 0.1613 - val_accuracy: 0.9512\n",
      "Epoch 5/5\n",
      "260/260 [==============================] - 1s 6ms/step - loss: 0.0053 - accuracy: 0.9994 - val_loss: 0.1589 - val_accuracy: 0.9512\n",
      " \n",
      "Iter:  4\n",
      " \n",
      "Epoch 1/5\n",
      "260/260 [==============================] - 2s 6ms/step - loss: 0.3153 - accuracy: 0.8833 - val_loss: 0.1040 - val_accuracy: 0.9610\n",
      "Epoch 2/5\n",
      "260/260 [==============================] - 1s 6ms/step - loss: 0.0328 - accuracy: 0.9927 - val_loss: 0.0995 - val_accuracy: 0.9642\n",
      "Epoch 3/5\n",
      "260/260 [==============================] - 1s 6ms/step - loss: 0.0077 - accuracy: 0.9993 - val_loss: 0.1137 - val_accuracy: 0.9653\n",
      "Epoch 4/5\n",
      "260/260 [==============================] - 1s 6ms/step - loss: 0.0057 - accuracy: 0.9992 - val_loss: 0.1246 - val_accuracy: 0.9621\n",
      "Epoch 5/5\n",
      "260/260 [==============================] - 1s 6ms/step - loss: 0.0045 - accuracy: 0.9995 - val_loss: 0.1326 - val_accuracy: 0.9632\n",
      " \n",
      "Iter:  5\n",
      " \n",
      "Epoch 1/5\n",
      "260/260 [==============================] - 2s 6ms/step - loss: 0.3526 - accuracy: 0.8818 - val_loss: 0.0745 - val_accuracy: 0.9761\n",
      "Epoch 2/5\n",
      "260/260 [==============================] - 2s 6ms/step - loss: 0.0379 - accuracy: 0.9919 - val_loss: 0.0685 - val_accuracy: 0.9837\n",
      "Epoch 3/5\n",
      "260/260 [==============================] - 2s 6ms/step - loss: 0.0115 - accuracy: 0.9987 - val_loss: 0.0811 - val_accuracy: 0.9805\n",
      "Epoch 4/5\n",
      "260/260 [==============================] - 2s 6ms/step - loss: 0.0069 - accuracy: 0.9994 - val_loss: 0.0934 - val_accuracy: 0.9761\n",
      "Epoch 5/5\n",
      "260/260 [==============================] - 1s 6ms/step - loss: 0.0061 - accuracy: 0.9990 - val_loss: 0.0995 - val_accuracy: 0.9740\n",
      " \n",
      "Iter:  6\n",
      " \n",
      "Epoch 1/5\n",
      "260/260 [==============================] - 2s 6ms/step - loss: 0.3285 - accuracy: 0.8818 - val_loss: 0.0738 - val_accuracy: 0.9740\n",
      "Epoch 2/5\n",
      "260/260 [==============================] - 2s 6ms/step - loss: 0.0341 - accuracy: 0.9923 - val_loss: 0.0790 - val_accuracy: 0.9740\n",
      "Epoch 3/5\n",
      "260/260 [==============================] - 1s 6ms/step - loss: 0.0084 - accuracy: 0.9990 - val_loss: 0.0903 - val_accuracy: 0.9696\n",
      "Epoch 4/5\n",
      "260/260 [==============================] - 1s 6ms/step - loss: 0.0060 - accuracy: 0.9993 - val_loss: 0.0949 - val_accuracy: 0.9707\n",
      "Epoch 5/5\n",
      "260/260 [==============================] - 2s 6ms/step - loss: 0.0046 - accuracy: 0.9993 - val_loss: 0.1034 - val_accuracy: 0.9718\n",
      " \n",
      "Iter:  7\n",
      " \n",
      "Epoch 1/5\n",
      "260/260 [==============================] - 2s 6ms/step - loss: 0.3418 - accuracy: 0.8798 - val_loss: 0.0861 - val_accuracy: 0.9653\n",
      "Epoch 2/5\n",
      "260/260 [==============================] - 1s 6ms/step - loss: 0.0392 - accuracy: 0.9917 - val_loss: 0.0780 - val_accuracy: 0.9707\n",
      "Epoch 3/5\n",
      "260/260 [==============================] - 1s 6ms/step - loss: 0.0118 - accuracy: 0.9989 - val_loss: 0.0831 - val_accuracy: 0.9707\n",
      "Epoch 4/5\n",
      "260/260 [==============================] - 1s 6ms/step - loss: 0.0068 - accuracy: 0.9995 - val_loss: 0.0922 - val_accuracy: 0.9707\n",
      "Epoch 5/5\n",
      "260/260 [==============================] - 1s 6ms/step - loss: 0.0054 - accuracy: 0.9995 - val_loss: 0.1002 - val_accuracy: 0.9664\n",
      " \n",
      "Iter:  8\n",
      " \n",
      "Epoch 1/5\n",
      "260/260 [==============================] - 2s 7ms/step - loss: 0.3290 - accuracy: 0.8744 - val_loss: 0.0519 - val_accuracy: 0.9881\n",
      "Epoch 2/5\n",
      "260/260 [==============================] - 2s 6ms/step - loss: 0.0370 - accuracy: 0.9913 - val_loss: 0.0582 - val_accuracy: 0.9783\n",
      "Epoch 3/5\n",
      "260/260 [==============================] - 1s 6ms/step - loss: 0.0102 - accuracy: 0.9982 - val_loss: 0.0634 - val_accuracy: 0.9783\n",
      "Epoch 4/5\n",
      "260/260 [==============================] - 1s 6ms/step - loss: 0.0046 - accuracy: 0.9993 - val_loss: 0.0653 - val_accuracy: 0.9816\n",
      "Epoch 5/5\n",
      "260/260 [==============================] - 1s 6ms/step - loss: 0.0045 - accuracy: 0.9995 - val_loss: 0.1179 - val_accuracy: 0.9555\n",
      " \n",
      "Iter:  9\n",
      " \n",
      "Epoch 1/5\n",
      "260/260 [==============================] - 2s 6ms/step - loss: 0.3320 - accuracy: 0.8914 - val_loss: 0.1041 - val_accuracy: 0.9544\n",
      "Epoch 2/5\n",
      "260/260 [==============================] - 1s 6ms/step - loss: 0.0373 - accuracy: 0.9916 - val_loss: 0.1103 - val_accuracy: 0.9523\n",
      "Epoch 3/5\n",
      "260/260 [==============================] - 2s 6ms/step - loss: 0.0092 - accuracy: 0.9988 - val_loss: 0.1471 - val_accuracy: 0.9458\n",
      "Epoch 4/5\n",
      "260/260 [==============================] - 2s 6ms/step - loss: 0.0057 - accuracy: 0.9993 - val_loss: 0.1996 - val_accuracy: 0.9349\n",
      "Epoch 5/5\n",
      "260/260 [==============================] - 2s 6ms/step - loss: 0.0040 - accuracy: 0.9993 - val_loss: 0.2763 - val_accuracy: 0.9219\n",
      " \n",
      "Iter:  10\n",
      " \n",
      "Epoch 1/5\n",
      "260/260 [==============================] - 2s 6ms/step - loss: 0.3087 - accuracy: 0.8792 - val_loss: 0.0775 - val_accuracy: 0.9729\n",
      "Epoch 2/5\n",
      "260/260 [==============================] - 2s 6ms/step - loss: 0.0320 - accuracy: 0.9916 - val_loss: 0.1063 - val_accuracy: 0.9631\n",
      "Epoch 3/5\n",
      "260/260 [==============================] - 1s 6ms/step - loss: 0.0064 - accuracy: 0.9994 - val_loss: 0.1211 - val_accuracy: 0.9610\n",
      "Epoch 4/5\n",
      "260/260 [==============================] - 1s 6ms/step - loss: 0.0036 - accuracy: 0.9995 - val_loss: 0.1136 - val_accuracy: 0.9685\n",
      "Epoch 5/5\n",
      "260/260 [==============================] - 1s 6ms/step - loss: 0.0042 - accuracy: 0.9992 - val_loss: 0.1192 - val_accuracy: 0.9685\n",
      " \n"
     ]
    }
   ],
   "source": [
    "kf = KFold(n_splits=10)\n",
    "val_accuracy = []\n",
    "index = []\n",
    "cont = 0\n",
    "\n",
    "for train_index, test_index in kf.split(X):\n",
    "    cont += 1\n",
    "    \n",
    "    model = tf.keras.Sequential([\n",
    "    tf.keras.layers.Dense(50, activation='relu'),\n",
    "    tf.keras.layers.Dropout(0.3),\n",
    "    \n",
    "    tf.keras.layers.Dense(25, activation='relu'),\n",
    "    tf.keras.layers.Dropout(0.3),\n",
    "    \n",
    "    tf.keras.layers.Dense(10, activation='tanh'),\n",
    "    tf.keras.layers.Dropout(0.3),\n",
    "    \n",
    "    tf.keras.layers.Dense(1 , activation='sigmoid')\n",
    "    \n",
    "    ])\n",
    "    \n",
    "    model.compile(\n",
    "        optimizer='adam',\n",
    "        loss=\"binary_crossentropy\",\n",
    "        metrics=['accuracy']\n",
    "    )\n",
    "    \n",
    "    X_train, X_test = X[train_index], X[test_index]\n",
    "    y_train, y_test = sentiment[train_index], sentiment[test_index]\n",
    "    \n",
    "    print(\"Iter: \",cont)\n",
    "    print(\" \")\n",
    "    \n",
    "    fit = model.fit(X_train.todense(), y_train, epochs=5, validation_data=(X_test.todense(), y_test))\n",
    "    print(\" \")\n",
    "    val_accuracy.append(fit.history['val_accuracy'])\n",
    "    \n",
    "    index.append((train_index,test_index))"
   ]
  },
  {
   "cell_type": "code",
   "execution_count": 31,
   "metadata": {},
   "outputs": [
    {
     "name": "stdout",
     "output_type": "stream",
     "text": [
      " Fold: 0\t Ultimo valor acc: 0.9783315062522888\n",
      " Fold: 1\t Ultimo valor acc: 0.9534127712249756\n",
      " Fold: 2\t Ultimo valor acc: 0.9512459635734558\n",
      " Fold: 3\t Ultimo valor acc: 0.9631636142730713\n",
      " Fold: 4\t Ultimo valor acc: 0.9739696383476257\n",
      " Fold: 5\t Ultimo valor acc: 0.9718004465103149\n",
      " Fold: 6\t Ultimo valor acc: 0.9663774371147156\n",
      " Fold: 7\t Ultimo valor acc: 0.9555314779281616\n",
      " Fold: 8\t Ultimo valor acc: 0.9219089150428772\n",
      " Fold: 9\t Ultimo valor acc: 0.9685466289520264\n",
      "\n",
      " Média: 0.9604288399219513 \t Std: 0.01543779331177531\n"
     ]
    }
   ],
   "source": [
    "def media_std(val_accuracy):\n",
    "    matrix_acc = np.array(val_accuracy)\n",
    "    lista = []\n",
    "    for i in range(len(matrix_acc)):\n",
    "        lista.append(matrix_acc[i][-1])\n",
    "        print(f' Fold: {i}\\t Ultimo valor acc: {lista[i]}')\n",
    "    print(\"\")\n",
    "    print(f' Média: {np.array(lista).mean()} \\t Std: {np.array(lista).std()}')\n",
    "        \n",
    "media_std(val_accuracy) #arquitetura de cima"
   ]
  },
  {
   "cell_type": "code",
   "execution_count": 32,
   "metadata": {},
   "outputs": [
    {
     "data": {
      "image/png": "[encoded data removed]",
      "text/plain": [
       "<Figure size 864x432 with 1 Axes>"
      ]
     },
     "metadata": {
      "needs_background": "light"
     },
     "output_type": "display_data"
    }
   ],
   "source": [
    "plt.figure(figsize=(12,6))\n",
    "plt.plot(fit.history['loss'], label='Loss', color='darkred')\n",
    "plt.plot(fit.history['val_loss'], label='Val Loss', color='green')\n",
    "plt.legend()\n",
    "plt.grid()\n",
    "plt.ylabel('Loss')\n",
    "plt.show()"
   ]
  },
  {
   "cell_type": "code",
   "execution_count": 33,
   "metadata": {},
   "outputs": [
    {
     "data": {
      "image/png": "[encoded data removed]",
      "text/plain": [
       "<Figure size 864x432 with 1 Axes>"
      ]
     },
     "metadata": {
      "needs_background": "light"
     },
     "output_type": "display_data"
    }
   ],
   "source": [
    "plt.figure(figsize=(12,6))\n",
    "plt.plot(fit.history['accuracy'], label='accuracy', color='darkred')\n",
    "plt.plot(fit.history['val_accuracy'], label='Val accuracy', color='green')\n",
    "plt.legend()\n",
    "plt.grid()\n",
    "plt.ylabel('Accuracy')\n",
    "plt.show()"
   ]
  },
  {
   "cell_type": "code",
   "execution_count": 34,
   "metadata": {},
   "outputs": [
    {
     "data": {
      "text/plain": [
       "15000"
      ]
     },
     "execution_count": 34,
     "metadata": {},
     "output_type": "execute_result"
    }
   ],
   "source": [
    "vectorize_layer = TextVectorization(\n",
    " max_tokens=15000,\n",
    " output_mode='int',\n",
    " output_sequence_length=len(max(df['text'])))\n",
    "\n",
    "vocab = set_array(df['text'])\n",
    "\n",
    "vectorize_layer.adapt(np.unique(vocab))\n",
    "len(vectorize_layer.get_vocabulary())\n"
   ]
  },
  {
   "cell_type": "code",
   "execution_count": 35,
   "metadata": {},
   "outputs": [],
   "source": [
    "model = tf.keras.Sequential([\n",
    "    vectorize_layer,\n",
    "    tf.keras.layers.Embedding(\n",
    "        input_dim=len(vectorize_layer.get_vocabulary()),\n",
    "        output_dim=64,mask_zero=True),\n",
    "    \n",
    "    tf.keras.layers.LSTM(50, activation='relu' ,return_sequences=True),\n",
    "    tf.keras.layers.Dropout(0.2),\n",
    "    \n",
    "    tf.keras.layers.LSTM(20 , activation='relu', return_sequences=True),\n",
    "    tf.keras.layers.Dropout(0.2),\n",
    "    \n",
    "    tf.keras.layers.LSTM(20 , activation='relu', return_sequences=True),\n",
    "    tf.keras.layers.Dropout(0.2),\n",
    "    \n",
    "    tf.keras.layers.LSTM(10 , activation='tanh', return_sequences=True),\n",
    "    \n",
    "    tf.keras.layers.LSTM(10 , activation='tanh'),\n",
    "    \n",
    "    tf.keras.layers.Dense(1 , activation='sigmoid')\n",
    "])\n",
    "\n",
    "\n",
    "model.compile(\n",
    "    optimizer= tf.keras.optimizers.Adam(),\n",
    "    loss=\"binary_crossentropy\",\n",
    "    metrics=['accuracy']\n",
    ")"
   ]
  },
  {
   "cell_type": "code",
   "execution_count": 36,
   "metadata": {},
   "outputs": [],
   "source": [
    "X_train, X_test, Y_train, Y_test = train_test_split(df['text'], sentiment, test_size=0.3)"
   ]
  },
  {
   "cell_type": "code",
   "execution_count": 37,
   "metadata": {},
   "outputs": [
    {
     "name": "stdout",
     "output_type": "stream",
     "text": [
      "Epoch 1/5\n",
      "51/51 [==============================] - 12s 240ms/step - loss: 0.6879 - accuracy: 0.5104 - val_loss: 0.6627 - val_accuracy: 0.5170\n",
      "Epoch 2/5\n",
      "51/51 [==============================] - 10s 192ms/step - loss: 0.5184 - accuracy: 0.7618 - val_loss: 0.4562 - val_accuracy: 0.8085\n",
      "Epoch 3/5\n",
      "51/51 [==============================] - 10s 188ms/step - loss: 0.2978 - accuracy: 0.9081 - val_loss: 0.4107 - val_accuracy: 0.8400\n",
      "Epoch 4/5\n",
      "51/51 [==============================] - 10s 189ms/step - loss: 0.1960 - accuracy: 0.9450 - val_loss: 0.3766 - val_accuracy: 0.8671\n",
      "Epoch 5/5\n",
      "51/51 [==============================] - 10s 188ms/step - loss: 0.1322 - accuracy: 0.9661 - val_loss: 0.3414 - val_accuracy: 0.8772\n"
     ]
    }
   ],
   "source": [
    "fit = model.fit(X_train, Y_train, epochs=5, batch_size=128 ,validation_data=(X_test, Y_test)) "
   ]
  },
  {
   "cell_type": "code",
   "execution_count": 38,
   "metadata": {},
   "outputs": [
    {
     "name": "stdout",
     "output_type": "stream",
     "text": [
      "              precision    recall  f1-score   support\n",
      "\n",
      "           0       0.87      0.88      0.87      1344\n",
      "           1       0.89      0.87      0.88      1424\n",
      "\n",
      "    accuracy                           0.88      2768\n",
      "   macro avg       0.88      0.88      0.88      2768\n",
      "weighted avg       0.88      0.88      0.88      2768\n",
      "\n"
     ]
    }
   ],
   "source": [
    "predicted = model.predict(X_test)\n",
    "\n",
    "\n",
    "for i in range(len(predicted)):\n",
    "    if predicted[i,0] >= 0.5:\n",
    "        predicted[i,0] = 1\n",
    "    \n",
    "    else:\n",
    "        predicted[i,0] = 0\n",
    "\n",
    "print(classification_report(Y_test, predicted))"
   ]
  },
  {
   "cell_type": "code",
   "execution_count": 39,
   "metadata": {},
   "outputs": [],
   "source": [
    "Tweet_preprocessed = np.asarray(pre_X(df['text']))"
   ]
  },
  {
   "cell_type": "code",
   "execution_count": 40,
   "metadata": {
    "scrolled": true
   },
   "outputs": [
    {
     "name": "stdout",
     "output_type": "stream",
     "text": [
      "Iter:  1\n",
      " \n",
      "Epoch 1/5\n",
      "65/65 [==============================] - 17s 261ms/step - loss: 0.6851 - accuracy: 0.5264 - val_loss: 0.6806 - val_accuracy: 0.3814\n",
      "Epoch 2/5\n",
      "65/65 [==============================] - 14s 213ms/step - loss: 0.4912 - accuracy: 0.7974 - val_loss: 0.4343 - val_accuracy: 0.8570\n",
      "Epoch 3/5\n",
      "65/65 [==============================] - 14s 217ms/step - loss: 0.2850 - accuracy: 0.9133 - val_loss: 0.4102 - val_accuracy: 0.8689\n",
      "Epoch 4/5\n",
      "65/65 [==============================] - 13s 205ms/step - loss: 0.1819 - accuracy: 0.9492 - val_loss: 0.3567 - val_accuracy: 0.8754\n",
      "Epoch 5/5\n",
      "65/65 [==============================] - 13s 203ms/step - loss: 0.1226 - accuracy: 0.9666 - val_loss: 0.3323 - val_accuracy: 0.8808\n",
      " \n",
      "Iter:  2\n",
      " \n",
      "Epoch 1/5\n",
      "65/65 [==============================] - 18s 274ms/step - loss: 0.6840 - accuracy: 0.5243 - val_loss: 0.6774 - val_accuracy: 0.3965\n",
      "Epoch 2/5\n",
      "65/65 [==============================] - 14s 222ms/step - loss: 0.4693 - accuracy: 0.8016 - val_loss: 0.5625 - val_accuracy: 0.8180\n",
      "Epoch 3/5\n",
      "65/65 [==============================] - 14s 218ms/step - loss: 0.2801 - accuracy: 0.9137 - val_loss: 0.4485 - val_accuracy: 0.8375\n",
      "Epoch 4/5\n",
      "65/65 [==============================] - 14s 219ms/step - loss: 0.1887 - accuracy: 0.9433 - val_loss: 0.4021 - val_accuracy: 0.8667\n",
      "Epoch 5/5\n",
      "65/65 [==============================] - 14s 219ms/step - loss: 0.1376 - accuracy: 0.9616 - val_loss: 0.4083 - val_accuracy: 0.8602\n",
      " \n",
      "Iter:  3\n",
      " \n",
      "Epoch 1/5\n",
      "65/65 [==============================] - 18s 276ms/step - loss: 0.6865 - accuracy: 0.5308 - val_loss: 0.7298 - val_accuracy: 0.3413\n",
      "Epoch 2/5\n",
      "65/65 [==============================] - 15s 228ms/step - loss: 0.5074 - accuracy: 0.7664 - val_loss: 0.5063 - val_accuracy: 0.8277\n",
      "Epoch 3/5\n",
      "65/65 [==============================] - 15s 231ms/step - loss: 0.2867 - accuracy: 0.9146 - val_loss: 0.4455 - val_accuracy: 0.8375\n",
      "Epoch 4/5\n",
      "65/65 [==============================] - 15s 230ms/step - loss: 0.1827 - accuracy: 0.9500 - val_loss: 0.3952 - val_accuracy: 0.8527\n",
      "Epoch 5/5\n",
      "65/65 [==============================] - 15s 229ms/step - loss: 0.1278 - accuracy: 0.9661 - val_loss: 0.3793 - val_accuracy: 0.8678\n",
      " \n",
      "Iter:  4\n",
      " \n",
      "Epoch 1/5\n",
      "65/65 [==============================] - 19s 286ms/step - loss: 0.6877 - accuracy: 0.5244 - val_loss: 0.7097 - val_accuracy: 0.3814\n",
      "Epoch 2/5\n",
      "65/65 [==============================] - 15s 238ms/step - loss: 0.5121 - accuracy: 0.7438 - val_loss: 0.5067 - val_accuracy: 0.8007\n",
      "Epoch 3/5\n",
      "65/65 [==============================] - 16s 243ms/step - loss: 0.2890 - accuracy: 0.9092 - val_loss: 0.4099 - val_accuracy: 0.8537\n",
      "Epoch 4/5\n",
      "65/65 [==============================] - 14s 223ms/step - loss: 0.1793 - accuracy: 0.9489 - val_loss: 0.3364 - val_accuracy: 0.8852\n",
      "Epoch 5/5\n",
      "65/65 [==============================] - 14s 222ms/step - loss: 0.1187 - accuracy: 0.9682 - val_loss: 0.2880 - val_accuracy: 0.9133\n",
      " \n",
      "Iter:  5\n",
      " \n",
      "Epoch 1/5\n",
      "65/65 [==============================] - 17s 264ms/step - loss: 0.6892 - accuracy: 0.5104 - val_loss: 0.6487 - val_accuracy: 0.6551\n",
      "Epoch 2/5\n",
      "65/65 [==============================] - 14s 222ms/step - loss: 0.4800 - accuracy: 0.8100 - val_loss: 0.4136 - val_accuracy: 0.8243\n",
      "Epoch 3/5\n",
      "65/65 [==============================] - 14s 221ms/step - loss: 0.2474 - accuracy: 0.9259 - val_loss: 0.4032 - val_accuracy: 0.8362\n",
      "Epoch 4/5\n",
      "65/65 [==============================] - 14s 217ms/step - loss: 0.1547 - accuracy: 0.9589 - val_loss: 0.4432 - val_accuracy: 0.8373\n",
      "Epoch 5/5\n",
      "65/65 [==============================] - 15s 225ms/step - loss: 0.1135 - accuracy: 0.9698 - val_loss: 0.3643 - val_accuracy: 0.8742\n",
      " \n",
      "Iter:  6\n",
      " \n",
      "Epoch 1/5\n",
      "65/65 [==============================] - 17s 259ms/step - loss: 0.6875 - accuracy: 0.5084 - val_loss: 0.6530 - val_accuracy: 0.5846\n",
      "Epoch 2/5\n",
      "65/65 [==============================] - 14s 222ms/step - loss: 0.5012 - accuracy: 0.7880 - val_loss: 0.4851 - val_accuracy: 0.7928\n",
      "Epoch 3/5\n",
      "65/65 [==============================] - 14s 219ms/step - loss: 0.2885 - accuracy: 0.9093 - val_loss: 0.4637 - val_accuracy: 0.8275\n",
      "Epoch 4/5\n",
      "65/65 [==============================] - 14s 220ms/step - loss: 0.1827 - accuracy: 0.9483 - val_loss: 0.4814 - val_accuracy: 0.8275\n",
      "Epoch 5/5\n",
      "65/65 [==============================] - 16s 241ms/step - loss: 0.1288 - accuracy: 0.9659 - val_loss: 0.4102 - val_accuracy: 0.8395\n",
      " \n",
      "Iter:  7\n",
      " \n",
      "Epoch 1/5\n",
      "65/65 [==============================] - 19s 296ms/step - loss: 0.6911 - accuracy: 0.5111 - val_loss: 0.6804 - val_accuracy: 0.5282\n",
      "Epoch 2/5\n",
      "65/65 [==============================] - 15s 228ms/step - loss: 0.5474 - accuracy: 0.7336 - val_loss: 0.4990 - val_accuracy: 0.8037\n",
      "Epoch 3/5\n",
      "65/65 [==============================] - 16s 247ms/step - loss: 0.2884 - accuracy: 0.9076 - val_loss: 0.4535 - val_accuracy: 0.8189\n",
      "Epoch 4/5\n",
      "65/65 [==============================] - 20s 311ms/step - loss: 0.1687 - accuracy: 0.9506 - val_loss: 0.3485 - val_accuracy: 0.8579\n",
      "Epoch 5/5\n",
      "65/65 [==============================] - 22s 344ms/step - loss: 0.1023 - accuracy: 0.9747 - val_loss: 0.3492 - val_accuracy: 0.8644\n",
      " \n",
      "Iter:  8\n",
      " \n",
      "Epoch 1/5\n",
      "65/65 [==============================] - 22s 333ms/step - loss: 0.6919 - accuracy: 0.5365 - val_loss: 0.7222 - val_accuracy: 0.0445\n",
      "Epoch 2/5\n",
      "65/65 [==============================] - 19s 292ms/step - loss: 0.5547 - accuracy: 0.7557 - val_loss: 0.5301 - val_accuracy: 0.7657\n",
      "Epoch 3/5\n",
      "65/65 [==============================] - 16s 243ms/step - loss: 0.3234 - accuracy: 0.8997 - val_loss: 0.5134 - val_accuracy: 0.8113\n",
      "Epoch 4/5\n",
      "65/65 [==============================] - 14s 221ms/step - loss: 0.1949 - accuracy: 0.9500 - val_loss: 0.2367 - val_accuracy: 0.9143\n",
      "Epoch 5/5\n",
      "65/65 [==============================] - 17s 267ms/step - loss: 0.1190 - accuracy: 0.9711 - val_loss: 0.2180 - val_accuracy: 0.9176\n",
      " \n",
      "Iter:  9\n",
      " \n",
      "Epoch 1/5\n",
      "65/65 [==============================] - 20s 311ms/step - loss: 0.6840 - accuracy: 0.5961 - val_loss: 0.5546 - val_accuracy: 0.7440\n",
      "Epoch 2/5\n",
      "65/65 [==============================] - 15s 235ms/step - loss: 0.4537 - accuracy: 0.8287 - val_loss: 0.4932 - val_accuracy: 0.7603\n",
      "Epoch 3/5\n",
      "65/65 [==============================] - 14s 216ms/step - loss: 0.2533 - accuracy: 0.9212 - val_loss: 0.4770 - val_accuracy: 0.8026\n",
      "Epoch 4/5\n",
      "65/65 [==============================] - 15s 226ms/step - loss: 0.1630 - accuracy: 0.9554 - val_loss: 0.5508 - val_accuracy: 0.7874\n",
      "Epoch 5/5\n",
      "65/65 [==============================] - 14s 218ms/step - loss: 0.1094 - accuracy: 0.9712 - val_loss: 0.5529 - val_accuracy: 0.8004\n",
      " \n",
      "Iter:  10\n",
      " \n",
      "Epoch 1/5\n",
      "65/65 [==============================] - 16s 252ms/step - loss: 0.6834 - accuracy: 0.5422 - val_loss: 0.7537 - val_accuracy: 0.2408\n",
      "Epoch 2/5\n",
      "65/65 [==============================] - 14s 210ms/step - loss: 0.5057 - accuracy: 0.7602 - val_loss: 0.5217 - val_accuracy: 0.8406\n",
      "Epoch 3/5\n",
      "65/65 [==============================] - 14s 210ms/step - loss: 0.2851 - accuracy: 0.9088 - val_loss: 0.4413 - val_accuracy: 0.8514\n",
      "Epoch 4/5\n",
      "65/65 [==============================] - 14s 210ms/step - loss: 0.1697 - accuracy: 0.9522 - val_loss: 0.3470 - val_accuracy: 0.8774\n",
      "Epoch 5/5\n",
      "65/65 [==============================] - 14s 211ms/step - loss: 0.1034 - accuracy: 0.9735 - val_loss: 0.3172 - val_accuracy: 0.8915\n",
      " \n"
     ]
    }
   ],
   "source": [
    "kf = KFold(n_splits=10)\n",
    "val_accuracy = []\n",
    "index = []\n",
    "cont = 0\n",
    "\n",
    "Tweet_preprocessed = np.asarray(pre_X(df['text']))\n",
    "\n",
    "for train_index, test_index in kf.split(Tweet_preprocessed):\n",
    "    cont += 1\n",
    "    \n",
    "    model = tf.keras.Sequential([\n",
    "    vectorize_layer,\n",
    "    tf.keras.layers.Embedding(\n",
    "        input_dim=len(vectorize_layer.get_vocabulary()),\n",
    "        output_dim=64,mask_zero=True),\n",
    "    \n",
    "    tf.keras.layers.LSTM(50, activation='relu' ,return_sequences=True),\n",
    "    tf.keras.layers.Dropout(0.2),\n",
    "    \n",
    "    tf.keras.layers.LSTM(20 , activation='relu', return_sequences=True),\n",
    "    tf.keras.layers.Dropout(0.2),\n",
    "    \n",
    "    tf.keras.layers.LSTM(20 , activation='relu', return_sequences=True),\n",
    "    tf.keras.layers.Dropout(0.2),\n",
    "    \n",
    "    tf.keras.layers.LSTM(10 , activation='tanh', return_sequences=True),\n",
    "    \n",
    "    tf.keras.layers.LSTM(10 , activation='tanh', return_sequences=True),\n",
    "    \n",
    "    tf.keras.layers.LSTM(10 , activation='tanh'),\n",
    "    \n",
    "    tf.keras.layers.Dense(1, activation='sigmoid')\n",
    "    \n",
    "    ])\n",
    "\n",
    "\n",
    "    model.compile(\n",
    "        optimizer= tf.keras.optimizers.Adam(),\n",
    "        loss=\"binary_crossentropy\",\n",
    "        metrics=['accuracy']\n",
    "    )\n",
    "    \n",
    "    \n",
    "    X_train, X_test = Tweet_preprocessed[train_index], Tweet_preprocessed[test_index]\n",
    "    y_train, y_test = sentiment[train_index], sentiment[test_index]\n",
    "\n",
    "    print(\"Iter: \",cont)\n",
    "    print(\" \")\n",
    "    \n",
    "    fit = model.fit( X_train, y_train, epochs=5, batch_size=128 ,validation_data=(X_test, y_test)) \n",
    "    print(\" \")\n",
    "    val_accuracy.append(fit.history['val_accuracy'])\n",
    "    \n",
    "    index.append((train_index,test_index))\n"
   ]
  },
  {
   "cell_type": "code",
   "execution_count": 41,
   "metadata": {},
   "outputs": [
    {
     "name": "stdout",
     "output_type": "stream",
     "text": [
      " Fold: 0\t Ultimo valor acc: 0.8808233737945557\n",
      " Fold: 1\t Ultimo valor acc: 0.8602383732795715\n",
      " Fold: 2\t Ultimo valor acc: 0.8678222894668579\n",
      " Fold: 3\t Ultimo valor acc: 0.9133260846138\n",
      " Fold: 4\t Ultimo valor acc: 0.8741865754127502\n",
      " Fold: 5\t Ultimo valor acc: 0.839479386806488\n",
      " Fold: 6\t Ultimo valor acc: 0.8644251823425293\n",
      " Fold: 7\t Ultimo valor acc: 0.9175704717636108\n",
      " Fold: 8\t Ultimo valor acc: 0.8004338145256042\n",
      " Fold: 9\t Ultimo valor acc: 0.8915401101112366\n",
      "\n",
      " Média: 0.8709845662117004 \t Std: 0.032605409406393206\n"
     ]
    }
   ],
   "source": [
    "media_std(val_accuracy)"
   ]
  },
  {
   "cell_type": "code",
   "execution_count": 42,
   "metadata": {},
   "outputs": [
    {
     "data": {
      "image/png": "[encoded data removed]",
      "text/plain": [
       "<Figure size 864x432 with 1 Axes>"
      ]
     },
     "metadata": {
      "needs_background": "light"
     },
     "output_type": "display_data"
    }
   ],
   "source": [
    "plt.figure(figsize=(12,6))\n",
    "plt.plot(fit.history['loss'], label='Loss', color='darkred')\n",
    "plt.plot(fit.history['val_loss'], label='Val Loss', color='green')\n",
    "plt.legend()\n",
    "plt.grid()\n",
    "plt.ylabel('Loss')\n",
    "plt.show()"
   ]
  },
  {
   "cell_type": "code",
   "execution_count": 43,
   "metadata": {},
   "outputs": [
    {
     "data": {
      "image/png": "[encoded data removed]",
      "text/plain": [
       "<Figure size 864x432 with 1 Axes>"
      ]
     },
     "metadata": {
      "needs_background": "light"
     },
     "output_type": "display_data"
    }
   ],
   "source": [
    "plt.figure(figsize=(12,6))\n",
    "plt.plot(fit.history['accuracy'], label='accuracy', color='darkred')\n",
    "plt.plot(fit.history['val_accuracy'], label='Val accuracy', color='green')\n",
    "plt.legend()\n",
    "plt.grid()\n",
    "plt.ylabel('Accuracy')\n",
    "plt.show()"
   ]
  },
  {
   "cell_type": "code",
   "execution_count": 44,
   "metadata": {},
   "outputs": [],
   "source": [
    "model = tf.keras.Sequential([\n",
    "    vectorize_layer,\n",
    "    tf.keras.layers.Embedding(\n",
    "        input_dim=len(vectorize_layer.get_vocabulary()),\n",
    "        output_dim=64,\n",
    "        mask_zero=True),\n",
    "    \n",
    "    tf.keras.layers.Bidirectional(tf.keras.layers.LSTM(64)),\n",
    "    \n",
    "    tf.keras.layers.Dense(16, activation='relu'),\n",
    "    tf.keras.layers.Dense(1, activation='sigmoid')\n",
    "])\n",
    "\n",
    "model.compile(\n",
    "    optimizer= tf.keras.optimizers.Adam(),\n",
    "    loss=\"binary_crossentropy\",\n",
    "    metrics=['accuracy']\n",
    ")\n",
    "\n",
    "X_train, X_test, Y_train, Y_test = train_test_split(Tweet_preprocessed, sentiment, test_size=0.3)\n"
   ]
  },
  {
   "cell_type": "code",
   "execution_count": 45,
   "metadata": {},
   "outputs": [
    {
     "name": "stdout",
     "output_type": "stream",
     "text": [
      "Epoch 1/5\n",
      "51/51 [==============================] - 25s 487ms/step - loss: 0.5233 - accuracy: 0.7979 - val_loss: 0.1906 - val_accuracy: 0.9469\n",
      "Epoch 2/5\n",
      "51/51 [==============================] - 24s 472ms/step - loss: 0.0898 - accuracy: 0.9791 - val_loss: 0.1448 - val_accuracy: 0.9552\n",
      "Epoch 3/5\n",
      "51/51 [==============================] - 24s 478ms/step - loss: 0.0351 - accuracy: 0.9935 - val_loss: 0.1301 - val_accuracy: 0.9574\n",
      "Epoch 4/5\n",
      "51/51 [==============================] - 25s 481ms/step - loss: 0.0139 - accuracy: 0.9977 - val_loss: 0.1441 - val_accuracy: 0.9599\n",
      "Epoch 5/5\n",
      "51/51 [==============================] - 25s 481ms/step - loss: 0.0082 - accuracy: 0.9989 - val_loss: 0.1653 - val_accuracy: 0.9592\n"
     ]
    }
   ],
   "source": [
    "fit = model.fit(X_train, Y_train, epochs=5, batch_size=128 ,validation_data=(X_test, Y_test))"
   ]
  },
  {
   "cell_type": "code",
   "execution_count": 46,
   "metadata": {},
   "outputs": [
    {
     "name": "stdout",
     "output_type": "stream",
     "text": [
      "              precision    recall  f1-score   support\n",
      "\n",
      "           0       0.97      0.95      0.96      1359\n",
      "           1       0.95      0.97      0.96      1409\n",
      "\n",
      "    accuracy                           0.96      2768\n",
      "   macro avg       0.96      0.96      0.96      2768\n",
      "weighted avg       0.96      0.96      0.96      2768\n",
      "\n"
     ]
    }
   ],
   "source": [
    "predicted = model.predict(X_test)\n",
    "\n",
    "\n",
    "for i in range(len(predicted)):\n",
    "    if predicted[i,0] >= 0.5:\n",
    "        predicted[i,0] = 1\n",
    "    \n",
    "    else:\n",
    "        predicted[i,0] = 0\n",
    "\n",
    "print(classification_report(Y_test, predicted))"
   ]
  },
  {
   "cell_type": "code",
   "execution_count": 47,
   "metadata": {
    "scrolled": true
   },
   "outputs": [
    {
     "name": "stdout",
     "output_type": "stream",
     "text": [
      "Iter:  1\n",
      " \n",
      "Epoch 1/5\n",
      "65/65 [==============================] - 31s 482ms/step - loss: 0.3942 - accuracy: 0.8445 - val_loss: 0.1296 - val_accuracy: 0.9686\n",
      "Epoch 2/5\n",
      "65/65 [==============================] - 30s 460ms/step - loss: 0.0525 - accuracy: 0.9876 - val_loss: 0.1176 - val_accuracy: 0.9675\n",
      "Epoch 3/5\n",
      "65/65 [==============================] - 30s 464ms/step - loss: 0.0186 - accuracy: 0.9958 - val_loss: 0.1414 - val_accuracy: 0.9621\n",
      "Epoch 4/5\n",
      "65/65 [==============================] - 30s 456ms/step - loss: 0.0102 - accuracy: 0.9980 - val_loss: 0.1417 - val_accuracy: 0.9632\n",
      "Epoch 5/5\n",
      "65/65 [==============================] - 30s 466ms/step - loss: 0.0052 - accuracy: 0.9984 - val_loss: 0.1519 - val_accuracy: 0.9632\n",
      " \n",
      "Iter:  2\n",
      " \n",
      "Epoch 1/5\n",
      "65/65 [==============================] - 32s 495ms/step - loss: 0.4041 - accuracy: 0.8186 - val_loss: 0.1486 - val_accuracy: 0.9502\n",
      "Epoch 2/5\n",
      "65/65 [==============================] - 32s 487ms/step - loss: 0.0582 - accuracy: 0.9860 - val_loss: 0.1077 - val_accuracy: 0.9632\n",
      "Epoch 3/5\n",
      "65/65 [==============================] - 31s 473ms/step - loss: 0.0168 - accuracy: 0.9959 - val_loss: 0.1698 - val_accuracy: 0.9447\n",
      "Epoch 4/5\n",
      "65/65 [==============================] - 30s 466ms/step - loss: 0.0094 - accuracy: 0.9976 - val_loss: 0.1852 - val_accuracy: 0.9480\n",
      "Epoch 5/5\n",
      "65/65 [==============================] - 30s 466ms/step - loss: 0.0047 - accuracy: 0.9987 - val_loss: 0.1911 - val_accuracy: 0.9491\n",
      " \n",
      "Iter:  3\n",
      " \n",
      "Epoch 1/5\n",
      "65/65 [==============================] - 29s 453ms/step - loss: 0.3861 - accuracy: 0.8847 - val_loss: 0.1710 - val_accuracy: 0.9361\n",
      "Epoch 2/5\n",
      "65/65 [==============================] - 27s 413ms/step - loss: 0.0527 - accuracy: 0.9870 - val_loss: 0.1564 - val_accuracy: 0.9372\n",
      "Epoch 3/5\n",
      "65/65 [==============================] - 27s 418ms/step - loss: 0.0174 - accuracy: 0.9954 - val_loss: 0.1331 - val_accuracy: 0.9588\n",
      "Epoch 4/5\n",
      "65/65 [==============================] - 27s 418ms/step - loss: 0.0087 - accuracy: 0.9986 - val_loss: 0.1441 - val_accuracy: 0.9567\n",
      "Epoch 5/5\n",
      "65/65 [==============================] - 28s 432ms/step - loss: 0.0059 - accuracy: 0.9988 - val_loss: 0.1855 - val_accuracy: 0.9437\n",
      " \n",
      "Iter:  4\n",
      " \n",
      "Epoch 1/5\n",
      "65/65 [==============================] - 29s 446ms/step - loss: 0.3878 - accuracy: 0.8878 - val_loss: 0.1417 - val_accuracy: 0.9577\n",
      "Epoch 2/5\n",
      "65/65 [==============================] - 27s 421ms/step - loss: 0.0532 - accuracy: 0.9848 - val_loss: 0.1291 - val_accuracy: 0.9621\n",
      "Epoch 3/5\n",
      "65/65 [==============================] - 27s 419ms/step - loss: 0.0167 - accuracy: 0.9967 - val_loss: 0.1720 - val_accuracy: 0.9588\n",
      "Epoch 4/5\n",
      "65/65 [==============================] - 27s 420ms/step - loss: 0.0074 - accuracy: 0.9984 - val_loss: 0.2299 - val_accuracy: 0.9523\n",
      "Epoch 5/5\n",
      "65/65 [==============================] - 27s 420ms/step - loss: 0.0187 - accuracy: 0.9959 - val_loss: 0.1360 - val_accuracy: 0.9599\n",
      " \n",
      "Iter:  5\n",
      " \n",
      "Epoch 1/5\n",
      "65/65 [==============================] - 29s 443ms/step - loss: 0.4068 - accuracy: 0.8787 - val_loss: 0.1219 - val_accuracy: 0.9664\n",
      "Epoch 2/5\n",
      "65/65 [==============================] - 27s 416ms/step - loss: 0.0572 - accuracy: 0.9854 - val_loss: 0.0944 - val_accuracy: 0.9783\n",
      "Epoch 3/5\n",
      "65/65 [==============================] - 27s 418ms/step - loss: 0.0198 - accuracy: 0.9954 - val_loss: 0.1356 - val_accuracy: 0.9642\n",
      "Epoch 4/5\n",
      "65/65 [==============================] - 27s 417ms/step - loss: 0.0111 - accuracy: 0.9975 - val_loss: 0.1300 - val_accuracy: 0.9729\n",
      "Epoch 5/5\n",
      "65/65 [==============================] - 27s 417ms/step - loss: 0.0063 - accuracy: 0.9983 - val_loss: 0.1339 - val_accuracy: 0.9718\n",
      " \n",
      "Iter:  6\n",
      " \n",
      "Epoch 1/5\n",
      "65/65 [==============================] - 38s 578ms/step - loss: 0.3984 - accuracy: 0.8816 - val_loss: 0.1373 - val_accuracy: 0.9642\n",
      "Epoch 2/5\n",
      "65/65 [==============================] - 41s 623ms/step - loss: 0.0600 - accuracy: 0.9851 - val_loss: 0.1625 - val_accuracy: 0.9479\n",
      "Epoch 3/5\n",
      "65/65 [==============================] - 40s 622ms/step - loss: 0.0221 - accuracy: 0.9958 - val_loss: 0.1421 - val_accuracy: 0.9577\n",
      "Epoch 4/5\n",
      "65/65 [==============================] - 41s 630ms/step - loss: 0.0089 - accuracy: 0.9984 - val_loss: 0.1633 - val_accuracy: 0.9588\n",
      "Epoch 5/5\n",
      "65/65 [==============================] - 41s 624ms/step - loss: 0.0049 - accuracy: 0.9988 - val_loss: 0.1856 - val_accuracy: 0.9599\n",
      " \n",
      "Iter:  7\n",
      " \n",
      "Epoch 1/5\n",
      "65/65 [==============================] - 46s 701ms/step - loss: 0.3897 - accuracy: 0.8914 - val_loss: 0.1156 - val_accuracy: 0.9566\n",
      "Epoch 2/5\n",
      "65/65 [==============================] - 46s 712ms/step - loss: 0.0567 - accuracy: 0.9854 - val_loss: 0.0914 - val_accuracy: 0.9599\n",
      "Epoch 3/5\n",
      "65/65 [==============================] - 50s 764ms/step - loss: 0.0192 - accuracy: 0.9963 - val_loss: 0.1058 - val_accuracy: 0.9610\n",
      "Epoch 4/5\n",
      "65/65 [==============================] - 46s 714ms/step - loss: 0.0078 - accuracy: 0.9989 - val_loss: 0.1028 - val_accuracy: 0.9577\n",
      "Epoch 5/5\n",
      "65/65 [==============================] - 46s 712ms/step - loss: 0.0060 - accuracy: 0.9989 - val_loss: 0.0970 - val_accuracy: 0.9599\n",
      " \n",
      "Iter:  8\n",
      " \n",
      "Epoch 1/5\n",
      "65/65 [==============================] - 47s 722ms/step - loss: 0.4150 - accuracy: 0.8885 - val_loss: 0.1208 - val_accuracy: 0.9783\n",
      "Epoch 2/5\n",
      "65/65 [==============================] - 45s 691ms/step - loss: 0.0620 - accuracy: 0.9852 - val_loss: 0.1320 - val_accuracy: 0.9610\n",
      "Epoch 3/5\n",
      "65/65 [==============================] - 45s 693ms/step - loss: 0.0211 - accuracy: 0.9952 - val_loss: 0.0828 - val_accuracy: 0.9718\n",
      "Epoch 4/5\n",
      "65/65 [==============================] - 45s 687ms/step - loss: 0.0126 - accuracy: 0.9969 - val_loss: 0.1551 - val_accuracy: 0.9512\n",
      "Epoch 5/5\n",
      "65/65 [==============================] - 48s 745ms/step - loss: 0.0059 - accuracy: 0.9992 - val_loss: 0.1299 - val_accuracy: 0.9566\n",
      " \n",
      "Iter:  9\n",
      " \n",
      "Epoch 1/5\n",
      "65/65 [==============================] - 47s 726ms/step - loss: 0.3897 - accuracy: 0.8993 - val_loss: 0.2559 - val_accuracy: 0.9143\n",
      "Epoch 2/5\n",
      "65/65 [==============================] - 45s 693ms/step - loss: 0.0629 - accuracy: 0.9836 - val_loss: 0.2475 - val_accuracy: 0.9121\n",
      "Epoch 3/5\n",
      "65/65 [==============================] - 45s 695ms/step - loss: 0.0171 - accuracy: 0.9960 - val_loss: 0.1860 - val_accuracy: 0.9469\n",
      "Epoch 4/5\n",
      "65/65 [==============================] - 52s 807ms/step - loss: 0.0116 - accuracy: 0.9970 - val_loss: 0.3284 - val_accuracy: 0.9121\n",
      "Epoch 5/5\n",
      "65/65 [==============================] - 45s 694ms/step - loss: 0.0067 - accuracy: 0.9982 - val_loss: 0.2229 - val_accuracy: 0.9382\n",
      " \n",
      "Iter:  10\n",
      " \n",
      "Epoch 1/5\n",
      "65/65 [==============================] - 49s 754ms/step - loss: 0.4332 - accuracy: 0.8057 - val_loss: 0.1409 - val_accuracy: 0.9555\n",
      "Epoch 2/5\n",
      "65/65 [==============================] - 45s 689ms/step - loss: 0.0605 - accuracy: 0.9851 - val_loss: 0.1927 - val_accuracy: 0.9523\n",
      "Epoch 3/5\n",
      "65/65 [==============================] - 45s 694ms/step - loss: 0.0167 - accuracy: 0.9970 - val_loss: 0.2057 - val_accuracy: 0.9588\n",
      "Epoch 4/5\n",
      "65/65 [==============================] - 46s 713ms/step - loss: 0.0072 - accuracy: 0.9983 - val_loss: 0.2519 - val_accuracy: 0.9523\n",
      "Epoch 5/5\n",
      "65/65 [==============================] - 45s 698ms/step - loss: 0.0041 - accuracy: 0.9993 - val_loss: 0.2576 - val_accuracy: 0.9544\n",
      " \n"
     ]
    }
   ],
   "source": [
    "kf = KFold(n_splits=10)\n",
    "val_accuracy = []\n",
    "index = []\n",
    "cont = 0\n",
    "\n",
    "for train_index, test_index in kf.split(Tweet_preprocessed):\n",
    "    cont += 1\n",
    "    \n",
    "    model = tf.keras.Sequential([\n",
    "    vectorize_layer,\n",
    "    tf.keras.layers.Embedding(\n",
    "        input_dim=len(vectorize_layer.get_vocabulary()),\n",
    "        output_dim=64,\n",
    "        mask_zero=True),\n",
    "    \n",
    "    tf.keras.layers.Bidirectional(tf.keras.layers.LSTM(64)),\n",
    "    \n",
    "    tf.keras.layers.Dense(16, activation='relu'),\n",
    "    tf.keras.layers.Dense(1, activation='sigmoid')\n",
    "    \n",
    "    ])\n",
    "\n",
    "    model.compile(\n",
    "        optimizer= tf.keras.optimizers.Adam(),\n",
    "        loss=\"binary_crossentropy\",\n",
    "        metrics=['accuracy']\n",
    "    )\n",
    "    \n",
    "    Tweet_preprocessed = np.asarray(pre_X(Tweet_preprocessed))\n",
    "    \n",
    "    X_train, X_test = Tweet_preprocessed[train_index], Tweet_preprocessed[test_index]\n",
    "    y_train, y_test = sentiment[train_index], sentiment[test_index]\n",
    "    \n",
    "    print(\"Iter: \",cont)\n",
    "    print(\" \")\n",
    "    \n",
    "    fit = model.fit( X_train, y_train, epochs=5, batch_size=128 ,validation_data=(X_test, y_test)) \n",
    "    print(\" \")\n",
    "    val_accuracy.append(fit.history['val_accuracy'])\n",
    "    \n",
    "    index.append((train_index,test_index))\n"
   ]
  },
  {
   "cell_type": "code",
   "execution_count": 48,
   "metadata": {},
   "outputs": [
    {
     "name": "stdout",
     "output_type": "stream",
     "text": [
      " Fold: 0\t Ultimo valor acc: 0.9631636142730713\n",
      " Fold: 1\t Ultimo valor acc: 0.9490790963172913\n",
      " Fold: 2\t Ultimo valor acc: 0.9436619877815247\n",
      " Fold: 3\t Ultimo valor acc: 0.9599133133888245\n",
      " Fold: 4\t Ultimo valor acc: 0.9718004465103149\n",
      " Fold: 5\t Ultimo valor acc: 0.9598698616027832\n",
      " Fold: 6\t Ultimo valor acc: 0.9598698616027832\n",
      " Fold: 7\t Ultimo valor acc: 0.9566160440444946\n",
      " Fold: 8\t Ultimo valor acc: 0.9381778836250305\n",
      " Fold: 9\t Ultimo valor acc: 0.9544468522071838\n",
      "\n",
      " Média: 0.9556598961353302 \t Std: 0.00930389980611467\n"
     ]
    }
   ],
   "source": [
    "media_std(val_accuracy)"
   ]
  },
  {
   "cell_type": "code",
   "execution_count": 49,
   "metadata": {},
   "outputs": [
    {
     "data": {
      "image/png": "[encoded data removed]",
      "text/plain": [
       "<Figure size 864x432 with 1 Axes>"
      ]
     },
     "metadata": {
      "needs_background": "light"
     },
     "output_type": "display_data"
    }
   ],
   "source": [
    "plt.figure(figsize=(12,6))\n",
    "plt.plot(fit.history['loss'], label='Loss', color='darkred')\n",
    "plt.plot(fit.history['val_loss'], label='Val Loss', color='green')\n",
    "plt.legend()\n",
    "plt.grid()\n",
    "plt.ylabel('Loss')\n",
    "plt.show()"
   ]
  },
  {
   "cell_type": "code",
   "execution_count": 50,
   "metadata": {},
   "outputs": [
    {
     "data": {
      "image/png": "[encoded data removed]",
      "text/plain": [
       "<Figure size 864x432 with 1 Axes>"
      ]
     },
     "metadata": {
      "needs_background": "light"
     },
     "output_type": "display_data"
    }
   ],
   "source": [
    "plt.figure(figsize=(12,6))\n",
    "plt.plot(fit.history['accuracy'], label='accuracy', color='darkred')\n",
    "plt.plot(fit.history['val_accuracy'], label='Val accuracy', color='green')\n",
    "plt.legend()\n",
    "plt.grid()\n",
    "plt.ylabel('Accuracy')\n",
    "plt.show()"
   ]
  },
  {
   "cell_type": "code",
   "execution_count": 51,
   "metadata": {},
   "outputs": [],
   "source": [
    "model = tf.keras.Sequential([\n",
    "    vectorize_layer,\n",
    "    tf.keras.layers.Embedding(\n",
    "        input_dim=len(vectorize_layer.get_vocabulary()),\n",
    "        output_dim=64,\n",
    "        mask_zero=True),\n",
    "    \n",
    "    tf.keras.layers.Conv1D(24,6, activation='relu'),\n",
    "    tf.keras.layers.MaxPooling1D(2),\n",
    "    tf.keras.layers.Flatten(),\n",
    "    \n",
    "    tf.keras.layers.Dense(20, activation='relu'),\n",
    "    tf.keras.layers.Dense(1, activation='sigmoid')   \n",
    "])\n",
    "\n",
    "model.compile(\n",
    "    optimizer= tf.keras.optimizers.Adam(),\n",
    "    loss=\"binary_crossentropy\",\n",
    "    metrics=['accuracy']\n",
    ")\n",
    "\n",
    "X_train, X_test, Y_train, Y_test = train_test_split(Tweet_preprocessed, sentiment, test_size=0.3)\n"
   ]
  },
  {
   "cell_type": "code",
   "execution_count": 52,
   "metadata": {},
   "outputs": [
    {
     "name": "stdout",
     "output_type": "stream",
     "text": [
      "Epoch 1/5\n",
      "202/202 [==============================] - 3s 16ms/step - loss: 0.3075 - accuracy: 0.8463 - val_loss: 0.1103 - val_accuracy: 0.9487\n",
      "Epoch 2/5\n",
      "202/202 [==============================] - 3s 15ms/step - loss: 0.0452 - accuracy: 0.9845 - val_loss: 0.1323 - val_accuracy: 0.9512\n",
      "Epoch 3/5\n",
      "202/202 [==============================] - 3s 15ms/step - loss: 0.0122 - accuracy: 0.9967 - val_loss: 0.1300 - val_accuracy: 0.9505\n",
      "Epoch 4/5\n",
      "202/202 [==============================] - 3s 16ms/step - loss: 0.0058 - accuracy: 0.9985 - val_loss: 0.1342 - val_accuracy: 0.9541\n",
      "Epoch 5/5\n",
      "202/202 [==============================] - 3s 14ms/step - loss: 0.0040 - accuracy: 0.9986 - val_loss: 0.1515 - val_accuracy: 0.9516\n"
     ]
    }
   ],
   "source": [
    "fit = model.fit(X_train, Y_train, epochs=5, batch_size=32 ,validation_data=(X_test, Y_test))"
   ]
  },
  {
   "cell_type": "code",
   "execution_count": 53,
   "metadata": {},
   "outputs": [
    {
     "name": "stdout",
     "output_type": "stream",
     "text": [
      "              precision    recall  f1-score   support\n",
      "\n",
      "           0       0.97      0.94      0.95      1389\n",
      "           1       0.94      0.97      0.95      1379\n",
      "\n",
      "    accuracy                           0.95      2768\n",
      "   macro avg       0.95      0.95      0.95      2768\n",
      "weighted avg       0.95      0.95      0.95      2768\n",
      "\n"
     ]
    }
   ],
   "source": [
    "predicted = model.predict(X_test)\n",
    "\n",
    "\n",
    "for i in range(len(predicted)):\n",
    "    if predicted[i,0] >= 0.5:\n",
    "        predicted[i,0] = 1\n",
    "    \n",
    "    else:\n",
    "        predicted[i,0] = 0\n",
    "\n",
    "print(classification_report(Y_test, predicted))"
   ]
  },
  {
   "cell_type": "code",
   "execution_count": 54,
   "metadata": {
    "scrolled": true
   },
   "outputs": [
    {
     "name": "stdout",
     "output_type": "stream",
     "text": [
      "Iter:  1\n",
      " \n",
      "Epoch 1/5\n",
      "65/65 [==============================] - 2s 30ms/step - loss: 0.5778 - accuracy: 0.6996 - val_loss: 0.2840 - val_accuracy: 0.9112\n",
      "Epoch 2/5\n",
      "65/65 [==============================] - 2s 29ms/step - loss: 0.1114 - accuracy: 0.9640 - val_loss: 0.1073 - val_accuracy: 0.9610\n",
      "Epoch 3/5\n",
      "65/65 [==============================] - 2s 29ms/step - loss: 0.0304 - accuracy: 0.9905 - val_loss: 0.0948 - val_accuracy: 0.9610\n",
      "Epoch 4/5\n",
      "65/65 [==============================] - 2s 29ms/step - loss: 0.0129 - accuracy: 0.9971 - val_loss: 0.1049 - val_accuracy: 0.9588\n",
      "Epoch 5/5\n",
      "65/65 [==============================] - 2s 28ms/step - loss: 0.0081 - accuracy: 0.9973 - val_loss: 0.1073 - val_accuracy: 0.9556\n",
      " \n",
      "Iter:  2\n",
      " \n",
      "Epoch 1/5\n",
      "65/65 [==============================] - 2s 29ms/step - loss: 0.5690 - accuracy: 0.7143 - val_loss: 0.3969 - val_accuracy: 0.8245\n",
      "Epoch 2/5\n",
      "65/65 [==============================] - 2s 27ms/step - loss: 0.1110 - accuracy: 0.9629 - val_loss: 0.1571 - val_accuracy: 0.9339\n",
      "Epoch 3/5\n",
      "65/65 [==============================] - 2s 26ms/step - loss: 0.0288 - accuracy: 0.9922 - val_loss: 0.1579 - val_accuracy: 0.9382\n",
      "Epoch 4/5\n",
      "65/65 [==============================] - 2s 24ms/step - loss: 0.0141 - accuracy: 0.9959 - val_loss: 0.1783 - val_accuracy: 0.9317\n",
      "Epoch 5/5\n",
      "65/65 [==============================] - 2s 25ms/step - loss: 0.0079 - accuracy: 0.9978 - val_loss: 0.1454 - val_accuracy: 0.9426\n",
      " \n",
      "Iter:  3\n",
      " \n",
      "Epoch 1/5\n",
      "65/65 [==============================] - 2s 27ms/step - loss: 0.5420 - accuracy: 0.7411 - val_loss: 0.2672 - val_accuracy: 0.8971\n",
      "Epoch 2/5\n",
      "65/65 [==============================] - 2s 24ms/step - loss: 0.0955 - accuracy: 0.9687 - val_loss: 0.1155 - val_accuracy: 0.9426\n",
      "Epoch 3/5\n",
      "65/65 [==============================] - 2s 24ms/step - loss: 0.0263 - accuracy: 0.9930 - val_loss: 0.1144 - val_accuracy: 0.9469\n",
      "Epoch 4/5\n",
      "65/65 [==============================] - 2s 24ms/step - loss: 0.0117 - accuracy: 0.9973 - val_loss: 0.1106 - val_accuracy: 0.9469\n",
      "Epoch 5/5\n",
      "65/65 [==============================] - 2s 24ms/step - loss: 0.0070 - accuracy: 0.9984 - val_loss: 0.1156 - val_accuracy: 0.9491\n",
      " \n",
      "Iter:  4\n",
      " \n",
      "Epoch 1/5\n",
      "65/65 [==============================] - 2s 29ms/step - loss: 0.5301 - accuracy: 0.7253 - val_loss: 0.2085 - val_accuracy: 0.9285\n",
      "Epoch 2/5\n",
      "65/65 [==============================] - 2s 26ms/step - loss: 0.0943 - accuracy: 0.9681 - val_loss: 0.1066 - val_accuracy: 0.9577\n",
      "Epoch 3/5\n",
      "65/65 [==============================] - 2s 27ms/step - loss: 0.0235 - accuracy: 0.9933 - val_loss: 0.1196 - val_accuracy: 0.9621\n",
      "Epoch 4/5\n",
      "65/65 [==============================] - 2s 26ms/step - loss: 0.0096 - accuracy: 0.9980 - val_loss: 0.1204 - val_accuracy: 0.9599\n",
      "Epoch 5/5\n",
      "65/65 [==============================] - 2s 26ms/step - loss: 0.0058 - accuracy: 0.9983 - val_loss: 0.1235 - val_accuracy: 0.9567\n",
      " \n",
      "Iter:  5\n",
      " \n",
      "Epoch 1/5\n",
      "65/65 [==============================] - 2s 28ms/step - loss: 0.5413 - accuracy: 0.7522 - val_loss: 0.1672 - val_accuracy: 0.9566\n",
      "Epoch 2/5\n",
      "65/65 [==============================] - 2s 26ms/step - loss: 0.0889 - accuracy: 0.9700 - val_loss: 0.0897 - val_accuracy: 0.9718\n",
      "Epoch 3/5\n",
      "65/65 [==============================] - 2s 26ms/step - loss: 0.0232 - accuracy: 0.9939 - val_loss: 0.0779 - val_accuracy: 0.9718\n",
      "Epoch 4/5\n",
      "65/65 [==============================] - 2s 26ms/step - loss: 0.0107 - accuracy: 0.9974 - val_loss: 0.0835 - val_accuracy: 0.9761\n",
      "Epoch 5/5\n",
      "65/65 [==============================] - 2s 26ms/step - loss: 0.0063 - accuracy: 0.9987 - val_loss: 0.0908 - val_accuracy: 0.9718\n",
      " \n",
      "Iter:  6\n",
      " \n",
      "Epoch 1/5\n",
      "65/65 [==============================] - 2s 30ms/step - loss: 0.5246 - accuracy: 0.7851 - val_loss: 0.1902 - val_accuracy: 0.9447\n",
      "Epoch 2/5\n",
      "65/65 [==============================] - 2s 27ms/step - loss: 0.0852 - accuracy: 0.9742 - val_loss: 0.1175 - val_accuracy: 0.9620\n",
      "Epoch 3/5\n",
      "65/65 [==============================] - 2s 27ms/step - loss: 0.0234 - accuracy: 0.9927 - val_loss: 0.1154 - val_accuracy: 0.9555\n",
      "Epoch 4/5\n",
      "65/65 [==============================] - 2s 26ms/step - loss: 0.0097 - accuracy: 0.9980 - val_loss: 0.1233 - val_accuracy: 0.9534\n",
      "Epoch 5/5\n",
      "65/65 [==============================] - 2s 26ms/step - loss: 0.0062 - accuracy: 0.9988 - val_loss: 0.1370 - val_accuracy: 0.9566\n",
      " \n",
      "Iter:  7\n",
      " \n",
      "Epoch 1/5\n",
      "65/65 [==============================] - 2s 29ms/step - loss: 0.5313 - accuracy: 0.7436 - val_loss: 0.1883 - val_accuracy: 0.9349\n",
      "Epoch 2/5\n",
      "65/65 [==============================] - 2s 27ms/step - loss: 0.0878 - accuracy: 0.9698 - val_loss: 0.1164 - val_accuracy: 0.9479\n",
      "Epoch 3/5\n",
      "65/65 [==============================] - 2s 26ms/step - loss: 0.0238 - accuracy: 0.9929 - val_loss: 0.1050 - val_accuracy: 0.9588\n",
      "Epoch 4/5\n",
      "65/65 [==============================] - 2s 26ms/step - loss: 0.0096 - accuracy: 0.9978 - val_loss: 0.1134 - val_accuracy: 0.9566\n",
      "Epoch 5/5\n",
      "65/65 [==============================] - 2s 25ms/step - loss: 0.0059 - accuracy: 0.9987 - val_loss: 0.1101 - val_accuracy: 0.9523\n",
      " \n",
      "Iter:  8\n",
      " \n",
      "Epoch 1/5\n",
      "65/65 [==============================] - 2s 30ms/step - loss: 0.5347 - accuracy: 0.7296 - val_loss: 0.1920 - val_accuracy: 0.9479\n",
      "Epoch 2/5\n",
      "65/65 [==============================] - 2s 31ms/step - loss: 0.0883 - accuracy: 0.9716 - val_loss: 0.2026 - val_accuracy: 0.9056\n",
      "Epoch 3/5\n",
      "65/65 [==============================] - 2s 26ms/step - loss: 0.0236 - accuracy: 0.9940 - val_loss: 0.1124 - val_accuracy: 0.9577\n",
      "Epoch 4/5\n",
      "65/65 [==============================] - 2s 25ms/step - loss: 0.0096 - accuracy: 0.9975 - val_loss: 0.1272 - val_accuracy: 0.9534\n",
      "Epoch 5/5\n",
      "65/65 [==============================] - 2s 25ms/step - loss: 0.0053 - accuracy: 0.9988 - val_loss: 0.1482 - val_accuracy: 0.9414\n",
      " \n",
      "Iter:  9\n",
      " \n",
      "Epoch 1/5\n",
      "65/65 [==============================] - 2s 28ms/step - loss: 0.5518 - accuracy: 0.7272 - val_loss: 0.2550 - val_accuracy: 0.9132\n",
      "Epoch 2/5\n",
      "65/65 [==============================] - 2s 25ms/step - loss: 0.0907 - accuracy: 0.9721 - val_loss: 0.2099 - val_accuracy: 0.9100\n",
      "Epoch 3/5\n",
      "65/65 [==============================] - 2s 25ms/step - loss: 0.0250 - accuracy: 0.9929 - val_loss: 0.1556 - val_accuracy: 0.9317\n",
      "Epoch 4/5\n",
      "65/65 [==============================] - 2s 25ms/step - loss: 0.0103 - accuracy: 0.9976 - val_loss: 0.1530 - val_accuracy: 0.9360\n",
      "Epoch 5/5\n",
      "65/65 [==============================] - 2s 27ms/step - loss: 0.0059 - accuracy: 0.9987 - val_loss: 0.1223 - val_accuracy: 0.9577\n",
      " \n",
      "Iter:  10\n",
      " \n",
      "Epoch 1/5\n",
      "65/65 [==============================] - 2s 29ms/step - loss: 0.5762 - accuracy: 0.6968 - val_loss: 0.3323 - val_accuracy: 0.9100\n",
      "Epoch 2/5\n",
      "65/65 [==============================] - 2s 25ms/step - loss: 0.1185 - accuracy: 0.9601 - val_loss: 0.1289 - val_accuracy: 0.9523\n",
      "Epoch 3/5\n",
      "65/65 [==============================] - 2s 26ms/step - loss: 0.0276 - accuracy: 0.9930 - val_loss: 0.1480 - val_accuracy: 0.9523\n",
      "Epoch 4/5\n",
      "65/65 [==============================] - 2s 25ms/step - loss: 0.0111 - accuracy: 0.9971 - val_loss: 0.1725 - val_accuracy: 0.9447\n",
      "Epoch 5/5\n",
      "65/65 [==============================] - 2s 25ms/step - loss: 0.0063 - accuracy: 0.9987 - val_loss: 0.1810 - val_accuracy: 0.9479\n",
      " \n"
     ]
    }
   ],
   "source": [
    "kf = KFold(n_splits=10)\n",
    "val_accuracy = []\n",
    "index = []\n",
    "cont = 0\n",
    "\n",
    "for train_index, test_index in kf.split(Tweet_preprocessed):\n",
    "    cont += 1\n",
    "    \n",
    "    model = tf.keras.Sequential([\n",
    "    vectorize_layer,\n",
    "    tf.keras.layers.Embedding(\n",
    "        input_dim=len(vectorize_layer.get_vocabulary()),\n",
    "        output_dim=64,\n",
    "        mask_zero=True),\n",
    "    \n",
    "    tf.keras.layers.Conv1D(24,6, activation='relu'),\n",
    "    tf.keras.layers.MaxPooling1D(2),\n",
    "    tf.keras.layers.Flatten(),\n",
    "    \n",
    "    tf.keras.layers.Dense(20, activation='relu'),\n",
    "    tf.keras.layers.Dense(1, activation='sigmoid')   \n",
    "    \n",
    "    ])\n",
    "\n",
    "    model.compile(\n",
    "        optimizer= tf.keras.optimizers.Adam(),\n",
    "        loss=\"binary_crossentropy\",\n",
    "        metrics=['accuracy']\n",
    "    )\n",
    "    \n",
    "    \n",
    "    X_train, X_test = Tweet_preprocessed[train_index], Tweet_preprocessed[test_index]\n",
    "    y_train, y_test = sentiment[train_index], sentiment[test_index]\n",
    "    \n",
    "    print(\"Iter: \",cont)\n",
    "    print(\" \")\n",
    "    \n",
    "    fit = model.fit( X_train, y_train, epochs=5, batch_size=128 ,validation_data=(X_test, y_test)) \n",
    "    print(\" \")\n",
    "    val_accuracy.append(fit.history['val_accuracy'])\n",
    "    \n",
    "    index.append((train_index,test_index))"
   ]
  },
  {
   "cell_type": "code",
   "execution_count": 55,
   "metadata": {},
   "outputs": [
    {
     "name": "stdout",
     "output_type": "stream",
     "text": [
      " Fold: 0\t Ultimo valor acc: 0.9555796384811401\n",
      " Fold: 1\t Ultimo valor acc: 0.9425785541534424\n",
      " Fold: 2\t Ultimo valor acc: 0.9490790963172913\n",
      " Fold: 3\t Ultimo valor acc: 0.9566630721092224\n",
      " Fold: 4\t Ultimo valor acc: 0.9718004465103149\n",
      " Fold: 5\t Ultimo valor acc: 0.9566160440444946\n",
      " Fold: 6\t Ultimo valor acc: 0.952277660369873\n",
      " Fold: 7\t Ultimo valor acc: 0.9414316415786743\n",
      " Fold: 8\t Ultimo valor acc: 0.9577006697654724\n",
      " Fold: 9\t Ultimo valor acc: 0.9479392766952515\n",
      "\n",
      " Média: 0.9531666100025177 \t Std: 0.008320838500408857\n"
     ]
    }
   ],
   "source": [
    "media_std(val_accuracy)"
   ]
  },
  {
   "cell_type": "code",
   "execution_count": 56,
   "metadata": {},
   "outputs": [
    {
     "data": {
      "image/png": "[encoded data removed]",
      "text/plain": [
       "<Figure size 864x432 with 1 Axes>"
      ]
     },
     "metadata": {
      "needs_background": "light"
     },
     "output_type": "display_data"
    }
   ],
   "source": [
    "plt.figure(figsize=(12,6))\n",
    "plt.plot(fit.history['loss'], label='Loss', color='darkred')\n",
    "plt.plot(fit.history['val_loss'], label='Val Loss', color='green')\n",
    "plt.legend()\n",
    "plt.grid()\n",
    "plt.ylabel('Loss')\n",
    "plt.show()"
   ]
  },
  {
   "cell_type": "code",
   "execution_count": 57,
   "metadata": {},
   "outputs": [
    {
     "data": {
      "image/png": "[encoded data removed]",
      "text/plain": [
       "<Figure size 864x432 with 1 Axes>"
      ]
     },
     "metadata": {
      "needs_background": "light"
     },
     "output_type": "display_data"
    }
   ],
   "source": [
    "plt.figure(figsize=(12,6))\n",
    "plt.plot(fit.history['accuracy'], label='accuracy', color='darkred')\n",
    "plt.plot(fit.history['val_accuracy'], label='Val accuracy', color='green')\n",
    "plt.legend()\n",
    "plt.grid()\n",
    "plt.ylabel('Accuracy')\n",
    "plt.show()"
   ]
  },
  {
   "cell_type": "code",
   "execution_count": null,
   "metadata": {},
   "outputs": [],
   "source": []
  }
 ],
 "metadata": {
  "kernelspec": {
   "display_name": "Python 3",
   "language": "python",
   "name": "python3"
  },
  "language_info": {
   "codemirror_mode": {
    "name": "ipython",
    "version": 3
   },
   "file_extension": ".py",
   "mimetype": "text/x-python",
   "name": "python",
   "nbconvert_exporter": "python",
   "pygments_lexer": "ipython3",
   "version": "3.7.9"
  }
 },
 "nbformat": 4,
 "nbformat_minor": 4
}
