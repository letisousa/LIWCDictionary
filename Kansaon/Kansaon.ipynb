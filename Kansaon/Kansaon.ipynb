{
 "cells": [
  {
   "cell_type": "code",
   "execution_count": 1,
   "metadata": {},
   "outputs": [
    {
     "name": "stderr",
     "output_type": "stream",
     "text": [
      "[nltk_data] Downloading package stopwords to\n",
      "[nltk_data]     C:\\Users\\ddayv\\AppData\\Roaming\\nltk_data...\n",
      "[nltk_data]   Package stopwords is already up-to-date!\n",
      "[nltk_data] Downloading package wordnet to\n",
      "[nltk_data]     C:\\Users\\ddayv\\AppData\\Roaming\\nltk_data...\n",
      "[nltk_data]   Package wordnet is already up-to-date!\n"
     ]
    },
    {
     "data": {
      "text/plain": [
       "True"
      ]
     },
     "execution_count": 1,
     "metadata": {},
     "output_type": "execute_result"
    }
   ],
   "source": [
    "from nltk import word_tokenize, RegexpTokenizer\n",
    "from nltk.corpus import stopwords, wordnet\n",
    "from sklearn.naive_bayes import MultinomialNB\n",
    "from sklearn.model_selection import train_test_split\n",
    "from sklearn.feature_extraction.text import CountVectorizer\n",
    "from sklearn.feature_extraction.text import TfidfTransformer\n",
    "import tensorflow as tf\n",
    "from tensorflow.keras.layers.experimental.preprocessing import TextVectorization\n",
    "import matplotlib.pyplot as plt\n",
    "from sklearn.model_selection import KFold\n",
    "from sklearn.metrics import classification_report\n",
    "import numpy as np\n",
    "import pandas as pd\n",
    "import re\n",
    "import nltk\n",
    "nltk.download('stopwords')\n",
    "nltk.download('wordnet')"
   ]
  },
  {
   "cell_type": "code",
   "execution_count": 2,
   "metadata": {},
   "outputs": [],
   "source": [
    "#df = pd.read_csv(\"SOMENTE DADOS BRUTOS(NOVO).txt\", encoding='utf-16')\n",
    "df = pd.read_csv(\"data.txt\", sep=',', header=None, names=['text','sentiment'])"
   ]
  },
  {
   "cell_type": "code",
   "execution_count": 3,
   "metadata": {},
   "outputs": [
    {
     "data": {
      "text/html": [
       "<div>\n",
       "<style scoped>\n",
       "    .dataframe tbody tr th:only-of-type {\n",
       "        vertical-align: middle;\n",
       "    }\n",
       "\n",
       "    .dataframe tbody tr th {\n",
       "        vertical-align: top;\n",
       "    }\n",
       "\n",
       "    .dataframe thead th {\n",
       "        text-align: right;\n",
       "    }\n",
       "</style>\n",
       "<table border=\"1\" class=\"dataframe\">\n",
       "  <thead>\n",
       "    <tr style=\"text-align: right;\">\n",
       "      <th></th>\n",
       "      <th>text</th>\n",
       "      <th>sentiment</th>\n",
       "    </tr>\n",
       "  </thead>\n",
       "  <tbody>\n",
       "    <tr>\n",
       "      <th>0</th>\n",
       "      <td>RT @tirunjr: já pensou presentear sua tia quer...</td>\n",
       "      <td>#Feliz</td>\n",
       "    </tr>\n",
       "    <tr>\n",
       "      <th>1</th>\n",
       "      <td>já pensou presentear sua tia querida no amigo ...</td>\n",
       "      <td>#Feliz</td>\n",
       "    </tr>\n",
       "    <tr>\n",
       "      <th>2</th>\n",
       "      <td>RT @BTSONCHAT: nam: hoje no shopping com o ani...</td>\n",
       "      <td>#Feliz</td>\n",
       "    </tr>\n",
       "    <tr>\n",
       "      <th>3</th>\n",
       "      <td>Lindo Sabadoooo 🎀ECoracao  #Hola #Sabado #Lind...</td>\n",
       "      <td>#Feliz</td>\n",
       "    </tr>\n",
       "    <tr>\n",
       "      <th>4</th>\n",
       "      <td>Se um minuto do seu lado já me deixa #feliz, i...</td>\n",
       "      <td>#Feliz</td>\n",
       "    </tr>\n",
       "    <tr>\n",
       "      <th>...</th>\n",
       "      <td>...</td>\n",
       "      <td>...</td>\n",
       "    </tr>\n",
       "    <tr>\n",
       "      <th>11417</th>\n",
       "      <td>muito ruim ficar sem óculos #triste</td>\n",
       "      <td>#Triste</td>\n",
       "    </tr>\n",
       "    <tr>\n",
       "      <th>11418</th>\n",
       "      <td>#TRISTE     |   #RN  Mulher morre após ser bal...</td>\n",
       "      <td>#Triste</td>\n",
       "    </tr>\n",
       "    <tr>\n",
       "      <th>11419</th>\n",
       "      <td>meu nenê ta bravo #triste</td>\n",
       "      <td>#Triste</td>\n",
       "    </tr>\n",
       "    <tr>\n",
       "      <th>11420</th>\n",
       "      <td>RT @crazycatladybr: O discurso de na saúde e n...</td>\n",
       "      <td>#Triste</td>\n",
       "    </tr>\n",
       "    <tr>\n",
       "      <th>11421</th>\n",
       "      <td>Parece! #Triste {https}://t.co/6Q4rzJfdlL</td>\n",
       "      <td>#Triste</td>\n",
       "    </tr>\n",
       "  </tbody>\n",
       "</table>\n",
       "<p>11422 rows × 2 columns</p>\n",
       "</div>"
      ],
      "text/plain": [
       "                                                    text sentiment\n",
       "0      RT @tirunjr: já pensou presentear sua tia quer...    #Feliz\n",
       "1      já pensou presentear sua tia querida no amigo ...    #Feliz\n",
       "2      RT @BTSONCHAT: nam: hoje no shopping com o ani...    #Feliz\n",
       "3      Lindo Sabadoooo 🎀ECoracao  #Hola #Sabado #Lind...    #Feliz\n",
       "4      Se um minuto do seu lado já me deixa #feliz, i...    #Feliz\n",
       "...                                                  ...       ...\n",
       "11417                muito ruim ficar sem óculos #triste   #Triste\n",
       "11418  #TRISTE     |   #RN  Mulher morre após ser bal...   #Triste\n",
       "11419                          meu nenê ta bravo #triste   #Triste\n",
       "11420  RT @crazycatladybr: O discurso de na saúde e n...   #Triste\n",
       "11421          Parece! #Triste {https}://t.co/6Q4rzJfdlL   #Triste\n",
       "\n",
       "[11422 rows x 2 columns]"
      ]
     },
     "execution_count": 3,
     "metadata": {},
     "output_type": "execute_result"
    }
   ],
   "source": [
    "df"
   ]
  },
  {
   "cell_type": "code",
   "execution_count": 4,
   "metadata": {},
   "outputs": [
    {
     "data": {
      "text/plain": [
       "text         0\n",
       "sentiment    0\n",
       "dtype: int64"
      ]
     },
     "execution_count": 4,
     "metadata": {},
     "output_type": "execute_result"
    }
   ],
   "source": [
    "df.isnull().sum()"
   ]
  },
  {
   "cell_type": "code",
   "execution_count": 5,
   "metadata": {},
   "outputs": [
    {
     "data": {
      "text/plain": [
       "array(['#Feliz', '#Chateado', '#Inveja', '#Ironia', '#Raiva', '#Triste',\n",
       "       '#Amor'], dtype=object)"
      ]
     },
     "execution_count": 5,
     "metadata": {},
     "output_type": "execute_result"
    }
   ],
   "source": [
    "df['sentiment'].unique() #amor e feliz = 1 , triste e chateado = -1"
   ]
  },
  {
   "cell_type": "code",
   "execution_count": 6,
   "metadata": {},
   "outputs": [
    {
     "data": {
      "text/html": [
       "<div>\n",
       "<style scoped>\n",
       "    .dataframe tbody tr th:only-of-type {\n",
       "        vertical-align: middle;\n",
       "    }\n",
       "\n",
       "    .dataframe tbody tr th {\n",
       "        vertical-align: top;\n",
       "    }\n",
       "\n",
       "    .dataframe thead th {\n",
       "        text-align: right;\n",
       "    }\n",
       "</style>\n",
       "<table border=\"1\" class=\"dataframe\">\n",
       "  <thead>\n",
       "    <tr style=\"text-align: right;\">\n",
       "      <th></th>\n",
       "      <th>text</th>\n",
       "      <th>sentiment</th>\n",
       "    </tr>\n",
       "  </thead>\n",
       "  <tbody>\n",
       "    <tr>\n",
       "      <th>171</th>\n",
       "      <td>Aiiiii que ódioooo da Bruna Lombardi! ESorride...</td>\n",
       "      <td>#Inveja</td>\n",
       "    </tr>\n",
       "    <tr>\n",
       "      <th>172</th>\n",
       "      <td>Tem gente q a vontade é perguntar: vc imaginav...</td>\n",
       "      <td>#Inveja</td>\n",
       "    </tr>\n",
       "    <tr>\n",
       "      <th>173</th>\n",
       "      <td>Tá todo mundo pulando de bungee jump hj... tbe...</td>\n",
       "      <td>#Inveja</td>\n",
       "    </tr>\n",
       "    <tr>\n",
       "      <th>174</th>\n",
       "      <td>@T7agoxOficial Mano tu n gostas pk es hater e ...</td>\n",
       "      <td>#Inveja</td>\n",
       "    </tr>\n",
       "    <tr>\n",
       "      <th>175</th>\n",
       "      <td>RT @IPompermayer: @guszavo @EuRobo36 @cartamai...</td>\n",
       "      <td>#Inveja</td>\n",
       "    </tr>\n",
       "    <tr>\n",
       "      <th>...</th>\n",
       "      <td>...</td>\n",
       "      <td>...</td>\n",
       "    </tr>\n",
       "    <tr>\n",
       "      <th>11152</th>\n",
       "      <td>A melhor forma de calar #fofoca , #inveja, #vi...</td>\n",
       "      <td>#Inveja</td>\n",
       "    </tr>\n",
       "    <tr>\n",
       "      <th>11153</th>\n",
       "      <td>Fizeram uma lista na escola da minha irmã e el...</td>\n",
       "      <td>#Inveja</td>\n",
       "    </tr>\n",
       "    <tr>\n",
       "      <th>11154</th>\n",
       "      <td>@umeoitentae1 @manodevitto Fofa, fica meio est...</td>\n",
       "      <td>#Inveja</td>\n",
       "    </tr>\n",
       "    <tr>\n",
       "      <th>11155</th>\n",
       "      <td>Não precisa ter muito , nego #Inveja até o pou...</td>\n",
       "      <td>#Inveja</td>\n",
       "    </tr>\n",
       "    <tr>\n",
       "      <th>11156</th>\n",
       "      <td>@ssantana542 pena que ninguem te pergunto nada...</td>\n",
       "      <td>#Inveja</td>\n",
       "    </tr>\n",
       "  </tbody>\n",
       "</table>\n",
       "<p>869 rows × 2 columns</p>\n",
       "</div>"
      ],
      "text/plain": [
       "                                                    text sentiment\n",
       "171    Aiiiii que ódioooo da Bruna Lombardi! ESorride...   #Inveja\n",
       "172    Tem gente q a vontade é perguntar: vc imaginav...   #Inveja\n",
       "173    Tá todo mundo pulando de bungee jump hj... tbe...   #Inveja\n",
       "174    @T7agoxOficial Mano tu n gostas pk es hater e ...   #Inveja\n",
       "175    RT @IPompermayer: @guszavo @EuRobo36 @cartamai...   #Inveja\n",
       "...                                                  ...       ...\n",
       "11152  A melhor forma de calar #fofoca , #inveja, #vi...   #Inveja\n",
       "11153  Fizeram uma lista na escola da minha irmã e el...   #Inveja\n",
       "11154  @umeoitentae1 @manodevitto Fofa, fica meio est...   #Inveja\n",
       "11155  Não precisa ter muito , nego #Inveja até o pou...   #Inveja\n",
       "11156  @ssantana542 pena que ninguem te pergunto nada...   #Inveja\n",
       "\n",
       "[869 rows x 2 columns]"
      ]
     },
     "execution_count": 6,
     "metadata": {},
     "output_type": "execute_result"
    }
   ],
   "source": [
    "df[df['sentiment'] == '#Inveja']"
   ]
  },
  {
   "cell_type": "code",
   "execution_count": 7,
   "metadata": {},
   "outputs": [],
   "source": [
    "df_remove = df[df['sentiment'] == '#Inveja'].index\n",
    "df = df.drop(df_remove)\n",
    "\n",
    "df_remove = df[df['sentiment'] == '#Raiva'].index\n",
    "df = df.drop(df_remove)\n",
    "\n",
    "df_remove = df[df['sentiment'] == '#Ironia'].index\n",
    "df = df.drop(df_remove)"
   ]
  },
  {
   "cell_type": "code",
   "execution_count": 8,
   "metadata": {},
   "outputs": [
    {
     "data": {
      "text/html": [
       "<div>\n",
       "<style scoped>\n",
       "    .dataframe tbody tr th:only-of-type {\n",
       "        vertical-align: middle;\n",
       "    }\n",
       "\n",
       "    .dataframe tbody tr th {\n",
       "        vertical-align: top;\n",
       "    }\n",
       "\n",
       "    .dataframe thead th {\n",
       "        text-align: right;\n",
       "    }\n",
       "</style>\n",
       "<table border=\"1\" class=\"dataframe\">\n",
       "  <thead>\n",
       "    <tr style=\"text-align: right;\">\n",
       "      <th></th>\n",
       "      <th>text</th>\n",
       "      <th>sentiment</th>\n",
       "    </tr>\n",
       "  </thead>\n",
       "  <tbody>\n",
       "    <tr>\n",
       "      <th>0</th>\n",
       "      <td>RT @tirunjr: já pensou presentear sua tia quer...</td>\n",
       "      <td>#Feliz</td>\n",
       "    </tr>\n",
       "    <tr>\n",
       "      <th>1</th>\n",
       "      <td>já pensou presentear sua tia querida no amigo ...</td>\n",
       "      <td>#Feliz</td>\n",
       "    </tr>\n",
       "    <tr>\n",
       "      <th>2</th>\n",
       "      <td>RT @BTSONCHAT: nam: hoje no shopping com o ani...</td>\n",
       "      <td>#Feliz</td>\n",
       "    </tr>\n",
       "    <tr>\n",
       "      <th>3</th>\n",
       "      <td>Lindo Sabadoooo 🎀ECoracao  #Hola #Sabado #Lind...</td>\n",
       "      <td>#Feliz</td>\n",
       "    </tr>\n",
       "    <tr>\n",
       "      <th>4</th>\n",
       "      <td>Se um minuto do seu lado já me deixa #feliz, i...</td>\n",
       "      <td>#Feliz</td>\n",
       "    </tr>\n",
       "    <tr>\n",
       "      <th>...</th>\n",
       "      <td>...</td>\n",
       "      <td>...</td>\n",
       "    </tr>\n",
       "    <tr>\n",
       "      <th>11417</th>\n",
       "      <td>muito ruim ficar sem óculos #triste</td>\n",
       "      <td>#Triste</td>\n",
       "    </tr>\n",
       "    <tr>\n",
       "      <th>11418</th>\n",
       "      <td>#TRISTE     |   #RN  Mulher morre após ser bal...</td>\n",
       "      <td>#Triste</td>\n",
       "    </tr>\n",
       "    <tr>\n",
       "      <th>11419</th>\n",
       "      <td>meu nenê ta bravo #triste</td>\n",
       "      <td>#Triste</td>\n",
       "    </tr>\n",
       "    <tr>\n",
       "      <th>11420</th>\n",
       "      <td>RT @crazycatladybr: O discurso de na saúde e n...</td>\n",
       "      <td>#Triste</td>\n",
       "    </tr>\n",
       "    <tr>\n",
       "      <th>11421</th>\n",
       "      <td>Parece! #Triste {https}://t.co/6Q4rzJfdlL</td>\n",
       "      <td>#Triste</td>\n",
       "    </tr>\n",
       "  </tbody>\n",
       "</table>\n",
       "<p>9224 rows × 2 columns</p>\n",
       "</div>"
      ],
      "text/plain": [
       "                                                    text sentiment\n",
       "0      RT @tirunjr: já pensou presentear sua tia quer...    #Feliz\n",
       "1      já pensou presentear sua tia querida no amigo ...    #Feliz\n",
       "2      RT @BTSONCHAT: nam: hoje no shopping com o ani...    #Feliz\n",
       "3      Lindo Sabadoooo 🎀ECoracao  #Hola #Sabado #Lind...    #Feliz\n",
       "4      Se um minuto do seu lado já me deixa #feliz, i...    #Feliz\n",
       "...                                                  ...       ...\n",
       "11417                muito ruim ficar sem óculos #triste   #Triste\n",
       "11418  #TRISTE     |   #RN  Mulher morre após ser bal...   #Triste\n",
       "11419                          meu nenê ta bravo #triste   #Triste\n",
       "11420  RT @crazycatladybr: O discurso de na saúde e n...   #Triste\n",
       "11421          Parece! #Triste {https}://t.co/6Q4rzJfdlL   #Triste\n",
       "\n",
       "[9224 rows x 2 columns]"
      ]
     },
     "execution_count": 8,
     "metadata": {},
     "output_type": "execute_result"
    }
   ],
   "source": [
    "df"
   ]
  },
  {
   "cell_type": "code",
   "execution_count": 9,
   "metadata": {},
   "outputs": [
    {
     "data": {
      "text/plain": [
       "array(['#Feliz', '#Chateado', '#Triste', '#Amor'], dtype=object)"
      ]
     },
     "execution_count": 9,
     "metadata": {},
     "output_type": "execute_result"
    }
   ],
   "source": [
    "df['sentiment'].unique()"
   ]
  },
  {
   "cell_type": "code",
   "execution_count": 10,
   "metadata": {},
   "outputs": [],
   "source": [
    "def binario(termo):\n",
    "    if termo == '#Feliz' or termo == '#Amor':\n",
    "        return 1\n",
    "    elif termo == '#Triste' or termo == '#Chateado':\n",
    "        return 0       \n",
    "    \n",
    "df['sentiment'] = df['sentiment'].apply(binario)"
   ]
  },
  {
   "cell_type": "code",
   "execution_count": 11,
   "metadata": {},
   "outputs": [
    {
     "data": {
      "text/plain": [
       "1    4720\n",
       "0    4504\n",
       "Name: sentiment, dtype: int64"
      ]
     },
     "execution_count": 11,
     "metadata": {},
     "output_type": "execute_result"
    }
   ],
   "source": [
    "df['sentiment'].value_counts()"
   ]
  },
  {
   "cell_type": "code",
   "execution_count": 12,
   "metadata": {},
   "outputs": [],
   "source": [
    "def Tokenize(f):     ## Pre-processando a frase\n",
    "\n",
    "    ## Colocando em minusculo\n",
    "    ## Retirando a pontuaçao\n",
    "    ## Retirando as StopWords\n",
    "    \n",
    "    f = f.lower().replace('\\n', '').replace('-','').replace('#','').replace('.','').replace(',','').replace('!','').replace('r\\n','').replace('  ','').replace('https','').replace('rt','').replace('rn','')\n",
    "    token = RegexpTokenizer(r\"\\w+\")\n",
    "    f = token.tokenize(f)\n",
    "    \n",
    "    stop_words = set(stopwords.words('portuguese'))\n",
    "    \n",
    "    new_word = [word for word in f if not word in stop_words]\n",
    "    \n",
    "    return ' '.join(new_word)\n",
    "\n",
    "def remove_user(frase):\n",
    "    frase = re.sub('@\\w+','',frase)\n",
    "    frase = re.sub('{https}[^ ]+','',frase)\n",
    "    frase = re.sub('https\\w+','',frase)\n",
    "    # re.sub('#\\w+','',frase)\n",
    "    return frase\n",
    "\n",
    "def pre_X(frases):\n",
    "    lista = []\n",
    "    \n",
    "    for frase in frases:\n",
    "        lista.append(frase)\n",
    "        \n",
    "    return lista\n",
    "\n",
    "def pre_Y(number):\n",
    "    lista = []\n",
    "    \n",
    "    for numb in number:\n",
    "        lista.append(numb)\n",
    "    \n",
    "    return lista\n"
   ]
  },
  {
   "cell_type": "code",
   "execution_count": 13,
   "metadata": {},
   "outputs": [
    {
     "data": {
      "text/plain": [
       "'Isso lembrou tanto a gente. Valeu, foi bom demais enquanto durou, e sei que o nosso sentimento foi verdadeiro e gos… {https}://t.co/2naG1Ussu1'"
      ]
     },
     "execution_count": 13,
     "metadata": {},
     "output_type": "execute_result"
    }
   ],
   "source": [
    "df['text'][9146]"
   ]
  },
  {
   "cell_type": "code",
   "execution_count": 14,
   "metadata": {},
   "outputs": [
    {
     "data": {
      "text/plain": [
       "'Isso lembrou tanto a gente. Valeu, foi bom demais enquanto durou, e sei que o nosso sentimento foi verdadeiro e gos… '"
      ]
     },
     "execution_count": 14,
     "metadata": {},
     "output_type": "execute_result"
    }
   ],
   "source": [
    "remove_user(df['text'][9146])"
   ]
  },
  {
   "cell_type": "code",
   "execution_count": 15,
   "metadata": {},
   "outputs": [
    {
     "data": {
      "text/plain": [
       "'lembrou tanto gente valeu bom demais enquanto durou sei sentimento verdadeiro gos'"
      ]
     },
     "execution_count": 15,
     "metadata": {},
     "output_type": "execute_result"
    }
   ],
   "source": [
    "Tokenize(remove_user(df['text'][9146]))"
   ]
  },
  {
   "cell_type": "code",
   "execution_count": 16,
   "metadata": {},
   "outputs": [],
   "source": [
    "df['text'] = df['text'].apply(remove_user)\n",
    "df['text'] = df['text'].apply(Tokenize)"
   ]
  },
  {
   "cell_type": "code",
   "execution_count": 17,
   "metadata": {},
   "outputs": [
    {
     "data": {
      "text/html": [
       "<div>\n",
       "<style scoped>\n",
       "    .dataframe tbody tr th:only-of-type {\n",
       "        vertical-align: middle;\n",
       "    }\n",
       "\n",
       "    .dataframe tbody tr th {\n",
       "        vertical-align: top;\n",
       "    }\n",
       "\n",
       "    .dataframe thead th {\n",
       "        text-align: right;\n",
       "    }\n",
       "</style>\n",
       "<table border=\"1\" class=\"dataframe\">\n",
       "  <thead>\n",
       "    <tr style=\"text-align: right;\">\n",
       "      <th></th>\n",
       "      <th>text</th>\n",
       "      <th>sentiment</th>\n",
       "    </tr>\n",
       "  </thead>\n",
       "  <tbody>\n",
       "    <tr>\n",
       "      <th>0</th>\n",
       "      <td>pensou presentear tia querida amigo secreto de...</td>\n",
       "      <td>1</td>\n",
       "    </tr>\n",
       "    <tr>\n",
       "      <th>1</th>\n",
       "      <td>pensou presentear tia querida amigo secreto de...</td>\n",
       "      <td>1</td>\n",
       "    </tr>\n",
       "    <tr>\n",
       "      <th>2</th>\n",
       "      <td>nam hoje shopping aniversariante jungkook feli...</td>\n",
       "      <td>1</td>\n",
       "    </tr>\n",
       "    <tr>\n",
       "      <th>3</th>\n",
       "      <td>lindo sabadoooo ecoracaohola sabado lindodia f...</td>\n",
       "      <td>1</td>\n",
       "    </tr>\n",
       "    <tr>\n",
       "      <th>4</th>\n",
       "      <td>minuto lado deixa feliz imagine vida toda egri...</td>\n",
       "      <td>1</td>\n",
       "    </tr>\n",
       "    <tr>\n",
       "      <th>...</th>\n",
       "      <td>...</td>\n",
       "      <td>...</td>\n",
       "    </tr>\n",
       "    <tr>\n",
       "      <th>11417</th>\n",
       "      <td>ruim ficar óculos triste</td>\n",
       "      <td>0</td>\n",
       "    </tr>\n",
       "    <tr>\n",
       "      <th>11418</th>\n",
       "      <td>triste mulher morre após ser baleada pescoço e...</td>\n",
       "      <td>0</td>\n",
       "    </tr>\n",
       "    <tr>\n",
       "      <th>11419</th>\n",
       "      <td>nenê ta bravo triste</td>\n",
       "      <td>0</td>\n",
       "    </tr>\n",
       "    <tr>\n",
       "      <th>11420</th>\n",
       "      <td>discurso saúde doença td mentira 1 chance cai ...</td>\n",
       "      <td>0</td>\n",
       "    </tr>\n",
       "    <tr>\n",
       "      <th>11421</th>\n",
       "      <td>parece triste</td>\n",
       "      <td>0</td>\n",
       "    </tr>\n",
       "  </tbody>\n",
       "</table>\n",
       "<p>9224 rows × 2 columns</p>\n",
       "</div>"
      ],
      "text/plain": [
       "                                                    text  sentiment\n",
       "0      pensou presentear tia querida amigo secreto de...          1\n",
       "1      pensou presentear tia querida amigo secreto de...          1\n",
       "2      nam hoje shopping aniversariante jungkook feli...          1\n",
       "3      lindo sabadoooo ecoracaohola sabado lindodia f...          1\n",
       "4      minuto lado deixa feliz imagine vida toda egri...          1\n",
       "...                                                  ...        ...\n",
       "11417                           ruim ficar óculos triste          0\n",
       "11418  triste mulher morre após ser baleada pescoço e...          0\n",
       "11419                               nenê ta bravo triste          0\n",
       "11420  discurso saúde doença td mentira 1 chance cai ...          0\n",
       "11421                                      parece triste          0\n",
       "\n",
       "[9224 rows x 2 columns]"
      ]
     },
     "execution_count": 17,
     "metadata": {},
     "output_type": "execute_result"
    }
   ],
   "source": [
    "df"
   ]
  },
  {
   "cell_type": "code",
   "execution_count": 18,
   "metadata": {},
   "outputs": [],
   "source": [
    "text = df['text']\n",
    "sentiment = np.asarray(df['sentiment'])\n"
   ]
  },
  {
   "cell_type": "code",
   "execution_count": 19,
   "metadata": {},
   "outputs": [
    {
     "data": {
      "text/plain": [
       "(9224, 17314)"
      ]
     },
     "execution_count": 19,
     "metadata": {},
     "output_type": "execute_result"
    }
   ],
   "source": [
    "count_vect = CountVectorizer()\n",
    "X = count_vect.fit_transform(text)\n",
    "\n",
    "tfidf_transformer = TfidfTransformer()\n",
    "X = tfidf_transformer.fit_transform(X)\n",
    "X.shape"
   ]
  },
  {
   "cell_type": "code",
   "execution_count": 20,
   "metadata": {},
   "outputs": [
    {
     "data": {
      "text/plain": [
       "(9224,)"
      ]
     },
     "execution_count": 20,
     "metadata": {},
     "output_type": "execute_result"
    }
   ],
   "source": [
    "sentiment.shape"
   ]
  },
  {
   "cell_type": "code",
   "execution_count": 21,
   "metadata": {},
   "outputs": [
    {
     "name": "stdout",
     "output_type": "stream",
     "text": [
      "              precision    recall  f1-score   support\n",
      "\n",
      "           0       0.91      0.98      0.94      1351\n",
      "           1       0.98      0.91      0.94      1417\n",
      "\n",
      "    accuracy                           0.94      2768\n",
      "   macro avg       0.94      0.94      0.94      2768\n",
      "weighted avg       0.94      0.94      0.94      2768\n",
      "\n"
     ]
    }
   ],
   "source": [
    "X_train, X_test, Y_train, Y_test = train_test_split(X, sentiment, test_size=0.3)\n",
    "\n",
    "clf = MultinomialNB().fit(X_train, Y_train)\n",
    "predicted = clf.predict(X_test)\n",
    "\n",
    "print(classification_report(Y_test, predicted))"
   ]
  },
  {
   "cell_type": "code",
   "execution_count": 117,
   "metadata": {},
   "outputs": [
    {
     "name": "stdout",
     "output_type": "stream",
     "text": [
      "0.9328277356446371\n",
      "0.942578548212351\n",
      "0.914409534127844\n",
      "0.9100758396533044\n",
      "0.920824295010846\n",
      "0.9327548806941431\n",
      "0.9370932754880694\n",
      "0.928416485900217\n",
      "0.8590021691973969\n",
      "0.940347071583514\n"
     ]
    }
   ],
   "source": [
    "kf = KFold(n_splits=10)\n",
    "clf = MultinomialNB()\n",
    "\n",
    "for train_index, test_index in kf.split(X):\n",
    "    X_train, X_test = X[train_index], X[test_index]\n",
    "    y_train, y_test = sentiment[train_index], sentiment[test_index]\n",
    "    clf.fit(X_train, y_train)\n",
    "    y_pred = clf.predict(X_test)\n",
    "    \n",
    "    print(clf.score(X_test, y_test))\n"
   ]
  },
  {
   "cell_type": "code",
   "execution_count": 22,
   "metadata": {},
   "outputs": [],
   "source": [
    "def set_array(frases):\n",
    "    \n",
    "    vocab = []\n",
    "    palavras = []\n",
    "    for frase in frases:\n",
    "        \n",
    "        text_array = remove_user(frase)\n",
    "        text_array = Tokenize(text_array)\n",
    "        text_array = text_array.split(' ')\n",
    "        for i in range(len(text_array)):\n",
    "            vocab.append(text_array[i])\n",
    "    \n",
    "    \n",
    "        \n",
    "    return vocab"
   ]
  },
  {
   "cell_type": "code",
   "execution_count": 23,
   "metadata": {},
   "outputs": [],
   "source": [
    "model = tf.keras.Sequential([\n",
    "    tf.keras.layers.Dense(50, activation='relu'),\n",
    "    tf.keras.layers.Dropout(0.3),\n",
    "    \n",
    "    tf.keras.layers.Dense(25, activation='relu'),\n",
    "    tf.keras.layers.Dropout(0.3),\n",
    "    \n",
    "    tf.keras.layers.Dense(10, activation='tanh'),\n",
    "    tf.keras.layers.Dropout(0.3),\n",
    "    \n",
    "    tf.keras.layers.Dense(1 , activation='sigmoid')\n",
    "])\n",
    "\n",
    "model.compile(\n",
    "    optimizer='adam',\n",
    "    loss=\"binary_crossentropy\",\n",
    "    metrics=['accuracy']\n",
    ")"
   ]
  },
  {
   "cell_type": "code",
   "execution_count": 24,
   "metadata": {},
   "outputs": [
    {
     "name": "stdout",
     "output_type": "stream",
     "text": [
      "Epoch 1/5\n",
      "202/202 [==============================] - 2s 8ms/step - loss: 0.3916 - accuracy: 0.8552 - val_loss: 0.0846 - val_accuracy: 0.9711\n",
      "Epoch 2/5\n",
      "202/202 [==============================] - 1s 6ms/step - loss: 0.0438 - accuracy: 0.9902 - val_loss: 0.0717 - val_accuracy: 0.9697\n",
      "Epoch 3/5\n",
      "202/202 [==============================] - 1s 6ms/step - loss: 0.0099 - accuracy: 0.9991 - val_loss: 0.0806 - val_accuracy: 0.9697\n",
      "Epoch 4/5\n",
      "202/202 [==============================] - 1s 6ms/step - loss: 0.0073 - accuracy: 0.9992 - val_loss: 0.0886 - val_accuracy: 0.9678\n",
      "Epoch 5/5\n",
      "202/202 [==============================] - 1s 6ms/step - loss: 0.0044 - accuracy: 0.9994 - val_loss: 0.0948 - val_accuracy: 0.9675\n"
     ]
    }
   ],
   "source": [
    "X_train, X_test, Y_train, Y_test = train_test_split(X, sentiment, test_size=0.3)\n",
    "\n",
    "fit = model.fit(X_train.todense(), Y_train, epochs=5, validation_data=(X_test.todense(), Y_test))"
   ]
  },
  {
   "cell_type": "code",
   "execution_count": 25,
   "metadata": {},
   "outputs": [
    {
     "name": "stdout",
     "output_type": "stream",
     "text": [
      "              precision    recall  f1-score   support\n",
      "\n",
      "           0       0.97      0.96      0.97      1356\n",
      "           1       0.97      0.97      0.97      1412\n",
      "\n",
      "    accuracy                           0.97      2768\n",
      "   macro avg       0.97      0.97      0.97      2768\n",
      "weighted avg       0.97      0.97      0.97      2768\n",
      "\n"
     ]
    }
   ],
   "source": [
    "predicted = model.predict(X_test.todense())\n",
    "\n",
    "\n",
    "for i in range(len(predicted)):\n",
    "    if predicted[i,0] >= 0.5:\n",
    "        predicted[i,0] = 1\n",
    "    \n",
    "    else:\n",
    "        predicted[i,0] = 0\n",
    "\n",
    "print(classification_report(Y_test, predicted))"
   ]
  },
  {
   "cell_type": "code",
   "execution_count": 62,
   "metadata": {
    "scrolled": true
   },
   "outputs": [
    {
     "name": "stdout",
     "output_type": "stream",
     "text": [
      "Iter:  1\n",
      " \n",
      "Epoch 1/5\n",
      "260/260 [==============================] - 1s 6ms/step - loss: 0.3427 - accuracy: 0.8583 - val_loss: 0.0837 - val_accuracy: 0.9751\n",
      "Epoch 2/5\n",
      "260/260 [==============================] - 1s 5ms/step - loss: 0.0415 - accuracy: 0.9899 - val_loss: 0.0751 - val_accuracy: 0.9653\n",
      "Epoch 3/5\n",
      "260/260 [==============================] - 1s 5ms/step - loss: 0.0109 - accuracy: 0.9990 - val_loss: 0.0704 - val_accuracy: 0.9718\n",
      "Epoch 4/5\n",
      "260/260 [==============================] - 1s 6ms/step - loss: 0.0067 - accuracy: 0.9994 - val_loss: 0.0919 - val_accuracy: 0.9751\n",
      "Epoch 5/5\n",
      "260/260 [==============================] - 1s 5ms/step - loss: 0.0049 - accuracy: 0.9994 - val_loss: 0.0895 - val_accuracy: 0.9718\n",
      " \n",
      "Iter:  2\n",
      " \n",
      "Epoch 1/5\n",
      "260/260 [==============================] - 2s 7ms/step - loss: 0.3382 - accuracy: 0.8717 - val_loss: 0.0837 - val_accuracy: 0.9675\n",
      "Epoch 2/5\n",
      "260/260 [==============================] - 1s 5ms/step - loss: 0.0371 - accuracy: 0.9908 - val_loss: 0.0828 - val_accuracy: 0.9664\n",
      "Epoch 3/5\n",
      "260/260 [==============================] - 1s 5ms/step - loss: 0.0087 - accuracy: 0.9990 - val_loss: 0.0767 - val_accuracy: 0.9707\n",
      "Epoch 4/5\n",
      "260/260 [==============================] - 2s 6ms/step - loss: 0.0050 - accuracy: 0.9994 - val_loss: 0.0986 - val_accuracy: 0.9729\n",
      "Epoch 5/5\n",
      "260/260 [==============================] - 1s 5ms/step - loss: 0.0055 - accuracy: 0.9993 - val_loss: 0.0939 - val_accuracy: 0.9740\n",
      " \n",
      "Iter:  3\n",
      " \n",
      "Epoch 1/5\n",
      "260/260 [==============================] - 2s 6ms/step - loss: 0.3473 - accuracy: 0.8411 - val_loss: 0.1034 - val_accuracy: 0.9653\n",
      "Epoch 2/5\n",
      "260/260 [==============================] - 1s 5ms/step - loss: 0.0374 - accuracy: 0.9904 - val_loss: 0.0975 - val_accuracy: 0.9599\n",
      "Epoch 3/5\n",
      "260/260 [==============================] - 1s 5ms/step - loss: 0.0095 - accuracy: 0.9993 - val_loss: 0.1348 - val_accuracy: 0.9491\n",
      "Epoch 4/5\n",
      "260/260 [==============================] - 1s 5ms/step - loss: 0.0054 - accuracy: 0.9995 - val_loss: 0.1257 - val_accuracy: 0.9642\n",
      "Epoch 5/5\n",
      "260/260 [==============================] - 1s 5ms/step - loss: 0.0048 - accuracy: 0.9992 - val_loss: 0.1761 - val_accuracy: 0.9480\n",
      " \n",
      "Iter:  4\n",
      " \n",
      "Epoch 1/5\n",
      "260/260 [==============================] - 1s 5ms/step - loss: 0.3315 - accuracy: 0.8798 - val_loss: 0.0994 - val_accuracy: 0.9599\n",
      "Epoch 2/5\n",
      "260/260 [==============================] - 1s 5ms/step - loss: 0.0318 - accuracy: 0.9924 - val_loss: 0.1069 - val_accuracy: 0.9588\n",
      "Epoch 3/5\n",
      "260/260 [==============================] - 1s 5ms/step - loss: 0.0083 - accuracy: 0.9989 - val_loss: 0.1119 - val_accuracy: 0.9588\n",
      "Epoch 4/5\n",
      "260/260 [==============================] - 1s 5ms/step - loss: 0.0050 - accuracy: 0.9995 - val_loss: 0.1317 - val_accuracy: 0.9588\n",
      "Epoch 5/5\n",
      "260/260 [==============================] - 2s 6ms/step - loss: 0.0036 - accuracy: 0.9993 - val_loss: 0.1465 - val_accuracy: 0.9577\n",
      " \n",
      "Iter:  5\n",
      " \n",
      "Epoch 1/5\n",
      "260/260 [==============================] - 2s 7ms/step - loss: 0.3416 - accuracy: 0.8741 - val_loss: 0.0799 - val_accuracy: 0.9783\n",
      "Epoch 2/5\n",
      "260/260 [==============================] - 1s 6ms/step - loss: 0.0385 - accuracy: 0.9913 - val_loss: 0.0885 - val_accuracy: 0.9685\n",
      "Epoch 3/5\n",
      "260/260 [==============================] - 2s 6ms/step - loss: 0.0110 - accuracy: 0.9986 - val_loss: 0.0832 - val_accuracy: 0.9772\n",
      "Epoch 4/5\n",
      "260/260 [==============================] - 2s 6ms/step - loss: 0.0065 - accuracy: 0.9992 - val_loss: 0.1089 - val_accuracy: 0.9642\n",
      "Epoch 5/5\n",
      "260/260 [==============================] - 2s 6ms/step - loss: 0.0058 - accuracy: 0.9989 - val_loss: 0.0887 - val_accuracy: 0.9751\n",
      " \n",
      "Iter:  6\n",
      " \n",
      "Epoch 1/5\n",
      "260/260 [==============================] - 2s 6ms/step - loss: 0.3431 - accuracy: 0.8789 - val_loss: 0.0843 - val_accuracy: 0.9685\n",
      "Epoch 2/5\n",
      "260/260 [==============================] - 1s 5ms/step - loss: 0.0383 - accuracy: 0.9904 - val_loss: 0.0815 - val_accuracy: 0.9729\n",
      "Epoch 3/5\n",
      "260/260 [==============================] - 1s 5ms/step - loss: 0.0092 - accuracy: 0.9987 - val_loss: 0.0924 - val_accuracy: 0.9707\n",
      "Epoch 4/5\n",
      "260/260 [==============================] - 1s 5ms/step - loss: 0.0061 - accuracy: 0.9994 - val_loss: 0.1091 - val_accuracy: 0.9675\n",
      "Epoch 5/5\n",
      "260/260 [==============================] - 1s 5ms/step - loss: 0.0047 - accuracy: 0.9995 - val_loss: 0.1324 - val_accuracy: 0.9664\n",
      " \n",
      "Iter:  7\n",
      " \n",
      "Epoch 1/5\n",
      "260/260 [==============================] - 1s 6ms/step - loss: 0.3264 - accuracy: 0.8889 - val_loss: 0.0803 - val_accuracy: 0.9696\n",
      "Epoch 2/5\n",
      "260/260 [==============================] - 1s 5ms/step - loss: 0.0370 - accuracy: 0.9908 - val_loss: 0.0809 - val_accuracy: 0.9664\n",
      "Epoch 3/5\n",
      "260/260 [==============================] - 1s 5ms/step - loss: 0.0079 - accuracy: 0.9994 - val_loss: 0.0830 - val_accuracy: 0.9675\n",
      "Epoch 4/5\n",
      "260/260 [==============================] - 1s 6ms/step - loss: 0.0050 - accuracy: 0.9996 - val_loss: 0.0964 - val_accuracy: 0.9664\n",
      "Epoch 5/5\n",
      "260/260 [==============================] - 1s 5ms/step - loss: 0.0048 - accuracy: 0.9992 - val_loss: 0.0954 - val_accuracy: 0.9696\n",
      " \n",
      "Iter:  8\n",
      " \n",
      "Epoch 1/5\n",
      "260/260 [==============================] - 2s 6ms/step - loss: 0.3449 - accuracy: 0.8447 - val_loss: 0.0565 - val_accuracy: 0.9816\n",
      "Epoch 2/5\n",
      "260/260 [==============================] - 1s 6ms/step - loss: 0.0374 - accuracy: 0.9917 - val_loss: 0.0298 - val_accuracy: 0.9881\n",
      "Epoch 3/5\n",
      "260/260 [==============================] - 1s 5ms/step - loss: 0.0088 - accuracy: 0.9994 - val_loss: 0.0521 - val_accuracy: 0.9816\n",
      "Epoch 4/5\n",
      "260/260 [==============================] - 1s 5ms/step - loss: 0.0060 - accuracy: 0.9993 - val_loss: 0.0876 - val_accuracy: 0.9685\n",
      "Epoch 5/5\n",
      "260/260 [==============================] - 2s 6ms/step - loss: 0.0046 - accuracy: 0.9993 - val_loss: 0.1009 - val_accuracy: 0.9631\n",
      " \n",
      "Iter:  9\n",
      " \n",
      "Epoch 1/5\n",
      "260/260 [==============================] - 2s 7ms/step - loss: 0.3496 - accuracy: 0.8785 - val_loss: 0.1302 - val_accuracy: 0.9490\n",
      "Epoch 2/5\n",
      "260/260 [==============================] - 2s 6ms/step - loss: 0.0391 - accuracy: 0.9913 - val_loss: 0.1325 - val_accuracy: 0.9436\n",
      "Epoch 3/5\n",
      "260/260 [==============================] - 2s 6ms/step - loss: 0.0100 - accuracy: 0.9986 - val_loss: 0.2606 - val_accuracy: 0.9197\n",
      "Epoch 4/5\n",
      "260/260 [==============================] - 2s 6ms/step - loss: 0.0057 - accuracy: 0.9994 - val_loss: 0.1846 - val_accuracy: 0.9349\n",
      "Epoch 5/5\n",
      "260/260 [==============================] - 2s 6ms/step - loss: 0.0044 - accuracy: 0.9994 - val_loss: 0.1911 - val_accuracy: 0.9360\n",
      " \n",
      "Iter:  10\n",
      " \n",
      "Epoch 1/5\n",
      "260/260 [==============================] - 2s 7ms/step - loss: 0.3058 - accuracy: 0.8929 - val_loss: 0.1073 - val_accuracy: 0.9653\n",
      "Epoch 2/5\n",
      "260/260 [==============================] - 2s 6ms/step - loss: 0.0316 - accuracy: 0.9925 - val_loss: 0.1075 - val_accuracy: 0.9685\n",
      "Epoch 3/5\n",
      "260/260 [==============================] - 1s 5ms/step - loss: 0.0067 - accuracy: 0.9989 - val_loss: 0.1149 - val_accuracy: 0.9685\n",
      "Epoch 4/5\n",
      "260/260 [==============================] - 2s 6ms/step - loss: 0.0046 - accuracy: 0.9989 - val_loss: 0.1102 - val_accuracy: 0.9685\n",
      "Epoch 5/5\n",
      "260/260 [==============================] - 1s 6ms/step - loss: 0.0033 - accuracy: 0.9995 - val_loss: 0.1234 - val_accuracy: 0.9675\n",
      " \n"
     ]
    }
   ],
   "source": [
    "kf = KFold(n_splits=10)\n",
    "val_accuracy = []\n",
    "index = []\n",
    "cont = 0\n",
    "\n",
    "for train_index, test_index in kf.split(X):\n",
    "    cont += 1\n",
    "    \n",
    "    model = tf.keras.Sequential([\n",
    "    tf.keras.layers.Dense(50, activation='relu'),\n",
    "    tf.keras.layers.Dropout(0.3),\n",
    "    \n",
    "    tf.keras.layers.Dense(25, activation='relu'),\n",
    "    tf.keras.layers.Dropout(0.3),\n",
    "    \n",
    "    tf.keras.layers.Dense(10, activation='tanh'),\n",
    "    tf.keras.layers.Dropout(0.3),\n",
    "    \n",
    "    tf.keras.layers.Dense(1 , activation='sigmoid')\n",
    "    \n",
    "    ])\n",
    "    \n",
    "    model.compile(\n",
    "        optimizer='adam',\n",
    "        loss=\"binary_crossentropy\",\n",
    "        metrics=['accuracy']\n",
    "    )\n",
    "    \n",
    "    X_train, X_test = X[train_index], X[test_index]\n",
    "    y_train, y_test = sentiment[train_index], sentiment[test_index]\n",
    "    \n",
    "    print(\"Iter: \",cont)\n",
    "    print(\" \")\n",
    "    \n",
    "    fit = model.fit(X_train.todense(), y_train, epochs=5, validation_data=(X_test.todense(), y_test))\n",
    "    print(\" \")\n",
    "    val_accuracy.append(fit.history['val_accuracy'])\n",
    "    \n",
    "    index.append((train_index,test_index))"
   ]
  },
  {
   "cell_type": "code",
   "execution_count": 63,
   "metadata": {},
   "outputs": [
    {
     "name": "stdout",
     "output_type": "stream",
     "text": [
      " Fold: 0\tMédia: 0.9718309760093689\tStd: 0.0035605044614362698 \n",
      " Fold: 1\tMédia: 0.9703141927719117\tStd: 0.002955187586855008 \n",
      " Fold: 2\tMédia: 0.9573131084442139\tStd: 0.007399076276034564 \n",
      " Fold: 3\tMédia: 0.9588298916816711\tStd: 0.0006852047431838364 \n",
      " Fold: 4\tMédia: 0.9726681113243103\tStd: 0.005418655698336307 \n",
      " Fold: 5\tMédia: 0.9691973924636841\tStd: 0.002336286681146252 \n",
      " Fold: 6\tMédia: 0.9678958892822266\tStd: 0.0014712297872709452 \n",
      " Fold: 7\tMédia: 0.9765726685523987\tStd: 0.009243950093606096 \n",
      " Fold: 8\tMédia: 0.9366594433784485\tStd: 0.009907310828398677 \n",
      " Fold: 9\tMédia: 0.967678964138031\tStd: 0.0012648330588951192 \n"
     ]
    }
   ],
   "source": [
    "def media_std(val_accuracy):\n",
    "    matrix_acc = np.array(val_accuracy)\n",
    "    \n",
    "    for i in range(len(matrix_acc)):\n",
    "        print(f' Fold: {i}\\tMédia: {matrix_acc[i].mean()}\\tStd: {matrix_acc[i].std()} ')\n",
    "        \n",
    "media_std(val_accuracy) #arquitetura de cima"
   ]
  },
  {
   "cell_type": "code",
   "execution_count": 64,
   "metadata": {},
   "outputs": [
    {
     "data": {
      "image/png": "[encoded data removed]",
      "text/plain": [
       "<Figure size 864x432 with 1 Axes>"
      ]
     },
     "metadata": {
      "needs_background": "light"
     },
     "output_type": "display_data"
    }
   ],
   "source": [
    "plt.figure(figsize=(12,6))\n",
    "plt.plot(fit.history['loss'], label='Loss', color='darkred')\n",
    "plt.plot(fit.history['val_loss'], label='Val Loss', color='green')\n",
    "plt.legend()\n",
    "plt.grid()\n",
    "plt.ylabel('Loss')\n",
    "plt.show()"
   ]
  },
  {
   "cell_type": "code",
   "execution_count": 65,
   "metadata": {},
   "outputs": [
    {
     "data": {
      "image/png": "[encoded data removed]",
      "text/plain": [
       "<Figure size 864x432 with 1 Axes>"
      ]
     },
     "metadata": {
      "needs_background": "light"
     },
     "output_type": "display_data"
    }
   ],
   "source": [
    "plt.figure(figsize=(12,6))\n",
    "plt.plot(fit.history['accuracy'], label='accuracy', color='darkred')\n",
    "plt.plot(fit.history['val_accuracy'], label='Val accuracy', color='green')\n",
    "plt.legend()\n",
    "plt.grid()\n",
    "plt.ylabel('Accuracy')\n",
    "plt.show()"
   ]
  },
  {
   "cell_type": "code",
   "execution_count": 26,
   "metadata": {},
   "outputs": [
    {
     "data": {
      "text/plain": [
       "15000"
      ]
     },
     "execution_count": 26,
     "metadata": {},
     "output_type": "execute_result"
    }
   ],
   "source": [
    "vectorize_layer = TextVectorization(\n",
    " max_tokens=15000,\n",
    " output_mode='int',\n",
    " output_sequence_length=len(max(df['text'])))\n",
    "\n",
    "vocab = set_array(df['text'])\n",
    "\n",
    "vectorize_layer.adapt(np.unique(vocab))\n",
    "len(vectorize_layer.get_vocabulary())\n"
   ]
  },
  {
   "cell_type": "code",
   "execution_count": 27,
   "metadata": {},
   "outputs": [],
   "source": [
    "model = tf.keras.Sequential([\n",
    "    vectorize_layer,\n",
    "    tf.keras.layers.Embedding(\n",
    "        input_dim=len(vectorize_layer.get_vocabulary()),\n",
    "        output_dim=64,mask_zero=True),\n",
    "    \n",
    "    tf.keras.layers.LSTM(50, activation='relu' ,return_sequences=True),\n",
    "    tf.keras.layers.Dropout(0.2),\n",
    "    \n",
    "    tf.keras.layers.LSTM(20 , activation='relu', return_sequences=True),\n",
    "    tf.keras.layers.Dropout(0.2),\n",
    "    \n",
    "    tf.keras.layers.LSTM(20 , activation='relu', return_sequences=True),\n",
    "    tf.keras.layers.Dropout(0.2),\n",
    "    \n",
    "    tf.keras.layers.LSTM(10 , activation='tanh', return_sequences=True),\n",
    "    \n",
    "    tf.keras.layers.LSTM(10 , activation='tanh'),\n",
    "    \n",
    "    tf.keras.layers.Dense(1 , activation='sigmoid')\n",
    "])\n",
    "\n",
    "\n",
    "model.compile(\n",
    "    optimizer= tf.keras.optimizers.Adam(),\n",
    "    loss=\"binary_crossentropy\",\n",
    "    metrics=['accuracy']\n",
    ")"
   ]
  },
  {
   "cell_type": "code",
   "execution_count": 28,
   "metadata": {},
   "outputs": [],
   "source": [
    "X_train, X_test, Y_train, Y_test = train_test_split(df['text'], sentiment, test_size=0.3)"
   ]
  },
  {
   "cell_type": "code",
   "execution_count": 29,
   "metadata": {},
   "outputs": [
    {
     "name": "stdout",
     "output_type": "stream",
     "text": [
      "Epoch 1/5\n",
      "51/51 [==============================] - 12s 226ms/step - loss: 0.6868 - accuracy: 0.5132 - val_loss: 0.6616 - val_accuracy: 0.5126\n",
      "Epoch 2/5\n",
      "51/51 [==============================] - 9s 173ms/step - loss: 0.5239 - accuracy: 0.7673 - val_loss: 0.4785 - val_accuracy: 0.8230\n",
      "Epoch 3/5\n",
      "51/51 [==============================] - 9s 174ms/step - loss: 0.2703 - accuracy: 0.9278 - val_loss: 0.4010 - val_accuracy: 0.8439\n",
      "Epoch 4/5\n",
      "51/51 [==============================] - 10s 192ms/step - loss: 0.1657 - accuracy: 0.9555 - val_loss: 0.3965 - val_accuracy: 0.8613\n",
      "Epoch 5/5\n",
      "51/51 [==============================] - 10s 189ms/step - loss: 0.1112 - accuracy: 0.9709 - val_loss: 0.3525 - val_accuracy: 0.8743\n"
     ]
    }
   ],
   "source": [
    "fit = model.fit(X_train, Y_train, epochs=5, batch_size=128 ,validation_data=(X_test, Y_test)) "
   ]
  },
  {
   "cell_type": "code",
   "execution_count": 31,
   "metadata": {},
   "outputs": [
    {
     "name": "stdout",
     "output_type": "stream",
     "text": [
      "              precision    recall  f1-score   support\n",
      "\n",
      "           0       0.87      0.87      0.87      1356\n",
      "           1       0.88      0.88      0.88      1412\n",
      "\n",
      "    accuracy                           0.87      2768\n",
      "   macro avg       0.87      0.87      0.87      2768\n",
      "weighted avg       0.87      0.87      0.87      2768\n",
      "\n"
     ]
    }
   ],
   "source": [
    "predicted = model.predict(X_test)\n",
    "\n",
    "\n",
    "for i in range(len(predicted)):\n",
    "    if predicted[i,0] >= 0.5:\n",
    "        predicted[i,0] = 1\n",
    "    \n",
    "    else:\n",
    "        predicted[i,0] = 0\n",
    "\n",
    "print(classification_report(Y_test, predicted))"
   ]
  },
  {
   "cell_type": "code",
   "execution_count": 36,
   "metadata": {},
   "outputs": [],
   "source": [
    "Tweet_preprocessed = np.asarray(pre_X(df['text']))"
   ]
  },
  {
   "cell_type": "code",
   "execution_count": 75,
   "metadata": {
    "scrolled": true
   },
   "outputs": [
    {
     "name": "stdout",
     "output_type": "stream",
     "text": [
      "Iter:  1\n",
      " \n",
      "Epoch 1/5\n",
      "65/65 [==============================] - 17s 261ms/step - loss: 0.6876 - accuracy: 0.5251 - val_loss: 0.6921 - val_accuracy: 0.3846\n",
      "Epoch 2/5\n",
      "65/65 [==============================] - 14s 213ms/step - loss: 0.5007 - accuracy: 0.7593 - val_loss: 0.5301 - val_accuracy: 0.8104\n",
      "Epoch 3/5\n",
      "65/65 [==============================] - 13s 198ms/step - loss: 0.3033 - accuracy: 0.9016 - val_loss: 0.5038 - val_accuracy: 0.8321\n",
      "Epoch 4/5\n",
      "65/65 [==============================] - 13s 194ms/step - loss: 0.2133 - accuracy: 0.9376 - val_loss: 0.4043 - val_accuracy: 0.8657\n",
      "Epoch 5/5\n",
      "65/65 [==============================] - 13s 205ms/step - loss: 0.1611 - accuracy: 0.9543 - val_loss: 0.4089 - val_accuracy: 0.8483\n",
      " \n",
      "Iter:  2\n",
      " \n",
      "Epoch 1/5\n",
      "65/65 [==============================] - 16s 249ms/step - loss: 0.6888 - accuracy: 0.5250 - val_loss: 0.7144 - val_accuracy: 0.3705\n",
      "Epoch 2/5\n",
      "65/65 [==============================] - 15s 225ms/step - loss: 0.5519 - accuracy: 0.7171 - val_loss: 0.4861 - val_accuracy: 0.8418\n",
      "Epoch 3/5\n",
      "65/65 [==============================] - 15s 228ms/step - loss: 0.3193 - accuracy: 0.8956 - val_loss: 0.4037 - val_accuracy: 0.8635\n",
      "Epoch 4/5\n",
      "65/65 [==============================] - 14s 219ms/step - loss: 0.1983 - accuracy: 0.9431 - val_loss: 0.3198 - val_accuracy: 0.8862\n",
      "Epoch 5/5\n",
      "65/65 [==============================] - 15s 224ms/step - loss: 0.1184 - accuracy: 0.9686 - val_loss: 0.2980 - val_accuracy: 0.8949\n",
      " \n",
      "Iter:  3\n",
      " \n",
      "Epoch 1/5\n",
      "65/65 [==============================] - 17s 266ms/step - loss: 0.6819 - accuracy: 0.5307 - val_loss: 0.7059 - val_accuracy: 0.3434\n",
      "Epoch 2/5\n",
      "65/65 [==============================] - 13s 203ms/step - loss: 0.4743 - accuracy: 0.8023 - val_loss: 0.5462 - val_accuracy: 0.8093\n",
      "Epoch 3/5\n",
      "65/65 [==============================] - 14s 209ms/step - loss: 0.2721 - accuracy: 0.9125 - val_loss: 0.3951 - val_accuracy: 0.8418\n",
      "Epoch 4/5\n",
      "65/65 [==============================] - 13s 205ms/step - loss: 0.1661 - accuracy: 0.9540 - val_loss: 0.4045 - val_accuracy: 0.8537\n",
      "Epoch 5/5\n",
      "65/65 [==============================] - 13s 205ms/step - loss: 0.1089 - accuracy: 0.9708 - val_loss: 0.3989 - val_accuracy: 0.8483\n",
      " \n",
      "Iter:  4\n",
      " \n",
      "Epoch 1/5\n",
      "65/65 [==============================] - 16s 248ms/step - loss: 0.6881 - accuracy: 0.5261 - val_loss: 0.7249 - val_accuracy: 0.3803\n",
      "Epoch 2/5\n",
      "65/65 [==============================] - 13s 207ms/step - loss: 0.5402 - accuracy: 0.7215 - val_loss: 0.6009 - val_accuracy: 0.8093\n",
      "Epoch 3/5\n",
      "65/65 [==============================] - 13s 201ms/step - loss: 0.2966 - accuracy: 0.9050 - val_loss: 0.4892 - val_accuracy: 0.8364\n",
      "Epoch 4/5\n",
      "65/65 [==============================] - 13s 201ms/step - loss: 0.1808 - accuracy: 0.9500 - val_loss: 0.4478 - val_accuracy: 0.8559\n",
      "Epoch 5/5\n",
      "65/65 [==============================] - 13s 201ms/step - loss: 0.1256 - accuracy: 0.9661 - val_loss: 0.4549 - val_accuracy: 0.8581\n",
      " \n",
      "Iter:  5\n",
      " \n",
      "Epoch 1/5\n",
      "65/65 [==============================] - 16s 251ms/step - loss: 0.6893 - accuracy: 0.5128 - val_loss: 0.6485 - val_accuracy: 0.6529\n",
      "Epoch 2/5\n",
      "65/65 [==============================] - 14s 213ms/step - loss: 0.4890 - accuracy: 0.8078 - val_loss: 0.4366 - val_accuracy: 0.8210\n",
      "Epoch 3/5\n",
      "65/65 [==============================] - 14s 214ms/step - loss: 0.2706 - accuracy: 0.9170 - val_loss: 0.4341 - val_accuracy: 0.8297\n",
      "Epoch 4/5\n",
      "65/65 [==============================] - 14s 215ms/step - loss: 0.1615 - accuracy: 0.9550 - val_loss: 0.3731 - val_accuracy: 0.8590\n",
      "Epoch 5/5\n",
      "65/65 [==============================] - 14s 219ms/step - loss: 0.1006 - accuracy: 0.9724 - val_loss: 0.3957 - val_accuracy: 0.8666\n",
      " \n",
      "Iter:  6\n",
      " \n",
      "Epoch 1/5\n",
      "65/65 [==============================] - 16s 247ms/step - loss: 0.6903 - accuracy: 0.5075 - val_loss: 0.6757 - val_accuracy: 0.5792\n",
      "Epoch 2/5\n",
      "65/65 [==============================] - 14s 209ms/step - loss: 0.5305 - accuracy: 0.7561 - val_loss: 0.4792 - val_accuracy: 0.7798\n",
      "Epoch 3/5\n",
      "65/65 [==============================] - 14s 212ms/step - loss: 0.2960 - accuracy: 0.9017 - val_loss: 0.4642 - val_accuracy: 0.8221\n",
      "Epoch 4/5\n",
      "65/65 [==============================] - 14s 213ms/step - loss: 0.1861 - accuracy: 0.9474 - val_loss: 0.4708 - val_accuracy: 0.8373\n",
      "Epoch 5/5\n",
      "65/65 [==============================] - 14s 212ms/step - loss: 0.1348 - accuracy: 0.9625 - val_loss: 0.4746 - val_accuracy: 0.8373\n",
      " \n",
      "Iter:  7\n",
      " \n",
      "Epoch 1/5\n",
      "65/65 [==============================] - 24s 362ms/step - loss: 0.6795 - accuracy: 0.5388 - val_loss: 0.6130 - val_accuracy: 0.7310\n",
      "Epoch 2/5\n",
      "65/65 [==============================] - 27s 416ms/step - loss: 0.4113 - accuracy: 0.8486 - val_loss: 0.4243 - val_accuracy: 0.8254\n",
      "Epoch 3/5\n",
      "65/65 [==============================] - 26s 405ms/step - loss: 0.2141 - accuracy: 0.9348 - val_loss: 0.4422 - val_accuracy: 0.8330\n",
      "Epoch 4/5\n",
      "65/65 [==============================] - 23s 358ms/step - loss: 0.1335 - accuracy: 0.9653 - val_loss: 0.4877 - val_accuracy: 0.8297\n",
      "Epoch 5/5\n",
      "65/65 [==============================] - 20s 313ms/step - loss: 0.0980 - accuracy: 0.9747 - val_loss: 0.4817 - val_accuracy: 0.8341\n",
      " \n",
      "Iter:  8\n",
      " \n",
      "Epoch 1/5\n",
      "65/65 [==============================] - 22s 342ms/step - loss: 0.6913 - accuracy: 0.5406 - val_loss: 0.6788 - val_accuracy: 0.5239\n",
      "Epoch 2/5\n",
      "65/65 [==============================] - 19s 300ms/step - loss: 0.5324 - accuracy: 0.7950 - val_loss: 0.3484 - val_accuracy: 0.8189\n",
      "Epoch 3/5\n",
      "65/65 [==============================] - 24s 363ms/step - loss: 0.3101 - accuracy: 0.8992 - val_loss: 0.5205 - val_accuracy: 0.7668\n",
      "Epoch 4/5\n",
      "65/65 [==============================] - 20s 313ms/step - loss: 0.2099 - accuracy: 0.9404 - val_loss: 0.4892 - val_accuracy: 0.7874\n",
      "Epoch 5/5\n",
      "65/65 [==============================] - 21s 322ms/step - loss: 0.1339 - accuracy: 0.9630 - val_loss: 0.4829 - val_accuracy: 0.8102\n",
      " \n",
      "Iter:  9\n",
      " \n",
      "Epoch 1/5\n",
      "65/65 [==============================] - 25s 378ms/step - loss: 0.6915 - accuracy: 0.5349 - val_loss: 0.6589 - val_accuracy: 0.7234\n",
      "Epoch 2/5\n",
      "65/65 [==============================] - 21s 330ms/step - loss: 0.5498 - accuracy: 0.7461 - val_loss: 0.4654 - val_accuracy: 0.7560\n",
      "Epoch 3/5\n",
      "65/65 [==============================] - 21s 329ms/step - loss: 0.2961 - accuracy: 0.9018 - val_loss: 0.5016 - val_accuracy: 0.7950\n",
      "Epoch 4/5\n",
      "65/65 [==============================] - 19s 290ms/step - loss: 0.1841 - accuracy: 0.9478 - val_loss: 0.5134 - val_accuracy: 0.7961\n",
      "Epoch 5/5\n",
      "65/65 [==============================] - 18s 276ms/step - loss: 0.1286 - accuracy: 0.9663 - val_loss: 0.5372 - val_accuracy: 0.8015\n",
      " \n",
      "Iter:  10\n",
      " \n",
      "Epoch 1/5\n",
      "65/65 [==============================] - 21s 317ms/step - loss: 0.6856 - accuracy: 0.5419 - val_loss: 0.7707 - val_accuracy: 0.2408\n",
      "Epoch 2/5\n",
      "65/65 [==============================] - 19s 292ms/step - loss: 0.5279 - accuracy: 0.7472 - val_loss: 0.5098 - val_accuracy: 0.8655\n",
      "Epoch 3/5\n",
      "65/65 [==============================] - 19s 294ms/step - loss: 0.3109 - accuracy: 0.9097 - val_loss: 0.5037 - val_accuracy: 0.8275\n",
      "Epoch 4/5\n",
      "65/65 [==============================] - 19s 291ms/step - loss: 0.2075 - accuracy: 0.9442 - val_loss: 0.4000 - val_accuracy: 0.8720\n",
      "Epoch 5/5\n",
      "65/65 [==============================] - 19s 295ms/step - loss: 0.1418 - accuracy: 0.9654 - val_loss: 0.4463 - val_accuracy: 0.8514\n",
      " \n"
     ]
    }
   ],
   "source": [
    "kf = KFold(n_splits=10)\n",
    "val_accuracy = []\n",
    "index = []\n",
    "cont = 0\n",
    "\n",
    "Tweet_preprocessed = np.asarray(pre_X(df['text']))\n",
    "\n",
    "for train_index, test_index in kf.split(Tweet_preprocessed):\n",
    "    cont += 1\n",
    "    \n",
    "    model = tf.keras.Sequential([\n",
    "    vectorize_layer,\n",
    "    tf.keras.layers.Embedding(\n",
    "        input_dim=len(vectorize_layer.get_vocabulary()),\n",
    "        output_dim=64,mask_zero=True),\n",
    "    \n",
    "    tf.keras.layers.LSTM(50, activation='relu' ,return_sequences=True),\n",
    "    tf.keras.layers.Dropout(0.2),\n",
    "    \n",
    "    tf.keras.layers.LSTM(20 , activation='relu', return_sequences=True),\n",
    "    tf.keras.layers.Dropout(0.2),\n",
    "    \n",
    "    tf.keras.layers.LSTM(20 , activation='relu', return_sequences=True),\n",
    "    tf.keras.layers.Dropout(0.2),\n",
    "    \n",
    "    tf.keras.layers.LSTM(10 , activation='tanh', return_sequences=True),\n",
    "    \n",
    "    tf.keras.layers.LSTM(10 , activation='tanh', return_sequences=True),\n",
    "    \n",
    "    tf.keras.layers.LSTM(10 , activation='tanh'),\n",
    "    \n",
    "    tf.keras.layers.Dense(1, activation='sigmoid')\n",
    "    \n",
    "    ])\n",
    "\n",
    "\n",
    "    model.compile(\n",
    "        optimizer= tf.keras.optimizers.Adam(),\n",
    "        loss=\"binary_crossentropy\",\n",
    "        metrics=['accuracy']\n",
    "    )\n",
    "    \n",
    "    \n",
    "    X_train, X_test = Tweet_preprocessed[train_index], Tweet_preprocessed[test_index]\n",
    "    y_train, y_test = sentiment[train_index], sentiment[test_index]\n",
    "\n",
    "    print(\"Iter: \",cont)\n",
    "    print(\" \")\n",
    "    \n",
    "    fit = model.fit( X_train, y_train, epochs=5, batch_size=128 ,validation_data=(X_test, y_test)) \n",
    "    print(\" \")\n",
    "    val_accuracy.append(fit.history['val_accuracy'])\n",
    "    \n",
    "    index.append((train_index,test_index))\n"
   ]
  },
  {
   "cell_type": "code",
   "execution_count": 76,
   "metadata": {},
   "outputs": [
    {
     "name": "stdout",
     "output_type": "stream",
     "text": [
      " Fold: 0\tMédia: 0.74821235537529\tStd: 0.18271109806251934 \n",
      " Fold: 1\tMédia: 0.7713976204395294\tStd: 0.2012848333385508 \n",
      " Fold: 2\tMédia: 0.7393283009529114\tStd: 0.19854234170827292 \n",
      " Fold: 3\tMédia: 0.747995662689209\tStd: 0.18468937703297575 \n",
      " Fold: 4\tMédia: 0.8058568358421325\tStd: 0.07835878868699388 \n",
      " Fold: 5\tMédia: 0.7711496710777282\tStd: 0.09826727123073502 \n",
      " Fold: 6\tMédia: 0.8106290578842164\tStd: 0.039919134231444366 \n",
      " Fold: 7\tMédia: 0.7414316654205322\tStd: 0.11029168912531441 \n",
      " Fold: 8\tMédia: 0.7744034767150879\tStd: 0.030228986608855077 \n",
      " Fold: 9\tMédia: 0.7314533501863479\tStd: 0.2458099770579018 \n"
     ]
    }
   ],
   "source": [
    "media_std(val_accuracy)"
   ]
  },
  {
   "cell_type": "code",
   "execution_count": 77,
   "metadata": {},
   "outputs": [
    {
     "data": {
      "image/png": "[encoded data removed]",
      "text/plain": [
       "<Figure size 864x432 with 1 Axes>"
      ]
     },
     "metadata": {
      "needs_background": "light"
     },
     "output_type": "display_data"
    }
   ],
   "source": [
    "plt.figure(figsize=(12,6))\n",
    "plt.plot(fit.history['loss'], label='Loss', color='darkred')\n",
    "plt.plot(fit.history['val_loss'], label='Val Loss', color='green')\n",
    "plt.legend()\n",
    "plt.grid()\n",
    "plt.ylabel('Loss')\n",
    "plt.show()"
   ]
  },
  {
   "cell_type": "code",
   "execution_count": 78,
   "metadata": {},
   "outputs": [
    {
     "data": {
      "image/png": "[encoded data removed]",
      "text/plain": [
       "<Figure size 864x432 with 1 Axes>"
      ]
     },
     "metadata": {
      "needs_background": "light"
     },
     "output_type": "display_data"
    }
   ],
   "source": [
    "plt.figure(figsize=(12,6))\n",
    "plt.plot(fit.history['accuracy'], label='accuracy', color='darkred')\n",
    "plt.plot(fit.history['val_accuracy'], label='Val accuracy', color='green')\n",
    "plt.legend()\n",
    "plt.grid()\n",
    "plt.ylabel('Accuracy')\n",
    "plt.show()"
   ]
  },
  {
   "cell_type": "code",
   "execution_count": 37,
   "metadata": {},
   "outputs": [],
   "source": [
    "model = tf.keras.Sequential([\n",
    "    vectorize_layer,\n",
    "    tf.keras.layers.Embedding(\n",
    "        input_dim=len(vectorize_layer.get_vocabulary()),\n",
    "        output_dim=64,\n",
    "        mask_zero=True),\n",
    "    \n",
    "    tf.keras.layers.Bidirectional(tf.keras.layers.LSTM(64)),\n",
    "    \n",
    "    tf.keras.layers.Dense(16, activation='relu'),\n",
    "    tf.keras.layers.Dense(1, activation='sigmoid')\n",
    "])\n",
    "\n",
    "model.compile(\n",
    "    optimizer= tf.keras.optimizers.Adam(),\n",
    "    loss=\"binary_crossentropy\",\n",
    "    metrics=['accuracy']\n",
    ")\n",
    "\n",
    "X_train, X_test, Y_train, Y_test = train_test_split(Tweet_preprocessed, sentiment, test_size=0.3)\n"
   ]
  },
  {
   "cell_type": "code",
   "execution_count": 38,
   "metadata": {},
   "outputs": [
    {
     "name": "stdout",
     "output_type": "stream",
     "text": [
      "Epoch 1/5\n",
      "51/51 [==============================] - 8s 162ms/step - loss: 0.4622 - accuracy: 0.8632 - val_loss: 0.1580 - val_accuracy: 0.9530\n",
      "Epoch 2/5\n",
      "51/51 [==============================] - 6s 119ms/step - loss: 0.0682 - accuracy: 0.9820 - val_loss: 0.1240 - val_accuracy: 0.9668\n",
      "Epoch 3/5\n",
      "51/51 [==============================] - 6s 118ms/step - loss: 0.0238 - accuracy: 0.9958 - val_loss: 0.1228 - val_accuracy: 0.9650\n",
      "Epoch 4/5\n",
      "51/51 [==============================] - 6s 117ms/step - loss: 0.0127 - accuracy: 0.9975 - val_loss: 0.1233 - val_accuracy: 0.9657\n",
      "Epoch 5/5\n",
      "51/51 [==============================] - 6s 119ms/step - loss: 0.0075 - accuracy: 0.9989 - val_loss: 0.1337 - val_accuracy: 0.9660\n"
     ]
    }
   ],
   "source": [
    "fit = model.fit(X_train, Y_train, epochs=5, batch_size=128 ,validation_data=(X_test, Y_test))"
   ]
  },
  {
   "cell_type": "code",
   "execution_count": 39,
   "metadata": {},
   "outputs": [
    {
     "name": "stdout",
     "output_type": "stream",
     "text": [
      "              precision    recall  f1-score   support\n",
      "\n",
      "           0       0.97      0.96      0.96      1317\n",
      "           1       0.97      0.97      0.97      1451\n",
      "\n",
      "    accuracy                           0.97      2768\n",
      "   macro avg       0.97      0.97      0.97      2768\n",
      "weighted avg       0.97      0.97      0.97      2768\n",
      "\n"
     ]
    }
   ],
   "source": [
    "predicted = model.predict(X_test)\n",
    "\n",
    "\n",
    "for i in range(len(predicted)):\n",
    "    if predicted[i,0] >= 0.5:\n",
    "        predicted[i,0] = 1\n",
    "    \n",
    "    else:\n",
    "        predicted[i,0] = 0\n",
    "\n",
    "print(classification_report(Y_test, predicted))"
   ]
  },
  {
   "cell_type": "code",
   "execution_count": 84,
   "metadata": {
    "scrolled": true
   },
   "outputs": [
    {
     "name": "stdout",
     "output_type": "stream",
     "text": [
      "Iter:  1\n",
      " \n",
      "Epoch 1/5\n",
      "65/65 [==============================] - 41s 638ms/step - loss: 0.3970 - accuracy: 0.8530 - val_loss: 0.1533 - val_accuracy: 0.9599\n",
      "Epoch 2/5\n",
      "65/65 [==============================] - 39s 607ms/step - loss: 0.0546 - accuracy: 0.9852 - val_loss: 0.1441 - val_accuracy: 0.9632\n",
      "Epoch 3/5\n",
      "65/65 [==============================] - 39s 596ms/step - loss: 0.0179 - accuracy: 0.9966 - val_loss: 0.1475 - val_accuracy: 0.9621\n",
      "Epoch 4/5\n",
      "65/65 [==============================] - 43s 660ms/step - loss: 0.0112 - accuracy: 0.9969 - val_loss: 0.1438 - val_accuracy: 0.9621\n",
      "Epoch 5/5\n",
      "65/65 [==============================] - 46s 711ms/step - loss: 0.0053 - accuracy: 0.9988 - val_loss: 0.1605 - val_accuracy: 0.9588\n",
      " \n",
      "Iter:  2\n",
      " \n",
      "Epoch 1/5\n",
      "65/65 [==============================] - 41s 633ms/step - loss: 0.4085 - accuracy: 0.8630 - val_loss: 0.1456 - val_accuracy: 0.9447\n",
      "Epoch 2/5\n",
      "65/65 [==============================] - 38s 585ms/step - loss: 0.0628 - accuracy: 0.9845 - val_loss: 0.1215 - val_accuracy: 0.9556\n",
      "Epoch 3/5\n",
      "65/65 [==============================] - 38s 579ms/step - loss: 0.0224 - accuracy: 0.9952 - val_loss: 0.1749 - val_accuracy: 0.9447\n",
      "Epoch 4/5\n",
      "65/65 [==============================] - 39s 605ms/step - loss: 0.0096 - accuracy: 0.9976 - val_loss: 0.1582 - val_accuracy: 0.9512\n",
      "Epoch 5/5\n",
      "65/65 [==============================] - 39s 605ms/step - loss: 0.0073 - accuracy: 0.9987 - val_loss: 0.1898 - val_accuracy: 0.9447\n",
      " \n",
      "Iter:  3\n",
      " \n",
      "Epoch 1/5\n",
      "65/65 [==============================] - 42s 650ms/step - loss: 0.4173 - accuracy: 0.8189 - val_loss: 0.2155 - val_accuracy: 0.9112\n",
      "Epoch 2/5\n",
      "65/65 [==============================] - 41s 635ms/step - loss: 0.0617 - accuracy: 0.9833 - val_loss: 0.1783 - val_accuracy: 0.9415\n",
      "Epoch 3/5\n",
      "65/65 [==============================] - 42s 648ms/step - loss: 0.0229 - accuracy: 0.9951 - val_loss: 0.1708 - val_accuracy: 0.9523\n",
      "Epoch 4/5\n",
      "65/65 [==============================] - 43s 668ms/step - loss: 0.0109 - accuracy: 0.9980 - val_loss: 0.1887 - val_accuracy: 0.9545\n",
      "Epoch 5/5\n",
      "65/65 [==============================] - 40s 615ms/step - loss: 0.0072 - accuracy: 0.9978 - val_loss: 0.1854 - val_accuracy: 0.9545\n",
      " \n",
      "Iter:  4\n",
      " \n",
      "Epoch 1/5\n",
      "65/65 [==============================] - 42s 644ms/step - loss: 0.3910 - accuracy: 0.8517 - val_loss: 0.1418 - val_accuracy: 0.9480\n",
      "Epoch 2/5\n",
      "65/65 [==============================] - 39s 603ms/step - loss: 0.0558 - accuracy: 0.9847 - val_loss: 0.1009 - val_accuracy: 0.9545\n",
      "Epoch 3/5\n",
      "65/65 [==============================] - 40s 618ms/step - loss: 0.0167 - accuracy: 0.9963 - val_loss: 0.1260 - val_accuracy: 0.9556\n",
      "Epoch 4/5\n",
      "65/65 [==============================] - 37s 570ms/step - loss: 0.0066 - accuracy: 0.9989 - val_loss: 0.1390 - val_accuracy: 0.9545\n",
      "Epoch 5/5\n",
      "65/65 [==============================] - 41s 633ms/step - loss: 0.0041 - accuracy: 0.9993 - val_loss: 0.1727 - val_accuracy: 0.9491\n",
      " \n",
      "Iter:  5\n",
      " \n",
      "Epoch 1/5\n",
      "65/65 [==============================] - 52s 793ms/step - loss: 0.4677 - accuracy: 0.7855 - val_loss: 0.1426 - val_accuracy: 0.9599\n",
      "Epoch 2/5\n",
      "65/65 [==============================] - 57s 878ms/step - loss: 0.0688 - accuracy: 0.9805 - val_loss: 0.1282 - val_accuracy: 0.9664\n",
      "Epoch 3/5\n",
      "65/65 [==============================] - 50s 767ms/step - loss: 0.0204 - accuracy: 0.9955 - val_loss: 0.1581 - val_accuracy: 0.9577\n",
      "Epoch 4/5\n",
      "65/65 [==============================] - 50s 765ms/step - loss: 0.0094 - accuracy: 0.9981 - val_loss: 0.1635 - val_accuracy: 0.9620\n",
      "Epoch 5/5\n",
      "65/65 [==============================] - 53s 814ms/step - loss: 0.0062 - accuracy: 0.9981 - val_loss: 0.1664 - val_accuracy: 0.9696\n",
      " \n",
      "Iter:  6\n",
      " \n",
      "Epoch 1/5\n",
      "65/65 [==============================] - 57s 870ms/step - loss: 0.3979 - accuracy: 0.8376 - val_loss: 0.1290 - val_accuracy: 0.9620\n",
      "Epoch 2/5\n",
      "65/65 [==============================] - 43s 656ms/step - loss: 0.0636 - accuracy: 0.9841 - val_loss: 0.1101 - val_accuracy: 0.9642\n",
      "Epoch 3/5\n",
      "65/65 [==============================] - 40s 621ms/step - loss: 0.0148 - accuracy: 0.9972 - val_loss: 0.1641 - val_accuracy: 0.9599\n",
      "Epoch 4/5\n",
      "65/65 [==============================] - 40s 612ms/step - loss: 0.0089 - accuracy: 0.9982 - val_loss: 0.1579 - val_accuracy: 0.9610\n",
      "Epoch 5/5\n",
      "65/65 [==============================] - 43s 658ms/step - loss: 0.0056 - accuracy: 0.9992 - val_loss: 0.1637 - val_accuracy: 0.9588\n",
      " \n",
      "Iter:  7\n",
      " \n",
      "Epoch 1/5\n",
      "65/65 [==============================] - 41s 637ms/step - loss: 0.4020 - accuracy: 0.8591 - val_loss: 0.1270 - val_accuracy: 0.9534\n",
      "Epoch 2/5\n",
      "65/65 [==============================] - 44s 677ms/step - loss: 0.0617 - accuracy: 0.9834 - val_loss: 0.1081 - val_accuracy: 0.9599\n",
      "Epoch 3/5\n",
      "65/65 [==============================] - 46s 703ms/step - loss: 0.0217 - accuracy: 0.9955 - val_loss: 0.1200 - val_accuracy: 0.9544\n",
      "Epoch 4/5\n",
      "65/65 [==============================] - 43s 662ms/step - loss: 0.0098 - accuracy: 0.9981 - val_loss: 0.1155 - val_accuracy: 0.9566\n",
      "Epoch 5/5\n",
      "65/65 [==============================] - 43s 656ms/step - loss: 0.0064 - accuracy: 0.9987 - val_loss: 0.1138 - val_accuracy: 0.9610\n",
      " \n",
      "Iter:  8\n",
      " \n",
      "Epoch 1/5\n",
      "65/65 [==============================] - 43s 667ms/step - loss: 0.4326 - accuracy: 0.8479 - val_loss: 0.1658 - val_accuracy: 0.9544\n",
      "Epoch 2/5\n",
      "65/65 [==============================] - 41s 626ms/step - loss: 0.0703 - accuracy: 0.9837 - val_loss: 0.1387 - val_accuracy: 0.9479\n",
      "Epoch 3/5\n",
      "65/65 [==============================] - 40s 615ms/step - loss: 0.0241 - accuracy: 0.9957 - val_loss: 0.1764 - val_accuracy: 0.9403\n",
      "Epoch 4/5\n",
      "65/65 [==============================] - 41s 627ms/step - loss: 0.0109 - accuracy: 0.9980 - val_loss: 0.1291 - val_accuracy: 0.9566\n",
      "Epoch 5/5\n",
      "65/65 [==============================] - 44s 675ms/step - loss: 0.0076 - accuracy: 0.9988 - val_loss: 0.1709 - val_accuracy: 0.9490\n",
      " \n",
      "Iter:  9\n",
      " \n",
      "Epoch 1/5\n",
      "65/65 [==============================] - 42s 649ms/step - loss: 0.3996 - accuracy: 0.8912 - val_loss: 0.1970 - val_accuracy: 0.9262\n",
      "Epoch 2/5\n",
      "65/65 [==============================] - 42s 644ms/step - loss: 0.0599 - accuracy: 0.9865 - val_loss: 0.2205 - val_accuracy: 0.9197\n",
      "Epoch 3/5\n",
      "65/65 [==============================] - 41s 629ms/step - loss: 0.0183 - accuracy: 0.9966 - val_loss: 0.1836 - val_accuracy: 0.9403\n",
      "Epoch 4/5\n",
      "65/65 [==============================] - 47s 724ms/step - loss: 0.0083 - accuracy: 0.9988 - val_loss: 0.2714 - val_accuracy: 0.9262\n",
      "Epoch 5/5\n",
      "65/65 [==============================] - 48s 735ms/step - loss: 0.0046 - accuracy: 0.9990 - val_loss: 0.2426 - val_accuracy: 0.9382\n",
      " \n",
      "Iter:  10\n",
      " \n",
      "Epoch 1/5\n",
      "65/65 [==============================] - 62s 949ms/step - loss: 0.4228 - accuracy: 0.7949 - val_loss: 0.1999 - val_accuracy: 0.9501\n",
      "Epoch 2/5\n",
      "65/65 [==============================] - 49s 755ms/step - loss: 0.0588 - accuracy: 0.9849 - val_loss: 0.1714 - val_accuracy: 0.9534\n",
      "Epoch 3/5\n",
      "65/65 [==============================] - 44s 676ms/step - loss: 0.0190 - accuracy: 0.9960 - val_loss: 0.2004 - val_accuracy: 0.9555\n",
      "Epoch 4/5\n",
      "65/65 [==============================] - 45s 697ms/step - loss: 0.0079 - accuracy: 0.9981 - val_loss: 0.2183 - val_accuracy: 0.9512\n",
      "Epoch 5/5\n",
      "65/65 [==============================] - 46s 700ms/step - loss: 0.0049 - accuracy: 0.9984 - val_loss: 0.2365 - val_accuracy: 0.9566\n",
      " \n"
     ]
    }
   ],
   "source": [
    "kf = KFold(n_splits=10)\n",
    "val_accuracy = []\n",
    "index = []\n",
    "cont = 0\n",
    "\n",
    "for train_index, test_index in kf.split(Tweet_preprocessed):\n",
    "    cont += 1\n",
    "    \n",
    "    model = tf.keras.Sequential([\n",
    "    vectorize_layer,\n",
    "    tf.keras.layers.Embedding(\n",
    "        input_dim=len(vectorize_layer.get_vocabulary()),\n",
    "        output_dim=64,\n",
    "        mask_zero=True),\n",
    "    \n",
    "    tf.keras.layers.Bidirectional(tf.keras.layers.LSTM(64)),\n",
    "    \n",
    "    tf.keras.layers.Dense(16, activation='relu'),\n",
    "    tf.keras.layers.Dense(1, activation='sigmoid')\n",
    "    \n",
    "    ])\n",
    "\n",
    "    model.compile(\n",
    "        optimizer= tf.keras.optimizers.Adam(),\n",
    "        loss=\"binary_crossentropy\",\n",
    "        metrics=['accuracy']\n",
    "    )\n",
    "    \n",
    "    Tweet_preprocessed = np.asarray(pre_X(Tweet_preprocessed))\n",
    "    \n",
    "    X_train, X_test = Tweet_preprocessed[train_index], Tweet_preprocessed[test_index]\n",
    "    y_train, y_test = sentiment[train_index], sentiment[test_index]\n",
    "    \n",
    "    print(\"Iter: \",cont)\n",
    "    print(\" \")\n",
    "    \n",
    "    fit = model.fit( X_train, y_train, epochs=5, batch_size=128 ,validation_data=(X_test, y_test)) \n",
    "    print(\" \")\n",
    "    val_accuracy.append(fit.history['val_accuracy'])\n",
    "    \n",
    "    index.append((train_index,test_index))\n"
   ]
  },
  {
   "cell_type": "code",
   "execution_count": 85,
   "metadata": {},
   "outputs": [
    {
     "name": "stdout",
     "output_type": "stream",
     "text": [
      " Fold: 0\tMédia: 0.9612134337425232\tStd: 0.0015923157353843389 \n",
      " Fold: 1\tMédia: 0.9482123732566834\tStd: 0.004461805294437346 \n",
      " Fold: 2\tMédia: 0.9427952289581298\tStd: 0.01653631544174079 \n",
      " Fold: 3\tMédia: 0.9523293614387512\tStd: 0.0031400601850312244 \n",
      " Fold: 4\tMédia: 0.9631236553192138\tStd: 0.004338392615325464 \n",
      " Fold: 5\tMédia: 0.9611713647842407\tStd: 0.0018660176898337723 \n",
      " Fold: 6\tMédia: 0.9570498824119568\tStd: 0.002958396352591103 \n",
      " Fold: 7\tMédia: 0.9496746182441711\tStd: 0.005681471331284873 \n",
      " Fold: 8\tMédia: 0.9301518559455871\tStd: 0.007839174239633179 \n",
      " Fold: 9\tMédia: 0.953362250328064\tStd: 0.0024732696806522006 \n"
     ]
    }
   ],
   "source": [
    "media_std(val_accuracy)"
   ]
  },
  {
   "cell_type": "code",
   "execution_count": 86,
   "metadata": {},
   "outputs": [
    {
     "data": {
      "image/png": "[encoded data removed]",
      "text/plain": [
       "<Figure size 864x432 with 1 Axes>"
      ]
     },
     "metadata": {
      "needs_background": "light"
     },
     "output_type": "display_data"
    }
   ],
   "source": [
    "plt.figure(figsize=(12,6))\n",
    "plt.plot(fit.history['loss'], label='Loss', color='darkred')\n",
    "plt.plot(fit.history['val_loss'], label='Val Loss', color='green')\n",
    "plt.legend()\n",
    "plt.grid()\n",
    "plt.ylabel('Loss')\n",
    "plt.show()"
   ]
  },
  {
   "cell_type": "code",
   "execution_count": 87,
   "metadata": {},
   "outputs": [
    {
     "data": {
      "image/png": "[encoded data removed]",
      "text/plain": [
       "<Figure size 864x432 with 1 Axes>"
      ]
     },
     "metadata": {
      "needs_background": "light"
     },
     "output_type": "display_data"
    }
   ],
   "source": [
    "plt.figure(figsize=(12,6))\n",
    "plt.plot(fit.history['accuracy'], label='accuracy', color='darkred')\n",
    "plt.plot(fit.history['val_accuracy'], label='Val accuracy', color='green')\n",
    "plt.legend()\n",
    "plt.grid()\n",
    "plt.ylabel('Accuracy')\n",
    "plt.show()"
   ]
  },
  {
   "cell_type": "code",
   "execution_count": 49,
   "metadata": {},
   "outputs": [],
   "source": [
    "model = tf.keras.Sequential([\n",
    "    vectorize_layer,\n",
    "    tf.keras.layers.Embedding(\n",
    "        input_dim=len(vectorize_layer.get_vocabulary()),\n",
    "        output_dim=64,\n",
    "        mask_zero=True),\n",
    "    \n",
    "    tf.keras.layers.Conv1D(24,6, activation='relu'),\n",
    "    tf.keras.layers.MaxPooling1D(2),\n",
    "    tf.keras.layers.Flatten(),\n",
    "    \n",
    "    tf.keras.layers.Dense(20, activation='relu'),\n",
    "    tf.keras.layers.Dense(1, activation='sigmoid')   \n",
    "])\n",
    "\n",
    "model.compile(\n",
    "    optimizer= tf.keras.optimizers.Adam(),\n",
    "    loss=\"binary_crossentropy\",\n",
    "    metrics=['accuracy']\n",
    ")\n",
    "\n",
    "X_train, X_test, Y_train, Y_test = train_test_split(Tweet_preprocessed, sentiment, test_size=0.3)\n"
   ]
  },
  {
   "cell_type": "code",
   "execution_count": 50,
   "metadata": {},
   "outputs": [
    {
     "name": "stdout",
     "output_type": "stream",
     "text": [
      "Epoch 1/5\n",
      "202/202 [==============================] - 3s 14ms/step - loss: 0.3352 - accuracy: 0.8330 - val_loss: 0.1151 - val_accuracy: 0.9541\n",
      "Epoch 2/5\n",
      "202/202 [==============================] - 3s 15ms/step - loss: 0.0453 - accuracy: 0.9853 - val_loss: 0.1168 - val_accuracy: 0.9523\n",
      "Epoch 3/5\n",
      "202/202 [==============================] - 3s 15ms/step - loss: 0.0105 - accuracy: 0.9974 - val_loss: 0.1226 - val_accuracy: 0.9563\n",
      "Epoch 4/5\n",
      "202/202 [==============================] - 3s 16ms/step - loss: 0.0055 - accuracy: 0.9988 - val_loss: 0.1348 - val_accuracy: 0.9541\n",
      "Epoch 5/5\n",
      "202/202 [==============================] - 3s 13ms/step - loss: 0.0036 - accuracy: 0.9989 - val_loss: 0.1418 - val_accuracy: 0.9523\n"
     ]
    }
   ],
   "source": [
    "fit = model.fit(X_train, Y_train, epochs=5, batch_size=32 ,validation_data=(X_test, Y_test))"
   ]
  },
  {
   "cell_type": "code",
   "execution_count": 51,
   "metadata": {},
   "outputs": [
    {
     "name": "stdout",
     "output_type": "stream",
     "text": [
      "              precision    recall  f1-score   support\n",
      "\n",
      "           0       0.94      0.96      0.95      1343\n",
      "           1       0.96      0.94      0.95      1425\n",
      "\n",
      "    accuracy                           0.95      2768\n",
      "   macro avg       0.95      0.95      0.95      2768\n",
      "weighted avg       0.95      0.95      0.95      2768\n",
      "\n"
     ]
    }
   ],
   "source": [
    "predicted = model.predict(X_test)\n",
    "\n",
    "\n",
    "for i in range(len(predicted)):\n",
    "    if predicted[i,0] >= 0.5:\n",
    "        predicted[i,0] = 1\n",
    "    \n",
    "    else:\n",
    "        predicted[i,0] = 0\n",
    "\n",
    "print(classification_report(Y_test, predicted))"
   ]
  },
  {
   "cell_type": "code",
   "execution_count": 90,
   "metadata": {
    "scrolled": true
   },
   "outputs": [
    {
     "name": "stdout",
     "output_type": "stream",
     "text": [
      "Iter:  1\n",
      " \n",
      "Epoch 1/5\n",
      "65/65 [==============================] - 2s 36ms/step - loss: 0.5799 - accuracy: 0.6868 - val_loss: 0.2533 - val_accuracy: 0.9350\n",
      "Epoch 2/5\n",
      "65/65 [==============================] - 2s 35ms/step - loss: 0.1154 - accuracy: 0.9630 - val_loss: 0.1177 - val_accuracy: 0.9577\n",
      "Epoch 3/5\n",
      "65/65 [==============================] - 2s 37ms/step - loss: 0.0296 - accuracy: 0.9920 - val_loss: 0.1120 - val_accuracy: 0.9556\n",
      "Epoch 4/5\n",
      "65/65 [==============================] - 2s 36ms/step - loss: 0.0130 - accuracy: 0.9971 - val_loss: 0.1032 - val_accuracy: 0.9664\n",
      "Epoch 5/5\n",
      "65/65 [==============================] - 2s 34ms/step - loss: 0.0077 - accuracy: 0.9983 - val_loss: 0.1051 - val_accuracy: 0.9621\n",
      " \n",
      "Iter:  2\n",
      " \n",
      "Epoch 1/5\n",
      "65/65 [==============================] - 2s 37ms/step - loss: 0.5159 - accuracy: 0.7551 - val_loss: 0.2288 - val_accuracy: 0.9328\n",
      "Epoch 2/5\n",
      "65/65 [==============================] - 2s 34ms/step - loss: 0.0905 - accuracy: 0.9686 - val_loss: 0.1266 - val_accuracy: 0.9447\n",
      "Epoch 3/5\n",
      "65/65 [==============================] - 2s 33ms/step - loss: 0.0236 - accuracy: 0.9943 - val_loss: 0.1196 - val_accuracy: 0.9534\n",
      "Epoch 4/5\n",
      "65/65 [==============================] - 2s 36ms/step - loss: 0.0098 - accuracy: 0.9980 - val_loss: 0.1199 - val_accuracy: 0.9599\n",
      "Epoch 5/5\n",
      "65/65 [==============================] - 3s 39ms/step - loss: 0.0061 - accuracy: 0.9987 - val_loss: 0.1335 - val_accuracy: 0.9512\n",
      " \n",
      "Iter:  3\n",
      " \n",
      "Epoch 1/5\n",
      "65/65 [==============================] - 2s 37ms/step - loss: 0.5552 - accuracy: 0.7109 - val_loss: 0.2879 - val_accuracy: 0.8917\n",
      "Epoch 2/5\n",
      "65/65 [==============================] - 2s 35ms/step - loss: 0.0976 - accuracy: 0.9680 - val_loss: 0.1219 - val_accuracy: 0.9415\n",
      "Epoch 3/5\n",
      "65/65 [==============================] - 2s 35ms/step - loss: 0.0257 - accuracy: 0.9929 - val_loss: 0.1240 - val_accuracy: 0.9426\n",
      "Epoch 4/5\n",
      "65/65 [==============================] - 2s 35ms/step - loss: 0.0118 - accuracy: 0.9970 - val_loss: 0.1337 - val_accuracy: 0.9426\n",
      "Epoch 5/5\n",
      "65/65 [==============================] - 2s 33ms/step - loss: 0.0062 - accuracy: 0.9983 - val_loss: 0.1395 - val_accuracy: 0.9404\n",
      " \n",
      "Iter:  4\n",
      " \n",
      "Epoch 1/5\n",
      "65/65 [==============================] - 2s 34ms/step - loss: 0.5225 - accuracy: 0.7553 - val_loss: 0.2176 - val_accuracy: 0.9177\n",
      "Epoch 2/5\n",
      "65/65 [==============================] - 2s 30ms/step - loss: 0.0971 - accuracy: 0.9664 - val_loss: 0.1123 - val_accuracy: 0.9545\n",
      "Epoch 3/5\n",
      "65/65 [==============================] - 2s 31ms/step - loss: 0.0249 - accuracy: 0.9925 - val_loss: 0.1111 - val_accuracy: 0.9567\n",
      "Epoch 4/5\n",
      "65/65 [==============================] - 2s 28ms/step - loss: 0.0102 - accuracy: 0.9981 - val_loss: 0.1120 - val_accuracy: 0.9545\n",
      "Epoch 5/5\n",
      "65/65 [==============================] - 2s 29ms/step - loss: 0.0063 - accuracy: 0.9984 - val_loss: 0.1198 - val_accuracy: 0.9577\n",
      " \n",
      "Iter:  5\n",
      " \n",
      "Epoch 1/5\n",
      "65/65 [==============================] - 2s 30ms/step - loss: 0.5119 - accuracy: 0.7625 - val_loss: 0.1568 - val_accuracy: 0.9534\n",
      "Epoch 2/5\n",
      "65/65 [==============================] - 2s 31ms/step - loss: 0.0900 - accuracy: 0.9694 - val_loss: 0.0825 - val_accuracy: 0.9729\n",
      "Epoch 3/5\n",
      "65/65 [==============================] - 2s 29ms/step - loss: 0.0254 - accuracy: 0.9916 - val_loss: 0.0897 - val_accuracy: 0.9696\n",
      "Epoch 4/5\n",
      "65/65 [==============================] - 2s 30ms/step - loss: 0.0107 - accuracy: 0.9975 - val_loss: 0.0882 - val_accuracy: 0.9751\n",
      "Epoch 5/5\n",
      "65/65 [==============================] - 2s 30ms/step - loss: 0.0065 - accuracy: 0.9987 - val_loss: 0.0920 - val_accuracy: 0.9751\n",
      " \n",
      "Iter:  6\n",
      " \n",
      "Epoch 1/5\n",
      "65/65 [==============================] - 2s 32ms/step - loss: 0.5713 - accuracy: 0.7392 - val_loss: 0.2236 - val_accuracy: 0.9360\n",
      "Epoch 2/5\n",
      "65/65 [==============================] - 2s 29ms/step - loss: 0.0998 - accuracy: 0.9670 - val_loss: 0.1184 - val_accuracy: 0.9555\n",
      "Epoch 3/5\n",
      "65/65 [==============================] - 2s 28ms/step - loss: 0.0243 - accuracy: 0.9921 - val_loss: 0.1097 - val_accuracy: 0.9566\n",
      "Epoch 4/5\n",
      "65/65 [==============================] - 2s 27ms/step - loss: 0.0102 - accuracy: 0.9976 - val_loss: 0.1145 - val_accuracy: 0.9555\n",
      "Epoch 5/5\n",
      "65/65 [==============================] - 2s 28ms/step - loss: 0.0063 - accuracy: 0.9984 - val_loss: 0.1168 - val_accuracy: 0.9610\n",
      " \n",
      "Iter:  7\n",
      " \n",
      "Epoch 1/5\n",
      "65/65 [==============================] - 2s 30ms/step - loss: 0.5429 - accuracy: 0.7515 - val_loss: 0.2185 - val_accuracy: 0.9241\n",
      "Epoch 2/5\n",
      "65/65 [==============================] - 2s 27ms/step - loss: 0.1050 - accuracy: 0.9654 - val_loss: 0.1125 - val_accuracy: 0.9577\n",
      "Epoch 3/5\n",
      "65/65 [==============================] - 2s 27ms/step - loss: 0.0273 - accuracy: 0.9923 - val_loss: 0.1205 - val_accuracy: 0.9469\n",
      "Epoch 4/5\n",
      "65/65 [==============================] - 2s 27ms/step - loss: 0.0118 - accuracy: 0.9976 - val_loss: 0.1016 - val_accuracy: 0.9577\n",
      "Epoch 5/5\n",
      "65/65 [==============================] - 2s 28ms/step - loss: 0.0073 - accuracy: 0.9982 - val_loss: 0.1335 - val_accuracy: 0.9436\n",
      " \n",
      "Iter:  8\n",
      " \n",
      "Epoch 1/5\n",
      "65/65 [==============================] - 2s 31ms/step - loss: 0.5905 - accuracy: 0.6755 - val_loss: 0.3518 - val_accuracy: 0.8948\n",
      "Epoch 2/5\n",
      "65/65 [==============================] - 2s 29ms/step - loss: 0.1182 - accuracy: 0.9624 - val_loss: 0.1361 - val_accuracy: 0.9588\n",
      "Epoch 3/5\n",
      "65/65 [==============================] - 2s 28ms/step - loss: 0.0313 - accuracy: 0.9914 - val_loss: 0.0888 - val_accuracy: 0.9729\n",
      "Epoch 4/5\n",
      "65/65 [==============================] - 2s 28ms/step - loss: 0.0137 - accuracy: 0.9975 - val_loss: 0.1363 - val_accuracy: 0.9458\n",
      "Epoch 5/5\n",
      "65/65 [==============================] - 2s 30ms/step - loss: 0.0074 - accuracy: 0.9989 - val_loss: 0.1471 - val_accuracy: 0.9414\n",
      " \n",
      "Iter:  9\n",
      " \n",
      "Epoch 1/5\n",
      "65/65 [==============================] - 2s 32ms/step - loss: 0.5306 - accuracy: 0.7352 - val_loss: 0.2518 - val_accuracy: 0.9035\n",
      "Epoch 2/5\n",
      "65/65 [==============================] - 2s 27ms/step - loss: 0.0830 - accuracy: 0.9727 - val_loss: 0.1504 - val_accuracy: 0.9295\n",
      "Epoch 3/5\n",
      "65/65 [==============================] - 2s 27ms/step - loss: 0.0216 - accuracy: 0.9935 - val_loss: 0.2109 - val_accuracy: 0.9013\n",
      "Epoch 4/5\n",
      "65/65 [==============================] - 2s 27ms/step - loss: 0.0095 - accuracy: 0.9976 - val_loss: 0.1879 - val_accuracy: 0.9273\n",
      "Epoch 5/5\n",
      "65/65 [==============================] - 2s 27ms/step - loss: 0.0062 - accuracy: 0.9984 - val_loss: 0.2179 - val_accuracy: 0.9143\n",
      " \n",
      "Iter:  10\n",
      " \n",
      "Epoch 1/5\n",
      "65/65 [==============================] - 2s 29ms/step - loss: 0.5485 - accuracy: 0.7357 - val_loss: 0.2061 - val_accuracy: 0.9338\n",
      "Epoch 2/5\n",
      "65/65 [==============================] - 2s 27ms/step - loss: 0.0927 - accuracy: 0.9698 - val_loss: 0.1642 - val_accuracy: 0.9349\n",
      "Epoch 3/5\n",
      "65/65 [==============================] - 2s 29ms/step - loss: 0.0224 - accuracy: 0.9940 - val_loss: 0.1550 - val_accuracy: 0.9436\n",
      "Epoch 4/5\n",
      "65/65 [==============================] - 2s 30ms/step - loss: 0.0088 - accuracy: 0.9983 - val_loss: 0.1659 - val_accuracy: 0.9436\n",
      "Epoch 5/5\n",
      "65/65 [==============================] - 2s 31ms/step - loss: 0.0054 - accuracy: 0.9987 - val_loss: 0.1577 - val_accuracy: 0.9458\n",
      " \n"
     ]
    }
   ],
   "source": [
    "kf = KFold(n_splits=10)\n",
    "val_accuracy = []\n",
    "index = []\n",
    "cont = 0\n",
    "\n",
    "for train_index, test_index in kf.split(Tweet_preprocessed):\n",
    "    cont += 1\n",
    "    \n",
    "    model = tf.keras.Sequential([\n",
    "    vectorize_layer,\n",
    "    tf.keras.layers.Embedding(\n",
    "        input_dim=len(vectorize_layer.get_vocabulary()),\n",
    "        output_dim=64,\n",
    "        mask_zero=True),\n",
    "    \n",
    "    tf.keras.layers.Conv1D(24,6, activation='relu'),\n",
    "    tf.keras.layers.MaxPooling1D(2),\n",
    "    tf.keras.layers.Flatten(),\n",
    "    \n",
    "    tf.keras.layers.Dense(20, activation='relu'),\n",
    "    tf.keras.layers.Dense(1, activation='sigmoid')   \n",
    "    \n",
    "    ])\n",
    "\n",
    "    model.compile(\n",
    "        optimizer= tf.keras.optimizers.Adam(),\n",
    "        loss=\"binary_crossentropy\",\n",
    "        metrics=['accuracy']\n",
    "    )\n",
    "    \n",
    "    \n",
    "    X_train, X_test = Tweet_preprocessed[train_index], Tweet_preprocessed[test_index]\n",
    "    y_train, y_test = sentiment[train_index], sentiment[test_index]\n",
    "    \n",
    "    print(\"Iter: \",cont)\n",
    "    print(\" \")\n",
    "    \n",
    "    fit = model.fit( X_train, y_train, epochs=5, batch_size=128 ,validation_data=(X_test, y_test)) \n",
    "    print(\" \")\n",
    "    val_accuracy.append(fit.history['val_accuracy'])\n",
    "    \n",
    "    index.append((train_index,test_index))"
   ]
  },
  {
   "cell_type": "code",
   "execution_count": 91,
   "metadata": {},
   "outputs": [
    {
     "name": "stdout",
     "output_type": "stream",
     "text": [
      " Fold: 0\tMédia: 0.9553629517555237\tStd: 0.010842901420988399 \n",
      " Fold: 1\tMédia: 0.9484290361404419\tStd: 0.009182937218660585 \n",
      " Fold: 2\tMédia: 0.9317443132400512\tStd: 0.020059430167125927 \n",
      " Fold: 3\tMédia: 0.9482123613357544\tStd: 0.015328050340583222 \n",
      " Fold: 4\tMédia: 0.9691973805427552\tStd: 0.00816264361625158 \n",
      " Fold: 5\tMédia: 0.9529284238815308\tStd: 0.008693036235205 \n",
      " Fold: 6\tMédia: 0.9459869980812072\tStd: 0.012335850527746918 \n",
      " Fold: 7\tMédia: 0.9427331805229187\tStd: 0.02636622921906469 \n",
      " Fold: 8\tMédia: 0.9151843667030335\tStd: 0.011689535045578252 \n",
      " Fold: 9\tMédia: 0.9403470873832702\tStd: 0.004946539361160757 \n"
     ]
    }
   ],
   "source": [
    "media_std(val_accuracy)"
   ]
  },
  {
   "cell_type": "code",
   "execution_count": 92,
   "metadata": {},
   "outputs": [
    {
     "data": {
      "image/png": "[encoded data removed]",
      "text/plain": [
       "<Figure size 864x432 with 1 Axes>"
      ]
     },
     "metadata": {
      "needs_background": "light"
     },
     "output_type": "display_data"
    }
   ],
   "source": [
    "plt.figure(figsize=(12,6))\n",
    "plt.plot(fit.history['loss'], label='Loss', color='darkred')\n",
    "plt.plot(fit.history['val_loss'], label='Val Loss', color='green')\n",
    "plt.legend()\n",
    "plt.grid()\n",
    "plt.ylabel('Loss')\n",
    "plt.show()"
   ]
  },
  {
   "cell_type": "code",
   "execution_count": 93,
   "metadata": {},
   "outputs": [
    {
     "data": {
      "image/png": "[encoded data removed]",
      "text/plain": [
       "<Figure size 864x432 with 1 Axes>"
      ]
     },
     "metadata": {
      "needs_background": "light"
     },
     "output_type": "display_data"
    }
   ],
   "source": [
    "plt.figure(figsize=(12,6))\n",
    "plt.plot(fit.history['accuracy'], label='accuracy', color='darkred')\n",
    "plt.plot(fit.history['val_accuracy'], label='Val accuracy', color='green')\n",
    "plt.legend()\n",
    "plt.grid()\n",
    "plt.ylabel('Accuracy')\n",
    "plt.show()"
   ]
  },
  {
   "cell_type": "code",
   "execution_count": null,
   "metadata": {},
   "outputs": [],
   "source": []
  }
 ],
 "metadata": {
  "kernelspec": {
   "display_name": "Python 3",
   "language": "python",
   "name": "python3"
  },
  "language_info": {
   "codemirror_mode": {
    "name": "ipython",
    "version": 3
   },
   "file_extension": ".py",
   "mimetype": "text/x-python",
   "name": "python",
   "nbconvert_exporter": "python",
   "pygments_lexer": "ipython3",
   "version": "3.7.9"
  }
 },
 "nbformat": 4,
 "nbformat_minor": 4
}
